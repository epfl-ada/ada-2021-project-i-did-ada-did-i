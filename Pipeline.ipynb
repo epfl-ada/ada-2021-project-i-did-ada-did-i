{
  "nbformat": 4,
  "nbformat_minor": 5,
  "metadata": {
    "colab": {
      "name": "Pipeline.ipynb",
      "provenance": [],
      "collapsed_sections": [
        "asFKAikJRb6d",
        "T6U337IMRoHi",
        "8jhabGmPRrG7"
      ],
      "toc_visible": true
    },
    "kernelspec": {
      "display_name": "Python [conda env:ada] *",
      "language": "python",
      "name": "conda-env-ada-py"
    },
    "language_info": {
      "codemirror_mode": {
        "name": "ipython",
        "version": 3
      },
      "file_extension": ".py",
      "mimetype": "text/x-python",
      "name": "python",
      "nbconvert_exporter": "python",
      "pygments_lexer": "ipython3",
      "version": "3.8.11"
    }
  },
  "cells": [
    {
      "cell_type": "markdown",
      "metadata": {
        "id": "718c829d-a156-4c6f-8102-a47fbe43ddc4"
      },
      "source": [
        "# Proposed pipeline"
      ],
      "id": "718c829d-a156-4c6f-8102-a47fbe43ddc4"
    },
    {
      "cell_type": "markdown",
      "metadata": {
        "id": "6f58b18c-b3c4-41a7-a7fb-ba11a1b435cc"
      },
      "source": [
        "## A) Loading the data"
      ],
      "id": "6f58b18c-b3c4-41a7-a7fb-ba11a1b435cc"
    },
    {
      "cell_type": "markdown",
      "metadata": {
        "id": "XesiVsJzZDWF"
      },
      "source": [
        "### 1. Quotebank"
      ],
      "id": "XesiVsJzZDWF"
    },
    {
      "cell_type": "code",
      "metadata": {
        "colab": {
          "base_uri": "https://localhost:8080/"
        },
        "id": "AE0Dnnxuyiq5",
        "outputId": "667711b7-22af-415a-ddd0-95c7794a127b"
      },
      "source": [
        "!pip install pandas==1.0.5"
      ],
      "id": "AE0Dnnxuyiq5",
      "execution_count": null,
      "outputs": [
        {
          "output_type": "stream",
          "name": "stdout",
          "text": [
            "Requirement already satisfied: pandas==1.0.5 in /usr/local/lib/python3.7/dist-packages (1.0.5)\n",
            "Requirement already satisfied: pytz>=2017.2 in /usr/local/lib/python3.7/dist-packages (from pandas==1.0.5) (2018.9)\n",
            "Requirement already satisfied: python-dateutil>=2.6.1 in /usr/local/lib/python3.7/dist-packages (from pandas==1.0.5) (2.8.2)\n",
            "Requirement already satisfied: numpy>=1.13.3 in /usr/local/lib/python3.7/dist-packages (from pandas==1.0.5) (1.19.5)\n",
            "Requirement already satisfied: six>=1.5 in /usr/local/lib/python3.7/dist-packages (from python-dateutil>=2.6.1->pandas==1.0.5) (1.15.0)\n"
          ]
        }
      ]
    },
    {
      "cell_type": "code",
      "metadata": {
        "colab": {
          "base_uri": "https://localhost:8080/"
        },
        "id": "hk5xa0msRwNe",
        "outputId": "201f876a-8a97-4990-cfea-28a2b8390027"
      },
      "source": [
        "!pip install tld"
      ],
      "id": "hk5xa0msRwNe",
      "execution_count": null,
      "outputs": [
        {
          "output_type": "stream",
          "name": "stdout",
          "text": [
            "Requirement already satisfied: tld in /usr/local/lib/python3.7/dist-packages (0.12.6)\n"
          ]
        }
      ]
    },
    {
      "cell_type": "code",
      "metadata": {
        "colab": {
          "base_uri": "https://localhost:8080/"
        },
        "id": "0H_-gPqAYI01",
        "outputId": "7f5ce461-eb27-4448-ee74-2f6e2227cb14"
      },
      "source": [
        "from google.colab import drive\n",
        "drive.mount('/content/drive')\n",
        "\n",
        "import bz2\n",
        "import json\n",
        "import copy\n",
        "import pandas as pd\n",
        "import warnings\n",
        "import numpy as np\n",
        "import matplotlib.pyplot as plt\n",
        "import seaborn as sns\n",
        "import requests\n",
        "from bs4 import BeautifulSoup as soup\n",
        "import urllib.request as ul\n",
        "from collections import Counter\n",
        "from tld import get_fld\n",
        "import string\n",
        "import os\n",
        "import nltk\n",
        "\n",
        "nltk.download('stopwords')\n",
        "nltk.download(\"punkt\")\n",
        "nltk.download('vader_lexicon')\n",
        "nltk.download('wordnet')\n",
        "\n",
        "from nltk.sentiment import SentimentIntensityAnalyzer  # VADER is better for short sentences, but we only have this so we use just that.\n",
        "from nltk.tokenize import word_tokenize\n",
        "from nltk.corpus import stopwords\n",
        "from nltk.stem import WordNetLemmatizer\n",
        "\n",
        "drive = '/content/drive/MyDrive/ADA-shared/'"
      ],
      "id": "0H_-gPqAYI01",
      "execution_count": null,
      "outputs": [
        {
          "output_type": "stream",
          "name": "stdout",
          "text": [
            "Drive already mounted at /content/drive; to attempt to forcibly remount, call drive.mount(\"/content/drive\", force_remount=True).\n",
            "[nltk_data] Downloading package stopwords to /root/nltk_data...\n",
            "[nltk_data]   Package stopwords is already up-to-date!\n",
            "[nltk_data] Downloading package punkt to /root/nltk_data...\n",
            "[nltk_data]   Package punkt is already up-to-date!\n",
            "[nltk_data] Downloading package vader_lexicon to /root/nltk_data...\n",
            "[nltk_data]   Package vader_lexicon is already up-to-date!\n",
            "[nltk_data] Downloading package wordnet to /root/nltk_data...\n",
            "[nltk_data]   Package wordnet is already up-to-date!\n"
          ]
        },
        {
          "output_type": "stream",
          "name": "stderr",
          "text": [
            "/usr/local/lib/python3.7/dist-packages/nltk/twitter/__init__.py:20: UserWarning: The twython library has not been installed. Some functionality from the twitter package will not be available.\n",
            "  warnings.warn(\"The twython library has not been installed. \"\n"
          ]
        }
      ]
    },
    {
      "cell_type": "code",
      "metadata": {
        "colab": {
          "base_uri": "https://localhost:8080/",
          "height": 35
        },
        "id": "mqkbmYdsyDzX",
        "outputId": "30d612cb-3a70-4c0e-8f09-d2ee76ac0857"
      },
      "source": [
        "pd.__version__"
      ],
      "id": "mqkbmYdsyDzX",
      "execution_count": null,
      "outputs": [
        {
          "data": {
            "application/vnd.google.colaboratory.intrinsic+json": {
              "type": "string"
            },
            "text/plain": [
              "'1.0.5'"
            ]
          },
          "execution_count": 5,
          "metadata": {},
          "output_type": "execute_result"
        }
      ]
    },
    {
      "cell_type": "code",
      "metadata": {
        "colab": {
          "base_uri": "https://localhost:8080/",
          "height": 642
        },
        "id": "cuONXghXYYEx",
        "outputId": "a3f7c7a8-d487-49a5-9384-b3aa1e03f77a"
      },
      "source": [
        "# Load & format quotes from 2020\n",
        "path_to_file = drive + 'Quotebank/quotes-2020.json.bz2' \n",
        "\n",
        "list_of_quotes_dict = []\n",
        "count = 0\n",
        "sample_size = 10000  # Sample chosen for current experiments\n",
        "\n",
        "# Open the 2020 quotebank\n",
        "with bz2.open(path_to_file, 'rb') as s_file:\n",
        "    for instance in s_file:\n",
        "        if count == sample_size:\n",
        "            break\n",
        "        #print(instance)\n",
        "        decoded = json.loads(instance.decode('utf-8'))  # Decode each instance into a dictionary\n",
        "        #print(decoded[\"quoteID\"])\n",
        "        list_of_quotes_dict.append(decoded)\n",
        "        count += 1\n",
        "\n",
        "df_quotes = pd.DataFrame(list_of_quotes_dict)  # Turn list of entries into dataframe\n",
        "df_quotes.head()"
      ],
      "id": "cuONXghXYYEx",
      "execution_count": null,
      "outputs": [
        {
          "data": {
            "text/html": [
              "<div>\n",
              "<style scoped>\n",
              "    .dataframe tbody tr th:only-of-type {\n",
              "        vertical-align: middle;\n",
              "    }\n",
              "\n",
              "    .dataframe tbody tr th {\n",
              "        vertical-align: top;\n",
              "    }\n",
              "\n",
              "    .dataframe thead th {\n",
              "        text-align: right;\n",
              "    }\n",
              "</style>\n",
              "<table border=\"1\" class=\"dataframe\">\n",
              "  <thead>\n",
              "    <tr style=\"text-align: right;\">\n",
              "      <th style=\"min-width: {};\"></th>\n",
              "      <th style=\"min-width: {};\">quoteID</th>\n",
              "      <th style=\"min-width: {};\">quotation</th>\n",
              "      <th style=\"min-width: {};\">speaker</th>\n",
              "      <th style=\"min-width: {};\">qids</th>\n",
              "      <th style=\"min-width: {};\">date</th>\n",
              "      <th style=\"min-width: {};\">numOccurrences</th>\n",
              "      <th style=\"min-width: {};\">probas</th>\n",
              "      <th style=\"min-width: {};\">urls</th>\n",
              "      <th style=\"min-width: {};\">phase</th>\n",
              "    </tr>\n",
              "  </thead>\n",
              "  <tbody>\n",
              "    <tr>\n",
              "      <th>0</th>\n",
              "      <td>2020-01-28-000082</td>\n",
              "      <td>[ D ] espite the efforts of the partners to cr...</td>\n",
              "      <td>None</td>\n",
              "      <td>[]</td>\n",
              "      <td>2020-01-28 08:04:05</td>\n",
              "      <td>1</td>\n",
              "      <td>[[None, 0.7272], [Prime Minister Netanyahu, 0....</td>\n",
              "      <td>[http://israelnationalnews.com/News/News.aspx/...</td>\n",
              "      <td>E</td>\n",
              "    </tr>\n",
              "    <tr>\n",
              "      <th>1</th>\n",
              "      <td>2020-01-16-000088</td>\n",
              "      <td>[ Department of Homeland Security ] was livid ...</td>\n",
              "      <td>Sue Myrick</td>\n",
              "      <td>[Q367796]</td>\n",
              "      <td>2020-01-16 12:00:13</td>\n",
              "      <td>1</td>\n",
              "      <td>[[Sue Myrick, 0.8867], [None, 0.0992], [Ron Wy...</td>\n",
              "      <td>[http://thehill.com/opinion/international/4782...</td>\n",
              "      <td>E</td>\n",
              "    </tr>\n",
              "    <tr>\n",
              "      <th>2</th>\n",
              "      <td>2020-02-10-000142</td>\n",
              "      <td>... He (Madhav) also disclosed that the illega...</td>\n",
              "      <td>None</td>\n",
              "      <td>[]</td>\n",
              "      <td>2020-02-10 23:45:54</td>\n",
              "      <td>1</td>\n",
              "      <td>[[None, 0.8926], [Prakash Rai, 0.1074]]</td>\n",
              "      <td>[https://indianexpress.com/article/business/ec...</td>\n",
              "      <td>E</td>\n",
              "    </tr>\n",
              "    <tr>\n",
              "      <th>3</th>\n",
              "      <td>2020-02-15-000053</td>\n",
              "      <td>... [ I ] f it gets to the floor,</td>\n",
              "      <td>None</td>\n",
              "      <td>[]</td>\n",
              "      <td>2020-02-15 14:12:51</td>\n",
              "      <td>2</td>\n",
              "      <td>[[None, 0.581], [Andy Harris, 0.4191]]</td>\n",
              "      <td>[https://patriotpost.us/opinion/68622-trump-bu...</td>\n",
              "      <td>E</td>\n",
              "    </tr>\n",
              "    <tr>\n",
              "      <th>4</th>\n",
              "      <td>2020-01-24-000168</td>\n",
              "      <td>[ I met them ] when they just turned 4 and 7. ...</td>\n",
              "      <td>Meghan King Edmonds</td>\n",
              "      <td>[Q20684375]</td>\n",
              "      <td>2020-01-24 20:37:09</td>\n",
              "      <td>4</td>\n",
              "      <td>[[Meghan King Edmonds, 0.5446], [None, 0.2705]...</td>\n",
              "      <td>[https://people.com/parents/meghan-king-edmond...</td>\n",
              "      <td>E</td>\n",
              "    </tr>\n",
              "  </tbody>\n",
              "</table>\n",
              "</div>"
            ],
            "text/plain": [
              "             quoteID  ... phase\n",
              "0  2020-01-28-000082  ...     E\n",
              "1  2020-01-16-000088  ...     E\n",
              "2  2020-02-10-000142  ...     E\n",
              "3  2020-02-15-000053  ...     E\n",
              "4  2020-01-24-000168  ...     E\n",
              "\n",
              "[5 rows x 9 columns]"
            ]
          },
          "execution_count": 5,
          "metadata": {},
          "output_type": "execute_result"
        }
      ]
    },
    {
      "cell_type": "code",
      "metadata": {
        "colab": {
          "base_uri": "https://localhost:8080/"
        },
        "id": "Q31R0GjsmFUP",
        "outputId": "a287c4c9-e7f0-4c39-916e-8708033e15c4"
      },
      "source": [
        "df_quotes.loc[0:4,'urls'].tolist()"
      ],
      "id": "Q31R0GjsmFUP",
      "execution_count": null,
      "outputs": [
        {
          "data": {
            "text/plain": [
              "[['http://israelnationalnews.com/News/News.aspx/275210'],\n",
              " ['http://thehill.com/opinion/international/478224-saudi-critics-should-revisit-sue-myricks-wake-up-america-agenda'],\n",
              " ['https://indianexpress.com/article/business/economy/cbi-to-court-gst-officials-taking-cut-from-transporters-6261429/'],\n",
              " ['https://patriotpost.us/opinion/68622-trump-budget-a-cut-above-the-rest-2020-02-15',\n",
              "  'https://www.lifenews.com/2020/02/15/nancy-pelosi-and-democrats-push-bill-to-overturn-every-pro-life-law-saving-babies-from-abortions/'],\n",
              " ['https://people.com/parents/meghan-king-edmonds-not-using-frozen-embryos-with-jim-edmonds/',\n",
              "  'https://people.com/parents/meghan-king-edmonds-stepkids-poisoned-false-information-about-her-jim-edmonds/',\n",
              "  'https://www.usmagazine.com/celebrity-news/news/meghan-king-edmonds-says-shes-been-blocked-from-stepkids/',\n",
              "  'https://people.com/tv/meghan-king-edmonds-jim-edmonds-came-with-baggage-kids/']]"
            ]
          },
          "execution_count": 6,
          "metadata": {},
          "output_type": "execute_result"
        }
      ]
    },
    {
      "cell_type": "markdown",
      "metadata": {
        "id": "RFwxb1BwZGmK"
      },
      "source": [
        "### 2. Wikidata\n",
        "\n"
      ],
      "id": "RFwxb1BwZGmK"
    },
    {
      "cell_type": "code",
      "metadata": {
        "id": "ymYSIcOjZKAE"
      },
      "source": [
        "# Load the speaker attributes \n",
        "wikidata_speakers = pd.read_parquet('/content/drive/MyDrive/ADA/Project datasets/speaker_attributes.parquet')"
      ],
      "id": "ymYSIcOjZKAE",
      "execution_count": null,
      "outputs": []
    },
    {
      "cell_type": "code",
      "metadata": {
        "colab": {
          "base_uri": "https://localhost:8080/",
          "height": 765
        },
        "id": "RfgsQW2woggT",
        "outputId": "c0643a5e-e2a8-4860-dfc3-70bd9137b1b0"
      },
      "source": [
        "wikidata_speakers.sample(10)"
      ],
      "id": "RfgsQW2woggT",
      "execution_count": null,
      "outputs": [
        {
          "data": {
            "text/html": [
              "<div>\n",
              "<style scoped>\n",
              "    .dataframe tbody tr th:only-of-type {\n",
              "        vertical-align: middle;\n",
              "    }\n",
              "\n",
              "    .dataframe tbody tr th {\n",
              "        vertical-align: top;\n",
              "    }\n",
              "\n",
              "    .dataframe thead th {\n",
              "        text-align: right;\n",
              "    }\n",
              "</style>\n",
              "<table border=\"1\" class=\"dataframe\">\n",
              "  <thead>\n",
              "    <tr style=\"text-align: right;\">\n",
              "      <th></th>\n",
              "      <th>aliases</th>\n",
              "      <th>date_of_birth</th>\n",
              "      <th>nationality</th>\n",
              "      <th>gender</th>\n",
              "      <th>lastrevid</th>\n",
              "      <th>ethnic_group</th>\n",
              "      <th>US_congress_bio_ID</th>\n",
              "      <th>occupation</th>\n",
              "      <th>party</th>\n",
              "      <th>academic_degree</th>\n",
              "      <th>id</th>\n",
              "      <th>label</th>\n",
              "      <th>candidacy</th>\n",
              "      <th>type</th>\n",
              "      <th>religion</th>\n",
              "    </tr>\n",
              "  </thead>\n",
              "  <tbody>\n",
              "    <tr>\n",
              "      <th>8449672</th>\n",
              "      <td>None</td>\n",
              "      <td>None</td>\n",
              "      <td>None</td>\n",
              "      <td>[Q6581097]</td>\n",
              "      <td>1396359692</td>\n",
              "      <td>None</td>\n",
              "      <td>None</td>\n",
              "      <td>[Q1650915]</td>\n",
              "      <td>None</td>\n",
              "      <td>None</td>\n",
              "      <td>Q51972841</td>\n",
              "      <td>Peter J. Moate</td>\n",
              "      <td>None</td>\n",
              "      <td>item</td>\n",
              "      <td>None</td>\n",
              "    </tr>\n",
              "    <tr>\n",
              "      <th>5238655</th>\n",
              "      <td>None</td>\n",
              "      <td>[+1929-01-01T00:00:00Z]</td>\n",
              "      <td>None</td>\n",
              "      <td>[Q6581072]</td>\n",
              "      <td>1298830204</td>\n",
              "      <td>None</td>\n",
              "      <td>None</td>\n",
              "      <td>None</td>\n",
              "      <td>None</td>\n",
              "      <td>None</td>\n",
              "      <td>Q75570834</td>\n",
              "      <td>Claudia Mary Beverley Grigson</td>\n",
              "      <td>None</td>\n",
              "      <td>item</td>\n",
              "      <td>None</td>\n",
              "    </tr>\n",
              "    <tr>\n",
              "      <th>3826726</th>\n",
              "      <td>[Jiří Budovec, Jiri Vaclav Klima]</td>\n",
              "      <td>[+1874-03-13T00:00:00Z]</td>\n",
              "      <td>[Q28513, Q33946]</td>\n",
              "      <td>[Q6581097]</td>\n",
              "      <td>1396047841</td>\n",
              "      <td>[Q15916203]</td>\n",
              "      <td>None</td>\n",
              "      <td>[Q1231865, Q333634, Q5758653]</td>\n",
              "      <td>None</td>\n",
              "      <td>None</td>\n",
              "      <td>Q29843709</td>\n",
              "      <td>Jiří Václav Klíma</td>\n",
              "      <td>None</td>\n",
              "      <td>item</td>\n",
              "      <td>None</td>\n",
              "    </tr>\n",
              "    <tr>\n",
              "      <th>8238829</th>\n",
              "      <td>[Sir John Ingilby, 1st Bt.]</td>\n",
              "      <td>[+1758-05-09T00:00:00Z]</td>\n",
              "      <td>None</td>\n",
              "      <td>[Q6581097]</td>\n",
              "      <td>1364588285</td>\n",
              "      <td>None</td>\n",
              "      <td>None</td>\n",
              "      <td>[Q82955]</td>\n",
              "      <td>None</td>\n",
              "      <td>None</td>\n",
              "      <td>Q16843296</td>\n",
              "      <td>Sir John Ingilby, 1st Baronet</td>\n",
              "      <td>None</td>\n",
              "      <td>item</td>\n",
              "      <td>None</td>\n",
              "    </tr>\n",
              "    <tr>\n",
              "      <th>467020</th>\n",
              "      <td>None</td>\n",
              "      <td>[+1911-09-26T00:00:00Z]</td>\n",
              "      <td>[Q148]</td>\n",
              "      <td>[Q6581097]</td>\n",
              "      <td>1311330177</td>\n",
              "      <td>None</td>\n",
              "      <td>None</td>\n",
              "      <td>[Q11513337]</td>\n",
              "      <td>None</td>\n",
              "      <td>None</td>\n",
              "      <td>Q45321245</td>\n",
              "      <td>Situ Guong</td>\n",
              "      <td>None</td>\n",
              "      <td>item</td>\n",
              "      <td>None</td>\n",
              "    </tr>\n",
              "    <tr>\n",
              "      <th>7721189</th>\n",
              "      <td>None</td>\n",
              "      <td>[+1925-00-00T00:00:00Z]</td>\n",
              "      <td>None</td>\n",
              "      <td>[Q6581097]</td>\n",
              "      <td>1207674402</td>\n",
              "      <td>None</td>\n",
              "      <td>None</td>\n",
              "      <td>[Q202883]</td>\n",
              "      <td>None</td>\n",
              "      <td>None</td>\n",
              "      <td>Q94890910</td>\n",
              "      <td>Dieter Otto Schmid</td>\n",
              "      <td>None</td>\n",
              "      <td>item</td>\n",
              "      <td>None</td>\n",
              "    </tr>\n",
              "    <tr>\n",
              "      <th>4559815</th>\n",
              "      <td>None</td>\n",
              "      <td>[+1971-12-07T00:00:00Z]</td>\n",
              "      <td>[Q16]</td>\n",
              "      <td>[Q6581097]</td>\n",
              "      <td>1343145330</td>\n",
              "      <td>None</td>\n",
              "      <td>None</td>\n",
              "      <td>[Q13141064]</td>\n",
              "      <td>None</td>\n",
              "      <td>None</td>\n",
              "      <td>Q909783</td>\n",
              "      <td>Brent Olynyk</td>\n",
              "      <td>None</td>\n",
              "      <td>item</td>\n",
              "      <td>None</td>\n",
              "    </tr>\n",
              "    <tr>\n",
              "      <th>36699</th>\n",
              "      <td>[Gustave Edwards, Gustav Schmelowsky]</td>\n",
              "      <td>[+1879-08-18T00:00:00Z, +1878-08-18T00:00:00Z]</td>\n",
              "      <td>[Q30]</td>\n",
              "      <td>[Q6581097]</td>\n",
              "      <td>1347204151</td>\n",
              "      <td>None</td>\n",
              "      <td>None</td>\n",
              "      <td>[Q36834, Q753110]</td>\n",
              "      <td>None</td>\n",
              "      <td>None</td>\n",
              "      <td>Q1106834</td>\n",
              "      <td>Gus Edwards</td>\n",
              "      <td>None</td>\n",
              "      <td>item</td>\n",
              "      <td>None</td>\n",
              "    </tr>\n",
              "    <tr>\n",
              "      <th>8348744</th>\n",
              "      <td>None</td>\n",
              "      <td>[+1981-10-18T00:00:00Z]</td>\n",
              "      <td>[Q77]</td>\n",
              "      <td>[Q6581097]</td>\n",
              "      <td>1394281717</td>\n",
              "      <td>None</td>\n",
              "      <td>None</td>\n",
              "      <td>[Q82955, Q43845]</td>\n",
              "      <td>[Q1430823]</td>\n",
              "      <td>None</td>\n",
              "      <td>Q28920973</td>\n",
              "      <td>Francisco Sanabria Barrios</td>\n",
              "      <td>None</td>\n",
              "      <td>item</td>\n",
              "      <td>None</td>\n",
              "    </tr>\n",
              "    <tr>\n",
              "      <th>5772237</th>\n",
              "      <td>[Diana Apcar]</td>\n",
              "      <td>[+1859-10-12T00:00:00Z]</td>\n",
              "      <td>[Q129286, Q139670]</td>\n",
              "      <td>[Q6581072]</td>\n",
              "      <td>1394150606</td>\n",
              "      <td>[Q79797]</td>\n",
              "      <td>None</td>\n",
              "      <td>[Q82955, Q36180, Q193391, Q6051619, Q12144794]</td>\n",
              "      <td>None</td>\n",
              "      <td>None</td>\n",
              "      <td>Q4054419</td>\n",
              "      <td>Diana Abgar</td>\n",
              "      <td>None</td>\n",
              "      <td>item</td>\n",
              "      <td>None</td>\n",
              "    </tr>\n",
              "  </tbody>\n",
              "</table>\n",
              "</div>"
            ],
            "text/plain": [
              "                                       aliases  ... religion\n",
              "8449672                                   None  ...     None\n",
              "5238655                                   None  ...     None\n",
              "3826726      [Jiří Budovec, Jiri Vaclav Klima]  ...     None\n",
              "8238829            [Sir John Ingilby, 1st Bt.]  ...     None\n",
              "467020                                    None  ...     None\n",
              "7721189                                   None  ...     None\n",
              "4559815                                   None  ...     None\n",
              "36699    [Gustave Edwards, Gustav Schmelowsky]  ...     None\n",
              "8348744                                   None  ...     None\n",
              "5772237                          [Diana Apcar]  ...     None\n",
              "\n",
              "[10 rows x 15 columns]"
            ]
          },
          "execution_count": 10,
          "metadata": {},
          "output_type": "execute_result"
        }
      ]
    },
    {
      "cell_type": "markdown",
      "metadata": {
        "id": "mT0PuiX7WG-O"
      },
      "source": [
        "## B) Data exploration"
      ],
      "id": "mT0PuiX7WG-O"
    },
    {
      "cell_type": "markdown",
      "metadata": {
        "id": "3tJUwgkMQcGG"
      },
      "source": [
        "### 1. Frequency of domains"
      ],
      "id": "3tJUwgkMQcGG"
    },
    {
      "cell_type": "markdown",
      "metadata": {
        "id": "2xd-x839Q7ZF"
      },
      "source": [
        "We want to compute the number of quotes per news outlet in order to choose the most important for our analysis.\n",
        "\n",
        "The first step is to extract the domain from the url. For this task we use the tld library."
      ],
      "id": "2xd-x839Q7ZF"
    },
    {
      "cell_type": "markdown",
      "metadata": {
        "id": "lSbzytTpR38Q"
      },
      "source": [
        "The `get_domain` function return the domain name from a url.\n",
        "\n",
        "Example: `get_domain(\"https://stackoverflow.com/questions/ \")` returns stackoverflow.com\n",
        "\n",
        "The `domain_counting` function takes the list of urls of one quotes and count the number of domains using `get_domain` and the function `Counter` from the library Collection."
      ],
      "id": "lSbzytTpR38Q"
    },
    {
      "cell_type": "code",
      "metadata": {
        "id": "FUHl0HpIjGK1"
      },
      "source": [
        "def get_domain(url):\n",
        "    return get_fld(url)\n",
        "\n",
        "def domain_counting(urls):\n",
        "    domain_list = [get_domain(url) for url in urls] #we store the domain in this list\n",
        "    return Counter(domain_list)"
      ],
      "id": "FUHl0HpIjGK1",
      "execution_count": null,
      "outputs": []
    },
    {
      "cell_type": "markdown",
      "metadata": {
        "id": "zs85SoLvY6w6"
      },
      "source": [
        "We now count the number of quotes per news outlet per year and save this data to external csv files, such that we can easily access it again. This code takes a long time to run and, in practice, was run in parallel on several machines to save some time."
      ],
      "id": "zs85SoLvY6w6"
    },
    {
      "cell_type": "code",
      "metadata": {
        "id": "6vl8daAYklh6"
      },
      "source": [
        "def count_domains_per_year():\n",
        "\n",
        "    path_domains_count = drive + \"Domains_count/\"\n",
        "    if not os.path.exists(path_domains_count):\n",
        "        os.makedirs(path_domains_count)\n",
        "\n",
        "    years = range(2015, 2021)\n",
        "\n",
        "    for year in years:\n",
        "\n",
        "        path_to_file = drive + 'Quotebank/quotes-'+ str(year) + '.json.bz2' \n",
        "        domains_count = Counter()\n",
        "        iterations_counter = 0\n",
        "        df_test = pd.read_json(path_to_file, lines=True, compression='bz2', chunksize=100) #code used to load the data by chunks\n",
        "\n",
        "        for chunk in df_test:\n",
        "\n",
        "            if iterations_counter % 1000 == 0:\n",
        "                print(\"Processing chunk\", iterations_counter, \"of year\", year)\n",
        "\n",
        "            domains = chunk['urls'].apply(domain_counting)\n",
        "            domains_count = domains_count + domains.sum() # chunk['urls'].apply(..) return a series containing the result of Counter(domain_list), so we have to use .sum() to obtain a Counter object.\n",
        "            iterations_counter += 1\n",
        "\n",
        "            if iterations_counter % 10000 == 0:\n",
        "                # Write domains to file every 1 million quotes as intermediate backup in case colab decides to stop running\n",
        "                print(\"Processing chunk \" + str(iterations_counter) + \" of year \" + str(year) + \"...\")\n",
        "                ordered_domains_count_list = domains_count.most_common()\n",
        "                filename = path_domains_count + \"domains_count_\" + str(year) + \"_\" + str(iterations_counter) + \".csv\"\n",
        "                with open(filename, 'w') as f:\n",
        "                    for dom, c in ordered_domains_count_list:\n",
        "                        f.write(\"{},{}\\n\".format(dom, c))\n",
        "                    f.close()\n",
        "\n",
        "                print(\"Saved domains count for year \" + str(year) + \" chunks \" + str(iterations_counter))\n",
        "\n",
        "        # Write final count to file\n",
        "        ordered_domains_count_list = domains_count.most_common()\n",
        "        filename = path_domains_count + \"domains_count_\" + str(year) + \"_final.csv\"\n",
        "        with open(filename, 'w') as f:\n",
        "            for dom, c in ordered_domains_count_list:\n",
        "                f.write(\"{},{}\\n\".format(dom, c))\n",
        "            f.close()\n",
        "\n",
        "        print(\"Saved final domains count for year \" + str(year))\n"
      ],
      "id": "6vl8daAYklh6",
      "execution_count": null,
      "outputs": []
    },
    {
      "cell_type": "code",
      "metadata": {
        "id": "N80y8axwHkcF"
      },
      "source": [
        "#count_domains_per_year()"
      ],
      "id": "N80y8axwHkcF",
      "execution_count": null,
      "outputs": []
    },
    {
      "cell_type": "markdown",
      "metadata": {
        "id": "5s3pgMbGSg7o"
      },
      "source": [
        "### 2. Wikidata\n",
        "\n"
      ],
      "id": "5s3pgMbGSg7o"
    },
    {
      "cell_type": "markdown",
      "metadata": {
        "id": "2FV51WO-oAIn"
      },
      "source": [
        "#### Check how many QIDs there are per speaker:\n",
        "\n",
        "With a sample consisting of the first 10,000 quotes of the 2020 dataset, we can read from the histogram that there is a majority of speakers who have no wikidata page (3425), and one wikidata page (4832). Then the frequency of QID number decreases rapidly (682 for two QID, 285 for three...), however there are still 9 speakers having 20 different QIDs and one speaker with 257 (whose name is *Wang Yi*, current maximum). We will need to figure out a solution for dealing with the speakers having more than one QID. "
      ],
      "id": "2FV51WO-oAIn"
    },
    {
      "cell_type": "code",
      "metadata": {
        "colab": {
          "base_uri": "https://localhost:8080/",
          "height": 295
        },
        "id": "HY04RJircwbt",
        "outputId": "96f0a5c1-27fb-438a-b20e-8b4200ea25f6"
      },
      "source": [
        "# Check QID list's length of every loaded quotes \n",
        "length_qids = np.zeros(len(df_quotes))\n",
        "for idx, qids in enumerate(df_quotes[\"qids\"].values):\n",
        "  length_qids[idx] = len(qids)\n",
        "# Plot a histogram with log-scale on Y axis\n",
        "plt.hist(length_qids, bins=int(np.max(length_qids)))\n",
        "plt.yscale('log')\n",
        "plt.grid('on')\n",
        "plt.xlabel(\"Number of QID elements per speaker\")\n",
        "plt.ylabel(\"Frequency (log-scale)\")\n",
        "plt.title(\"Histogram of the number of QID per speaker\")\n",
        "#plt.xlim(0, 30) # Uncomment for focusing on a specific region \n",
        "plt.show()"
      ],
      "id": "HY04RJircwbt",
      "execution_count": null,
      "outputs": [
        {
          "data": {
            "image/png": "[encoded data removed]",
            "text/plain": [
              "<Figure size 432x288 with 1 Axes>"
            ]
          },
          "metadata": {},
          "output_type": "display_data"
        }
      ]
    },
    {
      "cell_type": "code",
      "metadata": {
        "colab": {
          "base_uri": "https://localhost:8080/",
          "height": 203
        },
        "id": "Le4mUaL0lOoV",
        "outputId": "fcbd57ab-89f3-4c42-9d03-cf0d6263c8a4"
      },
      "source": [
        "# Display the frequency using a dataframe instead of a histogram\n",
        "val, freq = np.unique(length_qids, return_counts=True)\n",
        "df_QID_freq = pd.DataFrame(data={\"Nb. of QID\":val, \"Frequency\":freq})\n",
        "df_QID_freq.head(5)"
      ],
      "id": "Le4mUaL0lOoV",
      "execution_count": null,
      "outputs": [
        {
          "data": {
            "text/html": [
              "<div>\n",
              "<style scoped>\n",
              "    .dataframe tbody tr th:only-of-type {\n",
              "        vertical-align: middle;\n",
              "    }\n",
              "\n",
              "    .dataframe tbody tr th {\n",
              "        vertical-align: top;\n",
              "    }\n",
              "\n",
              "    .dataframe thead th {\n",
              "        text-align: right;\n",
              "    }\n",
              "</style>\n",
              "<table border=\"1\" class=\"dataframe\">\n",
              "  <thead>\n",
              "    <tr style=\"text-align: right;\">\n",
              "      <th></th>\n",
              "      <th>Nb. of QID</th>\n",
              "      <th>Frequency</th>\n",
              "    </tr>\n",
              "  </thead>\n",
              "  <tbody>\n",
              "    <tr>\n",
              "      <th>0</th>\n",
              "      <td>0.0</td>\n",
              "      <td>3425</td>\n",
              "    </tr>\n",
              "    <tr>\n",
              "      <th>1</th>\n",
              "      <td>1.0</td>\n",
              "      <td>4832</td>\n",
              "    </tr>\n",
              "    <tr>\n",
              "      <th>2</th>\n",
              "      <td>2.0</td>\n",
              "      <td>663</td>\n",
              "    </tr>\n",
              "    <tr>\n",
              "      <th>3</th>\n",
              "      <td>3.0</td>\n",
              "      <td>285</td>\n",
              "    </tr>\n",
              "    <tr>\n",
              "      <th>4</th>\n",
              "      <td>4.0</td>\n",
              "      <td>170</td>\n",
              "    </tr>\n",
              "  </tbody>\n",
              "</table>\n",
              "</div>"
            ],
            "text/plain": [
              "   Nb. of QID  Frequency\n",
              "0         0.0       3425\n",
              "1         1.0       4832\n",
              "2         2.0        663\n",
              "3         3.0        285\n",
              "4         4.0        170"
            ]
          },
          "execution_count": 14,
          "metadata": {},
          "output_type": "execute_result"
        }
      ]
    },
    {
      "cell_type": "markdown",
      "metadata": {
        "id": "rb_U0pJQ2KYj"
      },
      "source": [
        "#### Load the human interpretable labels"
      ],
      "id": "rb_U0pJQ2KYj"
    },
    {
      "cell_type": "code",
      "metadata": {
        "colab": {
          "base_uri": "https://localhost:8080/",
          "height": 206
        },
        "id": "Jfi6eNRd2V6h",
        "outputId": "afd3b643-5ca8-4a82-f1fc-b3ff0d309bd4"
      },
      "source": [
        "path_to_file = '/content/drive/MyDrive/ADA/Project datasets/wikidata_labels_descriptions_quotebank.csv.bz2'\n",
        "# Directly use the built-in pandas function as the CSV is quite small \n",
        "df_labels_wiki = pd.read_csv(path_to_file,  encoding='utf-8', compression=\"bz2\")\n",
        "df_labels_wiki.head(5)"
      ],
      "id": "Jfi6eNRd2V6h",
      "execution_count": null,
      "outputs": [
        {
          "data": {
            "text/html": [
              "<div>\n",
              "<style scoped>\n",
              "    .dataframe tbody tr th:only-of-type {\n",
              "        vertical-align: middle;\n",
              "    }\n",
              "\n",
              "    .dataframe tbody tr th {\n",
              "        vertical-align: top;\n",
              "    }\n",
              "\n",
              "    .dataframe thead th {\n",
              "        text-align: right;\n",
              "    }\n",
              "</style>\n",
              "<table border=\"1\" class=\"dataframe\">\n",
              "  <thead>\n",
              "    <tr style=\"text-align: right;\">\n",
              "      <th></th>\n",
              "      <th>QID</th>\n",
              "      <th>Label</th>\n",
              "      <th>Description</th>\n",
              "    </tr>\n",
              "  </thead>\n",
              "  <tbody>\n",
              "    <tr>\n",
              "      <th>0</th>\n",
              "      <td>Q31</td>\n",
              "      <td>Belgium</td>\n",
              "      <td>country in western Europe</td>\n",
              "    </tr>\n",
              "    <tr>\n",
              "      <th>1</th>\n",
              "      <td>Q45</td>\n",
              "      <td>Portugal</td>\n",
              "      <td>country in southwestern Europe</td>\n",
              "    </tr>\n",
              "    <tr>\n",
              "      <th>2</th>\n",
              "      <td>Q75</td>\n",
              "      <td>Internet</td>\n",
              "      <td>global system of connected computer networks</td>\n",
              "    </tr>\n",
              "    <tr>\n",
              "      <th>3</th>\n",
              "      <td>Q148</td>\n",
              "      <td>People's Republic of China</td>\n",
              "      <td>sovereign state in East Asia</td>\n",
              "    </tr>\n",
              "    <tr>\n",
              "      <th>4</th>\n",
              "      <td>Q155</td>\n",
              "      <td>Brazil</td>\n",
              "      <td>country in South America</td>\n",
              "    </tr>\n",
              "  </tbody>\n",
              "</table>\n",
              "</div>"
            ],
            "text/plain": [
              "    QID  ...                                   Description\n",
              "0   Q31  ...                     country in western Europe\n",
              "1   Q45  ...                country in southwestern Europe\n",
              "2   Q75  ...  global system of connected computer networks\n",
              "3  Q148  ...                  sovereign state in East Asia\n",
              "4  Q155  ...                      country in South America\n",
              "\n",
              "[5 rows x 3 columns]"
            ]
          },
          "execution_count": 11,
          "metadata": {},
          "output_type": "execute_result"
        }
      ]
    },
    {
      "cell_type": "markdown",
      "metadata": {
        "id": "idplwSqSTGeR"
      },
      "source": [
        "The function `retrieve_wikidata_properties` simply returns the wikidata properties of the given person."
      ],
      "id": "idplwSqSTGeR"
    },
    {
      "cell_type": "code",
      "metadata": {
        "id": "sKnuNufOY9zI"
      },
      "source": [
        "def retrieve_wikidata_properties(person):\n",
        "  # This function simply returns the wikidata properties of the given person\n",
        "  return wikidata_speakers[wikidata_speakers[\"id\"]==person]"
      ],
      "id": "sKnuNufOY9zI",
      "execution_count": null,
      "outputs": []
    },
    {
      "cell_type": "markdown",
      "metadata": {
        "id": "3I9LFOlSTlS9"
      },
      "source": [
        "The function `human_readable_properties` converts the QIDs into human readable format."
      ],
      "id": "3I9LFOlSTlS9"
    },
    {
      "cell_type": "code",
      "metadata": {
        "id": "zK4gM8npsP9Y"
      },
      "source": [
        "def human_readable_properties(data, property):\n",
        "  list_QID = (data.iloc[0][property])\n",
        "  list_values = []\n",
        "  # Start by testing whether there is value\n",
        "  if not(list_QID is None):\n",
        "    # As there might be several values per property, we iterate on them\n",
        "    for idx, QID in enumerate(list_QID):\n",
        "      # Check whether the QID is corrupted, i.e. do not start by Q or less than two characters \n",
        "      if len(QID) >= 2 and QID[0] == 'Q':\n",
        "        # Retrieve the Label (not description) of the QID item in the dataframe containing wikidata label\n",
        "        # In df_labels_wiki, select the row that corresponds to the QID of interst \n",
        "        selector = df_labels_wiki[\"QID\"] == QID \n",
        "        # Then extract the label of the QID/item of interest\n",
        "        list_values.append(df_labels_wiki[selector].iloc[0][\"Label\"])\n",
        "      else:\n",
        "        warnings.warn(\"This is a corrupted QID, no value is returned!\")\n",
        "    return list_values\n",
        "  else:\n",
        "    warnings.warn(\"There is no value for this property!\")\n",
        "    return None  "
      ],
      "id": "zK4gM8npsP9Y",
      "execution_count": null,
      "outputs": []
    },
    {
      "cell_type": "markdown",
      "metadata": {
        "id": "EHuixGYMWK2U"
      },
      "source": [
        "## C) Data preparation"
      ],
      "id": "EHuixGYMWK2U"
    },
    {
      "cell_type": "markdown",
      "metadata": {
        "id": "Dj0GTIluPOV8"
      },
      "source": [
        "### 1. Get each speaker's vocabulary"
      ],
      "id": "Dj0GTIluPOV8"
    },
    {
      "cell_type": "markdown",
      "metadata": {
        "id": "4b549892-64b6-4244-806d-57187fbcd962"
      },
      "source": [
        "#### I) Tokenise the sentences (turn them into single words)\n",
        "\n",
        "* [Some interesting information on tokenization](https://towardsdatascience.com/overview-of-nlp-tokenization-algorithms-c41a7d5ec4f9)\n",
        "* [Multi-Word Expression tokenizer](https://www.nltk.org/_modules/nltk/tokenize/mwe.html)"
      ],
      "id": "4b549892-64b6-4244-806d-57187fbcd962"
    },
    {
      "cell_type": "code",
      "metadata": {
        "colab": {
          "base_uri": "https://localhost:8080/",
          "height": 405
        },
        "id": "f88da2ff-3939-4cee-a7ad-4775de89537d",
        "outputId": "7e8f2607-cf44-4673-f628-df2d98cb3756"
      },
      "source": [
        "df_quotes[\"tokenized_quote\"] = df_quotes.quotation.apply(word_tokenize)  # Tokenize quotes and add them in the dataframe as new column\n",
        "df_quotes.head()"
      ],
      "id": "f88da2ff-3939-4cee-a7ad-4775de89537d",
      "execution_count": null,
      "outputs": [
        {
          "data": {
            "text/html": [
              "<div>\n",
              "<style scoped>\n",
              "    .dataframe tbody tr th:only-of-type {\n",
              "        vertical-align: middle;\n",
              "    }\n",
              "\n",
              "    .dataframe tbody tr th {\n",
              "        vertical-align: top;\n",
              "    }\n",
              "\n",
              "    .dataframe thead th {\n",
              "        text-align: right;\n",
              "    }\n",
              "</style>\n",
              "<table border=\"1\" class=\"dataframe\">\n",
              "  <thead>\n",
              "    <tr style=\"text-align: right;\">\n",
              "      <th></th>\n",
              "      <th>quoteID</th>\n",
              "      <th>quotation</th>\n",
              "      <th>speaker</th>\n",
              "      <th>qids</th>\n",
              "      <th>date</th>\n",
              "      <th>numOccurrences</th>\n",
              "      <th>probas</th>\n",
              "      <th>urls</th>\n",
              "      <th>phase</th>\n",
              "      <th>tokenized_quote</th>\n",
              "      <th>sentiment</th>\n",
              "    </tr>\n",
              "  </thead>\n",
              "  <tbody>\n",
              "    <tr>\n",
              "      <th>0</th>\n",
              "      <td>2020-01-28-000082</td>\n",
              "      <td>[ D ] espite the efforts of the partners to cr...</td>\n",
              "      <td>None</td>\n",
              "      <td>[]</td>\n",
              "      <td>2020-01-28 08:04:05</td>\n",
              "      <td>1</td>\n",
              "      <td>[[None, 0.7272], [Prime Minister Netanyahu, 0....</td>\n",
              "      <td>[http://israelnationalnews.com/News/News.aspx/...</td>\n",
              "      <td>E</td>\n",
              "      <td>[[, D, ], espite, the, efforts, of, the, partn...</td>\n",
              "      <td>{'neg': 0.0, 'neu': 0.768, 'pos': 0.232, 'comp...</td>\n",
              "    </tr>\n",
              "    <tr>\n",
              "      <th>1</th>\n",
              "      <td>2020-01-16-000088</td>\n",
              "      <td>[ Department of Homeland Security ] was livid ...</td>\n",
              "      <td>Sue Myrick</td>\n",
              "      <td>[Q367796]</td>\n",
              "      <td>2020-01-16 12:00:13</td>\n",
              "      <td>1</td>\n",
              "      <td>[[Sue Myrick, 0.8867], [None, 0.0992], [Ron Wy...</td>\n",
              "      <td>[http://thehill.com/opinion/international/4782...</td>\n",
              "      <td>E</td>\n",
              "      <td>[[, Department, of, Homeland, Security, ], was...</td>\n",
              "      <td>{'neg': 0.184, 'neu': 0.579, 'pos': 0.237, 'co...</td>\n",
              "    </tr>\n",
              "    <tr>\n",
              "      <th>2</th>\n",
              "      <td>2020-02-10-000142</td>\n",
              "      <td>... He (Madhav) also disclosed that the illega...</td>\n",
              "      <td>None</td>\n",
              "      <td>[]</td>\n",
              "      <td>2020-02-10 23:45:54</td>\n",
              "      <td>1</td>\n",
              "      <td>[[None, 0.8926], [Prakash Rai, 0.1074]]</td>\n",
              "      <td>[https://indianexpress.com/article/business/ec...</td>\n",
              "      <td>E</td>\n",
              "      <td>[..., He, (, Madhav, ), also, disclosed, that,...</td>\n",
              "      <td>{'neg': 0.113, 'neu': 0.84, 'pos': 0.046, 'com...</td>\n",
              "    </tr>\n",
              "    <tr>\n",
              "      <th>3</th>\n",
              "      <td>2020-02-15-000053</td>\n",
              "      <td>... [ I ] f it gets to the floor,</td>\n",
              "      <td>None</td>\n",
              "      <td>[]</td>\n",
              "      <td>2020-02-15 14:12:51</td>\n",
              "      <td>2</td>\n",
              "      <td>[[None, 0.581], [Andy Harris, 0.4191]]</td>\n",
              "      <td>[https://patriotpost.us/opinion/68622-trump-bu...</td>\n",
              "      <td>E</td>\n",
              "      <td>[..., [, I, ], f, it, gets, to, the, floor, ,]</td>\n",
              "      <td>{'neg': 0.0, 'neu': 1.0, 'pos': 0.0, 'compound...</td>\n",
              "    </tr>\n",
              "    <tr>\n",
              "      <th>4</th>\n",
              "      <td>2020-01-24-000168</td>\n",
              "      <td>[ I met them ] when they just turned 4 and 7. ...</td>\n",
              "      <td>Meghan King Edmonds</td>\n",
              "      <td>[Q20684375]</td>\n",
              "      <td>2020-01-24 20:37:09</td>\n",
              "      <td>4</td>\n",
              "      <td>[[Meghan King Edmonds, 0.5446], [None, 0.2705]...</td>\n",
              "      <td>[https://people.com/parents/meghan-king-edmond...</td>\n",
              "      <td>E</td>\n",
              "      <td>[[, I, met, them, ], when, they, just, turned,...</td>\n",
              "      <td>{'neg': 0.0, 'neu': 0.877, 'pos': 0.123, 'comp...</td>\n",
              "    </tr>\n",
              "  </tbody>\n",
              "</table>\n",
              "</div>"
            ],
            "text/plain": [
              "             quoteID  ...                                          sentiment\n",
              "0  2020-01-28-000082  ...  {'neg': 0.0, 'neu': 0.768, 'pos': 0.232, 'comp...\n",
              "1  2020-01-16-000088  ...  {'neg': 0.184, 'neu': 0.579, 'pos': 0.237, 'co...\n",
              "2  2020-02-10-000142  ...  {'neg': 0.113, 'neu': 0.84, 'pos': 0.046, 'com...\n",
              "3  2020-02-15-000053  ...  {'neg': 0.0, 'neu': 1.0, 'pos': 0.0, 'compound...\n",
              "4  2020-01-24-000168  ...  {'neg': 0.0, 'neu': 0.877, 'pos': 0.123, 'comp...\n",
              "\n",
              "[5 rows x 11 columns]"
            ]
          },
          "execution_count": 49,
          "metadata": {},
          "output_type": "execute_result"
        }
      ]
    },
    {
      "cell_type": "markdown",
      "metadata": {
        "id": "FR6ucqZLJJ-O"
      },
      "source": [
        "Issue to solve: We need to find a way to reconstruct such abbreviated words like in the cell below..."
      ],
      "id": "FR6ucqZLJJ-O"
    },
    {
      "cell_type": "code",
      "metadata": {
        "colab": {
          "base_uri": "https://localhost:8080/"
        },
        "id": "6DV7ynXuJBUf",
        "outputId": "4e02565c-ff0b-4df7-c572-fa68b2bde366"
      },
      "source": [
        "word_tokenize(\"it's, they're, can't\")"
      ],
      "id": "6DV7ynXuJBUf",
      "execution_count": null,
      "outputs": [
        {
          "data": {
            "text/plain": [
              "['it', \"'s\", ',', 'they', \"'re\", ',', 'ca', \"n't\"]"
            ]
          },
          "execution_count": 23,
          "metadata": {},
          "output_type": "execute_result"
        }
      ]
    },
    {
      "cell_type": "markdown",
      "metadata": {
        "id": "wd7LHvuHcK4X"
      },
      "source": [
        "Issue to solve: Handle words or letter in squared brackets, as we can see in the next cell\n",
        "* Single letter likely to belong to next word\n",
        "* One or more words in these brackets were not spoken by the speaker"
      ],
      "id": "wd7LHvuHcK4X"
    },
    {
      "cell_type": "code",
      "metadata": {
        "colab": {
          "base_uri": "https://localhost:8080/"
        },
        "id": "Urj7cQEEc4jw",
        "outputId": "55eb2ba9-e235-4b40-b6e1-a823c2472baa"
      },
      "source": [
        "df_quotes.loc[0][[\"quotation\", \"tokenized_quote\"]]"
      ],
      "id": "Urj7cQEEc4jw",
      "execution_count": null,
      "outputs": [
        {
          "data": {
            "text/plain": [
              "quotation          [ D ] espite the efforts of the partners to cr...\n",
              "tokenized_quote    [[, D, ], espite, the, efforts, of, the, partn...\n",
              "Name: 0, dtype: object"
            ]
          },
          "execution_count": 50,
          "metadata": {},
          "output_type": "execute_result"
        }
      ]
    },
    {
      "cell_type": "markdown",
      "metadata": {
        "id": "3NRt5zaCYKHA"
      },
      "source": [
        "#### II) Sentiment analysis"
      ],
      "id": "3NRt5zaCYKHA"
    },
    {
      "cell_type": "code",
      "metadata": {
        "colab": {
          "base_uri": "https://localhost:8080/"
        },
        "id": "Qvrir6JY_m0T",
        "outputId": "9563ab67-f788-44d1-9b8a-c3e2f6c2b269"
      },
      "source": [
        "sia = SentimentIntensityAnalyzer()\n",
        "#sia.polarity_scores(\"Hi, how are you?\")\n",
        "#sia.polarity_scores(\"Wow, NLTK is really powerful!\")\n",
        "sia.polarity_scores(\"You are a piece of shit!!\")  # Just a test for a negative sentence. Don't take it personnally"
      ],
      "id": "Qvrir6JY_m0T",
      "execution_count": null,
      "outputs": [
        {
          "name": "stdout",
          "output_type": "stream",
          "text": [
            "[nltk_data] Downloading package vader_lexicon to /root/nltk_data...\n",
            "[nltk_data]   Package vader_lexicon is already up-to-date!\n"
          ]
        },
        {
          "data": {
            "text/plain": [
              "{'compound': -0.6351, 'neg': 0.511, 'neu': 0.489, 'pos': 0.0}"
            ]
          },
          "execution_count": 27,
          "metadata": {},
          "output_type": "execute_result"
        }
      ]
    },
    {
      "cell_type": "code",
      "metadata": {
        "colab": {
          "base_uri": "https://localhost:8080/"
        },
        "id": "CFh0cOFSYSyI",
        "outputId": "7c08360c-5845-4e61-8229-ff2a08101c1c"
      },
      "source": [
        "df_quotes[\"sentiment\"] = df_quotes.quotation.apply(sia.polarity_scores)\n",
        "df_quotes.sentiment.head()"
      ],
      "id": "CFh0cOFSYSyI",
      "execution_count": null,
      "outputs": [
        {
          "data": {
            "text/plain": [
              "0    {'neg': 0.0, 'neu': 0.768, 'pos': 0.232, 'comp...\n",
              "1    {'neg': 0.184, 'neu': 0.579, 'pos': 0.237, 'co...\n",
              "2    {'neg': 0.113, 'neu': 0.84, 'pos': 0.046, 'com...\n",
              "3    {'neg': 0.0, 'neu': 1.0, 'pos': 0.0, 'compound...\n",
              "4    {'neg': 0.0, 'neu': 0.877, 'pos': 0.123, 'comp...\n",
              "Name: sentiment, dtype: object"
            ]
          },
          "execution_count": 28,
          "metadata": {},
          "output_type": "execute_result"
        }
      ]
    },
    {
      "cell_type": "markdown",
      "metadata": {
        "id": "9793a4a3-f51c-4777-ac02-703c1a1493ae"
      },
      "source": [
        "#### III) Remove punctuation and stopwords, lowercase everything"
      ],
      "id": "9793a4a3-f51c-4777-ac02-703c1a1493ae"
    },
    {
      "cell_type": "code",
      "metadata": {
        "colab": {
          "base_uri": "https://localhost:8080/",
          "height": 203
        },
        "id": "f773f9eb-1e66-4283-b677-fbdaef0581aa",
        "outputId": "5f7b7f28-e80b-4d83-a67a-165355938a47"
      },
      "source": [
        "#should be easy enough, don't mess it up\n",
        "\n",
        "EN_STOPWORDS = set(stopwords.words(\"english\"))  # English stopwords\n",
        "PUNCTUATION = set(string.punctuation)  # Punctuation\n",
        "\n",
        "def lowercase(l):\n",
        "    return [w.lower() for w in l]\n",
        "\n",
        "def remove_stopwords(l):\n",
        "    return [w for w in l if w.lower() not in EN_STOPWORDS]\n",
        "\n",
        "def remove_punctuation(l):\n",
        "    return [w for w in l if w not in PUNCTUATION]\n",
        "\n",
        "def process_tokens(l):\n",
        "    l = lowercase(l)  # Lowercase tokens\n",
        "    l = remove_stopwords(l)   # Remove stopwords from tokens\n",
        "    l = remove_punctuation(l)  # Remove punctuation from tokens\n",
        "    return l\n",
        "\n",
        "df_quotes[\"tokenized_quote\"] = df_quotes.tokenized_quote.apply(process_tokens)\n",
        "df_quotes[[\"quotation\", \"tokenized_quote\"]].head()"
      ],
      "id": "f773f9eb-1e66-4283-b677-fbdaef0581aa",
      "execution_count": null,
      "outputs": [
        {
          "data": {
            "text/html": [
              "<div>\n",
              "<style scoped>\n",
              "    .dataframe tbody tr th:only-of-type {\n",
              "        vertical-align: middle;\n",
              "    }\n",
              "\n",
              "    .dataframe tbody tr th {\n",
              "        vertical-align: top;\n",
              "    }\n",
              "\n",
              "    .dataframe thead th {\n",
              "        text-align: right;\n",
              "    }\n",
              "</style>\n",
              "<table border=\"1\" class=\"dataframe\">\n",
              "  <thead>\n",
              "    <tr style=\"text-align: right;\">\n",
              "      <th></th>\n",
              "      <th>quotation</th>\n",
              "      <th>tokenized_quote</th>\n",
              "    </tr>\n",
              "  </thead>\n",
              "  <tbody>\n",
              "    <tr>\n",
              "      <th>0</th>\n",
              "      <td>[ D ] espite the efforts of the partners to cr...</td>\n",
              "      <td>[espite, efforts, partners, create, non-politi...</td>\n",
              "    </tr>\n",
              "    <tr>\n",
              "      <th>1</th>\n",
              "      <td>[ Department of Homeland Security ] was livid ...</td>\n",
              "      <td>[department, homeland, security, livid, strong...</td>\n",
              "    </tr>\n",
              "    <tr>\n",
              "      <th>2</th>\n",
              "      <td>... He (Madhav) also disclosed that the illega...</td>\n",
              "      <td>[..., madhav, also, disclosed, illegal, bribe,...</td>\n",
              "    </tr>\n",
              "    <tr>\n",
              "      <th>3</th>\n",
              "      <td>... [ I ] f it gets to the floor,</td>\n",
              "      <td>[..., f, gets, floor]</td>\n",
              "    </tr>\n",
              "    <tr>\n",
              "      <th>4</th>\n",
              "      <td>[ I met them ] when they just turned 4 and 7. ...</td>\n",
              "      <td>[met, turned, 4, 7, little, felt, like, full-b...</td>\n",
              "    </tr>\n",
              "  </tbody>\n",
              "</table>\n",
              "</div>"
            ],
            "text/plain": [
              "                                           quotation                                    tokenized_quote\n",
              "0  [ D ] espite the efforts of the partners to cr...  [espite, efforts, partners, create, non-politi...\n",
              "1  [ Department of Homeland Security ] was livid ...  [department, homeland, security, livid, strong...\n",
              "2  ... He (Madhav) also disclosed that the illega...  [..., madhav, also, disclosed, illegal, bribe,...\n",
              "3                  ... [ I ] f it gets to the floor,                              [..., f, gets, floor]\n",
              "4  [ I met them ] when they just turned 4 and 7. ...  [met, turned, 4, 7, little, felt, like, full-b..."
            ]
          },
          "execution_count": 51,
          "metadata": {},
          "output_type": "execute_result"
        }
      ]
    },
    {
      "cell_type": "markdown",
      "metadata": {
        "id": "5480330b-861d-4771-9109-ce1231250c7d"
      },
      "source": [
        "#### IV) Lemmatize the words (i.e. {'eating', 'eat', 'ate'} -> \"eat\")\n",
        "* [Source](https://www.datacamp.com/community/tutorials/stemming-lemmatization-python)"
      ],
      "id": "5480330b-861d-4771-9109-ce1231250c7d"
    },
    {
      "cell_type": "code",
      "metadata": {
        "colab": {
          "base_uri": "https://localhost:8080/",
          "height": 203
        },
        "id": "3bdd0370-09fa-494b-bda3-3ab87e7807bb",
        "outputId": "c7372026-e21f-4624-f963-ebd424a1e924"
      },
      "source": [
        "WNL = WordNetLemmatizer()\n",
        "\n",
        "def lem_words(l):\n",
        "    return [WNL.lemmatize(w, pos='v') for w in l]  # POS = part-of-speech, used to give context to the lemmatizer ('v' -> verb)\n",
        "\n",
        "df_quotes[\"tokenized_quote\"] = df_quotes.tokenized_quote.apply(lem_words)  # Lemmatize tokens\n",
        "df_quotes[[\"quotation\", \"tokenized_quote\"]].head()"
      ],
      "id": "3bdd0370-09fa-494b-bda3-3ab87e7807bb",
      "execution_count": null,
      "outputs": [
        {
          "data": {
            "text/html": [
              "<div>\n",
              "<style scoped>\n",
              "    .dataframe tbody tr th:only-of-type {\n",
              "        vertical-align: middle;\n",
              "    }\n",
              "\n",
              "    .dataframe tbody tr th {\n",
              "        vertical-align: top;\n",
              "    }\n",
              "\n",
              "    .dataframe thead th {\n",
              "        text-align: right;\n",
              "    }\n",
              "</style>\n",
              "<table border=\"1\" class=\"dataframe\">\n",
              "  <thead>\n",
              "    <tr style=\"text-align: right;\">\n",
              "      <th></th>\n",
              "      <th>quotation</th>\n",
              "      <th>tokenized_quote</th>\n",
              "    </tr>\n",
              "  </thead>\n",
              "  <tbody>\n",
              "    <tr>\n",
              "      <th>0</th>\n",
              "      <td>[ D ] espite the efforts of the partners to cr...</td>\n",
              "      <td>[espite, efforts, partner, create, non-politic...</td>\n",
              "    </tr>\n",
              "    <tr>\n",
              "      <th>1</th>\n",
              "      <td>[ Department of Homeland Security ] was livid ...</td>\n",
              "      <td>[department, homeland, security, livid, strong...</td>\n",
              "    </tr>\n",
              "    <tr>\n",
              "      <th>2</th>\n",
              "      <td>... He (Madhav) also disclosed that the illega...</td>\n",
              "      <td>[..., madhav, also, disclose, illegal, bribe, ...</td>\n",
              "    </tr>\n",
              "    <tr>\n",
              "      <th>3</th>\n",
              "      <td>... [ I ] f it gets to the floor,</td>\n",
              "      <td>[..., f, get, floor]</td>\n",
              "    </tr>\n",
              "    <tr>\n",
              "      <th>4</th>\n",
              "      <td>[ I met them ] when they just turned 4 and 7. ...</td>\n",
              "      <td>[meet, turn, 4, 7, little, felt, like, full-bl...</td>\n",
              "    </tr>\n",
              "  </tbody>\n",
              "</table>\n",
              "</div>"
            ],
            "text/plain": [
              "                                           quotation                                    tokenized_quote\n",
              "0  [ D ] espite the efforts of the partners to cr...  [espite, efforts, partner, create, non-politic...\n",
              "1  [ Department of Homeland Security ] was livid ...  [department, homeland, security, livid, strong...\n",
              "2  ... He (Madhav) also disclosed that the illega...  [..., madhav, also, disclose, illegal, bribe, ...\n",
              "3                  ... [ I ] f it gets to the floor,                               [..., f, get, floor]\n",
              "4  [ I met them ] when they just turned 4 and 7. ...  [meet, turn, 4, 7, little, felt, like, full-bl..."
            ]
          },
          "execution_count": 52,
          "metadata": {},
          "output_type": "execute_result"
        }
      ]
    },
    {
      "cell_type": "markdown",
      "metadata": {
        "id": "p60gp9kNRg3e"
      },
      "source": [
        "#### V) Pool tokens by speaker"
      ],
      "id": "p60gp9kNRg3e"
    },
    {
      "cell_type": "code",
      "metadata": {
        "id": "jXxcCFmQR6d0"
      },
      "source": [
        "# TODO"
      ],
      "id": "jXxcCFmQR6d0",
      "execution_count": null,
      "outputs": []
    },
    {
      "cell_type": "markdown",
      "metadata": {
        "id": "b5bd42cd-f039-4f3c-8a8b-0c7a3f20116c"
      },
      "source": [
        "### 2. Assign an 'importance' score to each word"
      ],
      "id": "b5bd42cd-f039-4f3c-8a8b-0c7a3f20116c"
    },
    {
      "cell_type": "markdown",
      "metadata": {
        "id": "k-joRKQnYqVd"
      },
      "source": [
        "#### I) Cambridge dictionary CEFR score and register"
      ],
      "id": "k-joRKQnYqVd"
    },
    {
      "cell_type": "code",
      "metadata": {
        "id": "YdsbflcL0Ns2"
      },
      "source": [
        "def retrieve_CEFR_levels_registers(word):\n",
        "  \"\"\" Functions that retrives the ECFR level of the given word as well as its register\n",
        "      Input: \n",
        "        word - a string the word you want to inspect \n",
        "      Output: \n",
        "        levels - a numpy array containing strings, if empty no info was available\n",
        "        registers - a list of strings, if empty no info was available\n",
        "  \"\"\"\n",
        "  # Make a request to Cambridge dictionnary - simply add \"word\" to the url  \n",
        "  url = 'https://dictionary.cambridge.org/dictionary/english/'+word\n",
        "  # Websites don't like it when bots connect to them, so we have to pretend being a web browser! \n",
        "  req = ul.Request(url, headers={'User-Agent': 'Mozilla/5.0'})\n",
        "  client = ul.urlopen(req)\n",
        "  # Read and store data into htmldata \n",
        "  htmldata = client.read()\n",
        "  client.close()\n",
        "\n",
        "  # Create a beautiful soup element and parse it as an html file\n",
        "  parsed_page = soup(htmldata, \"html.parser\")\n",
        "\n",
        "  # A bit of backgrond:\n",
        "  # In order to display the ECFR classification, the website uses <span> tags with a unique CSS class\n",
        "  # The class is called \"epp-xref dxref XX\", where XX is any of the levels A1 to C2\n",
        "  # Now we use 'bs4.find_all' to retrieve all span tag with the given class \n",
        "  # If none are returned, it means the level is not contained in the word \n",
        "\n",
        "  # Tag specific to the ECFR classification CSS class  \n",
        "  class_name_level = \"epp-xref dxref \" \n",
        "\n",
        "  # The ECFR classification spans from A1 to C2, test for each case\n",
        "  cases = np.array([\"A1\", \"A2\", \"B1\", \"B2\", \"C1\", \"C2\"])\n",
        "  # We store the results in a bool vector from A1 to C2, corresponding to the level of the word  \n",
        "  results = []\n",
        "  for case in cases:\n",
        "    # This checks how many times the case is present on page\n",
        "    occurences = len(parsed_page.find_all(\"span\", class_= class_name_level+case))\n",
        "    # If the case is present more than 0 times, then the word can be classified in the given case \n",
        "    if occurences > 0:\n",
        "      results.append(True)\n",
        "    else: \n",
        "      results.append(False) \n",
        "\n",
        "  # Now let's retrieve the registers\n",
        "  # We can apply the same strategy, the register of the word is contained in CSS class \"usage dusage\"\n",
        "\n",
        "  class_name_register = \"usage dusage\"\n",
        "  parsed_registers = parsed_page.find_all(\"span\", class_=class_name_register)\n",
        "  registers = []\n",
        "  for register in parsed_registers:\n",
        "    # Simply extract the information between the tags \"span\" with class class_name_register\n",
        "    registers.append(register.string)\n",
        "\n",
        "  return cases[results], registers"
      ],
      "id": "YdsbflcL0Ns2",
      "execution_count": null,
      "outputs": []
    },
    {
      "cell_type": "code",
      "metadata": {
        "colab": {
          "base_uri": "https://localhost:8080/"
        },
        "id": "vvSFU4ORe6pE",
        "outputId": "cec5a977-cc5f-4ce6-8412-2cc252f7a498"
      },
      "source": [
        "# Add line for the word you want to look for \n",
        "levels, reg = retrieve_CEFR_levels_registers(\"exhaustive\")\n",
        "print(levels, reg)"
      ],
      "id": "vvSFU4ORe6pE",
      "execution_count": null,
      "outputs": [
        {
          "name": "stdout",
          "output_type": "stream",
          "text": [
            "['C1'] []\n"
          ]
        }
      ]
    },
    {
      "cell_type": "markdown",
      "metadata": {
        "id": "ZvxRXiOFvfvU"
      },
      "source": [
        "#### II) CEFR level of sentences\n",
        "\n",
        "Try to implement something similar to `retrieve_ECFR_levels_registers(word)` using the web site [English Profile](http://englishprofile.org/wordlists/text-inspector) for analysing a whole sentence and get the CEFR level of each word (may be better for analysing whole quotes, and does not require stemming.)"
      ],
      "id": "ZvxRXiOFvfvU"
    },
    {
      "cell_type": "code",
      "metadata": {
        "id": "DtLZnP7KxwYA"
      },
      "source": [
        "# TODO Quentin, give it a try and see how far I can go "
      ],
      "id": "DtLZnP7KxwYA",
      "execution_count": null,
      "outputs": []
    },
    {
      "cell_type": "markdown",
      "metadata": {
        "id": "WAsd1jJCZkNM"
      },
      "source": [
        "### 3. Create a vocabulary specific to each category in interest"
      ],
      "id": "WAsd1jJCZkNM"
    },
    {
      "cell_type": "markdown",
      "metadata": {
        "id": "YsCo8ib4Z0Pr"
      },
      "source": [
        "#### Classify speakers into categories of interest\n",
        "\n",
        "* Each speaker can belong to multiple categories"
      ],
      "id": "YsCo8ib4Z0Pr"
    },
    {
      "cell_type": "code",
      "metadata": {
        "colab": {
          "base_uri": "https://localhost:8080/",
          "height": 710
        },
        "id": "RfuNEu7YaHdH",
        "outputId": "2e5167e3-6b37-46b8-913d-a879a540eda8"
      },
      "source": [
        "df_quotes.sample(10)"
      ],
      "id": "RfuNEu7YaHdH",
      "execution_count": null,
      "outputs": [
        {
          "data": {
            "text/html": [
              "<div>\n",
              "<style scoped>\n",
              "    .dataframe tbody tr th:only-of-type {\n",
              "        vertical-align: middle;\n",
              "    }\n",
              "\n",
              "    .dataframe tbody tr th {\n",
              "        vertical-align: top;\n",
              "    }\n",
              "\n",
              "    .dataframe thead th {\n",
              "        text-align: right;\n",
              "    }\n",
              "</style>\n",
              "<table border=\"1\" class=\"dataframe\">\n",
              "  <thead>\n",
              "    <tr style=\"text-align: right;\">\n",
              "      <th></th>\n",
              "      <th>quoteID</th>\n",
              "      <th>quotation</th>\n",
              "      <th>speaker</th>\n",
              "      <th>qids</th>\n",
              "      <th>date</th>\n",
              "      <th>numOccurrences</th>\n",
              "      <th>probas</th>\n",
              "      <th>urls</th>\n",
              "      <th>phase</th>\n",
              "    </tr>\n",
              "  </thead>\n",
              "  <tbody>\n",
              "    <tr>\n",
              "      <th>4411</th>\n",
              "      <td>2020-02-22-033984</td>\n",
              "      <td>There is no truth in that strange and weighty ...</td>\n",
              "      <td>Timipre Sylva</td>\n",
              "      <td>[Q3509607]</td>\n",
              "      <td>2020-02-22 18:00:44</td>\n",
              "      <td>1</td>\n",
              "      <td>[[Timipre Sylva, 0.6975], [None, 0.3025]]</td>\n",
              "      <td>[https://thewhistler.ng/bayelsa-verdict-the-od...</td>\n",
              "      <td>E</td>\n",
              "    </tr>\n",
              "    <tr>\n",
              "      <th>6001</th>\n",
              "      <td>2020-02-08-024054</td>\n",
              "      <td>India's overall debt-to-GDP ratio is an outlie...</td>\n",
              "      <td>Piyush Garg</td>\n",
              "      <td>[Q58208547]</td>\n",
              "      <td>2020-02-08 15:07:00</td>\n",
              "      <td>3</td>\n",
              "      <td>[[Piyush Garg, 0.9364], [None, 0.0636]]</td>\n",
              "      <td>[http://wap.business-standard.com/article/econ...</td>\n",
              "      <td>E</td>\n",
              "    </tr>\n",
              "    <tr>\n",
              "      <th>5888</th>\n",
              "      <td>2020-03-28-013310</td>\n",
              "      <td>If I'm going to use one word, I think Penn Sta...</td>\n",
              "      <td>None</td>\n",
              "      <td>[]</td>\n",
              "      <td>2020-03-28 03:12:55</td>\n",
              "      <td>1</td>\n",
              "      <td>[[None, 0.6998], [Kyle Larson, 0.3002]]</td>\n",
              "      <td>[https://onwardstate.com/2020/03/27/virtual-up...</td>\n",
              "      <td>E</td>\n",
              "    </tr>\n",
              "    <tr>\n",
              "      <th>763</th>\n",
              "      <td>2020-01-20-025673</td>\n",
              "      <td>I think for me, it's that open book,</td>\n",
              "      <td>None</td>\n",
              "      <td>[]</td>\n",
              "      <td>2020-01-20 22:23:20</td>\n",
              "      <td>3</td>\n",
              "      <td>[[None, 0.5348], [Ron Roenicke, 0.3385], [Alex...</td>\n",
              "      <td>[https://www.bostonherald.com/2020/01/20/red-s...</td>\n",
              "      <td>E</td>\n",
              "    </tr>\n",
              "    <tr>\n",
              "      <th>891</th>\n",
              "      <td>2020-01-08-036592</td>\n",
              "      <td>If you elect me to the Oval Office, I will soa...</td>\n",
              "      <td>Elizabeth Warren</td>\n",
              "      <td>[Q434706]</td>\n",
              "      <td>2020-01-08 22:10:40</td>\n",
              "      <td>2</td>\n",
              "      <td>[[Elizabeth Warren, 0.8726], [None, 0.1161], [...</td>\n",
              "      <td>[https://blog.heartland.org/2020/01/time-for-s...</td>\n",
              "      <td>E</td>\n",
              "    </tr>\n",
              "    <tr>\n",
              "      <th>1741</th>\n",
              "      <td>2020-01-02-052355</td>\n",
              "      <td>The leadership challenge then is how do you re...</td>\n",
              "      <td>None</td>\n",
              "      <td>[]</td>\n",
              "      <td>2020-01-02 00:00:00</td>\n",
              "      <td>1</td>\n",
              "      <td>[[None, 0.5326], [Hao Chen, 0.4674]]</td>\n",
              "      <td>[https://www.forbes.com/sites/sallypercy/2020/...</td>\n",
              "      <td>E</td>\n",
              "    </tr>\n",
              "    <tr>\n",
              "      <th>2216</th>\n",
              "      <td>2020-03-28-035999</td>\n",
              "      <td>We initially screen patients as they arrive here,</td>\n",
              "      <td>Eric Hill</td>\n",
              "      <td>[Q12714522, Q21458196, Q2901293, Q5386728, Q53...</td>\n",
              "      <td>2020-03-28 07:56:47</td>\n",
              "      <td>1</td>\n",
              "      <td>[[Eric Hill, 0.6783], [None, 0.3217]]</td>\n",
              "      <td>[https://www.thedenverchannel.com/news/local-n...</td>\n",
              "      <td>E</td>\n",
              "    </tr>\n",
              "    <tr>\n",
              "      <th>2861</th>\n",
              "      <td>2020-01-10-013628</td>\n",
              "      <td>create new cyber operations centres</td>\n",
              "      <td>Penny Mordaunt</td>\n",
              "      <td>[Q580464]</td>\n",
              "      <td>2020-01-10 21:27:21</td>\n",
              "      <td>1</td>\n",
              "      <td>[[Penny Mordaunt, 0.941], [None, 0.0438], [Ben...</td>\n",
              "      <td>[http://www.independent.co.uk/news/uk/home-new...</td>\n",
              "      <td>E</td>\n",
              "    </tr>\n",
              "    <tr>\n",
              "      <th>1484</th>\n",
              "      <td>2020-03-03-046862</td>\n",
              "      <td>She did nothing but talk to me during Cabinet ...</td>\n",
              "      <td>Vitaliano Aguirre II</td>\n",
              "      <td>[Q24852563]</td>\n",
              "      <td>2020-03-03 05:21:00</td>\n",
              "      <td>1</td>\n",
              "      <td>[[Vitaliano Aguirre II, 0.7682], [None, 0.2318]]</td>\n",
              "      <td>[https://www.philstar.com/headlines/2020/03/03...</td>\n",
              "      <td>E</td>\n",
              "    </tr>\n",
              "    <tr>\n",
              "      <th>3961</th>\n",
              "      <td>2020-03-31-041019</td>\n",
              "      <td>Our country's political world must stand at th...</td>\n",
              "      <td>Kyriakos Mitsotakis</td>\n",
              "      <td>[Q552751]</td>\n",
              "      <td>2020-03-31 12:47:00</td>\n",
              "      <td>1</td>\n",
              "      <td>[[Kyriakos Mitsotakis, 0.858], [None, 0.142]]</td>\n",
              "      <td>[https://timesofmalta.com/articles/view/greek-...</td>\n",
              "      <td>E</td>\n",
              "    </tr>\n",
              "  </tbody>\n",
              "</table>\n",
              "</div>"
            ],
            "text/plain": [
              "                quoteID  ... phase\n",
              "4411  2020-02-22-033984  ...     E\n",
              "6001  2020-02-08-024054  ...     E\n",
              "5888  2020-03-28-013310  ...     E\n",
              "763   2020-01-20-025673  ...     E\n",
              "891   2020-01-08-036592  ...     E\n",
              "1741  2020-01-02-052355  ...     E\n",
              "2216  2020-03-28-035999  ...     E\n",
              "2861  2020-01-10-013628  ...     E\n",
              "1484  2020-03-03-046862  ...     E\n",
              "3961  2020-03-31-041019  ...     E\n",
              "\n",
              "[10 rows x 9 columns]"
            ]
          },
          "execution_count": 25,
          "metadata": {},
          "output_type": "execute_result"
        }
      ]
    },
    {
      "cell_type": "code",
      "metadata": {
        "colab": {
          "base_uri": "https://localhost:8080/"
        },
        "id": "S0xEuQElTeLr",
        "outputId": "4e6dd2b5-14c4-4fb2-d876-715295a5efd6"
      },
      "source": [
        "# A small scale test on quote 6685\n",
        "quote_nb = 6001\n",
        "print(\"The quote is: \\n\"+df_quotes.loc[quote_nb].quotation)"
      ],
      "id": "S0xEuQElTeLr",
      "execution_count": null,
      "outputs": [
        {
          "name": "stdout",
          "output_type": "stream",
          "text": [
            "The quote is: \n",
            "India's overall debt-to-GDP ratio is an outlier among emerging markets,\n"
          ]
        }
      ]
    },
    {
      "cell_type": "code",
      "metadata": {
        "colab": {
          "base_uri": "https://localhost:8080/"
        },
        "id": "yA9LuBTz396m",
        "outputId": "f23d582f-dc61-4fe1-91e8-f56900ed5cbc"
      },
      "source": [
        "df_quotes.loc[1741].urls"
      ],
      "id": "yA9LuBTz396m",
      "execution_count": null,
      "outputs": [
        {
          "data": {
            "text/plain": [
              "['https://www.forbes.com/sites/sallypercy/2020/01/02/an-international-perspective-top-leadership-challenges-for-2020/']"
            ]
          },
          "execution_count": 36,
          "metadata": {},
          "output_type": "execute_result"
        }
      ]
    },
    {
      "cell_type": "code",
      "metadata": {
        "colab": {
          "base_uri": "https://localhost:8080/",
          "height": 201
        },
        "id": "TAdt0fLlqgbI",
        "outputId": "4e8f3649-6e14-4bcc-b23c-0854b7d718d9"
      },
      "source": [
        "# Extract the word 'commited' and get the CEFR (totally empirical, we are waiting on a better tokenizer)\n",
        "levels, reg = retrieve_CEFR_levels_registers(df_quotes.loc[quote_nb].quotation.split()[6])\n",
        "print(levels, reg)"
      ],
      "id": "TAdt0fLlqgbI",
      "execution_count": null,
      "outputs": [
        {
          "ename": "NameError",
          "evalue": "ignored",
          "output_type": "error",
          "traceback": [
            "\u001b[0;31m---------------------------------------------------------------------------\u001b[0m",
            "\u001b[0;31mNameError\u001b[0m                                 Traceback (most recent call last)",
            "\u001b[0;32m<ipython-input-27-951ebb0cca4c>\u001b[0m in \u001b[0;36m<module>\u001b[0;34m()\u001b[0m\n\u001b[1;32m      1\u001b[0m \u001b[0;31m# Extract the word 'commited' and get the CEFR (totally empirical, we are waiting on a better tokenizer)\u001b[0m\u001b[0;34m\u001b[0m\u001b[0;34m\u001b[0m\u001b[0;34m\u001b[0m\u001b[0m\n\u001b[0;32m----> 2\u001b[0;31m \u001b[0mlevels\u001b[0m\u001b[0;34m,\u001b[0m \u001b[0mreg\u001b[0m \u001b[0;34m=\u001b[0m \u001b[0mretrieve_CEFR_levels_registers\u001b[0m\u001b[0;34m(\u001b[0m\u001b[0mdf_quotes\u001b[0m\u001b[0;34m.\u001b[0m\u001b[0mloc\u001b[0m\u001b[0;34m[\u001b[0m\u001b[0mquote_nb\u001b[0m\u001b[0;34m]\u001b[0m\u001b[0;34m.\u001b[0m\u001b[0mquotation\u001b[0m\u001b[0;34m.\u001b[0m\u001b[0msplit\u001b[0m\u001b[0;34m(\u001b[0m\u001b[0;34m)\u001b[0m\u001b[0;34m[\u001b[0m\u001b[0;36m6\u001b[0m\u001b[0;34m]\u001b[0m\u001b[0;34m)\u001b[0m\u001b[0;34m\u001b[0m\u001b[0;34m\u001b[0m\u001b[0m\n\u001b[0m\u001b[1;32m      3\u001b[0m \u001b[0mprint\u001b[0m\u001b[0;34m(\u001b[0m\u001b[0mlevels\u001b[0m\u001b[0;34m,\u001b[0m \u001b[0mreg\u001b[0m\u001b[0;34m)\u001b[0m\u001b[0;34m\u001b[0m\u001b[0;34m\u001b[0m\u001b[0m\n",
            "\u001b[0;31mNameError\u001b[0m: name 'retrieve_CEFR_levels_registers' is not defined"
          ]
        }
      ]
    },
    {
      "cell_type": "markdown",
      "metadata": {
        "id": "mhXb1auUrkMH"
      },
      "source": [
        "Now get some info about the speaker. Use the data provided in the .parquet file."
      ],
      "id": "mhXb1auUrkMH"
    },
    {
      "cell_type": "code",
      "metadata": {
        "colab": {
          "base_uri": "https://localhost:8080/",
          "height": 135
        },
        "id": "X0DDAXI6qBYJ",
        "outputId": "8026d82e-ec53-4487-cef6-a582db985b87"
      },
      "source": [
        "# Find the QID of the speaker \n",
        "QID = df_quotes.loc[quote_nb].qids[0]\n",
        "# Display the known properties for the persone given\n",
        "df_properties = retrieve_wikidata_properties(QID)\n",
        "df_properties"
      ],
      "id": "X0DDAXI6qBYJ",
      "execution_count": null,
      "outputs": [
        {
          "data": {
            "text/html": [
              "<div>\n",
              "<style scoped>\n",
              "    .dataframe tbody tr th:only-of-type {\n",
              "        vertical-align: middle;\n",
              "    }\n",
              "\n",
              "    .dataframe tbody tr th {\n",
              "        vertical-align: top;\n",
              "    }\n",
              "\n",
              "    .dataframe thead th {\n",
              "        text-align: right;\n",
              "    }\n",
              "</style>\n",
              "<table border=\"1\" class=\"dataframe\">\n",
              "  <thead>\n",
              "    <tr style=\"text-align: right;\">\n",
              "      <th></th>\n",
              "      <th>aliases</th>\n",
              "      <th>date_of_birth</th>\n",
              "      <th>nationality</th>\n",
              "      <th>gender</th>\n",
              "      <th>lastrevid</th>\n",
              "      <th>ethnic_group</th>\n",
              "      <th>US_congress_bio_ID</th>\n",
              "      <th>occupation</th>\n",
              "      <th>party</th>\n",
              "      <th>academic_degree</th>\n",
              "      <th>id</th>\n",
              "      <th>label</th>\n",
              "      <th>candidacy</th>\n",
              "      <th>type</th>\n",
              "      <th>religion</th>\n",
              "    </tr>\n",
              "  </thead>\n",
              "  <tbody>\n",
              "    <tr>\n",
              "      <th>3793841</th>\n",
              "      <td>None</td>\n",
              "      <td>[+1946-10-16T00:00:00Z]</td>\n",
              "      <td>None</td>\n",
              "      <td>[Q6581097]</td>\n",
              "      <td>1341628735</td>\n",
              "      <td>None</td>\n",
              "      <td>None</td>\n",
              "      <td>[Q40348]</td>\n",
              "      <td>None</td>\n",
              "      <td>None</td>\n",
              "      <td>Q24852563</td>\n",
              "      <td>Vitaliano Aguirre II</td>\n",
              "      <td>None</td>\n",
              "      <td>item</td>\n",
              "      <td>None</td>\n",
              "    </tr>\n",
              "  </tbody>\n",
              "</table>\n",
              "</div>"
            ],
            "text/plain": [
              "        aliases            date_of_birth nationality  ... candidacy  type religion\n",
              "3793841    None  [+1946-10-16T00:00:00Z]        None  ...      None  item     None\n",
              "\n",
              "[1 rows x 15 columns]"
            ]
          },
          "execution_count": 28,
          "metadata": {},
          "output_type": "execute_result"
        }
      ]
    },
    {
      "cell_type": "code",
      "metadata": {
        "colab": {
          "base_uri": "https://localhost:8080/"
        },
        "id": "K1zaw5eMbUZO",
        "outputId": "f1385b3e-fc39-4741-e938-f95daae82605"
      },
      "source": [
        "# Retrieve the occupation in human readable format \n",
        "human_readable_properties(df_properties, \"occupation\")"
      ],
      "id": "K1zaw5eMbUZO",
      "execution_count": null,
      "outputs": [
        {
          "data": {
            "text/plain": [
              "['lawyer']"
            ]
          },
          "execution_count": 30,
          "metadata": {},
          "output_type": "execute_result"
        }
      ]
    },
    {
      "cell_type": "code",
      "metadata": {
        "colab": {
          "base_uri": "https://localhost:8080/"
        },
        "id": "byfmb6mNFp5c",
        "outputId": "db07f790-1fbc-40cd-d267-7d0cb7b33566"
      },
      "source": [
        "# Retrieve the nationality in human readable format \n",
        "human_readable_properties(df_properties, \"nationality\")"
      ],
      "id": "byfmb6mNFp5c",
      "execution_count": null,
      "outputs": [
        {
          "name": "stderr",
          "output_type": "stream",
          "text": [
            "/usr/local/lib/python3.7/dist-packages/ipykernel_launcher.py:19: UserWarning: There is no value for this property!\n"
          ]
        }
      ]
    },
    {
      "cell_type": "code",
      "metadata": {
        "colab": {
          "base_uri": "https://localhost:8080/"
        },
        "id": "aXmSQ-4MNDp5",
        "outputId": "63ceafb4-1922-4d60-a6c0-831e909cc7b1"
      },
      "source": [
        "# Retrieve the candidacy in human readable format \n",
        "human_readable_properties(df_properties, \"candidacy\")"
      ],
      "id": "aXmSQ-4MNDp5",
      "execution_count": null,
      "outputs": [
        {
          "name": "stderr",
          "output_type": "stream",
          "text": [
            "/usr/local/lib/python3.7/dist-packages/ipykernel_launcher.py:19: UserWarning: There is no value for this property!\n"
          ]
        }
      ]
    },
    {
      "cell_type": "markdown",
      "metadata": {
        "id": "XfCz594iVL_M"
      },
      "source": [
        "## D) Data analysis\n",
        "\n",
        "For now, this section only contains code that we will eventually use later."
      ],
      "id": "XfCz594iVL_M"
    },
    {
      "cell_type": "markdown",
      "metadata": {
        "id": "asFKAikJRb6d"
      },
      "source": [
        "##### nltk.collocations without POS tags"
      ],
      "id": "asFKAikJRb6d"
    },
    {
      "cell_type": "code",
      "metadata": {
        "id": "K6OKqaPTB_4R"
      },
      "source": [
        "nltk.download('stopwords')\n",
        "from nltk.corpus import stopwords\n",
        "import string\n",
        "\n",
        "PUNCTUATION = set(string.punctuation)  # Punctuation\n",
        "EN_STOPWORDS = set(stopwords.words(\"english\"))  # English stopwords\n",
        "\n",
        "def format_quote_for_collocation_finder(l):\n",
        "    newL = [w.lower() for w in l]  # lowercase everything\n",
        "    newL = [\"<P>\" if w in PUNCTUATION else w for w in newL]  # We don't remove punctuation yet, as they act as separators between words, which we need to construct meaningful bigrams for collocation finding. Instead, we replace them by a punctuation tag\n",
        "    newL = [\"<S>\" if w in EN_STOPWORDS else w for w in newL]  # We don't remove the stopwords yet, as they act as separators between non-stopwords which we need to construct meaningful bigrams for collocation finding. Instead, we replace them by a stopword tag\n",
        "    # We add starting and ending tags to mark end of quotes and avoid constructing bigrams of the end word of a quote and the start word of the next one which is unrelated.\n",
        "    newL.insert(0, \"<B>\")  # Add begin tag\n",
        "    newL.append(\"<E>\")  # Add end tag\n",
        "    return newL\n",
        "\n",
        "marked_quotes = quotes_selected_speakers.tokenized_quote.apply(format_quote_for_collocation_finder)\n",
        "all_marked_quotes = [token for l in marked_quotes for token in l]"
      ],
      "id": "K6OKqaPTB_4R",
      "execution_count": null,
      "outputs": []
    },
    {
      "cell_type": "code",
      "metadata": {
        "id": "4ww0tgy1IIt3"
      },
      "source": [
        "from nltk.collocations import BigramCollocationFinder, BigramAssocMeasures\n",
        "\n",
        "bigram_measures = BigramAssocMeasures()\n",
        "finder = BigramCollocationFinder.from_words(all_marked_quotes)\n",
        "\n",
        "frequency = 4  # Minimum number of occurences of the bigram\n",
        "finder.apply_freq_filter(frequency)\n",
        "\n",
        "finder.nbest(bigram_measures.pmi, 15)  # n most collocated words\n",
        "#finder.score_ngrams(bigram_measures.pmi)  # Scores"
      ],
      "id": "4ww0tgy1IIt3",
      "execution_count": null,
      "outputs": []
    },
    {
      "cell_type": "markdown",
      "metadata": {
        "id": "T6U337IMRoHi"
      },
      "source": [
        "##### nltk.collocations with POS tags"
      ],
      "id": "T6U337IMRoHi"
    },
    {
      "cell_type": "code",
      "metadata": {
        "id": "ytxhJDlEJbCP"
      },
      "source": [
        "nltk.download('averaged_perceptron_tagger')\n",
        "\n",
        "def format_quote_for_collocation_finder_tagged(l):\n",
        "    newL = nltk.pos_tag(l)\n",
        "    newL = [(w.lower(), tag) for (w, tag) in newL]  # lowercase everything\n",
        "    newL = [(\"<P>\", \"TAG-P\") if w in PUNCTUATION else (w, tag) for (w, tag) in newL]  # We don't remove punctuation yet, as they act as separators between words, which we need to construct meaningful bigrams for collocation finding. Instead, we replace them by a punctuation tag\n",
        "    newL = [(\"<S>\", \"TAG-S\") if w in EN_STOPWORDS else (w, tag) for (w, tag) in newL]  # We don't remove the stopwords yet, as they act as separators between non-stopwords which we need to construct meaningful bigrams for collocation finding. Instead, we replace them by a stopword tag\n",
        "    # We add starting and ending tags to mark end of quotes and avoid constructing bigrams of the end word of a quote and the start word of the next one which is unrelated.\n",
        "    newL.insert(0, (\"<B>\", \"TAG-B\"))  # Add begin tag with random POS tag\n",
        "    newL.append((\"<E>\", \"TAG-E\"))  # Add end tag with random POS tag\n",
        "    return newL\n",
        "\n",
        "marked_quotes_tagged = quotes_selected_speakers.tokenized_quote.apply(format_quote_for_collocation_finder_tagged)\n",
        "all_marked_quotes_tagged = [token for l in marked_quotes_tagged for token in l]"
      ],
      "id": "ytxhJDlEJbCP",
      "execution_count": null,
      "outputs": []
    },
    {
      "cell_type": "code",
      "metadata": {
        "id": "tkyqkB4tJ0Fr"
      },
      "source": [
        "finder_tagged = BigramCollocationFinder.from_words(all_marked_quotes_tagged)\n",
        "frequency_tagged = 3\n",
        "finder_tagged.apply_freq_filter(frequency_tagged)\n",
        "finder_tagged.nbest(bigram_measures.pmi, 15)  # n most collocated words"
      ],
      "id": "tkyqkB4tJ0Fr",
      "execution_count": null,
      "outputs": []
    },
    {
      "cell_type": "markdown",
      "metadata": {
        "id": "8jhabGmPRrG7"
      },
      "source": [
        "##### Named entity recognition"
      ],
      "id": "8jhabGmPRrG7"
    },
    {
      "cell_type": "code",
      "metadata": {
        "id": "XNH7i6NHRvGr"
      },
      "source": [
        "nltk.download('maxent_ne_chunker')\n",
        "nltk.download('words')\n",
        "\n",
        "ner_quotes = quotes_selected_speakers.tokenized_quote.apply(nltk.pos_tag)\n",
        "ner_quotes = ner_quotes.apply(nltk.ne_chunk)\n",
        "ner_quotes.head()"
      ],
      "id": "XNH7i6NHRvGr",
      "execution_count": null,
      "outputs": []
    },
    {
      "cell_type": "code",
      "metadata": {
        "id": "FkxdMFL6VpT6"
      },
      "source": [
        "print(ner_quotes[86])"
      ],
      "id": "FkxdMFL6VpT6",
      "execution_count": null,
      "outputs": []
    }
  ]
}