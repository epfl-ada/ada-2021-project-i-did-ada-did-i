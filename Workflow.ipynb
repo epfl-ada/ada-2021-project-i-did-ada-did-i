{
  "nbformat": 4,
  "nbformat_minor": 5,
  "metadata": {
    "kernelspec": {
      "display_name": "Python [conda env:ada] *",
      "language": "python",
      "name": "conda-env-ada-py"
    },
    "language_info": {
      "codemirror_mode": {
        "name": "ipython",
        "version": 3
      },
      "file_extension": ".py",
      "mimetype": "text/x-python",
      "name": "python",
      "nbconvert_exporter": "python",
      "pygments_lexer": "ipython3",
      "version": "3.8.11"
    },
    "colab": {
      "name": "Workflow.ipynb",
      "provenance": [],
      "collapsed_sections": []
    }
  },
  "cells": [
    {
      "cell_type": "markdown",
      "metadata": {
        "id": "718c829d-a156-4c6f-8102-a47fbe43ddc4"
      },
      "source": [
        "# Tentative workflow"
      ],
      "id": "718c829d-a156-4c6f-8102-a47fbe43ddc4"
    },
    {
      "cell_type": "markdown",
      "metadata": {
        "id": "6f58b18c-b3c4-41a7-a7fb-ba11a1b435cc"
      },
      "source": [
        "I tried separating the workflow in semi-independant steps. It would still be good if we could try to do the whole thing with a tiny subset of the actual dataset.\n",
        "Step 6 is totally independant of the previous steps"
      ],
      "id": "6f58b18c-b3c4-41a7-a7fb-ba11a1b435cc"
    },
    {
      "cell_type": "code",
      "metadata": {
        "colab": {
          "base_uri": "https://localhost:8080/"
        },
        "id": "0H_-gPqAYI01",
        "outputId": "303054a4-3789-4eca-e27f-6a8b2f3da6f7"
      },
      "source": [
        "from google.colab import drive\n",
        "drive.mount('/content/drive')"
      ],
      "id": "0H_-gPqAYI01",
      "execution_count": 1,
      "outputs": [
        {
          "output_type": "stream",
          "name": "stdout",
          "text": [
            "Drive already mounted at /content/drive; to attempt to forcibly remount, call drive.mount(\"/content/drive\", force_remount=True).\n"
          ]
        }
      ]
    },
    {
      "cell_type": "code",
      "metadata": {
        "colab": {
          "base_uri": "https://localhost:8080/",
          "height": 204
        },
        "id": "cuONXghXYYEx",
        "outputId": "9d34ce00-a996-4048-b11c-246a05494f97"
      },
      "source": [
        "import bz2\n",
        "import json\n",
        "import pandas as pd\n",
        "\n",
        "# Load & format quotes from 2020\n",
        "path_to_file = '/content/drive/MyDrive/ADA/Quotebank/quotes-2020.json.bz2' \n",
        "\n",
        "list_of_quotes_dict = []\n",
        "count = 0\n",
        "sample_size = 1000\n",
        "\n",
        "with bz2.open(path_to_file, 'rb') as s_file:\n",
        "    for instance in s_file:\n",
        "        if count == sample_size:\n",
        "            break\n",
        "        decoded = json.loads(instance.decode('utf-8'))\n",
        "        list_of_quotes_dict.append(decoded)\n",
        "        count += 1\n",
        "\n",
        "df_quotes = pd.DataFrame(list_of_quotes_dict)\n",
        "df_quotes.head()"
      ],
      "id": "cuONXghXYYEx",
      "execution_count": 2,
      "outputs": [
        {
          "output_type": "execute_result",
          "data": {
            "text/html": [
              "<div>\n",
              "<style scoped>\n",
              "    .dataframe tbody tr th:only-of-type {\n",
              "        vertical-align: middle;\n",
              "    }\n",
              "\n",
              "    .dataframe tbody tr th {\n",
              "        vertical-align: top;\n",
              "    }\n",
              "\n",
              "    .dataframe thead th {\n",
              "        text-align: right;\n",
              "    }\n",
              "</style>\n",
              "<table border=\"1\" class=\"dataframe\">\n",
              "  <thead>\n",
              "    <tr style=\"text-align: right;\">\n",
              "      <th></th>\n",
              "      <th>quoteID</th>\n",
              "      <th>quotation</th>\n",
              "      <th>speaker</th>\n",
              "      <th>qids</th>\n",
              "      <th>date</th>\n",
              "      <th>numOccurrences</th>\n",
              "      <th>probas</th>\n",
              "      <th>urls</th>\n",
              "      <th>phase</th>\n",
              "    </tr>\n",
              "  </thead>\n",
              "  <tbody>\n",
              "    <tr>\n",
              "      <th>0</th>\n",
              "      <td>2020-01-28-000082</td>\n",
              "      <td>[ D ] espite the efforts of the partners to cr...</td>\n",
              "      <td>None</td>\n",
              "      <td>[]</td>\n",
              "      <td>2020-01-28 08:04:05</td>\n",
              "      <td>1</td>\n",
              "      <td>[[None, 0.7272], [Prime Minister Netanyahu, 0....</td>\n",
              "      <td>[http://israelnationalnews.com/News/News.aspx/...</td>\n",
              "      <td>E</td>\n",
              "    </tr>\n",
              "    <tr>\n",
              "      <th>1</th>\n",
              "      <td>2020-01-16-000088</td>\n",
              "      <td>[ Department of Homeland Security ] was livid ...</td>\n",
              "      <td>Sue Myrick</td>\n",
              "      <td>[Q367796]</td>\n",
              "      <td>2020-01-16 12:00:13</td>\n",
              "      <td>1</td>\n",
              "      <td>[[Sue Myrick, 0.8867], [None, 0.0992], [Ron Wy...</td>\n",
              "      <td>[http://thehill.com/opinion/international/4782...</td>\n",
              "      <td>E</td>\n",
              "    </tr>\n",
              "    <tr>\n",
              "      <th>2</th>\n",
              "      <td>2020-02-10-000142</td>\n",
              "      <td>... He (Madhav) also disclosed that the illega...</td>\n",
              "      <td>None</td>\n",
              "      <td>[]</td>\n",
              "      <td>2020-02-10 23:45:54</td>\n",
              "      <td>1</td>\n",
              "      <td>[[None, 0.8926], [Prakash Rai, 0.1074]]</td>\n",
              "      <td>[https://indianexpress.com/article/business/ec...</td>\n",
              "      <td>E</td>\n",
              "    </tr>\n",
              "    <tr>\n",
              "      <th>3</th>\n",
              "      <td>2020-02-15-000053</td>\n",
              "      <td>... [ I ] f it gets to the floor,</td>\n",
              "      <td>None</td>\n",
              "      <td>[]</td>\n",
              "      <td>2020-02-15 14:12:51</td>\n",
              "      <td>2</td>\n",
              "      <td>[[None, 0.581], [Andy Harris, 0.4191]]</td>\n",
              "      <td>[https://patriotpost.us/opinion/68622-trump-bu...</td>\n",
              "      <td>E</td>\n",
              "    </tr>\n",
              "    <tr>\n",
              "      <th>4</th>\n",
              "      <td>2020-01-24-000168</td>\n",
              "      <td>[ I met them ] when they just turned 4 and 7. ...</td>\n",
              "      <td>Meghan King Edmonds</td>\n",
              "      <td>[Q20684375]</td>\n",
              "      <td>2020-01-24 20:37:09</td>\n",
              "      <td>4</td>\n",
              "      <td>[[Meghan King Edmonds, 0.5446], [None, 0.2705]...</td>\n",
              "      <td>[https://people.com/parents/meghan-king-edmond...</td>\n",
              "      <td>E</td>\n",
              "    </tr>\n",
              "  </tbody>\n",
              "</table>\n",
              "</div>"
            ],
            "text/plain": [
              "             quoteID  ... phase\n",
              "0  2020-01-28-000082  ...     E\n",
              "1  2020-01-16-000088  ...     E\n",
              "2  2020-02-10-000142  ...     E\n",
              "3  2020-02-15-000053  ...     E\n",
              "4  2020-01-24-000168  ...     E\n",
              "\n",
              "[5 rows x 9 columns]"
            ]
          },
          "metadata": {},
          "execution_count": 2
        }
      ]
    },
    {
      "cell_type": "markdown",
      "metadata": {
        "id": "2b203389-451b-4285-b127-551b9fc2d02b"
      },
      "source": [
        "##### 1. Load the sentences for each speakers with >X (tbd) quotes\n",
        "- Not for milestone 2, but afterwards will need info such as year, website, country and have to be able to keep them throughout the process"
      ],
      "id": "2b203389-451b-4285-b127-551b9fc2d02b"
    },
    {
      "cell_type": "code",
      "metadata": {
        "colab": {
          "base_uri": "https://localhost:8080/",
          "height": 359
        },
        "id": "c00c9d3f-c7d0-484c-b3f7-20f002a71140",
        "outputId": "398bb0ee-8f04-42fe-95a1-8d2cc6ce7f8f"
      },
      "source": [
        "#code here\n",
        "\n",
        "min_quotes = 10\n",
        "\n",
        "counts = df_quotes.groupby(by=[\"speaker\"]).sum().reset_index()\n",
        "#print(counts.head(50))\n",
        "speakers_with_many_quotes = counts[counts['numOccurrences'] > min_quotes]\n",
        "speakers_with_many_quotes = speakers_with_many_quotes[speakers_with_many_quotes[\"speaker\"] != \"None\"]\n",
        "#print(speakers_with_many_quotes.head(50))\n",
        "quotes_selected_speakers = df_quotes[df_quotes[\"speaker\"].isin(speakers_with_many_quotes[\"speaker\"])]\n",
        "quotes_selected_speakers.head(10)"
      ],
      "id": "c00c9d3f-c7d0-484c-b3f7-20f002a71140",
      "execution_count": 3,
      "outputs": [
        {
          "output_type": "execute_result",
          "data": {
            "text/html": [
              "<div>\n",
              "<style scoped>\n",
              "    .dataframe tbody tr th:only-of-type {\n",
              "        vertical-align: middle;\n",
              "    }\n",
              "\n",
              "    .dataframe tbody tr th {\n",
              "        vertical-align: top;\n",
              "    }\n",
              "\n",
              "    .dataframe thead th {\n",
              "        text-align: right;\n",
              "    }\n",
              "</style>\n",
              "<table border=\"1\" class=\"dataframe\">\n",
              "  <thead>\n",
              "    <tr style=\"text-align: right;\">\n",
              "      <th></th>\n",
              "      <th>quoteID</th>\n",
              "      <th>quotation</th>\n",
              "      <th>speaker</th>\n",
              "      <th>qids</th>\n",
              "      <th>date</th>\n",
              "      <th>numOccurrences</th>\n",
              "      <th>probas</th>\n",
              "      <th>urls</th>\n",
              "      <th>phase</th>\n",
              "    </tr>\n",
              "  </thead>\n",
              "  <tbody>\n",
              "    <tr>\n",
              "      <th>28</th>\n",
              "      <td>2020-03-18-000741</td>\n",
              "      <td>A face-to-face duty lawyer service provided by...</td>\n",
              "      <td>Mike Dwyer</td>\n",
              "      <td>[Q6379626]</td>\n",
              "      <td>2020-03-18 07:47:15</td>\n",
              "      <td>12</td>\n",
              "      <td>[[Mike Dwyer, 0.6042], [None, 0.3958]]</td>\n",
              "      <td>[http://www.balonnebeacon.com.au/news/tourism-...</td>\n",
              "      <td>E</td>\n",
              "    </tr>\n",
              "    <tr>\n",
              "      <th>29</th>\n",
              "      <td>2020-01-26-000499</td>\n",
              "      <td>a few of the candidates who will do better in ...</td>\n",
              "      <td>Dave Loebsack</td>\n",
              "      <td>[Q771586]</td>\n",
              "      <td>2020-01-26 13:21:36</td>\n",
              "      <td>11</td>\n",
              "      <td>[[Dave Loebsack, 0.9011], [None, 0.0949], [Joe...</td>\n",
              "      <td>[http://rss.cnn.com/~r/rss/cnn_allpolitics/~3/...</td>\n",
              "      <td>E</td>\n",
              "    </tr>\n",
              "    <tr>\n",
              "      <th>139</th>\n",
              "      <td>2020-01-28-006720</td>\n",
              "      <td>Apply for the privilege of having this entrepr...</td>\n",
              "      <td>Cindy Gallop</td>\n",
              "      <td>[Q5120529]</td>\n",
              "      <td>2020-01-28 13:00:00</td>\n",
              "      <td>22</td>\n",
              "      <td>[[Cindy Gallop, 0.921], [None, 0.079]]</td>\n",
              "      <td>[https://www.byronnews.com.au/news/womans-geni...</td>\n",
              "      <td>E</td>\n",
              "    </tr>\n",
              "    <tr>\n",
              "      <th>173</th>\n",
              "      <td>2020-02-04-008518</td>\n",
              "      <td>At least 7 million lives could be saved over t...</td>\n",
              "      <td>Tedros Adhanom Ghebreyesus</td>\n",
              "      <td>[Q16196017]</td>\n",
              "      <td>2020-02-04 02:25:29</td>\n",
              "      <td>14</td>\n",
              "      <td>[[Tedros Adhanom Ghebreyesus, 0.9326], [None, ...</td>\n",
              "      <td>[https://www.miragenews.com/who-outlines-steps...</td>\n",
              "      <td>E</td>\n",
              "    </tr>\n",
              "    <tr>\n",
              "      <th>254</th>\n",
              "      <td>2020-02-27-009528</td>\n",
              "      <td>But it really is that. The universe is a weird...</td>\n",
              "      <td>Melanie Johnston-Hollitt</td>\n",
              "      <td>[Q50505758, Q53953454]</td>\n",
              "      <td>2020-02-27 16:11:43</td>\n",
              "      <td>65</td>\n",
              "      <td>[[Melanie Johnston-Hollitt, 0.8937], [None, 0....</td>\n",
              "      <td>[http://andoveradvertiser.co.uk/news/national/...</td>\n",
              "      <td>E</td>\n",
              "    </tr>\n",
              "    <tr>\n",
              "      <th>263</th>\n",
              "      <td>2020-02-07-012379</td>\n",
              "      <td>but [ President ] Trump (was) eager to make a ...</td>\n",
              "      <td>President Donald Trump</td>\n",
              "      <td>[Q22686]</td>\n",
              "      <td>2020-02-07 23:05:05</td>\n",
              "      <td>1</td>\n",
              "      <td>[[President Donald Trump, 0.5698], [None, 0.43...</td>\n",
              "      <td>[http://uspolitics.einnews.com/article/5092030...</td>\n",
              "      <td>E</td>\n",
              "    </tr>\n",
              "    <tr>\n",
              "      <th>273</th>\n",
              "      <td>2020-02-22-004519</td>\n",
              "      <td>But think of it: A man leaks classified inform...</td>\n",
              "      <td>President Donald Trump</td>\n",
              "      <td>[Q22686]</td>\n",
              "      <td>2020-02-22 16:58:48</td>\n",
              "      <td>4</td>\n",
              "      <td>[[President Donald Trump, 0.6539], [None, 0.21...</td>\n",
              "      <td>[http://rss.cnn.com/~r/rss/cnn_allpolitics/~3/...</td>\n",
              "      <td>E</td>\n",
              "    </tr>\n",
              "    <tr>\n",
              "      <th>294</th>\n",
              "      <td>2020-04-14-008791</td>\n",
              "      <td>Can't wait for you to see what we've put toget...</td>\n",
              "      <td>Lady Gaga</td>\n",
              "      <td>[Q19848]</td>\n",
              "      <td>2020-04-14 21:58:48</td>\n",
              "      <td>2</td>\n",
              "      <td>[[Lady Gaga, 0.6251], [None, 0.3109], [Taylor ...</td>\n",
              "      <td>[https://www.nme.com/news/music/taylor-swift-c...</td>\n",
              "      <td>E</td>\n",
              "    </tr>\n",
              "    <tr>\n",
              "      <th>297</th>\n",
              "      <td>2020-02-17-009693</td>\n",
              "      <td>Caroline and me were together from the very st...</td>\n",
              "      <td>Iain Stirling</td>\n",
              "      <td>[Q5980627]</td>\n",
              "      <td>2020-02-17 20:48:51</td>\n",
              "      <td>207</td>\n",
              "      <td>[[Iain Stirling, 0.7729], [None, 0.1476], [Car...</td>\n",
              "      <td>[https://www.eonline.com/news/1123804/love-isl...</td>\n",
              "      <td>E</td>\n",
              "    </tr>\n",
              "    <tr>\n",
              "      <th>314</th>\n",
              "      <td>2020-01-28-013666</td>\n",
              "      <td>Coach is an awesome dude to play for. He is 10...</td>\n",
              "      <td>Eric Fisher</td>\n",
              "      <td>[Q30075239, Q5386483]</td>\n",
              "      <td>2020-01-28 12:30:44</td>\n",
              "      <td>26</td>\n",
              "      <td>[[Eric Fisher, 0.9426], [None, 0.0574]]</td>\n",
              "      <td>[https://www.seattletimes.com/sports/nba/chief...</td>\n",
              "      <td>E</td>\n",
              "    </tr>\n",
              "  </tbody>\n",
              "</table>\n",
              "</div>"
            ],
            "text/plain": [
              "               quoteID  ... phase\n",
              "28   2020-03-18-000741  ...     E\n",
              "29   2020-01-26-000499  ...     E\n",
              "139  2020-01-28-006720  ...     E\n",
              "173  2020-02-04-008518  ...     E\n",
              "254  2020-02-27-009528  ...     E\n",
              "263  2020-02-07-012379  ...     E\n",
              "273  2020-02-22-004519  ...     E\n",
              "294  2020-04-14-008791  ...     E\n",
              "297  2020-02-17-009693  ...     E\n",
              "314  2020-01-28-013666  ...     E\n",
              "\n",
              "[10 rows x 9 columns]"
            ]
          },
          "metadata": {},
          "execution_count": 3
        }
      ]
    },
    {
      "cell_type": "markdown",
      "metadata": {
        "id": "4b549892-64b6-4244-806d-57187fbcd962"
      },
      "source": [
        "##### 2. Tokenise the sentences (turn them into single words) and pool the quotes from the same speaker"
      ],
      "id": "4b549892-64b6-4244-806d-57187fbcd962"
    },
    {
      "cell_type": "code",
      "metadata": {
        "id": "f88da2ff-3939-4cee-a7ad-4775de89537d",
        "colab": {
          "base_uri": "https://localhost:8080/",
          "height": 340
        },
        "outputId": "1e25fd5d-22d2-48e5-e077-7fe65d0cf3aa"
      },
      "source": [
        "#your best code here\n",
        "\n",
        "import nltk\n",
        "nltk.download(\"punkt\")\n",
        "\n",
        "from nltk.tokenize import word_tokenize\n",
        "\n",
        "quotes_selected_speakers[\"tokenized_quote\"] = quotes_selected_speakers.quotation.apply(word_tokenize)\n",
        "quotes_selected_speakers.head()"
      ],
      "id": "f88da2ff-3939-4cee-a7ad-4775de89537d",
      "execution_count": 16,
      "outputs": [
        {
          "output_type": "stream",
          "name": "stdout",
          "text": [
            "[nltk_data] Downloading package punkt to /root/nltk_data...\n",
            "[nltk_data]   Package punkt is already up-to-date!\n"
          ]
        },
        {
          "output_type": "stream",
          "name": "stderr",
          "text": [
            "/usr/local/lib/python3.7/dist-packages/ipykernel_launcher.py:8: SettingWithCopyWarning: \n",
            "A value is trying to be set on a copy of a slice from a DataFrame.\n",
            "Try using .loc[row_indexer,col_indexer] = value instead\n",
            "\n",
            "See the caveats in the documentation: https://pandas.pydata.org/pandas-docs/stable/user_guide/indexing.html#returning-a-view-versus-a-copy\n",
            "  \n"
          ]
        },
        {
          "output_type": "execute_result",
          "data": {
            "text/html": [
              "<div>\n",
              "<style scoped>\n",
              "    .dataframe tbody tr th:only-of-type {\n",
              "        vertical-align: middle;\n",
              "    }\n",
              "\n",
              "    .dataframe tbody tr th {\n",
              "        vertical-align: top;\n",
              "    }\n",
              "\n",
              "    .dataframe thead th {\n",
              "        text-align: right;\n",
              "    }\n",
              "</style>\n",
              "<table border=\"1\" class=\"dataframe\">\n",
              "  <thead>\n",
              "    <tr style=\"text-align: right;\">\n",
              "      <th></th>\n",
              "      <th>quoteID</th>\n",
              "      <th>quotation</th>\n",
              "      <th>speaker</th>\n",
              "      <th>qids</th>\n",
              "      <th>date</th>\n",
              "      <th>numOccurrences</th>\n",
              "      <th>probas</th>\n",
              "      <th>urls</th>\n",
              "      <th>phase</th>\n",
              "      <th>tokenized_quote</th>\n",
              "    </tr>\n",
              "  </thead>\n",
              "  <tbody>\n",
              "    <tr>\n",
              "      <th>28</th>\n",
              "      <td>2020-03-18-000741</td>\n",
              "      <td>A face-to-face duty lawyer service provided by...</td>\n",
              "      <td>Mike Dwyer</td>\n",
              "      <td>[Q6379626]</td>\n",
              "      <td>2020-03-18 07:47:15</td>\n",
              "      <td>12</td>\n",
              "      <td>[[Mike Dwyer, 0.6042], [None, 0.3958]]</td>\n",
              "      <td>[http://www.balonnebeacon.com.au/news/tourism-...</td>\n",
              "      <td>E</td>\n",
              "      <td>[A, face-to-face, duty, lawyer, service, provi...</td>\n",
              "    </tr>\n",
              "    <tr>\n",
              "      <th>29</th>\n",
              "      <td>2020-01-26-000499</td>\n",
              "      <td>a few of the candidates who will do better in ...</td>\n",
              "      <td>Dave Loebsack</td>\n",
              "      <td>[Q771586]</td>\n",
              "      <td>2020-01-26 13:21:36</td>\n",
              "      <td>11</td>\n",
              "      <td>[[Dave Loebsack, 0.9011], [None, 0.0949], [Joe...</td>\n",
              "      <td>[http://rss.cnn.com/~r/rss/cnn_allpolitics/~3/...</td>\n",
              "      <td>E</td>\n",
              "      <td>[a, few, of, the, candidates, who, will, do, b...</td>\n",
              "    </tr>\n",
              "    <tr>\n",
              "      <th>139</th>\n",
              "      <td>2020-01-28-006720</td>\n",
              "      <td>Apply for the privilege of having this entrepr...</td>\n",
              "      <td>Cindy Gallop</td>\n",
              "      <td>[Q5120529]</td>\n",
              "      <td>2020-01-28 13:00:00</td>\n",
              "      <td>22</td>\n",
              "      <td>[[Cindy Gallop, 0.921], [None, 0.079]]</td>\n",
              "      <td>[https://www.byronnews.com.au/news/womans-geni...</td>\n",
              "      <td>E</td>\n",
              "      <td>[Apply, for, the, privilege, of, having, this,...</td>\n",
              "    </tr>\n",
              "    <tr>\n",
              "      <th>173</th>\n",
              "      <td>2020-02-04-008518</td>\n",
              "      <td>At least 7 million lives could be saved over t...</td>\n",
              "      <td>Tedros Adhanom Ghebreyesus</td>\n",
              "      <td>[Q16196017]</td>\n",
              "      <td>2020-02-04 02:25:29</td>\n",
              "      <td>14</td>\n",
              "      <td>[[Tedros Adhanom Ghebreyesus, 0.9326], [None, ...</td>\n",
              "      <td>[https://www.miragenews.com/who-outlines-steps...</td>\n",
              "      <td>E</td>\n",
              "      <td>[At, least, 7, million, lives, could, be, save...</td>\n",
              "    </tr>\n",
              "    <tr>\n",
              "      <th>254</th>\n",
              "      <td>2020-02-27-009528</td>\n",
              "      <td>But it really is that. The universe is a weird...</td>\n",
              "      <td>Melanie Johnston-Hollitt</td>\n",
              "      <td>[Q50505758, Q53953454]</td>\n",
              "      <td>2020-02-27 16:11:43</td>\n",
              "      <td>65</td>\n",
              "      <td>[[Melanie Johnston-Hollitt, 0.8937], [None, 0....</td>\n",
              "      <td>[http://andoveradvertiser.co.uk/news/national/...</td>\n",
              "      <td>E</td>\n",
              "      <td>[But, it, really, is, that, ., The, universe, ...</td>\n",
              "    </tr>\n",
              "  </tbody>\n",
              "</table>\n",
              "</div>"
            ],
            "text/plain": [
              "               quoteID  ...                                    tokenized_quote\n",
              "28   2020-03-18-000741  ...  [A, face-to-face, duty, lawyer, service, provi...\n",
              "29   2020-01-26-000499  ...  [a, few, of, the, candidates, who, will, do, b...\n",
              "139  2020-01-28-006720  ...  [Apply, for, the, privilege, of, having, this,...\n",
              "173  2020-02-04-008518  ...  [At, least, 7, million, lives, could, be, save...\n",
              "254  2020-02-27-009528  ...  [But, it, really, is, that, ., The, universe, ...\n",
              "\n",
              "[5 rows x 10 columns]"
            ]
          },
          "metadata": {},
          "execution_count": 16
        }
      ]
    },
    {
      "cell_type": "markdown",
      "metadata": {
        "id": "9793a4a3-f51c-4777-ac02-703c1a1493ae"
      },
      "source": [
        "##### 3. Remove punctuation and stopwords"
      ],
      "id": "9793a4a3-f51c-4777-ac02-703c1a1493ae"
    },
    {
      "cell_type": "code",
      "metadata": {
        "id": "f773f9eb-1e66-4283-b677-fbdaef0581aa",
        "colab": {
          "base_uri": "https://localhost:8080/",
          "height": 425
        },
        "outputId": "cb8bf8e4-323d-4f94-a03b-caa72be91a61"
      },
      "source": [
        "#should be easy enough, don't mess it up\n",
        "\n",
        "nltk.download('stopwords')\n",
        "from nltk.corpus import stopwords\n",
        "import string\n",
        "\n",
        "EN_STOPWORDS = set(stopwords.words(\"english\"))\n",
        "PUNCTUATION = set(string.punctuation)\n",
        "\n",
        "def remove_stopwords(l):\n",
        "    return [w for w in l if w.lower() not in EN_STOPWORDS]\n",
        "\n",
        "def remove_punctuation(l):\n",
        "    return [w for w in l if w not in PUNCTUATION]\n",
        "\n",
        "quotes_selected_speakers[\"tokenized_quote\"] = quotes_selected_speakers.tokenized_quote.apply(remove_stopwords)\n",
        "quotes_selected_speakers[\"tokenized_quote\"] = quotes_selected_speakers.tokenized_quote.apply(remove_punctuation)\n",
        "quotes_selected_speakers[[\"quotation\", \"tokenized_quote\"]].head()"
      ],
      "id": "f773f9eb-1e66-4283-b677-fbdaef0581aa",
      "execution_count": 21,
      "outputs": [
        {
          "output_type": "stream",
          "name": "stdout",
          "text": [
            "[nltk_data] Downloading package stopwords to /root/nltk_data...\n",
            "[nltk_data]   Package stopwords is already up-to-date!\n"
          ]
        },
        {
          "output_type": "stream",
          "name": "stderr",
          "text": [
            "/usr/local/lib/python3.7/dist-packages/ipykernel_launcher.py:16: SettingWithCopyWarning: \n",
            "A value is trying to be set on a copy of a slice from a DataFrame.\n",
            "Try using .loc[row_indexer,col_indexer] = value instead\n",
            "\n",
            "See the caveats in the documentation: https://pandas.pydata.org/pandas-docs/stable/user_guide/indexing.html#returning-a-view-versus-a-copy\n",
            "  app.launch_new_instance()\n",
            "/usr/local/lib/python3.7/dist-packages/ipykernel_launcher.py:17: SettingWithCopyWarning: \n",
            "A value is trying to be set on a copy of a slice from a DataFrame.\n",
            "Try using .loc[row_indexer,col_indexer] = value instead\n",
            "\n",
            "See the caveats in the documentation: https://pandas.pydata.org/pandas-docs/stable/user_guide/indexing.html#returning-a-view-versus-a-copy\n"
          ]
        },
        {
          "output_type": "execute_result",
          "data": {
            "text/html": [
              "<div>\n",
              "<style scoped>\n",
              "    .dataframe tbody tr th:only-of-type {\n",
              "        vertical-align: middle;\n",
              "    }\n",
              "\n",
              "    .dataframe tbody tr th {\n",
              "        vertical-align: top;\n",
              "    }\n",
              "\n",
              "    .dataframe thead th {\n",
              "        text-align: right;\n",
              "    }\n",
              "</style>\n",
              "<table border=\"1\" class=\"dataframe\">\n",
              "  <thead>\n",
              "    <tr style=\"text-align: right;\">\n",
              "      <th></th>\n",
              "      <th>quotation</th>\n",
              "      <th>tokenized_quote</th>\n",
              "    </tr>\n",
              "  </thead>\n",
              "  <tbody>\n",
              "    <tr>\n",
              "      <th>28</th>\n",
              "      <td>A face-to-face duty lawyer service provided by...</td>\n",
              "      <td>[face-to-face, duty, lawyer, service, provided...</td>\n",
              "    </tr>\n",
              "    <tr>\n",
              "      <th>29</th>\n",
              "      <td>a few of the candidates who will do better in ...</td>\n",
              "      <td>[candidates, better, part, world]</td>\n",
              "    </tr>\n",
              "    <tr>\n",
              "      <th>139</th>\n",
              "      <td>Apply for the privilege of having this entrepr...</td>\n",
              "      <td>[Apply, privilege, entrepreneurial, enterprisi...</td>\n",
              "    </tr>\n",
              "    <tr>\n",
              "      <th>173</th>\n",
              "      <td>At least 7 million lives could be saved over t...</td>\n",
              "      <td>[least, 7, million, lives, could, saved, next,...</td>\n",
              "    </tr>\n",
              "    <tr>\n",
              "      <th>254</th>\n",
              "      <td>But it really is that. The universe is a weird...</td>\n",
              "      <td>[really, universe, weird, place]</td>\n",
              "    </tr>\n",
              "  </tbody>\n",
              "</table>\n",
              "</div>"
            ],
            "text/plain": [
              "                                             quotation                                    tokenized_quote\n",
              "28   A face-to-face duty lawyer service provided by...  [face-to-face, duty, lawyer, service, provided...\n",
              "29   a few of the candidates who will do better in ...                  [candidates, better, part, world]\n",
              "139  Apply for the privilege of having this entrepr...  [Apply, privilege, entrepreneurial, enterprisi...\n",
              "173  At least 7 million lives could be saved over t...  [least, 7, million, lives, could, saved, next,...\n",
              "254  But it really is that. The universe is a weird...                   [really, universe, weird, place]"
            ]
          },
          "metadata": {},
          "execution_count": 21
        }
      ]
    },
    {
      "cell_type": "markdown",
      "metadata": {
        "id": "5480330b-861d-4771-9109-ce1231250c7d"
      },
      "source": [
        "##### 4. Stem the words (ie 'eating', 'eats', 'ate' -> \"eat\")"
      ],
      "id": "5480330b-861d-4771-9109-ce1231250c7d"
    },
    {
      "cell_type": "code",
      "metadata": {
        "id": "3bdd0370-09fa-494b-bda3-3ab87e7807bb",
        "colab": {
          "base_uri": "https://localhost:8080/",
          "height": 306
        },
        "outputId": "4d708665-de7f-4bea-af3b-cd1b51614e05"
      },
      "source": [
        "#go champion, you can do it!\n",
        "\n",
        "from nltk.stem import PorterStemmer\n",
        "\n",
        "# You may look into other stemming algorithms than this one, but note that no stemmer will give perfect results.\n",
        "PS = PorterStemmer()\n",
        "\n",
        "def stem_words(l):\n",
        "    return [PS.stem(w) for w in l]\n",
        "\n",
        "quotes_selected_speakers[\"tokenized_quote\"] = quotes_selected_speakers.tokenized_quote.apply(stem_words)\n",
        "quotes_selected_speakers[[\"quotation\", \"tokenized_quote\"]].head()"
      ],
      "id": "3bdd0370-09fa-494b-bda3-3ab87e7807bb",
      "execution_count": 22,
      "outputs": [
        {
          "output_type": "stream",
          "name": "stderr",
          "text": [
            "/usr/local/lib/python3.7/dist-packages/ipykernel_launcher.py:10: SettingWithCopyWarning: \n",
            "A value is trying to be set on a copy of a slice from a DataFrame.\n",
            "Try using .loc[row_indexer,col_indexer] = value instead\n",
            "\n",
            "See the caveats in the documentation: https://pandas.pydata.org/pandas-docs/stable/user_guide/indexing.html#returning-a-view-versus-a-copy\n",
            "  # Remove the CWD from sys.path while we load stuff.\n"
          ]
        },
        {
          "output_type": "execute_result",
          "data": {
            "text/html": [
              "<div>\n",
              "<style scoped>\n",
              "    .dataframe tbody tr th:only-of-type {\n",
              "        vertical-align: middle;\n",
              "    }\n",
              "\n",
              "    .dataframe tbody tr th {\n",
              "        vertical-align: top;\n",
              "    }\n",
              "\n",
              "    .dataframe thead th {\n",
              "        text-align: right;\n",
              "    }\n",
              "</style>\n",
              "<table border=\"1\" class=\"dataframe\">\n",
              "  <thead>\n",
              "    <tr style=\"text-align: right;\">\n",
              "      <th></th>\n",
              "      <th>quotation</th>\n",
              "      <th>tokenized_quote</th>\n",
              "    </tr>\n",
              "  </thead>\n",
              "  <tbody>\n",
              "    <tr>\n",
              "      <th>28</th>\n",
              "      <td>A face-to-face duty lawyer service provided by...</td>\n",
              "      <td>[face-to-fac, duti, lawyer, servic, provid, le...</td>\n",
              "    </tr>\n",
              "    <tr>\n",
              "      <th>29</th>\n",
              "      <td>a few of the candidates who will do better in ...</td>\n",
              "      <td>[candid, better, part, world]</td>\n",
              "    </tr>\n",
              "    <tr>\n",
              "      <th>139</th>\n",
              "      <td>Apply for the privilege of having this entrepr...</td>\n",
              "      <td>[appli, privileg, entrepreneuri, enterpris, cr...</td>\n",
              "    </tr>\n",
              "    <tr>\n",
              "      <th>173</th>\n",
              "      <td>At least 7 million lives could be saved over t...</td>\n",
              "      <td>[least, 7, million, live, could, save, next, d...</td>\n",
              "    </tr>\n",
              "    <tr>\n",
              "      <th>254</th>\n",
              "      <td>But it really is that. The universe is a weird...</td>\n",
              "      <td>[realli, univers, weird, place]</td>\n",
              "    </tr>\n",
              "  </tbody>\n",
              "</table>\n",
              "</div>"
            ],
            "text/plain": [
              "                                             quotation                                    tokenized_quote\n",
              "28   A face-to-face duty lawyer service provided by...  [face-to-fac, duti, lawyer, servic, provid, le...\n",
              "29   a few of the candidates who will do better in ...                      [candid, better, part, world]\n",
              "139  Apply for the privilege of having this entrepr...  [appli, privileg, entrepreneuri, enterpris, cr...\n",
              "173  At least 7 million lives could be saved over t...  [least, 7, million, live, could, save, next, d...\n",
              "254  But it really is that. The universe is a weird...                    [realli, univers, weird, place]"
            ]
          },
          "metadata": {},
          "execution_count": 22
        }
      ]
    },
    {
      "cell_type": "markdown",
      "metadata": {
        "id": "b5bd42cd-f039-4f3c-8a8b-0c7a3f20116c"
      },
      "source": [
        "##### 5. Assign an 'importance' score to each word\n",
        "- using TF-IDF score\n",
        "- using complexity score from a dictionary (ie cambridge)"
      ],
      "id": "b5bd42cd-f039-4f3c-8a8b-0c7a3f20116c"
    },
    {
      "cell_type": "code",
      "metadata": {
        "id": "147fba72-1be3-491d-a643-95b947f4fde0"
      },
      "source": [
        "#tough one, hope you have the whole day free "
      ],
      "id": "147fba72-1be3-491d-a643-95b947f4fde0",
      "execution_count": 7,
      "outputs": []
    },
    {
      "cell_type": "markdown",
      "metadata": {
        "id": "46dc0d08-42a9-49a0-bbf4-548bc9ca8e07"
      },
      "source": [
        "##### 6. Get data on the speakers from wikidata  _   **INDEPENDANT**\n",
        "- job title (only this for milestone 2)\n",
        "- education level\n",
        "- area of interest\n",
        "- gender\n",
        "- etc\n"
      ],
      "id": "46dc0d08-42a9-49a0-bbf4-548bc9ca8e07"
    },
    {
      "cell_type": "code",
      "metadata": {
        "id": "9ccc50f6-9f6b-4a06-831e-167e9db3ecdd"
      },
      "source": [
        "#enjoying the loner's task, are you?"
      ],
      "id": "9ccc50f6-9f6b-4a06-831e-167e9db3ecdd",
      "execution_count": 8,
      "outputs": []
    },
    {
      "cell_type": "markdown",
      "metadata": {
        "id": "2d07d64a-b5cf-46b7-9fd7-c8709d52c03a"
      },
      "source": [
        "##### 7. Create corpus for 1 job title (look at correlation across speakers)\n",
        "- Later on will have to look according to different job titles, education level, as well as the additional info mentioned in point 1"
      ],
      "id": "2d07d64a-b5cf-46b7-9fd7-c8709d52c03a"
    },
    {
      "cell_type": "code",
      "metadata": {
        "id": "21aa164d-8fad-431d-bc5d-a15f504340c1"
      },
      "source": [
        "#hopefully before friday 10pm "
      ],
      "id": "21aa164d-8fad-431d-bc5d-a15f504340c1",
      "execution_count": 9,
      "outputs": []
    }
  ]
}