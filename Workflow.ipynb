{
 "cells": [
  {
   "cell_type": "markdown",
   "id": "718c829d-a156-4c6f-8102-a47fbe43ddc4",
   "metadata": {},
   "source": [
    "# Tentative workflow"
   ]
  },
  {
   "cell_type": "markdown",
   "id": "6f58b18c-b3c4-41a7-a7fb-ba11a1b435cc",
   "metadata": {},
   "source": [
    "I tried separating the workflow in semi-independant steps. It would still be good if we could try to do the whole thing with a tiny subset of the actual dataset.\n",
    "Step 6 is totally independant of the previous steps"
   ]
  },
  {
   "cell_type": "markdown",
   "id": "2b203389-451b-4285-b127-551b9fc2d02b",
   "metadata": {},
   "source": [
    "##### 1. Load the sentences for each speakers with >X (tbd) quotes\n",
    "- Not for milestone 2, but afterwards will need info such as year, website, country and have to be able to keep them throughout the process"
   ]
  },
  {
   "cell_type": "code",
   "execution_count": null,
   "id": "c00c9d3f-c7d0-484c-b3f7-20f002a71140",
   "metadata": {},
   "outputs": [],
   "source": [
    "#code here"
   ]
  },
  {
   "cell_type": "markdown",
   "id": "4b549892-64b6-4244-806d-57187fbcd962",
   "metadata": {},
   "source": [
    "##### 2. Tokenise the sentences (turn them into single words) and pool the quotes from the same speaker"
   ]
  },
  {
   "cell_type": "code",
   "execution_count": null,
   "id": "f88da2ff-3939-4cee-a7ad-4775de89537d",
   "metadata": {},
   "outputs": [],
   "source": [
    "#your best code here"
   ]
  },
  {
   "cell_type": "markdown",
   "id": "9793a4a3-f51c-4777-ac02-703c1a1493ae",
   "metadata": {},
   "source": [
    "##### 3. Remove useless words (connecters, pronouns etc)"
   ]
  },
  {
   "cell_type": "code",
   "execution_count": null,
   "id": "f773f9eb-1e66-4283-b677-fbdaef0581aa",
   "metadata": {},
   "outputs": [],
   "source": [
    "#should be easy enough, don't mess it up"
   ]
  },
  {
   "cell_type": "markdown",
   "id": "5480330b-861d-4771-9109-ce1231250c7d",
   "metadata": {},
   "source": [
    "##### 4. Stem the words (ie 'eating', 'eats', 'ate' -> \"eat\")"
   ]
  },
  {
   "cell_type": "code",
   "execution_count": null,
   "id": "3bdd0370-09fa-494b-bda3-3ab87e7807bb",
   "metadata": {},
   "outputs": [],
   "source": [
    "#go champion, you can do it!"
   ]
  },
  {
   "cell_type": "markdown",
   "id": "b5bd42cd-f039-4f3c-8a8b-0c7a3f20116c",
   "metadata": {},
   "source": [
    "##### 5. Assign an 'importance' score to each word\n",
    "- using TF-IDF score\n",
    "- using complexity score from a dictionary (ie cambridge)"
   ]
  },
  {
   "cell_type": "code",
   "execution_count": null,
   "id": "147fba72-1be3-491d-a643-95b947f4fde0",
   "metadata": {},
   "outputs": [],
   "source": [
    "#tough one, hope you have the whole day free "
   ]
  },
  {
   "cell_type": "markdown",
   "id": "46dc0d08-42a9-49a0-bbf4-548bc9ca8e07",
   "metadata": {},
   "source": [
    "##### 6. Get data on the speakers from wikidata  _   **INDEPENDANT**\n",
    "- job title (only this for milestone 2)\n",
    "- education level\n",
    "- area of interest\n",
    "- gender\n",
    "- etc\n"
   ]
  },
  {
   "cell_type": "code",
   "execution_count": null,
   "id": "9ccc50f6-9f6b-4a06-831e-167e9db3ecdd",
   "metadata": {},
   "outputs": [],
   "source": [
    "#enjoying the loner's task, are you?"
   ]
  },
  {
   "cell_type": "markdown",
   "id": "2d07d64a-b5cf-46b7-9fd7-c8709d52c03a",
   "metadata": {},
   "source": [
    "##### 7. Create corpus for 1 job title (look at correlation across speakers)\n",
    "- Later on will have to look according to different job titles, education level, as well as the additional info mentioned in point 1"
   ]
  },
  {
   "cell_type": "code",
   "execution_count": null,
   "id": "21aa164d-8fad-431d-bc5d-a15f504340c1",
   "metadata": {},
   "outputs": [],
   "source": [
    "#hopefully before friday 10pm "
   ]
  }
 ],
 "metadata": {
  "kernelspec": {
   "display_name": "Python [conda env:ada] *",
   "language": "python",
   "name": "conda-env-ada-py"
  },
  "language_info": {
   "codemirror_mode": {
    "name": "ipython",
    "version": 3
   },
   "file_extension": ".py",
   "mimetype": "text/x-python",
   "name": "python",
   "nbconvert_exporter": "python",
   "pygments_lexer": "ipython3",
   "version": "3.8.11"
  }
 },
 "nbformat": 4,
 "nbformat_minor": 5
}
