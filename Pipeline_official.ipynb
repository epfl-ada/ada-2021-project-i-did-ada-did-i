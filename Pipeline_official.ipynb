{
  "nbformat": 4,
  "nbformat_minor": 5,
  "metadata": {
    "colab": {
      "name": "Pipeline_official.ipynb",
      "provenance": [],
      "collapsed_sections": [
        "OrfKWlXTN_S8",
        "XfCz594iVL_M",
        "Dj0GTIluPOV8",
        "5480330b-861d-4771-9109-ce1231250c7d",
        "b5bd42cd-f039-4f3c-8a8b-0c7a3f20116c",
        "asFKAikJRb6d",
        "T6U337IMRoHi"
      ],
      "toc_visible": true
    },
    "kernelspec": {
      "display_name": "Python [conda env:ada] *",
      "language": "python",
      "name": "conda-env-ada-py"
    },
    "language_info": {
      "codemirror_mode": {
        "name": "ipython",
        "version": 3
      },
      "file_extension": ".py",
      "mimetype": "text/x-python",
      "name": "python",
      "nbconvert_exporter": "python",
      "pygments_lexer": "ipython3",
      "version": "3.8.11"
    }
  },
  "cells": [
    {
      "cell_type": "markdown",
      "metadata": {
        "id": "718c829d-a156-4c6f-8102-a47fbe43ddc4"
      },
      "source": [
        "# Proposed pipeline"
      ],
      "id": "718c829d-a156-4c6f-8102-a47fbe43ddc4"
    },
    {
      "cell_type": "markdown",
      "metadata": {
        "id": "6f58b18c-b3c4-41a7-a7fb-ba11a1b435cc"
      },
      "source": [
        "## A) Loading the data"
      ],
      "id": "6f58b18c-b3c4-41a7-a7fb-ba11a1b435cc"
    },
    {
      "cell_type": "code",
      "metadata": {
        "colab": {
          "base_uri": "https://localhost:8080/"
        },
        "id": "AE0Dnnxuyiq5",
        "outputId": "bb653a8c-54d5-4d6a-f98c-61afcb5571df"
      },
      "source": [
        "!pip install pandas==1.0.5"
      ],
      "id": "AE0Dnnxuyiq5",
      "execution_count": null,
      "outputs": [
        {
          "output_type": "stream",
          "name": "stdout",
          "text": [
            "Requirement already satisfied: pandas==1.0.5 in /usr/local/lib/python3.7/dist-packages (1.0.5)\n",
            "Requirement already satisfied: numpy>=1.13.3 in /usr/local/lib/python3.7/dist-packages (from pandas==1.0.5) (1.19.5)\n",
            "Requirement already satisfied: pytz>=2017.2 in /usr/local/lib/python3.7/dist-packages (from pandas==1.0.5) (2018.9)\n",
            "Requirement already satisfied: python-dateutil>=2.6.1 in /usr/local/lib/python3.7/dist-packages (from pandas==1.0.5) (2.8.2)\n",
            "Requirement already satisfied: six>=1.5 in /usr/local/lib/python3.7/dist-packages (from python-dateutil>=2.6.1->pandas==1.0.5) (1.15.0)\n"
          ]
        }
      ]
    },
    {
      "cell_type": "code",
      "metadata": {
        "colab": {
          "base_uri": "https://localhost:8080/"
        },
        "id": "hk5xa0msRwNe",
        "outputId": "4119c6b8-3eb4-4369-ca08-bd820c51c699"
      },
      "source": [
        "!pip install tld"
      ],
      "id": "hk5xa0msRwNe",
      "execution_count": null,
      "outputs": [
        {
          "output_type": "stream",
          "name": "stdout",
          "text": [
            "Requirement already satisfied: tld in /usr/local/lib/python3.7/dist-packages (0.12.6)\n"
          ]
        }
      ]
    },
    {
      "cell_type": "code",
      "metadata": {
        "colab": {
          "base_uri": "https://localhost:8080/"
        },
        "id": "0H_-gPqAYI01",
        "outputId": "9a299017-4777-4828-e972-b06aba89b45f"
      },
      "source": [
        "from google.colab import drive\n",
        "drive.mount('/content/drive')\n",
        "\n",
        "import bz2\n",
        "import json\n",
        "import csv\n",
        "import copy\n",
        "import pandas as pd\n",
        "import warnings\n",
        "import numpy as np\n",
        "import matplotlib.pyplot as plt\n",
        "import seaborn as sns\n",
        "import requests\n",
        "from bs4 import BeautifulSoup as soup\n",
        "from ast import literal_eval\n",
        "import urllib.request as ul\n",
        "from collections import Counter\n",
        "from tld import get_fld\n",
        "import string\n",
        "import os\n",
        "import nltk\n",
        "from statsmodels.stats.weightstats import DescrStatsW\n",
        "\n",
        "\n",
        "\n",
        "nltk.download('stopwords')\n",
        "nltk.download(\"punkt\")\n",
        "nltk.download('vader_lexicon')\n",
        "nltk.download('wordnet')\n",
        "nltk.download('crubadan')\n",
        "\n",
        "from nltk.sentiment import SentimentIntensityAnalyzer  # VADER is better for short sentences, but we only have this so we use just that.\n",
        "from nltk.tokenize import word_tokenize\n",
        "from nltk.corpus import stopwords\n",
        "from nltk.stem import WordNetLemmatizer\n",
        "\n",
        "drive = '/content/drive/MyDrive/ADA-shared/'"
      ],
      "id": "0H_-gPqAYI01",
      "execution_count": null,
      "outputs": [
        {
          "output_type": "stream",
          "name": "stdout",
          "text": [
            "Drive already mounted at /content/drive; to attempt to forcibly remount, call drive.mount(\"/content/drive\", force_remount=True).\n",
            "[nltk_data] Downloading package stopwords to /root/nltk_data...\n",
            "[nltk_data]   Package stopwords is already up-to-date!\n",
            "[nltk_data] Downloading package punkt to /root/nltk_data...\n",
            "[nltk_data]   Package punkt is already up-to-date!\n",
            "[nltk_data] Downloading package vader_lexicon to /root/nltk_data...\n",
            "[nltk_data]   Package vader_lexicon is already up-to-date!\n",
            "[nltk_data] Downloading package wordnet to /root/nltk_data...\n",
            "[nltk_data]   Package wordnet is already up-to-date!\n",
            "[nltk_data] Downloading package crubadan to /root/nltk_data...\n",
            "[nltk_data]   Package crubadan is already up-to-date!\n"
          ]
        },
        {
          "output_type": "stream",
          "name": "stderr",
          "text": [
            "/usr/local/lib/python3.7/dist-packages/statsmodels/tools/_testing.py:19: FutureWarning: pandas.util.testing is deprecated. Use the functions in the public API at pandas.testing instead.\n",
            "  import pandas.util.testing as tm\n",
            "/usr/local/lib/python3.7/dist-packages/nltk/twitter/__init__.py:20: UserWarning: The twython library has not been installed. Some functionality from the twitter package will not be available.\n",
            "  warnings.warn(\"The twython library has not been installed. \"\n"
          ]
        }
      ]
    },
    {
      "cell_type": "code",
      "metadata": {
        "colab": {
          "base_uri": "https://localhost:8080/",
          "height": 35
        },
        "id": "mqkbmYdsyDzX",
        "outputId": "f15d7ed4-c09d-41ed-bcd6-14a49ac76f45"
      },
      "source": [
        "pd.__version__"
      ],
      "id": "mqkbmYdsyDzX",
      "execution_count": null,
      "outputs": [
        {
          "output_type": "execute_result",
          "data": {
            "application/vnd.google.colaboratory.intrinsic+json": {
              "type": "string"
            },
            "text/plain": [
              "'1.0.5'"
            ]
          },
          "metadata": {},
          "execution_count": 4
        }
      ]
    },
    {
      "cell_type": "markdown",
      "source": [
        "***TBD***"
      ],
      "metadata": {
        "id": "tSGpuvIug_3L"
      },
      "id": "tSGpuvIug_3L"
    },
    {
      "cell_type": "code",
      "metadata": {
        "colab": {
          "base_uri": "https://localhost:8080/",
          "height": 642
        },
        "id": "cuONXghXYYEx",
        "outputId": "a3f7c7a8-d487-49a5-9384-b3aa1e03f77a"
      },
      "source": [
        "# Load & format quotes from 2020\n",
        "path_to_file = drive + 'Quotebank/quotes-2020.json.bz2' \n",
        "\n",
        "list_of_quotes_dict = []\n",
        "count = 0\n",
        "sample_size = 10000  # Sample chosen for current experiments\n",
        "\n",
        "# Open the 2020 quotebank\n",
        "with bz2.open(path_to_file, 'rb') as s_file:\n",
        "    for instance in s_file:\n",
        "        if count == sample_size:\n",
        "            break\n",
        "        #print(instance)\n",
        "        decoded = json.loads(instance.decode('utf-8'))  # Decode each instance into a dictionary\n",
        "        #print(decoded[\"quoteID\"])\n",
        "        list_of_quotes_dict.append(decoded)\n",
        "        count += 1\n",
        "\n",
        "df_quotes = pd.DataFrame(list_of_quotes_dict)  # Turn list of entries into dataframe\n",
        "df_quotes.head()"
      ],
      "id": "cuONXghXYYEx",
      "execution_count": null,
      "outputs": [
        {
          "data": {
            "text/html": [
              "<div>\n",
              "<style scoped>\n",
              "    .dataframe tbody tr th:only-of-type {\n",
              "        vertical-align: middle;\n",
              "    }\n",
              "\n",
              "    .dataframe tbody tr th {\n",
              "        vertical-align: top;\n",
              "    }\n",
              "\n",
              "    .dataframe thead th {\n",
              "        text-align: right;\n",
              "    }\n",
              "</style>\n",
              "<table border=\"1\" class=\"dataframe\">\n",
              "  <thead>\n",
              "    <tr style=\"text-align: right;\">\n",
              "      <th style=\"min-width: {};\"></th>\n",
              "      <th style=\"min-width: {};\">quoteID</th>\n",
              "      <th style=\"min-width: {};\">quotation</th>\n",
              "      <th style=\"min-width: {};\">speaker</th>\n",
              "      <th style=\"min-width: {};\">qids</th>\n",
              "      <th style=\"min-width: {};\">date</th>\n",
              "      <th style=\"min-width: {};\">numOccurrences</th>\n",
              "      <th style=\"min-width: {};\">probas</th>\n",
              "      <th style=\"min-width: {};\">urls</th>\n",
              "      <th style=\"min-width: {};\">phase</th>\n",
              "    </tr>\n",
              "  </thead>\n",
              "  <tbody>\n",
              "    <tr>\n",
              "      <th>0</th>\n",
              "      <td>2020-01-28-000082</td>\n",
              "      <td>[ D ] espite the efforts of the partners to cr...</td>\n",
              "      <td>None</td>\n",
              "      <td>[]</td>\n",
              "      <td>2020-01-28 08:04:05</td>\n",
              "      <td>1</td>\n",
              "      <td>[[None, 0.7272], [Prime Minister Netanyahu, 0....</td>\n",
              "      <td>[http://israelnationalnews.com/News/News.aspx/...</td>\n",
              "      <td>E</td>\n",
              "    </tr>\n",
              "    <tr>\n",
              "      <th>1</th>\n",
              "      <td>2020-01-16-000088</td>\n",
              "      <td>[ Department of Homeland Security ] was livid ...</td>\n",
              "      <td>Sue Myrick</td>\n",
              "      <td>[Q367796]</td>\n",
              "      <td>2020-01-16 12:00:13</td>\n",
              "      <td>1</td>\n",
              "      <td>[[Sue Myrick, 0.8867], [None, 0.0992], [Ron Wy...</td>\n",
              "      <td>[http://thehill.com/opinion/international/4782...</td>\n",
              "      <td>E</td>\n",
              "    </tr>\n",
              "    <tr>\n",
              "      <th>2</th>\n",
              "      <td>2020-02-10-000142</td>\n",
              "      <td>... He (Madhav) also disclosed that the illega...</td>\n",
              "      <td>None</td>\n",
              "      <td>[]</td>\n",
              "      <td>2020-02-10 23:45:54</td>\n",
              "      <td>1</td>\n",
              "      <td>[[None, 0.8926], [Prakash Rai, 0.1074]]</td>\n",
              "      <td>[https://indianexpress.com/article/business/ec...</td>\n",
              "      <td>E</td>\n",
              "    </tr>\n",
              "    <tr>\n",
              "      <th>3</th>\n",
              "      <td>2020-02-15-000053</td>\n",
              "      <td>... [ I ] f it gets to the floor,</td>\n",
              "      <td>None</td>\n",
              "      <td>[]</td>\n",
              "      <td>2020-02-15 14:12:51</td>\n",
              "      <td>2</td>\n",
              "      <td>[[None, 0.581], [Andy Harris, 0.4191]]</td>\n",
              "      <td>[https://patriotpost.us/opinion/68622-trump-bu...</td>\n",
              "      <td>E</td>\n",
              "    </tr>\n",
              "    <tr>\n",
              "      <th>4</th>\n",
              "      <td>2020-01-24-000168</td>\n",
              "      <td>[ I met them ] when they just turned 4 and 7. ...</td>\n",
              "      <td>Meghan King Edmonds</td>\n",
              "      <td>[Q20684375]</td>\n",
              "      <td>2020-01-24 20:37:09</td>\n",
              "      <td>4</td>\n",
              "      <td>[[Meghan King Edmonds, 0.5446], [None, 0.2705]...</td>\n",
              "      <td>[https://people.com/parents/meghan-king-edmond...</td>\n",
              "      <td>E</td>\n",
              "    </tr>\n",
              "  </tbody>\n",
              "</table>\n",
              "</div>"
            ],
            "text/plain": [
              "             quoteID  ... phase\n",
              "0  2020-01-28-000082  ...     E\n",
              "1  2020-01-16-000088  ...     E\n",
              "2  2020-02-10-000142  ...     E\n",
              "3  2020-02-15-000053  ...     E\n",
              "4  2020-01-24-000168  ...     E\n",
              "\n",
              "[5 rows x 9 columns]"
            ]
          },
          "execution_count": 5,
          "metadata": {},
          "output_type": "execute_result"
        }
      ]
    },
    {
      "cell_type": "code",
      "metadata": {
        "colab": {
          "base_uri": "https://localhost:8080/"
        },
        "id": "Q31R0GjsmFUP",
        "outputId": "a287c4c9-e7f0-4c39-916e-8708033e15c4"
      },
      "source": [
        "df_quotes.loc[0:4,'urls'].tolist()"
      ],
      "id": "Q31R0GjsmFUP",
      "execution_count": null,
      "outputs": [
        {
          "data": {
            "text/plain": [
              "[['http://israelnationalnews.com/News/News.aspx/275210'],\n",
              " ['http://thehill.com/opinion/international/478224-saudi-critics-should-revisit-sue-myricks-wake-up-america-agenda'],\n",
              " ['https://indianexpress.com/article/business/economy/cbi-to-court-gst-officials-taking-cut-from-transporters-6261429/'],\n",
              " ['https://patriotpost.us/opinion/68622-trump-budget-a-cut-above-the-rest-2020-02-15',\n",
              "  'https://www.lifenews.com/2020/02/15/nancy-pelosi-and-democrats-push-bill-to-overturn-every-pro-life-law-saving-babies-from-abortions/'],\n",
              " ['https://people.com/parents/meghan-king-edmonds-not-using-frozen-embryos-with-jim-edmonds/',\n",
              "  'https://people.com/parents/meghan-king-edmonds-stepkids-poisoned-false-information-about-her-jim-edmonds/',\n",
              "  'https://www.usmagazine.com/celebrity-news/news/meghan-king-edmonds-says-shes-been-blocked-from-stepkids/',\n",
              "  'https://people.com/tv/meghan-king-edmonds-jim-edmonds-came-with-baggage-kids/']]"
            ]
          },
          "execution_count": 6,
          "metadata": {},
          "output_type": "execute_result"
        }
      ]
    },
    {
      "cell_type": "markdown",
      "metadata": {
        "id": "RFwxb1BwZGmK"
      },
      "source": [
        "### 2. Wikidata\n",
        "\n"
      ],
      "id": "RFwxb1BwZGmK"
    },
    {
      "cell_type": "code",
      "metadata": {
        "id": "ymYSIcOjZKAE"
      },
      "source": [
        "# Load the speaker attributes \n",
        "wikidata_speakers = pd.read_parquet('/content/drive/MyDrive/ADA/Project datasets/speaker_attributes.parquet')"
      ],
      "id": "ymYSIcOjZKAE",
      "execution_count": null,
      "outputs": []
    },
    {
      "cell_type": "code",
      "metadata": {
        "colab": {
          "base_uri": "https://localhost:8080/",
          "height": 330
        },
        "id": "RfgsQW2woggT",
        "outputId": "4dd113b8-06eb-4177-c16f-60e52b8a423b"
      },
      "source": [
        "wikidata_speakers.sample(5)"
      ],
      "id": "RfgsQW2woggT",
      "execution_count": null,
      "outputs": [
        {
          "output_type": "execute_result",
          "data": {
            "text/html": [
              "<div>\n",
              "<style scoped>\n",
              "    .dataframe tbody tr th:only-of-type {\n",
              "        vertical-align: middle;\n",
              "    }\n",
              "\n",
              "    .dataframe tbody tr th {\n",
              "        vertical-align: top;\n",
              "    }\n",
              "\n",
              "    .dataframe thead th {\n",
              "        text-align: right;\n",
              "    }\n",
              "</style>\n",
              "<table border=\"1\" class=\"dataframe\">\n",
              "  <thead>\n",
              "    <tr style=\"text-align: right;\">\n",
              "      <th></th>\n",
              "      <th>aliases</th>\n",
              "      <th>date_of_birth</th>\n",
              "      <th>nationality</th>\n",
              "      <th>gender</th>\n",
              "      <th>lastrevid</th>\n",
              "      <th>ethnic_group</th>\n",
              "      <th>US_congress_bio_ID</th>\n",
              "      <th>occupation</th>\n",
              "      <th>party</th>\n",
              "      <th>academic_degree</th>\n",
              "      <th>id</th>\n",
              "      <th>label</th>\n",
              "      <th>candidacy</th>\n",
              "      <th>type</th>\n",
              "      <th>religion</th>\n",
              "    </tr>\n",
              "  </thead>\n",
              "  <tbody>\n",
              "    <tr>\n",
              "      <th>6387051</th>\n",
              "      <td>[Reverend George Sweetnam]</td>\n",
              "      <td>None</td>\n",
              "      <td>None</td>\n",
              "      <td>[Q6581097]</td>\n",
              "      <td>1251498685</td>\n",
              "      <td>None</td>\n",
              "      <td>None</td>\n",
              "      <td>None</td>\n",
              "      <td>None</td>\n",
              "      <td>None</td>\n",
              "      <td>Q75865110</td>\n",
              "      <td>George Sweetnam</td>\n",
              "      <td>None</td>\n",
              "      <td>item</td>\n",
              "      <td>None</td>\n",
              "    </tr>\n",
              "    <tr>\n",
              "      <th>3786320</th>\n",
              "      <td>None</td>\n",
              "      <td>[+1957-00-00T00:00:00Z]</td>\n",
              "      <td>None</td>\n",
              "      <td>[Q6581097]</td>\n",
              "      <td>1324529273</td>\n",
              "      <td>None</td>\n",
              "      <td>None</td>\n",
              "      <td>[Q855091, Q36834]</td>\n",
              "      <td>None</td>\n",
              "      <td>None</td>\n",
              "      <td>Q23788056</td>\n",
              "      <td>Albrecht Zummach</td>\n",
              "      <td>None</td>\n",
              "      <td>item</td>\n",
              "      <td>None</td>\n",
              "    </tr>\n",
              "    <tr>\n",
              "      <th>2990242</th>\n",
              "      <td>None</td>\n",
              "      <td>None</td>\n",
              "      <td>None</td>\n",
              "      <td>[Q6581097]</td>\n",
              "      <td>1379733038</td>\n",
              "      <td>None</td>\n",
              "      <td>None</td>\n",
              "      <td>None</td>\n",
              "      <td>None</td>\n",
              "      <td>None</td>\n",
              "      <td>Q75798372</td>\n",
              "      <td>R. L. Marshall</td>\n",
              "      <td>None</td>\n",
              "      <td>item</td>\n",
              "      <td>None</td>\n",
              "    </tr>\n",
              "    <tr>\n",
              "      <th>1941172</th>\n",
              "      <td>None</td>\n",
              "      <td>[+1941-03-15T00:00:00Z]</td>\n",
              "      <td>[Q38]</td>\n",
              "      <td>[Q6581097]</td>\n",
              "      <td>1344657937</td>\n",
              "      <td>None</td>\n",
              "      <td>None</td>\n",
              "      <td>None</td>\n",
              "      <td>None</td>\n",
              "      <td>None</td>\n",
              "      <td>Q87400795</td>\n",
              "      <td>Francesco Totaro</td>\n",
              "      <td>None</td>\n",
              "      <td>item</td>\n",
              "      <td>None</td>\n",
              "    </tr>\n",
              "    <tr>\n",
              "      <th>3626594</th>\n",
              "      <td>None</td>\n",
              "      <td>[+1979-08-04T00:00:00Z]</td>\n",
              "      <td>[Q17]</td>\n",
              "      <td>None</td>\n",
              "      <td>1328320497</td>\n",
              "      <td>None</td>\n",
              "      <td>None</td>\n",
              "      <td>[Q2722764]</td>\n",
              "      <td>None</td>\n",
              "      <td>None</td>\n",
              "      <td>Q11279310</td>\n",
              "      <td>Miyuki</td>\n",
              "      <td>None</td>\n",
              "      <td>item</td>\n",
              "      <td>None</td>\n",
              "    </tr>\n",
              "  </tbody>\n",
              "</table>\n",
              "</div>"
            ],
            "text/plain": [
              "                            aliases            date_of_birth  ...  type religion\n",
              "6387051  [Reverend George Sweetnam]                     None  ...  item     None\n",
              "3786320                        None  [+1957-00-00T00:00:00Z]  ...  item     None\n",
              "2990242                        None                     None  ...  item     None\n",
              "1941172                        None  [+1941-03-15T00:00:00Z]  ...  item     None\n",
              "3626594                        None  [+1979-08-04T00:00:00Z]  ...  item     None\n",
              "\n",
              "[5 rows x 15 columns]"
            ]
          },
          "metadata": {},
          "execution_count": 6
        }
      ]
    },
    {
      "cell_type": "markdown",
      "metadata": {
        "id": "rb_U0pJQ2KYj"
      },
      "source": [
        "#### Load the human interpretable labels"
      ],
      "id": "rb_U0pJQ2KYj"
    },
    {
      "cell_type": "code",
      "metadata": {
        "id": "Jfi6eNRd2V6h",
        "colab": {
          "base_uri": "https://localhost:8080/",
          "height": 206
        },
        "outputId": "688f3ca9-80e0-4dec-ad57-bdc151ad7b79"
      },
      "source": [
        "path_to_file = '/content/drive/MyDrive/ADA/Project datasets/wikidata_labels_descriptions_quotebank.csv.bz2'\n",
        "# Directly use the built-in pandas function as the CSV is quite small \n",
        "df_labels_wiki = pd.read_csv(path_to_file,  encoding='utf-8', compression=\"bz2\")\n",
        "df_labels_wiki.head(5)"
      ],
      "id": "Jfi6eNRd2V6h",
      "execution_count": null,
      "outputs": [
        {
          "output_type": "execute_result",
          "data": {
            "text/html": [
              "<div>\n",
              "<style scoped>\n",
              "    .dataframe tbody tr th:only-of-type {\n",
              "        vertical-align: middle;\n",
              "    }\n",
              "\n",
              "    .dataframe tbody tr th {\n",
              "        vertical-align: top;\n",
              "    }\n",
              "\n",
              "    .dataframe thead th {\n",
              "        text-align: right;\n",
              "    }\n",
              "</style>\n",
              "<table border=\"1\" class=\"dataframe\">\n",
              "  <thead>\n",
              "    <tr style=\"text-align: right;\">\n",
              "      <th></th>\n",
              "      <th>QID</th>\n",
              "      <th>Label</th>\n",
              "      <th>Description</th>\n",
              "    </tr>\n",
              "  </thead>\n",
              "  <tbody>\n",
              "    <tr>\n",
              "      <th>0</th>\n",
              "      <td>Q31</td>\n",
              "      <td>Belgium</td>\n",
              "      <td>country in western Europe</td>\n",
              "    </tr>\n",
              "    <tr>\n",
              "      <th>1</th>\n",
              "      <td>Q45</td>\n",
              "      <td>Portugal</td>\n",
              "      <td>country in southwestern Europe</td>\n",
              "    </tr>\n",
              "    <tr>\n",
              "      <th>2</th>\n",
              "      <td>Q75</td>\n",
              "      <td>Internet</td>\n",
              "      <td>global system of connected computer networks</td>\n",
              "    </tr>\n",
              "    <tr>\n",
              "      <th>3</th>\n",
              "      <td>Q148</td>\n",
              "      <td>People's Republic of China</td>\n",
              "      <td>sovereign state in East Asia</td>\n",
              "    </tr>\n",
              "    <tr>\n",
              "      <th>4</th>\n",
              "      <td>Q155</td>\n",
              "      <td>Brazil</td>\n",
              "      <td>country in South America</td>\n",
              "    </tr>\n",
              "  </tbody>\n",
              "</table>\n",
              "</div>"
            ],
            "text/plain": [
              "    QID  ...                                   Description\n",
              "0   Q31  ...                     country in western Europe\n",
              "1   Q45  ...                country in southwestern Europe\n",
              "2   Q75  ...  global system of connected computer networks\n",
              "3  Q148  ...                  sovereign state in East Asia\n",
              "4  Q155  ...                      country in South America\n",
              "\n",
              "[5 rows x 3 columns]"
            ]
          },
          "metadata": {},
          "execution_count": 7
        }
      ]
    },
    {
      "cell_type": "markdown",
      "metadata": {
        "id": "idplwSqSTGeR"
      },
      "source": [
        "The function `retrieve_wikidata_properties` simply returns the wikidata properties of the given person."
      ],
      "id": "idplwSqSTGeR"
    },
    {
      "cell_type": "code",
      "metadata": {
        "id": "sKnuNufOY9zI"
      },
      "source": [
        "def retrieve_wikidata_properties(person):\n",
        "  # This function simply returns the wikidata properties of the given person\n",
        "  return wikidata_speakers[wikidata_speakers[\"id\"]==person]"
      ],
      "id": "sKnuNufOY9zI",
      "execution_count": null,
      "outputs": []
    },
    {
      "cell_type": "markdown",
      "metadata": {
        "id": "3I9LFOlSTlS9"
      },
      "source": [
        "The function `human_readable_properties` converts the QIDs into human readable format."
      ],
      "id": "3I9LFOlSTlS9"
    },
    {
      "cell_type": "code",
      "metadata": {
        "id": "zK4gM8npsP9Y"
      },
      "source": [
        "def human_readable_properties(data, property):\n",
        "  list_QID = (data.iloc[0][property])\n",
        "  list_values = []\n",
        "  # Start by testing whether there is value\n",
        "  if not(list_QID is None):\n",
        "    # As there might be several values per property, we iterate on them\n",
        "    for idx, QID in enumerate(list_QID):\n",
        "      # Check whether the QID is corrupted, i.e. do not start by Q or less than two characters \n",
        "      if len(QID) >= 2 and QID[0] == 'Q':\n",
        "        # Retrieve the Label (not description) of the QID item in the dataframe containing wikidata label\n",
        "        # In df_labels_wiki, select the row that corresponds to the QID of interst \n",
        "        selector = df_labels_wiki[\"QID\"] == QID \n",
        "        # Then extract the label of the QID/item of interest\n",
        "        list_values.append(df_labels_wiki[selector].iloc[0][\"Label\"])\n",
        "      else:\n",
        "        warnings.warn(\"This is a corrupted QID, no value is returned!\")\n",
        "    return list_values\n",
        "  else:\n",
        "    warnings.warn(\"There is no value for this property!\")\n",
        "    return None  "
      ],
      "id": "zK4gM8npsP9Y",
      "execution_count": null,
      "outputs": []
    },
    {
      "cell_type": "markdown",
      "metadata": {
        "id": "mT0PuiX7WG-O"
      },
      "source": [
        "## B) Data exploration"
      ],
      "id": "mT0PuiX7WG-O"
    },
    {
      "cell_type": "markdown",
      "metadata": {
        "id": "3tJUwgkMQcGG"
      },
      "source": [
        "### 1. Frequency of domains"
      ],
      "id": "3tJUwgkMQcGG"
    },
    {
      "cell_type": "markdown",
      "metadata": {
        "id": "2xd-x839Q7ZF"
      },
      "source": [
        "We want to compute the number of quotes per news outlet in order to choose the most important for our analysis.\n",
        "\n",
        "The first step is to extract the domain from the url. For this task we use the tld library."
      ],
      "id": "2xd-x839Q7ZF"
    },
    {
      "cell_type": "markdown",
      "metadata": {
        "id": "lSbzytTpR38Q"
      },
      "source": [
        "The `get_domain` function return the domain name from a url.\n",
        "\n",
        "Example: `get_domain(\"https://stackoverflow.com/questions/ \")` returns stackoverflow.com\n",
        "\n",
        "The `domain_counting` function takes the list of urls of one quotes and count the number of domains using `get_domain` and the function `Counter` from the library Collection."
      ],
      "id": "lSbzytTpR38Q"
    },
    {
      "cell_type": "code",
      "metadata": {
        "id": "FUHl0HpIjGK1"
      },
      "source": [
        "def get_domain(url):\n",
        "    return get_fld(url)\n",
        "\n",
        "def domain_counting(urls):\n",
        "    domain_list = [get_domain(url) for url in urls] #we store the domain in this list\n",
        "    return Counter(domain_list)"
      ],
      "id": "FUHl0HpIjGK1",
      "execution_count": null,
      "outputs": []
    },
    {
      "cell_type": "markdown",
      "metadata": {
        "id": "zs85SoLvY6w6"
      },
      "source": [
        "We now count the number of quotes per news outlet per year and save this data to external csv files, such that we can easily access it again. This code takes a long time to run and, in practice, was run in parallel on several machines to save some time."
      ],
      "id": "zs85SoLvY6w6"
    },
    {
      "cell_type": "code",
      "metadata": {
        "id": "6vl8daAYklh6"
      },
      "source": [
        "def count_domains_per_year():\n",
        "\n",
        "    path_domains_count = drive + \"Domains_count/\"\n",
        "    if not os.path.exists(path_domains_count):\n",
        "        os.makedirs(path_domains_count)\n",
        "\n",
        "    years = range(2015, 2021)\n",
        "\n",
        "    for year in years:\n",
        "\n",
        "        path_to_file = drive + 'Quotebank/quotes-'+ str(year) + '.json.bz2' \n",
        "        domains_count = Counter()\n",
        "        iterations_counter = 0\n",
        "        df_test = pd.read_json(path_to_file, lines=True, compression='bz2', chunksize=100, encoding=\"utf-8\") #code used to load the data by chunks\n",
        "\n",
        "        for chunk in df_test:\n",
        "\n",
        "            if iterations_counter % 1000 == 0:\n",
        "                print(\"Processing chunk\", iterations_counter, \"of year\", year)\n",
        "\n",
        "            domains = chunk['urls'].apply(domain_counting)\n",
        "            domains_count = domains_count + domains.sum() # chunk['urls'].apply(..) return a series containing the result of Counter(domain_list), so we have to use .sum() to obtain a Counter object.\n",
        "            iterations_counter += 1\n",
        "\n",
        "            if iterations_counter % 10000 == 0:\n",
        "                # Write domains to file every 1 million quotes as intermediate backup in case colab decides to stop running\n",
        "                print(\"Processing chunk \" + str(iterations_counter) + \" of year \" + str(year) + \"...\")\n",
        "                ordered_domains_count_list = domains_count.most_common()\n",
        "                filename = path_domains_count + \"domains_count_\" + str(year) + \"_\" + str(iterations_counter) + \".csv\"\n",
        "                with open(filename, 'w') as f:\n",
        "                    for dom, c in ordered_domains_count_list:\n",
        "                        f.write(\"{},{}\\n\".format(dom, c))\n",
        "                    f.close()\n",
        "\n",
        "                print(\"Saved domains count for year \" + str(year) + \" chunks \" + str(iterations_counter))\n",
        "\n",
        "        # Write final count to file\n",
        "        ordered_domains_count_list = domains_count.most_common()\n",
        "        filename = path_domains_count + \"domains_count_\" + str(year) + \"_final.csv\"\n",
        "        with open(filename, 'w') as f:\n",
        "            for dom, c in ordered_domains_count_list:\n",
        "                f.write(\"{},{}\\n\".format(dom, c))\n",
        "            f.close()\n",
        "\n",
        "        print(\"Saved final domains count for year \" + str(year))\n"
      ],
      "id": "6vl8daAYklh6",
      "execution_count": null,
      "outputs": []
    },
    {
      "cell_type": "code",
      "metadata": {
        "id": "N80y8axwHkcF"
      },
      "source": [
        "#count_domains_per_year()"
      ],
      "id": "N80y8axwHkcF",
      "execution_count": null,
      "outputs": []
    },
    {
      "cell_type": "markdown",
      "metadata": {
        "id": "eFRrxOSYcGgI"
      },
      "source": [
        "### 2. Selection of news outlets to analyse\n",
        "\n",
        "Now that we have the count of quotes for each individual news outlet, we want to select which outlets we will study in our analysis, as studying them all is impossible for us in terms of time and resources.\n",
        "\n",
        "When selecting the outlets, we take the following concerns into consideration:\n",
        "\n",
        "1. We are likely to observe different quoting patterns for non-American outlets than for American ones due to cultural factors, and we may not have the required knowledge to analyse them properly, but it can be interesting to observe these differences during analysis.\n",
        "2. We want the news outlets we choose to be comparable in terms of amount of data we have per outlet per year. For this reason, we select outlets among those that have many quotes in every single year.\n",
        "3. Some news outlets are actually not creating new content, but instead repost/share news from several news outlets on their website. Due to this fact, these outlets cannot be compared with standard news outlets. However, it can still be interesting to analyse them separately.\n",
        "\n",
        "To ensure that point 2 is satisfied, we decide to analyse only outlets that are in the top X news outlets with the most quotes in every single year. We choose X = 200, which returns a total of 36 news outlets to analyse. This additionally is convenient for us, as we are strongly constrained in terms of time and resources and want to reduce the amount of data to analyse.\n",
        "\n",
        "As for point 1 and 3, we create a csv file with all news outlets selected and manually label their country of origin and whether they are creating new content or reposting existing articles. This way, we can easily access this information during our analysis."
      ],
      "id": "eFRrxOSYcGgI"
    },
    {
      "cell_type": "code",
      "metadata": {
        "id": "M27fzoDzcM1P"
      },
      "source": [
        "def select_common_top_X_doms(X, stats=False):\n",
        "    path_domains_count = drive + \"Domains_count/\"\n",
        "    column_names = [\"Domain name\", \"count\"]\n",
        "\n",
        "    domains_count_2015 = pd.read_csv(path_domains_count + \"domains_count_2015_final.csv\", names=column_names).sort_values(\"count\", ascending=False).head(X)\n",
        "    domains_count_2016 = pd.read_csv(path_domains_count + \"domains_count_2016_final.csv\", names=column_names).sort_values(\"count\", ascending=False).head(X)\n",
        "    domains_count_2017 = pd.read_csv(path_domains_count + \"domains_count_2017_final.csv\", names=column_names).sort_values(\"count\", ascending=False).head(X)\n",
        "    domains_count_2018 = pd.read_csv(path_domains_count + \"domains_count_2018_final.csv\", names=column_names).sort_values(\"count\", ascending=False).head(X)\n",
        "    domains_count_2019 = pd.read_csv(path_domains_count + \"domains_count_2019_final.csv\", names=column_names).sort_values(\"count\", ascending=False).head(X)\n",
        "    domains_count_2020 = pd.read_csv(path_domains_count + \"domains_count_2020_final.csv\", names=column_names).sort_values(\"count\", ascending=False).head(X)\n",
        "\n",
        "    all_doms_df = [domains_count_2015, domains_count_2016, domains_count_2017, domains_count_2018, domains_count_2019, domains_count_2020]\n",
        "    doms = [set(dom[\"Domain name\"]) for dom in all_doms_df]\n",
        "    common_domains = doms[0].intersection(*doms)\n",
        "\n",
        "    # Some quick stats\n",
        "    if stats:\n",
        "        years = range(2015, 2021)\n",
        "        print(\"Some stats of results for X =\", X, \"\\n\")\n",
        "        for i, dom in enumerate(all_doms_df):\n",
        "            print(\"Year:\", years[i])\n",
        "            maximum = dom[\"count\"].iloc[0]\n",
        "            minimum = dom[\"count\"].iloc[-1]\n",
        "            print(\"Max\", maximum)\n",
        "            print(\"Min\", minimum)\n",
        "            print(\"Difference:\", maximum - minimum, \"\\n\")\n",
        "\n",
        "        print(\"Number of news outlets:\", len(common_domains), \"\\n\")\n",
        "    \n",
        "    # Write results to file\n",
        "    filename = path_domains_count + \"domains_common_top_200.csv\"\n",
        "    with open(filename, 'w') as f:\n",
        "        for e in common_domains:\n",
        "            f.write(\"{}\\n\".format(e))\n",
        "        f.close()\n",
        "\n",
        "    print(\"Saved domains common to all top\", X)\n",
        "\n",
        "    return common_domains"
      ],
      "id": "M27fzoDzcM1P",
      "execution_count": null,
      "outputs": []
    },
    {
      "cell_type": "code",
      "metadata": {
        "colab": {
          "base_uri": "https://localhost:8080/"
        },
        "id": "5_d9De-aPwiP",
        "outputId": "ace65663-afbe-4961-8b58-ffc5e154a1ff"
      },
      "source": [
        "common_domains = select_common_top_X_doms(200)"
      ],
      "id": "5_d9De-aPwiP",
      "execution_count": null,
      "outputs": [
        {
          "output_type": "stream",
          "name": "stdout",
          "text": [
            "Saved domains common to all top 200\n"
          ]
        }
      ]
    },
    {
      "cell_type": "markdown",
      "metadata": {
        "id": "BRMhuv2mHRem"
      },
      "source": [
        "In the previous cell, we were focused on selecting news outlets with a sufficient amount of data per year to analyse. However, we can also conduct the same analyses with data aggregated across all years, disregarding the time factor. Therefore, we select the Y news outlets with the highest cummulative count of quotes. We choose Y = 36 (same as the amount selected in the first step, just to stay consistent) as we still are constrained in terms of time and resources."
      ],
      "id": "BRMhuv2mHRem"
    },
    {
      "cell_type": "code",
      "metadata": {
        "id": "hiDG-X7uHRM0"
      },
      "source": [
        "def csv_to_counter(path, cols):\n",
        "    with open(path, \"r\") as f:\n",
        "        csv_reader = csv.DictReader(f, fieldnames=cols)\n",
        "        c = Counter({row[cols[0]]: int(float(row[cols[1]])) for row in csv_reader})\n",
        "    return c\n",
        "\n",
        "def select_top_cumulative_count_doms(Y):\n",
        "    path_domains_count = drive + \"Domains_count/\"\n",
        "    column_names = [\"Domain name\", \"count\"]\n",
        "\n",
        "    cumulative_count = Counter()\n",
        "\n",
        "    for year in range(2015, 2021):\n",
        "\n",
        "        cumulative_count += csv_to_counter(path_domains_count + \"domains_count_\" + str(year) + \"_final.csv\", column_names)\n",
        "\n",
        "    # Write all cummulative counts\n",
        "    ordered_cumulative_count = cumulative_count.most_common()\n",
        "    filename = path_domains_count + \"domains_count_cumulative.csv\"\n",
        "    with open(filename, 'w') as f:\n",
        "        for dom, c in ordered_cumulative_count:\n",
        "            f.write(\"{},{}\\n\".format(dom, c))\n",
        "        f.close()\n",
        "\n",
        "    print(\"Saved cumulative count of all domains\")\n",
        "\n",
        "    # Select Y domains with highest cumulative count\n",
        "    ordered_cumulative_count_head = cumulative_count.most_common(Y)\n",
        "    filename = path_domains_count + \"domains_count_cumulative_\" + str(Y) + \".csv\"\n",
        "    top_doms = set()\n",
        "    with open(filename, 'w') as f:\n",
        "        for dom, _ in ordered_cumulative_count_head:\n",
        "            f.write(\"{}\\n\".format(dom))\n",
        "            top_doms.add(dom)\n",
        "        f.close()\n",
        "    \n",
        "    print(\"Saved\", Y, \"domains with highest cumulative counts\")\n",
        "\n",
        "    return top_doms"
      ],
      "id": "hiDG-X7uHRM0",
      "execution_count": null,
      "outputs": []
    },
    {
      "cell_type": "code",
      "metadata": {
        "colab": {
          "base_uri": "https://localhost:8080/"
        },
        "id": "PAQW2Os1PzeF",
        "outputId": "63cafe23-229e-4b81-9bfa-d4483d62143e"
      },
      "source": [
        "top_doms = select_top_cumulative_count_doms(36)"
      ],
      "id": "PAQW2Os1PzeF",
      "execution_count": null,
      "outputs": [
        {
          "output_type": "stream",
          "name": "stdout",
          "text": [
            "Saved cumulative count of all domains\n",
            "Saved 36 domains with highest cumulative counts\n"
          ]
        }
      ]
    },
    {
      "cell_type": "markdown",
      "metadata": {
        "id": "CDwMBNLGUM3E"
      },
      "source": [
        "Among the news outlets selected in this second step, half actually overlap with those selected in the first step, as shown below. For these news outlets, we have a considerable amount of quotes for each year and a huge cumulative count across all years. Therefore, these news outlets are suitable for a comparison between results obtained for each year and results for the aggregated data."
      ],
      "id": "CDwMBNLGUM3E"
    },
    {
      "cell_type": "code",
      "metadata": {
        "colab": {
          "base_uri": "https://localhost:8080/"
        },
        "id": "Mavk2OFwRtMM",
        "outputId": "c7260953-7c15-41ea-997a-10b2d030f136"
      },
      "source": [
        "overlap_selected_doms = common_domains.intersection(top_doms)\n",
        "print(\"Number of doms present in both selections:\", len(overlap_selected_doms))\n",
        "overlap_selected_doms"
      ],
      "id": "Mavk2OFwRtMM",
      "execution_count": null,
      "outputs": [
        {
          "output_type": "stream",
          "name": "stdout",
          "text": [
            "Number of doms present in both selections: 18\n"
          ]
        },
        {
          "output_type": "execute_result",
          "data": {
            "text/plain": [
              "{'breitbart.com',\n",
              " 'brisbanetimes.com.au',\n",
              " 'cbsnews.com',\n",
              " 'cnn.com',\n",
              " 'foxnews.com',\n",
              " 'go.com',\n",
              " 'indiatimes.com',\n",
              " 'mirror.co.uk',\n",
              " 'msn.com',\n",
              " 'nzcity.co.nz',\n",
              " 'nzherald.co.nz',\n",
              " 'seattletimes.com',\n",
              " 'sfgate.com',\n",
              " 'smh.com.au',\n",
              " 'startribune.com',\n",
              " 'stuff.co.nz',\n",
              " 'upi.com',\n",
              " 'washingtontimes.com'}"
            ]
          },
          "metadata": {},
          "execution_count": 82
        }
      ]
    },
    {
      "cell_type": "markdown",
      "metadata": {
        "id": "PIC3sBtaWAdB"
      },
      "source": [
        "In total, we will analyse the data of the union of these selections, so 54 news outlets. We create a csv file containing all domains with each a flag for whether it is suitable for year by year analysis or cumulative analysis respectively. We later also add further information about the domains by hand to address the issues specified in points 1 and 3 at the beginning of the section."
      ],
      "id": "PIC3sBtaWAdB"
    },
    {
      "cell_type": "code",
      "metadata": {
        "colab": {
          "base_uri": "https://localhost:8080/"
        },
        "id": "eTFpuc8dV_46",
        "outputId": "0ef385c7-c74d-49ed-c50a-be44aeca39ee"
      },
      "source": [
        "all_selected_doms = common_domains.union(top_doms)\n",
        "print(\"Number of doms selected for various analyses:\", len(all_selected_doms))\n",
        "\n",
        "# Put file in global drive\n",
        "filename = drive + \"selected_domains.csv\"\n",
        "\n",
        "with open(filename, 'w') as f:\n",
        "    f.write(\"domain,year_by_year,cumulative\\n\")  # Header, add \"country\" and \"original_content\" columns by hand later to the file\n",
        "    for dom in all_selected_doms:\n",
        "        is_in_common_doms = 1 if dom in common_domains else 0  # Suitable for year_by_year analysis\n",
        "        is_in_top_doms = 1 if dom in top_doms else 0  # Suitable for cumulative analysis\n",
        "        f.write(\"{},{},{}\\n\".format(dom, is_in_common_doms, is_in_top_doms))\n",
        "    f.close()\n",
        "\n",
        "print(\"Saved selected domains file\")"
      ],
      "id": "eTFpuc8dV_46",
      "execution_count": null,
      "outputs": [
        {
          "output_type": "stream",
          "name": "stdout",
          "text": [
            "Number of doms selected for various analyses: 54\n",
            "Saved selected domains file\n"
          ]
        }
      ]
    },
    {
      "cell_type": "markdown",
      "metadata": {
        "id": "5s3pgMbGSg7o"
      },
      "source": [
        "### 3. Wikidata\n",
        "\n"
      ],
      "id": "5s3pgMbGSg7o"
    },
    {
      "cell_type": "markdown",
      "metadata": {
        "id": "2FV51WO-oAIn"
      },
      "source": [
        "#### Check how many QIDs there are per speaker:\n",
        "\n",
        "With a sample consisting of the first 10,000 quotes of the 2020 dataset, we can read from the histogram that there is a majority of speakers who have no wikidata page (3425), and one wikidata page (4832). Then the frequency of QID number decreases rapidly (682 for two QID, 285 for three...), however there are still 9 speakers having 20 different QIDs and one speaker with 257 (whose name is *Wang Yi*, current maximum). We will need to figure out a solution for dealing with the speakers having more than one QID. "
      ],
      "id": "2FV51WO-oAIn"
    },
    {
      "cell_type": "code",
      "metadata": {
        "colab": {
          "base_uri": "https://localhost:8080/",
          "height": 295
        },
        "id": "HY04RJircwbt",
        "outputId": "96f0a5c1-27fb-438a-b20e-8b4200ea25f6"
      },
      "source": [
        "# Check QID list's length of every loaded quotes \n",
        "length_qids = np.zeros(len(df_quotes))\n",
        "for idx, qids in enumerate(df_quotes[\"qids\"].values):\n",
        "  length_qids[idx] = len(qids)\n",
        "# Plot a histogram with log-scale on Y axis\n",
        "plt.hist(length_qids, bins=int(np.max(length_qids)))\n",
        "plt.yscale('log')\n",
        "plt.grid('on')\n",
        "plt.xlabel(\"Number of QID elements per speaker\")\n",
        "plt.ylabel(\"Frequency (log-scale)\")\n",
        "plt.title(\"Histogram of the number of QID per speaker\")\n",
        "#plt.xlim(0, 30) # Uncomment for focusing on a specific region \n",
        "plt.show()"
      ],
      "id": "HY04RJircwbt",
      "execution_count": null,
      "outputs": [
        {
          "data": {
            "image/png": "[encoded data removed]",
            "text/plain": [
              "<Figure size 432x288 with 1 Axes>"
            ]
          },
          "metadata": {},
          "output_type": "display_data"
        }
      ]
    },
    {
      "cell_type": "code",
      "metadata": {
        "colab": {
          "base_uri": "https://localhost:8080/",
          "height": 203
        },
        "id": "Le4mUaL0lOoV",
        "outputId": "fcbd57ab-89f3-4c42-9d03-cf0d6263c8a4"
      },
      "source": [
        "# Display the frequency using a dataframe instead of a histogram\n",
        "val, freq = np.unique(length_qids, return_counts=True)\n",
        "df_QID_freq = pd.DataFrame(data={\"Nb. of QID\":val, \"Frequency\":freq})\n",
        "df_QID_freq.head(5)"
      ],
      "id": "Le4mUaL0lOoV",
      "execution_count": null,
      "outputs": [
        {
          "data": {
            "text/html": [
              "<div>\n",
              "<style scoped>\n",
              "    .dataframe tbody tr th:only-of-type {\n",
              "        vertical-align: middle;\n",
              "    }\n",
              "\n",
              "    .dataframe tbody tr th {\n",
              "        vertical-align: top;\n",
              "    }\n",
              "\n",
              "    .dataframe thead th {\n",
              "        text-align: right;\n",
              "    }\n",
              "</style>\n",
              "<table border=\"1\" class=\"dataframe\">\n",
              "  <thead>\n",
              "    <tr style=\"text-align: right;\">\n",
              "      <th></th>\n",
              "      <th>Nb. of QID</th>\n",
              "      <th>Frequency</th>\n",
              "    </tr>\n",
              "  </thead>\n",
              "  <tbody>\n",
              "    <tr>\n",
              "      <th>0</th>\n",
              "      <td>0.0</td>\n",
              "      <td>3425</td>\n",
              "    </tr>\n",
              "    <tr>\n",
              "      <th>1</th>\n",
              "      <td>1.0</td>\n",
              "      <td>4832</td>\n",
              "    </tr>\n",
              "    <tr>\n",
              "      <th>2</th>\n",
              "      <td>2.0</td>\n",
              "      <td>663</td>\n",
              "    </tr>\n",
              "    <tr>\n",
              "      <th>3</th>\n",
              "      <td>3.0</td>\n",
              "      <td>285</td>\n",
              "    </tr>\n",
              "    <tr>\n",
              "      <th>4</th>\n",
              "      <td>4.0</td>\n",
              "      <td>170</td>\n",
              "    </tr>\n",
              "  </tbody>\n",
              "</table>\n",
              "</div>"
            ],
            "text/plain": [
              "   Nb. of QID  Frequency\n",
              "0         0.0       3425\n",
              "1         1.0       4832\n",
              "2         2.0        663\n",
              "3         3.0        285\n",
              "4         4.0        170"
            ]
          },
          "execution_count": 14,
          "metadata": {},
          "output_type": "execute_result"
        }
      ]
    },
    {
      "cell_type": "markdown",
      "metadata": {
        "id": "eBOap9aHcDZc"
      },
      "source": [
        "## C) Data extraction"
      ],
      "id": "eBOap9aHcDZc"
    },
    {
      "cell_type": "markdown",
      "metadata": {
        "id": "-nCUDbBNlxiq"
      },
      "source": [
        "### 1) Generation of csvs\n",
        "\n",
        "For simpler processing, we decide to first extract the data for each news outlet that we will analyse and store it in separate files, such that we don't need to parse the entire huge dataset every time. For each news outlet, we create one csv file containing the data for that news outlet per year, so six csv files per news outlet in total.\n",
        "\n",
        "*Note: we choose to work with csvs instead of jsons because they are much easier to generate during the extraction of the data, since we process the data in chunks. Csvs allow to simply append the data at the end of the document, while appending to json files is much more complicated.*\n",
        "\n",
        "During the generation of these files, we also already generate some of the data that will be useful to us during the analysis part. Each data entry will therefore have the following entries: `quoteID`, `quotation`, `speaker`, `qids`, `date`, `numOccurences`, `probas`, `quote_length`, `negative_sent`, `neutral_sent`, `positive_sent`, `compound`."
      ],
      "id": "-nCUDbBNlxiq"
    },
    {
      "cell_type": "markdown",
      "metadata": {
        "id": "X2xxS44HnP7l"
      },
      "source": [
        "First, we create functions that we will use to process the data from quotebank and generate additional data."
      ],
      "id": "X2xxS44HnP7l"
    },
    {
      "cell_type": "code",
      "metadata": {
        "id": "vxlhKFjW7I27"
      },
      "source": [
        "PUNCTUATION = set(string.punctuation)\n",
        "SIA = SentimentIntensityAnalyzer()\n",
        "\n",
        "def remove_punctuation(l):\n",
        "    return [w for w in l if w not in PUNCTUATION]\n",
        "\n",
        "def sentiment_analysis(q):\n",
        "    scores = SIA.polarity_scores(q)\n",
        "    return scores[\"neg\"], scores[\"neu\"], scores[\"pos\"], scores[\"compound\"]\n",
        "\n",
        "def perform_analyses(q):\n",
        "    # Compute length of quotes\n",
        "    tokens = word_tokenize(q)\n",
        "    quote_length = len(remove_punctuation(tokens))\n",
        "\n",
        "    # Determine sentiment\n",
        "    scores = sentiment_analysis(q)\n",
        "    negative_sent, neutral_sent, positive_sent, compound = sentiment_analysis(q)\n",
        "\n",
        "    return quote_length, negative_sent, neutral_sent, positive_sent, compound\n",
        "\n",
        "def get_target_doms(urls, domains):\n",
        "    domains_set = {get_fld(url) for url in urls}\n",
        "    return domains.intersection(domains_set)"
      ],
      "id": "vxlhKFjW7I27",
      "execution_count": null,
      "outputs": []
    },
    {
      "cell_type": "markdown",
      "metadata": {
        "id": "QWnReUwloA5T"
      },
      "source": [
        "Next, we generate the csvs for each selected news outlet for each year. \n",
        "\n",
        "We want to minimize the runtime, so we make sure to parse the whole dataset only once and directly extract, process and write the data we want. We identify the quotes cited by our target news outlets, generate the additional data we want for them and write the data of each quote to the files of each outlet that quoted it. Additionally, since we run the code on colab, there is the risk that the code might stop running after a given duration of inactivity. Therefore, we keep track of the processing advancement using a log file that is able to recover the state of the code before it stopped running. The log file will never cause us to miss out on any data, but it might still allow for some quotes to be written twice to the same file. Therefore, we will have to drop duplicates when loading the csv files during later analyses (as is anyway the best practice when we do not use our data for machine learning, which we do not in our project)."
      ],
      "id": "QWnReUwloA5T"
    },
    {
      "cell_type": "code",
      "metadata": {
        "id": "uyu0N1a47Ec8"
      },
      "source": [
        "def generate_csvs(domains, year, chunksize=10000, iter_max=None, use_log=False):\n",
        "    '''\n",
        "    Generates a csv per news outlet for given year\n",
        "    '''\n",
        "\n",
        "    path_to_file = drive + 'Quotebank/quotes-'+ str(year) + '.json.bz2'\n",
        "    df_chunks = pd.read_json(path_to_file, lines=True, compression='bz2', chunksize=chunksize, encoding=\"utf-8\")\n",
        "\n",
        "    path_new_csvs = drive + 'News_outlet_csvs/' + str(year) + \"/\"\n",
        "\n",
        "    if not os.path.exists(path_new_csvs):  # Create new folders if they don't already exist\n",
        "        os.makedirs(path_new_csvs)\n",
        "\n",
        "    iterations_counter = 0\n",
        "    if use_log:\n",
        "        log_file = path_new_csvs + str(year) + \"log.txt\"\n",
        "        if os.path.isfile(log_file):  # If log file exists\n",
        "            with open(log_file, \"r\") as f:\n",
        "                lines = f.readlines()\n",
        "                iterations_counter_log = int(lines[-1])  # Read last log entry\n",
        "                f.close()\n",
        "        else:\n",
        "            iterations_counter_log = 0\n",
        "\n",
        "    header = \"quoteID,quotation,speaker,qids,date,numOccurences,probas,quote_length,negative_sent,neutral_sent,positive_sent,compound\\n\"\n",
        "    for dom in domains:\n",
        "        csv_file = path_new_csvs + str(year) + \"_\" + dom +\".csv\"\n",
        "        if use_log:\n",
        "            if not os.path.isfile(csv_file) or iterations_counter_log == 0:\n",
        "                with open(csv_file, \"w\") as f:  # create new files with just the header if they don't yet exist or if we restart the process\n",
        "                    f.write(header)\n",
        "        else:\n",
        "            if os.path.isfile(csv_file):  # If we don't use the log file to recover previous state, delete any existing csv_file and replace them with files containing just a header to avoid corrupted states\n",
        "                os.remove(csv_file)\n",
        "            with open(csv_file, \"w\") as f:\n",
        "                f.write(header)\n",
        "\n",
        "    for chunk in df_chunks:\n",
        "\n",
        "        if use_log:\n",
        "            if iterations_counter < iterations_counter_log:  # skip chunks until we have reached the last logged state\n",
        "                if iterations_counter % 10 == 0:\n",
        "                    print(\"Skipped chunk\", iterations_counter)\n",
        "                iterations_counter += 1\n",
        "                continue\n",
        "\n",
        "        if iter_max is not None and iterations_counter == iter_max:\n",
        "            break\n",
        "\n",
        "        if iterations_counter % 10 == 0:\n",
        "            print(\"Processing chunk\", iterations_counter, \"of year\", year)\n",
        "        \n",
        "        chunk[\"target_doms\"] = chunk.urls.apply(lambda x: get_target_doms(x, domains))  # Find quotes coming from our target domains\n",
        "        chunk = chunk[chunk.target_doms != set()]  # Drop entries where the quote doesn't appear in any of our target domains\n",
        "        chunk.drop([\"urls\", \"phase\"], axis=1, inplace=True)  # drop columns we don't need\n",
        "        chunk[\"quote_length\"], chunk[\"negative_sent\"], chunk[\"neutral_sent\"], chunk[\"positive_sent\"], chunk[\"compound\"] = zip(*chunk.quotation.map(perform_analyses))\n",
        "        \n",
        "        for dom in domains:\n",
        "            is_in_target_doms = chunk.target_doms.apply(lambda x: dom in x)\n",
        "            data = chunk.where(is_in_target_doms)\n",
        "            data.dropna(inplace=True)\n",
        "            data.drop([\"target_doms\"], axis=1, inplace=True)\n",
        "            \n",
        "            csv_file = path_new_csvs + str(year) + \"_\" + dom +\".csv\"\n",
        "            data.to_csv(csv_file, mode='a', header=False, index=False)\n",
        "        \n",
        "        iterations_counter += 1\n",
        "\n",
        "        # Write to log file to recover previous state in case colab stops running\n",
        "        if use_log:\n",
        "            with open(log_file, \"a\") as f:\n",
        "                f.write(str(iterations_counter) + \"\\n\")\n",
        "                f.close()\n"
      ],
      "id": "uyu0N1a47Ec8",
      "execution_count": null,
      "outputs": []
    },
    {
      "cell_type": "markdown",
      "metadata": {
        "id": "XcW9sgots4NC"
      },
      "source": [
        "\n",
        "We retrive the domains we selected for our analysis form the csv file generated during data exploration."
      ],
      "id": "XcW9sgots4NC"
    },
    {
      "cell_type": "code",
      "metadata": {
        "id": "i9HWgdCVIZm4"
      },
      "source": [
        "selected_domains_file = drive + \"selected_domains.csv\"\n",
        "all_selected_doms = pd.read_csv(selected_domains_file)"
      ],
      "id": "i9HWgdCVIZm4",
      "execution_count": null,
      "outputs": []
    },
    {
      "cell_type": "markdown",
      "metadata": {
        "id": "BNvkX-ljtCAy"
      },
      "source": [
        "And we generate the csvs for each news outlet for each year."
      ],
      "id": "BNvkX-ljtCAy"
    },
    {
      "cell_type": "code",
      "metadata": {
        "id": "xEg0KzNmJAB3"
      },
      "source": [
        "years = range(2015, 2021)\n",
        "chunksize = 10000\n",
        "#for year in years:\n",
        "#    generate_csvs(set(all_selected_doms.domain), year, chunksize=chunksize, use_log=True)  # commented such that we don't run it again when we run the entire notebook"
      ],
      "id": "xEg0KzNmJAB3",
      "execution_count": null,
      "outputs": []
    },
    {
      "cell_type": "code",
      "metadata": {
        "id": "4Hjd0IaTmOVZ"
      },
      "source": [
        "def load_csv_to_df(year, domain, folder=\"News_outlet_csvs\"):\n",
        "    path = os.path.join(drive, folder, str(year), str(year) + \"_\" + domain + \".csv\")\n",
        "    outlet_df = pd.read_csv(path, encoding=\"utf-8\")\n",
        "    return outlet_df"
      ],
      "id": "4Hjd0IaTmOVZ",
      "execution_count": null,
      "outputs": []
    },
    {
      "cell_type": "markdown",
      "source": [
        "### 2) Gathering the most cited speakers\n",
        "Method: \n",
        "  - Define a function for loading the CSV\n",
        "  - We will start by filtering the outlets that are based in the US, have a political leaning and are content creator. \n",
        "  - Then we will count the occurence of each speaker based on the *QID* per outlet per year. \n",
        "  - From this we will gather a top 15 of political of democrats and republicans speakers across all years and outlets (Section D)."
      ],
      "metadata": {
        "id": "kpGHnGAfRYy4"
      },
      "id": "kpGHnGAfRYy4"
    },
    {
      "cell_type": "markdown",
      "metadata": {
        "id": "6RTNXKlIl3qK"
      },
      "source": [
        "To prepare the data for our analysis, we first need to load it into dataframes and convert columns to the right types."
      ],
      "id": "6RTNXKlIl3qK"
    },
    {
      "cell_type": "code",
      "source": [
        "# Load the domains' name\n",
        "selected_domains_file = drive + \"selected_domains.csv\"\n",
        "all_selected_doms = pd.read_csv(selected_domains_file)\n",
        "# The mask for selecting the correct outlets\n",
        "mask = (all_selected_doms[\"Nationality\"]=='US') & (all_selected_doms[\"Content_creator\"]>0) & (all_selected_doms[\"Political_leaning\"].notnull())\n",
        "political_US_outlets = all_selected_doms[mask]\n",
        "political_US_outlets"
      ],
      "metadata": {
        "colab": {
          "base_uri": "https://localhost:8080/",
          "height": 645
        },
        "id": "ssQ13W3ORXpv",
        "outputId": "07221ceb-e4f3-4bf0-ac36-9afc5e85d688"
      },
      "id": "ssQ13W3ORXpv",
      "execution_count": null,
      "outputs": [
        {
          "output_type": "execute_result",
          "data": {
            "text/html": [
              "<div>\n",
              "<style scoped>\n",
              "    .dataframe tbody tr th:only-of-type {\n",
              "        vertical-align: middle;\n",
              "    }\n",
              "\n",
              "    .dataframe tbody tr th {\n",
              "        vertical-align: top;\n",
              "    }\n",
              "\n",
              "    .dataframe thead th {\n",
              "        text-align: right;\n",
              "    }\n",
              "</style>\n",
              "<table border=\"1\" class=\"dataframe\">\n",
              "  <thead>\n",
              "    <tr style=\"text-align: right;\">\n",
              "      <th></th>\n",
              "      <th>domain</th>\n",
              "      <th>Year_by_year</th>\n",
              "      <th>Cumulative</th>\n",
              "      <th>Nationality</th>\n",
              "      <th>Political_leaning</th>\n",
              "      <th>Content_creator</th>\n",
              "      <th>Traffic</th>\n",
              "      <th>Factual_reporting</th>\n",
              "    </tr>\n",
              "  </thead>\n",
              "  <tbody>\n",
              "    <tr>\n",
              "      <th>2</th>\n",
              "      <td>latimes.com</td>\n",
              "      <td>0</td>\n",
              "      <td>1</td>\n",
              "      <td>US</td>\n",
              "      <td>-1.0</td>\n",
              "      <td>1</td>\n",
              "      <td>High</td>\n",
              "      <td>5.0</td>\n",
              "    </tr>\n",
              "    <tr>\n",
              "      <th>3</th>\n",
              "      <td>breitbart.com</td>\n",
              "      <td>1</td>\n",
              "      <td>1</td>\n",
              "      <td>US</td>\n",
              "      <td>3.0</td>\n",
              "      <td>1</td>\n",
              "      <td>High</td>\n",
              "      <td>3.0</td>\n",
              "    </tr>\n",
              "    <tr>\n",
              "      <th>7</th>\n",
              "      <td>wtop.com</td>\n",
              "      <td>1</td>\n",
              "      <td>0</td>\n",
              "      <td>US</td>\n",
              "      <td>0.0</td>\n",
              "      <td>1</td>\n",
              "      <td>NaN</td>\n",
              "      <td>5.0</td>\n",
              "    </tr>\n",
              "    <tr>\n",
              "      <th>13</th>\n",
              "      <td>chicagotribune.com</td>\n",
              "      <td>0</td>\n",
              "      <td>1</td>\n",
              "      <td>US</td>\n",
              "      <td>1.0</td>\n",
              "      <td>1</td>\n",
              "      <td>High</td>\n",
              "      <td>5.0</td>\n",
              "    </tr>\n",
              "    <tr>\n",
              "      <th>14</th>\n",
              "      <td>sfgate.com</td>\n",
              "      <td>1</td>\n",
              "      <td>1</td>\n",
              "      <td>US</td>\n",
              "      <td>-1.0</td>\n",
              "      <td>1</td>\n",
              "      <td>High</td>\n",
              "      <td>5.0</td>\n",
              "    </tr>\n",
              "    <tr>\n",
              "      <th>16</th>\n",
              "      <td>upi.com</td>\n",
              "      <td>1</td>\n",
              "      <td>1</td>\n",
              "      <td>US</td>\n",
              "      <td>0.0</td>\n",
              "      <td>1</td>\n",
              "      <td>Medium</td>\n",
              "      <td>5.0</td>\n",
              "    </tr>\n",
              "    <tr>\n",
              "      <th>17</th>\n",
              "      <td>chron.com</td>\n",
              "      <td>1</td>\n",
              "      <td>0</td>\n",
              "      <td>US</td>\n",
              "      <td>-1.0</td>\n",
              "      <td>1</td>\n",
              "      <td>NaN</td>\n",
              "      <td>5.0</td>\n",
              "    </tr>\n",
              "    <tr>\n",
              "      <th>19</th>\n",
              "      <td>cnn.com</td>\n",
              "      <td>1</td>\n",
              "      <td>1</td>\n",
              "      <td>US</td>\n",
              "      <td>-2.0</td>\n",
              "      <td>1</td>\n",
              "      <td>High</td>\n",
              "      <td>3.0</td>\n",
              "    </tr>\n",
              "    <tr>\n",
              "      <th>27</th>\n",
              "      <td>nytimes.com</td>\n",
              "      <td>0</td>\n",
              "      <td>1</td>\n",
              "      <td>US</td>\n",
              "      <td>-1.0</td>\n",
              "      <td>1</td>\n",
              "      <td>High</td>\n",
              "      <td>5.0</td>\n",
              "    </tr>\n",
              "    <tr>\n",
              "      <th>28</th>\n",
              "      <td>thehill.com</td>\n",
              "      <td>1</td>\n",
              "      <td>0</td>\n",
              "      <td>US</td>\n",
              "      <td>0.0</td>\n",
              "      <td>1</td>\n",
              "      <td>High</td>\n",
              "      <td>4.0</td>\n",
              "    </tr>\n",
              "    <tr>\n",
              "      <th>29</th>\n",
              "      <td>washingtonpost.com</td>\n",
              "      <td>0</td>\n",
              "      <td>1</td>\n",
              "      <td>US</td>\n",
              "      <td>-1.0</td>\n",
              "      <td>1</td>\n",
              "      <td>High</td>\n",
              "      <td>4.0</td>\n",
              "    </tr>\n",
              "    <tr>\n",
              "      <th>31</th>\n",
              "      <td>mysanantonio.com</td>\n",
              "      <td>1</td>\n",
              "      <td>0</td>\n",
              "      <td>US</td>\n",
              "      <td>-1.0</td>\n",
              "      <td>1</td>\n",
              "      <td>NaN</td>\n",
              "      <td>5.0</td>\n",
              "    </tr>\n",
              "    <tr>\n",
              "      <th>33</th>\n",
              "      <td>seattletimes.com</td>\n",
              "      <td>1</td>\n",
              "      <td>1</td>\n",
              "      <td>US</td>\n",
              "      <td>-1.0</td>\n",
              "      <td>1</td>\n",
              "      <td>High</td>\n",
              "      <td>5.0</td>\n",
              "    </tr>\n",
              "    <tr>\n",
              "      <th>35</th>\n",
              "      <td>washingtontimes.com</td>\n",
              "      <td>1</td>\n",
              "      <td>1</td>\n",
              "      <td>US</td>\n",
              "      <td>1.0</td>\n",
              "      <td>1</td>\n",
              "      <td>High</td>\n",
              "      <td>3.0</td>\n",
              "    </tr>\n",
              "    <tr>\n",
              "      <th>36</th>\n",
              "      <td>philly.com</td>\n",
              "      <td>0</td>\n",
              "      <td>1</td>\n",
              "      <td>US</td>\n",
              "      <td>-1.0</td>\n",
              "      <td>1</td>\n",
              "      <td>High</td>\n",
              "      <td>5.0</td>\n",
              "    </tr>\n",
              "    <tr>\n",
              "      <th>38</th>\n",
              "      <td>newsok.com</td>\n",
              "      <td>0</td>\n",
              "      <td>1</td>\n",
              "      <td>US</td>\n",
              "      <td>1.0</td>\n",
              "      <td>1</td>\n",
              "      <td>NaN</td>\n",
              "      <td>5.0</td>\n",
              "    </tr>\n",
              "    <tr>\n",
              "      <th>44</th>\n",
              "      <td>cbsnews.com</td>\n",
              "      <td>1</td>\n",
              "      <td>1</td>\n",
              "      <td>US</td>\n",
              "      <td>-1.0</td>\n",
              "      <td>1</td>\n",
              "      <td>High</td>\n",
              "      <td>5.0</td>\n",
              "    </tr>\n",
              "    <tr>\n",
              "      <th>50</th>\n",
              "      <td>foxnews.com</td>\n",
              "      <td>1</td>\n",
              "      <td>1</td>\n",
              "      <td>US</td>\n",
              "      <td>2.0</td>\n",
              "      <td>1</td>\n",
              "      <td>High</td>\n",
              "      <td>3.0</td>\n",
              "    </tr>\n",
              "    <tr>\n",
              "      <th>51</th>\n",
              "      <td>startribune.com</td>\n",
              "      <td>1</td>\n",
              "      <td>1</td>\n",
              "      <td>US</td>\n",
              "      <td>-1.0</td>\n",
              "      <td>1</td>\n",
              "      <td>NaN</td>\n",
              "      <td>5.0</td>\n",
              "    </tr>\n",
              "  </tbody>\n",
              "</table>\n",
              "</div>"
            ],
            "text/plain": [
              "                 domain  Year_by_year  ...  Traffic Factual_reporting\n",
              "2           latimes.com             0  ...     High               5.0\n",
              "3         breitbart.com             1  ...     High               3.0\n",
              "7              wtop.com             1  ...      NaN               5.0\n",
              "13   chicagotribune.com             0  ...     High               5.0\n",
              "14           sfgate.com             1  ...     High               5.0\n",
              "16              upi.com             1  ...   Medium               5.0\n",
              "17            chron.com             1  ...      NaN               5.0\n",
              "19              cnn.com             1  ...     High               3.0\n",
              "27          nytimes.com             0  ...     High               5.0\n",
              "28          thehill.com             1  ...     High               4.0\n",
              "29   washingtonpost.com             0  ...     High               4.0\n",
              "31     mysanantonio.com             1  ...      NaN               5.0\n",
              "33     seattletimes.com             1  ...     High               5.0\n",
              "35  washingtontimes.com             1  ...     High               3.0\n",
              "36           philly.com             0  ...     High               5.0\n",
              "38           newsok.com             0  ...      NaN               5.0\n",
              "44          cbsnews.com             1  ...     High               5.0\n",
              "50          foxnews.com             1  ...     High               3.0\n",
              "51      startribune.com             1  ...      NaN               5.0\n",
              "\n",
              "[19 rows x 8 columns]"
            ]
          },
          "metadata": {},
          "execution_count": 11
        }
      ]
    },
    {
      "cell_type": "code",
      "source": [
        "# Define the years \n",
        "list_years = [2015, 2016, 2017, 2018, 2019, 2020]\n",
        "# Define the domain names\n",
        "list_domains = political_US_outlets[\"domain\"].values"
      ],
      "metadata": {
        "id": "fmeWoAXHXR6i"
      },
      "id": "fmeWoAXHXR6i",
      "execution_count": null,
      "outputs": []
    },
    {
      "cell_type": "code",
      "source": [
        "# Dictionnary that stores in each year a series with the count for each speaker\n",
        "dict_cumulative_counts_1 = {}\n",
        "for year in list_years:\n",
        "  # To store the values per year\n",
        "  cumulative_count = pd.Series([], dtype=float)\n",
        "  for domain in list_domains:\n",
        "    df_outlet = load_csv_to_df(year, domain)\n",
        "    # Use value_count form pandas to count each set of QIDS occurence and use pd.DataFrame.add\n",
        "    cumulative_count = cumulative_count.add(df_outlet[\"qids\"].value_counts(), fill_value=0)\n",
        "  dict_cumulative_counts_1[year]=cumulative_count\n",
        "  print(\"Done for year: \" + str(year))"
      ],
      "metadata": {
        "colab": {
          "base_uri": "https://localhost:8080/"
        },
        "outputId": "6c258d8b-916e-4f5f-efa6-9d3707f660e8",
        "id": "QzK91gLE41l7"
      },
      "execution_count": null,
      "outputs": [
        {
          "output_type": "stream",
          "name": "stdout",
          "text": [
            "Done for year: 2015\n",
            "Done for year: 2016\n",
            "Done for year: 2017\n",
            "Done for year: 2018\n",
            "Done for year: 2019\n",
            "Done for year: 2020\n"
          ]
        }
      ],
      "id": "QzK91gLE41l7"
    },
    {
      "cell_type": "code",
      "source": [
        "# Export the results to CSV files\n",
        "for year in list_years:\n",
        "  df_year = dict_cumulative_counts_1[year]\n",
        "  path = drive+\"/Domains_count/\"+str(year)+'_dict_counts_speakers.txt'\n",
        "  df_year.to_csv(path, header=False, index=True) "
      ],
      "metadata": {
        "id": "zgdJ7_zB41l8"
      },
      "execution_count": null,
      "outputs": [],
      "id": "zgdJ7_zB41l8"
    },
    {
      "cell_type": "markdown",
      "source": [
        "## D) Data preparation"
      ],
      "metadata": {
        "id": "h37hadpUuMYH"
      },
      "id": "h37hadpUuMYH"
    },
    {
      "cell_type": "markdown",
      "source": [
        "### 1) Retrieve the most cited Democrat and Republican speakers"
      ],
      "metadata": {
        "id": "dw-YX3g1aohK"
      },
      "id": "dw-YX3g1aohK"
    },
    {
      "cell_type": "code",
      "source": [
        "# Load the domains' name\n",
        "selected_domains_file = drive + \"selected_domains.csv\"\n",
        "all_selected_doms = pd.read_csv(selected_domains_file)\n",
        "# The mask for selecting the correct outlets\n",
        "mask = (all_selected_doms[\"Nationality\"]=='US') & (all_selected_doms[\"Content_creator\"]>0) & (all_selected_doms[\"Political_leaning\"].notnull())\n",
        "political_US_outlets = all_selected_doms[mask]\n",
        "\n",
        "# Define the years \n",
        "list_years = [2015, 2016, 2017, 2018, 2019, 2020]\n",
        "# Define the domain names\n",
        "list_domains = political_US_outlets[\"domain\"].values\n",
        "\n",
        "# Load cumulative speakers counts per year \n",
        "dict_cumulative_counts = {}\n",
        "for year in list_years:\n",
        "  path = drive+\"/Domains_count/\"+str(year)+'_dict_counts_speakers.txt'\n",
        "  dict_cumulative_counts[year] = pd.read_csv(path, header = None, index_col = 0, squeeze = True)"
      ],
      "metadata": {
        "id": "5LsFQibzRGov"
      },
      "execution_count": null,
      "outputs": [],
      "id": "5LsFQibzRGov"
    },
    {
      "cell_type": "markdown",
      "source": [
        "#### **TBD** Most cited speakers per year\n",
        "\n",
        "Modify the variable `year` and `max_speakers`to display the most cited speakers per year."
      ],
      "metadata": {
        "id": "OrfKWlXTN_S8"
      },
      "id": "OrfKWlXTN_S8"
    },
    {
      "cell_type": "code",
      "source": [
        "year = 2015\n",
        "max_speakers = 20\n",
        "# Gather the top 20 and reset the index as column \n",
        "top_per_year = dict_cumulative_counts[year].sort_values(ascending=False).head(max_speakers).reset_index()\n",
        "# Remove the first element because it is the unrecognised speakers\n",
        "top_per_year.drop(index=top_per_year.index[0], axis=0, inplace=True)\n",
        "# Rename column \n",
        "top_per_year.columns = ['QIDS', 'count']\n",
        "# Reconvert the list (that are strings) to actual list using ast library\n",
        "top_per_year[\"QIDS\"] = top_per_year[\"QIDS\"].apply(lambda x: (literal_eval(x)))\n",
        "\n",
        "# Create the name column\n",
        "# Retrieve the name using the wikidata function described above \n",
        "top_per_year[\"name\"] = top_per_year.apply(lambda x: retrieve_wikidata_properties(x.QIDS[0]).iloc[0].label, axis=1)\n",
        "# Same idea but for the political party, we use the first QID to retrieve the party, not a correct heuristic though \n",
        "top_per_year[\"party\"] = top_per_year.apply(lambda x: human_readable_properties(retrieve_wikidata_properties(x.QIDS[0]), 'party'), axis=1)"
      ],
      "metadata": {
        "colab": {
          "base_uri": "https://localhost:8080/",
          "height": 662
        },
        "id": "J-Aqah0aIuSW",
        "outputId": "cb1f1f78-3544-4ee4-ccf3-460bf3cf0a0f"
      },
      "id": "J-Aqah0aIuSW",
      "execution_count": null,
      "outputs": [
        {
          "output_type": "stream",
          "name": "stderr",
          "text": [
            "/usr/local/lib/python3.7/dist-packages/ipykernel_launcher.py:19: UserWarning: There is no value for this property!\n"
          ]
        },
        {
          "output_type": "execute_result",
          "data": {
            "text/html": [
              "<div>\n",
              "<style scoped>\n",
              "    .dataframe tbody tr th:only-of-type {\n",
              "        vertical-align: middle;\n",
              "    }\n",
              "\n",
              "    .dataframe tbody tr th {\n",
              "        vertical-align: top;\n",
              "    }\n",
              "\n",
              "    .dataframe thead th {\n",
              "        text-align: right;\n",
              "    }\n",
              "</style>\n",
              "<table border=\"1\" class=\"dataframe\">\n",
              "  <thead>\n",
              "    <tr style=\"text-align: right;\">\n",
              "      <th></th>\n",
              "      <th>QIDS</th>\n",
              "      <th>count</th>\n",
              "      <th>name</th>\n",
              "      <th>party</th>\n",
              "    </tr>\n",
              "  </thead>\n",
              "  <tbody>\n",
              "    <tr>\n",
              "      <th>1</th>\n",
              "      <td>[Q76]</td>\n",
              "      <td>24645.0</td>\n",
              "      <td>Barack Obama</td>\n",
              "      <td>[Democratic Party]</td>\n",
              "    </tr>\n",
              "    <tr>\n",
              "      <th>2</th>\n",
              "      <td>[Q22686, Q27947481]</td>\n",
              "      <td>21165.0</td>\n",
              "      <td>Donald Trump</td>\n",
              "      <td>[Republican Party, Independence Party of Ameri...</td>\n",
              "    </tr>\n",
              "    <tr>\n",
              "      <th>3</th>\n",
              "      <td>[Q6294]</td>\n",
              "      <td>13037.0</td>\n",
              "      <td>Hillary Clinton</td>\n",
              "      <td>[Democratic Party, Republican Party]</td>\n",
              "    </tr>\n",
              "    <tr>\n",
              "      <th>4</th>\n",
              "      <td>[Q221997]</td>\n",
              "      <td>9113.0</td>\n",
              "      <td>Jeb Bush</td>\n",
              "      <td>[Republican Party]</td>\n",
              "    </tr>\n",
              "    <tr>\n",
              "      <th>5</th>\n",
              "      <td>[Q450675]</td>\n",
              "      <td>7066.0</td>\n",
              "      <td>Francis</td>\n",
              "      <td>None</td>\n",
              "    </tr>\n",
              "    <tr>\n",
              "      <th>6</th>\n",
              "      <td>[Q2036942]</td>\n",
              "      <td>6771.0</td>\n",
              "      <td>Ted Cruz</td>\n",
              "      <td>[Republican Party]</td>\n",
              "    </tr>\n",
              "    <tr>\n",
              "      <th>7</th>\n",
              "      <td>[Q324546]</td>\n",
              "      <td>6294.0</td>\n",
              "      <td>Marco Rubio</td>\n",
              "      <td>[Republican Party]</td>\n",
              "    </tr>\n",
              "    <tr>\n",
              "      <th>8</th>\n",
              "      <td>[Q816459]</td>\n",
              "      <td>5376.0</td>\n",
              "      <td>Ben Carson</td>\n",
              "      <td>[Republican Party, Democratic Party, independe...</td>\n",
              "    </tr>\n",
              "    <tr>\n",
              "      <th>9</th>\n",
              "      <td>[Q359442]</td>\n",
              "      <td>5167.0</td>\n",
              "      <td>Bernie Sanders</td>\n",
              "      <td>[Liberty Union Party, Democratic Party, indepe...</td>\n",
              "    </tr>\n",
              "    <tr>\n",
              "      <th>10</th>\n",
              "      <td>[Q463557]</td>\n",
              "      <td>5122.0</td>\n",
              "      <td>Rand Paul</td>\n",
              "      <td>[Republican Party]</td>\n",
              "    </tr>\n",
              "    <tr>\n",
              "      <th>11</th>\n",
              "      <td>[Q63879]</td>\n",
              "      <td>5013.0</td>\n",
              "      <td>Chris Christie</td>\n",
              "      <td>[Republican Party]</td>\n",
              "    </tr>\n",
              "    <tr>\n",
              "      <th>12</th>\n",
              "      <td>[Q6288836]</td>\n",
              "      <td>4924.0</td>\n",
              "      <td>Josh Earnest</td>\n",
              "      <td>[Democratic Party]</td>\n",
              "    </tr>\n",
              "    <tr>\n",
              "      <th>13</th>\n",
              "      <td>[Q22316, Q6242998]</td>\n",
              "      <td>4201.0</td>\n",
              "      <td>John Kerry</td>\n",
              "      <td>[Democratic Party]</td>\n",
              "    </tr>\n",
              "    <tr>\n",
              "      <th>14</th>\n",
              "      <td>[Q13502385, Q2035840, Q20712628, Q28835721, Q4...</td>\n",
              "      <td>3914.0</td>\n",
              "      <td>Scott Walker</td>\n",
              "      <td>None</td>\n",
              "    </tr>\n",
              "    <tr>\n",
              "      <th>15</th>\n",
              "      <td>[Q256380]</td>\n",
              "      <td>3474.0</td>\n",
              "      <td>Carly Fiorina</td>\n",
              "      <td>[Republican Party]</td>\n",
              "    </tr>\n",
              "    <tr>\n",
              "      <th>16</th>\n",
              "      <td>[Q22212]</td>\n",
              "      <td>3039.0</td>\n",
              "      <td>Lindsey Graham</td>\n",
              "      <td>[Republican Party]</td>\n",
              "    </tr>\n",
              "    <tr>\n",
              "      <th>17</th>\n",
              "      <td>[Q11702]</td>\n",
              "      <td>3036.0</td>\n",
              "      <td>John Boehner</td>\n",
              "      <td>[Republican Party]</td>\n",
              "    </tr>\n",
              "    <tr>\n",
              "      <th>18</th>\n",
              "      <td>[Q3196830]</td>\n",
              "      <td>2911.0</td>\n",
              "      <td>Chip Kelly</td>\n",
              "      <td>None</td>\n",
              "    </tr>\n",
              "    <tr>\n",
              "      <th>19</th>\n",
              "      <td>[Q43723]</td>\n",
              "      <td>2836.0</td>\n",
              "      <td>Benjamin Netanyahu</td>\n",
              "      <td>[Likud]</td>\n",
              "    </tr>\n",
              "  </tbody>\n",
              "</table>\n",
              "</div>"
            ],
            "text/plain": [
              "                                                 QIDS  ...                                              party\n",
              "1                                               [Q76]  ...                                 [Democratic Party]\n",
              "2                                 [Q22686, Q27947481]  ...  [Republican Party, Independence Party of Ameri...\n",
              "3                                             [Q6294]  ...               [Democratic Party, Republican Party]\n",
              "4                                           [Q221997]  ...                                 [Republican Party]\n",
              "5                                           [Q450675]  ...                                               None\n",
              "6                                          [Q2036942]  ...                                 [Republican Party]\n",
              "7                                           [Q324546]  ...                                 [Republican Party]\n",
              "8                                           [Q816459]  ...  [Republican Party, Democratic Party, independe...\n",
              "9                                           [Q359442]  ...  [Liberty Union Party, Democratic Party, indepe...\n",
              "10                                          [Q463557]  ...                                 [Republican Party]\n",
              "11                                           [Q63879]  ...                                 [Republican Party]\n",
              "12                                         [Q6288836]  ...                                 [Democratic Party]\n",
              "13                                 [Q22316, Q6242998]  ...                                 [Democratic Party]\n",
              "14  [Q13502385, Q2035840, Q20712628, Q28835721, Q4...  ...                                               None\n",
              "15                                          [Q256380]  ...                                 [Republican Party]\n",
              "16                                           [Q22212]  ...                                 [Republican Party]\n",
              "17                                           [Q11702]  ...                                 [Republican Party]\n",
              "18                                         [Q3196830]  ...                                               None\n",
              "19                                           [Q43723]  ...                                            [Likud]\n",
              "\n",
              "[19 rows x 4 columns]"
            ]
          },
          "metadata": {},
          "execution_count": 30
        }
      ]
    },
    {
      "cell_type": "markdown",
      "source": [
        "#### Results across all years per **sets** of QIDS "
      ],
      "metadata": {
        "id": "_jvhUtZ3R1AB"
      },
      "id": "_jvhUtZ3R1AB"
    },
    {
      "cell_type": "code",
      "source": [
        "# Compute this \n",
        "cumulative_count_all = pd.Series([], dtype=float)\n",
        "for year in list_years:\n",
        "  year_series = dict_cumulative_counts[year]\n",
        "  cumulative_count_all = cumulative_count_all.add(year_series, fill_value=0)\n",
        "cumulative_count_all.index.name = 'idx'"
      ],
      "metadata": {
        "id": "FGxwnoBQR9dG"
      },
      "id": "FGxwnoBQR9dG",
      "execution_count": null,
      "outputs": []
    },
    {
      "cell_type": "code",
      "source": [
        "max_speakers = 75\n",
        "# Gather the top 20 and reset the index as column \n",
        "top_speakers = cumulative_count_all.sort_values(ascending=False).head(max_speakers).reset_index()\n",
        "# Remove the first element because it is the unrecognised speakers\n",
        "top_speakers.drop(index=top_speakers.index[0], axis=0, inplace=True)\n",
        "# Rename column \n",
        "top_speakers.columns = ['QIDS', 'count']\n",
        "# Reconvert the list (that are strings) to actual list using ast library\n",
        "top_speakers[\"QIDS\"] = top_speakers[\"QIDS\"].apply(lambda x: (literal_eval(x)))"
      ],
      "metadata": {
        "id": "lqbxSp_iTLA9"
      },
      "id": "lqbxSp_iTLA9",
      "execution_count": null,
      "outputs": []
    },
    {
      "cell_type": "code",
      "source": [
        "# Create the name column\n",
        "# Retrieve the name using the wikidata function described above \n",
        "top_speakers[\"name\"] = top_speakers.apply(lambda x: retrieve_wikidata_properties(x.QIDS[0]).iloc[0].label, axis=1)\n",
        "# Same idea but for the political party, we use the first QID to retrieve the party, not a correct heuristic though \n",
        "top_speakers[\"party\"] = top_speakers.apply(lambda x: human_readable_properties(retrieve_wikidata_properties(x.QIDS[0]), 'party'), axis=1)"
      ],
      "metadata": {
        "colab": {
          "base_uri": "https://localhost:8080/"
        },
        "id": "nAuyTrxRTVXL",
        "outputId": "66679df6-d3ce-48f6-c532-8415570a09b4"
      },
      "id": "nAuyTrxRTVXL",
      "execution_count": null,
      "outputs": [
        {
          "output_type": "stream",
          "name": "stderr",
          "text": [
            "/usr/local/lib/python3.7/dist-packages/ipykernel_launcher.py:19: UserWarning: There is no value for this property!\n"
          ]
        }
      ]
    },
    {
      "cell_type": "markdown",
      "source": [
        "For our analysis we only want to look at the speakers belonging to the Republican or Democratic party. Therefore, we drop all the speakers that are not part of one of them."
      ],
      "metadata": {
        "id": "gCaj7RKVyOLH"
      },
      "id": "gCaj7RKVyOLH"
    },
    {
      "cell_type": "code",
      "source": [
        "top_speakers.dropna(subset=[\"party\"], inplace = True)"
      ],
      "metadata": {
        "id": "_eFqFAO67wcV"
      },
      "id": "_eFqFAO67wcV",
      "execution_count": null,
      "outputs": []
    },
    {
      "cell_type": "markdown",
      "source": [
        "In order to separate Republicans and Democrats we one-hot encode the belonging to both parties in two new columns."
      ],
      "metadata": {
        "id": "Gh_ao22mzAM7"
      },
      "id": "Gh_ao22mzAM7"
    },
    {
      "cell_type": "code",
      "source": [
        "top_speakers[\"Democrat\"] = top_speakers[\"party\"].apply(lambda x: \"Democratic Party\" in x)\n",
        "top_speakers[\"Republican\"] = top_speakers[\"party\"].apply(lambda x: \"Republican Party\" in x)"
      ],
      "metadata": {
        "id": "4RmbuWihoV-s"
      },
      "id": "4RmbuWihoV-s",
      "execution_count": null,
      "outputs": []
    },
    {
      "cell_type": "markdown",
      "source": [
        "We check if some speakers belong to both parties."
      ],
      "metadata": {
        "id": "sqtZDBhy0M01"
      },
      "id": "sqtZDBhy0M01"
    },
    {
      "cell_type": "code",
      "source": [
        "top_speakers[top_speakers[\"Democrat\"] == top_speakers[\"Republican\"]]"
      ],
      "metadata": {
        "colab": {
          "base_uri": "https://localhost:8080/",
          "height": 426
        },
        "id": "Wviif3A0BlJQ",
        "outputId": "3617e41c-e8e8-4cd4-cb98-978ffcbe4912"
      },
      "id": "Wviif3A0BlJQ",
      "execution_count": null,
      "outputs": [
        {
          "output_type": "execute_result",
          "data": {
            "text/html": [
              "<div>\n",
              "<style scoped>\n",
              "    .dataframe tbody tr th:only-of-type {\n",
              "        vertical-align: middle;\n",
              "    }\n",
              "\n",
              "    .dataframe tbody tr th {\n",
              "        vertical-align: top;\n",
              "    }\n",
              "\n",
              "    .dataframe thead th {\n",
              "        text-align: right;\n",
              "    }\n",
              "</style>\n",
              "<table border=\"1\" class=\"dataframe\">\n",
              "  <thead>\n",
              "    <tr style=\"text-align: right;\">\n",
              "      <th></th>\n",
              "      <th>QIDS</th>\n",
              "      <th>count</th>\n",
              "      <th>name</th>\n",
              "      <th>party</th>\n",
              "      <th>Democrat</th>\n",
              "      <th>Republican</th>\n",
              "    </tr>\n",
              "  </thead>\n",
              "  <tbody>\n",
              "    <tr>\n",
              "      <th>1</th>\n",
              "      <td>[Q22686]</td>\n",
              "      <td>285454.0</td>\n",
              "      <td>Donald Trump</td>\n",
              "      <td>[Republican Party, Independence Party of Ameri...</td>\n",
              "      <td>True</td>\n",
              "      <td>True</td>\n",
              "    </tr>\n",
              "    <tr>\n",
              "      <th>2</th>\n",
              "      <td>[Q22686, Q27947481]</td>\n",
              "      <td>89949.0</td>\n",
              "      <td>Donald Trump</td>\n",
              "      <td>[Republican Party, Independence Party of Ameri...</td>\n",
              "      <td>True</td>\n",
              "      <td>True</td>\n",
              "    </tr>\n",
              "    <tr>\n",
              "      <th>4</th>\n",
              "      <td>[Q6294]</td>\n",
              "      <td>38951.0</td>\n",
              "      <td>Hillary Clinton</td>\n",
              "      <td>[Democratic Party, Republican Party]</td>\n",
              "      <td>True</td>\n",
              "      <td>True</td>\n",
              "    </tr>\n",
              "    <tr>\n",
              "      <th>17</th>\n",
              "      <td>[Q7747]</td>\n",
              "      <td>15565.0</td>\n",
              "      <td>Vladimir Putin</td>\n",
              "      <td>[Communist Party of the Soviet Union, Our Home...</td>\n",
              "      <td>False</td>\n",
              "      <td>False</td>\n",
              "    </tr>\n",
              "    <tr>\n",
              "      <th>21</th>\n",
              "      <td>[Q43723]</td>\n",
              "      <td>14061.0</td>\n",
              "      <td>Benjamin Netanyahu</td>\n",
              "      <td>[Likud]</td>\n",
              "      <td>False</td>\n",
              "      <td>False</td>\n",
              "    </tr>\n",
              "    <tr>\n",
              "      <th>27</th>\n",
              "      <td>[Q3052772]</td>\n",
              "      <td>11909.0</td>\n",
              "      <td>Emmanuel Macron</td>\n",
              "      <td>[La République En Marche, Socialist Party, ind...</td>\n",
              "      <td>False</td>\n",
              "      <td>False</td>\n",
              "    </tr>\n",
              "    <tr>\n",
              "      <th>30</th>\n",
              "      <td>[Q567]</td>\n",
              "      <td>10871.0</td>\n",
              "      <td>Angela Merkel</td>\n",
              "      <td>[Christian Democratic Union, Democratic Awaken...</td>\n",
              "      <td>False</td>\n",
              "      <td>False</td>\n",
              "    </tr>\n",
              "    <tr>\n",
              "      <th>38</th>\n",
              "      <td>[Q39259]</td>\n",
              "      <td>9740.0</td>\n",
              "      <td>Recep Tayyip Erdoğan</td>\n",
              "      <td>[National Salvation Party, Welfare Party, Virt...</td>\n",
              "      <td>False</td>\n",
              "      <td>False</td>\n",
              "    </tr>\n",
              "    <tr>\n",
              "      <th>53</th>\n",
              "      <td>[Q816459]</td>\n",
              "      <td>7916.0</td>\n",
              "      <td>Ben Carson</td>\n",
              "      <td>[Republican Party, Democratic Party, independe...</td>\n",
              "      <td>True</td>\n",
              "      <td>True</td>\n",
              "    </tr>\n",
              "    <tr>\n",
              "      <th>54</th>\n",
              "      <td>[Q264766]</td>\n",
              "      <td>7662.0</td>\n",
              "      <td>Theresa May</td>\n",
              "      <td>[Conservative Party]</td>\n",
              "      <td>False</td>\n",
              "      <td>False</td>\n",
              "    </tr>\n",
              "    <tr>\n",
              "      <th>56</th>\n",
              "      <td>[Q311440]</td>\n",
              "      <td>7624.0</td>\n",
              "      <td>António Guterres</td>\n",
              "      <td>[Socialist Party]</td>\n",
              "      <td>False</td>\n",
              "      <td>False</td>\n",
              "    </tr>\n",
              "    <tr>\n",
              "      <th>61</th>\n",
              "      <td>[Q180589]</td>\n",
              "      <td>7440.0</td>\n",
              "      <td>Boris Johnson</td>\n",
              "      <td>[Conservative Party]</td>\n",
              "      <td>False</td>\n",
              "      <td>False</td>\n",
              "    </tr>\n",
              "  </tbody>\n",
              "</table>\n",
              "</div>"
            ],
            "text/plain": [
              "                   QIDS     count  ... Democrat Republican\n",
              "1              [Q22686]  285454.0  ...     True       True\n",
              "2   [Q22686, Q27947481]   89949.0  ...     True       True\n",
              "4               [Q6294]   38951.0  ...     True       True\n",
              "17              [Q7747]   15565.0  ...    False      False\n",
              "21             [Q43723]   14061.0  ...    False      False\n",
              "27           [Q3052772]   11909.0  ...    False      False\n",
              "30               [Q567]   10871.0  ...    False      False\n",
              "38             [Q39259]    9740.0  ...    False      False\n",
              "53            [Q816459]    7916.0  ...     True       True\n",
              "54            [Q264766]    7662.0  ...    False      False\n",
              "56            [Q311440]    7624.0  ...    False      False\n",
              "61            [Q180589]    7440.0  ...    False      False\n",
              "\n",
              "[12 rows x 6 columns]"
            ]
          },
          "metadata": {},
          "execution_count": 36
        }
      ]
    },
    {
      "cell_type": "markdown",
      "source": [
        "We know for sure that Donald Trump actually belonged to the Republican Party during the time of the analysis whereas Hillary Clinton and Ben Carson do belong to the Democrat party. Thus, we manually correct their affiliation."
      ],
      "metadata": {
        "id": "Jahcr7CpAADd"
      },
      "id": "Jahcr7CpAADd"
    },
    {
      "cell_type": "code",
      "source": [
        "top_speakers.at[1,\"Democrat\"] = False #Speakers 1 and 2 are the 2 both corresponds to Donald Trump (2 sets of QID)\n",
        "top_speakers.at[2,\"Democrat\"] = False\n",
        "top_speakers.at[4,\"Republican\"] = False #Speaker 4 corresponds to Hillary Clinton\n",
        "top_speakers.at[53,\"Republican\"] = False # Speaker 53 correponds to Ben Carson"
      ],
      "metadata": {
        "id": "M47_V3ASCI7W"
      },
      "id": "M47_V3ASCI7W",
      "execution_count": null,
      "outputs": []
    },
    {
      "cell_type": "markdown",
      "source": [
        "Now the only speakers that still have the same values in columns `Democrat` and `Republican`are the one that do not belong to any party so discard them."
      ],
      "metadata": {
        "id": "9et-Xsv60eh_"
      },
      "id": "9et-Xsv60eh_"
    },
    {
      "cell_type": "code",
      "source": [
        "top_speakers.drop(top_speakers[top_speakers[\"Democrat\"] == top_speakers[\"Republican\"]].index,inplace=True)"
      ],
      "metadata": {
        "id": "974Q2sJE8pSd"
      },
      "id": "974Q2sJE8pSd",
      "execution_count": null,
      "outputs": []
    },
    {
      "cell_type": "code",
      "source": [
        "top_speakers[top_speakers[\"Democrat\"] == top_speakers[\"Republican\"]]"
      ],
      "metadata": {
        "colab": {
          "base_uri": "https://localhost:8080/",
          "height": 50
        },
        "id": "5HDyNfqzFI3O",
        "outputId": "76143183-e050-4c49-f6e2-677f1682ef4f"
      },
      "id": "5HDyNfqzFI3O",
      "execution_count": null,
      "outputs": [
        {
          "output_type": "execute_result",
          "data": {
            "text/html": [
              "<div>\n",
              "<style scoped>\n",
              "    .dataframe tbody tr th:only-of-type {\n",
              "        vertical-align: middle;\n",
              "    }\n",
              "\n",
              "    .dataframe tbody tr th {\n",
              "        vertical-align: top;\n",
              "    }\n",
              "\n",
              "    .dataframe thead th {\n",
              "        text-align: right;\n",
              "    }\n",
              "</style>\n",
              "<table border=\"1\" class=\"dataframe\">\n",
              "  <thead>\n",
              "    <tr style=\"text-align: right;\">\n",
              "      <th></th>\n",
              "      <th>QIDS</th>\n",
              "      <th>count</th>\n",
              "      <th>name</th>\n",
              "      <th>party</th>\n",
              "      <th>Democrat</th>\n",
              "      <th>Republican</th>\n",
              "    </tr>\n",
              "  </thead>\n",
              "  <tbody>\n",
              "  </tbody>\n",
              "</table>\n",
              "</div>"
            ],
            "text/plain": [
              "Empty DataFrame\n",
              "Columns: [QIDS, count, name, party, Democrat, Republican]\n",
              "Index: []"
            ]
          },
          "metadata": {},
          "execution_count": 39
        }
      ]
    },
    {
      "cell_type": "markdown",
      "source": [
        "Now we can create the two list containing the top 15 speakers of both parties that we will use for the rest of our analysis."
      ],
      "metadata": {
        "id": "ZoAQGKeS1Dn2"
      },
      "id": "ZoAQGKeS1Dn2"
    },
    {
      "cell_type": "code",
      "source": [
        "rep_speakers = top_speakers[top_speakers[\"Republican\"]==True].iloc[0:15]\n",
        "dem_speakers = top_speakers[top_speakers[\"Democrat\"]==True].iloc[0:15]"
      ],
      "metadata": {
        "id": "gyP2jfTvFtQp"
      },
      "id": "gyP2jfTvFtQp",
      "execution_count": null,
      "outputs": []
    },
    {
      "cell_type": "markdown",
      "source": [
        "We will need the QIDs of all these speakers to retrieve the data of interest so we already store them in a simple list."
      ],
      "metadata": {
        "id": "IPrVHInK1PqO"
      },
      "id": "IPrVHInK1PqO"
    },
    {
      "cell_type": "code",
      "source": [
        "# Get the list of the democrat speakers QID as string\n",
        "dem_speakers_QIDS = []\n",
        "for list_QIDS in dem_speakers.QIDS: \n",
        "  dem_speakers_QIDS.append((str(list_QIDS))) \n",
        "\n",
        "# Get the list of the republican speakers QID as string\n",
        "rep_speakers_QIDS = []\n",
        "for list_QIDS in rep_speakers.QIDS: \n",
        "  rep_speakers_QIDS.append((str(list_QIDS))) "
      ],
      "metadata": {
        "id": "U_5xzRGE4DEm"
      },
      "id": "U_5xzRGE4DEm",
      "execution_count": null,
      "outputs": []
    },
    {
      "cell_type": "markdown",
      "metadata": {
        "id": "EHuixGYMWK2U"
      },
      "source": [
        "## E) Data Analysis"
      ],
      "id": "EHuixGYMWK2U"
    },
    {
      "cell_type": "markdown",
      "source": [
        "###1) Evolution in function of the year (Théo's version)\n",
        "\n",
        "First, we wish to study the evolution of the quoting style of influential US news outlets. To that end, we plot our two parameters of interest: length (`length_mean`, number of words) and polarity score (`compound_mean`) between 2015 and 2020. The analysis is first performed for all news outlets, before separating them according to their political orientation (left-leaning, right-leaning and neutral).\n",
        "\n",
        "**CA JE SAIS PAS SI JE SEPARE EN 2 CELL PARCE QUE LA PREMIERE C'EST LA DESCRIPTION DU QUOI, LA DEUXIEME DU COMMENT**\n",
        "\n",
        "For these plots we only keep US news outlets that were in the top 200 news outlets with the most quotes each year, and produce their own content. In order to avoid any bias/error coming from a simple mean of mean (Simpson's paradox), we keep the number of quotes per outlet per year to compute a weighted mean and standard error of the mean (SEM).\n",
        "All plots display the mean, with SEM as errorbars. The error bars are too small to be visible, which means that observable differences are significant. \n",
        "All website political orientation were taken from the website Media Bias/Fact Check (https://mediabiasfactcheck.com/). \n"
      ],
      "metadata": {
        "id": "ty4H2VN_RSpI"
      },
      "id": "ty4H2VN_RSpI"
    },
    {
      "cell_type": "code",
      "metadata": {
        "id": "v7K6ag_RRSpI"
      },
      "source": [
        "time_scale = [2015,2016,2017,2018,2019,2020]\n",
        "length_mean = []\n",
        "length_error = []\n",
        "length_var = []\n",
        "compound_mean = [] #Mean of the polarity score\n",
        "compound_error = []\n",
        "\n",
        "for year in time_scale :\n",
        "  # Temporary variables to stock intermediates means and weights\n",
        "  length_mean_list = []\n",
        "  compound_mean_list = []\n",
        "  quotes_weight_list = []\n",
        "\n",
        "  for row in all_selected_doms.iterrows() :\n",
        "    # Select domains in top 200 every year, that are content creator and from the US\n",
        "    if (row[1][\"Year_by_year\"] == 1) and (row[1][\"Content_creator\"] == 1) and (row[1][\"Nationality\"] == \"US\"):\n",
        "      df_year_outlet = load_csv_to_df(year,row[1][\"domain\"])\n",
        "      quotes_weight_list.append(df_year_outlet.shape[0]) # Save the number of quotes in each outlet\n",
        "      length_mean_list.append(df_year_outlet[\"quote_length\"].mean()) # Compute the mean length of each outlet\n",
        "      compound_mean_list.append(df_year_outlet[\"compound\"].mean()) # Compute the mean polarity score of each outlet\n",
        "\n",
        "  # Computation of weighted mean and standard error of the mean for the length\n",
        "  weighted_stats_length = DescrStatsW(length_mean_list, weights=quotes_weight_list, ddof=0)\n",
        "  length_mean.append(weighted_stats_length.mean)\n",
        "  length_error.append(weighted_stats_length.std_mean)\n",
        "  length_var.append(weighted_stats_length.std)\n",
        "\n",
        "  # Computation of weighted mean and standard error of the mean for the polarity score\n",
        "  weighted_stats_compound = DescrStatsW(compound_mean_list, weights=quotes_weight_list, ddof=0) # We use this class from statsmodel.stats for the computation\n",
        "  compound_mean.append(weighted_stats_compound.mean)\n",
        "  compound_error.append(weighted_stats_compound.std_mean)"
      ],
      "execution_count": null,
      "outputs": [],
      "id": "v7K6ag_RRSpI"
    },
    {
      "cell_type": "code",
      "metadata": {
        "colab": {
          "base_uri": "https://localhost:8080/",
          "height": 295
        },
        "outputId": "e723e243-9c89-4151-edbe-3657e821f47b",
        "id": "9xW0K7lQRSpJ"
      },
      "source": [
        "plt.errorbar(time_scale,length_mean,yerr=length_error)\n",
        "plt.xlabel(\"Year\")\n",
        "plt.ylabel(\"Quote mean length\")\n",
        "plt.title(\"Evolution of quote mean length\")\n",
        "plt.xticks(time_scale)\n",
        "plt.show()"
      ],
      "execution_count": null,
      "outputs": [
        {
          "output_type": "display_data",
          "data": {
            "image/png": "[encoded data removed]",
            "text/plain": [
              "<Figure size 432x288 with 1 Axes>"
            ]
          },
          "metadata": {
            "needs_background": "light"
          }
        }
      ],
      "id": "9xW0K7lQRSpJ"
    },
    {
      "cell_type": "markdown",
      "source": [
        "We can see that the mean length of quotes has remained fairly constant between 2015 and 2018, and increased between 2018 and 2020 by 1 word.\n",
        "\n",
        "Therefore we can conclude that the average length of quotes has increased significantly between 2018 and 2020, although this difference is quite small (1 word)."
      ],
      "metadata": {
        "id": "uq5zsmLNWsAY"
      },
      "id": "uq5zsmLNWsAY"
    },
    {
      "cell_type": "code",
      "source": [
        "plt.errorbar(time_scale,compound_mean,yerr=compound_error,)\n",
        "plt.xlabel(\"Year\")\n",
        "plt.ylabel(\"Quote mean polarity score\")\n",
        "plt.title(\"Evolution of quote mean polarity score\")\n",
        "plt.xticks(time_scale)\n",
        "plt.show()"
      ],
      "metadata": {
        "colab": {
          "base_uri": "https://localhost:8080/",
          "height": 295
        },
        "outputId": "6aa535df-7f35-49a3-dab4-ead48bfc4ab8",
        "id": "1JLBSO-uRSpJ"
      },
      "execution_count": null,
      "outputs": [
        {
          "output_type": "display_data",
          "data": {
            "image/png": "[encoded data removed]",
            "text/plain": [
              "<Figure size 432x288 with 1 Axes>"
            ]
          },
          "metadata": {
            "needs_background": "light"
          }
        }
      ],
      "id": "1JLBSO-uRSpJ"
    },
    {
      "cell_type": "markdown",
      "source": [
        "Overall the quotes are slightly positive (polarity score > 0), but there is a negative trend. \n",
        "\n",
        "This shows the news outlets selected have on average more positive quotes, although the polarity score has been following a negative linear trend between 2015 and 2020."
      ],
      "metadata": {
        "id": "PlsMzoYNZpLI"
      },
      "id": "PlsMzoYNZpLI"
    },
    {
      "cell_type": "code",
      "source": [
        "all_selected_doms.dropna(subset=[\"Political_leaning\"]).head()"
      ],
      "metadata": {
        "colab": {
          "base_uri": "https://localhost:8080/",
          "height": 226
        },
        "outputId": "45da5e6c-5e97-4cc0-df65-258cd97af2bb",
        "id": "xFS2yGPhRSpK"
      },
      "execution_count": null,
      "outputs": [
        {
          "output_type": "execute_result",
          "data": {
            "text/html": [
              "<div>\n",
              "<style scoped>\n",
              "    .dataframe tbody tr th:only-of-type {\n",
              "        vertical-align: middle;\n",
              "    }\n",
              "\n",
              "    .dataframe tbody tr th {\n",
              "        vertical-align: top;\n",
              "    }\n",
              "\n",
              "    .dataframe thead th {\n",
              "        text-align: right;\n",
              "    }\n",
              "</style>\n",
              "<table border=\"1\" class=\"dataframe\">\n",
              "  <thead>\n",
              "    <tr style=\"text-align: right;\">\n",
              "      <th></th>\n",
              "      <th>domain</th>\n",
              "      <th>Year_by_year</th>\n",
              "      <th>Cumulative</th>\n",
              "      <th>Nationality</th>\n",
              "      <th>Political_leaning</th>\n",
              "      <th>Content_creator</th>\n",
              "      <th>Traffic</th>\n",
              "      <th>Factual_reporting</th>\n",
              "    </tr>\n",
              "  </thead>\n",
              "  <tbody>\n",
              "    <tr>\n",
              "      <th>0</th>\n",
              "      <td>nzherald.co.nz</td>\n",
              "      <td>1</td>\n",
              "      <td>1</td>\n",
              "      <td>NZ</td>\n",
              "      <td>0.0</td>\n",
              "      <td>1</td>\n",
              "      <td>NaN</td>\n",
              "      <td>5.0</td>\n",
              "    </tr>\n",
              "    <tr>\n",
              "      <th>2</th>\n",
              "      <td>latimes.com</td>\n",
              "      <td>0</td>\n",
              "      <td>1</td>\n",
              "      <td>US</td>\n",
              "      <td>-1.0</td>\n",
              "      <td>1</td>\n",
              "      <td>High</td>\n",
              "      <td>5.0</td>\n",
              "    </tr>\n",
              "    <tr>\n",
              "      <th>3</th>\n",
              "      <td>breitbart.com</td>\n",
              "      <td>1</td>\n",
              "      <td>1</td>\n",
              "      <td>US</td>\n",
              "      <td>3.0</td>\n",
              "      <td>1</td>\n",
              "      <td>High</td>\n",
              "      <td>3.0</td>\n",
              "    </tr>\n",
              "    <tr>\n",
              "      <th>5</th>\n",
              "      <td>inquisitr.com</td>\n",
              "      <td>1</td>\n",
              "      <td>0</td>\n",
              "      <td>UK</td>\n",
              "      <td>-1.0</td>\n",
              "      <td>0</td>\n",
              "      <td>NaN</td>\n",
              "      <td>3.0</td>\n",
              "    </tr>\n",
              "    <tr>\n",
              "      <th>6</th>\n",
              "      <td>brisbanetimes.com.au</td>\n",
              "      <td>1</td>\n",
              "      <td>1</td>\n",
              "      <td>AU</td>\n",
              "      <td>-1.0</td>\n",
              "      <td>1</td>\n",
              "      <td>NaN</td>\n",
              "      <td>NaN</td>\n",
              "    </tr>\n",
              "  </tbody>\n",
              "</table>\n",
              "</div>"
            ],
            "text/plain": [
              "                 domain  Year_by_year  ...  Traffic Factual_reporting\n",
              "0        nzherald.co.nz             1  ...      NaN               5.0\n",
              "2           latimes.com             0  ...     High               5.0\n",
              "3         breitbart.com             1  ...     High               3.0\n",
              "5         inquisitr.com             1  ...      NaN               3.0\n",
              "6  brisbanetimes.com.au             1  ...      NaN               NaN\n",
              "\n",
              "[5 rows x 8 columns]"
            ]
          },
          "metadata": {},
          "execution_count": 13
        }
      ],
      "id": "xFS2yGPhRSpK"
    },
    {
      "cell_type": "markdown",
      "source": [
        "Next, we plot the same graph as before but we divide the news outlets in three groups based on their political orientation : Left-leaning, Right-leaning and Neutral. No difference is made within a group (no degrees of left or right)."
      ],
      "metadata": {
        "id": "HqfrQmdkRSpL"
      },
      "id": "HqfrQmdkRSpL"
    },
    {
      "cell_type": "code",
      "metadata": {
        "id": "Me9FGIJYRSpL"
      },
      "source": [
        "time_scale = [2015,2016,2017,2018,2019,2020]\n",
        "length_mean_left, length_mean_right, length_mean_neutral = [],[],[]\n",
        "length_error_left, length_error_right, length_error_neutral = [],[],[]\n",
        "compound_mean_left, compound_mean_right, compound_mean_neutral = [],[],[]\n",
        "compound_error_left, compound_error_right, compound_error_neutral = [],[],[]\n",
        "\n",
        "for year in time_scale :\n",
        "  # Temporary variables to stock intermediates means and weights\n",
        "  quotes_weight_list_left, quotes_weight_list_right, quotes_weight_list_neutral = [],[],[]\n",
        "  length_mean_list_left, length_mean_list_right, length_mean_list_neutral = [],[],[]\n",
        "  compound_mean_list_left, compound_mean_list_right, compound_mean_list_neutral = [],[],[]\n",
        "\n",
        "  for row in all_selected_doms.dropna(subset=[\"Political_leaning\"]).iterrows() :\n",
        "    if (row[1][\"Year_by_year\"] == 1) & (row[1][\"Content_creator\"] == 1) & (row[1][\"Nationality\"] == \"US\") :\n",
        "      df_year_outlet = load_csv_to_df(year,row[1][\"domain\"])\n",
        "      \n",
        "      #The political_leaning variable has values between -3 (extreme left) and +3 (extreme right), 0 being neutral\n",
        "      if row[1][\"Political_leaning\"] < 0 :\n",
        "        quotes_weight_list_left.append(df_year_outlet.shape[0])\n",
        "        length_mean_list_left.append(df_year_outlet[\"quote_length\"].mean())\n",
        "        compound_mean_list_left.append(df_year_outlet[\"compound\"].mean())\n",
        "        \n",
        "\n",
        "      elif row[1][\"Political_leaning\"] > 0 :\n",
        "        quotes_weight_list_right.append(df_year_outlet.shape[0])\n",
        "        length_mean_list_right.append(df_year_outlet[\"quote_length\"].mean())\n",
        "        compound_mean_list_right.append(df_year_outlet[\"compound\"].mean())\n",
        "        \n",
        "\n",
        "      elif row[1][\"Political_leaning\"] == 0 :\n",
        "        quotes_weight_list_neutral.append(df_year_outlet.shape[0])\n",
        "        length_mean_list_neutral.append(df_year_outlet[\"quote_length\"].mean())\n",
        "        compound_mean_list_neutral.append(df_year_outlet[\"compound\"].mean())\n",
        "        \n",
        "  # Computation of weighted mean and standard error of the mean for the length\n",
        "  weighted_stats_length_left = DescrStatsW(length_mean_list_left, weights=quotes_weight_list_left, ddof=0)\n",
        "  length_mean_left.append(weighted_stats_length_left.mean)\n",
        "  length_error_left.append(weighted_stats_length_left.std_mean)\n",
        "  \n",
        "  weighted_stats_length_right = DescrStatsW(length_mean_list_right, weights=quotes_weight_list_right, ddof=0)\n",
        "  length_mean_right.append(weighted_stats_length_right.mean)\n",
        "  length_error_right.append(weighted_stats_length_right.std_mean)\n",
        "\n",
        "  weighted_stats_length_neutral = DescrStatsW(length_mean_list_neutral, weights=quotes_weight_list_neutral, ddof=0)\n",
        "  length_mean_neutral.append(weighted_stats_length_neutral.mean)\n",
        "  length_error_neutral.append(weighted_stats_length_neutral.std_mean)\n",
        "\n",
        "  # Computation of weighted mean and standard error of the mean for the polarity score\n",
        "  weighted_stats_compound_left = DescrStatsW(compound_mean_list_left, weights=quotes_weight_list_left, ddof=0)\n",
        "  compound_mean_left.append(weighted_stats_compound_left.mean)\n",
        "  compound_error_left.append(weighted_stats_compound_left.std_mean)\n",
        "  \n",
        "  weighted_stats_compound_right = DescrStatsW(compound_mean_list_right, weights=quotes_weight_list_right, ddof=0)\n",
        "  compound_mean_right.append(weighted_stats_compound_right.mean)\n",
        "  compound_error_right.append(weighted_stats_compound_right.std_mean)\n",
        "\n",
        "  weighted_stats_compound_neutral = DescrStatsW(compound_mean_list_neutral, weights=quotes_weight_list_neutral, ddof=0)\n",
        "  compound_mean_neutral.append(weighted_stats_compound_neutral.mean)\n",
        "  compound_error_neutral.append(weighted_stats_compound_neutral.std_mean)\n"
      ],
      "execution_count": null,
      "outputs": [],
      "id": "Me9FGIJYRSpL"
    },
    {
      "cell_type": "code",
      "source": [
        "#Compute the difference in the quote mean length of left and right-leaning news sources\n",
        "length_mean_difference= list()\n",
        "for item_length_right, item_length_left in zip(length_mean_right, length_mean_left):\n",
        "  length_mean_difference.append(item_length_right - item_length_left)\n",
        "df_length_dif= pd.DataFrame(length_mean_difference)\n",
        "df_length_dif.columns = ['Length Difference']\n",
        "mean_length_dif =  df_length_dif[1:].agg(['mean', 'std'])\n",
        "print(mean_length_dif)"
      ],
      "metadata": {
        "colab": {
          "base_uri": "https://localhost:8080/"
        },
        "id": "2XMRea8L6kCJ",
        "outputId": "37189405-c462-4a3b-b4e5-6ce3377c3e78"
      },
      "execution_count": null,
      "outputs": [
        {
          "output_type": "stream",
          "name": "stdout",
          "text": [
            "      Length Difference\n",
            "mean           1.340521\n",
            "std            0.117789\n"
          ]
        }
      ],
      "id": "2XMRea8L6kCJ"
    },
    {
      "cell_type": "code",
      "source": [
        "plt.errorbar(time_scale,length_mean_left,yerr=length_error_left,label=\"Left-leaning news outlets\")\n",
        "plt.errorbar(time_scale,length_mean_right,yerr=length_error_right,label=\"Right-leaning news outlets\")\n",
        "plt.errorbar(time_scale,length_mean_neutral,yerr=length_error_neutral,label=\"Neutral news outlets\")\n",
        "plt.errorbar(time_scale,length_mean,yerr=length_error,label = \"Average\",color = \"k\")\n",
        "\n",
        "plt.xlabel(\"Year\")\n",
        "plt.ylabel(\"Quote mean length\")\n",
        "plt.title(\"Evolution of quote mean length for news outlets of different political orientations\")\n",
        "plt.xticks(time_scale)\n",
        "plt.legend()\n",
        "plt.show()"
      ],
      "metadata": {
        "colab": {
          "base_uri": "https://localhost:8080/",
          "height": 295
        },
        "outputId": "c535081d-93e4-47a3-f794-9904e71910d1",
        "id": "xuLcn4ezRSpL"
      },
      "execution_count": null,
      "outputs": [
        {
          "output_type": "display_data",
          "data": {
            "image/png": "[encoded data removed]",
            "text/plain": [
              "<Figure size 432x288 with 1 Axes>"
            ]
          },
          "metadata": {
            "needs_background": "light"
          }
        }
      ],
      "id": "xuLcn4ezRSpL"
    },
    {
      "cell_type": "markdown",
      "source": [
        "Right-leaning news outlets have a higher mean quote length than left-leaning ones for all years. Between 2016 and 2020, the difference of left and right-leaning news outlets' mean quote length stays constant at about 1 word (mean difference=1.34, standard deviation=0.12).\n",
        "\n",
        "Furthermore, they both follow the same evolution as the average mean quote length. This suggests the increase of quote length in news outlets is a general pattern which is independant political orientation.\n",
        "\n",
        "**NOT SURE IF I SHOULD MENTION THIS PART:**\n",
        "\n",
        "Additionally the neutral websites have a higher than average mean quote length. We can hypothesize that the sharp decrease of quote length between 2015 and 2016 in right-leaning media may be related to the election.\n",
        "\n"
      ],
      "metadata": {
        "id": "pcHxwiuqflis"
      },
      "id": "pcHxwiuqflis"
    },
    {
      "cell_type": "code",
      "source": [
        "plt.errorbar(time_scale,compound_mean_left,yerr=compound_error_left,label=\"Left-leaning news outlets\")\n",
        "plt.errorbar(time_scale,compound_mean_right,yerr=compound_error_right,label=\"Right-leaning news outlets\")\n",
        "plt.errorbar(time_scale,compound_mean_neutral,yerr=compound_error_neutral,label=\"Neutral news outlets\")\n",
        "plt.errorbar(time_scale,compound_mean,yerr=compound_error,label = \"Average\", color=\"k\")\n",
        "\n",
        "plt.xlabel(\"Year\")\n",
        "plt.ylabel(\"Quote mean polarity score\")\n",
        "plt.title(\"Evolution of quote mean polarity score for news outlets of different political orientations\")\n",
        "plt.xticks(time_scale)\n",
        "plt.legend()\n",
        "plt.show()"
      ],
      "metadata": {
        "colab": {
          "base_uri": "https://localhost:8080/",
          "height": 295
        },
        "outputId": "022e7b7a-5ed9-4c88-e3fb-749fd1f34077",
        "id": "Qrvt91RgRSpL"
      },
      "execution_count": null,
      "outputs": [
        {
          "output_type": "display_data",
          "data": {
            "image/png": "[encoded data removed]",
            "text/plain": [
              "<Figure size 432x288 with 1 Axes>"
            ]
          },
          "metadata": {
            "needs_background": "light"
          }
        }
      ],
      "id": "Qrvt91RgRSpL"
    },
    {
      "cell_type": "markdown",
      "source": [
        "Left-leaning news outlets's quotes are more positive than right-leaning news outlets for all years. Left-leaning news outlets's positivity increased between 2015 and 2020, while right-leaning news outlets stayed more or less constant. Neutral news outlets changed the most, their quote mean polarity score decreased."
      ],
      "metadata": {
        "id": "kyq74DoMtjUw"
      },
      "id": "kyq74DoMtjUw"
    },
    {
      "cell_type": "markdown",
      "source": [
        "**Conclusion part 1**\n",
        "\n",
        "This yearly analysis of quoting style has yielded several inputs. \n",
        "Between 2015 and 2020, quotes have on average been getting longer (20.2 to 21.2 words), are generally positive but are getting less positive (0.128 to 0.116 polarity score).\n",
        "\n",
        "Looking at differences in the quoting styles of left and right-leaning news sources, left-leaning news outlets have on average shorter and more positive quotes than right-leaning outlets."
      ],
      "metadata": {
        "id": "GINpbqaVFLEN"
      },
      "id": "GINpbqaVFLEN"
    },
    {
      "cell_type": "markdown",
      "source": [
        "###1) Evolution in function of the year (Bad version)\n",
        "\n",
        "We start by plotting the evolution of the global mean of both parameters (length and polarity score) in function of the time. For this plot we only keep US outlets that were in the top 200 each year and produce their own content. In order to avoid any bias/error coming from a simple mean of mean (Simpson's paradox), we keep the number of quotes in each outlet for each year to compute a weighted mean and standard error of the mean (SEM). "
      ],
      "metadata": {
        "id": "Cd2V-jGzylUY"
      },
      "id": "Cd2V-jGzylUY"
    },
    {
      "cell_type": "code",
      "metadata": {
        "id": "uZd-z1o62JKp"
      },
      "source": [
        "time_scale = [2015,2016,2017,2018,2019,2020]\n",
        "length_mean = []\n",
        "length_error = []\n",
        "length_var = []\n",
        "compound_mean = [] #Mean of the polarity score\n",
        "compound_error = []\n",
        "\n",
        "for year in time_scale :\n",
        "  # Temporary variables to stock intermediates means and weights\n",
        "  length_mean_list = []\n",
        "  compound_mean_list = []\n",
        "  quotes_weight_list = []\n",
        "\n",
        "  for row in all_selected_doms.iterrows() :\n",
        "    if (row[1][\"Year_by_year\"] == 1) and (row[1][\"Content_creator\"] == 1) and (row[1][\"Nationality\"] == \"US\"):\n",
        "      df_year_outlet = load_csv_to_df(year,row[1][\"domain\"])\n",
        "      quotes_weight_list.append(df_year_outlet.shape[0]) # Save the number of quotes in each outlet\n",
        "      length_mean_list.append(df_year_outlet[\"quote_length\"].mean()) # Compute the mean length of each outlet\n",
        "      compound_mean_list.append(df_year_outlet[\"compound\"].mean()) # Compute the mean polarity score of each outlet\n",
        "\n",
        "  # Computation of weighted mean and standard error of the mean for the length\n",
        "  weighted_stats_length = DescrStatsW(length_mean_list, weights=quotes_weight_list, ddof=0)\n",
        "  length_mean.append(weighted_stats_length.mean)\n",
        "  length_error.append(weighted_stats_length.std_mean)\n",
        "  length_var.append(weighted_stats_length.std)\n",
        "\n",
        "  # Computation of weighted mean and standard error of the mean for the polarity score\n",
        "  weighted_stats_compound = DescrStatsW(compound_mean_list, weights=quotes_weight_list, ddof=0) # We use this class from statsmodel.stats for the computation\n",
        "  compound_mean.append(weighted_stats_compound.mean)\n",
        "  compound_error.append(weighted_stats_compound.std_mean)"
      ],
      "id": "uZd-z1o62JKp",
      "execution_count": null,
      "outputs": []
    },
    {
      "cell_type": "code",
      "metadata": {
        "colab": {
          "base_uri": "https://localhost:8080/",
          "height": 295
        },
        "id": "xYaYpNmU6KZN",
        "outputId": "ba3810b3-e8c4-4782-c799-cea63cc9ff55"
      },
      "source": [
        "plt.errorbar(time_scale,length_mean,yerr=length_error)\n",
        "plt.xlabel(\"Year\")\n",
        "plt.ylabel(\"Mean\")\n",
        "plt.title(\"Evolution of mean length of quotes in outlets without cumulative-only\")\n",
        "plt.xticks(time_scale)\n",
        "#plt.ylim((21.4,21.5))\n",
        "plt.show()"
      ],
      "id": "xYaYpNmU6KZN",
      "execution_count": null,
      "outputs": [
        {
          "output_type": "display_data",
          "data": {
            "image/png": "[encoded data removed]",
            "text/plain": [
              "<Figure size 432x288 with 1 Axes>"
            ]
          },
          "metadata": {
            "needs_background": "light"
          }
        }
      ]
    },
    {
      "cell_type": "code",
      "source": [
        "plt.errorbar(time_scale,compound_mean,yerr=compound_error)\n",
        "plt.xlabel(\"Year\")\n",
        "plt.ylabel(\"Mean\")\n",
        "plt.title(\"Evolution of mean polarity score of quotes in outlets without cumulative-only\")\n",
        "plt.xticks(time_scale)\n",
        "#plt.ylim((21.4,21.5))\n",
        "plt.show()"
      ],
      "metadata": {
        "colab": {
          "base_uri": "https://localhost:8080/",
          "height": 295
        },
        "id": "Y49BTKW4WLxg",
        "outputId": "dcbba1df-69d2-45ae-a663-84eeb7fbc7ea"
      },
      "id": "Y49BTKW4WLxg",
      "execution_count": null,
      "outputs": [
        {
          "output_type": "display_data",
          "data": {
            "image/png": "[encoded data removed]",
            "text/plain": [
              "<Figure size 432x288 with 1 Axes>"
            ]
          },
          "metadata": {
            "needs_background": "light"
          }
        }
      ]
    },
    {
      "cell_type": "code",
      "source": [
        "all_selected_doms.dropna(subset=[\"Political_leaning\"]).head()"
      ],
      "metadata": {
        "colab": {
          "base_uri": "https://localhost:8080/",
          "height": 206
        },
        "id": "rj-9NAFjz6u3",
        "outputId": "420dada1-18da-47a9-94e3-9188a1c8a96f"
      },
      "id": "rj-9NAFjz6u3",
      "execution_count": null,
      "outputs": [
        {
          "output_type": "execute_result",
          "data": {
            "text/html": [
              "<div>\n",
              "<style scoped>\n",
              "    .dataframe tbody tr th:only-of-type {\n",
              "        vertical-align: middle;\n",
              "    }\n",
              "\n",
              "    .dataframe tbody tr th {\n",
              "        vertical-align: top;\n",
              "    }\n",
              "\n",
              "    .dataframe thead th {\n",
              "        text-align: right;\n",
              "    }\n",
              "</style>\n",
              "<table border=\"1\" class=\"dataframe\">\n",
              "  <thead>\n",
              "    <tr style=\"text-align: right;\">\n",
              "      <th></th>\n",
              "      <th>domain</th>\n",
              "      <th>Year_by_year</th>\n",
              "      <th>Cumulative</th>\n",
              "      <th>Nationality</th>\n",
              "      <th>Political_leaning</th>\n",
              "      <th>Content_creator</th>\n",
              "      <th>Traffic</th>\n",
              "      <th>Factual_reporting</th>\n",
              "    </tr>\n",
              "  </thead>\n",
              "  <tbody>\n",
              "    <tr>\n",
              "      <th>0</th>\n",
              "      <td>nzherald.co.nz</td>\n",
              "      <td>1</td>\n",
              "      <td>1</td>\n",
              "      <td>NZ</td>\n",
              "      <td>0.0</td>\n",
              "      <td>1</td>\n",
              "      <td>NaN</td>\n",
              "      <td>5.0</td>\n",
              "    </tr>\n",
              "    <tr>\n",
              "      <th>2</th>\n",
              "      <td>latimes.com</td>\n",
              "      <td>0</td>\n",
              "      <td>1</td>\n",
              "      <td>US</td>\n",
              "      <td>-1.0</td>\n",
              "      <td>1</td>\n",
              "      <td>High</td>\n",
              "      <td>5.0</td>\n",
              "    </tr>\n",
              "    <tr>\n",
              "      <th>3</th>\n",
              "      <td>breitbart.com</td>\n",
              "      <td>1</td>\n",
              "      <td>1</td>\n",
              "      <td>US</td>\n",
              "      <td>3.0</td>\n",
              "      <td>1</td>\n",
              "      <td>High</td>\n",
              "      <td>3.0</td>\n",
              "    </tr>\n",
              "    <tr>\n",
              "      <th>5</th>\n",
              "      <td>inquisitr.com</td>\n",
              "      <td>1</td>\n",
              "      <td>0</td>\n",
              "      <td>UK</td>\n",
              "      <td>-1.0</td>\n",
              "      <td>0</td>\n",
              "      <td>NaN</td>\n",
              "      <td>3.0</td>\n",
              "    </tr>\n",
              "    <tr>\n",
              "      <th>6</th>\n",
              "      <td>brisbanetimes.com.au</td>\n",
              "      <td>1</td>\n",
              "      <td>1</td>\n",
              "      <td>AU</td>\n",
              "      <td>-1.0</td>\n",
              "      <td>1</td>\n",
              "      <td>NaN</td>\n",
              "      <td>NaN</td>\n",
              "    </tr>\n",
              "  </tbody>\n",
              "</table>\n",
              "</div>"
            ],
            "text/plain": [
              "                 domain  Year_by_year  ...  Traffic Factual_reporting\n",
              "0        nzherald.co.nz             1  ...      NaN               5.0\n",
              "2           latimes.com             0  ...     High               5.0\n",
              "3         breitbart.com             1  ...     High               3.0\n",
              "5         inquisitr.com             1  ...      NaN               3.0\n",
              "6  brisbanetimes.com.au             1  ...      NaN               NaN\n",
              "\n",
              "[5 rows x 8 columns]"
            ]
          },
          "metadata": {},
          "execution_count": 246
        }
      ]
    },
    {
      "cell_type": "markdown",
      "source": [
        "Next, we plot the same graph as before but we divide the outlets in three groups based on their political bias : Left-biased, Right-biased and Neutral/Least-biased."
      ],
      "metadata": {
        "id": "8qHknX2X1CvP"
      },
      "id": "8qHknX2X1CvP"
    },
    {
      "cell_type": "code",
      "metadata": {
        "id": "ulGoNmNOWNYd"
      },
      "source": [
        "time_scale = [2015,2016,2017,2018,2019,2020]\n",
        "length_mean_left, length_mean_right, length_mean_neutral = [],[],[]\n",
        "length_error_left, length_error_right, length_error_neutral = [],[],[]\n",
        "compound_mean_left, compound_mean_right, compound_mean_neutral = [],[],[]\n",
        "compound_error_left, compound_error_right, compound_error_neutral = [],[],[]\n",
        "\n",
        "for year in time_scale :\n",
        "  # Temporary variables to stock intermediates means and weights\n",
        "  quotes_weight_list_left, quotes_weight_list_right, quotes_weight_list_neutral = [],[],[]\n",
        "  length_mean_list_left, length_mean_list_right, length_mean_list_neutral = [],[],[]\n",
        "  compound_mean_list_left, compound_mean_list_right, compound_mean_list_neutral = [],[],[]\n",
        "\n",
        "  for row in all_selected_doms.dropna(subset=[\"Political_leaning\"]).iterrows() :\n",
        "    if (row[1][\"Year_by_year\"] == 1) & (row[1][\"Content_creator\"] == 1) & (row[1][\"Nationality\"] == \"US\") :\n",
        "      df_year_outlet = load_csv_to_df(year,row[1][\"domain\"])\n",
        "      \n",
        "      if row[1][\"Political_leaning\"] < 0 :\n",
        "        quotes_weight_list_left.append(df_year_outlet.shape[0])\n",
        "        length_mean_list_left.append(df_year_outlet[\"quote_length\"].mean())\n",
        "        compound_mean_list_left.append(df_year_outlet[\"compound\"].mean())\n",
        "        \n",
        "\n",
        "      elif row[1][\"Political_leaning\"] > 0 :\n",
        "        quotes_weight_list_right.append(df_year_outlet.shape[0])\n",
        "        length_mean_list_right.append(df_year_outlet[\"quote_length\"].mean())\n",
        "        compound_mean_list_right.append(df_year_outlet[\"compound\"].mean())\n",
        "        \n",
        "\n",
        "      elif row[1][\"Political_leaning\"] == 0 :\n",
        "        quotes_weight_list_neutral.append(df_year_outlet.shape[0])\n",
        "        length_mean_list_neutral.append(df_year_outlet[\"quote_length\"].mean())\n",
        "        compound_mean_list_neutral.append(df_year_outlet[\"compound\"].mean())\n",
        "        \n",
        "  # Computation of weighted mean and standard error of the mean for the length\n",
        "  weighted_stats_length_left = DescrStatsW(length_mean_list_left, weights=quotes_weight_list_left, ddof=0)\n",
        "  length_mean_left.append(weighted_stats_length_left.mean)\n",
        "  length_error_left.append(weighted_stats_length_left.std_mean)\n",
        "  \n",
        "  weighted_stats_length_right = DescrStatsW(length_mean_list_right, weights=quotes_weight_list_right, ddof=0)\n",
        "  length_mean_right.append(weighted_stats_length_right.mean)\n",
        "  length_error_right.append(weighted_stats_length_right.std_mean)\n",
        "\n",
        "  weighted_stats_length_neutral = DescrStatsW(length_mean_list_neutral, weights=quotes_weight_list_neutral, ddof=0)\n",
        "  length_mean_neutral.append(weighted_stats_length_neutral.mean)\n",
        "  length_error_neutral.append(weighted_stats_length_neutral.std_mean)\n",
        "\n",
        "  # Computation of weighted mean and standard error of the mean for the polarity score\n",
        "  weighted_stats_compound_left = DescrStatsW(compound_mean_list_left, weights=quotes_weight_list_left, ddof=0)\n",
        "  compound_mean_left.append(weighted_stats_compound_left.mean)\n",
        "  compound_error_left.append(weighted_stats_compound_left.std_mean)\n",
        "  \n",
        "  weighted_stats_compound_right = DescrStatsW(compound_mean_list_right, weights=quotes_weight_list_right, ddof=0)\n",
        "  compound_mean_right.append(weighted_stats_compound_right.mean)\n",
        "  compound_error_right.append(weighted_stats_compound_right.std_mean)\n",
        "\n",
        "  weighted_stats_compound_neutral = DescrStatsW(compound_mean_list_neutral, weights=quotes_weight_list_neutral, ddof=0)\n",
        "  compound_mean_neutral.append(weighted_stats_compound_neutral.mean)\n",
        "  compound_error_neutral.append(weighted_stats_compound_neutral.std_mean)\n"
      ],
      "id": "ulGoNmNOWNYd",
      "execution_count": null,
      "outputs": []
    },
    {
      "cell_type": "code",
      "source": [
        "plt.errorbar(time_scale,length_mean_left,yerr=length_error_left,label=\"Left-biased outlets\")\n",
        "plt.errorbar(time_scale,length_mean_right,yerr=length_error_right,label=\"Right-biased outlets\")\n",
        "plt.errorbar(time_scale,length_mean_neutral,yerr=length_error_neutral,label=\"Neutral outlets\")\n",
        "plt.errorbar(time_scale,length_mean,yerr=length_error,label = \"Global mean\",color = \"k\")\n",
        "\n",
        "plt.xlabel(\"Year\")\n",
        "plt.ylabel(\"Mean\")\n",
        "plt.title(\"Evolution of mean length of quotes in different political-biased outlets\")\n",
        "plt.xticks(time_scale)\n",
        "plt.legend()\n",
        "plt.show()"
      ],
      "metadata": {
        "colab": {
          "base_uri": "https://localhost:8080/",
          "height": 295
        },
        "id": "K0MEBKzj6xyU",
        "outputId": "89231079-df53-47ee-fd22-a99114bb89ee"
      },
      "id": "K0MEBKzj6xyU",
      "execution_count": null,
      "outputs": [
        {
          "output_type": "display_data",
          "data": {
            "image/png": "[encoded data removed]",
            "text/plain": [
              "<Figure size 432x288 with 1 Axes>"
            ]
          },
          "metadata": {
            "needs_background": "light"
          }
        }
      ]
    },
    {
      "cell_type": "code",
      "source": [
        "plt.errorbar(time_scale,compound_mean_left,yerr=compound_error_left,label=\"Left-biased outlets\")\n",
        "plt.errorbar(time_scale,compound_mean_right,yerr=compound_error_right,label=\"Right-biased outlets\")\n",
        "plt.errorbar(time_scale,compound_mean_neutral,yerr=compound_error_neutral,label=\"Neutral outlets\")\n",
        "plt.errorbar(time_scale,compound_mean,yerr=compound_error,label = \"Global mean\", color=\"k\")\n",
        "\n",
        "plt.xlabel(\"Year\")\n",
        "plt.ylabel(\"Mean\")\n",
        "plt.title(\"Evolution of mean polarity score of quotes in different political-biased outlets\")\n",
        "plt.xticks(time_scale)\n",
        "plt.legend()\n",
        "plt.show()"
      ],
      "metadata": {
        "colab": {
          "base_uri": "https://localhost:8080/",
          "height": 295
        },
        "id": "_9gbLiDjZzO0",
        "outputId": "597612aa-9a11-4fb8-e63d-88d7bfca495e"
      },
      "id": "_9gbLiDjZzO0",
      "execution_count": null,
      "outputs": [
        {
          "output_type": "display_data",
          "data": {
            "image/png": "[encoded data removed]",
            "text/plain": [
              "<Figure size 432x288 with 1 Axes>"
            ]
          },
          "metadata": {
            "needs_background": "light"
          }
        }
      ]
    },
    {
      "cell_type": "markdown",
      "source": [
        "### 2)"
      ],
      "metadata": {
        "id": "_o13aIJgVcXM"
      },
      "id": "_o13aIJgVcXM"
    },
    {
      "cell_type": "markdown",
      "source": [
        "See below the description of the variables we will store in the columns. The rows will represent the years. \n",
        "- `L` for outlet having a left political bias\n",
        "  - `N` for neutral \n",
        "  - `R` for right\n",
        "- `Pol` for the average polarity score \n",
        "- `Pol_err` for average polarity error \n",
        "- `Len` for the average quote's length\n",
        "- `Len_err` for average quote's length error\n",
        "- `Count` for the occurence of democrats/republicans speaker in the given outlet having political leaning L/N/R "
      ],
      "metadata": {
        "id": "Jccz7nb-kgYf"
      },
      "id": "Jccz7nb-kgYf"
    },
    {
      "cell_type": "code",
      "source": [
        "time_scale = [2015,2016,2017,2018,2019,2020]\n",
        "# Define the dataframes storing the reslts \n",
        "col_name = ['L_Pol', 'L_Pol_err', 'L_Len', 'L_Len_err', 'L_Count', 'N_Pol', 'N_Pol_err', 'N_Len', 'N_Len_err', 'N_Count', 'R_Pol', 'R_Pol_err', 'R_Len', 'R_Len_err', 'R_Count']\n",
        "# The democract df\n",
        "df_speakers_stats_dem = pd.DataFrame(columns=col_name, index=time_scale)\n",
        "# The republican df \n",
        "df_speakers_stats_rep = pd.DataFrame(columns=col_name, index=time_scale)\n",
        "\n",
        "\n",
        "\n",
        "# (2,1) vectors : vec[0] corresponds to Democrat's value and vec[1] to Republican's value\n",
        "total_length_mean_left, total_length_mean_right, total_length_mean_neutral = [],[],[]\n",
        "total_length_error_left, total_length_error_right, total_length_error_neutral = [],[],[]\n",
        "total_compound_mean_left, total_compound_mean_right, total_compound_mean_neutral = [],[],[]\n",
        "total_compound_error_left, total_compound_error_right, total_compound_error_neutral = [],[],[]\n",
        "total_count_left, total_count_right, total_count_neutral = [],[],[]\n",
        "\n",
        "for year in time_scale :\n",
        "\n",
        "  \n",
        "  # 1) Start by retrieving the data\n",
        "\n",
        "\n",
        "  # Temporary variables to stock intermediates means and weights for republican speakers\n",
        "  quotes_count_list_left_rep, quotes_count_list_right_rep, quotes_count_list_neutral_rep = [],[],[]\n",
        "  length_mean_list_left_rep, length_mean_list_right_rep, length_mean_list_neutral_rep = [],[],[]\n",
        "  compound_mean_list_left_rep, compound_mean_list_right_rep, compound_mean_list_neutral_rep = [],[],[]\n",
        "  # Temporary variables to stock intermediates means and weights for democrat speakers\n",
        "  quotes_count_list_left_dem, quotes_count_list_right_dem, quotes_count_list_neutral_dem = [],[],[]\n",
        "  length_mean_list_left_dem, length_mean_list_right_dem, length_mean_list_neutral_dem = [],[],[]\n",
        "  compound_mean_list_left_dem, compound_mean_list_right_dem, compound_mean_list_neutral_dem = [],[],[]\n",
        "\n",
        "  for row in political_US_outlets.iterrows() :\n",
        "    df_year_outlet = load_csv_to_df(year,row[1][\"domain\"]).dropna(subset=[\"qids\"])\n",
        "    # Make sure that we have a not empty dataframe \n",
        "    if not df_year_outlet.empty:\n",
        "      # Groupy by the QIDS, and aggregate by mean on quote_length and compound value\n",
        "      qids_group_by = df_year_outlet.groupby(\"qids\").agg({\"quote_length\" : \"mean\", \"compound\" : \"mean\"}).reset_index()\n",
        "      # Count the number of quotes per QIDS\n",
        "      qids_count = df_year_outlet.groupby(\"qids\").size()\n",
        "      \n",
        "      # Iterate on the QIDS/speakers of the given outlet and check whether they belong to democrat or republican \n",
        "      for qid in qids_group_by[\"qids\"].values:\n",
        "        # Check if the speaker is a DEMOCRAT\n",
        "        if qid in dem_speakers_QIDS : \n",
        "          # Check whether the outlet has a Left political bias \n",
        "          if row[1][\"Political_leaning\"] < 0:\n",
        "            quotes_count_list_left_dem.append(qids_count.loc[qid])\n",
        "            length_mean_list_left_dem.append(qids_group_by[qids_group_by[\"qids\"] == qid][\"quote_length\"].values[0])\n",
        "            compound_mean_list_left_dem.append(qids_group_by[qids_group_by[\"qids\"] == qid][\"compound\"].values[0])\n",
        "          # Check whether the outlet has a Neutral political bias \n",
        "          if row[1][\"Political_leaning\"] > 0:\n",
        "            quotes_count_list_right_dem.append(qids_count.loc[qid])\n",
        "            length_mean_list_right_dem.append(qids_group_by[qids_group_by[\"qids\"] == qid][\"quote_length\"].values[0])\n",
        "            compound_mean_list_right_dem.append(qids_group_by[qids_group_by[\"qids\"] == qid][\"compound\"].values[0])\n",
        "          # Check whether the outlet has a Right political bias \n",
        "          if row[1][\"Political_leaning\"] == 0:\n",
        "            quotes_count_list_neutral_dem.append(qids_count.loc[qid])\n",
        "            length_mean_list_neutral_dem.append(qids_group_by[qids_group_by[\"qids\"] == qid][\"quote_length\"].values[0])\n",
        "            compound_mean_list_neutral_dem.append(qids_group_by[qids_group_by[\"qids\"] == qid][\"compound\"].values[0])\n",
        "         # Check if the speaker is REPUBLICAN\n",
        "        if qid in rep_speakers_QIDS :\n",
        "\n",
        "          if row[1][\"Political_leaning\"] < 0:\n",
        "            quotes_count_list_left_rep.append(qids_count.loc[qid])\n",
        "            length_mean_list_left_rep.append(qids_group_by[qids_group_by[\"qids\"] == qid][\"quote_length\"].values[0])\n",
        "            compound_mean_list_left_rep.append(qids_group_by[qids_group_by[\"qids\"] == qid][\"compound\"].values[0])\n",
        "\n",
        "          if row[1][\"Political_leaning\"] > 0:\n",
        "            quotes_count_list_right_rep.append(qids_count.loc[qid])\n",
        "            length_mean_list_right_rep.append(qids_group_by[qids_group_by[\"qids\"] == qid][\"quote_length\"].values[0])\n",
        "            compound_mean_list_right_rep.append(qids_group_by[qids_group_by[\"qids\"] == qid][\"compound\"].values[0])\n",
        "\n",
        "          if row[1][\"Political_leaning\"] == 0:\n",
        "            quotes_count_list_neutral_rep.append(qids_count.loc[qid])\n",
        "            length_mean_list_neutral_rep.append(qids_group_by[qids_group_by[\"qids\"] == qid][\"quote_length\"].values[0])\n",
        "            compound_mean_list_neutral_rep.append(qids_group_by[qids_group_by[\"qids\"] == qid][\"compound\"].values[0])\n",
        "          \n",
        "    \n",
        "    \n",
        "    \n",
        "  # 2) After retrieving the data, compute the STATISTICS\n",
        "  \n",
        "\n",
        "\n",
        "\n",
        "  #################################################### FOR DEMOCRATS #########################################################  \n",
        "\n",
        "  yearly_stats_dem = [] # list to push in the final dataframe\n",
        "\n",
        "  #Left outlets :\n",
        "\n",
        "  # Computation of mean and SEM for polarity score\n",
        "  weighted_stats_compound_left_dem = DescrStatsW(compound_mean_list_left_dem, weights=quotes_count_list_left_dem, ddof=0)\n",
        "  yearly_stats_dem.append(weighted_stats_compound_left_dem.mean)\n",
        "  yearly_stats_dem.append(weighted_stats_compound_left_dem.std_mean)\n",
        "\n",
        "  # Computation of mean and SEM for length\n",
        "  weighted_stats_length_left_dem = DescrStatsW(length_mean_list_left_dem, weights=quotes_count_list_left_dem, ddof=0)\n",
        "  yearly_stats_dem.append(weighted_stats_length_left_dem.mean)\n",
        "  yearly_stats_dem.append(weighted_stats_length_left_dem.std_mean)\n",
        "\n",
        "  #Count for left :\n",
        "  yearly_stats_dem.append(np.array(quotes_count_list_left_dem).sum())\n",
        "\n",
        "  #Neutral outlets :\n",
        "\n",
        "  # Computation of mean and SEM for polarity score\n",
        "  weighted_stats_compound_neutral_dem = DescrStatsW(compound_mean_list_neutral_dem, weights=quotes_count_list_neutral_dem, ddof=0)\n",
        "  yearly_stats_dem.append(weighted_stats_compound_neutral_dem.mean)\n",
        "  yearly_stats_dem.append(weighted_stats_compound_neutral_dem.std_mean)\n",
        "\n",
        "  # Computation of mean and SEM for length\n",
        "  weighted_stats_length_neutral_dem = DescrStatsW(length_mean_list_neutral_dem, weights=quotes_count_list_neutral_dem, ddof=0)\n",
        "  yearly_stats_dem.append(weighted_stats_length_neutral_dem.mean)\n",
        "  yearly_stats_dem.append(weighted_stats_length_neutral_dem.std_mean)\n",
        "\n",
        "  #Count for Neutral :\n",
        "  yearly_stats_dem.append(np.array(quotes_count_list_neutral_dem).sum())\n",
        "\n",
        "  #Right outlets :\n",
        "\n",
        "  # Computation of mean and SEM for polarity score\n",
        "  weighted_stats_compound_right_dem = DescrStatsW(compound_mean_list_right_dem, weights=quotes_count_list_right_dem, ddof=0)\n",
        "  yearly_stats_dem.append(weighted_stats_compound_right_dem.mean)\n",
        "  yearly_stats_dem.append(weighted_stats_compound_right_dem.std_mean)\n",
        "\n",
        "  # Computation of mean and SEM for length\n",
        "  weighted_stats_length_right_dem = DescrStatsW(length_mean_list_right_dem, weights=quotes_count_list_right_dem, ddof=0)\n",
        "  yearly_stats_dem.append(weighted_stats_length_right_dem.mean)\n",
        "  yearly_stats_dem.append(weighted_stats_length_right_dem.std_mean)\n",
        "\n",
        "  #Count for Right :\n",
        "  yearly_stats_dem.append(np.array(quotes_count_list_right_dem).sum())\n",
        "\n",
        "  # Push the results into the df \n",
        "  df_speakers_stats_dem.loc[year] = yearly_stats_dem \n",
        "\n",
        "  #################################################### FOR REPUBLICAN #########################################################  \n",
        "\n",
        "  yearly_stats_rep = [] # list to push in the final dataframe\n",
        "\n",
        "  #Left outlets :\n",
        "\n",
        "  # Computation of mean and SEM for polarity score\n",
        "  weighted_stats_compound_left_rep = DescrStatsW(compound_mean_list_left_rep, weights=quotes_count_list_left_rep, ddof=0)\n",
        "  yearly_stats_rep.append(weighted_stats_compound_left_rep.mean)\n",
        "  yearly_stats_rep.append(weighted_stats_compound_left_rep.std_mean)\n",
        "\n",
        "  # Computation of mean and SEM for length\n",
        "  weighted_stats_length_left_rep = DescrStatsW(length_mean_list_left_rep, weights=quotes_count_list_left_rep, ddof=0)\n",
        "  yearly_stats_rep.append(weighted_stats_length_left_rep.mean)\n",
        "  yearly_stats_rep.append(weighted_stats_length_left_rep.std_mean)\n",
        "\n",
        "  #Count for left :\n",
        "  yearly_stats_rep.append(np.array(quotes_count_list_left_rep).sum())\n",
        "\n",
        "  #Neutral outlets :\n",
        "\n",
        "  # Computation of mean and SEM for polarity score\n",
        "  weighted_stats_compound_neutral_rep = DescrStatsW(compound_mean_list_neutral_rep, weights=quotes_count_list_neutral_rep, ddof=0)\n",
        "  yearly_stats_rep.append(weighted_stats_compound_neutral_rep.mean)\n",
        "  yearly_stats_rep.append(weighted_stats_compound_neutral_rep.std_mean)\n",
        "\n",
        "  # Computation of mean and SEM for length\n",
        "  weighted_stats_length_neutral_rep = DescrStatsW(length_mean_list_neutral_rep, weights=quotes_count_list_neutral_rep, ddof=0)\n",
        "  yearly_stats_rep.append(weighted_stats_length_neutral_rep.mean)\n",
        "  yearly_stats_rep.append(weighted_stats_length_neutral_rep.std_mean)\n",
        "\n",
        "  #Count for neutral :\n",
        "  yearly_stats_rep.append(np.array(quotes_count_list_neutral_rep).sum())\n",
        "\n",
        "  #Right outlets :\n",
        "\n",
        "  # Computation of mean and SEM for polarity score\n",
        "  weighted_stats_compound_right_rep = DescrStatsW(compound_mean_list_right_rep, weights=quotes_count_list_right_rep, ddof=0)\n",
        "  yearly_stats_rep.append(weighted_stats_compound_right_rep.mean)\n",
        "  yearly_stats_rep.append(weighted_stats_compound_right_rep.std_mean)\n",
        "\n",
        "  # Computation of mean and SEM for length\n",
        "  weighted_stats_length_right_rep = DescrStatsW(length_mean_list_right_rep, weights=quotes_count_list_right_rep, ddof=0)\n",
        "  yearly_stats_rep.append(weighted_stats_length_right_rep.mean)\n",
        "  yearly_stats_rep.append(weighted_stats_length_right_rep.std_mean)\n",
        "\n",
        "  #Count for right :\n",
        "  yearly_stats_rep.append(np.array(quotes_count_list_right_rep).sum())\n",
        "\n",
        "  # Push the results into the df \n",
        "  df_speakers_stats_rep.loc[year] = yearly_stats_rep\n",
        "\n",
        "  # To keep track of the progress \n",
        "  print(\"Done for year: \" + str(year)) \n",
        "\n",
        "  \n",
        "\n"
      ],
      "metadata": {
        "colab": {
          "base_uri": "https://localhost:8080/"
        },
        "outputId": "22293cee-7fb7-47a4-d9d4-5ee432057ed2",
        "id": "hUXEAqhO2I8e"
      },
      "execution_count": null,
      "outputs": [
        {
          "output_type": "stream",
          "name": "stdout",
          "text": [
            "Done for year: 2015\n",
            "Done for year: 2016\n",
            "Done for year: 2017\n",
            "Done for year: 2018\n",
            "Done for year: 2019\n",
            "Done for year: 2020\n"
          ]
        }
      ],
      "id": "hUXEAqhO2I8e"
    },
    {
      "cell_type": "code",
      "source": [
        "df_speakers_stats_dem.head(6)"
      ],
      "metadata": {
        "colab": {
          "base_uri": "https://localhost:8080/",
          "height": 258
        },
        "id": "innxPSp-3CmK",
        "outputId": "e80d4936-1839-4da6-aa7c-12c3ed2eda0c"
      },
      "id": "innxPSp-3CmK",
      "execution_count": null,
      "outputs": [
        {
          "output_type": "execute_result",
          "data": {
            "text/html": [
              "<div>\n",
              "<style scoped>\n",
              "    .dataframe tbody tr th:only-of-type {\n",
              "        vertical-align: middle;\n",
              "    }\n",
              "\n",
              "    .dataframe tbody tr th {\n",
              "        vertical-align: top;\n",
              "    }\n",
              "\n",
              "    .dataframe thead th {\n",
              "        text-align: right;\n",
              "    }\n",
              "</style>\n",
              "<table border=\"1\" class=\"dataframe\">\n",
              "  <thead>\n",
              "    <tr style=\"text-align: right;\">\n",
              "      <th></th>\n",
              "      <th>L_Pol</th>\n",
              "      <th>L_Pol_err</th>\n",
              "      <th>L_Len</th>\n",
              "      <th>L_Len_err</th>\n",
              "      <th>L_Count</th>\n",
              "      <th>N_Pol</th>\n",
              "      <th>N_Pol_err</th>\n",
              "      <th>N_Len</th>\n",
              "      <th>N_Len_err</th>\n",
              "      <th>N_Count</th>\n",
              "      <th>R_Pol</th>\n",
              "      <th>R_Pol_err</th>\n",
              "      <th>R_Len</th>\n",
              "      <th>R_Len_err</th>\n",
              "      <th>R_Count</th>\n",
              "    </tr>\n",
              "  </thead>\n",
              "  <tbody>\n",
              "    <tr>\n",
              "      <th>2015</th>\n",
              "      <td>0.0771815</td>\n",
              "      <td>0.000265631</td>\n",
              "      <td>19.9727</td>\n",
              "      <td>0.0123081</td>\n",
              "      <td>37877</td>\n",
              "      <td>0.103781</td>\n",
              "      <td>0.000531764</td>\n",
              "      <td>20.4276</td>\n",
              "      <td>0.0214962</td>\n",
              "      <td>10461</td>\n",
              "      <td>0.0712252</td>\n",
              "      <td>0.000368541</td>\n",
              "      <td>23.1722</td>\n",
              "      <td>0.0315093</td>\n",
              "      <td>18497</td>\n",
              "    </tr>\n",
              "    <tr>\n",
              "      <th>2016</th>\n",
              "      <td>0.0888006</td>\n",
              "      <td>0.00028586</td>\n",
              "      <td>19.5664</td>\n",
              "      <td>0.0125095</td>\n",
              "      <td>30474</td>\n",
              "      <td>0.104512</td>\n",
              "      <td>0.000852697</td>\n",
              "      <td>21.6488</td>\n",
              "      <td>0.0382898</td>\n",
              "      <td>5905</td>\n",
              "      <td>0.0836185</td>\n",
              "      <td>0.000351611</td>\n",
              "      <td>20.9257</td>\n",
              "      <td>0.015071</td>\n",
              "      <td>17582</td>\n",
              "    </tr>\n",
              "    <tr>\n",
              "      <th>2017</th>\n",
              "      <td>0.0625622</td>\n",
              "      <td>0.00047482</td>\n",
              "      <td>19.6372</td>\n",
              "      <td>0.0211678</td>\n",
              "      <td>18034</td>\n",
              "      <td>0.0504796</td>\n",
              "      <td>0.00071748</td>\n",
              "      <td>21.4499</td>\n",
              "      <td>0.0286184</td>\n",
              "      <td>5853</td>\n",
              "      <td>0.0524413</td>\n",
              "      <td>0.000634487</td>\n",
              "      <td>21.2274</td>\n",
              "      <td>0.0273854</td>\n",
              "      <td>11005</td>\n",
              "    </tr>\n",
              "    <tr>\n",
              "      <th>2018</th>\n",
              "      <td>0.0726006</td>\n",
              "      <td>0.000552276</td>\n",
              "      <td>19.7297</td>\n",
              "      <td>0.0251648</td>\n",
              "      <td>14293</td>\n",
              "      <td>0.0618534</td>\n",
              "      <td>0.000849529</td>\n",
              "      <td>21.939</td>\n",
              "      <td>0.038809</td>\n",
              "      <td>6014</td>\n",
              "      <td>0.0634342</td>\n",
              "      <td>0.000494719</td>\n",
              "      <td>21.8996</td>\n",
              "      <td>0.0269668</td>\n",
              "      <td>11262</td>\n",
              "    </tr>\n",
              "    <tr>\n",
              "      <th>2019</th>\n",
              "      <td>0.0636577</td>\n",
              "      <td>0.000276032</td>\n",
              "      <td>19.662</td>\n",
              "      <td>0.0168749</td>\n",
              "      <td>32291</td>\n",
              "      <td>0.0655277</td>\n",
              "      <td>0.000485359</td>\n",
              "      <td>21.9286</td>\n",
              "      <td>0.0297682</td>\n",
              "      <td>9970</td>\n",
              "      <td>0.0580618</td>\n",
              "      <td>0.00024684</td>\n",
              "      <td>22.2775</td>\n",
              "      <td>0.0170121</td>\n",
              "      <td>27005</td>\n",
              "    </tr>\n",
              "    <tr>\n",
              "      <th>2020</th>\n",
              "      <td>0.0642667</td>\n",
              "      <td>0.000602276</td>\n",
              "      <td>19.5252</td>\n",
              "      <td>0.0298069</td>\n",
              "      <td>12618</td>\n",
              "      <td>0.0649828</td>\n",
              "      <td>0.00115321</td>\n",
              "      <td>21.6443</td>\n",
              "      <td>0.0572883</td>\n",
              "      <td>3697</td>\n",
              "      <td>0.0497961</td>\n",
              "      <td>0.000571691</td>\n",
              "      <td>22.2083</td>\n",
              "      <td>0.035578</td>\n",
              "      <td>10160</td>\n",
              "    </tr>\n",
              "  </tbody>\n",
              "</table>\n",
              "</div>"
            ],
            "text/plain": [
              "          L_Pol    L_Pol_err    L_Len  ...    R_Len  R_Len_err R_Count\n",
              "2015  0.0771815  0.000265631  19.9727  ...  23.1722  0.0315093   18497\n",
              "2016  0.0888006   0.00028586  19.5664  ...  20.9257   0.015071   17582\n",
              "2017  0.0625622   0.00047482  19.6372  ...  21.2274  0.0273854   11005\n",
              "2018  0.0726006  0.000552276  19.7297  ...  21.8996  0.0269668   11262\n",
              "2019  0.0636577  0.000276032   19.662  ...  22.2775  0.0170121   27005\n",
              "2020  0.0642667  0.000602276  19.5252  ...  22.2083   0.035578   10160\n",
              "\n",
              "[6 rows x 15 columns]"
            ]
          },
          "metadata": {},
          "execution_count": 44
        }
      ]
    },
    {
      "cell_type": "code",
      "source": [
        "np.array(df_speakers_stats_dem[\"L_Len\"])"
      ],
      "metadata": {
        "colab": {
          "base_uri": "https://localhost:8080/"
        },
        "id": "15u2hrKj3dcL",
        "outputId": "7db525fd-4fd6-4b25-b098-13098a598ed5"
      },
      "id": "15u2hrKj3dcL",
      "execution_count": null,
      "outputs": [
        {
          "output_type": "execute_result",
          "data": {
            "text/plain": [
              "array([19.9727275127386, 19.566351644024415, 19.63724076743928,\n",
              "       19.729657874484012, 19.661980118299216, 19.525202092249167],\n",
              "      dtype=object)"
            ]
          },
          "metadata": {},
          "execution_count": 46
        }
      ]
    },
    {
      "cell_type": "code",
      "source": [
        "df_speakers_stats_total = pd.DataFrame(columns=col_name,index=[\"total\"])"
      ],
      "metadata": {
        "id": "2J6UjTXX5SsK"
      },
      "id": "2J6UjTXX5SsK",
      "execution_count": null,
      "outputs": []
    },
    {
      "cell_type": "code",
      "source": [
        "df_speakers_stats_total.head()"
      ],
      "metadata": {
        "colab": {
          "base_uri": "https://localhost:8080/",
          "height": 81
        },
        "id": "OWC8kYW35mxk",
        "outputId": "f539e58e-1d8a-4659-ab12-bd8b092ac085"
      },
      "id": "OWC8kYW35mxk",
      "execution_count": null,
      "outputs": [
        {
          "output_type": "execute_result",
          "data": {
            "text/html": [
              "<div>\n",
              "<style scoped>\n",
              "    .dataframe tbody tr th:only-of-type {\n",
              "        vertical-align: middle;\n",
              "    }\n",
              "\n",
              "    .dataframe tbody tr th {\n",
              "        vertical-align: top;\n",
              "    }\n",
              "\n",
              "    .dataframe thead th {\n",
              "        text-align: right;\n",
              "    }\n",
              "</style>\n",
              "<table border=\"1\" class=\"dataframe\">\n",
              "  <thead>\n",
              "    <tr style=\"text-align: right;\">\n",
              "      <th></th>\n",
              "      <th>L_Pol</th>\n",
              "      <th>L_Pol_err</th>\n",
              "      <th>L_Len</th>\n",
              "      <th>L_Len_err</th>\n",
              "      <th>L_Count</th>\n",
              "      <th>N_Pol</th>\n",
              "      <th>N_Pol_err</th>\n",
              "      <th>N_Len</th>\n",
              "      <th>N_Len_err</th>\n",
              "      <th>N_Count</th>\n",
              "      <th>R_Pol</th>\n",
              "      <th>R_Pol_err</th>\n",
              "      <th>R_Len</th>\n",
              "      <th>R_Len_err</th>\n",
              "      <th>R_Count</th>\n",
              "    </tr>\n",
              "  </thead>\n",
              "  <tbody>\n",
              "    <tr>\n",
              "      <th>total</th>\n",
              "      <td>NaN</td>\n",
              "      <td>NaN</td>\n",
              "      <td>NaN</td>\n",
              "      <td>NaN</td>\n",
              "      <td>NaN</td>\n",
              "      <td>NaN</td>\n",
              "      <td>NaN</td>\n",
              "      <td>NaN</td>\n",
              "      <td>NaN</td>\n",
              "      <td>NaN</td>\n",
              "      <td>NaN</td>\n",
              "      <td>NaN</td>\n",
              "      <td>NaN</td>\n",
              "      <td>NaN</td>\n",
              "      <td>NaN</td>\n",
              "    </tr>\n",
              "  </tbody>\n",
              "</table>\n",
              "</div>"
            ],
            "text/plain": [
              "      L_Pol L_Pol_err L_Len L_Len_err  ... R_Pol_err R_Len R_Len_err R_Count\n",
              "total   NaN       NaN   NaN       NaN  ...       NaN   NaN       NaN     NaN\n",
              "\n",
              "[1 rows x 15 columns]"
            ]
          },
          "metadata": {},
          "execution_count": 54
        }
      ]
    },
    {
      "cell_type": "code",
      "source": [
        "for pref in [\"L_\",\"N_\",\"R_\"]:\n",
        "  columns = [pref+\"Pol\",pref+\"Pol_err\",pref+\"Len\",pref+\"Len_err\",pref+\"Count\"]\n",
        "  print(columns)"
      ],
      "metadata": {
        "colab": {
          "base_uri": "https://localhost:8080/"
        },
        "id": "KZO7ieVi6Rkt",
        "outputId": "9d28588c-da6c-44a2-b027-88180eceaef7"
      },
      "id": "KZO7ieVi6Rkt",
      "execution_count": null,
      "outputs": [
        {
          "output_type": "stream",
          "name": "stdout",
          "text": [
            "['L_Pol', 'L_Pol_err', 'L_Len', 'L_Len_err', 'L_Count']\n",
            "['N_Pol', 'N_Pol_err', 'N_Len', 'N_Len_err', 'N_Count']\n",
            "['R_Pol', 'R_Pol_err', 'R_Len', 'R_Len_err', 'R_Count']\n"
          ]
        }
      ]
    },
    {
      "cell_type": "code",
      "source": [
        "X = ['Democrat','Republican']\n",
        "\n",
        "Z = [2,3,4]\n",
        "_X = np.arange(len(X))\n",
        "\n",
        "plt.bar(_X - 0.2, Y, 0.4)\n",
        "plt.bar(_X + 0.2, Z, 0.4)\n",
        "plt.xticks(_X, X) # set labels manually\n",
        "plt.show()"
      ],
      "metadata": {
        "id": "no4ObKJj32Kn"
      },
      "id": "no4ObKJj32Kn",
      "execution_count": null,
      "outputs": []
    },
    {
      "cell_type": "markdown",
      "metadata": {
        "id": "XfCz594iVL_M"
      },
      "source": [
        "## F) TBD (ça va dégager)\n",
        "\n",
        "For now, this section only contains code that we will eventually use later."
      ],
      "id": "XfCz594iVL_M"
    },
    {
      "cell_type": "markdown",
      "metadata": {
        "id": "Dj0GTIluPOV8"
      },
      "source": [
        "### 1. Get each speaker's vocabulary"
      ],
      "id": "Dj0GTIluPOV8"
    },
    {
      "cell_type": "markdown",
      "metadata": {
        "id": "4b549892-64b6-4244-806d-57187fbcd962"
      },
      "source": [
        "#### I) Tokenise the sentences (turn them into single words)\n",
        "\n",
        "* [Some interesting information on tokenization](https://towardsdatascience.com/overview-of-nlp-tokenization-algorithms-c41a7d5ec4f9)\n",
        "* [Multi-Word Expression tokenizer](https://www.nltk.org/_modules/nltk/tokenize/mwe.html)"
      ],
      "id": "4b549892-64b6-4244-806d-57187fbcd962"
    },
    {
      "cell_type": "code",
      "metadata": {
        "colab": {
          "base_uri": "https://localhost:8080/",
          "height": 405
        },
        "id": "f88da2ff-3939-4cee-a7ad-4775de89537d",
        "outputId": "7e8f2607-cf44-4673-f628-df2d98cb3756"
      },
      "source": [
        "df_quotes[\"tokenized_quote\"] = df_quotes.quotation.apply(word_tokenize)  # Tokenize quotes and add them in the dataframe as new column\n",
        "df_quotes.head()"
      ],
      "id": "f88da2ff-3939-4cee-a7ad-4775de89537d",
      "execution_count": null,
      "outputs": [
        {
          "data": {
            "text/html": [
              "<div>\n",
              "<style scoped>\n",
              "    .dataframe tbody tr th:only-of-type {\n",
              "        vertical-align: middle;\n",
              "    }\n",
              "\n",
              "    .dataframe tbody tr th {\n",
              "        vertical-align: top;\n",
              "    }\n",
              "\n",
              "    .dataframe thead th {\n",
              "        text-align: right;\n",
              "    }\n",
              "</style>\n",
              "<table border=\"1\" class=\"dataframe\">\n",
              "  <thead>\n",
              "    <tr style=\"text-align: right;\">\n",
              "      <th></th>\n",
              "      <th>quoteID</th>\n",
              "      <th>quotation</th>\n",
              "      <th>speaker</th>\n",
              "      <th>qids</th>\n",
              "      <th>date</th>\n",
              "      <th>numOccurrences</th>\n",
              "      <th>probas</th>\n",
              "      <th>urls</th>\n",
              "      <th>phase</th>\n",
              "      <th>tokenized_quote</th>\n",
              "      <th>sentiment</th>\n",
              "    </tr>\n",
              "  </thead>\n",
              "  <tbody>\n",
              "    <tr>\n",
              "      <th>0</th>\n",
              "      <td>2020-01-28-000082</td>\n",
              "      <td>[ D ] espite the efforts of the partners to cr...</td>\n",
              "      <td>None</td>\n",
              "      <td>[]</td>\n",
              "      <td>2020-01-28 08:04:05</td>\n",
              "      <td>1</td>\n",
              "      <td>[[None, 0.7272], [Prime Minister Netanyahu, 0....</td>\n",
              "      <td>[http://israelnationalnews.com/News/News.aspx/...</td>\n",
              "      <td>E</td>\n",
              "      <td>[[, D, ], espite, the, efforts, of, the, partn...</td>\n",
              "      <td>{'neg': 0.0, 'neu': 0.768, 'pos': 0.232, 'comp...</td>\n",
              "    </tr>\n",
              "    <tr>\n",
              "      <th>1</th>\n",
              "      <td>2020-01-16-000088</td>\n",
              "      <td>[ Department of Homeland Security ] was livid ...</td>\n",
              "      <td>Sue Myrick</td>\n",
              "      <td>[Q367796]</td>\n",
              "      <td>2020-01-16 12:00:13</td>\n",
              "      <td>1</td>\n",
              "      <td>[[Sue Myrick, 0.8867], [None, 0.0992], [Ron Wy...</td>\n",
              "      <td>[http://thehill.com/opinion/international/4782...</td>\n",
              "      <td>E</td>\n",
              "      <td>[[, Department, of, Homeland, Security, ], was...</td>\n",
              "      <td>{'neg': 0.184, 'neu': 0.579, 'pos': 0.237, 'co...</td>\n",
              "    </tr>\n",
              "    <tr>\n",
              "      <th>2</th>\n",
              "      <td>2020-02-10-000142</td>\n",
              "      <td>... He (Madhav) also disclosed that the illega...</td>\n",
              "      <td>None</td>\n",
              "      <td>[]</td>\n",
              "      <td>2020-02-10 23:45:54</td>\n",
              "      <td>1</td>\n",
              "      <td>[[None, 0.8926], [Prakash Rai, 0.1074]]</td>\n",
              "      <td>[https://indianexpress.com/article/business/ec...</td>\n",
              "      <td>E</td>\n",
              "      <td>[..., He, (, Madhav, ), also, disclosed, that,...</td>\n",
              "      <td>{'neg': 0.113, 'neu': 0.84, 'pos': 0.046, 'com...</td>\n",
              "    </tr>\n",
              "    <tr>\n",
              "      <th>3</th>\n",
              "      <td>2020-02-15-000053</td>\n",
              "      <td>... [ I ] f it gets to the floor,</td>\n",
              "      <td>None</td>\n",
              "      <td>[]</td>\n",
              "      <td>2020-02-15 14:12:51</td>\n",
              "      <td>2</td>\n",
              "      <td>[[None, 0.581], [Andy Harris, 0.4191]]</td>\n",
              "      <td>[https://patriotpost.us/opinion/68622-trump-bu...</td>\n",
              "      <td>E</td>\n",
              "      <td>[..., [, I, ], f, it, gets, to, the, floor, ,]</td>\n",
              "      <td>{'neg': 0.0, 'neu': 1.0, 'pos': 0.0, 'compound...</td>\n",
              "    </tr>\n",
              "    <tr>\n",
              "      <th>4</th>\n",
              "      <td>2020-01-24-000168</td>\n",
              "      <td>[ I met them ] when they just turned 4 and 7. ...</td>\n",
              "      <td>Meghan King Edmonds</td>\n",
              "      <td>[Q20684375]</td>\n",
              "      <td>2020-01-24 20:37:09</td>\n",
              "      <td>4</td>\n",
              "      <td>[[Meghan King Edmonds, 0.5446], [None, 0.2705]...</td>\n",
              "      <td>[https://people.com/parents/meghan-king-edmond...</td>\n",
              "      <td>E</td>\n",
              "      <td>[[, I, met, them, ], when, they, just, turned,...</td>\n",
              "      <td>{'neg': 0.0, 'neu': 0.877, 'pos': 0.123, 'comp...</td>\n",
              "    </tr>\n",
              "  </tbody>\n",
              "</table>\n",
              "</div>"
            ],
            "text/plain": [
              "             quoteID  ...                                          sentiment\n",
              "0  2020-01-28-000082  ...  {'neg': 0.0, 'neu': 0.768, 'pos': 0.232, 'comp...\n",
              "1  2020-01-16-000088  ...  {'neg': 0.184, 'neu': 0.579, 'pos': 0.237, 'co...\n",
              "2  2020-02-10-000142  ...  {'neg': 0.113, 'neu': 0.84, 'pos': 0.046, 'com...\n",
              "3  2020-02-15-000053  ...  {'neg': 0.0, 'neu': 1.0, 'pos': 0.0, 'compound...\n",
              "4  2020-01-24-000168  ...  {'neg': 0.0, 'neu': 0.877, 'pos': 0.123, 'comp...\n",
              "\n",
              "[5 rows x 11 columns]"
            ]
          },
          "execution_count": 49,
          "metadata": {},
          "output_type": "execute_result"
        }
      ]
    },
    {
      "cell_type": "markdown",
      "metadata": {
        "id": "FR6ucqZLJJ-O"
      },
      "source": [
        "Issue to solve: We need to find a way to reconstruct such abbreviated words like in the cell below..."
      ],
      "id": "FR6ucqZLJJ-O"
    },
    {
      "cell_type": "code",
      "metadata": {
        "colab": {
          "base_uri": "https://localhost:8080/"
        },
        "id": "6DV7ynXuJBUf",
        "outputId": "4e02565c-ff0b-4df7-c572-fa68b2bde366"
      },
      "source": [
        "word_tokenize(\"it's, they're, can't\")"
      ],
      "id": "6DV7ynXuJBUf",
      "execution_count": null,
      "outputs": [
        {
          "data": {
            "text/plain": [
              "['it', \"'s\", ',', 'they', \"'re\", ',', 'ca', \"n't\"]"
            ]
          },
          "execution_count": 23,
          "metadata": {},
          "output_type": "execute_result"
        }
      ]
    },
    {
      "cell_type": "markdown",
      "metadata": {
        "id": "wd7LHvuHcK4X"
      },
      "source": [
        "Issue to solve: Handle words or letter in squared brackets, as we can see in the next cell\n",
        "* Single letter likely to belong to next word\n",
        "* One or more words in these brackets were not spoken by the speaker"
      ],
      "id": "wd7LHvuHcK4X"
    },
    {
      "cell_type": "code",
      "metadata": {
        "colab": {
          "base_uri": "https://localhost:8080/"
        },
        "id": "Urj7cQEEc4jw",
        "outputId": "55eb2ba9-e235-4b40-b6e1-a823c2472baa"
      },
      "source": [
        "df_quotes.loc[0][[\"quotation\", \"tokenized_quote\"]]"
      ],
      "id": "Urj7cQEEc4jw",
      "execution_count": null,
      "outputs": [
        {
          "data": {
            "text/plain": [
              "quotation          [ D ] espite the efforts of the partners to cr...\n",
              "tokenized_quote    [[, D, ], espite, the, efforts, of, the, partn...\n",
              "Name: 0, dtype: object"
            ]
          },
          "execution_count": 50,
          "metadata": {},
          "output_type": "execute_result"
        }
      ]
    },
    {
      "cell_type": "markdown",
      "metadata": {
        "id": "3NRt5zaCYKHA"
      },
      "source": [
        "#### II) Sentiment analysis"
      ],
      "id": "3NRt5zaCYKHA"
    },
    {
      "cell_type": "code",
      "metadata": {
        "colab": {
          "base_uri": "https://localhost:8080/"
        },
        "id": "Qvrir6JY_m0T",
        "outputId": "9563ab67-f788-44d1-9b8a-c3e2f6c2b269"
      },
      "source": [
        "sia = SentimentIntensityAnalyzer()\n",
        "#sia.polarity_scores(\"Hi, how are you?\")\n",
        "#sia.polarity_scores(\"Wow, NLTK is really powerful!\")\n",
        "sia.polarity_scores(\"You are a piece of shit!!\")  # Just a test for a negative sentence. Don't take it personnally"
      ],
      "id": "Qvrir6JY_m0T",
      "execution_count": null,
      "outputs": [
        {
          "name": "stdout",
          "output_type": "stream",
          "text": [
            "[nltk_data] Downloading package vader_lexicon to /root/nltk_data...\n",
            "[nltk_data]   Package vader_lexicon is already up-to-date!\n"
          ]
        },
        {
          "data": {
            "text/plain": [
              "{'compound': -0.6351, 'neg': 0.511, 'neu': 0.489, 'pos': 0.0}"
            ]
          },
          "execution_count": 27,
          "metadata": {},
          "output_type": "execute_result"
        }
      ]
    },
    {
      "cell_type": "code",
      "metadata": {
        "colab": {
          "base_uri": "https://localhost:8080/"
        },
        "id": "CFh0cOFSYSyI",
        "outputId": "7c08360c-5845-4e61-8229-ff2a08101c1c"
      },
      "source": [
        "df_quotes[\"sentiment\"] = df_quotes.quotation.apply(sia.polarity_scores)\n",
        "df_quotes.sentiment.head()"
      ],
      "id": "CFh0cOFSYSyI",
      "execution_count": null,
      "outputs": [
        {
          "data": {
            "text/plain": [
              "0    {'neg': 0.0, 'neu': 0.768, 'pos': 0.232, 'comp...\n",
              "1    {'neg': 0.184, 'neu': 0.579, 'pos': 0.237, 'co...\n",
              "2    {'neg': 0.113, 'neu': 0.84, 'pos': 0.046, 'com...\n",
              "3    {'neg': 0.0, 'neu': 1.0, 'pos': 0.0, 'compound...\n",
              "4    {'neg': 0.0, 'neu': 0.877, 'pos': 0.123, 'comp...\n",
              "Name: sentiment, dtype: object"
            ]
          },
          "execution_count": 28,
          "metadata": {},
          "output_type": "execute_result"
        }
      ]
    },
    {
      "cell_type": "markdown",
      "metadata": {
        "id": "9793a4a3-f51c-4777-ac02-703c1a1493ae"
      },
      "source": [
        "#### III) Remove punctuation and stopwords, lowercase everything"
      ],
      "id": "9793a4a3-f51c-4777-ac02-703c1a1493ae"
    },
    {
      "cell_type": "code",
      "metadata": {
        "colab": {
          "base_uri": "https://localhost:8080/",
          "height": 203
        },
        "id": "f773f9eb-1e66-4283-b677-fbdaef0581aa",
        "outputId": "5f7b7f28-e80b-4d83-a67a-165355938a47"
      },
      "source": [
        "#should be easy enough, don't mess it up\n",
        "\n",
        "EN_STOPWORDS = set(stopwords.words(\"english\"))  # English stopwords\n",
        "PUNCTUATION = set(string.punctuation)  # Punctuation\n",
        "\n",
        "def lowercase(l):\n",
        "    return [w.lower() for w in l]\n",
        "\n",
        "def remove_stopwords(l):\n",
        "    return [w for w in l if w.lower() not in EN_STOPWORDS]\n",
        "\n",
        "def remove_punctuation(l):\n",
        "    return [w for w in l if w not in PUNCTUATION]\n",
        "\n",
        "def process_tokens(l):\n",
        "    l = lowercase(l)  # Lowercase tokens\n",
        "    l = remove_stopwords(l)   # Remove stopwords from tokens\n",
        "    l = remove_punctuation(l)  # Remove punctuation from tokens\n",
        "    return l\n",
        "\n",
        "df_quotes[\"tokenized_quote\"] = df_quotes.tokenized_quote.apply(process_tokens)\n",
        "df_quotes[[\"quotation\", \"tokenized_quote\"]].head()"
      ],
      "id": "f773f9eb-1e66-4283-b677-fbdaef0581aa",
      "execution_count": null,
      "outputs": [
        {
          "data": {
            "text/html": [
              "<div>\n",
              "<style scoped>\n",
              "    .dataframe tbody tr th:only-of-type {\n",
              "        vertical-align: middle;\n",
              "    }\n",
              "\n",
              "    .dataframe tbody tr th {\n",
              "        vertical-align: top;\n",
              "    }\n",
              "\n",
              "    .dataframe thead th {\n",
              "        text-align: right;\n",
              "    }\n",
              "</style>\n",
              "<table border=\"1\" class=\"dataframe\">\n",
              "  <thead>\n",
              "    <tr style=\"text-align: right;\">\n",
              "      <th></th>\n",
              "      <th>quotation</th>\n",
              "      <th>tokenized_quote</th>\n",
              "    </tr>\n",
              "  </thead>\n",
              "  <tbody>\n",
              "    <tr>\n",
              "      <th>0</th>\n",
              "      <td>[ D ] espite the efforts of the partners to cr...</td>\n",
              "      <td>[espite, efforts, partners, create, non-politi...</td>\n",
              "    </tr>\n",
              "    <tr>\n",
              "      <th>1</th>\n",
              "      <td>[ Department of Homeland Security ] was livid ...</td>\n",
              "      <td>[department, homeland, security, livid, strong...</td>\n",
              "    </tr>\n",
              "    <tr>\n",
              "      <th>2</th>\n",
              "      <td>... He (Madhav) also disclosed that the illega...</td>\n",
              "      <td>[..., madhav, also, disclosed, illegal, bribe,...</td>\n",
              "    </tr>\n",
              "    <tr>\n",
              "      <th>3</th>\n",
              "      <td>... [ I ] f it gets to the floor,</td>\n",
              "      <td>[..., f, gets, floor]</td>\n",
              "    </tr>\n",
              "    <tr>\n",
              "      <th>4</th>\n",
              "      <td>[ I met them ] when they just turned 4 and 7. ...</td>\n",
              "      <td>[met, turned, 4, 7, little, felt, like, full-b...</td>\n",
              "    </tr>\n",
              "  </tbody>\n",
              "</table>\n",
              "</div>"
            ],
            "text/plain": [
              "                                           quotation                                    tokenized_quote\n",
              "0  [ D ] espite the efforts of the partners to cr...  [espite, efforts, partners, create, non-politi...\n",
              "1  [ Department of Homeland Security ] was livid ...  [department, homeland, security, livid, strong...\n",
              "2  ... He (Madhav) also disclosed that the illega...  [..., madhav, also, disclosed, illegal, bribe,...\n",
              "3                  ... [ I ] f it gets to the floor,                              [..., f, gets, floor]\n",
              "4  [ I met them ] when they just turned 4 and 7. ...  [met, turned, 4, 7, little, felt, like, full-b..."
            ]
          },
          "execution_count": 51,
          "metadata": {},
          "output_type": "execute_result"
        }
      ]
    },
    {
      "cell_type": "markdown",
      "metadata": {
        "id": "5480330b-861d-4771-9109-ce1231250c7d"
      },
      "source": [
        "#### IV) Lemmatize the words (i.e. {'eating', 'eat', 'ate'} -> \"eat\")\n",
        "* [Source](https://www.datacamp.com/community/tutorials/stemming-lemmatization-python)"
      ],
      "id": "5480330b-861d-4771-9109-ce1231250c7d"
    },
    {
      "cell_type": "code",
      "metadata": {
        "colab": {
          "base_uri": "https://localhost:8080/",
          "height": 203
        },
        "id": "3bdd0370-09fa-494b-bda3-3ab87e7807bb",
        "outputId": "c7372026-e21f-4624-f963-ebd424a1e924"
      },
      "source": [
        "WNL = WordNetLemmatizer()\n",
        "\n",
        "def lem_words(l):\n",
        "    return [WNL.lemmatize(w, pos='v') for w in l]  # POS = part-of-speech, used to give context to the lemmatizer ('v' -> verb)\n",
        "\n",
        "df_quotes[\"tokenized_quote\"] = df_quotes.tokenized_quote.apply(lem_words)  # Lemmatize tokens\n",
        "df_quotes[[\"quotation\", \"tokenized_quote\"]].head()"
      ],
      "id": "3bdd0370-09fa-494b-bda3-3ab87e7807bb",
      "execution_count": null,
      "outputs": [
        {
          "data": {
            "text/html": [
              "<div>\n",
              "<style scoped>\n",
              "    .dataframe tbody tr th:only-of-type {\n",
              "        vertical-align: middle;\n",
              "    }\n",
              "\n",
              "    .dataframe tbody tr th {\n",
              "        vertical-align: top;\n",
              "    }\n",
              "\n",
              "    .dataframe thead th {\n",
              "        text-align: right;\n",
              "    }\n",
              "</style>\n",
              "<table border=\"1\" class=\"dataframe\">\n",
              "  <thead>\n",
              "    <tr style=\"text-align: right;\">\n",
              "      <th></th>\n",
              "      <th>quotation</th>\n",
              "      <th>tokenized_quote</th>\n",
              "    </tr>\n",
              "  </thead>\n",
              "  <tbody>\n",
              "    <tr>\n",
              "      <th>0</th>\n",
              "      <td>[ D ] espite the efforts of the partners to cr...</td>\n",
              "      <td>[espite, efforts, partner, create, non-politic...</td>\n",
              "    </tr>\n",
              "    <tr>\n",
              "      <th>1</th>\n",
              "      <td>[ Department of Homeland Security ] was livid ...</td>\n",
              "      <td>[department, homeland, security, livid, strong...</td>\n",
              "    </tr>\n",
              "    <tr>\n",
              "      <th>2</th>\n",
              "      <td>... He (Madhav) also disclosed that the illega...</td>\n",
              "      <td>[..., madhav, also, disclose, illegal, bribe, ...</td>\n",
              "    </tr>\n",
              "    <tr>\n",
              "      <th>3</th>\n",
              "      <td>... [ I ] f it gets to the floor,</td>\n",
              "      <td>[..., f, get, floor]</td>\n",
              "    </tr>\n",
              "    <tr>\n",
              "      <th>4</th>\n",
              "      <td>[ I met them ] when they just turned 4 and 7. ...</td>\n",
              "      <td>[meet, turn, 4, 7, little, felt, like, full-bl...</td>\n",
              "    </tr>\n",
              "  </tbody>\n",
              "</table>\n",
              "</div>"
            ],
            "text/plain": [
              "                                           quotation                                    tokenized_quote\n",
              "0  [ D ] espite the efforts of the partners to cr...  [espite, efforts, partner, create, non-politic...\n",
              "1  [ Department of Homeland Security ] was livid ...  [department, homeland, security, livid, strong...\n",
              "2  ... He (Madhav) also disclosed that the illega...  [..., madhav, also, disclose, illegal, bribe, ...\n",
              "3                  ... [ I ] f it gets to the floor,                               [..., f, get, floor]\n",
              "4  [ I met them ] when they just turned 4 and 7. ...  [meet, turn, 4, 7, little, felt, like, full-bl..."
            ]
          },
          "execution_count": 52,
          "metadata": {},
          "output_type": "execute_result"
        }
      ]
    },
    {
      "cell_type": "markdown",
      "metadata": {
        "id": "p60gp9kNRg3e"
      },
      "source": [
        "#### V) Pool tokens by speaker"
      ],
      "id": "p60gp9kNRg3e"
    },
    {
      "cell_type": "code",
      "metadata": {
        "id": "jXxcCFmQR6d0"
      },
      "source": [
        "# TODO"
      ],
      "id": "jXxcCFmQR6d0",
      "execution_count": null,
      "outputs": []
    },
    {
      "cell_type": "markdown",
      "metadata": {
        "id": "b5bd42cd-f039-4f3c-8a8b-0c7a3f20116c"
      },
      "source": [
        "### 2. Assign an 'importance' score to each word"
      ],
      "id": "b5bd42cd-f039-4f3c-8a8b-0c7a3f20116c"
    },
    {
      "cell_type": "markdown",
      "metadata": {
        "id": "k-joRKQnYqVd"
      },
      "source": [
        "#### I) Cambridge dictionary CEFR score and register"
      ],
      "id": "k-joRKQnYqVd"
    },
    {
      "cell_type": "code",
      "metadata": {
        "id": "YdsbflcL0Ns2"
      },
      "source": [
        "def retrieve_CEFR_levels_registers(word):\n",
        "  \"\"\" Functions that retrives the ECFR level of the given word as well as its register\n",
        "      Input: \n",
        "        word - a string the word you want to inspect \n",
        "      Output: \n",
        "        levels - a numpy array containing strings, if empty no info was available\n",
        "        registers - a list of strings, if empty no info was available\n",
        "  \"\"\"\n",
        "  # Make a request to Cambridge dictionnary - simply add \"word\" to the url  \n",
        "  url = 'https://dictionary.cambridge.org/dictionary/english/'+word\n",
        "  # Websites don't like it when bots connect to them, so we have to pretend being a web browser! \n",
        "  req = ul.Request(url, headers={'User-Agent': 'Mozilla/5.0'})\n",
        "  client = ul.urlopen(req)\n",
        "  # Read and store data into htmldata \n",
        "  htmldata = client.read()\n",
        "  client.close()\n",
        "\n",
        "  # Create a beautiful soup element and parse it as an html file\n",
        "  parsed_page = soup(htmldata, \"html.parser\")\n",
        "\n",
        "  # A bit of backgrond:\n",
        "  # In order to display the ECFR classification, the website uses <span> tags with a unique CSS class\n",
        "  # The class is called \"epp-xref dxref XX\", where XX is any of the levels A1 to C2\n",
        "  # Now we use 'bs4.find_all' to retrieve all span tag with the given class \n",
        "  # If none are returned, it means the level is not contained in the word \n",
        "\n",
        "  # Tag specific to the ECFR classification CSS class  \n",
        "  class_name_level = \"epp-xref dxref \" \n",
        "\n",
        "  # The ECFR classification spans from A1 to C2, test for each case\n",
        "  cases = np.array([\"A1\", \"A2\", \"B1\", \"B2\", \"C1\", \"C2\"])\n",
        "  # We store the results in a bool vector from A1 to C2, corresponding to the level of the word  \n",
        "  results = []\n",
        "  for case in cases:\n",
        "    # This checks how many times the case is present on page\n",
        "    occurences = len(parsed_page.find_all(\"span\", class_= class_name_level+case))\n",
        "    # If the case is present more than 0 times, then the word can be classified in the given case \n",
        "    if occurences > 0:\n",
        "      results.append(True)\n",
        "    else: \n",
        "      results.append(False) \n",
        "\n",
        "  # Now let's retrieve the registers\n",
        "  # We can apply the same strategy, the register of the word is contained in CSS class \"usage dusage\"\n",
        "\n",
        "  class_name_register = \"usage dusage\"\n",
        "  parsed_registers = parsed_page.find_all(\"span\", class_=class_name_register)\n",
        "  registers = []\n",
        "  for register in parsed_registers:\n",
        "    # Simply extract the information between the tags \"span\" with class class_name_register\n",
        "    registers.append(register.string)\n",
        "\n",
        "  return cases[results], registers"
      ],
      "id": "YdsbflcL0Ns2",
      "execution_count": null,
      "outputs": []
    },
    {
      "cell_type": "code",
      "metadata": {
        "colab": {
          "base_uri": "https://localhost:8080/"
        },
        "id": "vvSFU4ORe6pE",
        "outputId": "cec5a977-cc5f-4ce6-8412-2cc252f7a498"
      },
      "source": [
        "# Add line for the word you want to look for \n",
        "levels, reg = retrieve_CEFR_levels_registers(\"exhaustive\")\n",
        "print(levels, reg)"
      ],
      "id": "vvSFU4ORe6pE",
      "execution_count": null,
      "outputs": [
        {
          "name": "stdout",
          "output_type": "stream",
          "text": [
            "['C1'] []\n"
          ]
        }
      ]
    },
    {
      "cell_type": "markdown",
      "metadata": {
        "id": "ZvxRXiOFvfvU"
      },
      "source": [
        "#### II) CEFR level of sentences\n",
        "\n",
        "Try to implement something similar to `retrieve_ECFR_levels_registers(word)` using the web site [English Profile](http://englishprofile.org/wordlists/text-inspector) for analysing a whole sentence and get the CEFR level of each word (may be better for analysing whole quotes, and does not require stemming.)"
      ],
      "id": "ZvxRXiOFvfvU"
    },
    {
      "cell_type": "code",
      "metadata": {
        "id": "DtLZnP7KxwYA"
      },
      "source": [
        "# TODO Quentin, give it a try and see how far I can go "
      ],
      "id": "DtLZnP7KxwYA",
      "execution_count": null,
      "outputs": []
    },
    {
      "cell_type": "markdown",
      "metadata": {
        "id": "WAsd1jJCZkNM"
      },
      "source": [
        "### 3. Create a vocabulary specific to each category in interest"
      ],
      "id": "WAsd1jJCZkNM"
    },
    {
      "cell_type": "markdown",
      "metadata": {
        "id": "YsCo8ib4Z0Pr"
      },
      "source": [
        "#### Classify speakers into categories of interest\n",
        "\n",
        "* Each speaker can belong to multiple categories"
      ],
      "id": "YsCo8ib4Z0Pr"
    },
    {
      "cell_type": "code",
      "metadata": {
        "colab": {
          "base_uri": "https://localhost:8080/",
          "height": 710
        },
        "id": "RfuNEu7YaHdH",
        "outputId": "2e5167e3-6b37-46b8-913d-a879a540eda8"
      },
      "source": [
        "df_quotes.sample(10)"
      ],
      "id": "RfuNEu7YaHdH",
      "execution_count": null,
      "outputs": [
        {
          "data": {
            "text/html": [
              "<div>\n",
              "<style scoped>\n",
              "    .dataframe tbody tr th:only-of-type {\n",
              "        vertical-align: middle;\n",
              "    }\n",
              "\n",
              "    .dataframe tbody tr th {\n",
              "        vertical-align: top;\n",
              "    }\n",
              "\n",
              "    .dataframe thead th {\n",
              "        text-align: right;\n",
              "    }\n",
              "</style>\n",
              "<table border=\"1\" class=\"dataframe\">\n",
              "  <thead>\n",
              "    <tr style=\"text-align: right;\">\n",
              "      <th></th>\n",
              "      <th>quoteID</th>\n",
              "      <th>quotation</th>\n",
              "      <th>speaker</th>\n",
              "      <th>qids</th>\n",
              "      <th>date</th>\n",
              "      <th>numOccurrences</th>\n",
              "      <th>probas</th>\n",
              "      <th>urls</th>\n",
              "      <th>phase</th>\n",
              "    </tr>\n",
              "  </thead>\n",
              "  <tbody>\n",
              "    <tr>\n",
              "      <th>4411</th>\n",
              "      <td>2020-02-22-033984</td>\n",
              "      <td>There is no truth in that strange and weighty ...</td>\n",
              "      <td>Timipre Sylva</td>\n",
              "      <td>[Q3509607]</td>\n",
              "      <td>2020-02-22 18:00:44</td>\n",
              "      <td>1</td>\n",
              "      <td>[[Timipre Sylva, 0.6975], [None, 0.3025]]</td>\n",
              "      <td>[https://thewhistler.ng/bayelsa-verdict-the-od...</td>\n",
              "      <td>E</td>\n",
              "    </tr>\n",
              "    <tr>\n",
              "      <th>6001</th>\n",
              "      <td>2020-02-08-024054</td>\n",
              "      <td>India's overall debt-to-GDP ratio is an outlie...</td>\n",
              "      <td>Piyush Garg</td>\n",
              "      <td>[Q58208547]</td>\n",
              "      <td>2020-02-08 15:07:00</td>\n",
              "      <td>3</td>\n",
              "      <td>[[Piyush Garg, 0.9364], [None, 0.0636]]</td>\n",
              "      <td>[http://wap.business-standard.com/article/econ...</td>\n",
              "      <td>E</td>\n",
              "    </tr>\n",
              "    <tr>\n",
              "      <th>5888</th>\n",
              "      <td>2020-03-28-013310</td>\n",
              "      <td>If I'm going to use one word, I think Penn Sta...</td>\n",
              "      <td>None</td>\n",
              "      <td>[]</td>\n",
              "      <td>2020-03-28 03:12:55</td>\n",
              "      <td>1</td>\n",
              "      <td>[[None, 0.6998], [Kyle Larson, 0.3002]]</td>\n",
              "      <td>[https://onwardstate.com/2020/03/27/virtual-up...</td>\n",
              "      <td>E</td>\n",
              "    </tr>\n",
              "    <tr>\n",
              "      <th>763</th>\n",
              "      <td>2020-01-20-025673</td>\n",
              "      <td>I think for me, it's that open book,</td>\n",
              "      <td>None</td>\n",
              "      <td>[]</td>\n",
              "      <td>2020-01-20 22:23:20</td>\n",
              "      <td>3</td>\n",
              "      <td>[[None, 0.5348], [Ron Roenicke, 0.3385], [Alex...</td>\n",
              "      <td>[https://www.bostonherald.com/2020/01/20/red-s...</td>\n",
              "      <td>E</td>\n",
              "    </tr>\n",
              "    <tr>\n",
              "      <th>891</th>\n",
              "      <td>2020-01-08-036592</td>\n",
              "      <td>If you elect me to the Oval Office, I will soa...</td>\n",
              "      <td>Elizabeth Warren</td>\n",
              "      <td>[Q434706]</td>\n",
              "      <td>2020-01-08 22:10:40</td>\n",
              "      <td>2</td>\n",
              "      <td>[[Elizabeth Warren, 0.8726], [None, 0.1161], [...</td>\n",
              "      <td>[https://blog.heartland.org/2020/01/time-for-s...</td>\n",
              "      <td>E</td>\n",
              "    </tr>\n",
              "    <tr>\n",
              "      <th>1741</th>\n",
              "      <td>2020-01-02-052355</td>\n",
              "      <td>The leadership challenge then is how do you re...</td>\n",
              "      <td>None</td>\n",
              "      <td>[]</td>\n",
              "      <td>2020-01-02 00:00:00</td>\n",
              "      <td>1</td>\n",
              "      <td>[[None, 0.5326], [Hao Chen, 0.4674]]</td>\n",
              "      <td>[https://www.forbes.com/sites/sallypercy/2020/...</td>\n",
              "      <td>E</td>\n",
              "    </tr>\n",
              "    <tr>\n",
              "      <th>2216</th>\n",
              "      <td>2020-03-28-035999</td>\n",
              "      <td>We initially screen patients as they arrive here,</td>\n",
              "      <td>Eric Hill</td>\n",
              "      <td>[Q12714522, Q21458196, Q2901293, Q5386728, Q53...</td>\n",
              "      <td>2020-03-28 07:56:47</td>\n",
              "      <td>1</td>\n",
              "      <td>[[Eric Hill, 0.6783], [None, 0.3217]]</td>\n",
              "      <td>[https://www.thedenverchannel.com/news/local-n...</td>\n",
              "      <td>E</td>\n",
              "    </tr>\n",
              "    <tr>\n",
              "      <th>2861</th>\n",
              "      <td>2020-01-10-013628</td>\n",
              "      <td>create new cyber operations centres</td>\n",
              "      <td>Penny Mordaunt</td>\n",
              "      <td>[Q580464]</td>\n",
              "      <td>2020-01-10 21:27:21</td>\n",
              "      <td>1</td>\n",
              "      <td>[[Penny Mordaunt, 0.941], [None, 0.0438], [Ben...</td>\n",
              "      <td>[http://www.independent.co.uk/news/uk/home-new...</td>\n",
              "      <td>E</td>\n",
              "    </tr>\n",
              "    <tr>\n",
              "      <th>1484</th>\n",
              "      <td>2020-03-03-046862</td>\n",
              "      <td>She did nothing but talk to me during Cabinet ...</td>\n",
              "      <td>Vitaliano Aguirre II</td>\n",
              "      <td>[Q24852563]</td>\n",
              "      <td>2020-03-03 05:21:00</td>\n",
              "      <td>1</td>\n",
              "      <td>[[Vitaliano Aguirre II, 0.7682], [None, 0.2318]]</td>\n",
              "      <td>[https://www.philstar.com/headlines/2020/03/03...</td>\n",
              "      <td>E</td>\n",
              "    </tr>\n",
              "    <tr>\n",
              "      <th>3961</th>\n",
              "      <td>2020-03-31-041019</td>\n",
              "      <td>Our country's political world must stand at th...</td>\n",
              "      <td>Kyriakos Mitsotakis</td>\n",
              "      <td>[Q552751]</td>\n",
              "      <td>2020-03-31 12:47:00</td>\n",
              "      <td>1</td>\n",
              "      <td>[[Kyriakos Mitsotakis, 0.858], [None, 0.142]]</td>\n",
              "      <td>[https://timesofmalta.com/articles/view/greek-...</td>\n",
              "      <td>E</td>\n",
              "    </tr>\n",
              "  </tbody>\n",
              "</table>\n",
              "</div>"
            ],
            "text/plain": [
              "                quoteID  ... phase\n",
              "4411  2020-02-22-033984  ...     E\n",
              "6001  2020-02-08-024054  ...     E\n",
              "5888  2020-03-28-013310  ...     E\n",
              "763   2020-01-20-025673  ...     E\n",
              "891   2020-01-08-036592  ...     E\n",
              "1741  2020-01-02-052355  ...     E\n",
              "2216  2020-03-28-035999  ...     E\n",
              "2861  2020-01-10-013628  ...     E\n",
              "1484  2020-03-03-046862  ...     E\n",
              "3961  2020-03-31-041019  ...     E\n",
              "\n",
              "[10 rows x 9 columns]"
            ]
          },
          "execution_count": 25,
          "metadata": {},
          "output_type": "execute_result"
        }
      ]
    },
    {
      "cell_type": "code",
      "metadata": {
        "colab": {
          "base_uri": "https://localhost:8080/"
        },
        "id": "S0xEuQElTeLr",
        "outputId": "4e6dd2b5-14c4-4fb2-d876-715295a5efd6"
      },
      "source": [
        "# A small scale test on quote 6685\n",
        "quote_nb = 6001\n",
        "print(\"The quote is: \\n\"+df_quotes.loc[quote_nb].quotation)"
      ],
      "id": "S0xEuQElTeLr",
      "execution_count": null,
      "outputs": [
        {
          "name": "stdout",
          "output_type": "stream",
          "text": [
            "The quote is: \n",
            "India's overall debt-to-GDP ratio is an outlier among emerging markets,\n"
          ]
        }
      ]
    },
    {
      "cell_type": "code",
      "metadata": {
        "colab": {
          "base_uri": "https://localhost:8080/"
        },
        "id": "yA9LuBTz396m",
        "outputId": "f23d582f-dc61-4fe1-91e8-f56900ed5cbc"
      },
      "source": [
        "df_quotes.loc[1741].urls"
      ],
      "id": "yA9LuBTz396m",
      "execution_count": null,
      "outputs": [
        {
          "data": {
            "text/plain": [
              "['https://www.forbes.com/sites/sallypercy/2020/01/02/an-international-perspective-top-leadership-challenges-for-2020/']"
            ]
          },
          "execution_count": 36,
          "metadata": {},
          "output_type": "execute_result"
        }
      ]
    },
    {
      "cell_type": "code",
      "metadata": {
        "colab": {
          "base_uri": "https://localhost:8080/",
          "height": 201
        },
        "id": "TAdt0fLlqgbI",
        "outputId": "4e8f3649-6e14-4bcc-b23c-0854b7d718d9"
      },
      "source": [
        "# Extract the word 'commited' and get the CEFR (totally empirical, we are waiting on a better tokenizer)\n",
        "levels, reg = retrieve_CEFR_levels_registers(df_quotes.loc[quote_nb].quotation.split()[6])\n",
        "print(levels, reg)"
      ],
      "id": "TAdt0fLlqgbI",
      "execution_count": null,
      "outputs": [
        {
          "ename": "NameError",
          "evalue": "ignored",
          "output_type": "error",
          "traceback": [
            "\u001b[0;31m---------------------------------------------------------------------------\u001b[0m",
            "\u001b[0;31mNameError\u001b[0m                                 Traceback (most recent call last)",
            "\u001b[0;32m<ipython-input-27-951ebb0cca4c>\u001b[0m in \u001b[0;36m<module>\u001b[0;34m()\u001b[0m\n\u001b[1;32m      1\u001b[0m \u001b[0;31m# Extract the word 'commited' and get the CEFR (totally empirical, we are waiting on a better tokenizer)\u001b[0m\u001b[0;34m\u001b[0m\u001b[0;34m\u001b[0m\u001b[0;34m\u001b[0m\u001b[0m\n\u001b[0;32m----> 2\u001b[0;31m \u001b[0mlevels\u001b[0m\u001b[0;34m,\u001b[0m \u001b[0mreg\u001b[0m \u001b[0;34m=\u001b[0m \u001b[0mretrieve_CEFR_levels_registers\u001b[0m\u001b[0;34m(\u001b[0m\u001b[0mdf_quotes\u001b[0m\u001b[0;34m.\u001b[0m\u001b[0mloc\u001b[0m\u001b[0;34m[\u001b[0m\u001b[0mquote_nb\u001b[0m\u001b[0;34m]\u001b[0m\u001b[0;34m.\u001b[0m\u001b[0mquotation\u001b[0m\u001b[0;34m.\u001b[0m\u001b[0msplit\u001b[0m\u001b[0;34m(\u001b[0m\u001b[0;34m)\u001b[0m\u001b[0;34m[\u001b[0m\u001b[0;36m6\u001b[0m\u001b[0;34m]\u001b[0m\u001b[0;34m)\u001b[0m\u001b[0;34m\u001b[0m\u001b[0;34m\u001b[0m\u001b[0m\n\u001b[0m\u001b[1;32m      3\u001b[0m \u001b[0mprint\u001b[0m\u001b[0;34m(\u001b[0m\u001b[0mlevels\u001b[0m\u001b[0;34m,\u001b[0m \u001b[0mreg\u001b[0m\u001b[0;34m)\u001b[0m\u001b[0;34m\u001b[0m\u001b[0;34m\u001b[0m\u001b[0m\n",
            "\u001b[0;31mNameError\u001b[0m: name 'retrieve_CEFR_levels_registers' is not defined"
          ]
        }
      ]
    },
    {
      "cell_type": "markdown",
      "metadata": {
        "id": "mhXb1auUrkMH"
      },
      "source": [
        "Now get some info about the speaker. Use the data provided in the .parquet file."
      ],
      "id": "mhXb1auUrkMH"
    },
    {
      "cell_type": "code",
      "metadata": {
        "colab": {
          "base_uri": "https://localhost:8080/",
          "height": 135
        },
        "id": "X0DDAXI6qBYJ",
        "outputId": "8026d82e-ec53-4487-cef6-a582db985b87"
      },
      "source": [
        "# Find the QID of the speaker \n",
        "QID = df_quotes.loc[quote_nb].qids[0]\n",
        "# Display the known properties for the persone given\n",
        "df_properties = retrieve_wikidata_properties(QID)\n",
        "df_properties"
      ],
      "id": "X0DDAXI6qBYJ",
      "execution_count": null,
      "outputs": [
        {
          "data": {
            "text/html": [
              "<div>\n",
              "<style scoped>\n",
              "    .dataframe tbody tr th:only-of-type {\n",
              "        vertical-align: middle;\n",
              "    }\n",
              "\n",
              "    .dataframe tbody tr th {\n",
              "        vertical-align: top;\n",
              "    }\n",
              "\n",
              "    .dataframe thead th {\n",
              "        text-align: right;\n",
              "    }\n",
              "</style>\n",
              "<table border=\"1\" class=\"dataframe\">\n",
              "  <thead>\n",
              "    <tr style=\"text-align: right;\">\n",
              "      <th></th>\n",
              "      <th>aliases</th>\n",
              "      <th>date_of_birth</th>\n",
              "      <th>nationality</th>\n",
              "      <th>gender</th>\n",
              "      <th>lastrevid</th>\n",
              "      <th>ethnic_group</th>\n",
              "      <th>US_congress_bio_ID</th>\n",
              "      <th>occupation</th>\n",
              "      <th>party</th>\n",
              "      <th>academic_degree</th>\n",
              "      <th>id</th>\n",
              "      <th>label</th>\n",
              "      <th>candidacy</th>\n",
              "      <th>type</th>\n",
              "      <th>religion</th>\n",
              "    </tr>\n",
              "  </thead>\n",
              "  <tbody>\n",
              "    <tr>\n",
              "      <th>3793841</th>\n",
              "      <td>None</td>\n",
              "      <td>[+1946-10-16T00:00:00Z]</td>\n",
              "      <td>None</td>\n",
              "      <td>[Q6581097]</td>\n",
              "      <td>1341628735</td>\n",
              "      <td>None</td>\n",
              "      <td>None</td>\n",
              "      <td>[Q40348]</td>\n",
              "      <td>None</td>\n",
              "      <td>None</td>\n",
              "      <td>Q24852563</td>\n",
              "      <td>Vitaliano Aguirre II</td>\n",
              "      <td>None</td>\n",
              "      <td>item</td>\n",
              "      <td>None</td>\n",
              "    </tr>\n",
              "  </tbody>\n",
              "</table>\n",
              "</div>"
            ],
            "text/plain": [
              "        aliases            date_of_birth nationality  ... candidacy  type religion\n",
              "3793841    None  [+1946-10-16T00:00:00Z]        None  ...      None  item     None\n",
              "\n",
              "[1 rows x 15 columns]"
            ]
          },
          "execution_count": 28,
          "metadata": {},
          "output_type": "execute_result"
        }
      ]
    },
    {
      "cell_type": "code",
      "metadata": {
        "colab": {
          "base_uri": "https://localhost:8080/"
        },
        "id": "K1zaw5eMbUZO",
        "outputId": "f1385b3e-fc39-4741-e938-f95daae82605"
      },
      "source": [
        "# Retrieve the occupation in human readable format \n",
        "human_readable_properties(df_properties, \"occupation\")"
      ],
      "id": "K1zaw5eMbUZO",
      "execution_count": null,
      "outputs": [
        {
          "data": {
            "text/plain": [
              "['lawyer']"
            ]
          },
          "execution_count": 30,
          "metadata": {},
          "output_type": "execute_result"
        }
      ]
    },
    {
      "cell_type": "code",
      "metadata": {
        "colab": {
          "base_uri": "https://localhost:8080/"
        },
        "id": "byfmb6mNFp5c",
        "outputId": "db07f790-1fbc-40cd-d267-7d0cb7b33566"
      },
      "source": [
        "# Retrieve the nationality in human readable format \n",
        "human_readable_properties(df_properties, \"nationality\")"
      ],
      "id": "byfmb6mNFp5c",
      "execution_count": null,
      "outputs": [
        {
          "name": "stderr",
          "output_type": "stream",
          "text": [
            "/usr/local/lib/python3.7/dist-packages/ipykernel_launcher.py:19: UserWarning: There is no value for this property!\n"
          ]
        }
      ]
    },
    {
      "cell_type": "code",
      "metadata": {
        "colab": {
          "base_uri": "https://localhost:8080/"
        },
        "id": "aXmSQ-4MNDp5",
        "outputId": "63ceafb4-1922-4d60-a6c0-831e909cc7b1"
      },
      "source": [
        "# Retrieve the candidacy in human readable format \n",
        "human_readable_properties(df_properties, \"candidacy\")"
      ],
      "id": "aXmSQ-4MNDp5",
      "execution_count": null,
      "outputs": [
        {
          "name": "stderr",
          "output_type": "stream",
          "text": [
            "/usr/local/lib/python3.7/dist-packages/ipykernel_launcher.py:19: UserWarning: There is no value for this property!\n"
          ]
        }
      ]
    },
    {
      "cell_type": "markdown",
      "metadata": {
        "id": "asFKAikJRb6d"
      },
      "source": [
        "##### nltk.collocations without POS tags"
      ],
      "id": "asFKAikJRb6d"
    },
    {
      "cell_type": "code",
      "metadata": {
        "id": "K6OKqaPTB_4R"
      },
      "source": [
        "nltk.download('stopwords')\n",
        "from nltk.corpus import stopwords\n",
        "import string\n",
        "\n",
        "PUNCTUATION = set(string.punctuation)  # Punctuation\n",
        "EN_STOPWORDS = set(stopwords.words(\"english\"))  # English stopwords\n",
        "\n",
        "def format_quote_for_collocation_finder(l):\n",
        "    newL = [w.lower() for w in l]  # lowercase everything\n",
        "    newL = [\"<P>\" if w in PUNCTUATION else w for w in newL]  # We don't remove punctuation yet, as they act as separators between words, which we need to construct meaningful bigrams for collocation finding. Instead, we replace them by a punctuation tag\n",
        "    newL = [\"<S>\" if w in EN_STOPWORDS else w for w in newL]  # We don't remove the stopwords yet, as they act as separators between non-stopwords which we need to construct meaningful bigrams for collocation finding. Instead, we replace them by a stopword tag\n",
        "    # We add starting and ending tags to mark end of quotes and avoid constructing bigrams of the end word of a quote and the start word of the next one which is unrelated.\n",
        "    newL.insert(0, \"<B>\")  # Add begin tag\n",
        "    newL.append(\"<E>\")  # Add end tag\n",
        "    return newL\n",
        "\n",
        "marked_quotes = quotes_selected_speakers.tokenized_quote.apply(format_quote_for_collocation_finder)\n",
        "all_marked_quotes = [token for l in marked_quotes for token in l]"
      ],
      "id": "K6OKqaPTB_4R",
      "execution_count": null,
      "outputs": []
    },
    {
      "cell_type": "code",
      "metadata": {
        "id": "4ww0tgy1IIt3"
      },
      "source": [
        "from nltk.collocations import BigramCollocationFinder, BigramAssocMeasures\n",
        "\n",
        "bigram_measures = BigramAssocMeasures()\n",
        "finder = BigramCollocationFinder.from_words(all_marked_quotes)\n",
        "\n",
        "frequency = 4  # Minimum number of occurences of the bigram\n",
        "finder.apply_freq_filter(frequency)\n",
        "\n",
        "finder.nbest(bigram_measures.pmi, 15)  # n most collocated words\n",
        "#finder.score_ngrams(bigram_measures.pmi)  # Scores"
      ],
      "id": "4ww0tgy1IIt3",
      "execution_count": null,
      "outputs": []
    },
    {
      "cell_type": "markdown",
      "metadata": {
        "id": "T6U337IMRoHi"
      },
      "source": [
        "##### nltk.collocations with POS tags"
      ],
      "id": "T6U337IMRoHi"
    },
    {
      "cell_type": "code",
      "metadata": {
        "id": "ytxhJDlEJbCP"
      },
      "source": [
        "nltk.download('averaged_perceptron_tagger')\n",
        "\n",
        "def format_quote_for_collocation_finder_tagged(l):\n",
        "    newL = nltk.pos_tag(l)\n",
        "    newL = [(w.lower(), tag) for (w, tag) in newL]  # lowercase everything\n",
        "    newL = [(\"<P>\", \"TAG-P\") if w in PUNCTUATION else (w, tag) for (w, tag) in newL]  # We don't remove punctuation yet, as they act as separators between words, which we need to construct meaningful bigrams for collocation finding. Instead, we replace them by a punctuation tag\n",
        "    newL = [(\"<S>\", \"TAG-S\") if w in EN_STOPWORDS else (w, tag) for (w, tag) in newL]  # We don't remove the stopwords yet, as they act as separators between non-stopwords which we need to construct meaningful bigrams for collocation finding. Instead, we replace them by a stopword tag\n",
        "    # We add starting and ending tags to mark end of quotes and avoid constructing bigrams of the end word of a quote and the start word of the next one which is unrelated.\n",
        "    newL.insert(0, (\"<B>\", \"TAG-B\"))  # Add begin tag with random POS tag\n",
        "    newL.append((\"<E>\", \"TAG-E\"))  # Add end tag with random POS tag\n",
        "    return newL\n",
        "\n",
        "marked_quotes_tagged = quotes_selected_speakers.tokenized_quote.apply(format_quote_for_collocation_finder_tagged)\n",
        "all_marked_quotes_tagged = [token for l in marked_quotes_tagged for token in l]"
      ],
      "id": "ytxhJDlEJbCP",
      "execution_count": null,
      "outputs": []
    },
    {
      "cell_type": "code",
      "metadata": {
        "id": "tkyqkB4tJ0Fr"
      },
      "source": [
        "finder_tagged = BigramCollocationFinder.from_words(all_marked_quotes_tagged)\n",
        "frequency_tagged = 3\n",
        "finder_tagged.apply_freq_filter(frequency_tagged)\n",
        "finder_tagged.nbest(bigram_measures.pmi, 15)  # n most collocated words"
      ],
      "id": "tkyqkB4tJ0Fr",
      "execution_count": null,
      "outputs": []
    },
    {
      "cell_type": "markdown",
      "metadata": {
        "id": "8jhabGmPRrG7"
      },
      "source": [
        "##### Named entity recognition"
      ],
      "id": "8jhabGmPRrG7"
    },
    {
      "cell_type": "code",
      "metadata": {
        "id": "XNH7i6NHRvGr"
      },
      "source": [
        "nltk.download('maxent_ne_chunker')\n",
        "nltk.download('words')\n",
        "\n",
        "ner_quotes = quotes_selected_speakers.tokenized_quote.apply(nltk.pos_tag)\n",
        "ner_quotes = ner_quotes.apply(nltk.ne_chunk)\n",
        "ner_quotes.head()"
      ],
      "id": "XNH7i6NHRvGr",
      "execution_count": null,
      "outputs": []
    },
    {
      "cell_type": "code",
      "metadata": {
        "id": "FkxdMFL6VpT6"
      },
      "source": [
        "print(ner_quotes[86])"
      ],
      "id": "FkxdMFL6VpT6",
      "execution_count": null,
      "outputs": []
    },
    {
      "cell_type": "code",
      "source": [
        "# A failed attempt to unravel the list of QIDS per speaker efficiently and then count the occurence of each speaker across the years \n",
        "# One should allocate the memory before running the algorithm, otherwise too slow \n",
        "\n",
        "\n",
        "from tqdm import tqdm\n",
        "# Concatenate values across years \n",
        "# To do this we need to expand the QIDS (which are lists) to single element\n",
        "# Store the final values - not used yet \n",
        "final_counts = pd.DataFrame(columns=['QIDS', 'Counts'])\n",
        "# Store the extended QIDS for each year \n",
        "extended_QIDS = {}\n",
        "for year in list_years:\n",
        "  # New variable to store the values per year, set the index as column of QIDS\n",
        "  yearly_series = dict_cumulative_counts[year].reset_index()\n",
        "  # Change the columns names\n",
        "  yearly_series.columns = ['QIDS', 'Counts']\n",
        "  # Reconvert the list of QIDS (that were converted to strings) to actual list using ast library\n",
        "  yearly_series[\"QIDS\"] = yearly_series[\"QIDS\"].apply(lambda x: (literal_eval(x)))\n",
        "  # Temporary variable per year \n",
        "  year_df = pd.DataFrame(columns=['QIDS', 'Counts'])\n",
        "  for idx, speaker in tqdm(yearly_series.iterrows()):\n",
        "    # Create a temporary variable per speaker\n",
        "    tmp_dict = {}\n",
        "    # Iterate over the QIDS of the speaker\n",
        "    for QID in speaker.QIDS:\n",
        "      # For the given QID, recover the count\n",
        "      tmp_dict[QID] = speaker.Counts\n",
        "    # Add speaker results to the year dataframe  \n",
        "    year_df = year_df.append(tmp_dict, ignore_index=True)\n",
        "  extended_QIDS[year] = year_df\n",
        "  print(\"Done for year: \" + str(year))\n",
        " #final_counts = final_counts.add(tmp_count, fill_value=0) "
      ],
      "metadata": {
        "colab": {
          "base_uri": "https://localhost:8080/",
          "height": 433
        },
        "id": "njAgtZjsXeN5",
        "outputId": "906a6fd0-cdc6-41f6-a1c9-e935e0a60020"
      },
      "id": "njAgtZjsXeN5",
      "execution_count": null,
      "outputs": [
        {
          "output_type": "stream",
          "name": "stderr",
          "text": [
            "1941it [02:12, 14.60it/s]\n"
          ]
        },
        {
          "output_type": "error",
          "ename": "KeyboardInterrupt",
          "evalue": "ignored",
          "traceback": [
            "\u001b[0;31m---------------------------------------------------------------------------\u001b[0m",
            "\u001b[0;31mKeyboardInterrupt\u001b[0m                         Traceback (most recent call last)",
            "\u001b[0;32m<ipython-input-54-dfbff89c0e4a>\u001b[0m in \u001b[0;36m<module>\u001b[0;34m()\u001b[0m\n\u001b[1;32m     22\u001b[0m       \u001b[0mtmp_dict\u001b[0m\u001b[0;34m[\u001b[0m\u001b[0mQID\u001b[0m\u001b[0;34m]\u001b[0m \u001b[0;34m=\u001b[0m \u001b[0mspeaker\u001b[0m\u001b[0;34m.\u001b[0m\u001b[0mCounts\u001b[0m\u001b[0;34m\u001b[0m\u001b[0;34m\u001b[0m\u001b[0m\n\u001b[1;32m     23\u001b[0m     \u001b[0;31m# Add speaker results to the year dataframe\u001b[0m\u001b[0;34m\u001b[0m\u001b[0;34m\u001b[0m\u001b[0;34m\u001b[0m\u001b[0m\n\u001b[0;32m---> 24\u001b[0;31m     \u001b[0myear_df\u001b[0m \u001b[0;34m=\u001b[0m \u001b[0myear_df\u001b[0m\u001b[0;34m.\u001b[0m\u001b[0mappend\u001b[0m\u001b[0;34m(\u001b[0m\u001b[0mtmp_dict\u001b[0m\u001b[0;34m,\u001b[0m \u001b[0mignore_index\u001b[0m\u001b[0;34m=\u001b[0m\u001b[0;32mTrue\u001b[0m\u001b[0;34m)\u001b[0m\u001b[0;34m\u001b[0m\u001b[0;34m\u001b[0m\u001b[0m\n\u001b[0m\u001b[1;32m     25\u001b[0m   \u001b[0mextended_QIDS\u001b[0m\u001b[0;34m[\u001b[0m\u001b[0myear\u001b[0m\u001b[0;34m]\u001b[0m \u001b[0;34m=\u001b[0m \u001b[0myear_df\u001b[0m\u001b[0;34m\u001b[0m\u001b[0;34m\u001b[0m\u001b[0m\n\u001b[1;32m     26\u001b[0m   \u001b[0mprint\u001b[0m\u001b[0;34m(\u001b[0m\u001b[0;34m\"Done for year: \"\u001b[0m \u001b[0;34m+\u001b[0m \u001b[0mstr\u001b[0m\u001b[0;34m(\u001b[0m\u001b[0myear\u001b[0m\u001b[0;34m)\u001b[0m\u001b[0;34m)\u001b[0m\u001b[0;34m\u001b[0m\u001b[0;34m\u001b[0m\u001b[0m\n",
            "\u001b[0;32m/usr/local/lib/python3.7/dist-packages/pandas/core/frame.py\u001b[0m in \u001b[0;36mappend\u001b[0;34m(self, other, ignore_index, verify_integrity, sort)\u001b[0m\n\u001b[1;32m   7083\u001b[0m             \u001b[0mignore_index\u001b[0m\u001b[0;34m=\u001b[0m\u001b[0mignore_index\u001b[0m\u001b[0;34m,\u001b[0m\u001b[0;34m\u001b[0m\u001b[0;34m\u001b[0m\u001b[0m\n\u001b[1;32m   7084\u001b[0m             \u001b[0mverify_integrity\u001b[0m\u001b[0;34m=\u001b[0m\u001b[0mverify_integrity\u001b[0m\u001b[0;34m,\u001b[0m\u001b[0;34m\u001b[0m\u001b[0;34m\u001b[0m\u001b[0m\n\u001b[0;32m-> 7085\u001b[0;31m             \u001b[0msort\u001b[0m\u001b[0;34m=\u001b[0m\u001b[0msort\u001b[0m\u001b[0;34m,\u001b[0m\u001b[0;34m\u001b[0m\u001b[0;34m\u001b[0m\u001b[0m\n\u001b[0m\u001b[1;32m   7086\u001b[0m         )\n\u001b[1;32m   7087\u001b[0m \u001b[0;34m\u001b[0m\u001b[0m\n",
            "\u001b[0;32m/usr/local/lib/python3.7/dist-packages/pandas/core/reshape/concat.py\u001b[0m in \u001b[0;36mconcat\u001b[0;34m(objs, axis, join, ignore_index, keys, levels, names, verify_integrity, sort, copy)\u001b[0m\n\u001b[1;32m    282\u001b[0m     )\n\u001b[1;32m    283\u001b[0m \u001b[0;34m\u001b[0m\u001b[0m\n\u001b[0;32m--> 284\u001b[0;31m     \u001b[0;32mreturn\u001b[0m \u001b[0mop\u001b[0m\u001b[0;34m.\u001b[0m\u001b[0mget_result\u001b[0m\u001b[0;34m(\u001b[0m\u001b[0;34m)\u001b[0m\u001b[0;34m\u001b[0m\u001b[0;34m\u001b[0m\u001b[0m\n\u001b[0m\u001b[1;32m    285\u001b[0m \u001b[0;34m\u001b[0m\u001b[0m\n\u001b[1;32m    286\u001b[0m \u001b[0;34m\u001b[0m\u001b[0m\n",
            "\u001b[0;32m/usr/local/lib/python3.7/dist-packages/pandas/core/reshape/concat.py\u001b[0m in \u001b[0;36mget_result\u001b[0;34m(self)\u001b[0m\n\u001b[1;32m    495\u001b[0m \u001b[0;34m\u001b[0m\u001b[0m\n\u001b[1;32m    496\u001b[0m             new_data = concatenate_block_managers(\n\u001b[0;32m--> 497\u001b[0;31m                 \u001b[0mmgrs_indexers\u001b[0m\u001b[0;34m,\u001b[0m \u001b[0mself\u001b[0m\u001b[0;34m.\u001b[0m\u001b[0mnew_axes\u001b[0m\u001b[0;34m,\u001b[0m \u001b[0mconcat_axis\u001b[0m\u001b[0;34m=\u001b[0m\u001b[0mself\u001b[0m\u001b[0;34m.\u001b[0m\u001b[0maxis\u001b[0m\u001b[0;34m,\u001b[0m \u001b[0mcopy\u001b[0m\u001b[0;34m=\u001b[0m\u001b[0mself\u001b[0m\u001b[0;34m.\u001b[0m\u001b[0mcopy\u001b[0m\u001b[0;34m\u001b[0m\u001b[0;34m\u001b[0m\u001b[0m\n\u001b[0m\u001b[1;32m    498\u001b[0m             )\n\u001b[1;32m    499\u001b[0m             \u001b[0;32mif\u001b[0m \u001b[0;32mnot\u001b[0m \u001b[0mself\u001b[0m\u001b[0;34m.\u001b[0m\u001b[0mcopy\u001b[0m\u001b[0;34m:\u001b[0m\u001b[0;34m\u001b[0m\u001b[0;34m\u001b[0m\u001b[0m\n",
            "\u001b[0;32m/usr/local/lib/python3.7/dist-packages/pandas/core/internals/managers.py\u001b[0m in \u001b[0;36mconcatenate_block_managers\u001b[0;34m(mgrs_indexers, axes, concat_axis, copy)\u001b[0m\n\u001b[1;32m   2016\u001b[0m         \u001b[0;32melif\u001b[0m \u001b[0mis_uniform_join_units\u001b[0m\u001b[0;34m(\u001b[0m\u001b[0mjoin_units\u001b[0m\u001b[0;34m)\u001b[0m\u001b[0;34m:\u001b[0m\u001b[0;34m\u001b[0m\u001b[0;34m\u001b[0m\u001b[0m\n\u001b[1;32m   2017\u001b[0m             b = join_units[0].block.concat_same_type(\n\u001b[0;32m-> 2018\u001b[0;31m                 \u001b[0;34m[\u001b[0m\u001b[0mju\u001b[0m\u001b[0;34m.\u001b[0m\u001b[0mblock\u001b[0m \u001b[0;32mfor\u001b[0m \u001b[0mju\u001b[0m \u001b[0;32min\u001b[0m \u001b[0mjoin_units\u001b[0m\u001b[0;34m]\u001b[0m\u001b[0;34m,\u001b[0m \u001b[0mplacement\u001b[0m\u001b[0;34m=\u001b[0m\u001b[0mplacement\u001b[0m\u001b[0;34m\u001b[0m\u001b[0;34m\u001b[0m\u001b[0m\n\u001b[0m\u001b[1;32m   2019\u001b[0m             )\n\u001b[1;32m   2020\u001b[0m         \u001b[0;32melse\u001b[0m\u001b[0;34m:\u001b[0m\u001b[0;34m\u001b[0m\u001b[0;34m\u001b[0m\u001b[0m\n",
            "\u001b[0;32m/usr/local/lib/python3.7/dist-packages/pandas/core/internals/blocks.py\u001b[0m in \u001b[0;36mconcat_same_type\u001b[0;34m(self, to_concat, placement)\u001b[0m\n\u001b[1;32m    357\u001b[0m         \"\"\"\n\u001b[1;32m    358\u001b[0m         values = self._concatenator(\n\u001b[0;32m--> 359\u001b[0;31m             \u001b[0;34m[\u001b[0m\u001b[0mblk\u001b[0m\u001b[0;34m.\u001b[0m\u001b[0mvalues\u001b[0m \u001b[0;32mfor\u001b[0m \u001b[0mblk\u001b[0m \u001b[0;32min\u001b[0m \u001b[0mto_concat\u001b[0m\u001b[0;34m]\u001b[0m\u001b[0;34m,\u001b[0m \u001b[0maxis\u001b[0m\u001b[0;34m=\u001b[0m\u001b[0mself\u001b[0m\u001b[0;34m.\u001b[0m\u001b[0mndim\u001b[0m \u001b[0;34m-\u001b[0m \u001b[0;36m1\u001b[0m\u001b[0;34m\u001b[0m\u001b[0;34m\u001b[0m\u001b[0m\n\u001b[0m\u001b[1;32m    360\u001b[0m         )\n\u001b[1;32m    361\u001b[0m         return self.make_block_same_class(\n",
            "\u001b[0;32m<__array_function__ internals>\u001b[0m in \u001b[0;36mconcatenate\u001b[0;34m(*args, **kwargs)\u001b[0m\n",
            "\u001b[0;31mKeyboardInterrupt\u001b[0m: "
          ]
        }
      ]
    }
  ]
}