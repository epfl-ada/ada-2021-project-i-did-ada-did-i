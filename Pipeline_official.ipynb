{
  "nbformat": 4,
  "nbformat_minor": 5,
  "metadata": {
    "colab": {
      "name": "Pipeline_official.ipynb",
      "provenance": [],
      "collapsed_sections": []
    },
    "kernelspec": {
      "display_name": "Python [conda env:ada] *",
      "language": "python",
      "name": "conda-env-ada-py"
    },
    "language_info": {
      "codemirror_mode": {
        "name": "ipython",
        "version": 3
      },
      "file_extension": ".py",
      "mimetype": "text/x-python",
      "name": "python",
      "nbconvert_exporter": "python",
      "pygments_lexer": "ipython3",
      "version": "3.8.11"
    }
  },
  "cells": [
    {
      "cell_type": "markdown",
      "metadata": {
        "id": "6f58b18c-b3c4-41a7-a7fb-ba11a1b435cc"
      },
      "source": [
        "## A) Imports and data loading"
      ],
      "id": "6f58b18c-b3c4-41a7-a7fb-ba11a1b435cc"
    },
    {
      "cell_type": "code",
      "metadata": {
        "colab": {
          "base_uri": "https://localhost:8080/"
        },
        "id": "AE0Dnnxuyiq5",
        "outputId": "94d83a19-afe2-407f-fd29-09b1a656b316"
      },
      "source": [
        "!pip install pandas==1.0.5"
      ],
      "id": "AE0Dnnxuyiq5",
      "execution_count": null,
      "outputs": [
        {
          "output_type": "stream",
          "name": "stdout",
          "text": [
            "Requirement already satisfied: pandas==1.0.5 in /usr/local/lib/python3.7/dist-packages (1.0.5)\n",
            "Requirement already satisfied: pytz>=2017.2 in /usr/local/lib/python3.7/dist-packages (from pandas==1.0.5) (2018.9)\n",
            "Requirement already satisfied: numpy>=1.13.3 in /usr/local/lib/python3.7/dist-packages (from pandas==1.0.5) (1.19.5)\n",
            "Requirement already satisfied: python-dateutil>=2.6.1 in /usr/local/lib/python3.7/dist-packages (from pandas==1.0.5) (2.8.2)\n",
            "Requirement already satisfied: six>=1.5 in /usr/local/lib/python3.7/dist-packages (from python-dateutil>=2.6.1->pandas==1.0.5) (1.15.0)\n"
          ]
        }
      ]
    },
    {
      "cell_type": "code",
      "source": [
        "!pip install plotly==5.4.0"
      ],
      "metadata": {
        "colab": {
          "base_uri": "https://localhost:8080/"
        },
        "id": "WwD5SaXaRFhW",
        "outputId": "f2aa9ac3-7983-4824-afbb-c3620f697d99"
      },
      "id": "WwD5SaXaRFhW",
      "execution_count": null,
      "outputs": [
        {
          "output_type": "stream",
          "name": "stdout",
          "text": [
            "Collecting plotly==5.4.0\n",
            "  Downloading plotly-5.4.0-py2.py3-none-any.whl (25.3 MB)\n",
            "\u001b[K     |████████████████████████████████| 25.3 MB 1.7 MB/s \n",
            "\u001b[?25hCollecting tenacity>=6.2.0\n",
            "  Downloading tenacity-8.0.1-py3-none-any.whl (24 kB)\n",
            "Requirement already satisfied: six in /usr/local/lib/python3.7/dist-packages (from plotly==5.4.0) (1.15.0)\n",
            "Installing collected packages: tenacity, plotly\n",
            "  Attempting uninstall: plotly\n",
            "    Found existing installation: plotly 4.4.1\n",
            "    Uninstalling plotly-4.4.1:\n",
            "      Successfully uninstalled plotly-4.4.1\n",
            "Successfully installed plotly-5.4.0 tenacity-8.0.1\n"
          ]
        }
      ]
    },
    {
      "cell_type": "code",
      "source": [
        "!pip install chart-studio"
      ],
      "metadata": {
        "id": "vrNFG-OnHTxd",
        "colab": {
          "base_uri": "https://localhost:8080/"
        },
        "outputId": "73a13e95-f972-416d-b176-26bd141985ec"
      },
      "id": "vrNFG-OnHTxd",
      "execution_count": null,
      "outputs": [
        {
          "output_type": "stream",
          "name": "stdout",
          "text": [
            "Collecting chart-studio\n",
            "  Downloading chart_studio-1.1.0-py3-none-any.whl (64 kB)\n",
            "\u001b[?25l\r\u001b[K     |█████                           | 10 kB 18.1 MB/s eta 0:00:01\r\u001b[K     |██████████▏                     | 20 kB 24.2 MB/s eta 0:00:01\r\u001b[K     |███████████████▎                | 30 kB 12.6 MB/s eta 0:00:01\r\u001b[K     |████████████████████▍           | 40 kB 9.5 MB/s eta 0:00:01\r\u001b[K     |█████████████████████████▍      | 51 kB 5.5 MB/s eta 0:00:01\r\u001b[K     |██████████████████████████████▌ | 61 kB 6.1 MB/s eta 0:00:01\r\u001b[K     |████████████████████████████████| 64 kB 1.8 MB/s \n",
            "\u001b[?25hRequirement already satisfied: requests in /usr/local/lib/python3.7/dist-packages (from chart-studio) (2.23.0)\n",
            "Requirement already satisfied: retrying>=1.3.3 in /usr/local/lib/python3.7/dist-packages (from chart-studio) (1.3.3)\n",
            "Requirement already satisfied: six in /usr/local/lib/python3.7/dist-packages (from chart-studio) (1.15.0)\n",
            "Requirement already satisfied: plotly in /usr/local/lib/python3.7/dist-packages (from chart-studio) (5.4.0)\n",
            "Requirement already satisfied: tenacity>=6.2.0 in /usr/local/lib/python3.7/dist-packages (from plotly->chart-studio) (8.0.1)\n",
            "Requirement already satisfied: certifi>=2017.4.17 in /usr/local/lib/python3.7/dist-packages (from requests->chart-studio) (2021.10.8)\n",
            "Requirement already satisfied: urllib3!=1.25.0,!=1.25.1,<1.26,>=1.21.1 in /usr/local/lib/python3.7/dist-packages (from requests->chart-studio) (1.24.3)\n",
            "Requirement already satisfied: chardet<4,>=3.0.2 in /usr/local/lib/python3.7/dist-packages (from requests->chart-studio) (3.0.4)\n",
            "Requirement already satisfied: idna<3,>=2.5 in /usr/local/lib/python3.7/dist-packages (from requests->chart-studio) (2.10)\n",
            "Installing collected packages: chart-studio\n",
            "Successfully installed chart-studio-1.1.0\n"
          ]
        }
      ]
    },
    {
      "cell_type": "code",
      "metadata": {
        "colab": {
          "base_uri": "https://localhost:8080/"
        },
        "id": "hk5xa0msRwNe",
        "outputId": "3d8e8ea2-99d4-46c1-d883-e7ee8ab9e95f"
      },
      "source": [
        "!pip install tld"
      ],
      "id": "hk5xa0msRwNe",
      "execution_count": null,
      "outputs": [
        {
          "output_type": "stream",
          "name": "stdout",
          "text": [
            "Collecting tld\n",
            "  Downloading tld-0.12.6-py37-none-any.whl (412 kB)\n",
            "\u001b[?25l\r\u001b[K     |▉                               | 10 kB 19.4 MB/s eta 0:00:01\r\u001b[K     |█▋                              | 20 kB 22.3 MB/s eta 0:00:01\r\u001b[K     |██▍                             | 30 kB 25.1 MB/s eta 0:00:01\r\u001b[K     |███▏                            | 40 kB 27.7 MB/s eta 0:00:01\r\u001b[K     |████                            | 51 kB 8.4 MB/s eta 0:00:01\r\u001b[K     |████▊                           | 61 kB 8.8 MB/s eta 0:00:01\r\u001b[K     |█████▋                          | 71 kB 6.2 MB/s eta 0:00:01\r\u001b[K     |██████▍                         | 81 kB 6.9 MB/s eta 0:00:01\r\u001b[K     |███████▏                        | 92 kB 7.2 MB/s eta 0:00:01\r\u001b[K     |████████                        | 102 kB 6.3 MB/s eta 0:00:01\r\u001b[K     |████████▊                       | 112 kB 6.3 MB/s eta 0:00:01\r\u001b[K     |█████████▌                      | 122 kB 6.3 MB/s eta 0:00:01\r\u001b[K     |██████████▍                     | 133 kB 6.3 MB/s eta 0:00:01\r\u001b[K     |███████████▏                    | 143 kB 6.3 MB/s eta 0:00:01\r\u001b[K     |████████████                    | 153 kB 6.3 MB/s eta 0:00:01\r\u001b[K     |████████████▊                   | 163 kB 6.3 MB/s eta 0:00:01\r\u001b[K     |█████████████▌                  | 174 kB 6.3 MB/s eta 0:00:01\r\u001b[K     |██████████████▎                 | 184 kB 6.3 MB/s eta 0:00:01\r\u001b[K     |███████████████                 | 194 kB 6.3 MB/s eta 0:00:01\r\u001b[K     |████████████████                | 204 kB 6.3 MB/s eta 0:00:01\r\u001b[K     |████████████████▊               | 215 kB 6.3 MB/s eta 0:00:01\r\u001b[K     |█████████████████▌              | 225 kB 6.3 MB/s eta 0:00:01\r\u001b[K     |██████████████████▎             | 235 kB 6.3 MB/s eta 0:00:01\r\u001b[K     |███████████████████             | 245 kB 6.3 MB/s eta 0:00:01\r\u001b[K     |███████████████████▉            | 256 kB 6.3 MB/s eta 0:00:01\r\u001b[K     |████████████████████▊           | 266 kB 6.3 MB/s eta 0:00:01\r\u001b[K     |█████████████████████▌          | 276 kB 6.3 MB/s eta 0:00:01\r\u001b[K     |██████████████████████▎         | 286 kB 6.3 MB/s eta 0:00:01\r\u001b[K     |███████████████████████         | 296 kB 6.3 MB/s eta 0:00:01\r\u001b[K     |███████████████████████▉        | 307 kB 6.3 MB/s eta 0:00:01\r\u001b[K     |████████████████████████▋       | 317 kB 6.3 MB/s eta 0:00:01\r\u001b[K     |█████████████████████████▍      | 327 kB 6.3 MB/s eta 0:00:01\r\u001b[K     |██████████████████████████▎     | 337 kB 6.3 MB/s eta 0:00:01\r\u001b[K     |███████████████████████████     | 348 kB 6.3 MB/s eta 0:00:01\r\u001b[K     |███████████████████████████▉    | 358 kB 6.3 MB/s eta 0:00:01\r\u001b[K     |████████████████████████████▋   | 368 kB 6.3 MB/s eta 0:00:01\r\u001b[K     |█████████████████████████████▍  | 378 kB 6.3 MB/s eta 0:00:01\r\u001b[K     |██████████████████████████████▏ | 389 kB 6.3 MB/s eta 0:00:01\r\u001b[K     |███████████████████████████████ | 399 kB 6.3 MB/s eta 0:00:01\r\u001b[K     |███████████████████████████████▉| 409 kB 6.3 MB/s eta 0:00:01\r\u001b[K     |████████████████████████████████| 412 kB 6.3 MB/s \n",
            "\u001b[?25hInstalling collected packages: tld\n",
            "Successfully installed tld-0.12.6\n"
          ]
        }
      ]
    },
    {
      "cell_type": "code",
      "metadata": {
        "id": "0H_-gPqAYI01",
        "colab": {
          "base_uri": "https://localhost:8080/"
        },
        "outputId": "45522513-0ec3-4b6f-f33f-aaf5e9138126"
      },
      "source": [
        "from google.colab import drive\n",
        "drive.mount('/content/drive')\n",
        "\n",
        "import bz2\n",
        "import json\n",
        "import csv\n",
        "import copy\n",
        "import pandas as pd\n",
        "import warnings\n",
        "import numpy as np\n",
        "import matplotlib.pyplot as plt\n",
        "import matplotlib.patches as mpatches\n",
        "import seaborn as sns\n",
        "import requests\n",
        "from bs4 import BeautifulSoup as soup\n",
        "from ast import literal_eval\n",
        "import urllib.request as ul\n",
        "from collections import Counter\n",
        "from tld import get_fld\n",
        "import string\n",
        "import os\n",
        "import nltk\n",
        "from statsmodels.stats.weightstats import DescrStatsW\n",
        "import plotly.graph_objects as go\n",
        "import plotly.express as px\n",
        "import statsmodels.formula.api as smf\n",
        "from sklearn.decomposition import PCA\n",
        "from sklearn.preprocessing import MinMaxScaler\n",
        "\n",
        "\n",
        "\n",
        "nltk.download('stopwords')\n",
        "nltk.download(\"punkt\")\n",
        "nltk.download('vader_lexicon')\n",
        "nltk.download('wordnet')\n",
        "nltk.download('crubadan')\n",
        "\n",
        "from nltk.sentiment import SentimentIntensityAnalyzer  # VADER is better for short sentences, but we only have this so we use just that.\n",
        "from nltk.tokenize import word_tokenize\n",
        "from nltk.corpus import stopwords\n",
        "from nltk.stem import WordNetLemmatizer\n",
        "\n",
        "drive = '/content/drive/MyDrive/ADA-shared/'"
      ],
      "id": "0H_-gPqAYI01",
      "execution_count": null,
      "outputs": [
        {
          "output_type": "stream",
          "name": "stdout",
          "text": [
            "Mounted at /content/drive\n"
          ]
        },
        {
          "output_type": "stream",
          "name": "stderr",
          "text": [
            "/usr/local/lib/python3.7/dist-packages/statsmodels/tools/_testing.py:19: FutureWarning: pandas.util.testing is deprecated. Use the functions in the public API at pandas.testing instead.\n",
            "  import pandas.util.testing as tm\n"
          ]
        },
        {
          "output_type": "stream",
          "name": "stdout",
          "text": [
            "[nltk_data] Downloading package stopwords to /root/nltk_data...\n",
            "[nltk_data]   Unzipping corpora/stopwords.zip.\n",
            "[nltk_data] Downloading package punkt to /root/nltk_data...\n",
            "[nltk_data]   Unzipping tokenizers/punkt.zip.\n",
            "[nltk_data] Downloading package vader_lexicon to /root/nltk_data...\n",
            "[nltk_data] Downloading package wordnet to /root/nltk_data...\n",
            "[nltk_data]   Unzipping corpora/wordnet.zip.\n",
            "[nltk_data] Downloading package crubadan to /root/nltk_data...\n",
            "[nltk_data]   Unzipping corpora/crubadan.zip.\n"
          ]
        },
        {
          "output_type": "stream",
          "name": "stderr",
          "text": [
            "/usr/local/lib/python3.7/dist-packages/nltk/twitter/__init__.py:20: UserWarning: The twython library has not been installed. Some functionality from the twitter package will not be available.\n",
            "  warnings.warn(\"The twython library has not been installed. \"\n"
          ]
        }
      ]
    },
    {
      "cell_type": "code",
      "metadata": {
        "id": "mqkbmYdsyDzX",
        "colab": {
          "base_uri": "https://localhost:8080/",
          "height": 35
        },
        "outputId": "871f2254-6a1d-4706-c1e6-d9defe12850e"
      },
      "source": [
        "pd.__version__"
      ],
      "id": "mqkbmYdsyDzX",
      "execution_count": null,
      "outputs": [
        {
          "output_type": "execute_result",
          "data": {
            "application/vnd.google.colaboratory.intrinsic+json": {
              "type": "string"
            },
            "text/plain": [
              "'1.0.5'"
            ]
          },
          "metadata": {},
          "execution_count": 7
        }
      ]
    },
    {
      "cell_type": "markdown",
      "metadata": {
        "id": "RFwxb1BwZGmK"
      },
      "source": [
        "### Load *Wikidata* data dumps\n",
        "\n"
      ],
      "id": "RFwxb1BwZGmK"
    },
    {
      "cell_type": "code",
      "metadata": {
        "id": "ymYSIcOjZKAE"
      },
      "source": [
        "# Load the speaker attributes \n",
        "wikidata_speakers = pd.read_parquet('/content/drive/MyDrive/ADA/Project datasets/speaker_attributes.parquet')"
      ],
      "id": "ymYSIcOjZKAE",
      "execution_count": null,
      "outputs": []
    },
    {
      "cell_type": "code",
      "metadata": {
        "colab": {
          "base_uri": "https://localhost:8080/",
          "height": 426
        },
        "id": "RfgsQW2woggT",
        "outputId": "d5a8d8d9-6764-4583-a4a1-3ea7696001b5"
      },
      "source": [
        "wikidata_speakers.sample(5)"
      ],
      "id": "RfgsQW2woggT",
      "execution_count": null,
      "outputs": [
        {
          "output_type": "execute_result",
          "data": {
            "text/html": [
              "\n",
              "  <div id=\"df-0df45a31-0a04-4fec-8619-6b5b6f0ed1a9\">\n",
              "    <div class=\"colab-df-container\">\n",
              "      <div>\n",
              "<style scoped>\n",
              "    .dataframe tbody tr th:only-of-type {\n",
              "        vertical-align: middle;\n",
              "    }\n",
              "\n",
              "    .dataframe tbody tr th {\n",
              "        vertical-align: top;\n",
              "    }\n",
              "\n",
              "    .dataframe thead th {\n",
              "        text-align: right;\n",
              "    }\n",
              "</style>\n",
              "<table border=\"1\" class=\"dataframe\">\n",
              "  <thead>\n",
              "    <tr style=\"text-align: right;\">\n",
              "      <th></th>\n",
              "      <th>aliases</th>\n",
              "      <th>date_of_birth</th>\n",
              "      <th>nationality</th>\n",
              "      <th>gender</th>\n",
              "      <th>lastrevid</th>\n",
              "      <th>ethnic_group</th>\n",
              "      <th>US_congress_bio_ID</th>\n",
              "      <th>occupation</th>\n",
              "      <th>party</th>\n",
              "      <th>academic_degree</th>\n",
              "      <th>id</th>\n",
              "      <th>label</th>\n",
              "      <th>candidacy</th>\n",
              "      <th>type</th>\n",
              "      <th>religion</th>\n",
              "    </tr>\n",
              "  </thead>\n",
              "  <tbody>\n",
              "    <tr>\n",
              "      <th>3100554</th>\n",
              "      <td>None</td>\n",
              "      <td>None</td>\n",
              "      <td>None</td>\n",
              "      <td>[Q6581072]</td>\n",
              "      <td>1362577267</td>\n",
              "      <td>None</td>\n",
              "      <td>None</td>\n",
              "      <td>[Q1650915]</td>\n",
              "      <td>None</td>\n",
              "      <td>None</td>\n",
              "      <td>Q89165695</td>\n",
              "      <td>Maria Alice Muniz Domingos</td>\n",
              "      <td>None</td>\n",
              "      <td>item</td>\n",
              "      <td>None</td>\n",
              "    </tr>\n",
              "    <tr>\n",
              "      <th>4892933</th>\n",
              "      <td>None</td>\n",
              "      <td>[+1893-02-18T00:00:00Z]</td>\n",
              "      <td>None</td>\n",
              "      <td>[Q6581097]</td>\n",
              "      <td>1319290922</td>\n",
              "      <td>None</td>\n",
              "      <td>None</td>\n",
              "      <td>[Q13414980]</td>\n",
              "      <td>None</td>\n",
              "      <td>None</td>\n",
              "      <td>Q21070142</td>\n",
              "      <td>Phil Furlong</td>\n",
              "      <td>None</td>\n",
              "      <td>item</td>\n",
              "      <td>None</td>\n",
              "    </tr>\n",
              "    <tr>\n",
              "      <th>5891182</th>\n",
              "      <td>[Koho Kato, Kouhou Katou]</td>\n",
              "      <td>[+1934-05-01T00:00:00Z]</td>\n",
              "      <td>[Q17]</td>\n",
              "      <td>[Q6581097]</td>\n",
              "      <td>1328439226</td>\n",
              "      <td>None</td>\n",
              "      <td>None</td>\n",
              "      <td>None</td>\n",
              "      <td>None</td>\n",
              "      <td>None</td>\n",
              "      <td>Q11399025</td>\n",
              "      <td>Kōhō Katō</td>\n",
              "      <td>None</td>\n",
              "      <td>item</td>\n",
              "      <td>None</td>\n",
              "    </tr>\n",
              "    <tr>\n",
              "      <th>241527</th>\n",
              "      <td>None</td>\n",
              "      <td>[+0850-00-00T00:00:00Z]</td>\n",
              "      <td>None</td>\n",
              "      <td>[Q6581097]</td>\n",
              "      <td>1395745927</td>\n",
              "      <td>None</td>\n",
              "      <td>None</td>\n",
              "      <td>None</td>\n",
              "      <td>None</td>\n",
              "      <td>None</td>\n",
              "      <td>Q11623247</td>\n",
              "      <td>None</td>\n",
              "      <td>None</td>\n",
              "      <td>item</td>\n",
              "      <td>None</td>\n",
              "    </tr>\n",
              "    <tr>\n",
              "      <th>3588781</th>\n",
              "      <td>None</td>\n",
              "      <td>[+1872-01-01T00:00:00Z]</td>\n",
              "      <td>None</td>\n",
              "      <td>[Q6581097]</td>\n",
              "      <td>1319235270</td>\n",
              "      <td>None</td>\n",
              "      <td>None</td>\n",
              "      <td>[Q482980]</td>\n",
              "      <td>None</td>\n",
              "      <td>None</td>\n",
              "      <td>Q7147500</td>\n",
              "      <td>Patrick R. Chalmers</td>\n",
              "      <td>None</td>\n",
              "      <td>item</td>\n",
              "      <td>None</td>\n",
              "    </tr>\n",
              "  </tbody>\n",
              "</table>\n",
              "</div>\n",
              "      <button class=\"colab-df-convert\" onclick=\"convertToInteractive('df-0df45a31-0a04-4fec-8619-6b5b6f0ed1a9')\"\n",
              "              title=\"Convert this dataframe to an interactive table.\"\n",
              "              style=\"display:none;\">\n",
              "        \n",
              "  <svg xmlns=\"http://www.w3.org/2000/svg\" height=\"24px\"viewBox=\"0 0 24 24\"\n",
              "       width=\"24px\">\n",
              "    <path d=\"M0 0h24v24H0V0z\" fill=\"none\"/>\n",
              "    <path d=\"M18.56 5.44l.94 2.06.94-2.06 2.06-.94-2.06-.94-.94-2.06-.94 2.06-2.06.94zm-11 1L8.5 8.5l.94-2.06 2.06-.94-2.06-.94L8.5 2.5l-.94 2.06-2.06.94zm10 10l.94 2.06.94-2.06 2.06-.94-2.06-.94-.94-2.06-.94 2.06-2.06.94z\"/><path d=\"M17.41 7.96l-1.37-1.37c-.4-.4-.92-.59-1.43-.59-.52 0-1.04.2-1.43.59L10.3 9.45l-7.72 7.72c-.78.78-.78 2.05 0 2.83L4 21.41c.39.39.9.59 1.41.59.51 0 1.02-.2 1.41-.59l7.78-7.78 2.81-2.81c.8-.78.8-2.07 0-2.86zM5.41 20L4 18.59l7.72-7.72 1.47 1.35L5.41 20z\"/>\n",
              "  </svg>\n",
              "      </button>\n",
              "      \n",
              "  <style>\n",
              "    .colab-df-container {\n",
              "      display:flex;\n",
              "      flex-wrap:wrap;\n",
              "      gap: 12px;\n",
              "    }\n",
              "\n",
              "    .colab-df-convert {\n",
              "      background-color: #E8F0FE;\n",
              "      border: none;\n",
              "      border-radius: 50%;\n",
              "      cursor: pointer;\n",
              "      display: none;\n",
              "      fill: #1967D2;\n",
              "      height: 32px;\n",
              "      padding: 0 0 0 0;\n",
              "      width: 32px;\n",
              "    }\n",
              "\n",
              "    .colab-df-convert:hover {\n",
              "      background-color: #E2EBFA;\n",
              "      box-shadow: 0px 1px 2px rgba(60, 64, 67, 0.3), 0px 1px 3px 1px rgba(60, 64, 67, 0.15);\n",
              "      fill: #174EA6;\n",
              "    }\n",
              "\n",
              "    [theme=dark] .colab-df-convert {\n",
              "      background-color: #3B4455;\n",
              "      fill: #D2E3FC;\n",
              "    }\n",
              "\n",
              "    [theme=dark] .colab-df-convert:hover {\n",
              "      background-color: #434B5C;\n",
              "      box-shadow: 0px 1px 3px 1px rgba(0, 0, 0, 0.15);\n",
              "      filter: drop-shadow(0px 1px 2px rgba(0, 0, 0, 0.3));\n",
              "      fill: #FFFFFF;\n",
              "    }\n",
              "  </style>\n",
              "\n",
              "      <script>\n",
              "        const buttonEl =\n",
              "          document.querySelector('#df-0df45a31-0a04-4fec-8619-6b5b6f0ed1a9 button.colab-df-convert');\n",
              "        buttonEl.style.display =\n",
              "          google.colab.kernel.accessAllowed ? 'block' : 'none';\n",
              "\n",
              "        async function convertToInteractive(key) {\n",
              "          const element = document.querySelector('#df-0df45a31-0a04-4fec-8619-6b5b6f0ed1a9');\n",
              "          const dataTable =\n",
              "            await google.colab.kernel.invokeFunction('convertToInteractive',\n",
              "                                                     [key], {});\n",
              "          if (!dataTable) return;\n",
              "\n",
              "          const docLinkHtml = 'Like what you see? Visit the ' +\n",
              "            '<a target=\"_blank\" href=https://colab.research.google.com/notebooks/data_table.ipynb>data table notebook</a>'\n",
              "            + ' to learn more about interactive tables.';\n",
              "          element.innerHTML = '';\n",
              "          dataTable['output_type'] = 'display_data';\n",
              "          await google.colab.output.renderOutput(dataTable, element);\n",
              "          const docLink = document.createElement('div');\n",
              "          docLink.innerHTML = docLinkHtml;\n",
              "          element.appendChild(docLink);\n",
              "        }\n",
              "      </script>\n",
              "    </div>\n",
              "  </div>\n",
              "  "
            ],
            "text/plain": [
              "                           aliases            date_of_birth  ...  type religion\n",
              "3100554                       None                     None  ...  item     None\n",
              "4892933                       None  [+1893-02-18T00:00:00Z]  ...  item     None\n",
              "5891182  [Koho Kato, Kouhou Katou]  [+1934-05-01T00:00:00Z]  ...  item     None\n",
              "241527                        None  [+0850-00-00T00:00:00Z]  ...  item     None\n",
              "3588781                       None  [+1872-01-01T00:00:00Z]  ...  item     None\n",
              "\n",
              "[5 rows x 15 columns]"
            ]
          },
          "metadata": {},
          "execution_count": 7
        }
      ]
    },
    {
      "cell_type": "markdown",
      "metadata": {
        "id": "rb_U0pJQ2KYj"
      },
      "source": [
        "#### Load the human interpretable labels"
      ],
      "id": "rb_U0pJQ2KYj"
    },
    {
      "cell_type": "code",
      "metadata": {
        "id": "Jfi6eNRd2V6h",
        "colab": {
          "base_uri": "https://localhost:8080/",
          "height": 206
        },
        "outputId": "2d69c933-b6f2-4676-dce6-b3c12f8b8935"
      },
      "source": [
        "path_to_file = '/content/drive/MyDrive/ADA/Project datasets/wikidata_labels_descriptions_quotebank.csv.bz2'\n",
        "# Directly use the built-in pandas function as the CSV is quite small \n",
        "df_labels_wiki = pd.read_csv(path_to_file,  encoding='utf-8', compression=\"bz2\")\n",
        "df_labels_wiki.head(5)"
      ],
      "id": "Jfi6eNRd2V6h",
      "execution_count": null,
      "outputs": [
        {
          "output_type": "execute_result",
          "data": {
            "text/html": [
              "\n",
              "  <div id=\"df-1afe185d-772e-45c7-8c54-9746b0e6fdf9\">\n",
              "    <div class=\"colab-df-container\">\n",
              "      <div>\n",
              "<style scoped>\n",
              "    .dataframe tbody tr th:only-of-type {\n",
              "        vertical-align: middle;\n",
              "    }\n",
              "\n",
              "    .dataframe tbody tr th {\n",
              "        vertical-align: top;\n",
              "    }\n",
              "\n",
              "    .dataframe thead th {\n",
              "        text-align: right;\n",
              "    }\n",
              "</style>\n",
              "<table border=\"1\" class=\"dataframe\">\n",
              "  <thead>\n",
              "    <tr style=\"text-align: right;\">\n",
              "      <th></th>\n",
              "      <th>QID</th>\n",
              "      <th>Label</th>\n",
              "      <th>Description</th>\n",
              "    </tr>\n",
              "  </thead>\n",
              "  <tbody>\n",
              "    <tr>\n",
              "      <th>0</th>\n",
              "      <td>Q31</td>\n",
              "      <td>Belgium</td>\n",
              "      <td>country in western Europe</td>\n",
              "    </tr>\n",
              "    <tr>\n",
              "      <th>1</th>\n",
              "      <td>Q45</td>\n",
              "      <td>Portugal</td>\n",
              "      <td>country in southwestern Europe</td>\n",
              "    </tr>\n",
              "    <tr>\n",
              "      <th>2</th>\n",
              "      <td>Q75</td>\n",
              "      <td>Internet</td>\n",
              "      <td>global system of connected computer networks</td>\n",
              "    </tr>\n",
              "    <tr>\n",
              "      <th>3</th>\n",
              "      <td>Q148</td>\n",
              "      <td>People's Republic of China</td>\n",
              "      <td>sovereign state in East Asia</td>\n",
              "    </tr>\n",
              "    <tr>\n",
              "      <th>4</th>\n",
              "      <td>Q155</td>\n",
              "      <td>Brazil</td>\n",
              "      <td>country in South America</td>\n",
              "    </tr>\n",
              "  </tbody>\n",
              "</table>\n",
              "</div>\n",
              "      <button class=\"colab-df-convert\" onclick=\"convertToInteractive('df-1afe185d-772e-45c7-8c54-9746b0e6fdf9')\"\n",
              "              title=\"Convert this dataframe to an interactive table.\"\n",
              "              style=\"display:none;\">\n",
              "        \n",
              "  <svg xmlns=\"http://www.w3.org/2000/svg\" height=\"24px\"viewBox=\"0 0 24 24\"\n",
              "       width=\"24px\">\n",
              "    <path d=\"M0 0h24v24H0V0z\" fill=\"none\"/>\n",
              "    <path d=\"M18.56 5.44l.94 2.06.94-2.06 2.06-.94-2.06-.94-.94-2.06-.94 2.06-2.06.94zm-11 1L8.5 8.5l.94-2.06 2.06-.94-2.06-.94L8.5 2.5l-.94 2.06-2.06.94zm10 10l.94 2.06.94-2.06 2.06-.94-2.06-.94-.94-2.06-.94 2.06-2.06.94z\"/><path d=\"M17.41 7.96l-1.37-1.37c-.4-.4-.92-.59-1.43-.59-.52 0-1.04.2-1.43.59L10.3 9.45l-7.72 7.72c-.78.78-.78 2.05 0 2.83L4 21.41c.39.39.9.59 1.41.59.51 0 1.02-.2 1.41-.59l7.78-7.78 2.81-2.81c.8-.78.8-2.07 0-2.86zM5.41 20L4 18.59l7.72-7.72 1.47 1.35L5.41 20z\"/>\n",
              "  </svg>\n",
              "      </button>\n",
              "      \n",
              "  <style>\n",
              "    .colab-df-container {\n",
              "      display:flex;\n",
              "      flex-wrap:wrap;\n",
              "      gap: 12px;\n",
              "    }\n",
              "\n",
              "    .colab-df-convert {\n",
              "      background-color: #E8F0FE;\n",
              "      border: none;\n",
              "      border-radius: 50%;\n",
              "      cursor: pointer;\n",
              "      display: none;\n",
              "      fill: #1967D2;\n",
              "      height: 32px;\n",
              "      padding: 0 0 0 0;\n",
              "      width: 32px;\n",
              "    }\n",
              "\n",
              "    .colab-df-convert:hover {\n",
              "      background-color: #E2EBFA;\n",
              "      box-shadow: 0px 1px 2px rgba(60, 64, 67, 0.3), 0px 1px 3px 1px rgba(60, 64, 67, 0.15);\n",
              "      fill: #174EA6;\n",
              "    }\n",
              "\n",
              "    [theme=dark] .colab-df-convert {\n",
              "      background-color: #3B4455;\n",
              "      fill: #D2E3FC;\n",
              "    }\n",
              "\n",
              "    [theme=dark] .colab-df-convert:hover {\n",
              "      background-color: #434B5C;\n",
              "      box-shadow: 0px 1px 3px 1px rgba(0, 0, 0, 0.15);\n",
              "      filter: drop-shadow(0px 1px 2px rgba(0, 0, 0, 0.3));\n",
              "      fill: #FFFFFF;\n",
              "    }\n",
              "  </style>\n",
              "\n",
              "      <script>\n",
              "        const buttonEl =\n",
              "          document.querySelector('#df-1afe185d-772e-45c7-8c54-9746b0e6fdf9 button.colab-df-convert');\n",
              "        buttonEl.style.display =\n",
              "          google.colab.kernel.accessAllowed ? 'block' : 'none';\n",
              "\n",
              "        async function convertToInteractive(key) {\n",
              "          const element = document.querySelector('#df-1afe185d-772e-45c7-8c54-9746b0e6fdf9');\n",
              "          const dataTable =\n",
              "            await google.colab.kernel.invokeFunction('convertToInteractive',\n",
              "                                                     [key], {});\n",
              "          if (!dataTable) return;\n",
              "\n",
              "          const docLinkHtml = 'Like what you see? Visit the ' +\n",
              "            '<a target=\"_blank\" href=https://colab.research.google.com/notebooks/data_table.ipynb>data table notebook</a>'\n",
              "            + ' to learn more about interactive tables.';\n",
              "          element.innerHTML = '';\n",
              "          dataTable['output_type'] = 'display_data';\n",
              "          await google.colab.output.renderOutput(dataTable, element);\n",
              "          const docLink = document.createElement('div');\n",
              "          docLink.innerHTML = docLinkHtml;\n",
              "          element.appendChild(docLink);\n",
              "        }\n",
              "      </script>\n",
              "    </div>\n",
              "  </div>\n",
              "  "
            ],
            "text/plain": [
              "    QID  ...                                   Description\n",
              "0   Q31  ...                     country in western Europe\n",
              "1   Q45  ...                country in southwestern Europe\n",
              "2   Q75  ...  global system of connected computer networks\n",
              "3  Q148  ...                  sovereign state in East Asia\n",
              "4  Q155  ...                      country in South America\n",
              "\n",
              "[5 rows x 3 columns]"
            ]
          },
          "metadata": {},
          "execution_count": 8
        }
      ]
    },
    {
      "cell_type": "markdown",
      "metadata": {
        "id": "idplwSqSTGeR"
      },
      "source": [
        "The function `retrieve_wikidata_properties` simply returns the wikidata properties of the given person."
      ],
      "id": "idplwSqSTGeR"
    },
    {
      "cell_type": "code",
      "metadata": {
        "id": "sKnuNufOY9zI"
      },
      "source": [
        "def retrieve_wikidata_properties(person):\n",
        "  # This function simply returns the wikidata properties of the given person\n",
        "  return wikidata_speakers[wikidata_speakers[\"id\"]==person]"
      ],
      "id": "sKnuNufOY9zI",
      "execution_count": null,
      "outputs": []
    },
    {
      "cell_type": "markdown",
      "metadata": {
        "id": "3I9LFOlSTlS9"
      },
      "source": [
        "The function `human_readable_properties` converts the QIDs into human readable format."
      ],
      "id": "3I9LFOlSTlS9"
    },
    {
      "cell_type": "code",
      "metadata": {
        "id": "zK4gM8npsP9Y"
      },
      "source": [
        "def human_readable_properties(data, property):\n",
        "  list_QID = (data.iloc[0][property])\n",
        "  list_values = []\n",
        "  # Start by testing whether there is value\n",
        "  if not(list_QID is None):\n",
        "    # As there might be several values per property, we iterate on them\n",
        "    for idx, QID in enumerate(list_QID):\n",
        "      # Check whether the QID is corrupted, i.e. do not start by Q or less than two characters \n",
        "      if len(QID) >= 2 and QID[0] == 'Q':\n",
        "        # Retrieve the Label (not description) of the QID item in the dataframe containing wikidata label\n",
        "        # In df_labels_wiki, select the row that corresponds to the QID of interst \n",
        "        selector = df_labels_wiki[\"QID\"] == QID \n",
        "        # Then extract the label of the QID/item of interest\n",
        "        list_values.append(df_labels_wiki[selector].iloc[0][\"Label\"])\n",
        "      else:\n",
        "        warnings.warn(\"This is a corrupted QID, no value is returned!\")\n",
        "    return list_values\n",
        "  else:\n",
        "    warnings.warn(\"There is no value for this property!\")\n",
        "    return None  "
      ],
      "id": "zK4gM8npsP9Y",
      "execution_count": null,
      "outputs": []
    },
    {
      "cell_type": "markdown",
      "source": [
        "A function that is used several times in sections D, E, it is easier to define it here."
      ],
      "metadata": {
        "id": "oDpPtn0IcrVg"
      },
      "id": "oDpPtn0IcrVg"
    },
    {
      "cell_type": "code",
      "metadata": {
        "id": "XvHchm0wcmtE"
      },
      "source": [
        "def load_csv_to_df(year, domain, folder=\"News_outlet_csvs\"):\n",
        "    path = os.path.join(drive, folder, str(year), str(year) + \"_\" + domain + \".csv\")\n",
        "    outlet_df = pd.read_csv(path, encoding=\"utf-8\")\n",
        "    return outlet_df"
      ],
      "execution_count": null,
      "outputs": [],
      "id": "XvHchm0wcmtE"
    },
    {
      "cell_type": "markdown",
      "metadata": {
        "id": "mT0PuiX7WG-O"
      },
      "source": [
        "## B) Data exploration"
      ],
      "id": "mT0PuiX7WG-O"
    },
    {
      "cell_type": "markdown",
      "source": [
        "Here we explore the data and check what kind of issues we could face later during the handling of the data. \n",
        "\n",
        "We will start by a basic visualisation of the dataset: check how the quotes look like."
      ],
      "metadata": {
        "id": "rNk9cU9uPkKp"
      },
      "id": "rNk9cU9uPkKp"
    },
    {
      "cell_type": "code",
      "metadata": {
        "colab": {
          "base_uri": "https://localhost:8080/",
          "height": 206
        },
        "id": "cuONXghXYYEx",
        "outputId": "d6f6933a-210a-4407-8a07-17624c53f959"
      },
      "source": [
        "# Load & format quotes from 2020\n",
        "path_to_file = drive + 'Quotebank/quotes-2020.json.bz2' \n",
        "\n",
        "list_of_quotes_dict = []\n",
        "count = 0\n",
        "sample_size = 10000  # Sample chosen for current experiments\n",
        "\n",
        "# Open the 2020 quotebank\n",
        "with bz2.open(path_to_file, 'rb') as s_file:\n",
        "    for instance in s_file:\n",
        "        if count == sample_size:\n",
        "            break\n",
        "        #print(instance)\n",
        "        decoded = json.loads(instance.decode('utf-8'))  # Decode each instance into a dictionary\n",
        "        #print(decoded[\"quoteID\"])\n",
        "        list_of_quotes_dict.append(decoded)\n",
        "        count += 1\n",
        "\n",
        "df_quotes = pd.DataFrame(list_of_quotes_dict)  # Turn list of entries into dataframe\n",
        "df_quotes.head()"
      ],
      "id": "cuONXghXYYEx",
      "execution_count": null,
      "outputs": [
        {
          "output_type": "execute_result",
          "data": {
            "text/html": [
              "\n",
              "  <div id=\"df-50848221-546b-4e80-b997-b1c3af86559c\">\n",
              "    <div class=\"colab-df-container\">\n",
              "      <div>\n",
              "<style scoped>\n",
              "    .dataframe tbody tr th:only-of-type {\n",
              "        vertical-align: middle;\n",
              "    }\n",
              "\n",
              "    .dataframe tbody tr th {\n",
              "        vertical-align: top;\n",
              "    }\n",
              "\n",
              "    .dataframe thead th {\n",
              "        text-align: right;\n",
              "    }\n",
              "</style>\n",
              "<table border=\"1\" class=\"dataframe\">\n",
              "  <thead>\n",
              "    <tr style=\"text-align: right;\">\n",
              "      <th></th>\n",
              "      <th>quoteID</th>\n",
              "      <th>quotation</th>\n",
              "      <th>speaker</th>\n",
              "      <th>qids</th>\n",
              "      <th>date</th>\n",
              "      <th>numOccurrences</th>\n",
              "      <th>probas</th>\n",
              "      <th>urls</th>\n",
              "      <th>phase</th>\n",
              "    </tr>\n",
              "  </thead>\n",
              "  <tbody>\n",
              "    <tr>\n",
              "      <th>0</th>\n",
              "      <td>2020-01-28-000082</td>\n",
              "      <td>[ D ] espite the efforts of the partners to cr...</td>\n",
              "      <td>None</td>\n",
              "      <td>[]</td>\n",
              "      <td>2020-01-28 08:04:05</td>\n",
              "      <td>1</td>\n",
              "      <td>[[None, 0.7272], [Prime Minister Netanyahu, 0....</td>\n",
              "      <td>[http://israelnationalnews.com/News/News.aspx/...</td>\n",
              "      <td>E</td>\n",
              "    </tr>\n",
              "    <tr>\n",
              "      <th>1</th>\n",
              "      <td>2020-01-16-000088</td>\n",
              "      <td>[ Department of Homeland Security ] was livid ...</td>\n",
              "      <td>Sue Myrick</td>\n",
              "      <td>[Q367796]</td>\n",
              "      <td>2020-01-16 12:00:13</td>\n",
              "      <td>1</td>\n",
              "      <td>[[Sue Myrick, 0.8867], [None, 0.0992], [Ron Wy...</td>\n",
              "      <td>[http://thehill.com/opinion/international/4782...</td>\n",
              "      <td>E</td>\n",
              "    </tr>\n",
              "    <tr>\n",
              "      <th>2</th>\n",
              "      <td>2020-02-10-000142</td>\n",
              "      <td>... He (Madhav) also disclosed that the illega...</td>\n",
              "      <td>None</td>\n",
              "      <td>[]</td>\n",
              "      <td>2020-02-10 23:45:54</td>\n",
              "      <td>1</td>\n",
              "      <td>[[None, 0.8926], [Prakash Rai, 0.1074]]</td>\n",
              "      <td>[https://indianexpress.com/article/business/ec...</td>\n",
              "      <td>E</td>\n",
              "    </tr>\n",
              "    <tr>\n",
              "      <th>3</th>\n",
              "      <td>2020-02-15-000053</td>\n",
              "      <td>... [ I ] f it gets to the floor,</td>\n",
              "      <td>None</td>\n",
              "      <td>[]</td>\n",
              "      <td>2020-02-15 14:12:51</td>\n",
              "      <td>2</td>\n",
              "      <td>[[None, 0.581], [Andy Harris, 0.4191]]</td>\n",
              "      <td>[https://patriotpost.us/opinion/68622-trump-bu...</td>\n",
              "      <td>E</td>\n",
              "    </tr>\n",
              "    <tr>\n",
              "      <th>4</th>\n",
              "      <td>2020-01-24-000168</td>\n",
              "      <td>[ I met them ] when they just turned 4 and 7. ...</td>\n",
              "      <td>Meghan King Edmonds</td>\n",
              "      <td>[Q20684375]</td>\n",
              "      <td>2020-01-24 20:37:09</td>\n",
              "      <td>4</td>\n",
              "      <td>[[Meghan King Edmonds, 0.5446], [None, 0.2705]...</td>\n",
              "      <td>[https://people.com/parents/meghan-king-edmond...</td>\n",
              "      <td>E</td>\n",
              "    </tr>\n",
              "  </tbody>\n",
              "</table>\n",
              "</div>\n",
              "      <button class=\"colab-df-convert\" onclick=\"convertToInteractive('df-50848221-546b-4e80-b997-b1c3af86559c')\"\n",
              "              title=\"Convert this dataframe to an interactive table.\"\n",
              "              style=\"display:none;\">\n",
              "        \n",
              "  <svg xmlns=\"http://www.w3.org/2000/svg\" height=\"24px\"viewBox=\"0 0 24 24\"\n",
              "       width=\"24px\">\n",
              "    <path d=\"M0 0h24v24H0V0z\" fill=\"none\"/>\n",
              "    <path d=\"M18.56 5.44l.94 2.06.94-2.06 2.06-.94-2.06-.94-.94-2.06-.94 2.06-2.06.94zm-11 1L8.5 8.5l.94-2.06 2.06-.94-2.06-.94L8.5 2.5l-.94 2.06-2.06.94zm10 10l.94 2.06.94-2.06 2.06-.94-2.06-.94-.94-2.06-.94 2.06-2.06.94z\"/><path d=\"M17.41 7.96l-1.37-1.37c-.4-.4-.92-.59-1.43-.59-.52 0-1.04.2-1.43.59L10.3 9.45l-7.72 7.72c-.78.78-.78 2.05 0 2.83L4 21.41c.39.39.9.59 1.41.59.51 0 1.02-.2 1.41-.59l7.78-7.78 2.81-2.81c.8-.78.8-2.07 0-2.86zM5.41 20L4 18.59l7.72-7.72 1.47 1.35L5.41 20z\"/>\n",
              "  </svg>\n",
              "      </button>\n",
              "      \n",
              "  <style>\n",
              "    .colab-df-container {\n",
              "      display:flex;\n",
              "      flex-wrap:wrap;\n",
              "      gap: 12px;\n",
              "    }\n",
              "\n",
              "    .colab-df-convert {\n",
              "      background-color: #E8F0FE;\n",
              "      border: none;\n",
              "      border-radius: 50%;\n",
              "      cursor: pointer;\n",
              "      display: none;\n",
              "      fill: #1967D2;\n",
              "      height: 32px;\n",
              "      padding: 0 0 0 0;\n",
              "      width: 32px;\n",
              "    }\n",
              "\n",
              "    .colab-df-convert:hover {\n",
              "      background-color: #E2EBFA;\n",
              "      box-shadow: 0px 1px 2px rgba(60, 64, 67, 0.3), 0px 1px 3px 1px rgba(60, 64, 67, 0.15);\n",
              "      fill: #174EA6;\n",
              "    }\n",
              "\n",
              "    [theme=dark] .colab-df-convert {\n",
              "      background-color: #3B4455;\n",
              "      fill: #D2E3FC;\n",
              "    }\n",
              "\n",
              "    [theme=dark] .colab-df-convert:hover {\n",
              "      background-color: #434B5C;\n",
              "      box-shadow: 0px 1px 3px 1px rgba(0, 0, 0, 0.15);\n",
              "      filter: drop-shadow(0px 1px 2px rgba(0, 0, 0, 0.3));\n",
              "      fill: #FFFFFF;\n",
              "    }\n",
              "  </style>\n",
              "\n",
              "      <script>\n",
              "        const buttonEl =\n",
              "          document.querySelector('#df-50848221-546b-4e80-b997-b1c3af86559c button.colab-df-convert');\n",
              "        buttonEl.style.display =\n",
              "          google.colab.kernel.accessAllowed ? 'block' : 'none';\n",
              "\n",
              "        async function convertToInteractive(key) {\n",
              "          const element = document.querySelector('#df-50848221-546b-4e80-b997-b1c3af86559c');\n",
              "          const dataTable =\n",
              "            await google.colab.kernel.invokeFunction('convertToInteractive',\n",
              "                                                     [key], {});\n",
              "          if (!dataTable) return;\n",
              "\n",
              "          const docLinkHtml = 'Like what you see? Visit the ' +\n",
              "            '<a target=\"_blank\" href=https://colab.research.google.com/notebooks/data_table.ipynb>data table notebook</a>'\n",
              "            + ' to learn more about interactive tables.';\n",
              "          element.innerHTML = '';\n",
              "          dataTable['output_type'] = 'display_data';\n",
              "          await google.colab.output.renderOutput(dataTable, element);\n",
              "          const docLink = document.createElement('div');\n",
              "          docLink.innerHTML = docLinkHtml;\n",
              "          element.appendChild(docLink);\n",
              "        }\n",
              "      </script>\n",
              "    </div>\n",
              "  </div>\n",
              "  "
            ],
            "text/plain": [
              "             quoteID  ... phase\n",
              "0  2020-01-28-000082  ...     E\n",
              "1  2020-01-16-000088  ...     E\n",
              "2  2020-02-10-000142  ...     E\n",
              "3  2020-02-15-000053  ...     E\n",
              "4  2020-01-24-000168  ...     E\n",
              "\n",
              "[5 rows x 9 columns]"
            ]
          },
          "metadata": {},
          "execution_count": 6
        }
      ]
    },
    {
      "cell_type": "markdown",
      "metadata": {
        "id": "3tJUwgkMQcGG"
      },
      "source": [
        "### 1) Frequency of domains"
      ],
      "id": "3tJUwgkMQcGG"
    },
    {
      "cell_type": "markdown",
      "metadata": {
        "id": "2xd-x839Q7ZF"
      },
      "source": [
        "We want to compute the number of quotes per news outlet in order to choose the most important for our analysis.\n",
        "\n",
        "The first step is to extract the domain from the url. For this task we use the *tld* library."
      ],
      "id": "2xd-x839Q7ZF"
    },
    {
      "cell_type": "markdown",
      "metadata": {
        "id": "lSbzytTpR38Q"
      },
      "source": [
        "The `get_domain` function return the domain name from an url.\n",
        "\n",
        "Example: `get_domain(\"https://stackoverflow.com/questions/ \")` returns *stackoverflow.com*\n",
        "\n",
        "The `domain_counting` function takes the list of urls of one quotes and count the number of domains using `get_domain` and the function `Counter` from the library Collection."
      ],
      "id": "lSbzytTpR38Q"
    },
    {
      "cell_type": "code",
      "metadata": {
        "id": "FUHl0HpIjGK1"
      },
      "source": [
        "def get_domain(url):\n",
        "    return get_fld(url)\n",
        "\n",
        "def domain_counting(urls):\n",
        "    domain_list = [get_domain(url) for url in urls] #we store the domain in this list\n",
        "    return Counter(domain_list)"
      ],
      "id": "FUHl0HpIjGK1",
      "execution_count": null,
      "outputs": []
    },
    {
      "cell_type": "markdown",
      "metadata": {
        "id": "zs85SoLvY6w6"
      },
      "source": [
        "We now count the number of quotes per news outlet per year and save this data to external csv files, such that we can easily access them again. This code takes a long time to run and, in practice, was run in parallel on several machines to save some time."
      ],
      "id": "zs85SoLvY6w6"
    },
    {
      "cell_type": "code",
      "metadata": {
        "id": "6vl8daAYklh6"
      },
      "source": [
        "def count_domains_per_year():\n",
        "\n",
        "    path_domains_count = drive + \"Domains_count/\"\n",
        "    if not os.path.exists(path_domains_count):\n",
        "        os.makedirs(path_domains_count)\n",
        "\n",
        "    years = range(2015, 2021)\n",
        "\n",
        "    for year in years:\n",
        "\n",
        "        path_to_file = drive + 'Quotebank/quotes-'+ str(year) + '.json.bz2' \n",
        "        domains_count = Counter()\n",
        "        iterations_counter = 0\n",
        "        df_test = pd.read_json(path_to_file, lines=True, compression='bz2', chunksize=100, encoding=\"utf-8\") #code used to load the data by chunks\n",
        "\n",
        "        for chunk in df_test:\n",
        "\n",
        "            if iterations_counter % 1000 == 0:\n",
        "                print(\"Processing chunk\", iterations_counter, \"of year\", year)\n",
        "\n",
        "            domains = chunk['urls'].apply(domain_counting)\n",
        "            domains_count = domains_count + domains.sum() # chunk['urls'].apply(..) return a series containing the result of Counter(domain_list), so we have to use .sum() to obtain a Counter object.\n",
        "            iterations_counter += 1\n",
        "\n",
        "            if iterations_counter % 10000 == 0:\n",
        "                # Write domains to file every 1 million quotes as intermediate backup in case colab decides to stop running\n",
        "                print(\"Processing chunk \" + str(iterations_counter) + \" of year \" + str(year) + \"...\")\n",
        "                ordered_domains_count_list = domains_count.most_common()\n",
        "                filename = path_domains_count + \"domains_count_\" + str(year) + \"_\" + str(iterations_counter) + \".csv\"\n",
        "                with open(filename, 'w') as f:\n",
        "                    for dom, c in ordered_domains_count_list:\n",
        "                        f.write(\"{},{}\\n\".format(dom, c))\n",
        "                    f.close()\n",
        "\n",
        "                print(\"Saved domains count for year \" + str(year) + \" chunks \" + str(iterations_counter))\n",
        "\n",
        "        # Write final count to file\n",
        "        ordered_domains_count_list = domains_count.most_common()\n",
        "        filename = path_domains_count + \"domains_count_\" + str(year) + \"_final.csv\"\n",
        "        with open(filename, 'w') as f:\n",
        "            for dom, c in ordered_domains_count_list:\n",
        "                f.write(\"{},{}\\n\".format(dom, c))\n",
        "            f.close()\n",
        "\n",
        "        print(\"Saved final domains count for year \" + str(year))\n"
      ],
      "id": "6vl8daAYklh6",
      "execution_count": null,
      "outputs": []
    },
    {
      "cell_type": "code",
      "metadata": {
        "id": "N80y8axwHkcF"
      },
      "source": [
        "# To execute the function, do not run it a second time! \n",
        "#count_domains_per_year()"
      ],
      "id": "N80y8axwHkcF",
      "execution_count": null,
      "outputs": []
    },
    {
      "cell_type": "markdown",
      "metadata": {
        "id": "eFRrxOSYcGgI"
      },
      "source": [
        "### 2) Selection of news outlets to analyse\n",
        "\n",
        "Now that we have the count of quotes for each individual news outlet, we want to select which outlets we will study in our analysis, as studying them all is impossible for us in terms of time and resources.\n",
        "\n",
        "When selecting the outlets, we take the following concerns into consideration:\n",
        "\n",
        "1. We are likely to observe different quoting patterns for non-American outlets than for American ones due to cultural factors, and we may not have the required knowledge to analyse them properly, but it can be interesting to observe these differences during analysis.\n",
        "2. We want the news outlets we choose to be comparable in terms of amount of data we have per outlet per year. For this reason, we select outlets among those that have many quotes in every single year.\n",
        "3. Some news outlets are actually not creating new content, but instead repost/share news from several news outlets on their website. Due to this fact, these outlets cannot be compared with standard news outlets. However, it can still be interesting to analyse them separately.\n",
        "\n",
        "To ensure that point 2 is satisfied, we decide to analyse only outlets that are in the top X news outlets with the most quotes in every single year. We choose X = 200, which returns a total of 36 news outlets to analyse. This additionally is convenient for us, as we are strongly constrained in terms of time and resources and want to reduce the amount of data to analyse.\n",
        "\n",
        "As for point 1 and 3, we create a csv file with all news outlets selected and manually label their country of origin and whether they are creating new content or reposting existing articles. This way, we can easily access this information during our analysis."
      ],
      "id": "eFRrxOSYcGgI"
    },
    {
      "cell_type": "code",
      "metadata": {
        "id": "M27fzoDzcM1P"
      },
      "source": [
        "def select_common_top_X_doms(X, stats=False):\n",
        "    path_domains_count = drive + \"Domains_count/\"\n",
        "    column_names = [\"Domain name\", \"count\"]\n",
        "\n",
        "    domains_count_2015 = pd.read_csv(path_domains_count + \"domains_count_2015_final.csv\", names=column_names).sort_values(\"count\", ascending=False).head(X)\n",
        "    domains_count_2016 = pd.read_csv(path_domains_count + \"domains_count_2016_final.csv\", names=column_names).sort_values(\"count\", ascending=False).head(X)\n",
        "    domains_count_2017 = pd.read_csv(path_domains_count + \"domains_count_2017_final.csv\", names=column_names).sort_values(\"count\", ascending=False).head(X)\n",
        "    domains_count_2018 = pd.read_csv(path_domains_count + \"domains_count_2018_final.csv\", names=column_names).sort_values(\"count\", ascending=False).head(X)\n",
        "    domains_count_2019 = pd.read_csv(path_domains_count + \"domains_count_2019_final.csv\", names=column_names).sort_values(\"count\", ascending=False).head(X)\n",
        "    domains_count_2020 = pd.read_csv(path_domains_count + \"domains_count_2020_final.csv\", names=column_names).sort_values(\"count\", ascending=False).head(X)\n",
        "\n",
        "    all_doms_df = [domains_count_2015, domains_count_2016, domains_count_2017, domains_count_2018, domains_count_2019, domains_count_2020]\n",
        "    doms = [set(dom[\"Domain name\"]) for dom in all_doms_df]\n",
        "    common_domains = doms[0].intersection(*doms)\n",
        "\n",
        "    # Some quick stats\n",
        "    if stats:\n",
        "        years = range(2015, 2021)\n",
        "        print(\"Some stats of results for X =\", X, \"\\n\")\n",
        "        for i, dom in enumerate(all_doms_df):\n",
        "            print(\"Year:\", years[i])\n",
        "            maximum = dom[\"count\"].iloc[0]\n",
        "            minimum = dom[\"count\"].iloc[-1]\n",
        "            print(\"Max\", maximum)\n",
        "            print(\"Min\", minimum)\n",
        "            print(\"Difference:\", maximum - minimum, \"\\n\")\n",
        "\n",
        "        print(\"Number of news outlets:\", len(common_domains), \"\\n\")\n",
        "    \n",
        "    # Write results to file\n",
        "    filename = path_domains_count + \"domains_common_top_200.csv\"\n",
        "    with open(filename, 'w') as f:\n",
        "        for e in common_domains:\n",
        "            f.write(\"{}\\n\".format(e))\n",
        "        f.close()\n",
        "\n",
        "    print(\"Saved domains common to all top\", X)\n",
        "\n",
        "    return common_domains"
      ],
      "id": "M27fzoDzcM1P",
      "execution_count": null,
      "outputs": []
    },
    {
      "cell_type": "code",
      "metadata": {
        "colab": {
          "base_uri": "https://localhost:8080/"
        },
        "id": "5_d9De-aPwiP",
        "outputId": "1b948d5e-a8b9-4206-a9a8-f996f3878d85"
      },
      "source": [
        "common_domains = select_common_top_X_doms(200)"
      ],
      "id": "5_d9De-aPwiP",
      "execution_count": null,
      "outputs": [
        {
          "output_type": "stream",
          "name": "stdout",
          "text": [
            "Saved domains common to all top 200\n"
          ]
        }
      ]
    },
    {
      "cell_type": "markdown",
      "metadata": {
        "id": "BRMhuv2mHRem"
      },
      "source": [
        "In the previous cell, we were focused on selecting news outlets with a sufficient amount of data per year to analyse. However, we can also conduct the same analyses with data aggregated across all years, disregarding the time factor. Therefore, we select the Y news outlets with the highest cummulative count of quotes. We choose Y = 36 (same as the amount selected in the first step, just to stay consistent) as we still are constrained in terms of time and resources."
      ],
      "id": "BRMhuv2mHRem"
    },
    {
      "cell_type": "code",
      "metadata": {
        "id": "hiDG-X7uHRM0"
      },
      "source": [
        "def csv_to_counter(path, cols):\n",
        "    with open(path, \"r\") as f:\n",
        "        csv_reader = csv.DictReader(f, fieldnames=cols)\n",
        "        c = Counter({row[cols[0]]: int(float(row[cols[1]])) for row in csv_reader})\n",
        "    return c\n",
        "\n",
        "def select_top_cumulative_count_doms(Y):\n",
        "    path_domains_count = drive + \"Domains_count/\"\n",
        "    column_names = [\"Domain name\", \"count\"]\n",
        "\n",
        "    cumulative_count = Counter()\n",
        "\n",
        "    for year in range(2015, 2021):\n",
        "\n",
        "        cumulative_count += csv_to_counter(path_domains_count + \"domains_count_\" + str(year) + \"_final.csv\", column_names)\n",
        "\n",
        "    # Write all cummulative counts\n",
        "    ordered_cumulative_count = cumulative_count.most_common()\n",
        "    filename = path_domains_count + \"domains_count_cumulative.csv\"\n",
        "    with open(filename, 'w') as f:\n",
        "        for dom, c in ordered_cumulative_count:\n",
        "            f.write(\"{},{}\\n\".format(dom, c))\n",
        "        f.close()\n",
        "\n",
        "    print(\"Saved cumulative count of all domains\")\n",
        "\n",
        "    # Select Y domains with highest cumulative count\n",
        "    ordered_cumulative_count_head = cumulative_count.most_common(Y)\n",
        "    filename = path_domains_count + \"domains_count_cumulative_\" + str(Y) + \".csv\"\n",
        "    top_doms = set()\n",
        "    with open(filename, 'w') as f:\n",
        "        for dom, _ in ordered_cumulative_count_head:\n",
        "            f.write(\"{}\\n\".format(dom))\n",
        "            top_doms.add(dom)\n",
        "        f.close()\n",
        "    \n",
        "    print(\"Saved\", Y, \"domains with highest cumulative counts\")\n",
        "\n",
        "    return top_doms"
      ],
      "id": "hiDG-X7uHRM0",
      "execution_count": null,
      "outputs": []
    },
    {
      "cell_type": "code",
      "metadata": {
        "colab": {
          "base_uri": "https://localhost:8080/"
        },
        "id": "PAQW2Os1PzeF",
        "outputId": "d6c3a4fa-a79a-4684-c0dc-1b3501f51a01"
      },
      "source": [
        "top_doms = select_top_cumulative_count_doms(36)"
      ],
      "id": "PAQW2Os1PzeF",
      "execution_count": null,
      "outputs": [
        {
          "output_type": "stream",
          "name": "stdout",
          "text": [
            "Saved cumulative count of all domains\n",
            "Saved 36 domains with highest cumulative counts\n"
          ]
        }
      ]
    },
    {
      "cell_type": "markdown",
      "metadata": {
        "id": "CDwMBNLGUM3E"
      },
      "source": [
        "Among the news outlets selected in this second step, half actually overlap with those selected in the first step, as shown below. For these news outlets, we have a considerable amount of quotes for each year and a huge cumulative count across all years. Therefore, these news outlets are suitable for a comparison between results obtained for each year and results for the aggregated data."
      ],
      "id": "CDwMBNLGUM3E"
    },
    {
      "cell_type": "code",
      "metadata": {
        "colab": {
          "base_uri": "https://localhost:8080/"
        },
        "id": "Mavk2OFwRtMM",
        "outputId": "583976ed-8d66-4a8c-a097-de5622ef02ee"
      },
      "source": [
        "overlap_selected_doms = common_domains.intersection(top_doms)\n",
        "print(\"Number of doms present in both selections:\", len(overlap_selected_doms))\n",
        "overlap_selected_doms"
      ],
      "id": "Mavk2OFwRtMM",
      "execution_count": null,
      "outputs": [
        {
          "output_type": "stream",
          "name": "stdout",
          "text": [
            "Number of doms present in both selections: 18\n"
          ]
        },
        {
          "output_type": "execute_result",
          "data": {
            "text/plain": [
              "{'breitbart.com',\n",
              " 'brisbanetimes.com.au',\n",
              " 'cbsnews.com',\n",
              " 'cnn.com',\n",
              " 'foxnews.com',\n",
              " 'go.com',\n",
              " 'indiatimes.com',\n",
              " 'mirror.co.uk',\n",
              " 'msn.com',\n",
              " 'nzcity.co.nz',\n",
              " 'nzherald.co.nz',\n",
              " 'seattletimes.com',\n",
              " 'sfgate.com',\n",
              " 'smh.com.au',\n",
              " 'startribune.com',\n",
              " 'stuff.co.nz',\n",
              " 'upi.com',\n",
              " 'washingtontimes.com'}"
            ]
          },
          "metadata": {},
          "execution_count": 53
        }
      ]
    },
    {
      "cell_type": "markdown",
      "metadata": {
        "id": "PIC3sBtaWAdB"
      },
      "source": [
        "In total, we will analyse the data of the union of these selections, so 54 news outlets. We create a csv file containing all domains with a flag for whether it is suitable for year by year analysis or cumulative analysis respectively. Later we will also manually add further information about the domains. This is to address the issues specified in points 1 and 3 at the beginning of the section."
      ],
      "id": "PIC3sBtaWAdB"
    },
    {
      "cell_type": "code",
      "metadata": {
        "colab": {
          "base_uri": "https://localhost:8080/"
        },
        "id": "eTFpuc8dV_46",
        "outputId": "59067d2e-55dd-4ae5-c617-dbbaaa1dcfe6"
      },
      "source": [
        "all_selected_doms = common_domains.union(top_doms)\n",
        "print(\"Number of doms selected for various analyses:\", len(all_selected_doms))\n",
        "\n",
        "# Put file in global drive\n",
        "filename = drive + \"selected_domains.csv\"\n",
        "\n",
        "with open(filename, 'w') as f:\n",
        "    f.write(\"domain,year_by_year,cumulative\\n\")  # Header, add \"country\" and \"original_content\" columns by hand later to the file\n",
        "    for dom in all_selected_doms:\n",
        "        is_in_common_doms = 1 if dom in common_domains else 0  # Suitable for year_by_year analysis\n",
        "        is_in_top_doms = 1 if dom in top_doms else 0  # Suitable for cumulative analysis\n",
        "        f.write(\"{},{},{}\\n\".format(dom, is_in_common_doms, is_in_top_doms))\n",
        "    f.close()\n",
        "\n",
        "print(\"Saved selected domains file\")"
      ],
      "id": "eTFpuc8dV_46",
      "execution_count": null,
      "outputs": [
        {
          "output_type": "stream",
          "name": "stdout",
          "text": [
            "Number of doms selected for various analyses: 54\n",
            "Saved selected domains file\n"
          ]
        }
      ]
    },
    {
      "cell_type": "markdown",
      "metadata": {
        "id": "5s3pgMbGSg7o"
      },
      "source": [
        "### 3) Wikidata\n",
        "\n"
      ],
      "id": "5s3pgMbGSg7o"
    },
    {
      "cell_type": "markdown",
      "metadata": {
        "id": "2FV51WO-oAIn"
      },
      "source": [
        "#### Check how many QIDs there are per speaker:\n",
        "\n",
        "With a sample consisting of the first 10,000 quotes of the 2020 dataset, we can read from the histogram that there is a majority of speakers who have no wikidata page (3425), and one wikidata page (4832). Then the frequency of QID number decreases rapidly (682 for two QID, 285 for three...), however there are still 9 speakers having 20 different QIDs and one speaker with 257 (whose name is *Wang Yi*, current maximum). The fact that some speakers have several QIDs might be an issue later, we will adress this problem in the upcoming sections. "
      ],
      "id": "2FV51WO-oAIn"
    },
    {
      "cell_type": "code",
      "metadata": {
        "colab": {
          "base_uri": "https://localhost:8080/",
          "height": 295
        },
        "id": "HY04RJircwbt",
        "outputId": "96f0a5c1-27fb-438a-b20e-8b4200ea25f6"
      },
      "source": [
        "# Check QID list's length of every loaded quotes \n",
        "length_qids = np.zeros(len(df_quotes))\n",
        "for idx, qids in enumerate(df_quotes[\"qids\"].values):\n",
        "  length_qids[idx] = len(qids)\n",
        "# Plot a histogram with log-scale on Y axis\n",
        "plt.hist(length_qids, bins=int(np.max(length_qids)))\n",
        "plt.yscale('log')\n",
        "plt.grid('on')\n",
        "plt.xlabel(\"Number of QID elements per speaker\")\n",
        "plt.ylabel(\"Frequency (log-scale)\")\n",
        "plt.title(\"Histogram of the number of QID per speaker\")\n",
        "#plt.xlim(0, 30) # Uncomment for focusing on a specific region \n",
        "plt.show()"
      ],
      "id": "HY04RJircwbt",
      "execution_count": null,
      "outputs": [
        {
          "data": {
            "image/png": "[encoded data removed]",
            "text/plain": [
              "<Figure size 432x288 with 1 Axes>"
            ]
          },
          "metadata": {},
          "output_type": "display_data"
        }
      ]
    },
    {
      "cell_type": "code",
      "metadata": {
        "colab": {
          "base_uri": "https://localhost:8080/",
          "height": 203
        },
        "id": "Le4mUaL0lOoV",
        "outputId": "fcbd57ab-89f3-4c42-9d03-cf0d6263c8a4"
      },
      "source": [
        "# Display the frequency using a dataframe instead of a histogram\n",
        "val, freq = np.unique(length_qids, return_counts=True)\n",
        "df_QID_freq = pd.DataFrame(data={\"Nb. of QID\":val, \"Frequency\":freq})\n",
        "df_QID_freq.head(5)"
      ],
      "id": "Le4mUaL0lOoV",
      "execution_count": null,
      "outputs": [
        {
          "data": {
            "text/html": [
              "<div>\n",
              "<style scoped>\n",
              "    .dataframe tbody tr th:only-of-type {\n",
              "        vertical-align: middle;\n",
              "    }\n",
              "\n",
              "    .dataframe tbody tr th {\n",
              "        vertical-align: top;\n",
              "    }\n",
              "\n",
              "    .dataframe thead th {\n",
              "        text-align: right;\n",
              "    }\n",
              "</style>\n",
              "<table border=\"1\" class=\"dataframe\">\n",
              "  <thead>\n",
              "    <tr style=\"text-align: right;\">\n",
              "      <th></th>\n",
              "      <th>Nb. of QID</th>\n",
              "      <th>Frequency</th>\n",
              "    </tr>\n",
              "  </thead>\n",
              "  <tbody>\n",
              "    <tr>\n",
              "      <th>0</th>\n",
              "      <td>0.0</td>\n",
              "      <td>3425</td>\n",
              "    </tr>\n",
              "    <tr>\n",
              "      <th>1</th>\n",
              "      <td>1.0</td>\n",
              "      <td>4832</td>\n",
              "    </tr>\n",
              "    <tr>\n",
              "      <th>2</th>\n",
              "      <td>2.0</td>\n",
              "      <td>663</td>\n",
              "    </tr>\n",
              "    <tr>\n",
              "      <th>3</th>\n",
              "      <td>3.0</td>\n",
              "      <td>285</td>\n",
              "    </tr>\n",
              "    <tr>\n",
              "      <th>4</th>\n",
              "      <td>4.0</td>\n",
              "      <td>170</td>\n",
              "    </tr>\n",
              "  </tbody>\n",
              "</table>\n",
              "</div>"
            ],
            "text/plain": [
              "   Nb. of QID  Frequency\n",
              "0         0.0       3425\n",
              "1         1.0       4832\n",
              "2         2.0        663\n",
              "3         3.0        285\n",
              "4         4.0        170"
            ]
          },
          "execution_count": 14,
          "metadata": {},
          "output_type": "execute_result"
        }
      ]
    },
    {
      "cell_type": "markdown",
      "metadata": {
        "id": "eBOap9aHcDZc"
      },
      "source": [
        "## C) Data extraction\n",
        "\n",
        "After checking the caveats of the database, in this section we will start extracting meaningful data for our analysis."
      ],
      "id": "eBOap9aHcDZc"
    },
    {
      "cell_type": "markdown",
      "metadata": {
        "id": "-nCUDbBNlxiq"
      },
      "source": [
        " ### 1) Generation of csvs\n",
        "\n",
        "For simpler processing, we decide to first extract the data for each news outlet that we will analyse and store it in separate files, such that we don't need to parse the entire huge dataset every time. For each news outlet, we create one csv file containing the data for that news outlet per year, so six csv files per news outlet in total.\n",
        "\n",
        "*Note: we choose to work with csvs instead of jsons because they are much easier to generate during the extraction of the data, since we process the data in chunks. CSVs allow to simply append the data at the end of the document, while appending to json files is much more complicated.*\n",
        "\n",
        "During the generation of these files, we also generate some data that will be useful to us during the analysis part. Each quote will therefore have the following entries: `quoteID`, `quotation`, `speaker`, `qids`, `date`, `numOccurences`, `probas`, `quote_length`, `negative_sent`, `neutral_sent`, `positive_sent`, `compound`.\n",
        "\n",
        "### TODO: Define the variables above and how we computed them. \n",
        "### TODO: Define how we computed the CSV with the 54 news outlet containing political leaning, factual reporting etc. "
      ],
      "id": "-nCUDbBNlxiq"
    },
    {
      "cell_type": "markdown",
      "metadata": {
        "id": "X2xxS44HnP7l"
      },
      "source": [
        "First, we create functions that we will use to process the data from quotebank and generate additional data."
      ],
      "id": "X2xxS44HnP7l"
    },
    {
      "cell_type": "code",
      "metadata": {
        "id": "vxlhKFjW7I27"
      },
      "source": [
        "PUNCTUATION = set(string.punctuation)\n",
        "SIA = SentimentIntensityAnalyzer()\n",
        "\n",
        "def remove_punctuation(l):\n",
        "    return [w for w in l if w not in PUNCTUATION]\n",
        "\n",
        "def sentiment_analysis(q):\n",
        "    scores = SIA.polarity_scores(q)\n",
        "    return scores[\"neg\"], scores[\"neu\"], scores[\"pos\"], scores[\"compound\"]\n",
        "\n",
        "def perform_analyses(q):\n",
        "    # Compute length of quotes\n",
        "    tokens = word_tokenize(q)\n",
        "    quote_length = len(remove_punctuation(tokens))\n",
        "\n",
        "    # Determine sentiment\n",
        "    scores = sentiment_analysis(q)\n",
        "    negative_sent, neutral_sent, positive_sent, compound = sentiment_analysis(q)\n",
        "\n",
        "    return quote_length, negative_sent, neutral_sent, positive_sent, compound\n",
        "\n",
        "def get_target_doms(urls, domains):\n",
        "    domains_set = {get_fld(url) for url in urls}\n",
        "    return domains.intersection(domains_set)"
      ],
      "id": "vxlhKFjW7I27",
      "execution_count": null,
      "outputs": []
    },
    {
      "cell_type": "markdown",
      "metadata": {
        "id": "QWnReUwloA5T"
      },
      "source": [
        "Next, we generate the csvs for each selected news outlet for each year. \n",
        "\n",
        "We want to minimize the runtime, so we make sure to parse the whole dataset only once and directly extract, process and write the data we want. We identify the quotes cited by our target news outlets, generate the additional data we want for them and write the data of each quote to the files of each outlet that quoted it. Additionally, since we run the code on colab, there is the risk that the code might stop running after a given duration of inactivity. Therefore, we keep track of the processing advancement using a log file that is able to recover the state of the code before it stopped running. The log file will never cause us to miss out on any data, but it might still allow for some quotes to be written twice to the same file. Therefore, we will have to drop duplicates when loading the csv files during later analyses (as is anyway the best practice when we do not use our data for machine learning, which we do not in our project)."
      ],
      "id": "QWnReUwloA5T"
    },
    {
      "cell_type": "code",
      "metadata": {
        "id": "uyu0N1a47Ec8"
      },
      "source": [
        "def generate_csvs(domains, year, chunksize=10000, iter_max=None, use_log=False):\n",
        "    '''\n",
        "    Generates a csv per news outlet for given year\n",
        "    '''\n",
        "\n",
        "    path_to_file = drive + 'Quotebank/quotes-'+ str(year) + '.json.bz2'\n",
        "    df_chunks = pd.read_json(path_to_file, lines=True, compression='bz2', chunksize=chunksize, encoding=\"utf-8\")\n",
        "\n",
        "    path_new_csvs = drive + 'News_outlet_csvs/' + str(year) + \"/\"\n",
        "\n",
        "    if not os.path.exists(path_new_csvs):  # Create new folders if they don't already exist\n",
        "        os.makedirs(path_new_csvs)\n",
        "\n",
        "    iterations_counter = 0\n",
        "    if use_log:\n",
        "        log_file = path_new_csvs + str(year) + \"log.txt\"\n",
        "        if os.path.isfile(log_file):  # If log file exists\n",
        "            with open(log_file, \"r\") as f:\n",
        "                lines = f.readlines()\n",
        "                iterations_counter_log = int(lines[-1])  # Read last log entry\n",
        "                f.close()\n",
        "        else:\n",
        "            iterations_counter_log = 0\n",
        "\n",
        "    header = \"quoteID,quotation,speaker,qids,date,numOccurences,probas,quote_length,negative_sent,neutral_sent,positive_sent,compound\\n\"\n",
        "    for dom in domains:\n",
        "        csv_file = path_new_csvs + str(year) + \"_\" + dom +\".csv\"\n",
        "        if use_log:\n",
        "            if not os.path.isfile(csv_file) or iterations_counter_log == 0:\n",
        "                with open(csv_file, \"w\") as f:  # create new files with just the header if they don't yet exist or if we restart the process\n",
        "                    f.write(header)\n",
        "        else:\n",
        "            if os.path.isfile(csv_file):  # If we don't use the log file to recover previous state, delete any existing csv_file and replace them with files containing just a header to avoid corrupted states\n",
        "                os.remove(csv_file)\n",
        "            with open(csv_file, \"w\") as f:\n",
        "                f.write(header)\n",
        "\n",
        "    for chunk in df_chunks:\n",
        "\n",
        "        if use_log:\n",
        "            if iterations_counter < iterations_counter_log:  # skip chunks until we have reached the last logged state\n",
        "                if iterations_counter % 10 == 0:\n",
        "                    print(\"Skipped chunk\", iterations_counter)\n",
        "                iterations_counter += 1\n",
        "                continue\n",
        "\n",
        "        if iter_max is not None and iterations_counter == iter_max:\n",
        "            break\n",
        "\n",
        "        if iterations_counter % 10 == 0:\n",
        "            print(\"Processing chunk\", iterations_counter, \"of year\", year)\n",
        "        \n",
        "        chunk[\"target_doms\"] = chunk.urls.apply(lambda x: get_target_doms(x, domains))  # Find quotes coming from our target domains\n",
        "        chunk = chunk[chunk.target_doms != set()]  # Drop entries where the quote doesn't appear in any of our target domains\n",
        "        chunk.drop([\"urls\", \"phase\"], axis=1, inplace=True)  # drop columns we don't need\n",
        "        chunk[\"quote_length\"], chunk[\"negative_sent\"], chunk[\"neutral_sent\"], chunk[\"positive_sent\"], chunk[\"compound\"] = zip(*chunk.quotation.map(perform_analyses))\n",
        "        \n",
        "        for dom in domains:\n",
        "            is_in_target_doms = chunk.target_doms.apply(lambda x: dom in x)\n",
        "            data = chunk.where(is_in_target_doms)\n",
        "            data.dropna(inplace=True)\n",
        "            data.drop([\"target_doms\"], axis=1, inplace=True)\n",
        "            \n",
        "            csv_file = path_new_csvs + str(year) + \"_\" + dom +\".csv\"\n",
        "            data.to_csv(csv_file, mode='a', header=False, index=False)\n",
        "        \n",
        "        iterations_counter += 1\n",
        "\n",
        "        # Write to log file to recover previous state in case colab stops running\n",
        "        if use_log:\n",
        "            with open(log_file, \"a\") as f:\n",
        "                f.write(str(iterations_counter) + \"\\n\")\n",
        "                f.close()\n"
      ],
      "id": "uyu0N1a47Ec8",
      "execution_count": null,
      "outputs": []
    },
    {
      "cell_type": "markdown",
      "metadata": {
        "id": "XcW9sgots4NC"
      },
      "source": [
        "\n",
        "We retrive the domains we selected for our analysis form the csv file generated during data exploration."
      ],
      "id": "XcW9sgots4NC"
    },
    {
      "cell_type": "code",
      "metadata": {
        "id": "i9HWgdCVIZm4"
      },
      "source": [
        "selected_domains_file = drive + \"selected_domains.csv\"\n",
        "all_selected_doms = pd.read_csv(selected_domains_file)"
      ],
      "id": "i9HWgdCVIZm4",
      "execution_count": null,
      "outputs": []
    },
    {
      "cell_type": "markdown",
      "metadata": {
        "id": "BNvkX-ljtCAy"
      },
      "source": [
        "And we generate the csvs for each news outlet for each year."
      ],
      "id": "BNvkX-ljtCAy"
    },
    {
      "cell_type": "code",
      "metadata": {
        "id": "xEg0KzNmJAB3"
      },
      "source": [
        "years = range(2015, 2021)\n",
        "chunksize = 10000\n",
        "#for year in years:\n",
        "#    generate_csvs(set(all_selected_doms.domain), year, chunksize=chunksize, use_log=True)  # commented such that we don't run it again when we run the entire notebook"
      ],
      "id": "xEg0KzNmJAB3",
      "execution_count": null,
      "outputs": []
    },
    {
      "cell_type": "code",
      "metadata": {
        "id": "4Hjd0IaTmOVZ"
      },
      "source": [
        "def load_csv_to_df(year, domain, folder=\"News_outlet_csvs\"):\n",
        "    path = os.path.join(drive, folder, str(year), str(year) + \"_\" + domain + \".csv\")\n",
        "    outlet_df = pd.read_csv(path, encoding=\"utf-8\")\n",
        "    return outlet_df"
      ],
      "id": "4Hjd0IaTmOVZ",
      "execution_count": null,
      "outputs": []
    },
    {
      "cell_type": "markdown",
      "source": [
        "### 2) Gathering the most cited speakers\n",
        "Method: \n",
        "  - We will start by filtering the outlets that are based in the US, have a political leaning and are content creator. \n",
        "  - Then we will count the occurence of each speaker based on the *QID* per outlet per year. \n",
        "  - From this we will gather a top 15 of political of democrats and republicans speakers across all years and outlets (Section D)."
      ],
      "metadata": {
        "id": "kpGHnGAfRYy4"
      },
      "id": "kpGHnGAfRYy4"
    },
    {
      "cell_type": "markdown",
      "metadata": {
        "id": "6RTNXKlIl3qK"
      },
      "source": [
        "To prepare the data for our analysis, we first need to load it into dataframes and convert columns to the right types."
      ],
      "id": "6RTNXKlIl3qK"
    },
    {
      "cell_type": "code",
      "source": [
        "# Load the domains' name\n",
        "selected_domains_file = drive + \"selected_domains.csv\"\n",
        "all_selected_doms = pd.read_csv(selected_domains_file)\n",
        "# The mask for selecting the correct outlets\n",
        "mask = (all_selected_doms[\"Nationality\"]=='US') & (all_selected_doms[\"Content_creator\"]>0) & (all_selected_doms[\"Political_leaning\"].notnull())\n",
        "political_US_outlets = all_selected_doms[mask]\n",
        "political_US_outlets"
      ],
      "metadata": {
        "colab": {
          "base_uri": "https://localhost:8080/",
          "height": 665
        },
        "id": "ssQ13W3ORXpv",
        "outputId": "3965588c-31e0-4465-8eaf-e1008be1af6b"
      },
      "id": "ssQ13W3ORXpv",
      "execution_count": null,
      "outputs": [
        {
          "output_type": "execute_result",
          "data": {
            "text/html": [
              "<div>\n",
              "<style scoped>\n",
              "    .dataframe tbody tr th:only-of-type {\n",
              "        vertical-align: middle;\n",
              "    }\n",
              "\n",
              "    .dataframe tbody tr th {\n",
              "        vertical-align: top;\n",
              "    }\n",
              "\n",
              "    .dataframe thead th {\n",
              "        text-align: right;\n",
              "    }\n",
              "</style>\n",
              "<table border=\"1\" class=\"dataframe\">\n",
              "  <thead>\n",
              "    <tr style=\"text-align: right;\">\n",
              "      <th></th>\n",
              "      <th>domain</th>\n",
              "      <th>Year_by_year</th>\n",
              "      <th>Cumulative</th>\n",
              "      <th>Nationality</th>\n",
              "      <th>Political_leaning</th>\n",
              "      <th>Content_creator</th>\n",
              "      <th>Traffic</th>\n",
              "      <th>Factual_reporting</th>\n",
              "    </tr>\n",
              "  </thead>\n",
              "  <tbody>\n",
              "    <tr>\n",
              "      <th>2</th>\n",
              "      <td>latimes.com</td>\n",
              "      <td>0</td>\n",
              "      <td>1</td>\n",
              "      <td>US</td>\n",
              "      <td>-1.0</td>\n",
              "      <td>1</td>\n",
              "      <td>High</td>\n",
              "      <td>5.0</td>\n",
              "    </tr>\n",
              "    <tr>\n",
              "      <th>3</th>\n",
              "      <td>breitbart.com</td>\n",
              "      <td>1</td>\n",
              "      <td>1</td>\n",
              "      <td>US</td>\n",
              "      <td>3.0</td>\n",
              "      <td>1</td>\n",
              "      <td>High</td>\n",
              "      <td>3.0</td>\n",
              "    </tr>\n",
              "    <tr>\n",
              "      <th>7</th>\n",
              "      <td>wtop.com</td>\n",
              "      <td>1</td>\n",
              "      <td>0</td>\n",
              "      <td>US</td>\n",
              "      <td>0.0</td>\n",
              "      <td>1</td>\n",
              "      <td>NaN</td>\n",
              "      <td>5.0</td>\n",
              "    </tr>\n",
              "    <tr>\n",
              "      <th>13</th>\n",
              "      <td>chicagotribune.com</td>\n",
              "      <td>0</td>\n",
              "      <td>1</td>\n",
              "      <td>US</td>\n",
              "      <td>1.0</td>\n",
              "      <td>1</td>\n",
              "      <td>High</td>\n",
              "      <td>5.0</td>\n",
              "    </tr>\n",
              "    <tr>\n",
              "      <th>14</th>\n",
              "      <td>sfgate.com</td>\n",
              "      <td>1</td>\n",
              "      <td>1</td>\n",
              "      <td>US</td>\n",
              "      <td>-1.0</td>\n",
              "      <td>1</td>\n",
              "      <td>High</td>\n",
              "      <td>5.0</td>\n",
              "    </tr>\n",
              "    <tr>\n",
              "      <th>16</th>\n",
              "      <td>upi.com</td>\n",
              "      <td>1</td>\n",
              "      <td>1</td>\n",
              "      <td>US</td>\n",
              "      <td>0.0</td>\n",
              "      <td>1</td>\n",
              "      <td>Medium</td>\n",
              "      <td>5.0</td>\n",
              "    </tr>\n",
              "    <tr>\n",
              "      <th>17</th>\n",
              "      <td>chron.com</td>\n",
              "      <td>1</td>\n",
              "      <td>0</td>\n",
              "      <td>US</td>\n",
              "      <td>-1.0</td>\n",
              "      <td>1</td>\n",
              "      <td>NaN</td>\n",
              "      <td>5.0</td>\n",
              "    </tr>\n",
              "    <tr>\n",
              "      <th>19</th>\n",
              "      <td>cnn.com</td>\n",
              "      <td>1</td>\n",
              "      <td>1</td>\n",
              "      <td>US</td>\n",
              "      <td>-2.0</td>\n",
              "      <td>1</td>\n",
              "      <td>High</td>\n",
              "      <td>3.0</td>\n",
              "    </tr>\n",
              "    <tr>\n",
              "      <th>27</th>\n",
              "      <td>nytimes.com</td>\n",
              "      <td>0</td>\n",
              "      <td>1</td>\n",
              "      <td>US</td>\n",
              "      <td>-1.0</td>\n",
              "      <td>1</td>\n",
              "      <td>High</td>\n",
              "      <td>5.0</td>\n",
              "    </tr>\n",
              "    <tr>\n",
              "      <th>28</th>\n",
              "      <td>thehill.com</td>\n",
              "      <td>1</td>\n",
              "      <td>0</td>\n",
              "      <td>US</td>\n",
              "      <td>0.0</td>\n",
              "      <td>1</td>\n",
              "      <td>High</td>\n",
              "      <td>4.0</td>\n",
              "    </tr>\n",
              "    <tr>\n",
              "      <th>29</th>\n",
              "      <td>washingtonpost.com</td>\n",
              "      <td>0</td>\n",
              "      <td>1</td>\n",
              "      <td>US</td>\n",
              "      <td>-1.0</td>\n",
              "      <td>1</td>\n",
              "      <td>High</td>\n",
              "      <td>4.0</td>\n",
              "    </tr>\n",
              "    <tr>\n",
              "      <th>31</th>\n",
              "      <td>mysanantonio.com</td>\n",
              "      <td>1</td>\n",
              "      <td>0</td>\n",
              "      <td>US</td>\n",
              "      <td>-1.0</td>\n",
              "      <td>1</td>\n",
              "      <td>NaN</td>\n",
              "      <td>5.0</td>\n",
              "    </tr>\n",
              "    <tr>\n",
              "      <th>33</th>\n",
              "      <td>seattletimes.com</td>\n",
              "      <td>1</td>\n",
              "      <td>1</td>\n",
              "      <td>US</td>\n",
              "      <td>-1.0</td>\n",
              "      <td>1</td>\n",
              "      <td>High</td>\n",
              "      <td>5.0</td>\n",
              "    </tr>\n",
              "    <tr>\n",
              "      <th>35</th>\n",
              "      <td>washingtontimes.com</td>\n",
              "      <td>1</td>\n",
              "      <td>1</td>\n",
              "      <td>US</td>\n",
              "      <td>1.0</td>\n",
              "      <td>1</td>\n",
              "      <td>High</td>\n",
              "      <td>3.0</td>\n",
              "    </tr>\n",
              "    <tr>\n",
              "      <th>36</th>\n",
              "      <td>philly.com</td>\n",
              "      <td>0</td>\n",
              "      <td>1</td>\n",
              "      <td>US</td>\n",
              "      <td>-1.0</td>\n",
              "      <td>1</td>\n",
              "      <td>High</td>\n",
              "      <td>5.0</td>\n",
              "    </tr>\n",
              "    <tr>\n",
              "      <th>38</th>\n",
              "      <td>newsok.com</td>\n",
              "      <td>0</td>\n",
              "      <td>1</td>\n",
              "      <td>US</td>\n",
              "      <td>1.0</td>\n",
              "      <td>1</td>\n",
              "      <td>NaN</td>\n",
              "      <td>5.0</td>\n",
              "    </tr>\n",
              "    <tr>\n",
              "      <th>44</th>\n",
              "      <td>cbsnews.com</td>\n",
              "      <td>1</td>\n",
              "      <td>1</td>\n",
              "      <td>US</td>\n",
              "      <td>-1.0</td>\n",
              "      <td>1</td>\n",
              "      <td>High</td>\n",
              "      <td>5.0</td>\n",
              "    </tr>\n",
              "    <tr>\n",
              "      <th>50</th>\n",
              "      <td>foxnews.com</td>\n",
              "      <td>1</td>\n",
              "      <td>1</td>\n",
              "      <td>US</td>\n",
              "      <td>2.0</td>\n",
              "      <td>1</td>\n",
              "      <td>High</td>\n",
              "      <td>3.0</td>\n",
              "    </tr>\n",
              "    <tr>\n",
              "      <th>51</th>\n",
              "      <td>startribune.com</td>\n",
              "      <td>1</td>\n",
              "      <td>1</td>\n",
              "      <td>US</td>\n",
              "      <td>-1.0</td>\n",
              "      <td>1</td>\n",
              "      <td>NaN</td>\n",
              "      <td>5.0</td>\n",
              "    </tr>\n",
              "  </tbody>\n",
              "</table>\n",
              "</div>"
            ],
            "text/plain": [
              "                 domain  Year_by_year  ...  Traffic Factual_reporting\n",
              "2           latimes.com             0  ...     High               5.0\n",
              "3         breitbart.com             1  ...     High               3.0\n",
              "7              wtop.com             1  ...      NaN               5.0\n",
              "13   chicagotribune.com             0  ...     High               5.0\n",
              "14           sfgate.com             1  ...     High               5.0\n",
              "16              upi.com             1  ...   Medium               5.0\n",
              "17            chron.com             1  ...      NaN               5.0\n",
              "19              cnn.com             1  ...     High               3.0\n",
              "27          nytimes.com             0  ...     High               5.0\n",
              "28          thehill.com             1  ...     High               4.0\n",
              "29   washingtonpost.com             0  ...     High               4.0\n",
              "31     mysanantonio.com             1  ...      NaN               5.0\n",
              "33     seattletimes.com             1  ...     High               5.0\n",
              "35  washingtontimes.com             1  ...     High               3.0\n",
              "36           philly.com             0  ...     High               5.0\n",
              "38           newsok.com             0  ...      NaN               5.0\n",
              "44          cbsnews.com             1  ...     High               5.0\n",
              "50          foxnews.com             1  ...     High               3.0\n",
              "51      startribune.com             1  ...      NaN               5.0\n",
              "\n",
              "[19 rows x 8 columns]"
            ]
          },
          "metadata": {},
          "execution_count": 135
        }
      ]
    },
    {
      "cell_type": "code",
      "source": [
        "# Define the years \n",
        "list_years = [2015, 2016, 2017, 2018, 2019, 2020]\n",
        "# Define the domain names\n",
        "list_domains = political_US_outlets[\"domain\"].values"
      ],
      "metadata": {
        "id": "fmeWoAXHXR6i"
      },
      "id": "fmeWoAXHXR6i",
      "execution_count": null,
      "outputs": []
    },
    {
      "cell_type": "code",
      "source": [
        "# Dictionnary that stores in each year a series with the count for each speaker\n",
        "dict_cumulative_counts_1 = {}\n",
        "for year in list_years:\n",
        "  # To store the values per year\n",
        "  cumulative_count = pd.Series([], dtype=float)\n",
        "  for domain in list_domains:\n",
        "    df_outlet = load_csv_to_df(year, domain)\n",
        "    # Use value_count form pandas to count each set of QIDS occurence and use pd.DataFrame.add to sum on the corresponding set of QIDS, if set does not exist, it is added \n",
        "    cumulative_count = cumulative_count.add(df_outlet[\"qids\"].value_counts(), fill_value=0)\n",
        "  dict_cumulative_counts_1[year]=cumulative_count\n",
        "  print(\"Done for year: \" + str(year))"
      ],
      "metadata": {
        "colab": {
          "base_uri": "https://localhost:8080/"
        },
        "outputId": "dfe6a2ef-f2a7-4a39-b3cb-7dc1668a977e",
        "id": "QzK91gLE41l7"
      },
      "execution_count": null,
      "outputs": [
        {
          "output_type": "stream",
          "name": "stdout",
          "text": [
            "Done for year: 2015\n",
            "Done for year: 2016\n",
            "Done for year: 2017\n",
            "Done for year: 2018\n",
            "Done for year: 2019\n",
            "Done for year: 2020\n"
          ]
        }
      ],
      "id": "QzK91gLE41l7"
    },
    {
      "cell_type": "code",
      "source": [
        "# Export the results to CSV files\n",
        "for year in list_years:\n",
        "  df_year = dict_cumulative_counts_1[year]\n",
        "  path = drive+\"/Domains_count/\"+str(year)+'_dict_counts_speakers.txt'\n",
        "  df_year.to_csv(path, header=False, index=True) "
      ],
      "metadata": {
        "id": "zgdJ7_zB41l8"
      },
      "execution_count": null,
      "outputs": [],
      "id": "zgdJ7_zB41l8"
    },
    {
      "cell_type": "markdown",
      "source": [
        "### 3) Get quote's length and compound sentiment distribution\n",
        "\n",
        "Will be used to create simple histograms of quotes' length and compound's sentiment. The compound value will be rounded to a tenth, such that the histogram bins' width will be a tenth. "
      ],
      "metadata": {
        "id": "ef6OVEtEoyvn"
      },
      "id": "ef6OVEtEoyvn"
    },
    {
      "cell_type": "code",
      "source": [
        "# Dictionary to store results per year \n",
        "dict_quote_len_year = {}\n",
        "dict_quote_compound_year = {}\n",
        "# Results all years\n",
        "quote_len_all_year = pd.Series([], dtype=float)\n",
        "quote_compound_all_year = pd.Series([], dtype=float)\n",
        "# Will be used to count the occurence of quote length \n",
        "list_domains_extended = pd.read_csv(drive+\"selected_domains.csv\")[\"domain\"]\n",
        "list_years = [2015,2016,2017,2018,2019,2020]\n",
        "\n",
        "for year in list_years:\n",
        "  # To store the values per year\n",
        "  cumulative_count_len = pd.Series([], dtype=float)\n",
        "  cumulative_count_compound = pd.Series([], dtype=float)\n",
        "  for domain in list_domains_extended:\n",
        "    df_outlet = load_csv_to_df(year, domain)\n",
        "    # Round the compound value to a tenth\n",
        "    df_outlet[\"compound\"] = df_outlet[\"compound\"].round(decimals = 1)\n",
        "    # Use value_count from pandas to count occurence of quote length and use pd.DataFrame.add\n",
        "    cumulative_count_len = cumulative_count_len.add(df_outlet[\"quote_length\"].value_counts(), fill_value=0)\n",
        "    cumulative_count_compound = cumulative_count_compound.add(df_outlet[\"compound\"].value_counts(), fill_value=0)\n",
        "  \n",
        "  # Store the results in the dict and aggregate\n",
        "  dict_quote_len_year[year]=cumulative_count_len\n",
        "  quote_len_all_year = quote_len_all_year.add(cumulative_count_len, fill_value=0)\n",
        "  # Same for compound \n",
        "  dict_quote_compound_year[year]=cumulative_count_compound\n",
        "  quote_compound_all_year = quote_compound_all_year.add(cumulative_count_compound, fill_value=0)\n",
        "  print(\"Done for year: \" + str(year))\n",
        "\n",
        "# Convert the series to a dataframe \n",
        "quote_len_all_year = quote_len_all_year.reset_index()\n",
        "quote_len_all_year.columns = [\"length\", \"occurence\"]\n",
        "quote_len_all_year[\"length\"] = quote_len_all_year[\"length\"].astype(int)\n",
        "# Same for compound\n",
        "quote_compound_all_year = quote_compound_all_year.reset_index()\n",
        "quote_compound_all_year.columns = [\"compound\", \"occurence\"]"
      ],
      "metadata": {
        "colab": {
          "base_uri": "https://localhost:8080/"
        },
        "id": "zHUBYsKXf66j",
        "outputId": "1b492b7d-ca7e-4c7a-d7da-e8b494b58e86"
      },
      "execution_count": null,
      "outputs": [
        {
          "output_type": "stream",
          "name": "stdout",
          "text": [
            "Done for year: 2015\n",
            "Done for year: 2016\n",
            "Done for year: 2017\n",
            "Done for year: 2018\n",
            "Done for year: 2019\n",
            "Done for year: 2020\n"
          ]
        }
      ],
      "id": "zHUBYsKXf66j"
    },
    {
      "cell_type": "code",
      "source": [
        "# Export the results to CSV files\n",
        "for year in list_years:\n",
        "  # Quote's length\n",
        "  df_year_len = dict_quote_len_year[year]\n",
        "  path = drive+\"/Distribution_plot/\"+str(year)+'_counts_quote_length.csv'\n",
        "  df_year_len.to_csv(path, header=True, index=True)\n",
        "  # Quote's compound sentiment\n",
        "  df_year_com = dict_quote_compound_year[year]\n",
        "  path = drive+\"/Distribution_plot/\"+str(year)+'_counts_quote_compound.csv'\n",
        "  df_year_com.to_csv(path, header=True, index=True)\n",
        "# Export for results across all years\n",
        "path = drive+\"/Distribution_plot/\"+'all_years_counts_quote_length.csv'\n",
        "quote_len_all_year.to_csv(path, header=True, index=True)\n",
        "path = drive+\"/Distribution_plot/\"+'_all_years_counts_quote_compound.csv'\n",
        "quote_compound_all_year.to_csv(path, header=True, index=True)"
      ],
      "metadata": {
        "id": "5Gl9FlFORLFq"
      },
      "execution_count": null,
      "outputs": [],
      "id": "5Gl9FlFORLFq"
    },
    {
      "cell_type": "markdown",
      "source": [
        "## D) Data preparation\n",
        "\n",
        "After extraction of the relevant outlets and preprocessing of some values, here were prepare the data for the analysis: such as information about the speakers, stats about quotes' length, polarity, speaker political leaning, news outlet leaning etc. "
      ],
      "metadata": {
        "id": "h37hadpUuMYH"
      },
      "id": "h37hadpUuMYH"
    },
    {
      "cell_type": "markdown",
      "source": [
        "### 1) Retrieve the most cited Democrat and Republican speakers\n",
        "\n",
        "The first cell is simply a summary of the results we got in section C, here we load them again, in order to avoid running again section C. "
      ],
      "metadata": {
        "id": "dw-YX3g1aohK"
      },
      "id": "dw-YX3g1aohK"
    },
    {
      "cell_type": "code",
      "source": [
        "# Load the domains' name\n",
        "selected_domains_file = drive + \"selected_domains.csv\"\n",
        "all_selected_doms = pd.read_csv(selected_domains_file)\n",
        "# The mask for selecting the correct outlets\n",
        "mask = (all_selected_doms[\"Nationality\"]=='US') & (all_selected_doms[\"Content_creator\"]>0) & (all_selected_doms[\"Political_leaning\"].notnull())\n",
        "political_US_outlets = all_selected_doms[mask]\n",
        "\n",
        "# Define the years \n",
        "list_years = [2015, 2016, 2017, 2018, 2019, 2020]\n",
        "# Define the domain names\n",
        "list_domains = political_US_outlets[\"domain\"].values\n",
        "\n",
        "# Load cumulative speakers counts per year \n",
        "dict_cumulative_counts = {}\n",
        "for year in list_years:\n",
        "  path = drive+\"/Domains_count/\"+str(year)+'_dict_counts_speakers.txt'\n",
        "  dict_cumulative_counts[year] = pd.read_csv(path, header = None, index_col = 0, squeeze = True)"
      ],
      "metadata": {
        "id": "5LsFQibzRGov"
      },
      "execution_count": null,
      "outputs": [],
      "id": "5LsFQibzRGov"
    },
    {
      "cell_type": "markdown",
      "source": [
        "#### Results across all years per **sets** of QIDS "
      ],
      "metadata": {
        "id": "_jvhUtZ3R1AB"
      },
      "id": "_jvhUtZ3R1AB"
    },
    {
      "cell_type": "code",
      "source": [
        "# Count the most cited speakers across all years and news outlet  \n",
        "cumulative_count_all = pd.Series([], dtype=float)\n",
        "for year in list_years:\n",
        "  year_series = dict_cumulative_counts[year]\n",
        "  cumulative_count_all = cumulative_count_all.add(year_series, fill_value=0)\n",
        "cumulative_count_all.index.name = 'idx'"
      ],
      "metadata": {
        "id": "FGxwnoBQR9dG"
      },
      "id": "FGxwnoBQR9dG",
      "execution_count": null,
      "outputs": []
    },
    {
      "cell_type": "code",
      "source": [
        "max_speakers = 75\n",
        "# Gather the top 75 speakers and reset the index as column \n",
        "top_speakers = cumulative_count_all.sort_values(ascending=False).head(max_speakers).reset_index()\n",
        "# Remove the first element because it corresponds to speaker having no wikidata page\n",
        "top_speakers.drop(index=top_speakers.index[0], axis=0, inplace=True)\n",
        "# Rename columns \n",
        "top_speakers.columns = ['QIDS', 'count']\n",
        "# Reconvert the list (that are strings) to actual list using ast library\n",
        "top_speakers[\"QIDS\"] = top_speakers[\"QIDS\"].apply(lambda x: (literal_eval(x)))"
      ],
      "metadata": {
        "id": "lqbxSp_iTLA9"
      },
      "id": "lqbxSp_iTLA9",
      "execution_count": null,
      "outputs": []
    },
    {
      "cell_type": "markdown",
      "source": [
        "Here we had to decide how to solve the problem of speakers having more than one QID. We chose to use the first QID provided to retrieve the name and political party. As we only take a limited amount of speakers, we will manually assess whether the speaker has been assigned to the correct political party. "
      ],
      "metadata": {
        "id": "z-mewR5xlbOY"
      },
      "id": "z-mewR5xlbOY"
    },
    {
      "cell_type": "code",
      "source": [
        "# Create a column named \"name\"\n",
        "# Retrieve the name using the wikidata function described above \n",
        "top_speakers[\"name\"] = top_speakers.apply(lambda x: retrieve_wikidata_properties(x.QIDS[0]).iloc[0].label, axis=1)\n",
        "# Same idea but for the political party, we use the first QID to retrieve the party, not a correct heuristic though \n",
        "top_speakers[\"party\"] = top_speakers.apply(lambda x: human_readable_properties(retrieve_wikidata_properties(x.QIDS[0]), 'party'), axis=1)"
      ],
      "metadata": {
        "colab": {
          "base_uri": "https://localhost:8080/"
        },
        "id": "nAuyTrxRTVXL",
        "outputId": "8125b2d3-07a8-4774-ad46-1c771e1499c8"
      },
      "id": "nAuyTrxRTVXL",
      "execution_count": null,
      "outputs": [
        {
          "output_type": "stream",
          "name": "stderr",
          "text": [
            "/usr/local/lib/python3.7/dist-packages/ipykernel_launcher.py:19: UserWarning: There is no value for this property!\n"
          ]
        }
      ]
    },
    {
      "cell_type": "code",
      "source": [
        "top_speakers.head()"
      ],
      "metadata": {
        "colab": {
          "base_uri": "https://localhost:8080/",
          "height": 206
        },
        "id": "KzpLRPoHodjn",
        "outputId": "65639adc-4f28-4231-a5b4-7450add39cac"
      },
      "id": "KzpLRPoHodjn",
      "execution_count": null,
      "outputs": [
        {
          "output_type": "execute_result",
          "data": {
            "text/html": [
              "<div>\n",
              "<style scoped>\n",
              "    .dataframe tbody tr th:only-of-type {\n",
              "        vertical-align: middle;\n",
              "    }\n",
              "\n",
              "    .dataframe tbody tr th {\n",
              "        vertical-align: top;\n",
              "    }\n",
              "\n",
              "    .dataframe thead th {\n",
              "        text-align: right;\n",
              "    }\n",
              "</style>\n",
              "<table border=\"1\" class=\"dataframe\">\n",
              "  <thead>\n",
              "    <tr style=\"text-align: right;\">\n",
              "      <th></th>\n",
              "      <th>QIDS</th>\n",
              "      <th>count</th>\n",
              "      <th>name</th>\n",
              "      <th>party</th>\n",
              "    </tr>\n",
              "  </thead>\n",
              "  <tbody>\n",
              "    <tr>\n",
              "      <th>1</th>\n",
              "      <td>[Q22686]</td>\n",
              "      <td>285454.0</td>\n",
              "      <td>Donald Trump</td>\n",
              "      <td>[Republican Party, Independence Party of Ameri...</td>\n",
              "    </tr>\n",
              "    <tr>\n",
              "      <th>2</th>\n",
              "      <td>[Q22686, Q27947481]</td>\n",
              "      <td>89949.0</td>\n",
              "      <td>Donald Trump</td>\n",
              "      <td>[Republican Party, Independence Party of Ameri...</td>\n",
              "    </tr>\n",
              "    <tr>\n",
              "      <th>3</th>\n",
              "      <td>[Q76]</td>\n",
              "      <td>53341.0</td>\n",
              "      <td>Barack Obama</td>\n",
              "      <td>[Democratic Party]</td>\n",
              "    </tr>\n",
              "    <tr>\n",
              "      <th>4</th>\n",
              "      <td>[Q6294]</td>\n",
              "      <td>38951.0</td>\n",
              "      <td>Hillary Clinton</td>\n",
              "      <td>[Democratic Party, Republican Party]</td>\n",
              "    </tr>\n",
              "    <tr>\n",
              "      <th>5</th>\n",
              "      <td>[Q359442]</td>\n",
              "      <td>28220.0</td>\n",
              "      <td>Bernie Sanders</td>\n",
              "      <td>[Liberty Union Party, Democratic Party, indepe...</td>\n",
              "    </tr>\n",
              "  </tbody>\n",
              "</table>\n",
              "</div>"
            ],
            "text/plain": [
              "                  QIDS  ...                                              party\n",
              "1             [Q22686]  ...  [Republican Party, Independence Party of Ameri...\n",
              "2  [Q22686, Q27947481]  ...  [Republican Party, Independence Party of Ameri...\n",
              "3                [Q76]  ...                                 [Democratic Party]\n",
              "4              [Q6294]  ...               [Democratic Party, Republican Party]\n",
              "5            [Q359442]  ...  [Liberty Union Party, Democratic Party, indepe...\n",
              "\n",
              "[5 rows x 4 columns]"
            ]
          },
          "metadata": {},
          "execution_count": 18
        }
      ]
    },
    {
      "cell_type": "markdown",
      "source": [
        "We save the apolitical (at least the speakers that do not belong to any political party) in a new dataframe in case we later want to run analysis on them."
      ],
      "metadata": {
        "id": "SR_Z_bfArMqV"
      },
      "id": "SR_Z_bfArMqV"
    },
    {
      "cell_type": "code",
      "source": [
        "top_speakers[\"No_party\"] = top_speakers[\"party\"].apply(lambda x: x is None)\n",
        "apo_speakers = top_speakers[top_speakers[\"No_party\"]==True]"
      ],
      "metadata": {
        "id": "09dgKYdjosNm"
      },
      "id": "09dgKYdjosNm",
      "execution_count": null,
      "outputs": []
    },
    {
      "cell_type": "markdown",
      "source": [
        "For our analysis we only want to look at the speakers belonging to the Republican or Democratic party. Therefore, we drop all the speakers that are not part of one of them."
      ],
      "metadata": {
        "id": "gCaj7RKVyOLH"
      },
      "id": "gCaj7RKVyOLH"
    },
    {
      "cell_type": "code",
      "source": [
        "top_speakers.dropna(subset=[\"party\"], inplace = True)"
      ],
      "metadata": {
        "id": "_eFqFAO67wcV"
      },
      "id": "_eFqFAO67wcV",
      "execution_count": null,
      "outputs": []
    },
    {
      "cell_type": "markdown",
      "source": [
        "In order to separate Republicans and Democrats we one-hot encode the belonging to both parties in two new columns."
      ],
      "metadata": {
        "id": "Gh_ao22mzAM7"
      },
      "id": "Gh_ao22mzAM7"
    },
    {
      "cell_type": "code",
      "source": [
        "top_speakers[\"Democrat\"] = top_speakers[\"party\"].apply(lambda x: \"Democratic Party\" in x)\n",
        "top_speakers[\"Republican\"] = top_speakers[\"party\"].apply(lambda x: \"Republican Party\" in x)"
      ],
      "metadata": {
        "id": "4RmbuWihoV-s"
      },
      "id": "4RmbuWihoV-s",
      "execution_count": null,
      "outputs": []
    },
    {
      "cell_type": "markdown",
      "source": [
        "We check if some speakers belong to both parties."
      ],
      "metadata": {
        "id": "sqtZDBhy0M01"
      },
      "id": "sqtZDBhy0M01"
    },
    {
      "cell_type": "code",
      "source": [
        "top_speakers[top_speakers[\"Democrat\"] == top_speakers[\"Republican\"]]"
      ],
      "metadata": {
        "colab": {
          "base_uri": "https://localhost:8080/",
          "height": 426
        },
        "id": "Wviif3A0BlJQ",
        "outputId": "785f5e7b-afe2-429a-dc15-816107527fbc"
      },
      "id": "Wviif3A0BlJQ",
      "execution_count": null,
      "outputs": [
        {
          "output_type": "execute_result",
          "data": {
            "text/html": [
              "\n",
              "  <div id=\"df-3e54dad3-b685-4b38-8260-fa296f5b9e55\">\n",
              "    <div class=\"colab-df-container\">\n",
              "      <div>\n",
              "<style scoped>\n",
              "    .dataframe tbody tr th:only-of-type {\n",
              "        vertical-align: middle;\n",
              "    }\n",
              "\n",
              "    .dataframe tbody tr th {\n",
              "        vertical-align: top;\n",
              "    }\n",
              "\n",
              "    .dataframe thead th {\n",
              "        text-align: right;\n",
              "    }\n",
              "</style>\n",
              "<table border=\"1\" class=\"dataframe\">\n",
              "  <thead>\n",
              "    <tr style=\"text-align: right;\">\n",
              "      <th></th>\n",
              "      <th>QIDS</th>\n",
              "      <th>count</th>\n",
              "      <th>name</th>\n",
              "      <th>party</th>\n",
              "      <th>No_party</th>\n",
              "      <th>Democrat</th>\n",
              "      <th>Republican</th>\n",
              "    </tr>\n",
              "  </thead>\n",
              "  <tbody>\n",
              "    <tr>\n",
              "      <th>1</th>\n",
              "      <td>[Q22686]</td>\n",
              "      <td>285454.0</td>\n",
              "      <td>Donald Trump</td>\n",
              "      <td>[Republican Party, Independence Party of Ameri...</td>\n",
              "      <td>False</td>\n",
              "      <td>True</td>\n",
              "      <td>True</td>\n",
              "    </tr>\n",
              "    <tr>\n",
              "      <th>2</th>\n",
              "      <td>[Q22686, Q27947481]</td>\n",
              "      <td>89949.0</td>\n",
              "      <td>Donald Trump</td>\n",
              "      <td>[Republican Party, Independence Party of Ameri...</td>\n",
              "      <td>False</td>\n",
              "      <td>True</td>\n",
              "      <td>True</td>\n",
              "    </tr>\n",
              "    <tr>\n",
              "      <th>4</th>\n",
              "      <td>[Q6294]</td>\n",
              "      <td>38951.0</td>\n",
              "      <td>Hillary Clinton</td>\n",
              "      <td>[Democratic Party, Republican Party]</td>\n",
              "      <td>False</td>\n",
              "      <td>True</td>\n",
              "      <td>True</td>\n",
              "    </tr>\n",
              "    <tr>\n",
              "      <th>17</th>\n",
              "      <td>[Q7747]</td>\n",
              "      <td>15565.0</td>\n",
              "      <td>Vladimir Putin</td>\n",
              "      <td>[Communist Party of the Soviet Union, Our Home...</td>\n",
              "      <td>False</td>\n",
              "      <td>False</td>\n",
              "      <td>False</td>\n",
              "    </tr>\n",
              "    <tr>\n",
              "      <th>21</th>\n",
              "      <td>[Q43723]</td>\n",
              "      <td>14061.0</td>\n",
              "      <td>Benjamin Netanyahu</td>\n",
              "      <td>[Likud]</td>\n",
              "      <td>False</td>\n",
              "      <td>False</td>\n",
              "      <td>False</td>\n",
              "    </tr>\n",
              "    <tr>\n",
              "      <th>27</th>\n",
              "      <td>[Q3052772]</td>\n",
              "      <td>11909.0</td>\n",
              "      <td>Emmanuel Macron</td>\n",
              "      <td>[La République En Marche, Socialist Party, ind...</td>\n",
              "      <td>False</td>\n",
              "      <td>False</td>\n",
              "      <td>False</td>\n",
              "    </tr>\n",
              "    <tr>\n",
              "      <th>30</th>\n",
              "      <td>[Q567]</td>\n",
              "      <td>10871.0</td>\n",
              "      <td>Angela Merkel</td>\n",
              "      <td>[Christian Democratic Union, Democratic Awaken...</td>\n",
              "      <td>False</td>\n",
              "      <td>False</td>\n",
              "      <td>False</td>\n",
              "    </tr>\n",
              "    <tr>\n",
              "      <th>38</th>\n",
              "      <td>[Q39259]</td>\n",
              "      <td>9740.0</td>\n",
              "      <td>Recep Tayyip Erdoğan</td>\n",
              "      <td>[National Salvation Party, Welfare Party, Virt...</td>\n",
              "      <td>False</td>\n",
              "      <td>False</td>\n",
              "      <td>False</td>\n",
              "    </tr>\n",
              "    <tr>\n",
              "      <th>53</th>\n",
              "      <td>[Q816459]</td>\n",
              "      <td>7916.0</td>\n",
              "      <td>Ben Carson</td>\n",
              "      <td>[Republican Party, Democratic Party, independe...</td>\n",
              "      <td>False</td>\n",
              "      <td>True</td>\n",
              "      <td>True</td>\n",
              "    </tr>\n",
              "    <tr>\n",
              "      <th>54</th>\n",
              "      <td>[Q264766]</td>\n",
              "      <td>7662.0</td>\n",
              "      <td>Theresa May</td>\n",
              "      <td>[Conservative Party]</td>\n",
              "      <td>False</td>\n",
              "      <td>False</td>\n",
              "      <td>False</td>\n",
              "    </tr>\n",
              "    <tr>\n",
              "      <th>56</th>\n",
              "      <td>[Q311440]</td>\n",
              "      <td>7624.0</td>\n",
              "      <td>António Guterres</td>\n",
              "      <td>[Socialist Party]</td>\n",
              "      <td>False</td>\n",
              "      <td>False</td>\n",
              "      <td>False</td>\n",
              "    </tr>\n",
              "    <tr>\n",
              "      <th>61</th>\n",
              "      <td>[Q180589]</td>\n",
              "      <td>7440.0</td>\n",
              "      <td>Boris Johnson</td>\n",
              "      <td>[Conservative Party]</td>\n",
              "      <td>False</td>\n",
              "      <td>False</td>\n",
              "      <td>False</td>\n",
              "    </tr>\n",
              "  </tbody>\n",
              "</table>\n",
              "</div>\n",
              "      <button class=\"colab-df-convert\" onclick=\"convertToInteractive('df-3e54dad3-b685-4b38-8260-fa296f5b9e55')\"\n",
              "              title=\"Convert this dataframe to an interactive table.\"\n",
              "              style=\"display:none;\">\n",
              "        \n",
              "  <svg xmlns=\"http://www.w3.org/2000/svg\" height=\"24px\"viewBox=\"0 0 24 24\"\n",
              "       width=\"24px\">\n",
              "    <path d=\"M0 0h24v24H0V0z\" fill=\"none\"/>\n",
              "    <path d=\"M18.56 5.44l.94 2.06.94-2.06 2.06-.94-2.06-.94-.94-2.06-.94 2.06-2.06.94zm-11 1L8.5 8.5l.94-2.06 2.06-.94-2.06-.94L8.5 2.5l-.94 2.06-2.06.94zm10 10l.94 2.06.94-2.06 2.06-.94-2.06-.94-.94-2.06-.94 2.06-2.06.94z\"/><path d=\"M17.41 7.96l-1.37-1.37c-.4-.4-.92-.59-1.43-.59-.52 0-1.04.2-1.43.59L10.3 9.45l-7.72 7.72c-.78.78-.78 2.05 0 2.83L4 21.41c.39.39.9.59 1.41.59.51 0 1.02-.2 1.41-.59l7.78-7.78 2.81-2.81c.8-.78.8-2.07 0-2.86zM5.41 20L4 18.59l7.72-7.72 1.47 1.35L5.41 20z\"/>\n",
              "  </svg>\n",
              "      </button>\n",
              "      \n",
              "  <style>\n",
              "    .colab-df-container {\n",
              "      display:flex;\n",
              "      flex-wrap:wrap;\n",
              "      gap: 12px;\n",
              "    }\n",
              "\n",
              "    .colab-df-convert {\n",
              "      background-color: #E8F0FE;\n",
              "      border: none;\n",
              "      border-radius: 50%;\n",
              "      cursor: pointer;\n",
              "      display: none;\n",
              "      fill: #1967D2;\n",
              "      height: 32px;\n",
              "      padding: 0 0 0 0;\n",
              "      width: 32px;\n",
              "    }\n",
              "\n",
              "    .colab-df-convert:hover {\n",
              "      background-color: #E2EBFA;\n",
              "      box-shadow: 0px 1px 2px rgba(60, 64, 67, 0.3), 0px 1px 3px 1px rgba(60, 64, 67, 0.15);\n",
              "      fill: #174EA6;\n",
              "    }\n",
              "\n",
              "    [theme=dark] .colab-df-convert {\n",
              "      background-color: #3B4455;\n",
              "      fill: #D2E3FC;\n",
              "    }\n",
              "\n",
              "    [theme=dark] .colab-df-convert:hover {\n",
              "      background-color: #434B5C;\n",
              "      box-shadow: 0px 1px 3px 1px rgba(0, 0, 0, 0.15);\n",
              "      filter: drop-shadow(0px 1px 2px rgba(0, 0, 0, 0.3));\n",
              "      fill: #FFFFFF;\n",
              "    }\n",
              "  </style>\n",
              "\n",
              "      <script>\n",
              "        const buttonEl =\n",
              "          document.querySelector('#df-3e54dad3-b685-4b38-8260-fa296f5b9e55 button.colab-df-convert');\n",
              "        buttonEl.style.display =\n",
              "          google.colab.kernel.accessAllowed ? 'block' : 'none';\n",
              "\n",
              "        async function convertToInteractive(key) {\n",
              "          const element = document.querySelector('#df-3e54dad3-b685-4b38-8260-fa296f5b9e55');\n",
              "          const dataTable =\n",
              "            await google.colab.kernel.invokeFunction('convertToInteractive',\n",
              "                                                     [key], {});\n",
              "          if (!dataTable) return;\n",
              "\n",
              "          const docLinkHtml = 'Like what you see? Visit the ' +\n",
              "            '<a target=\"_blank\" href=https://colab.research.google.com/notebooks/data_table.ipynb>data table notebook</a>'\n",
              "            + ' to learn more about interactive tables.';\n",
              "          element.innerHTML = '';\n",
              "          dataTable['output_type'] = 'display_data';\n",
              "          await google.colab.output.renderOutput(dataTable, element);\n",
              "          const docLink = document.createElement('div');\n",
              "          docLink.innerHTML = docLinkHtml;\n",
              "          element.appendChild(docLink);\n",
              "        }\n",
              "      </script>\n",
              "    </div>\n",
              "  </div>\n",
              "  "
            ],
            "text/plain": [
              "                   QIDS     count  ... Democrat Republican\n",
              "1              [Q22686]  285454.0  ...     True       True\n",
              "2   [Q22686, Q27947481]   89949.0  ...     True       True\n",
              "4               [Q6294]   38951.0  ...     True       True\n",
              "17              [Q7747]   15565.0  ...    False      False\n",
              "21             [Q43723]   14061.0  ...    False      False\n",
              "27           [Q3052772]   11909.0  ...    False      False\n",
              "30               [Q567]   10871.0  ...    False      False\n",
              "38             [Q39259]    9740.0  ...    False      False\n",
              "53            [Q816459]    7916.0  ...     True       True\n",
              "54            [Q264766]    7662.0  ...    False      False\n",
              "56            [Q311440]    7624.0  ...    False      False\n",
              "61            [Q180589]    7440.0  ...    False      False\n",
              "\n",
              "[12 rows x 7 columns]"
            ]
          },
          "metadata": {},
          "execution_count": 21
        }
      ]
    },
    {
      "cell_type": "markdown",
      "source": [
        "We know for sure that Donald Trump actually belonged to the Republican Party during the time of the analysis whereas Hillary Clinton and Ben Carson do belong to the Democrat party. Thus, we manually correct their affiliation."
      ],
      "metadata": {
        "id": "Jahcr7CpAADd"
      },
      "id": "Jahcr7CpAADd"
    },
    {
      "cell_type": "code",
      "source": [
        "top_speakers.at[1,\"Democrat\"] = False #Speakers 1 and 2 both correspond to Donald Trump (2 sets of QIDs)\n",
        "top_speakers.at[2,\"Democrat\"] = False\n",
        "top_speakers.at[4,\"Republican\"] = False #Speaker 4 corresponds to Hillary Clinton\n",
        "top_speakers.at[53,\"Republican\"] = False # Speaker 53 correponds to Ben Carson"
      ],
      "metadata": {
        "id": "M47_V3ASCI7W"
      },
      "id": "M47_V3ASCI7W",
      "execution_count": null,
      "outputs": []
    },
    {
      "cell_type": "markdown",
      "source": [
        "Now the only speakers that still have the same values in columns `Democrat` and `Republican`are the one that do not belong to any party so discard them."
      ],
      "metadata": {
        "id": "9et-Xsv60eh_"
      },
      "id": "9et-Xsv60eh_"
    },
    {
      "cell_type": "code",
      "source": [
        "top_speakers.drop(top_speakers[top_speakers[\"Democrat\"] == top_speakers[\"Republican\"]].index,inplace=True)"
      ],
      "metadata": {
        "id": "974Q2sJE8pSd"
      },
      "id": "974Q2sJE8pSd",
      "execution_count": null,
      "outputs": []
    },
    {
      "cell_type": "code",
      "source": [
        "top_speakers[top_speakers[\"Democrat\"] == top_speakers[\"Republican\"]]"
      ],
      "metadata": {
        "colab": {
          "base_uri": "https://localhost:8080/",
          "height": 49
        },
        "id": "5HDyNfqzFI3O",
        "outputId": "4d89d256-f6fb-4954-ecb1-1b147bfae26f"
      },
      "id": "5HDyNfqzFI3O",
      "execution_count": null,
      "outputs": [
        {
          "output_type": "execute_result",
          "data": {
            "text/html": [
              "\n",
              "  <div id=\"df-ba031b7f-a485-4e91-9af5-df2b35566f86\">\n",
              "    <div class=\"colab-df-container\">\n",
              "      <div>\n",
              "<style scoped>\n",
              "    .dataframe tbody tr th:only-of-type {\n",
              "        vertical-align: middle;\n",
              "    }\n",
              "\n",
              "    .dataframe tbody tr th {\n",
              "        vertical-align: top;\n",
              "    }\n",
              "\n",
              "    .dataframe thead th {\n",
              "        text-align: right;\n",
              "    }\n",
              "</style>\n",
              "<table border=\"1\" class=\"dataframe\">\n",
              "  <thead>\n",
              "    <tr style=\"text-align: right;\">\n",
              "      <th></th>\n",
              "      <th>QIDS</th>\n",
              "      <th>count</th>\n",
              "      <th>name</th>\n",
              "      <th>party</th>\n",
              "      <th>No_party</th>\n",
              "      <th>Democrat</th>\n",
              "      <th>Republican</th>\n",
              "    </tr>\n",
              "  </thead>\n",
              "  <tbody>\n",
              "  </tbody>\n",
              "</table>\n",
              "</div>\n",
              "      <button class=\"colab-df-convert\" onclick=\"convertToInteractive('df-ba031b7f-a485-4e91-9af5-df2b35566f86')\"\n",
              "              title=\"Convert this dataframe to an interactive table.\"\n",
              "              style=\"display:none;\">\n",
              "        \n",
              "  <svg xmlns=\"http://www.w3.org/2000/svg\" height=\"24px\"viewBox=\"0 0 24 24\"\n",
              "       width=\"24px\">\n",
              "    <path d=\"M0 0h24v24H0V0z\" fill=\"none\"/>\n",
              "    <path d=\"M18.56 5.44l.94 2.06.94-2.06 2.06-.94-2.06-.94-.94-2.06-.94 2.06-2.06.94zm-11 1L8.5 8.5l.94-2.06 2.06-.94-2.06-.94L8.5 2.5l-.94 2.06-2.06.94zm10 10l.94 2.06.94-2.06 2.06-.94-2.06-.94-.94-2.06-.94 2.06-2.06.94z\"/><path d=\"M17.41 7.96l-1.37-1.37c-.4-.4-.92-.59-1.43-.59-.52 0-1.04.2-1.43.59L10.3 9.45l-7.72 7.72c-.78.78-.78 2.05 0 2.83L4 21.41c.39.39.9.59 1.41.59.51 0 1.02-.2 1.41-.59l7.78-7.78 2.81-2.81c.8-.78.8-2.07 0-2.86zM5.41 20L4 18.59l7.72-7.72 1.47 1.35L5.41 20z\"/>\n",
              "  </svg>\n",
              "      </button>\n",
              "      \n",
              "  <style>\n",
              "    .colab-df-container {\n",
              "      display:flex;\n",
              "      flex-wrap:wrap;\n",
              "      gap: 12px;\n",
              "    }\n",
              "\n",
              "    .colab-df-convert {\n",
              "      background-color: #E8F0FE;\n",
              "      border: none;\n",
              "      border-radius: 50%;\n",
              "      cursor: pointer;\n",
              "      display: none;\n",
              "      fill: #1967D2;\n",
              "      height: 32px;\n",
              "      padding: 0 0 0 0;\n",
              "      width: 32px;\n",
              "    }\n",
              "\n",
              "    .colab-df-convert:hover {\n",
              "      background-color: #E2EBFA;\n",
              "      box-shadow: 0px 1px 2px rgba(60, 64, 67, 0.3), 0px 1px 3px 1px rgba(60, 64, 67, 0.15);\n",
              "      fill: #174EA6;\n",
              "    }\n",
              "\n",
              "    [theme=dark] .colab-df-convert {\n",
              "      background-color: #3B4455;\n",
              "      fill: #D2E3FC;\n",
              "    }\n",
              "\n",
              "    [theme=dark] .colab-df-convert:hover {\n",
              "      background-color: #434B5C;\n",
              "      box-shadow: 0px 1px 3px 1px rgba(0, 0, 0, 0.15);\n",
              "      filter: drop-shadow(0px 1px 2px rgba(0, 0, 0, 0.3));\n",
              "      fill: #FFFFFF;\n",
              "    }\n",
              "  </style>\n",
              "\n",
              "      <script>\n",
              "        const buttonEl =\n",
              "          document.querySelector('#df-ba031b7f-a485-4e91-9af5-df2b35566f86 button.colab-df-convert');\n",
              "        buttonEl.style.display =\n",
              "          google.colab.kernel.accessAllowed ? 'block' : 'none';\n",
              "\n",
              "        async function convertToInteractive(key) {\n",
              "          const element = document.querySelector('#df-ba031b7f-a485-4e91-9af5-df2b35566f86');\n",
              "          const dataTable =\n",
              "            await google.colab.kernel.invokeFunction('convertToInteractive',\n",
              "                                                     [key], {});\n",
              "          if (!dataTable) return;\n",
              "\n",
              "          const docLinkHtml = 'Like what you see? Visit the ' +\n",
              "            '<a target=\"_blank\" href=https://colab.research.google.com/notebooks/data_table.ipynb>data table notebook</a>'\n",
              "            + ' to learn more about interactive tables.';\n",
              "          element.innerHTML = '';\n",
              "          dataTable['output_type'] = 'display_data';\n",
              "          await google.colab.output.renderOutput(dataTable, element);\n",
              "          const docLink = document.createElement('div');\n",
              "          docLink.innerHTML = docLinkHtml;\n",
              "          element.appendChild(docLink);\n",
              "        }\n",
              "      </script>\n",
              "    </div>\n",
              "  </div>\n",
              "  "
            ],
            "text/plain": [
              "Empty DataFrame\n",
              "Columns: [QIDS, count, name, party, No_party, Democrat, Republican]\n",
              "Index: []"
            ]
          },
          "metadata": {},
          "execution_count": 24
        }
      ]
    },
    {
      "cell_type": "markdown",
      "source": [
        "Now we can create the two list containing the top 15 speakers of both parties that we will use for the rest of our analysis."
      ],
      "metadata": {
        "id": "ZoAQGKeS1Dn2"
      },
      "id": "ZoAQGKeS1Dn2"
    },
    {
      "cell_type": "code",
      "source": [
        "rep_speakers = top_speakers[top_speakers[\"Republican\"]==True].iloc[0:15]\n",
        "dem_speakers = top_speakers[top_speakers[\"Democrat\"]==True].iloc[0:15]"
      ],
      "metadata": {
        "id": "gyP2jfTvFtQp"
      },
      "id": "gyP2jfTvFtQp",
      "execution_count": null,
      "outputs": []
    },
    {
      "cell_type": "markdown",
      "source": [
        "We will need the QIDs of all these speakers to retrieve the data of interest so we already store them in a simple list."
      ],
      "metadata": {
        "id": "IPrVHInK1PqO"
      },
      "id": "IPrVHInK1PqO"
    },
    {
      "cell_type": "code",
      "source": [
        "# Get the list of the democrat speakers QID as string\n",
        "dem_speakers_QIDS = []\n",
        "for list_QIDS in dem_speakers.QIDS: \n",
        "  dem_speakers_QIDS.append((str(list_QIDS))) \n",
        "\n",
        "# Get the list of the republican speakers QID as string\n",
        "rep_speakers_QIDS = []\n",
        "for list_QIDS in rep_speakers.QIDS: \n",
        "  rep_speakers_QIDS.append((str(list_QIDS))) \n",
        "\n",
        "# Get the list of the apolitical speakers QID as string\n",
        "apo_speakers_QIDS = []\n",
        "for list_QIDS in apo_speakers.QIDS: \n",
        "  apo_speakers_QIDS.append((str(list_QIDS))) "
      ],
      "metadata": {
        "id": "U_5xzRGE4DEm"
      },
      "id": "U_5xzRGE4DEm",
      "execution_count": null,
      "outputs": []
    },
    {
      "cell_type": "markdown",
      "source": [
        "### 2) Computations on the data needed for part 1) of the Analysis"
      ],
      "metadata": {
        "id": "5LjugCEZA_rF"
      },
      "id": "5LjugCEZA_rF"
    },
    {
      "cell_type": "code",
      "metadata": {
        "id": "v7K6ag_RRSpI"
      },
      "source": [
        "time_scale = [2015,2016,2017,2018,2019,2020]\n",
        "length_mean = []\n",
        "length_error = []\n",
        "compound_mean = [] #Mean of the polarity score\n",
        "compound_error = []\n",
        "\n",
        "for year in time_scale :\n",
        "  # Temporary variables to stock intermediates means and weights\n",
        "  length_mean_list = []\n",
        "  compound_mean_list = []\n",
        "  quotes_weight_list = []\n",
        "\n",
        "  for row in all_selected_doms.iterrows() :\n",
        "    # Select domains in top 200 every year, that are content creator and from the US\n",
        "    if (row[1][\"Year_by_year\"] == 1) and (row[1][\"Content_creator\"] == 1) and (row[1][\"Nationality\"] == \"US\"):\n",
        "      df_year_outlet = load_csv_to_df(year,row[1][\"domain\"])\n",
        "      quotes_weight_list.append(df_year_outlet.shape[0]) # Save the number of quotes in each outlet\n",
        "      length_mean_list.append(df_year_outlet[\"quote_length\"].mean()) # Compute the mean length of each outlet\n",
        "      compound_mean_list.append(df_year_outlet[\"compound\"].mean()) # Compute the mean polarity score of each outlet\n",
        "\n",
        "  # To compute the weighted mean and standard error of the mean we use the function\n",
        "  # DescrStatsW from the statsmodels.stats library \n",
        "\n",
        "  # Computation of weighted mean and standard error of the mean for the length\n",
        "  weighted_stats_length = DescrStatsW(length_mean_list, weights=quotes_weight_list, ddof=0)\n",
        "  length_mean.append(weighted_stats_length.mean)\n",
        "  length_error.append(weighted_stats_length.std_mean)\n",
        "\n",
        "  # Computation of weighted mean and standard error of the mean for the polarity score\n",
        "  weighted_stats_compound = DescrStatsW(compound_mean_list, weights=quotes_weight_list, ddof=0) # We use this class from statsmodel.stats for the computation\n",
        "  compound_mean.append(weighted_stats_compound.mean)\n",
        "  compound_error.append(weighted_stats_compound.std_mean)"
      ],
      "execution_count": null,
      "outputs": [],
      "id": "v7K6ag_RRSpI"
    },
    {
      "cell_type": "code",
      "source": [
        "# Computes the mean for each year and each news outlet (either quote length, or polarity)\n",
        "def get_mean_of_col_for_each_outlet_per_year(col, list_of_outlets):\n",
        "\n",
        "    years = range(2015, 2021)\n",
        "    all_means = dict()\n",
        "    for outlet in list_of_outlets:  # max 54\n",
        "        for year in years:  # 6\n",
        "            df = load_csv_to_df(year,outlet)\n",
        "            mean_of_col = df[col].mean()\n",
        "            keys = all_means.keys()\n",
        "            if outlet in keys:\n",
        "                all_means[outlet][year] = mean_of_col\n",
        "            else:\n",
        "                new_dict = dict()\n",
        "                new_dict[year] = mean_of_col\n",
        "                all_means[outlet] = new_dict\n",
        "\n",
        "    return pd.DataFrame(all_means)"
      ],
      "metadata": {
        "id": "uPQyLWFmUn7E"
      },
      "id": "uPQyLWFmUn7E",
      "execution_count": null,
      "outputs": []
    },
    {
      "cell_type": "code",
      "source": [
        "df_means_length = get_mean_of_col_for_each_outlet_per_year(\"quote_length\", list_domains)\n",
        "df_means_compound = get_mean_of_col_for_each_outlet_per_year(\"compound\", list_domains)"
      ],
      "metadata": {
        "id": "ipRWp3ptZbDu"
      },
      "id": "ipRWp3ptZbDu",
      "execution_count": null,
      "outputs": []
    },
    {
      "cell_type": "markdown",
      "source": [
        "The cell below is used to plot the second figure, which is the evolution of quote mean length for news outlets of different political orientations. "
      ],
      "metadata": {
        "id": "aEGgMObLFOBx"
      },
      "id": "aEGgMObLFOBx"
    },
    {
      "cell_type": "code",
      "metadata": {
        "id": "Me9FGIJYRSpL"
      },
      "source": [
        "time_scale = [2015,2016,2017,2018,2019,2020]\n",
        "length_mean_left, length_mean_right, length_mean_neutral = [],[],[]\n",
        "length_error_left, length_error_right, length_error_neutral = [],[],[]\n",
        "compound_mean_left, compound_mean_right, compound_mean_neutral = [],[],[]\n",
        "compound_error_left, compound_error_right, compound_error_neutral = [],[],[]\n",
        "\n",
        "for year in time_scale :\n",
        "  # Temporary variables to stock intermediates means and weights\n",
        "  quotes_weight_list_left, quotes_weight_list_right, quotes_weight_list_neutral = [],[],[]\n",
        "  length_mean_list_left, length_mean_list_right, length_mean_list_neutral = [],[],[]\n",
        "  compound_mean_list_left, compound_mean_list_right, compound_mean_list_neutral = [],[],[]\n",
        "\n",
        "  for row in all_selected_doms.dropna(subset=[\"Political_leaning\"]).iterrows() :\n",
        "    if (row[1][\"Year_by_year\"] == 1) & (row[1][\"Content_creator\"] == 1) & (row[1][\"Nationality\"] == \"US\") :\n",
        "      df_year_outlet = load_csv_to_df(year,row[1][\"domain\"])\n",
        "      \n",
        "      #The political_leaning variable has values between -3 (extreme left) and +3 (extreme right), 0 being neutral\n",
        "      if row[1][\"Political_leaning\"] < 0 :\n",
        "        quotes_weight_list_left.append(df_year_outlet.shape[0])\n",
        "        length_mean_list_left.append(df_year_outlet[\"quote_length\"].mean())\n",
        "        compound_mean_list_left.append(df_year_outlet[\"compound\"].mean())\n",
        "        \n",
        "\n",
        "      elif row[1][\"Political_leaning\"] > 0 :\n",
        "        quotes_weight_list_right.append(df_year_outlet.shape[0])\n",
        "        length_mean_list_right.append(df_year_outlet[\"quote_length\"].mean())\n",
        "        compound_mean_list_right.append(df_year_outlet[\"compound\"].mean())\n",
        "        \n",
        "\n",
        "      elif row[1][\"Political_leaning\"] == 0 :\n",
        "        quotes_weight_list_neutral.append(df_year_outlet.shape[0])\n",
        "        length_mean_list_neutral.append(df_year_outlet[\"quote_length\"].mean())\n",
        "        compound_mean_list_neutral.append(df_year_outlet[\"compound\"].mean())\n",
        "        \n",
        "  # Computation of weighted mean and standard error of the mean for the length\n",
        "  weighted_stats_length_left = DescrStatsW(length_mean_list_left, weights=quotes_weight_list_left, ddof=0)\n",
        "  length_mean_left.append(weighted_stats_length_left.mean)\n",
        "  length_error_left.append(weighted_stats_length_left.std_mean)\n",
        "  \n",
        "  weighted_stats_length_right = DescrStatsW(length_mean_list_right, weights=quotes_weight_list_right, ddof=0)\n",
        "  length_mean_right.append(weighted_stats_length_right.mean)\n",
        "  length_error_right.append(weighted_stats_length_right.std_mean)\n",
        "\n",
        "  weighted_stats_length_neutral = DescrStatsW(length_mean_list_neutral, weights=quotes_weight_list_neutral, ddof=0)\n",
        "  length_mean_neutral.append(weighted_stats_length_neutral.mean)\n",
        "  length_error_neutral.append(weighted_stats_length_neutral.std_mean)\n",
        "\n",
        "  # Computation of weighted mean and standard error of the mean for the polarity score\n",
        "  weighted_stats_compound_left = DescrStatsW(compound_mean_list_left, weights=quotes_weight_list_left, ddof=0)\n",
        "  compound_mean_left.append(weighted_stats_compound_left.mean)\n",
        "  compound_error_left.append(weighted_stats_compound_left.std_mean)\n",
        "  \n",
        "  weighted_stats_compound_right = DescrStatsW(compound_mean_list_right, weights=quotes_weight_list_right, ddof=0)\n",
        "  compound_mean_right.append(weighted_stats_compound_right.mean)\n",
        "  compound_error_right.append(weighted_stats_compound_right.std_mean)\n",
        "\n",
        "  weighted_stats_compound_neutral = DescrStatsW(compound_mean_list_neutral, weights=quotes_weight_list_neutral, ddof=0)\n",
        "  compound_mean_neutral.append(weighted_stats_compound_neutral.mean)\n",
        "  compound_error_neutral.append(weighted_stats_compound_neutral.std_mean)\n"
      ],
      "execution_count": null,
      "outputs": [],
      "id": "Me9FGIJYRSpL"
    },
    {
      "cell_type": "markdown",
      "source": [
        "### 3) Computations on the data needed for part 2) of the Analysis"
      ],
      "metadata": {
        "id": "lbAUT9djAyHM"
      },
      "id": "lbAUT9djAyHM"
    },
    {
      "cell_type": "markdown",
      "source": [
        "See below the description of the variables we will store in the columns. The rows will represent the years. \n",
        "- `L` for outlet having a left political bias\n",
        "  - `N` for neutral \n",
        "  - `R` for right\n",
        "- `Pol` for the average polarity score \n",
        "- `Pol_err` for average polarity error \n",
        "- `Len` for the average quote's length\n",
        "- `Len_err` for average quote's length error\n",
        "- `Count` for the occurence of democrats/republicans speaker in the given outlet having political leaning L/N/R "
      ],
      "metadata": {
        "id": "Jccz7nb-kgYf"
      },
      "id": "Jccz7nb-kgYf"
    },
    {
      "cell_type": "code",
      "source": [
        "time_scale = [2015,2016,2017,2018,2019,2020]\n",
        "# Define the dataframes storing the reslts \n",
        "col_name = ['L_Pol', 'L_Pol_err', 'L_Len', 'L_Len_err', 'L_Count', 'N_Pol', 'N_Pol_err', 'N_Len', 'N_Len_err', 'N_Count', 'R_Pol', 'R_Pol_err', 'R_Len', 'R_Len_err', 'R_Count']\n",
        "# The democract df\n",
        "df_speakers_stats_dem = pd.DataFrame(columns=col_name, index=time_scale) #Stats of democrat speakers depending on the political leaning of the news outlets\n",
        "# The republican df \n",
        "df_speakers_stats_rep = pd.DataFrame(columns=col_name, index=time_scale) #Stats of Republican speakers depending on the political leaning of the news outlets\n",
        "\n",
        "\n",
        "for year in time_scale :\n",
        "\n",
        "  \n",
        "  # 1) Start by retrieving the data\n",
        "\n",
        "\n",
        "  # Temporary variables to stock intermediates means and weights for republican speakers\n",
        "  quotes_count_list_left_rep, quotes_count_list_right_rep, quotes_count_list_neutral_rep = [],[],[]\n",
        "  length_mean_list_left_rep, length_mean_list_right_rep, length_mean_list_neutral_rep = [],[],[]\n",
        "  compound_mean_list_left_rep, compound_mean_list_right_rep, compound_mean_list_neutral_rep = [],[],[]\n",
        "  # Temporary variables to stock intermediates means and weights for democrat speakers\n",
        "  quotes_count_list_left_dem, quotes_count_list_right_dem, quotes_count_list_neutral_dem = [],[],[]\n",
        "  length_mean_list_left_dem, length_mean_list_right_dem, length_mean_list_neutral_dem = [],[],[]\n",
        "  compound_mean_list_left_dem, compound_mean_list_right_dem, compound_mean_list_neutral_dem = [],[],[]\n",
        "\n",
        "  for row in political_US_outlets.iterrows() :\n",
        "    df_year_outlet = load_csv_to_df(year,row[1][\"domain\"]).dropna(subset=[\"qids\"])\n",
        "    # Make sure that we have a not empty dataframe \n",
        "    if not df_year_outlet.empty:\n",
        "      # Groupy by the QIDS, and aggregate by mean on quote_length and compound value\n",
        "      qids_group_by = df_year_outlet.groupby(\"qids\").agg({\"quote_length\" : \"mean\", \"compound\" : \"mean\"}).reset_index()\n",
        "      # Count the number of quotes per QIDS\n",
        "      qids_count = df_year_outlet.groupby(\"qids\").size()\n",
        "      \n",
        "      # Iterate on the QIDS/speakers of the given outlet and check whether they belong to democrat or republican \n",
        "      for qid in qids_group_by[\"qids\"].values:\n",
        "        # Check if the speaker is a DEMOCRAT\n",
        "        if qid in dem_speakers_QIDS : \n",
        "          # Check whether the outlet has a Left political bias \n",
        "          if row[1][\"Political_leaning\"] < 0:\n",
        "            quotes_count_list_left_dem.append(qids_count.loc[qid])\n",
        "            length_mean_list_left_dem.append(qids_group_by[qids_group_by[\"qids\"] == qid][\"quote_length\"].values[0])\n",
        "            compound_mean_list_left_dem.append(qids_group_by[qids_group_by[\"qids\"] == qid][\"compound\"].values[0])\n",
        "          # Check whether the outlet has a Neutral political bias \n",
        "          if row[1][\"Political_leaning\"] > 0:\n",
        "            quotes_count_list_right_dem.append(qids_count.loc[qid])\n",
        "            length_mean_list_right_dem.append(qids_group_by[qids_group_by[\"qids\"] == qid][\"quote_length\"].values[0])\n",
        "            compound_mean_list_right_dem.append(qids_group_by[qids_group_by[\"qids\"] == qid][\"compound\"].values[0])\n",
        "          # Check whether the outlet has a Right political bias \n",
        "          if row[1][\"Political_leaning\"] == 0:\n",
        "            quotes_count_list_neutral_dem.append(qids_count.loc[qid])\n",
        "            length_mean_list_neutral_dem.append(qids_group_by[qids_group_by[\"qids\"] == qid][\"quote_length\"].values[0])\n",
        "            compound_mean_list_neutral_dem.append(qids_group_by[qids_group_by[\"qids\"] == qid][\"compound\"].values[0])\n",
        "         # Check if the speaker is REPUBLICAN\n",
        "        if qid in rep_speakers_QIDS :\n",
        "\n",
        "          if row[1][\"Political_leaning\"] < 0:\n",
        "            quotes_count_list_left_rep.append(qids_count.loc[qid])\n",
        "            length_mean_list_left_rep.append(qids_group_by[qids_group_by[\"qids\"] == qid][\"quote_length\"].values[0])\n",
        "            compound_mean_list_left_rep.append(qids_group_by[qids_group_by[\"qids\"] == qid][\"compound\"].values[0])\n",
        "\n",
        "          if row[1][\"Political_leaning\"] > 0:\n",
        "            quotes_count_list_right_rep.append(qids_count.loc[qid])\n",
        "            length_mean_list_right_rep.append(qids_group_by[qids_group_by[\"qids\"] == qid][\"quote_length\"].values[0])\n",
        "            compound_mean_list_right_rep.append(qids_group_by[qids_group_by[\"qids\"] == qid][\"compound\"].values[0])\n",
        "\n",
        "          if row[1][\"Political_leaning\"] == 0:\n",
        "            quotes_count_list_neutral_rep.append(qids_count.loc[qid])\n",
        "            length_mean_list_neutral_rep.append(qids_group_by[qids_group_by[\"qids\"] == qid][\"quote_length\"].values[0])\n",
        "            compound_mean_list_neutral_rep.append(qids_group_by[qids_group_by[\"qids\"] == qid][\"compound\"].values[0])\n",
        "          \n",
        "    \n",
        "    \n",
        "    \n",
        "  # 2) After retrieving the data, compute the STATISTICS\n",
        "  \n",
        "\n",
        "\n",
        "\n",
        "  #################################################### FOR DEMOCRATS #########################################################  \n",
        "\n",
        "  yearly_stats_dem = [] # list to push in the final dataframe\n",
        "\n",
        "  #Left outlets :\n",
        "\n",
        "  # Computation of mean and SEM for polarity score\n",
        "  weighted_stats_compound_left_dem = DescrStatsW(compound_mean_list_left_dem, weights=quotes_count_list_left_dem, ddof=0)\n",
        "  yearly_stats_dem.append(weighted_stats_compound_left_dem.mean)\n",
        "  yearly_stats_dem.append(weighted_stats_compound_left_dem.std_mean)\n",
        "\n",
        "  # Computation of mean and SEM for length\n",
        "  weighted_stats_length_left_dem = DescrStatsW(length_mean_list_left_dem, weights=quotes_count_list_left_dem, ddof=0)\n",
        "  yearly_stats_dem.append(weighted_stats_length_left_dem.mean)\n",
        "  yearly_stats_dem.append(weighted_stats_length_left_dem.std_mean)\n",
        "\n",
        "  #Count for left :\n",
        "  yearly_stats_dem.append(np.array(quotes_count_list_left_dem).sum())\n",
        "\n",
        "  #Neutral outlets :\n",
        "\n",
        "  # Computation of mean and SEM for polarity score\n",
        "  weighted_stats_compound_neutral_dem = DescrStatsW(compound_mean_list_neutral_dem, weights=quotes_count_list_neutral_dem, ddof=0)\n",
        "  yearly_stats_dem.append(weighted_stats_compound_neutral_dem.mean)\n",
        "  yearly_stats_dem.append(weighted_stats_compound_neutral_dem.std_mean)\n",
        "\n",
        "  # Computation of mean and SEM for length\n",
        "  weighted_stats_length_neutral_dem = DescrStatsW(length_mean_list_neutral_dem, weights=quotes_count_list_neutral_dem, ddof=0)\n",
        "  yearly_stats_dem.append(weighted_stats_length_neutral_dem.mean)\n",
        "  yearly_stats_dem.append(weighted_stats_length_neutral_dem.std_mean)\n",
        "\n",
        "  #Count for Neutral :\n",
        "  yearly_stats_dem.append(np.array(quotes_count_list_neutral_dem).sum())\n",
        "\n",
        "  #Right outlets :\n",
        "\n",
        "  # Computation of mean and SEM for polarity score\n",
        "  weighted_stats_compound_right_dem = DescrStatsW(compound_mean_list_right_dem, weights=quotes_count_list_right_dem, ddof=0)\n",
        "  yearly_stats_dem.append(weighted_stats_compound_right_dem.mean)\n",
        "  yearly_stats_dem.append(weighted_stats_compound_right_dem.std_mean)\n",
        "\n",
        "  # Computation of mean and SEM for length\n",
        "  weighted_stats_length_right_dem = DescrStatsW(length_mean_list_right_dem, weights=quotes_count_list_right_dem, ddof=0)\n",
        "  yearly_stats_dem.append(weighted_stats_length_right_dem.mean)\n",
        "  yearly_stats_dem.append(weighted_stats_length_right_dem.std_mean)\n",
        "\n",
        "  #Count for Right :\n",
        "  yearly_stats_dem.append(np.array(quotes_count_list_right_dem).sum())\n",
        "\n",
        "  # Push the results into the df \n",
        "  df_speakers_stats_dem.loc[year] = yearly_stats_dem \n",
        "\n",
        "  #################################################### FOR REPUBLICAN #########################################################  \n",
        "\n",
        "  yearly_stats_rep = [] # list to push in the final dataframe\n",
        "\n",
        "  #Left outlets :\n",
        "\n",
        "  # Computation of mean and SEM for polarity score\n",
        "  weighted_stats_compound_left_rep = DescrStatsW(compound_mean_list_left_rep, weights=quotes_count_list_left_rep, ddof=0)\n",
        "  yearly_stats_rep.append(weighted_stats_compound_left_rep.mean)\n",
        "  yearly_stats_rep.append(weighted_stats_compound_left_rep.std_mean)\n",
        "\n",
        "  # Computation of mean and SEM for length\n",
        "  weighted_stats_length_left_rep = DescrStatsW(length_mean_list_left_rep, weights=quotes_count_list_left_rep, ddof=0)\n",
        "  yearly_stats_rep.append(weighted_stats_length_left_rep.mean)\n",
        "  yearly_stats_rep.append(weighted_stats_length_left_rep.std_mean)\n",
        "\n",
        "  #Count for left :\n",
        "  yearly_stats_rep.append(np.array(quotes_count_list_left_rep).sum())\n",
        "\n",
        "  #Neutral outlets :\n",
        "\n",
        "  # Computation of mean and SEM for polarity score\n",
        "  weighted_stats_compound_neutral_rep = DescrStatsW(compound_mean_list_neutral_rep, weights=quotes_count_list_neutral_rep, ddof=0)\n",
        "  yearly_stats_rep.append(weighted_stats_compound_neutral_rep.mean)\n",
        "  yearly_stats_rep.append(weighted_stats_compound_neutral_rep.std_mean)\n",
        "\n",
        "  # Computation of mean and SEM for length\n",
        "  weighted_stats_length_neutral_rep = DescrStatsW(length_mean_list_neutral_rep, weights=quotes_count_list_neutral_rep, ddof=0)\n",
        "  yearly_stats_rep.append(weighted_stats_length_neutral_rep.mean)\n",
        "  yearly_stats_rep.append(weighted_stats_length_neutral_rep.std_mean)\n",
        "\n",
        "  #Count for neutral :\n",
        "  yearly_stats_rep.append(np.array(quotes_count_list_neutral_rep).sum())\n",
        "\n",
        "  #Right outlets :\n",
        "\n",
        "  # Computation of mean and SEM for polarity score\n",
        "  weighted_stats_compound_right_rep = DescrStatsW(compound_mean_list_right_rep, weights=quotes_count_list_right_rep, ddof=0)\n",
        "  yearly_stats_rep.append(weighted_stats_compound_right_rep.mean)\n",
        "  yearly_stats_rep.append(weighted_stats_compound_right_rep.std_mean)\n",
        "\n",
        "  # Computation of mean and SEM for length\n",
        "  weighted_stats_length_right_rep = DescrStatsW(length_mean_list_right_rep, weights=quotes_count_list_right_rep, ddof=0)\n",
        "  yearly_stats_rep.append(weighted_stats_length_right_rep.mean)\n",
        "  yearly_stats_rep.append(weighted_stats_length_right_rep.std_mean)\n",
        "\n",
        "  #Count for right :\n",
        "  yearly_stats_rep.append(np.array(quotes_count_list_right_rep).sum())\n",
        "\n",
        "  # Push the results into the df \n",
        "  df_speakers_stats_rep.loc[year] = yearly_stats_rep\n",
        "\n",
        "  # To keep track of the progress \n",
        "  print(\"Done for year: \" + str(year)) "
      ],
      "metadata": {
        "colab": {
          "base_uri": "https://localhost:8080/"
        },
        "outputId": "2a85f40f-cd95-482b-92fb-47a766b17755",
        "id": "hUXEAqhO2I8e"
      },
      "execution_count": null,
      "outputs": [
        {
          "output_type": "stream",
          "name": "stdout",
          "text": [
            "Done for year: 2015\n",
            "Done for year: 2016\n",
            "Done for year: 2017\n",
            "Done for year: 2018\n",
            "Done for year: 2019\n",
            "Done for year: 2020\n"
          ]
        }
      ],
      "id": "hUXEAqhO2I8e"
    },
    {
      "cell_type": "code",
      "source": [
        "df_speakers_stats_dem.head(6)"
      ],
      "metadata": {
        "colab": {
          "base_uri": "https://localhost:8080/",
          "height": 238
        },
        "id": "innxPSp-3CmK",
        "outputId": "9e31b286-ad2e-4b05-91ec-0bb5ec312d6d"
      },
      "id": "innxPSp-3CmK",
      "execution_count": null,
      "outputs": [
        {
          "output_type": "execute_result",
          "data": {
            "text/html": [
              "\n",
              "  <div id=\"df-a523c962-fb94-49fc-bd28-6b4b373643e4\">\n",
              "    <div class=\"colab-df-container\">\n",
              "      <div>\n",
              "<style scoped>\n",
              "    .dataframe tbody tr th:only-of-type {\n",
              "        vertical-align: middle;\n",
              "    }\n",
              "\n",
              "    .dataframe tbody tr th {\n",
              "        vertical-align: top;\n",
              "    }\n",
              "\n",
              "    .dataframe thead th {\n",
              "        text-align: right;\n",
              "    }\n",
              "</style>\n",
              "<table border=\"1\" class=\"dataframe\">\n",
              "  <thead>\n",
              "    <tr style=\"text-align: right;\">\n",
              "      <th></th>\n",
              "      <th>L_Pol</th>\n",
              "      <th>L_Pol_err</th>\n",
              "      <th>L_Len</th>\n",
              "      <th>L_Len_err</th>\n",
              "      <th>L_Count</th>\n",
              "      <th>N_Pol</th>\n",
              "      <th>N_Pol_err</th>\n",
              "      <th>N_Len</th>\n",
              "      <th>N_Len_err</th>\n",
              "      <th>N_Count</th>\n",
              "      <th>R_Pol</th>\n",
              "      <th>R_Pol_err</th>\n",
              "      <th>R_Len</th>\n",
              "      <th>R_Len_err</th>\n",
              "      <th>R_Count</th>\n",
              "    </tr>\n",
              "  </thead>\n",
              "  <tbody>\n",
              "    <tr>\n",
              "      <th>2015</th>\n",
              "      <td>0.0771815</td>\n",
              "      <td>0.000265631</td>\n",
              "      <td>19.9727</td>\n",
              "      <td>0.0123081</td>\n",
              "      <td>37877</td>\n",
              "      <td>0.103781</td>\n",
              "      <td>0.000531764</td>\n",
              "      <td>20.4276</td>\n",
              "      <td>0.0214962</td>\n",
              "      <td>10461</td>\n",
              "      <td>0.0712252</td>\n",
              "      <td>0.000368541</td>\n",
              "      <td>23.1722</td>\n",
              "      <td>0.0315093</td>\n",
              "      <td>18497</td>\n",
              "    </tr>\n",
              "    <tr>\n",
              "      <th>2016</th>\n",
              "      <td>0.0888006</td>\n",
              "      <td>0.00028586</td>\n",
              "      <td>19.5664</td>\n",
              "      <td>0.0125095</td>\n",
              "      <td>30474</td>\n",
              "      <td>0.104512</td>\n",
              "      <td>0.000852697</td>\n",
              "      <td>21.6488</td>\n",
              "      <td>0.0382898</td>\n",
              "      <td>5905</td>\n",
              "      <td>0.0836185</td>\n",
              "      <td>0.000351611</td>\n",
              "      <td>20.9257</td>\n",
              "      <td>0.015071</td>\n",
              "      <td>17582</td>\n",
              "    </tr>\n",
              "    <tr>\n",
              "      <th>2017</th>\n",
              "      <td>0.0625622</td>\n",
              "      <td>0.00047482</td>\n",
              "      <td>19.6372</td>\n",
              "      <td>0.0211678</td>\n",
              "      <td>18034</td>\n",
              "      <td>0.0504796</td>\n",
              "      <td>0.00071748</td>\n",
              "      <td>21.4499</td>\n",
              "      <td>0.0286184</td>\n",
              "      <td>5853</td>\n",
              "      <td>0.0524413</td>\n",
              "      <td>0.000634487</td>\n",
              "      <td>21.2274</td>\n",
              "      <td>0.0273854</td>\n",
              "      <td>11005</td>\n",
              "    </tr>\n",
              "    <tr>\n",
              "      <th>2018</th>\n",
              "      <td>0.0726006</td>\n",
              "      <td>0.000552276</td>\n",
              "      <td>19.7297</td>\n",
              "      <td>0.0251648</td>\n",
              "      <td>14293</td>\n",
              "      <td>0.0618534</td>\n",
              "      <td>0.000849529</td>\n",
              "      <td>21.939</td>\n",
              "      <td>0.038809</td>\n",
              "      <td>6014</td>\n",
              "      <td>0.0634342</td>\n",
              "      <td>0.000494719</td>\n",
              "      <td>21.8996</td>\n",
              "      <td>0.0269668</td>\n",
              "      <td>11262</td>\n",
              "    </tr>\n",
              "    <tr>\n",
              "      <th>2019</th>\n",
              "      <td>0.0636577</td>\n",
              "      <td>0.000276032</td>\n",
              "      <td>19.662</td>\n",
              "      <td>0.0168749</td>\n",
              "      <td>32291</td>\n",
              "      <td>0.0655277</td>\n",
              "      <td>0.000485359</td>\n",
              "      <td>21.9286</td>\n",
              "      <td>0.0297682</td>\n",
              "      <td>9970</td>\n",
              "      <td>0.0580618</td>\n",
              "      <td>0.00024684</td>\n",
              "      <td>22.2775</td>\n",
              "      <td>0.0170121</td>\n",
              "      <td>27005</td>\n",
              "    </tr>\n",
              "    <tr>\n",
              "      <th>2020</th>\n",
              "      <td>0.0642667</td>\n",
              "      <td>0.000602276</td>\n",
              "      <td>19.5252</td>\n",
              "      <td>0.0298069</td>\n",
              "      <td>12618</td>\n",
              "      <td>0.0649828</td>\n",
              "      <td>0.00115321</td>\n",
              "      <td>21.6443</td>\n",
              "      <td>0.0572883</td>\n",
              "      <td>3697</td>\n",
              "      <td>0.0497961</td>\n",
              "      <td>0.000571691</td>\n",
              "      <td>22.2083</td>\n",
              "      <td>0.035578</td>\n",
              "      <td>10160</td>\n",
              "    </tr>\n",
              "  </tbody>\n",
              "</table>\n",
              "</div>\n",
              "      <button class=\"colab-df-convert\" onclick=\"convertToInteractive('df-a523c962-fb94-49fc-bd28-6b4b373643e4')\"\n",
              "              title=\"Convert this dataframe to an interactive table.\"\n",
              "              style=\"display:none;\">\n",
              "        \n",
              "  <svg xmlns=\"http://www.w3.org/2000/svg\" height=\"24px\"viewBox=\"0 0 24 24\"\n",
              "       width=\"24px\">\n",
              "    <path d=\"M0 0h24v24H0V0z\" fill=\"none\"/>\n",
              "    <path d=\"M18.56 5.44l.94 2.06.94-2.06 2.06-.94-2.06-.94-.94-2.06-.94 2.06-2.06.94zm-11 1L8.5 8.5l.94-2.06 2.06-.94-2.06-.94L8.5 2.5l-.94 2.06-2.06.94zm10 10l.94 2.06.94-2.06 2.06-.94-2.06-.94-.94-2.06-.94 2.06-2.06.94z\"/><path d=\"M17.41 7.96l-1.37-1.37c-.4-.4-.92-.59-1.43-.59-.52 0-1.04.2-1.43.59L10.3 9.45l-7.72 7.72c-.78.78-.78 2.05 0 2.83L4 21.41c.39.39.9.59 1.41.59.51 0 1.02-.2 1.41-.59l7.78-7.78 2.81-2.81c.8-.78.8-2.07 0-2.86zM5.41 20L4 18.59l7.72-7.72 1.47 1.35L5.41 20z\"/>\n",
              "  </svg>\n",
              "      </button>\n",
              "      \n",
              "  <style>\n",
              "    .colab-df-container {\n",
              "      display:flex;\n",
              "      flex-wrap:wrap;\n",
              "      gap: 12px;\n",
              "    }\n",
              "\n",
              "    .colab-df-convert {\n",
              "      background-color: #E8F0FE;\n",
              "      border: none;\n",
              "      border-radius: 50%;\n",
              "      cursor: pointer;\n",
              "      display: none;\n",
              "      fill: #1967D2;\n",
              "      height: 32px;\n",
              "      padding: 0 0 0 0;\n",
              "      width: 32px;\n",
              "    }\n",
              "\n",
              "    .colab-df-convert:hover {\n",
              "      background-color: #E2EBFA;\n",
              "      box-shadow: 0px 1px 2px rgba(60, 64, 67, 0.3), 0px 1px 3px 1px rgba(60, 64, 67, 0.15);\n",
              "      fill: #174EA6;\n",
              "    }\n",
              "\n",
              "    [theme=dark] .colab-df-convert {\n",
              "      background-color: #3B4455;\n",
              "      fill: #D2E3FC;\n",
              "    }\n",
              "\n",
              "    [theme=dark] .colab-df-convert:hover {\n",
              "      background-color: #434B5C;\n",
              "      box-shadow: 0px 1px 3px 1px rgba(0, 0, 0, 0.15);\n",
              "      filter: drop-shadow(0px 1px 2px rgba(0, 0, 0, 0.3));\n",
              "      fill: #FFFFFF;\n",
              "    }\n",
              "  </style>\n",
              "\n",
              "      <script>\n",
              "        const buttonEl =\n",
              "          document.querySelector('#df-a523c962-fb94-49fc-bd28-6b4b373643e4 button.colab-df-convert');\n",
              "        buttonEl.style.display =\n",
              "          google.colab.kernel.accessAllowed ? 'block' : 'none';\n",
              "\n",
              "        async function convertToInteractive(key) {\n",
              "          const element = document.querySelector('#df-a523c962-fb94-49fc-bd28-6b4b373643e4');\n",
              "          const dataTable =\n",
              "            await google.colab.kernel.invokeFunction('convertToInteractive',\n",
              "                                                     [key], {});\n",
              "          if (!dataTable) return;\n",
              "\n",
              "          const docLinkHtml = 'Like what you see? Visit the ' +\n",
              "            '<a target=\"_blank\" href=https://colab.research.google.com/notebooks/data_table.ipynb>data table notebook</a>'\n",
              "            + ' to learn more about interactive tables.';\n",
              "          element.innerHTML = '';\n",
              "          dataTable['output_type'] = 'display_data';\n",
              "          await google.colab.output.renderOutput(dataTable, element);\n",
              "          const docLink = document.createElement('div');\n",
              "          docLink.innerHTML = docLinkHtml;\n",
              "          element.appendChild(docLink);\n",
              "        }\n",
              "      </script>\n",
              "    </div>\n",
              "  </div>\n",
              "  "
            ],
            "text/plain": [
              "          L_Pol    L_Pol_err    L_Len  ...    R_Len  R_Len_err R_Count\n",
              "2015  0.0771815  0.000265631  19.9727  ...  23.1722  0.0315093   18497\n",
              "2016  0.0888006   0.00028586  19.5664  ...  20.9257   0.015071   17582\n",
              "2017  0.0625622   0.00047482  19.6372  ...  21.2274  0.0273854   11005\n",
              "2018  0.0726006  0.000552276  19.7297  ...  21.8996  0.0269668   11262\n",
              "2019  0.0636577  0.000276032   19.662  ...  22.2775  0.0170121   27005\n",
              "2020  0.0642667  0.000602276  19.5252  ...  22.2083   0.035578   10160\n",
              "\n",
              "[6 rows x 15 columns]"
            ]
          },
          "metadata": {},
          "execution_count": 28
        }
      ]
    },
    {
      "cell_type": "markdown",
      "source": [
        "Then we create two new dataframes (one for Democrats and one for Republicans) that will contain a weighted mean of each variable over all years"
      ],
      "metadata": {
        "id": "SU_KwtcMDxcC"
      },
      "id": "SU_KwtcMDxcC"
    },
    {
      "cell_type": "code",
      "source": [
        "df_speakers_stats_total_dem = pd.DataFrame(columns=col_name,index=[\"total\"]) # Dataframe containing overall weighted mean for every political leaning and democrat speakers\n",
        "df_speakers_stats_total_rep = pd.DataFrame(columns=col_name,index=[\"total\"]) # Dataframe containing overall weighted mean for every political leaning and democrat speakers"
      ],
      "metadata": {
        "id": "2J6UjTXX5SsK"
      },
      "id": "2J6UjTXX5SsK",
      "execution_count": null,
      "outputs": []
    },
    {
      "cell_type": "markdown",
      "source": [
        "Now that both dataframes are created, we compute the means and fill them"
      ],
      "metadata": {
        "id": "jVt8ZRZABuVr"
      },
      "id": "jVt8ZRZABuVr"
    },
    {
      "cell_type": "code",
      "source": [
        "# Computation for Democrat speakers\n",
        "for pref in [\"L_\",\"N_\",\"R_\"]:\n",
        "  variables = [pref+\"Pol\",pref+\"Pol_err\",pref+\"Len\",pref+\"Len_err\"]\n",
        "  count = pref+\"Count\"\n",
        "  for var in [0,2] :\n",
        "       weighted_stats = DescrStatsW(df_speakers_stats_dem[variables[var]], weights=df_speakers_stats_dem[count], ddof=0)\n",
        "       df_speakers_stats_total_dem.at['total',variables[var]] = weighted_stats.mean # computation of the mean\n",
        "       df_speakers_stats_total_dem.at[\"total\",variables[var+1]] = weighted_stats.std_mean # computation of the standard error of the mean\n",
        "  df_speakers_stats_total_dem.at['total',count] = df_speakers_stats_dem[count].sum()\n",
        "\n",
        "# Computation for Republicans speakers    \n",
        "for pref in [\"L_\",\"N_\",\"R_\"]:\n",
        "  variables = [pref+\"Pol\",pref+\"Pol_err\",pref+\"Len\",pref+\"Len_err\"]\n",
        "  count = pref+\"Count\"\n",
        "  for var in [0,2] :\n",
        "       weighted_stats = DescrStatsW(df_speakers_stats_rep[variables[var]], weights=df_speakers_stats_rep[count], ddof=0)\n",
        "       df_speakers_stats_total_rep.at[\"total\",variables[var]] = weighted_stats.mean # computation of the mean\n",
        "       df_speakers_stats_total_rep.at[\"total\",variables[var+1]] = weighted_stats.std_mean # computation of the standard error of the mean\n",
        "  df_speakers_stats_total_rep.at['total',count] = df_speakers_stats_rep[count].sum()\n",
        "  "
      ],
      "metadata": {
        "id": "KZO7ieVi6Rkt"
      },
      "id": "KZO7ieVi6Rkt",
      "execution_count": null,
      "outputs": []
    },
    {
      "cell_type": "markdown",
      "source": [
        "### 4) Computations on the data needed for part 3) of the Analysis"
      ],
      "metadata": {
        "id": "1768533xBCj7"
      },
      "id": "1768533xBCj7"
    },
    {
      "cell_type": "markdown",
      "source": [
        "See below the description of the variables we will store in the columns. The rows will represent the years. \n",
        "- `Hi` for outlet having a High factual reporting\n",
        "  - `Mo` for Mostly factual reporting\n",
        "  - `Mi` for Mixed factual reportging\n",
        "- `Pol` for the average polarity score \n",
        "- `Pol_err` for average polarity error \n",
        "- `Len` for the average quote's length\n",
        "- `Len_err` for average quote's length error\n",
        "- `Count` for the occurence of democrats/republicans speaker in the given outlet having factual reportgin Hi/Mo/Mi "
      ],
      "metadata": {
        "id": "o3UxELb1CqCR"
      },
      "id": "o3UxELb1CqCR"
    },
    {
      "cell_type": "code",
      "source": [
        "time_scale = [2015,2016,2017,2018,2019,2020]\n",
        "# Define the dataframes storing the reslts \n",
        "col_name_FR = ['Mi_Pol', 'Mi_Pol_err', 'Mi_Len', 'Mi_Len_err', 'Mi_Count', 'Mo_Pol', 'Mo_Pol_err', 'Mo_Len', 'Mo_Len_err', 'Mo_Count', 'Hi_Pol', 'Hi_Pol_err', 'Hi_Len', 'Hi_Len_err', 'Hi_Count']\n",
        "# The democract df\n",
        "df_speakers_stats_dem_FR = pd.DataFrame(columns=col_name_FR, index=time_scale) # Stats of democrat speakers depending on the Factual Report score of the news outlets\n",
        "# The republican df \n",
        "df_speakers_stats_rep_FR = pd.DataFrame(columns=col_name_FR, index=time_scale) #Stats of Republican speakers depending on the Factual Report score of the news outlets\n",
        "\n",
        "\n",
        "for year in time_scale :\n",
        "\n",
        "  \n",
        "  # 1) Start by retrieving the data\n",
        "\n",
        "\n",
        "  # Temporary variables to stock intermediates means and weights for republican speakers\n",
        "  quotes_count_list_Mi_rep, quotes_count_list_Hi_rep, quotes_count_list_Mo_rep = [],[],[]\n",
        "  length_mean_list_Mi_rep, length_mean_list_Hi_rep, length_mean_list_Mo_rep = [],[],[]\n",
        "  compound_mean_list_Mi_rep, compound_mean_list_Hi_rep, compound_mean_list_Mo_rep = [],[],[]\n",
        "  # Temporary variables to stock intermediates means and weights for democrat speakers\n",
        "  quotes_count_list_Mi_dem, quotes_count_list_Hi_dem, quotes_count_list_Mo_dem = [],[],[]\n",
        "  length_mean_list_Mi_dem, length_mean_list_Hi_dem, length_mean_list_Mo_dem = [],[],[]\n",
        "  compound_mean_list_Mi_dem, compound_mean_list_Hi_dem, compound_mean_list_Mo_dem = [],[],[]\n",
        "\n",
        "  for row in political_US_outlets.iterrows() :\n",
        "    df_year_outlet = load_csv_to_df(year,row[1][\"domain\"]).dropna(subset=[\"qids\"])\n",
        "    # Make sure that we have a not empty dataframe \n",
        "    if not df_year_outlet.empty:\n",
        "      # Groupy by the QIDS, and aggregate by mean on quote_length and compound value\n",
        "      qids_group_by = df_year_outlet.groupby(\"qids\").agg({\"quote_length\" : \"mean\", \"compound\" : \"mean\"}).reset_index()\n",
        "      # Count the number of quotes per QIDS\n",
        "      qids_count = df_year_outlet.groupby(\"qids\").size()\n",
        "      \n",
        "      # Iterate on the QIDS/speakers of the given outlet and check whether they belong to democrat or republican \n",
        "      for qid in qids_group_by[\"qids\"].values:\n",
        "        # Check if the speaker is a DEMOCRAT\n",
        "        if qid in dem_speakers_QIDS : \n",
        "          # Check whether the outlet has a Mixed factual reporting\n",
        "          if row[1][\"Factual_reporting\"] == 3:\n",
        "            quotes_count_list_Mi_dem.append(qids_count.loc[qid])\n",
        "            length_mean_list_Mi_dem.append(qids_group_by[qids_group_by[\"qids\"] == qid][\"quote_length\"].values[0])\n",
        "            compound_mean_list_Mi_dem.append(qids_group_by[qids_group_by[\"qids\"] == qid][\"compound\"].values[0])\n",
        "          # Check whether the outlet has a Mostly factual reporting \n",
        "          if row[1][\"Factual_reporting\"] == 4:\n",
        "            quotes_count_list_Hi_dem.append(qids_count.loc[qid])\n",
        "            length_mean_list_Hi_dem.append(qids_group_by[qids_group_by[\"qids\"] == qid][\"quote_length\"].values[0])\n",
        "            compound_mean_list_Hi_dem.append(qids_group_by[qids_group_by[\"qids\"] == qid][\"compound\"].values[0])\n",
        "          # Check whether the outlet has a High factual reporting \n",
        "          if row[1][\"Factual_reporting\"] == 5:\n",
        "            quotes_count_list_Mo_dem.append(qids_count.loc[qid])\n",
        "            length_mean_list_Mo_dem.append(qids_group_by[qids_group_by[\"qids\"] == qid][\"quote_length\"].values[0])\n",
        "            compound_mean_list_Mo_dem.append(qids_group_by[qids_group_by[\"qids\"] == qid][\"compound\"].values[0])\n",
        "         # Check if the speaker is REPUBLICAN\n",
        "        if qid in rep_speakers_QIDS :\n",
        "\n",
        "          if row[1][\"Factual_reporting\"] == 3:\n",
        "            quotes_count_list_Mi_rep.append(qids_count.loc[qid])\n",
        "            length_mean_list_Mi_rep.append(qids_group_by[qids_group_by[\"qids\"] == qid][\"quote_length\"].values[0])\n",
        "            compound_mean_list_Mi_rep.append(qids_group_by[qids_group_by[\"qids\"] == qid][\"compound\"].values[0])\n",
        "\n",
        "          if row[1][\"Factual_reporting\"] == 4:\n",
        "            quotes_count_list_Hi_rep.append(qids_count.loc[qid])\n",
        "            length_mean_list_Hi_rep.append(qids_group_by[qids_group_by[\"qids\"] == qid][\"quote_length\"].values[0])\n",
        "            compound_mean_list_Hi_rep.append(qids_group_by[qids_group_by[\"qids\"] == qid][\"compound\"].values[0])\n",
        "\n",
        "          if row[1][\"Factual_reporting\"] == 5:\n",
        "            quotes_count_list_Mo_rep.append(qids_count.loc[qid])\n",
        "            length_mean_list_Mo_rep.append(qids_group_by[qids_group_by[\"qids\"] == qid][\"quote_length\"].values[0])\n",
        "            compound_mean_list_Mo_rep.append(qids_group_by[qids_group_by[\"qids\"] == qid][\"compound\"].values[0])\n",
        "          \n",
        "    \n",
        "    \n",
        "    \n",
        "  # 2) After retrieving the data, compute the STATISTICS\n",
        "  \n",
        "\n",
        "\n",
        "\n",
        "  #################################################### FOR DEMOCRATS #########################################################  \n",
        "\n",
        "  yearly_stats_dem_FR = [] # list to push in the final dataframe\n",
        "\n",
        "  #Mixed F-R outlets :\n",
        "\n",
        "  # Computation of mean and SEM for polarity score\n",
        "  weighted_stats_compound_Mi_dem = DescrStatsW(compound_mean_list_Mi_dem, weights=quotes_count_list_Mi_dem, ddof=0)\n",
        "  yearly_stats_dem_FR.append(weighted_stats_compound_Mi_dem.mean)\n",
        "  yearly_stats_dem_FR.append(weighted_stats_compound_Mi_dem.std_mean)\n",
        "\n",
        "  # Computation of mean and SEM for length\n",
        "  weighted_stats_length_Mi_dem = DescrStatsW(length_mean_list_Mi_dem, weights=quotes_count_list_Mi_dem, ddof=0)\n",
        "  yearly_stats_dem_FR.append(weighted_stats_length_Mi_dem.mean)\n",
        "  yearly_stats_dem_FR.append(weighted_stats_length_Mi_dem.std_mean)\n",
        "\n",
        "  #Count for Mixed F-R :\n",
        "  yearly_stats_dem_FR.append(np.array(quotes_count_list_Mi_dem).sum())\n",
        "\n",
        "  #Mostly F-R outlets :\n",
        "\n",
        "  # Computation of mean and SEM for polarity score\n",
        "  weighted_stats_compound_Mo_dem = DescrStatsW(compound_mean_list_Mo_dem, weights=quotes_count_list_Mo_dem, ddof=0)\n",
        "  yearly_stats_dem_FR.append(weighted_stats_compound_Mo_dem.mean)\n",
        "  yearly_stats_dem_FR.append(weighted_stats_compound_Mo_dem.std_mean)\n",
        "\n",
        "  # Computation of mean and SEM for length\n",
        "  weighted_stats_length_Mo_dem = DescrStatsW(length_mean_list_Mo_dem, weights=quotes_count_list_Mo_dem, ddof=0)\n",
        "  yearly_stats_dem_FR.append(weighted_stats_length_Mo_dem.mean)\n",
        "  yearly_stats_dem_FR.append(weighted_stats_length_Mo_dem.std_mean)\n",
        "\n",
        "  #Count for Mostly F-R :\n",
        "  yearly_stats_dem_FR.append(np.array(quotes_count_list_Mo_dem).sum())\n",
        "\n",
        "  #High F-R outlets :\n",
        "\n",
        "  # Computation of mean and SEM for polarity score\n",
        "  weighted_stats_compound_Hi_dem = DescrStatsW(compound_mean_list_Hi_dem, weights=quotes_count_list_Hi_dem, ddof=0)\n",
        "  yearly_stats_dem_FR.append(weighted_stats_compound_Hi_dem.mean)\n",
        "  yearly_stats_dem_FR.append(weighted_stats_compound_Hi_dem.std_mean)\n",
        "\n",
        "  # Computation of mean and SEM for length\n",
        "  weighted_stats_length_Hi_dem = DescrStatsW(length_mean_list_Hi_dem, weights=quotes_count_list_Hi_dem, ddof=0)\n",
        "  yearly_stats_dem_FR.append(weighted_stats_length_Hi_dem.mean)\n",
        "  yearly_stats_dem_FR.append(weighted_stats_length_Hi_dem.std_mean)\n",
        "\n",
        "  #Count for High F-R :\n",
        "  yearly_stats_dem_FR.append(np.array(quotes_count_list_Hi_dem).sum())\n",
        "\n",
        "  # Push the results into the df \n",
        "  df_speakers_stats_dem_FR.loc[year] = yearly_stats_dem_FR \n",
        "\n",
        "  #################################################### FOR REPUBLICAN #########################################################  \n",
        "\n",
        "  yearly_stats_rep_FR = [] # list to push in the final dataframe\n",
        "\n",
        "  #Mixed F-R outlets :\n",
        "\n",
        "  # Computation of mean and SEM for polarity score\n",
        "  weighted_stats_compound_Mi_rep = DescrStatsW(compound_mean_list_Mi_rep, weights=quotes_count_list_Mi_rep, ddof=0)\n",
        "  yearly_stats_rep_FR.append(weighted_stats_compound_Mi_rep.mean)\n",
        "  yearly_stats_rep_FR.append(weighted_stats_compound_Mi_rep.std_mean)\n",
        "\n",
        "  # Computation of mean and SEM for length\n",
        "  weighted_stats_length_Mi_rep = DescrStatsW(length_mean_list_Mi_rep, weights=quotes_count_list_Mi_rep, ddof=0)\n",
        "  yearly_stats_rep_FR.append(weighted_stats_length_Mi_rep.mean)\n",
        "  yearly_stats_rep_FR.append(weighted_stats_length_Mi_rep.std_mean)\n",
        "\n",
        "  #Count for Mixed F-R :\n",
        "  yearly_stats_rep_FR.append(np.array(quotes_count_list_Mi_rep).sum())\n",
        "\n",
        "  #Mostly F-R outlets :\n",
        "\n",
        "  # Computation of mean and SEM for polarity score\n",
        "  weighted_stats_compound_Mo_rep = DescrStatsW(compound_mean_list_Mo_rep, weights=quotes_count_list_Mo_rep, ddof=0)\n",
        "  yearly_stats_rep_FR.append(weighted_stats_compound_Mo_rep.mean)\n",
        "  yearly_stats_rep_FR.append(weighted_stats_compound_Mo_rep.std_mean)\n",
        "\n",
        "  # Computation of mean and SEM for length\n",
        "  weighted_stats_length_Mo_rep = DescrStatsW(length_mean_list_Mo_rep, weights=quotes_count_list_Mo_rep, ddof=0)\n",
        "  yearly_stats_rep_FR.append(weighted_stats_length_Mo_rep.mean)\n",
        "  yearly_stats_rep_FR.append(weighted_stats_length_Mo_rep.std_mean)\n",
        "\n",
        "  #Count for Mostly F-R :\n",
        "  yearly_stats_rep_FR.append(np.array(quotes_count_list_Mo_rep).sum())\n",
        "\n",
        "  #High F-R outlets :\n",
        "\n",
        "  # Computation of mean and SEM for polarity score\n",
        "  weighted_stats_compound_Hi_rep = DescrStatsW(compound_mean_list_Hi_rep, weights=quotes_count_list_Hi_rep, ddof=0)\n",
        "  yearly_stats_rep_FR.append(weighted_stats_compound_Hi_rep.mean)\n",
        "  yearly_stats_rep_FR.append(weighted_stats_compound_Hi_rep.std_mean)\n",
        "\n",
        "  # Computation of mean and SEM for length\n",
        "  weighted_stats_length_Hi_rep = DescrStatsW(length_mean_list_Hi_rep, weights=quotes_count_list_Hi_rep, ddof=0)\n",
        "  yearly_stats_rep_FR.append(weighted_stats_length_Hi_rep.mean)\n",
        "  yearly_stats_rep_FR.append(weighted_stats_length_Hi_rep.std_mean)\n",
        "\n",
        "  #Count for High F-R :\n",
        "  yearly_stats_rep_FR.append(np.array(quotes_count_list_Hi_rep).sum())\n",
        "\n",
        "  # Push the results into the df \n",
        "  df_speakers_stats_rep_FR.loc[year] = yearly_stats_rep_FR\n",
        "\n",
        "  # To keep track of the progress \n",
        "  print(\"Done for year: \" + str(year)) \n"
      ],
      "metadata": {
        "colab": {
          "base_uri": "https://localhost:8080/"
        },
        "id": "0oCOyVwjBB8E",
        "outputId": "f340f068-6cd3-437a-c942-d6b08bd36749"
      },
      "id": "0oCOyVwjBB8E",
      "execution_count": null,
      "outputs": [
        {
          "output_type": "stream",
          "name": "stdout",
          "text": [
            "Done for year: 2015\n",
            "Done for year: 2016\n",
            "Done for year: 2017\n",
            "Done for year: 2018\n",
            "Done for year: 2019\n",
            "Done for year: 2020\n"
          ]
        }
      ]
    },
    {
      "cell_type": "code",
      "source": [
        "df_speakers_stats_dem_FR.head(6)"
      ],
      "metadata": {
        "id": "R88UCA0OHXPJ",
        "colab": {
          "base_uri": "https://localhost:8080/",
          "height": 238
        },
        "outputId": "bc16d62f-f44c-4821-e456-f88d733bc865"
      },
      "id": "R88UCA0OHXPJ",
      "execution_count": null,
      "outputs": [
        {
          "output_type": "execute_result",
          "data": {
            "text/html": [
              "\n",
              "  <div id=\"df-c43e6d26-e5ac-4063-8919-395d73ed8cef\">\n",
              "    <div class=\"colab-df-container\">\n",
              "      <div>\n",
              "<style scoped>\n",
              "    .dataframe tbody tr th:only-of-type {\n",
              "        vertical-align: middle;\n",
              "    }\n",
              "\n",
              "    .dataframe tbody tr th {\n",
              "        vertical-align: top;\n",
              "    }\n",
              "\n",
              "    .dataframe thead th {\n",
              "        text-align: right;\n",
              "    }\n",
              "</style>\n",
              "<table border=\"1\" class=\"dataframe\">\n",
              "  <thead>\n",
              "    <tr style=\"text-align: right;\">\n",
              "      <th></th>\n",
              "      <th>Mi_Pol</th>\n",
              "      <th>Mi_Pol_err</th>\n",
              "      <th>Mi_Len</th>\n",
              "      <th>Mi_Len_err</th>\n",
              "      <th>Mi_Count</th>\n",
              "      <th>Mo_Pol</th>\n",
              "      <th>Mo_Pol_err</th>\n",
              "      <th>Mo_Len</th>\n",
              "      <th>Mo_Len_err</th>\n",
              "      <th>Mo_Count</th>\n",
              "      <th>Hi_Pol</th>\n",
              "      <th>Hi_Pol_err</th>\n",
              "      <th>Hi_Len</th>\n",
              "      <th>Hi_Len_err</th>\n",
              "      <th>Hi_Count</th>\n",
              "    </tr>\n",
              "  </thead>\n",
              "  <tbody>\n",
              "    <tr>\n",
              "      <th>2015</th>\n",
              "      <td>0.0723012</td>\n",
              "      <td>0.000317425</td>\n",
              "      <td>23.3242</td>\n",
              "      <td>0.0254302</td>\n",
              "      <td>21362</td>\n",
              "      <td>0.0796404</td>\n",
              "      <td>0.000325897</td>\n",
              "      <td>18.8352</td>\n",
              "      <td>0.0128262</td>\n",
              "      <td>30419</td>\n",
              "      <td>0.0903037</td>\n",
              "      <td>0.000415694</td>\n",
              "      <td>21.7629</td>\n",
              "      <td>0.010336</td>\n",
              "      <td>15054</td>\n",
              "    </tr>\n",
              "    <tr>\n",
              "      <th>2016</th>\n",
              "      <td>0.0871056</td>\n",
              "      <td>0.000341372</td>\n",
              "      <td>21.6114</td>\n",
              "      <td>0.0114391</td>\n",
              "      <td>19184</td>\n",
              "      <td>0.0888876</td>\n",
              "      <td>0.000337871</td>\n",
              "      <td>18.9696</td>\n",
              "      <td>0.014838</td>\n",
              "      <td>26407</td>\n",
              "      <td>0.0926098</td>\n",
              "      <td>0.000516868</td>\n",
              "      <td>21.0863</td>\n",
              "      <td>0.0141785</td>\n",
              "      <td>8370</td>\n",
              "    </tr>\n",
              "    <tr>\n",
              "      <th>2017</th>\n",
              "      <td>0.0539171</td>\n",
              "      <td>0.000567936</td>\n",
              "      <td>21.6034</td>\n",
              "      <td>0.0249857</td>\n",
              "      <td>11533</td>\n",
              "      <td>0.059722</td>\n",
              "      <td>0.000553209</td>\n",
              "      <td>18.8875</td>\n",
              "      <td>0.0207996</td>\n",
              "      <td>16154</td>\n",
              "      <td>0.0574941</td>\n",
              "      <td>0.000584805</td>\n",
              "      <td>22.0722</td>\n",
              "      <td>0.0193074</td>\n",
              "      <td>7205</td>\n",
              "    </tr>\n",
              "    <tr>\n",
              "      <th>2018</th>\n",
              "      <td>0.0689519</td>\n",
              "      <td>0.000508844</td>\n",
              "      <td>22.2841</td>\n",
              "      <td>0.0231573</td>\n",
              "      <td>12455</td>\n",
              "      <td>0.0693501</td>\n",
              "      <td>0.000571215</td>\n",
              "      <td>18.8999</td>\n",
              "      <td>0.0239008</td>\n",
              "      <td>13742</td>\n",
              "      <td>0.058127</td>\n",
              "      <td>0.000787046</td>\n",
              "      <td>22.9522</td>\n",
              "      <td>0.0268946</td>\n",
              "      <td>5372</td>\n",
              "    </tr>\n",
              "    <tr>\n",
              "      <th>2019</th>\n",
              "      <td>0.0602379</td>\n",
              "      <td>0.000231444</td>\n",
              "      <td>22.9232</td>\n",
              "      <td>0.0131302</td>\n",
              "      <td>31727</td>\n",
              "      <td>0.0636955</td>\n",
              "      <td>0.000298361</td>\n",
              "      <td>18.5773</td>\n",
              "      <td>0.0135184</td>\n",
              "      <td>31201</td>\n",
              "      <td>0.0596891</td>\n",
              "      <td>0.000421193</td>\n",
              "      <td>23.3859</td>\n",
              "      <td>0.0214751</td>\n",
              "      <td>6338</td>\n",
              "    </tr>\n",
              "    <tr>\n",
              "      <th>2020</th>\n",
              "      <td>0.0590225</td>\n",
              "      <td>0.000502338</td>\n",
              "      <td>22.9882</td>\n",
              "      <td>0.028254</td>\n",
              "      <td>11712</td>\n",
              "      <td>0.056716</td>\n",
              "      <td>0.000654717</td>\n",
              "      <td>18.4144</td>\n",
              "      <td>0.0248082</td>\n",
              "      <td>12587</td>\n",
              "      <td>0.0698214</td>\n",
              "      <td>0.00131289</td>\n",
              "      <td>23.4393</td>\n",
              "      <td>0.046793</td>\n",
              "      <td>2176</td>\n",
              "    </tr>\n",
              "  </tbody>\n",
              "</table>\n",
              "</div>\n",
              "      <button class=\"colab-df-convert\" onclick=\"convertToInteractive('df-c43e6d26-e5ac-4063-8919-395d73ed8cef')\"\n",
              "              title=\"Convert this dataframe to an interactive table.\"\n",
              "              style=\"display:none;\">\n",
              "        \n",
              "  <svg xmlns=\"http://www.w3.org/2000/svg\" height=\"24px\"viewBox=\"0 0 24 24\"\n",
              "       width=\"24px\">\n",
              "    <path d=\"M0 0h24v24H0V0z\" fill=\"none\"/>\n",
              "    <path d=\"M18.56 5.44l.94 2.06.94-2.06 2.06-.94-2.06-.94-.94-2.06-.94 2.06-2.06.94zm-11 1L8.5 8.5l.94-2.06 2.06-.94-2.06-.94L8.5 2.5l-.94 2.06-2.06.94zm10 10l.94 2.06.94-2.06 2.06-.94-2.06-.94-.94-2.06-.94 2.06-2.06.94z\"/><path d=\"M17.41 7.96l-1.37-1.37c-.4-.4-.92-.59-1.43-.59-.52 0-1.04.2-1.43.59L10.3 9.45l-7.72 7.72c-.78.78-.78 2.05 0 2.83L4 21.41c.39.39.9.59 1.41.59.51 0 1.02-.2 1.41-.59l7.78-7.78 2.81-2.81c.8-.78.8-2.07 0-2.86zM5.41 20L4 18.59l7.72-7.72 1.47 1.35L5.41 20z\"/>\n",
              "  </svg>\n",
              "      </button>\n",
              "      \n",
              "  <style>\n",
              "    .colab-df-container {\n",
              "      display:flex;\n",
              "      flex-wrap:wrap;\n",
              "      gap: 12px;\n",
              "    }\n",
              "\n",
              "    .colab-df-convert {\n",
              "      background-color: #E8F0FE;\n",
              "      border: none;\n",
              "      border-radius: 50%;\n",
              "      cursor: pointer;\n",
              "      display: none;\n",
              "      fill: #1967D2;\n",
              "      height: 32px;\n",
              "      padding: 0 0 0 0;\n",
              "      width: 32px;\n",
              "    }\n",
              "\n",
              "    .colab-df-convert:hover {\n",
              "      background-color: #E2EBFA;\n",
              "      box-shadow: 0px 1px 2px rgba(60, 64, 67, 0.3), 0px 1px 3px 1px rgba(60, 64, 67, 0.15);\n",
              "      fill: #174EA6;\n",
              "    }\n",
              "\n",
              "    [theme=dark] .colab-df-convert {\n",
              "      background-color: #3B4455;\n",
              "      fill: #D2E3FC;\n",
              "    }\n",
              "\n",
              "    [theme=dark] .colab-df-convert:hover {\n",
              "      background-color: #434B5C;\n",
              "      box-shadow: 0px 1px 3px 1px rgba(0, 0, 0, 0.15);\n",
              "      filter: drop-shadow(0px 1px 2px rgba(0, 0, 0, 0.3));\n",
              "      fill: #FFFFFF;\n",
              "    }\n",
              "  </style>\n",
              "\n",
              "      <script>\n",
              "        const buttonEl =\n",
              "          document.querySelector('#df-c43e6d26-e5ac-4063-8919-395d73ed8cef button.colab-df-convert');\n",
              "        buttonEl.style.display =\n",
              "          google.colab.kernel.accessAllowed ? 'block' : 'none';\n",
              "\n",
              "        async function convertToInteractive(key) {\n",
              "          const element = document.querySelector('#df-c43e6d26-e5ac-4063-8919-395d73ed8cef');\n",
              "          const dataTable =\n",
              "            await google.colab.kernel.invokeFunction('convertToInteractive',\n",
              "                                                     [key], {});\n",
              "          if (!dataTable) return;\n",
              "\n",
              "          const docLinkHtml = 'Like what you see? Visit the ' +\n",
              "            '<a target=\"_blank\" href=https://colab.research.google.com/notebooks/data_table.ipynb>data table notebook</a>'\n",
              "            + ' to learn more about interactive tables.';\n",
              "          element.innerHTML = '';\n",
              "          dataTable['output_type'] = 'display_data';\n",
              "          await google.colab.output.renderOutput(dataTable, element);\n",
              "          const docLink = document.createElement('div');\n",
              "          docLink.innerHTML = docLinkHtml;\n",
              "          element.appendChild(docLink);\n",
              "        }\n",
              "      </script>\n",
              "    </div>\n",
              "  </div>\n",
              "  "
            ],
            "text/plain": [
              "         Mi_Pol   Mi_Pol_err   Mi_Len  ...   Hi_Len Hi_Len_err Hi_Count\n",
              "2015  0.0723012  0.000317425  23.3242  ...  21.7629   0.010336    15054\n",
              "2016  0.0871056  0.000341372  21.6114  ...  21.0863  0.0141785     8370\n",
              "2017  0.0539171  0.000567936  21.6034  ...  22.0722  0.0193074     7205\n",
              "2018  0.0689519  0.000508844  22.2841  ...  22.9522  0.0268946     5372\n",
              "2019  0.0602379  0.000231444  22.9232  ...  23.3859  0.0214751     6338\n",
              "2020  0.0590225  0.000502338  22.9882  ...  23.4393   0.046793     2176\n",
              "\n",
              "[6 rows x 15 columns]"
            ]
          },
          "metadata": {},
          "execution_count": 32
        }
      ]
    },
    {
      "cell_type": "markdown",
      "source": [
        "Then we create two new dataframes (one for Democrats and one for Republicans) that will contain a weighted mean of each variable over all years"
      ],
      "metadata": {
        "id": "sUyThjXf_GDF"
      },
      "id": "sUyThjXf_GDF"
    },
    {
      "cell_type": "code",
      "source": [
        "df_speakers_stats_total_dem_FR = pd.DataFrame(columns=col_name_FR,index=[\"total\"]) # Dataframe containing overall weighted mean for every factual reporting and democrat speakers\n",
        "df_speakers_stats_total_rep_FR = pd.DataFrame(columns=col_name_FR,index=[\"total\"]) # Dataframe containing overall weighted mean for every factual reporting and democrat speakers"
      ],
      "metadata": {
        "id": "uZUDcV8UYDTp"
      },
      "id": "uZUDcV8UYDTp",
      "execution_count": null,
      "outputs": []
    },
    {
      "cell_type": "markdown",
      "source": [
        "Now that both dataframes are created, we compute the means and fill them"
      ],
      "metadata": {
        "id": "Uc36m_W2DrlN"
      },
      "id": "Uc36m_W2DrlN"
    },
    {
      "cell_type": "code",
      "source": [
        "# Computation for Democrat speakers\n",
        "for pref in [\"Mi_\",\"Mo_\",\"Hi_\"]:\n",
        "  variables = [pref+\"Pol\",pref+\"Pol_err\",pref+\"Len\",pref+\"Len_err\"]\n",
        "  count = pref+\"Count\"\n",
        "  for var in [0,2] :\n",
        "       weighted_stats = DescrStatsW(df_speakers_stats_dem_FR[variables[var]], weights=df_speakers_stats_dem_FR[count], ddof=0)\n",
        "       df_speakers_stats_total_dem_FR.at['total',variables[var]] = weighted_stats.mean # Computation of the mean\n",
        "       df_speakers_stats_total_dem_FR.at[\"total\",variables[var+1]] = weighted_stats.std_mean # Computation of the standard error of the mean\n",
        "  df_speakers_stats_total_dem_FR.at['total',count] = df_speakers_stats_dem_FR[count].sum()\n",
        "\n",
        "# Computation for Republicans speakers    \n",
        "for pref in [\"Mi_\",\"Mo_\",\"Hi_\"]:\n",
        "  variables = [pref+\"Pol\",pref+\"Pol_err\",pref+\"Len\",pref+\"Len_err\"]\n",
        "  count = pref+\"Count\"\n",
        "  for var in [0,2] :\n",
        "       weighted_stats = DescrStatsW(df_speakers_stats_rep_FR[variables[var]], weights=df_speakers_stats_rep_FR[count], ddof=0)\n",
        "       df_speakers_stats_total_rep_FR.at[\"total\",variables[var]] = weighted_stats.mean # Computation of the mean\n",
        "       df_speakers_stats_total_rep_FR.at[\"total\",variables[var+1]] = weighted_stats.std_mean # Computation of the standard error of the mean\n",
        "  df_speakers_stats_total_rep_FR.at['total',count] = df_speakers_stats_rep_FR[count].sum()"
      ],
      "metadata": {
        "id": "BlpgN5AObmLY"
      },
      "id": "BlpgN5AObmLY",
      "execution_count": null,
      "outputs": []
    },
    {
      "cell_type": "markdown",
      "source": [
        "For the last graph we want to compute the apolitical speakers mean polarity."
      ],
      "metadata": {
        "id": "ZdgrPR0LuRCG"
      },
      "id": "ZdgrPR0LuRCG"
    },
    {
      "cell_type": "code",
      "source": [
        "time_scale = [2015,2016,2017,2018,2019,2020]\n",
        "length_mean_apo = []\n",
        "length_error_apo = 0\n",
        "compound_mean_apo = [] #Mean of the polarity score\n",
        "compound_error_apo = 0\n",
        "quotes_weight_apo = []\n",
        "\n",
        "for year in time_scale :\n",
        "  for row in political_US_outlets.iterrows() :\n",
        "    df_year_outlet = load_csv_to_df(year,row[1][\"domain\"]).dropna(subset=[\"qids\"])\n",
        "    # Make sure that we have a not empty dataframe \n",
        "    if not df_year_outlet.empty:\n",
        "      # Groupy by the QIDS, and aggregate by mean on quote_length and compound value\n",
        "      qids_group_by = df_year_outlet.groupby(\"qids\").agg({\"quote_length\" : \"mean\", \"compound\" : \"mean\"}).reset_index()\n",
        "      # Count the number of quotes per QIDS\n",
        "      qids_count = df_year_outlet.groupby(\"qids\").size()\n",
        "      # Iterate on the QIDS/speakers of the given outlet and check whether they belong to democrat or republican \n",
        "      for qid in qids_group_by[\"qids\"].values:\n",
        "        # Check if the speaker is apolical\n",
        "        if qid in apo_speakers_QIDS :\n",
        "          quotes_weight_apo.append(qids_count.loc[qid])\n",
        "          length_mean_apo.append(qids_group_by[qids_group_by[\"qids\"] == qid][\"quote_length\"].values[0])\n",
        "          compound_mean_apo.append(qids_group_by[qids_group_by[\"qids\"] == qid][\"compound\"].values[0])\n",
        "\n",
        "  print(\"Computation done for year : \" + str(year))\n",
        "\n",
        "# Computation of weighted mean and standard error of the mean for the length\n",
        "weighted_stats_length = DescrStatsW(length_mean_apo, weights=quotes_weight_apo, ddof=0)\n",
        "length_mean_apo = weighted_stats_length.mean\n",
        "length_error_apo = weighted_stats_length.std_mean\n",
        "\n",
        "# Computation of weighted mean and standard error of the mean for the polarity score\n",
        "weighted_stats_compound = DescrStatsW(compound_mean_apo, weights=quotes_weight_apo, ddof=0) # We use this class from statsmodel.stats for the computation\n",
        "compound_mean_apo = weighted_stats_compound.mean\n",
        "compound_error_apo = weighted_stats_compound.std_mean"
      ],
      "metadata": {
        "colab": {
          "base_uri": "https://localhost:8080/"
        },
        "id": "kAlSzLANuMhe",
        "outputId": "da6ed1b6-64e1-494f-d40f-4bd2ff8dda8d"
      },
      "id": "kAlSzLANuMhe",
      "execution_count": null,
      "outputs": [
        {
          "output_type": "stream",
          "name": "stdout",
          "text": [
            "Computation done for year : 2015\n",
            "Computation done for year : 2016\n",
            "Computation done for year : 2017\n",
            "Computation done for year : 2018\n",
            "Computation done for year : 2019\n",
            "Computation done for year : 2020\n"
          ]
        }
      ]
    },
    {
      "cell_type": "code",
      "source": [
        "political_US_outlets.head()"
      ],
      "metadata": {
        "colab": {
          "base_uri": "https://localhost:8080/",
          "height": 206
        },
        "id": "rKJ0fHUpBypC",
        "outputId": "14114576-d82b-4103-d020-c77a71cce725"
      },
      "id": "rKJ0fHUpBypC",
      "execution_count": null,
      "outputs": [
        {
          "output_type": "execute_result",
          "data": {
            "text/html": [
              "\n",
              "  <div id=\"df-78d872af-e249-4fbc-8d98-a4b273f1df4d\">\n",
              "    <div class=\"colab-df-container\">\n",
              "      <div>\n",
              "<style scoped>\n",
              "    .dataframe tbody tr th:only-of-type {\n",
              "        vertical-align: middle;\n",
              "    }\n",
              "\n",
              "    .dataframe tbody tr th {\n",
              "        vertical-align: top;\n",
              "    }\n",
              "\n",
              "    .dataframe thead th {\n",
              "        text-align: right;\n",
              "    }\n",
              "</style>\n",
              "<table border=\"1\" class=\"dataframe\">\n",
              "  <thead>\n",
              "    <tr style=\"text-align: right;\">\n",
              "      <th></th>\n",
              "      <th>domain</th>\n",
              "      <th>Year_by_year</th>\n",
              "      <th>Cumulative</th>\n",
              "      <th>Nationality</th>\n",
              "      <th>Political_leaning</th>\n",
              "      <th>Content_creator</th>\n",
              "      <th>Traffic</th>\n",
              "      <th>Factual_reporting</th>\n",
              "    </tr>\n",
              "  </thead>\n",
              "  <tbody>\n",
              "    <tr>\n",
              "      <th>2</th>\n",
              "      <td>latimes.com</td>\n",
              "      <td>0</td>\n",
              "      <td>1</td>\n",
              "      <td>US</td>\n",
              "      <td>-1.0</td>\n",
              "      <td>1</td>\n",
              "      <td>High</td>\n",
              "      <td>5.0</td>\n",
              "    </tr>\n",
              "    <tr>\n",
              "      <th>3</th>\n",
              "      <td>breitbart.com</td>\n",
              "      <td>1</td>\n",
              "      <td>1</td>\n",
              "      <td>US</td>\n",
              "      <td>3.0</td>\n",
              "      <td>1</td>\n",
              "      <td>High</td>\n",
              "      <td>3.0</td>\n",
              "    </tr>\n",
              "    <tr>\n",
              "      <th>7</th>\n",
              "      <td>wtop.com</td>\n",
              "      <td>1</td>\n",
              "      <td>0</td>\n",
              "      <td>US</td>\n",
              "      <td>0.0</td>\n",
              "      <td>1</td>\n",
              "      <td>NaN</td>\n",
              "      <td>5.0</td>\n",
              "    </tr>\n",
              "    <tr>\n",
              "      <th>13</th>\n",
              "      <td>chicagotribune.com</td>\n",
              "      <td>0</td>\n",
              "      <td>1</td>\n",
              "      <td>US</td>\n",
              "      <td>1.0</td>\n",
              "      <td>1</td>\n",
              "      <td>High</td>\n",
              "      <td>5.0</td>\n",
              "    </tr>\n",
              "    <tr>\n",
              "      <th>14</th>\n",
              "      <td>sfgate.com</td>\n",
              "      <td>1</td>\n",
              "      <td>1</td>\n",
              "      <td>US</td>\n",
              "      <td>-1.0</td>\n",
              "      <td>1</td>\n",
              "      <td>High</td>\n",
              "      <td>5.0</td>\n",
              "    </tr>\n",
              "  </tbody>\n",
              "</table>\n",
              "</div>\n",
              "      <button class=\"colab-df-convert\" onclick=\"convertToInteractive('df-78d872af-e249-4fbc-8d98-a4b273f1df4d')\"\n",
              "              title=\"Convert this dataframe to an interactive table.\"\n",
              "              style=\"display:none;\">\n",
              "        \n",
              "  <svg xmlns=\"http://www.w3.org/2000/svg\" height=\"24px\"viewBox=\"0 0 24 24\"\n",
              "       width=\"24px\">\n",
              "    <path d=\"M0 0h24v24H0V0z\" fill=\"none\"/>\n",
              "    <path d=\"M18.56 5.44l.94 2.06.94-2.06 2.06-.94-2.06-.94-.94-2.06-.94 2.06-2.06.94zm-11 1L8.5 8.5l.94-2.06 2.06-.94-2.06-.94L8.5 2.5l-.94 2.06-2.06.94zm10 10l.94 2.06.94-2.06 2.06-.94-2.06-.94-.94-2.06-.94 2.06-2.06.94z\"/><path d=\"M17.41 7.96l-1.37-1.37c-.4-.4-.92-.59-1.43-.59-.52 0-1.04.2-1.43.59L10.3 9.45l-7.72 7.72c-.78.78-.78 2.05 0 2.83L4 21.41c.39.39.9.59 1.41.59.51 0 1.02-.2 1.41-.59l7.78-7.78 2.81-2.81c.8-.78.8-2.07 0-2.86zM5.41 20L4 18.59l7.72-7.72 1.47 1.35L5.41 20z\"/>\n",
              "  </svg>\n",
              "      </button>\n",
              "      \n",
              "  <style>\n",
              "    .colab-df-container {\n",
              "      display:flex;\n",
              "      flex-wrap:wrap;\n",
              "      gap: 12px;\n",
              "    }\n",
              "\n",
              "    .colab-df-convert {\n",
              "      background-color: #E8F0FE;\n",
              "      border: none;\n",
              "      border-radius: 50%;\n",
              "      cursor: pointer;\n",
              "      display: none;\n",
              "      fill: #1967D2;\n",
              "      height: 32px;\n",
              "      padding: 0 0 0 0;\n",
              "      width: 32px;\n",
              "    }\n",
              "\n",
              "    .colab-df-convert:hover {\n",
              "      background-color: #E2EBFA;\n",
              "      box-shadow: 0px 1px 2px rgba(60, 64, 67, 0.3), 0px 1px 3px 1px rgba(60, 64, 67, 0.15);\n",
              "      fill: #174EA6;\n",
              "    }\n",
              "\n",
              "    [theme=dark] .colab-df-convert {\n",
              "      background-color: #3B4455;\n",
              "      fill: #D2E3FC;\n",
              "    }\n",
              "\n",
              "    [theme=dark] .colab-df-convert:hover {\n",
              "      background-color: #434B5C;\n",
              "      box-shadow: 0px 1px 3px 1px rgba(0, 0, 0, 0.15);\n",
              "      filter: drop-shadow(0px 1px 2px rgba(0, 0, 0, 0.3));\n",
              "      fill: #FFFFFF;\n",
              "    }\n",
              "  </style>\n",
              "\n",
              "      <script>\n",
              "        const buttonEl =\n",
              "          document.querySelector('#df-78d872af-e249-4fbc-8d98-a4b273f1df4d button.colab-df-convert');\n",
              "        buttonEl.style.display =\n",
              "          google.colab.kernel.accessAllowed ? 'block' : 'none';\n",
              "\n",
              "        async function convertToInteractive(key) {\n",
              "          const element = document.querySelector('#df-78d872af-e249-4fbc-8d98-a4b273f1df4d');\n",
              "          const dataTable =\n",
              "            await google.colab.kernel.invokeFunction('convertToInteractive',\n",
              "                                                     [key], {});\n",
              "          if (!dataTable) return;\n",
              "\n",
              "          const docLinkHtml = 'Like what you see? Visit the ' +\n",
              "            '<a target=\"_blank\" href=https://colab.research.google.com/notebooks/data_table.ipynb>data table notebook</a>'\n",
              "            + ' to learn more about interactive tables.';\n",
              "          element.innerHTML = '';\n",
              "          dataTable['output_type'] = 'display_data';\n",
              "          await google.colab.output.renderOutput(dataTable, element);\n",
              "          const docLink = document.createElement('div');\n",
              "          docLink.innerHTML = docLinkHtml;\n",
              "          element.appendChild(docLink);\n",
              "        }\n",
              "      </script>\n",
              "    </div>\n",
              "  </div>\n",
              "  "
            ],
            "text/plain": [
              "                domain  Year_by_year  ...  Traffic Factual_reporting\n",
              "2          latimes.com             0  ...     High               5.0\n",
              "3        breitbart.com             1  ...     High               3.0\n",
              "7             wtop.com             1  ...      NaN               5.0\n",
              "13  chicagotribune.com             0  ...     High               5.0\n",
              "14          sfgate.com             1  ...     High               5.0\n",
              "\n",
              "[5 rows x 8 columns]"
            ]
          },
          "metadata": {},
          "execution_count": 36
        }
      ]
    },
    {
      "cell_type": "markdown",
      "source": [
        "Computation of data for the analysis of the correlation between the factual reporting and websites ratio of speakers from their own orientation and from the oposite orientation"
      ],
      "metadata": {
        "id": "6YM3hEaO9rPH"
      },
      "id": "6YM3hEaO9rPH"
    },
    {
      "cell_type": "code",
      "source": [
        "time_scale = [2015,2016,2017,2018,2019,2020]\n",
        "\n",
        "quotes_count_dem_list = []\n",
        "quotes_count_rep_list = []\n",
        "\n",
        "for outlet in political_US_outlets.iterrows():\n",
        "  quotes_count_dem = 0\n",
        "  quotes_count_rep = 0\n",
        "  for year in time_scale:\n",
        "    df_year_outlet = load_csv_to_df(year,outlet[1][\"domain\"])#.dropna(subset=[\"qids\"])\n",
        "    # Make sure that we have a not empty dataframe \n",
        "    if not df_year_outlet.empty:\n",
        "      # Count the number of quotes per QIDS\n",
        "      qids_count = df_year_outlet.groupby(\"qids\").size()\n",
        "      # Iterate on the QIDS/speakers of the given outlet and check whether they belong to democrat or republican \n",
        "      for qid in qids_count.index.values:\n",
        "        # Check if the speaker is a Democrat\n",
        "        if qid in dem_speakers_QIDS :\n",
        "          quotes_count_dem += qids_count.loc[qid]\n",
        "        # Check if the speaker is a Republican\n",
        "        if qid in rep_speakers_QIDS :\n",
        "          quotes_count_rep += qids_count.loc[qid]\n",
        "  quotes_count_dem_list.append(quotes_count_dem)\n",
        "  quotes_count_rep_list.append(quotes_count_rep)\n",
        "  print(\"Computation done for news outlet : \" + outlet[1][\"domain\"])\n",
        "  \n",
        "political_US_outlets[\"dem_count\"]=quotes_count_dem_list\n",
        "political_US_outlets[\"rep_count\"]=quotes_count_rep_list"
      ],
      "metadata": {
        "colab": {
          "base_uri": "https://localhost:8080/"
        },
        "id": "YV6Wqvyb95BJ",
        "outputId": "de8fada8-3ce6-457c-d0d8-c4aad358591e"
      },
      "id": "YV6Wqvyb95BJ",
      "execution_count": null,
      "outputs": [
        {
          "output_type": "stream",
          "name": "stdout",
          "text": [
            "Computation done for news outlet : latimes.com\n",
            "Computation done for news outlet : breitbart.com\n",
            "Computation done for news outlet : wtop.com\n",
            "Computation done for news outlet : chicagotribune.com\n",
            "Computation done for news outlet : sfgate.com\n",
            "Computation done for news outlet : upi.com\n",
            "Computation done for news outlet : chron.com\n",
            "Computation done for news outlet : cnn.com\n",
            "Computation done for news outlet : nytimes.com\n",
            "Computation done for news outlet : thehill.com\n",
            "Computation done for news outlet : washingtonpost.com\n",
            "Computation done for news outlet : mysanantonio.com\n",
            "Computation done for news outlet : seattletimes.com\n",
            "Computation done for news outlet : washingtontimes.com\n",
            "Computation done for news outlet : philly.com\n",
            "Computation done for news outlet : newsok.com\n",
            "Computation done for news outlet : cbsnews.com\n",
            "Computation done for news outlet : foxnews.com\n",
            "Computation done for news outlet : startribune.com\n"
          ]
        },
        {
          "output_type": "stream",
          "name": "stderr",
          "text": [
            "/usr/local/lib/python3.7/dist-packages/ipykernel_launcher.py:27: SettingWithCopyWarning: \n",
            "A value is trying to be set on a copy of a slice from a DataFrame.\n",
            "Try using .loc[row_indexer,col_indexer] = value instead\n",
            "\n",
            "See the caveats in the documentation: https://pandas.pydata.org/pandas-docs/stable/user_guide/indexing.html#returning-a-view-versus-a-copy\n",
            "/usr/local/lib/python3.7/dist-packages/ipykernel_launcher.py:28: SettingWithCopyWarning: \n",
            "A value is trying to be set on a copy of a slice from a DataFrame.\n",
            "Try using .loc[row_indexer,col_indexer] = value instead\n",
            "\n",
            "See the caveats in the documentation: https://pandas.pydata.org/pandas-docs/stable/user_guide/indexing.html#returning-a-view-versus-a-copy\n"
          ]
        }
      ]
    },
    {
      "cell_type": "code",
      "source": [
        "political_US_outlets[\"speaker_ratio\"]=political_US_outlets[\"dem_count\"]/(political_US_outlets[\"dem_count\"]+political_US_outlets[\"rep_count\"])"
      ],
      "metadata": {
        "colab": {
          "base_uri": "https://localhost:8080/"
        },
        "id": "maXZj7Xjb7Ob",
        "outputId": "c1a0fe82-0e76-452c-d98f-016b51b86551"
      },
      "id": "maXZj7Xjb7Ob",
      "execution_count": null,
      "outputs": [
        {
          "output_type": "stream",
          "name": "stderr",
          "text": [
            "/usr/local/lib/python3.7/dist-packages/ipykernel_launcher.py:1: SettingWithCopyWarning: \n",
            "A value is trying to be set on a copy of a slice from a DataFrame.\n",
            "Try using .loc[row_indexer,col_indexer] = value instead\n",
            "\n",
            "See the caveats in the documentation: https://pandas.pydata.org/pandas-docs/stable/user_guide/indexing.html#returning-a-view-versus-a-copy\n",
            "  \"\"\"Entry point for launching an IPython kernel.\n"
          ]
        }
      ]
    },
    {
      "cell_type": "markdown",
      "metadata": {
        "id": "EHuixGYMWK2U"
      },
      "source": [
        "## E) Data Analysis"
      ],
      "id": "EHuixGYMWK2U"
    },
    {
      "cell_type": "markdown",
      "source": [
        "### Introduction\n",
        "\n"
      ],
      "metadata": {
        "id": "IlL6Gbvvq2cJ"
      },
      "id": "IlL6Gbvvq2cJ"
    },
    {
      "cell_type": "markdown",
      "source": [
        "In this cell we show that the mean and median are sufficiently close and that the k of power law is superior to 2. "
      ],
      "metadata": {
        "id": "5Tx3vesop41K"
      },
      "id": "5Tx3vesop41K"
    },
    {
      "cell_type": "markdown",
      "source": [
        "### 0) Before all : bias check\n",
        "\n",
        "We decided to use the mean as a metric in our datastory because it is better understood by the general public than the median.\n",
        "\n",
        "Sanity check: Although the distribution of quotes resembles that of power law along certain values (especially between quotes of length 30 and 100), we determined that the `k` of the power laws is roughly equals to 4.2. According to the lectures, this implies that the mean is defined. And actually it only slightly differs from the median. So we can use the mean as a metric. "
      ],
      "metadata": {
        "id": "MgPZMAKeM0Vb"
      },
      "id": "MgPZMAKeM0Vb"
    },
    {
      "cell_type": "code",
      "source": [
        "path = drive+\"/Distribution_plot/\"+'all_years_counts_quote_length.csv'\n",
        "data_length_all_years = pd.read_csv(path)\n",
        "# Rename the columns for clarity \n",
        "data_length_all_years.columns = [\"irrelevant\", \"x_vals\", \"y_vals\"]\n",
        "sns.histplot(data=data_length_all_years, x=\"x_vals\", y=\"y_vals\", log_scale=True, bins=400).set(title=\"Distribution of quotes' length : Log-Log axes\", xlabel=\"Quote length\", ylabel=\"Occurence\")"
      ],
      "metadata": {
        "colab": {
          "base_uri": "https://localhost:8080/",
          "height": 351
        },
        "id": "ZWNamkpdoAB4",
        "outputId": "3d7f2cd3-5483-423d-f56d-c8b18ab688d5"
      },
      "id": "ZWNamkpdoAB4",
      "execution_count": null,
      "outputs": [
        {
          "output_type": "execute_result",
          "data": {
            "text/plain": [
              "[Text(0, 0.5, 'Occurence'),\n",
              " Text(0.5, 0, 'Quote length'),\n",
              " Text(0.5, 1.0, \"Distribution of quotes' length : Log-Log axes\")]"
            ]
          },
          "metadata": {},
          "execution_count": 20
        },
        {
          "output_type": "display_data",
          "data": {
            "image/png": "[encoded data removed]",
            "text/plain": [
              "<Figure size 432x288 with 1 Axes>"
            ]
          },
          "metadata": {
            "needs_background": "light"
          }
        }
      ]
    },
    {
      "cell_type": "code",
      "source": [
        "# Select the values between quote length of 30 and 100 (the part resembling a power law (linear trend on log-log plot))\n",
        "#val_lin = dict_quote_len_year[2020].loc[30.0:100.0].reset_index()\n",
        "val_lin = data_length_all_years.loc[30.0:100.0]\n",
        "# Convert to logarithmic values\n",
        "val_lin[[\"x_vals\", \"y_vals\"]]= np.log(val_lin[[\"x_vals\", \"y_vals\"]])\n",
        "# Run a simple linear regression and check the slope or k the power law \n",
        "mod = smf.ols(formula='y_vals ~ x_vals', data=val_lin)\n",
        "res = mod.fit()\n",
        "res.summary()"
      ],
      "metadata": {
        "id": "Uyp9eG23p1xE",
        "colab": {
          "base_uri": "https://localhost:8080/",
          "height": 556
        },
        "outputId": "82deda07-c308-4079-dd6e-9c29f605d078"
      },
      "id": "Uyp9eG23p1xE",
      "execution_count": null,
      "outputs": [
        {
          "output_type": "stream",
          "name": "stderr",
          "text": [
            "/usr/local/lib/python3.7/dist-packages/pandas/core/frame.py:2963: SettingWithCopyWarning: \n",
            "A value is trying to be set on a copy of a slice from a DataFrame.\n",
            "Try using .loc[row_indexer,col_indexer] = value instead\n",
            "\n",
            "See the caveats in the documentation: https://pandas.pydata.org/pandas-docs/stable/user_guide/indexing.html#returning-a-view-versus-a-copy\n",
            "  self[k1] = value[k2]\n"
          ]
        },
        {
          "output_type": "execute_result",
          "data": {
            "text/html": [
              "<table class=\"simpletable\">\n",
              "<caption>OLS Regression Results</caption>\n",
              "<tr>\n",
              "  <th>Dep. Variable:</th>         <td>y_vals</td>      <th>  R-squared:         </th> <td>   0.992</td>\n",
              "</tr>\n",
              "<tr>\n",
              "  <th>Model:</th>                   <td>OLS</td>       <th>  Adj. R-squared:    </th> <td>   0.992</td>\n",
              "</tr>\n",
              "<tr>\n",
              "  <th>Method:</th>             <td>Least Squares</td>  <th>  F-statistic:       </th> <td>   8740.</td>\n",
              "</tr>\n",
              "<tr>\n",
              "  <th>Date:</th>             <td>Fri, 17 Dec 2021</td> <th>  Prob (F-statistic):</th> <td>2.11e-74</td>\n",
              "</tr>\n",
              "<tr>\n",
              "  <th>Time:</th>                 <td>00:31:35</td>     <th>  Log-Likelihood:    </th> <td>  45.537</td>\n",
              "</tr>\n",
              "<tr>\n",
              "  <th>No. Observations:</th>      <td>    71</td>      <th>  AIC:               </th> <td>  -87.07</td>\n",
              "</tr>\n",
              "<tr>\n",
              "  <th>Df Residuals:</th>          <td>    69</td>      <th>  BIC:               </th> <td>  -82.55</td>\n",
              "</tr>\n",
              "<tr>\n",
              "  <th>Df Model:</th>              <td>     1</td>      <th>                     </th>     <td> </td>   \n",
              "</tr>\n",
              "<tr>\n",
              "  <th>Covariance Type:</th>      <td>nonrobust</td>    <th>                     </th>     <td> </td>   \n",
              "</tr>\n",
              "</table>\n",
              "<table class=\"simpletable\">\n",
              "<tr>\n",
              "      <td></td>         <th>coef</th>     <th>std err</th>      <th>t</th>      <th>P>|t|</th>  <th>[0.025</th>    <th>0.975]</th>  \n",
              "</tr>\n",
              "<tr>\n",
              "  <th>Intercept</th> <td>   28.2712</td> <td>    0.190</td> <td>  148.761</td> <td> 0.000</td> <td>   27.892</td> <td>   28.650</td>\n",
              "</tr>\n",
              "<tr>\n",
              "  <th>x_vals</th>    <td>   -4.2809</td> <td>    0.046</td> <td>  -93.485</td> <td> 0.000</td> <td>   -4.372</td> <td>   -4.190</td>\n",
              "</tr>\n",
              "</table>\n",
              "<table class=\"simpletable\">\n",
              "<tr>\n",
              "  <th>Omnibus:</th>       <td>11.438</td> <th>  Durbin-Watson:     </th> <td>   0.033</td>\n",
              "</tr>\n",
              "<tr>\n",
              "  <th>Prob(Omnibus):</th> <td> 0.003</td> <th>  Jarque-Bera (JB):  </th> <td>  11.690</td>\n",
              "</tr>\n",
              "<tr>\n",
              "  <th>Skew:</th>          <td>-0.941</td> <th>  Prob(JB):          </th> <td> 0.00289</td>\n",
              "</tr>\n",
              "<tr>\n",
              "  <th>Kurtosis:</th>      <td> 3.640</td> <th>  Cond. No.          </th> <td>    54.4</td>\n",
              "</tr>\n",
              "</table><br/><br/>Warnings:<br/>[1] Standard Errors assume that the covariance matrix of the errors is correctly specified."
            ],
            "text/plain": [
              "<class 'statsmodels.iolib.summary.Summary'>\n",
              "\"\"\"\n",
              "                            OLS Regression Results                            \n",
              "==============================================================================\n",
              "Dep. Variable:                 y_vals   R-squared:                       0.992\n",
              "Model:                            OLS   Adj. R-squared:                  0.992\n",
              "Method:                 Least Squares   F-statistic:                     8740.\n",
              "Date:                Fri, 17 Dec 2021   Prob (F-statistic):           2.11e-74\n",
              "Time:                        00:31:35   Log-Likelihood:                 45.537\n",
              "No. Observations:                  71   AIC:                            -87.07\n",
              "Df Residuals:                      69   BIC:                            -82.55\n",
              "Df Model:                           1                                         \n",
              "Covariance Type:            nonrobust                                         \n",
              "==============================================================================\n",
              "                 coef    std err          t      P>|t|      [0.025      0.975]\n",
              "------------------------------------------------------------------------------\n",
              "Intercept     28.2712      0.190    148.761      0.000      27.892      28.650\n",
              "x_vals        -4.2809      0.046    -93.485      0.000      -4.372      -4.190\n",
              "==============================================================================\n",
              "Omnibus:                       11.438   Durbin-Watson:                   0.033\n",
              "Prob(Omnibus):                  0.003   Jarque-Bera (JB):               11.690\n",
              "Skew:                          -0.941   Prob(JB):                      0.00289\n",
              "Kurtosis:                       3.640   Cond. No.                         54.4\n",
              "==============================================================================\n",
              "\n",
              "Warnings:\n",
              "[1] Standard Errors assume that the covariance matrix of the errors is correctly specified.\n",
              "\"\"\""
            ]
          },
          "metadata": {},
          "execution_count": 47
        }
      ]
    },
    {
      "cell_type": "code",
      "source": [
        "# Simple example on latimes, 2015, we can see that the median and mean only differ by 3\n",
        "latimes_2015 = load_csv_to_df(2015, \"latimes.com\")\n",
        "latimes_2015[\"quote_length\"].describe()"
      ],
      "metadata": {
        "id": "x1IWbgRaqGM7",
        "colab": {
          "base_uri": "https://localhost:8080/"
        },
        "outputId": "c5026edc-2dbf-4754-cbc7-5bbb0e6fb48e"
      },
      "id": "x1IWbgRaqGM7",
      "execution_count": null,
      "outputs": [
        {
          "output_type": "execute_result",
          "data": {
            "text/plain": [
              "count    152197.000000\n",
              "mean         18.232041\n",
              "std          13.306025\n",
              "min           2.000000\n",
              "25%           9.000000\n",
              "50%          15.000000\n",
              "75%          23.000000\n",
              "max         368.000000\n",
              "Name: quote_length, dtype: float64"
            ]
          },
          "metadata": {},
          "execution_count": 48
        }
      ]
    },
    {
      "cell_type": "code",
      "source": [
        "# Plot for the quote's length\n",
        "path = drive+\"/Distribution_plot/\"+'all_years_counts_quote_length.csv'\n",
        "data_len = pd.read_csv(path)\n",
        "_, axes = plt.subplots(2,1,figsize=(14,12))\n",
        "sns.barplot(x=\"length\", y=\"occurence\", data=data_len, palette=\"YlOrBr\", ax=axes[0])\n",
        "axes[0].set(title=\"Distribution of quotes' length : Lin-Log axes\", xlabel=\"Quote length\", ylabel=\"Occurence\")\n",
        "# Reduce the number of x-ticks of 10%  \n",
        "for ind, label in enumerate(axes[0].get_xticklabels()):\n",
        "    if ind % 30 == 0:  # every 30th label is kept\n",
        "        label.set_visible(True)\n",
        "    else:\n",
        "        label.set_visible(False)\n",
        "\n",
        "axes[0].set_yticklabels(axes[0].get_yticks(), size = 12)\n",
        "axes[0].set_yscale(\"log\")\n",
        "\n",
        "# Plot for the quote's compound sentiment \n",
        "path = drive+\"/Distribution_plot/\"+'all_years_counts_quote_compound.csv'\n",
        "data_com = pd.read_csv(path)\n",
        "#_, ax2 = plt.subplots(figsize=(9,6))\n",
        "sns.barplot(x=\"compound\", y=\"occurence\", data=data_com, palette=\"coolwarm\", ax=axes[1])\n",
        "axes[1].set(title=\"Distribution of quotes' compound sentiment : Lin-Log axes\", xlabel=\"Compound sentiment\", ylabel=\"Occurence\")\n",
        "# Reduce the number of x-ticks of 10%  \n",
        "for ind, label in enumerate(axes[1].get_xticklabels()):\n",
        "    if ind % 5 == 0:  # every 5th label is kept\n",
        "        label.set_visible(True)\n",
        "    else:\n",
        "        label.set_visible(False)\n",
        "axes[1].set_yticklabels(axes[1].get_yticks(), size = 12)\n",
        "axes[1].set_yscale(\"log\")"
      ],
      "metadata": {
        "colab": {
          "base_uri": "https://localhost:8080/",
          "height": 730
        },
        "id": "1m9LVvCpLhfi",
        "outputId": "5ff33693-af8a-419a-e17f-71dc6574cfae"
      },
      "execution_count": null,
      "outputs": [
        {
          "output_type": "display_data",
          "data": {
            "image/png": "[encoded data removed]",
            "text/plain": [
              "<Figure size 1008x864 with 2 Axes>"
            ]
          },
          "metadata": {
            "needs_background": "light"
          }
        }
      ],
      "id": "1m9LVvCpLhfi"
    },
    {
      "cell_type": "markdown",
      "source": [
        "###1) Evolution of quoting style (2015-2020)"
      ],
      "metadata": {
        "id": "3xvk4h74IJRF"
      },
      "id": "3xvk4h74IJRF"
    },
    {
      "cell_type": "markdown",
      "source": [
        "First, we wish to study the evolution of the quoting style of influential US news outlets. To that end, we plot our two parameters of interest: length (number of words) and polarity score between 2015 and 2020. The analysis is first performed for all news outlets, before separating them according to their political orientation (left-leaning, right-leaning and neutral).\n",
        "\n",
        "**CA JE SAIS PAS SI JE SEPARE EN 2 CELL PARCE QUE LA PREMIERE C'EST LA DESCRIPTION DU QUOI, LA DEUXIEME DU COMMENT** On peut garder dans la même cellule avec deux paragraphes distincts.\n",
        "\n",
        "For these plots we only keep US news outlets that were in the top 200 news outlets with the most quotes each year, and produce their own content. In order to avoid any bias/error coming from a simple mean of mean (Simpson's paradox), we keep the number of quotes per outlet per year to compute a weighted mean and standard error of the mean (SEM).\n",
        "All plots display the mean, with SEM as errorbars. The error bars are too small to be visible, which means that observable differences are significant. \n",
        "All website political orientation were taken manually from the website Media Bias/Fact Check. (https://mediabiasfactcheck.com/). \n"
      ],
      "metadata": {
        "id": "ty4H2VN_RSpI"
      },
      "id": "ty4H2VN_RSpI"
    },
    {
      "cell_type": "code",
      "metadata": {
        "colab": {
          "base_uri": "https://localhost:8080/",
          "height": 312
        },
        "outputId": "d6ad4af3-f998-4c24-a682-4fd2c08f85f5",
        "id": "9xW0K7lQRSpJ"
      },
      "source": [
        "plt.errorbar(time_scale,length_mean,yerr=length_error,color=\"blue\")\n",
        "\n",
        "# Plot each news outlet as a grey line\n",
        "for outlet in political_US_outlets.domain:\n",
        "  plt.plot(time_scale,df_means_length[outlet].values,color=\"grey\",alpha=0.4)\n",
        "\n",
        "#Custom legend to avoid one legend for each line\n",
        "legend_g = mpatches.Patch(color=\"grey\",label=\"All individual news outlet\")\n",
        "legend_b = mpatches.Patch(color=\"blue\",label=\"Total_mean\")\n",
        "\n",
        "plt.xlabel(\"Year\")\n",
        "plt.ylabel(\"Mean quote length\")\n",
        "plt.title(\"Evolution of mean quote length in time\")\n",
        "plt.xticks(time_scale)\n",
        "plt.legend()\n",
        "plt.legend(handles=[legend_g,legend_b])\n",
        "plt.show()"
      ],
      "execution_count": null,
      "outputs": [
        {
          "output_type": "stream",
          "name": "stderr",
          "text": [
            "No handles with labels found to put in legend.\n"
          ]
        },
        {
          "output_type": "display_data",
          "data": {
            "image/png": "[encoded data removed]",
            "text/plain": [
              "<Figure size 432x288 with 1 Axes>"
            ]
          },
          "metadata": {
            "needs_background": "light"
          }
        }
      ],
      "id": "9xW0K7lQRSpJ"
    },
    {
      "cell_type": "markdown",
      "source": [
        "Here we show the distribution of mean quote length per outlet per year. We see that apart from a few outliers, it stays between 18 and 22 words. The mean quote length for all news outlets increased from 20 to 21 words between 2015 and 2020."
      ],
      "metadata": {
        "id": "uq5zsmLNWsAY"
      },
      "id": "uq5zsmLNWsAY"
    },
    {
      "cell_type": "code",
      "source": [
        "plt.errorbar(time_scale,compound_mean,yerr=compound_error,label=\"Total mean\")\n",
        "\n",
        "# Plot each news outlet as a grey line\n",
        "for outlet in political_US_outlets.domain:\n",
        "  plt.plot(time_scale,df_means_compound[outlet].values,color=\"grey\",alpha=0.4)\n",
        "\n",
        "#Custom legend to avoid one legend for each line\n",
        "legend_g = mpatches.Patch(color=\"grey\",label=\"All individual news outlet\")\n",
        "legend_b = mpatches.Patch(color=\"blue\",label=\"Total_mean\")\n",
        "\n",
        "plt.xlabel(\"Year\")\n",
        "plt.ylabel(\"Quote mean polarity score\")\n",
        "plt.title(\"Evolution of quote mean polarity score\")\n",
        "plt.xticks(time_scale)\n",
        "plt.legend(handles=[legend_g,legend_b])\n",
        "plt.show()"
      ],
      "metadata": {
        "colab": {
          "base_uri": "https://localhost:8080/",
          "height": 295
        },
        "outputId": "481353c9-19d4-4e06-ef21-86e0956e4a2d",
        "id": "1JLBSO-uRSpJ"
      },
      "execution_count": null,
      "outputs": [
        {
          "output_type": "display_data",
          "data": {
            "image/png": "[encoded data removed]",
            "text/plain": [
              "<Figure size 432x288 with 1 Axes>"
            ]
          },
          "metadata": {
            "needs_background": "light"
          }
        }
      ],
      "id": "1JLBSO-uRSpJ"
    },
    {
      "cell_type": "markdown",
      "source": [
        "This shows that news outlets have on average slightly positive quotes (polarity score >0). However this positivity has been following a negative trend between 2015 and 2020.\n",
        "\n",
        "Interestingly, there seems be two distinct populations, one below the average (0.07 to 0.11) and another above it (0.125 to 0.16). \n",
        "*Could these groups correspond to news outlets of different political orientations?*\n"
      ],
      "metadata": {
        "id": "PlsMzoYNZpLI"
      },
      "id": "PlsMzoYNZpLI"
    },
    {
      "cell_type": "code",
      "source": [
        "all_selected_doms.dropna(subset=[\"Political_leaning\"]).head()"
      ],
      "metadata": {
        "colab": {
          "base_uri": "https://localhost:8080/",
          "height": 226
        },
        "outputId": "45da5e6c-5e97-4cc0-df65-258cd97af2bb",
        "id": "xFS2yGPhRSpK"
      },
      "execution_count": null,
      "outputs": [
        {
          "output_type": "execute_result",
          "data": {
            "text/html": [
              "<div>\n",
              "<style scoped>\n",
              "    .dataframe tbody tr th:only-of-type {\n",
              "        vertical-align: middle;\n",
              "    }\n",
              "\n",
              "    .dataframe tbody tr th {\n",
              "        vertical-align: top;\n",
              "    }\n",
              "\n",
              "    .dataframe thead th {\n",
              "        text-align: right;\n",
              "    }\n",
              "</style>\n",
              "<table border=\"1\" class=\"dataframe\">\n",
              "  <thead>\n",
              "    <tr style=\"text-align: right;\">\n",
              "      <th></th>\n",
              "      <th>domain</th>\n",
              "      <th>Year_by_year</th>\n",
              "      <th>Cumulative</th>\n",
              "      <th>Nationality</th>\n",
              "      <th>Political_leaning</th>\n",
              "      <th>Content_creator</th>\n",
              "      <th>Traffic</th>\n",
              "      <th>Factual_reporting</th>\n",
              "    </tr>\n",
              "  </thead>\n",
              "  <tbody>\n",
              "    <tr>\n",
              "      <th>0</th>\n",
              "      <td>nzherald.co.nz</td>\n",
              "      <td>1</td>\n",
              "      <td>1</td>\n",
              "      <td>NZ</td>\n",
              "      <td>0.0</td>\n",
              "      <td>1</td>\n",
              "      <td>NaN</td>\n",
              "      <td>5.0</td>\n",
              "    </tr>\n",
              "    <tr>\n",
              "      <th>2</th>\n",
              "      <td>latimes.com</td>\n",
              "      <td>0</td>\n",
              "      <td>1</td>\n",
              "      <td>US</td>\n",
              "      <td>-1.0</td>\n",
              "      <td>1</td>\n",
              "      <td>High</td>\n",
              "      <td>5.0</td>\n",
              "    </tr>\n",
              "    <tr>\n",
              "      <th>3</th>\n",
              "      <td>breitbart.com</td>\n",
              "      <td>1</td>\n",
              "      <td>1</td>\n",
              "      <td>US</td>\n",
              "      <td>3.0</td>\n",
              "      <td>1</td>\n",
              "      <td>High</td>\n",
              "      <td>3.0</td>\n",
              "    </tr>\n",
              "    <tr>\n",
              "      <th>5</th>\n",
              "      <td>inquisitr.com</td>\n",
              "      <td>1</td>\n",
              "      <td>0</td>\n",
              "      <td>UK</td>\n",
              "      <td>-1.0</td>\n",
              "      <td>0</td>\n",
              "      <td>NaN</td>\n",
              "      <td>3.0</td>\n",
              "    </tr>\n",
              "    <tr>\n",
              "      <th>6</th>\n",
              "      <td>brisbanetimes.com.au</td>\n",
              "      <td>1</td>\n",
              "      <td>1</td>\n",
              "      <td>AU</td>\n",
              "      <td>-1.0</td>\n",
              "      <td>1</td>\n",
              "      <td>NaN</td>\n",
              "      <td>NaN</td>\n",
              "    </tr>\n",
              "  </tbody>\n",
              "</table>\n",
              "</div>"
            ],
            "text/plain": [
              "                 domain  Year_by_year  ...  Traffic Factual_reporting\n",
              "0        nzherald.co.nz             1  ...      NaN               5.0\n",
              "2           latimes.com             0  ...     High               5.0\n",
              "3         breitbart.com             1  ...     High               3.0\n",
              "5         inquisitr.com             1  ...      NaN               3.0\n",
              "6  brisbanetimes.com.au             1  ...      NaN               NaN\n",
              "\n",
              "[5 rows x 8 columns]"
            ]
          },
          "metadata": {},
          "execution_count": 13
        }
      ],
      "id": "xFS2yGPhRSpK"
    },
    {
      "cell_type": "markdown",
      "source": [
        "**NE PAS OUBLIER DE METTRE CA DANS LA DATASTORY**\n",
        "\n",
        "Next, we divided the news outlets in three groups based on their political orientation : Left-leaning, Right-leaning and Neutral (no difference is made within a group, meaning no degrees of left or right). *This should allow us to determine if the 2 populations we observed correspond to the political leaning of the news outlet.*"
      ],
      "metadata": {
        "id": "HqfrQmdkRSpL"
      },
      "id": "HqfrQmdkRSpL"
    },
    {
      "cell_type": "code",
      "source": [
        "#Compute the difference in the quote mean length of left and right-leaning news sources\n",
        "length_mean_difference= list()\n",
        "for item_length_right, item_length_left in zip(length_mean_right, length_mean_left):\n",
        "  length_mean_difference.append(item_length_right - item_length_left)\n",
        "df_length_dif= pd.DataFrame(length_mean_difference)\n",
        "df_length_dif.columns = ['Length Difference']\n",
        "mean_length_dif =  df_length_dif[1:].agg(['mean', 'std'])\n",
        "print(mean_length_dif)"
      ],
      "metadata": {
        "colab": {
          "base_uri": "https://localhost:8080/"
        },
        "id": "2XMRea8L6kCJ",
        "outputId": "37189405-c462-4a3b-b4e5-6ce3377c3e78"
      },
      "execution_count": null,
      "outputs": [
        {
          "output_type": "stream",
          "name": "stdout",
          "text": [
            "      Length Difference\n",
            "mean           1.340521\n",
            "std            0.117789\n"
          ]
        }
      ],
      "id": "2XMRea8L6kCJ"
    },
    {
      "cell_type": "code",
      "source": [
        "plt.errorbar(time_scale,length_mean_left,yerr=length_error_left,label=\"Left-leaning news outlets\",color=\"blue\")\n",
        "plt.errorbar(time_scale,length_mean_right,yerr=length_error_right,label=\"Right-leaning news outlets\",color=\"red\")\n",
        "plt.errorbar(time_scale,length_mean_neutral,yerr=length_error_neutral,label=\"Neutral news outlets\",color=\"green\")\n",
        "plt.errorbar(time_scale,length_mean,yerr=length_error,label = \"Average\",color = \"k\")\n",
        "\n",
        "plt.xlabel(\"Year\")\n",
        "plt.ylabel(\"Quote mean length\")\n",
        "plt.title(\"Evolution of quote mean length for news outlets of different political orientations\")\n",
        "plt.xticks(time_scale)\n",
        "plt.legend()\n",
        "plt.show()"
      ],
      "metadata": {
        "colab": {
          "base_uri": "https://localhost:8080/",
          "height": 295
        },
        "outputId": "f5ac3206-3ff2-4e9f-a113-26635fdeeba5",
        "id": "xuLcn4ezRSpL"
      },
      "execution_count": null,
      "outputs": [
        {
          "output_type": "display_data",
          "data": {
            "image/png": "[encoded data removed]",
            "text/plain": [
              "<Figure size 432x288 with 1 Axes>"
            ]
          },
          "metadata": {
            "needs_background": "light"
          }
        }
      ],
      "id": "xuLcn4ezRSpL"
    },
    {
      "cell_type": "markdown",
      "source": [
        "Right-leaning news outlets have a higher mean quote length than left-leaning ones for all years. Between 2016 and 2020, the difference of left and right-leaning news outlets' mean quote length stays constant at about 1.3 word.\n",
        "\n",
        "Furthermore, they both follow the same evolution as the average mean quote length. This suggests the increase of quote length in news outlets is a general pattern which is independant political orientation.\n",
        "\n",
        "*This graph seems to support the idea of different quoting style between left-leaning and right-leaning news outlets. Let's do the same with polarity score and see if our theory holds.*\n",
        "\n",
        "**DON'T MENTION IN DATA STORY:**\n",
        "\n",
        "Additionally the neutral websites have a higher than average mean quote length. We can hypothesize that the sharp decrease of quote length between 2015 and 2016 in right-leaning media may be related to the election.\n",
        "\n"
      ],
      "metadata": {
        "id": "pcHxwiuqflis"
      },
      "id": "pcHxwiuqflis"
    },
    {
      "cell_type": "code",
      "source": [
        "plt.errorbar(time_scale,compound_mean_left,yerr=compound_error_left,label=\"Left-leaning news outlets\",color=\"blue\")\n",
        "plt.errorbar(time_scale,compound_mean_right,yerr=compound_error_right,label=\"Right-leaning news outlets\",color=\"red\")\n",
        "plt.errorbar(time_scale,compound_mean_neutral,yerr=compound_error_neutral,label=\"Neutral news outlets\",color=\"green\")\n",
        "plt.errorbar(time_scale,compound_mean,yerr=compound_error,label = \"Average\", color=\"k\")\n",
        "\n",
        "plt.xlabel(\"Year\")\n",
        "plt.ylabel(\"Quote mean polarity score\")\n",
        "plt.title(\"Evolution of quote mean polarity score for news outlets of different political orientations\")\n",
        "plt.xticks(time_scale)\n",
        "plt.legend()\n",
        "plt.show()"
      ],
      "metadata": {
        "colab": {
          "base_uri": "https://localhost:8080/",
          "height": 295
        },
        "outputId": "c1065b5c-ccf7-4bf0-fb09-2a4bb80d6da1",
        "id": "Qrvt91RgRSpL"
      },
      "execution_count": null,
      "outputs": [
        {
          "output_type": "display_data",
          "data": {
            "image/png": "[encoded data removed]",
            "text/plain": [
              "<Figure size 432x288 with 1 Axes>"
            ]
          },
          "metadata": {
            "needs_background": "light"
          }
        }
      ],
      "id": "Qrvt91RgRSpL"
    },
    {
      "cell_type": "markdown",
      "source": [
        "Left-leaning news outlets's quotes are more positive than right-leaning news outlets across all years. Left-leaning news outlets's positivity increased between 2015 and 2020, while right-leaning news outlets stayed more or less constant. Neutral news outlets changed the most, their quote mean polarity score decreased from 0.15 to 0.11.\n",
        "\n",
        "*We don't see left-leaning on one side of the mean and right-leaning on the other as we had hypothesized. However, there is still a notable difference in the polarity score of left and right-leaning news outlets, which supports our thesis for different quoting styles between right and left-leaning news outlets.*\n",
        "\n",
        "**NOT IN DATASTORY FOR NOW, BUT COULD BE --> more analaysis needed** \n",
        "\n",
        "*WHAT if we combine left-leaning and neutral news outlets, maybe we get the 2 observed populations? we would have to plot both the polarity and the length to see how it holds*"
      ],
      "metadata": {
        "id": "kyq74DoMtjUw"
      },
      "id": "kyq74DoMtjUw"
    },
    {
      "cell_type": "markdown",
      "source": [
        "**Petite conclusion part 1**\n",
        "\n",
        "This yearly analysis of quoting style has yielded several inputs. \n",
        "Between 2015 and 2020, quotes have on average been getting longer (20.2 to 21.2 words), are generally positive but are getting less positive (0.128 to 0.116 polarity score).\n",
        "\n",
        "*Looking at differences in the quoting styles of left and right-leaning news sources, we found that left-leaning news outlets have on average shorter and more positive quotes than right-leaning outlets.*"
      ],
      "metadata": {
        "id": "GINpbqaVFLEN"
      },
      "id": "GINpbqaVFLEN"
    },
    {
      "cell_type": "markdown",
      "source": [
        "### 2) Quoting style according to political orientation"
      ],
      "metadata": {
        "id": "u-f6y9okk--D"
      },
      "id": "u-f6y9okk--D"
    },
    {
      "cell_type": "markdown",
      "source": [
        "**PETIT INTRO PARTIE 2**\n",
        "\n",
        "**Mention somehow that we are now analysing \"top speakers\" --> top XXX most quoted speakers within our top news outlets**\n",
        "\n",
        "*Dwelving deeper into this difference in quoting habits, we were interested in assessing if left/right-leaning news sources quote Democratic and Republican speakers differently. For example, would left-leaning news outlets quote Democratic speakers more (more and longer quotes) and more positively?*"
      ],
      "metadata": {
        "id": "xZSTB76JMf2a"
      },
      "id": "xZSTB76JMf2a"
    },
    {
      "cell_type": "code",
      "source": [
        "X = ['Left-leaning','Neutral','Right-leaning']\n",
        "\n",
        "# Vector containing the number of quotes of Democrat speakers\n",
        "Dem = [df_speakers_stats_total_dem[\"L_Count\"].values[0],df_speakers_stats_total_dem[\"N_Count\"].values[0],df_speakers_stats_total_dem[\"R_Count\"].values[0]]\n",
        "# Vector containing the number of quotes of Republican speakers\n",
        "Rep = [df_speakers_stats_total_rep[\"L_Count\"].values[0],df_speakers_stats_total_rep[\"N_Count\"].values[0],df_speakers_stats_total_rep[\"R_Count\"].values[0]]\n",
        "\n",
        "# We define the values as ratio over the total number of quote:\n",
        "\n",
        "Dem_ratio = Dem/np.array(Dem).sum()\n",
        "Rep_ratio = Rep/np.array(Rep).sum()\n",
        "\n",
        "_X = np.array([0,2,4]) # Position of categories on x-axis\n",
        "\n",
        "plt.bar(_X-0.25, Dem_ratio, 0.5, label=\"Democrat\",color='#3b36d6',zorder=2)\n",
        "plt.bar(_X+0.25, Rep_ratio, 0.5,label=\"Republican\",color='#eb3434',zorder=2)\n",
        "plt.xticks(_X, X) # set labels manually\n",
        "plt.legend()\n",
        "plt.grid(axis='y',zorder=0)\n",
        "plt.xlabel(\"News outlet political leaning\")\n",
        "plt.ylabel(\"Quoting percentage\")\n",
        "plt.title(\"Barplot of the ratio of speakers quoted in function of the news outlet leaning \")\n",
        "plt.show()"
      ],
      "metadata": {
        "colab": {
          "base_uri": "https://localhost:8080/",
          "height": 295
        },
        "id": "rfhx20ghMX55",
        "outputId": "25e081a0-4c76-4b73-851e-9f5812144dab"
      },
      "id": "rfhx20ghMX55",
      "execution_count": null,
      "outputs": [
        {
          "output_type": "display_data",
          "data": {
            "image/png": "[encoded data removed]",
            "text/plain": [
              "<Figure size 432x288 with 1 Axes>"
            ]
          },
          "metadata": {
            "needs_background": "light"
          }
        }
      ]
    },
    {
      "cell_type": "markdown",
      "source": [
        "Surprisingly, quotes from Democratic and Republican speakers are very closely distributed between the different news outlets. There is only a bit more of the quotes from Democratic speakers in left-leaning news oulets, and a bit more of the quotes from Republican speakers in right-leaning news oulets (about 1%).\n",
        "\n",
        "*It seems like there is not much difference in how much websites of different political leaning quote Democratic or Republican speakers. let's see if instead there is one in the way they are quoted !*\n",
        "\n",
        "\n",
        "\n",
        "**Known bias, not for datastory BUT SHOULD BE MENTIONNED SOMEWHERE**\n",
        "\n",
        "- 70% of republican quotes in total dataset\n",
        "- Majority of left leaning outlets"
      ],
      "metadata": {
        "id": "pqhl1kek93Hq"
      },
      "id": "pqhl1kek93Hq"
    },
    {
      "cell_type": "code",
      "source": [
        "df_speakers_stats_total_dem.head()"
      ],
      "metadata": {
        "colab": {
          "base_uri": "https://localhost:8080/",
          "height": 81
        },
        "outputId": "e2eca22b-ddcd-4f72-e272-0e8cf79d1b37",
        "id": "-qHeuc6Zk--F"
      },
      "execution_count": null,
      "outputs": [
        {
          "output_type": "execute_result",
          "data": {
            "text/html": [
              "<div>\n",
              "<style scoped>\n",
              "    .dataframe tbody tr th:only-of-type {\n",
              "        vertical-align: middle;\n",
              "    }\n",
              "\n",
              "    .dataframe tbody tr th {\n",
              "        vertical-align: top;\n",
              "    }\n",
              "\n",
              "    .dataframe thead th {\n",
              "        text-align: right;\n",
              "    }\n",
              "</style>\n",
              "<table border=\"1\" class=\"dataframe\">\n",
              "  <thead>\n",
              "    <tr style=\"text-align: right;\">\n",
              "      <th></th>\n",
              "      <th>L_Pol</th>\n",
              "      <th>L_Pol_err</th>\n",
              "      <th>L_Len</th>\n",
              "      <th>L_Len_err</th>\n",
              "      <th>L_Count</th>\n",
              "      <th>N_Pol</th>\n",
              "      <th>N_Pol_err</th>\n",
              "      <th>N_Len</th>\n",
              "      <th>N_Len_err</th>\n",
              "      <th>N_Count</th>\n",
              "      <th>R_Pol</th>\n",
              "      <th>R_Pol_err</th>\n",
              "      <th>R_Len</th>\n",
              "      <th>R_Len_err</th>\n",
              "      <th>R_Count</th>\n",
              "    </tr>\n",
              "  </thead>\n",
              "  <tbody>\n",
              "    <tr>\n",
              "      <th>total</th>\n",
              "      <td>0.0732341</td>\n",
              "      <td>2.571e-05</td>\n",
              "      <td>19.7145</td>\n",
              "      <td>0.000426012</td>\n",
              "      <td>145587</td>\n",
              "      <td>0.0778948</td>\n",
              "      <td>0.000104799</td>\n",
              "      <td>21.4239</td>\n",
              "      <td>0.00292316</td>\n",
              "      <td>41900</td>\n",
              "      <td>0.0644222</td>\n",
              "      <td>3.65577e-05</td>\n",
              "      <td>22.029</td>\n",
              "      <td>0.00245168</td>\n",
              "      <td>95511</td>\n",
              "    </tr>\n",
              "  </tbody>\n",
              "</table>\n",
              "</div>"
            ],
            "text/plain": [
              "           L_Pol  L_Pol_err    L_Len  ...   R_Len   R_Len_err R_Count\n",
              "total  0.0732341  2.571e-05  19.7145  ...  22.029  0.00245168   95511\n",
              "\n",
              "[1 rows x 15 columns]"
            ]
          },
          "metadata": {},
          "execution_count": 146
        }
      ],
      "id": "-qHeuc6Zk--F"
    },
    {
      "cell_type": "code",
      "source": [
        "X = ['Left leaning','Neutral','Right leaning']\n",
        "\n",
        "Dem = [df_speakers_stats_total_dem[\"L_Len\"].values[0],df_speakers_stats_total_dem[\"N_Len\"].values[0],df_speakers_stats_total_dem[\"R_Len\"].values[0]]\n",
        "Rep = [df_speakers_stats_total_rep[\"L_Len\"].values[0],df_speakers_stats_total_rep[\"N_Len\"].values[0],df_speakers_stats_total_rep[\"R_Len\"].values[0]]\n",
        "\n",
        "_X = np.array([0,2,4]) # Position of categories on x-axis\n",
        "\n",
        "plt.bar(_X-0.25, Dem, 0.5, label=\"Democrat\",color='#3b36d6',zorder=2)\n",
        "plt.bar(_X+0.25, Rep, 0.5,label=\"Republican\",color='#eb3434',zorder=2)\n",
        "plt.xticks(_X, X) # set labels manually\n",
        "plt.legend()\n",
        "plt.ylim(15)\n",
        "plt.grid(axis='y',zorder=0)\n",
        "plt.xlabel(\"News outlet political leaning\")\n",
        "plt.ylabel(\"Quote length\")\n",
        "plt.title(\"Barplot of mean quote length in function of speaker and news outlet political orientation\")\n",
        "plt.show()"
      ],
      "metadata": {
        "colab": {
          "base_uri": "https://localhost:8080/",
          "height": 295
        },
        "id": "D-aEkg23T5Cs",
        "outputId": "bfc96492-bcfe-40cb-df00-c63564585425"
      },
      "id": "D-aEkg23T5Cs",
      "execution_count": null,
      "outputs": [
        {
          "output_type": "display_data",
          "data": {
            "image/png": "[encoded data removed]",
            "text/plain": [
              "<Figure size 432x288 with 1 Axes>"
            ]
          },
          "metadata": {
            "needs_background": "light"
          }
        }
      ]
    },
    {
      "cell_type": "markdown",
      "source": [
        "This plot shows that speakers affiliated to the Democratic party have on average longer quotes than speakers affiliated to the Republican party (by 1-2 words), in neutral, left, and right-leaning news outlets. \n",
        "\n",
        "Furthermore, and in accordance to our previous results, we find that there is a difference in mean quoting length between left-leaning, neutral and right-leaning news outlets, with left leaning outlets using shorter quotes and right leaning outlets using longer ones.\n",
        "\n",
        "*Democrat speakers have longer quotes than Republicans, independent of the leaning of the news outlet. let's now look at the quote positivity.*"
      ],
      "metadata": {
        "id": "7rQxKD0ok--G"
      },
      "id": "7rQxKD0ok--G"
    },
    {
      "cell_type": "code",
      "source": [
        "X = ['Left leaning','Neutral','Right leaning']\n",
        "Dem = [df_speakers_stats_total_dem[\"L_Pol\"].values[0],df_speakers_stats_total_dem[\"N_Pol\"].values[0],df_speakers_stats_total_dem[\"R_Pol\"].values[0]]\n",
        "Rep = [df_speakers_stats_total_rep[\"L_Pol\"].values[0],df_speakers_stats_total_rep[\"N_Pol\"].values[0],df_speakers_stats_total_rep[\"R_Pol\"].values[0]]\n",
        "\n",
        "_X = np.array([0,2,4]) # Position of categories on x-axis\n",
        "\n",
        "plt.bar(_X-0.25, Dem, 0.5, label=\"Democrat\",color='#3b36d6',zorder=2)\n",
        "plt.bar(_X+0.25, Rep, 0.5, label=\"Republican\",color='#eb3434',zorder=2)\n",
        "plt.xticks(_X, X) # set labels manually\n",
        "plt.legend()\n",
        "plt.ylim(0.05)\n",
        "plt.grid(axis='y',zorder=0)\n",
        "plt.xlabel(\"News outlet political leaning\")\n",
        "plt.ylabel(\"Polarity score\")\n",
        "plt.title(\"Barplot of mean polarity score in function of speaker and news outlet political orientation\")\n",
        "plt.show()"
      ],
      "metadata": {
        "colab": {
          "base_uri": "https://localhost:8080/",
          "height": 295
        },
        "outputId": "d424ad79-8687-4c11-e244-691f9a6158b2",
        "id": "YV_7zX22k--G"
      },
      "execution_count": null,
      "outputs": [
        {
          "output_type": "display_data",
          "data": {
            "image/png": "[encoded data removed]",
            "text/plain": [
              "<Figure size 432x288 with 1 Axes>"
            ]
          },
          "metadata": {
            "needs_background": "light"
          }
        }
      ],
      "id": "YV_7zX22k--G"
    },
    {
      "cell_type": "markdown",
      "source": [
        "First, left-leaning news outlet quote Democrats more positively than Republicans, and right-leaning news outlets quote Republicans more positively than Democrats. *Therefore we indeed have the expected pattern where news outlets quote the speakers from their own political orientation more positively those from the opposite one.*\n",
        "\n",
        "Second, Democratic speaker are quoted more positively in left-leaning news outlets than in right-leaning news outlets and Republican speakers are quoted more positively in right-leaning news-outlets than in left-leaning news outlets. More surprisingly, neutral news outlets quote more positively than politicized news outlets, for both Republican and Democratic speakers.\n",
        "\n",
        "**ANY HYPOTHESIS AS FOR WHY WOULD BE WELCOME** \n",
        "*PUT ANY RESULTING HYPOTHESIS AS PART OF THE DATASTORY I'D SAY*\n",
        "\n",
        "Third, we observed that the polarity score of the most quoted speakers belonging to any of the two main US parties is lower than mean polarity score for all speakers found in the first part of the analysis. \n",
        "\n",
        "*Therefore we've found that politically oriented top speakers are quoted more negatively on average than either less quoted political speakers or apolitical speakers. Let's look into this more, are apolitical speakers quoted more positively, or could it be that the top speakers are actually quoted more negatively than less quoted speakers?*"
      ],
      "metadata": {
        "id": "JcMg3PFwk--G"
      },
      "id": "JcMg3PFwk--G"
    },
    {
      "cell_type": "code",
      "source": [
        "X = ['Democratic','Republican',\"Apolitical\"]\n",
        "L = [df_speakers_stats_total_dem[\"L_Pol\"].values[0],df_speakers_stats_total_rep[\"L_Pol\"].values[0]] # Mean polarity score in left-leaning news outlet\n",
        "N = [df_speakers_stats_total_dem[\"N_Pol\"].values[0],df_speakers_stats_total_rep[\"N_Pol\"].values[0]] # Mean polarity score in nautral news outlet\n",
        "R = [df_speakers_stats_total_dem[\"R_Pol\"].values[0],df_speakers_stats_total_rep[\"R_Pol\"].values[0]] # Mean polarity score in right-leaning news outlet\n",
        "Dem_count = [df_speakers_stats_total_dem[\"L_Count\"].values[0],df_speakers_stats_total_dem[\"N_Count\"].values[0],df_speakers_stats_total_dem[\"R_Count\"].values[0]] # Quotes count for democrat speakers\n",
        "Rep_count = [df_speakers_stats_total_rep[\"L_Count\"].values[0],df_speakers_stats_total_rep[\"N_Count\"].values[0],df_speakers_stats_total_rep[\"R_Count\"].values[0]] # Quotes count for republican speakers\n",
        "\n",
        "Dem_mean = np.average(np.array([L[0],N[0],R[0]]),weights=np.array(Dem_count))\n",
        "Rep_mean = np.average(np.array([L[1],N[1],R[1]]),weights=np.array(Rep_count))\n",
        "\n",
        "\n",
        "plt.bar(0, Dem_mean, 0.5,color='#3b36d6',zorder=2)\n",
        "plt.bar(1, Rep_mean, 0.5,color='#eb3434',zorder=2)\n",
        "plt.bar(2,compound_mean_apo,0.5,color='silver',zorder=2)\n",
        "\n",
        "total_mean_pol = (Dem_mean*15 + Rep_mean*15 + compound_mean_apo*(75-8-30))/(75-8)\n",
        "                                                                            \n",
        "#plt.bar(3,total_mean_pol,0.5,color='yellow')\n",
        "plt.axhline(y=total_mean_pol,linewidth=1, color='k',linestyle='--',label=\"Mean for top speakers\")\n",
        "_X = np.array([0,1,2,3]) # Position of categories on x-axis\n",
        "plt.xticks(_X, X)\n",
        "\n",
        "plt.legend()\n",
        "plt.xlim((-0.5,2.5))\n",
        "plt.grid(axis='y',zorder=0)\n",
        "plt.xlabel(\"Speaker party\")\n",
        "plt.ylabel(\"Polarity score\")\n",
        "plt.title(\"Barplot of mean polarity score in function of speaker and news outlet political orientation\")\n",
        "plt.show()"
      ],
      "metadata": {
        "colab": {
          "base_uri": "https://localhost:8080/",
          "height": 295
        },
        "id": "-M29SeeGAoDu",
        "outputId": "b107a571-8a64-4516-9416-d10dec2a334a"
      },
      "id": "-M29SeeGAoDu",
      "execution_count": null,
      "outputs": [
        {
          "output_type": "display_data",
          "data": {
            "image/png": "[encoded data removed]",
            "text/plain": [
              "<Figure size 432x288 with 1 Axes>"
            ]
          },
          "metadata": {
            "needs_background": "light"
          }
        }
      ]
    },
    {
      "cell_type": "markdown",
      "source": [
        "Following our discovery that the top political speakers had less positive quotes than the average, we decided to compare quotes from top democratic, republican and apolitical speakers. **ADD A DISCLAIMER SOMEWHERE SAYING THAT WE ASSUME PARTY=NONE --> APOLITICAL**\n",
        "We observe that top apolitical speakers have almost 3 times the polarity score of top Democratic or Republican speakers.\n",
        "\n",
        "*Therefore we indeed have this pattern where, amongst the top speakers, apolitical speakers have 3x more positive quotes!*\n",
        "\n",
        "We also see that on average, the top speakers have more positive quotes than standard speakers (Top speaker mean ~0.14 vs all speakers mean ~0.12).\n",
        "\n",
        "*Here we must reject our hypothesis that top speakers are on average quoted more negatively than less quoted speakers. It seems that low positivity of top political speakers is more than compensated by the high positivity of top apolitical speakers.*"
      ],
      "metadata": {
        "id": "VoXKGY4oPab9"
      },
      "id": "VoXKGY4oPab9"
    },
    {
      "cell_type": "markdown",
      "source": [
        "**Petite conclusion part 2**\n",
        "\n",
        "*Democrat and Republican quotes are simiarly distributed amongst news outlets of different political leaning. Democrats have longer quotes in all of them. News outlets quote the speakers from their own political orientation more positively those from the opposite one. FInally, amongst the top speakers, apolitical speakers are quoted 3x more positively than Democrats/Republicans.*"
      ],
      "metadata": {
        "id": "cFZYFYUDb0Cs"
      },
      "id": "cFZYFYUDb0Cs"
    },
    {
      "cell_type": "markdown",
      "source": [
        "### 3) Quoting style according to news source factual reporting"
      ],
      "metadata": {
        "id": "qyDBnflQy_uB"
      },
      "id": "qyDBnflQy_uB"
    },
    {
      "cell_type": "markdown",
      "source": [
        "*We've observed a quoting style difference between left and right-leaning news outlets. However it does not explain all the variation. Therefore we decided to group news outlets according to a new parameter: their factual reporting rating. Our hypothesis is that news outlets with higher factual reporting would do longer and more neutral (less positive) quotes. We are also interested in determining whether neutral website have higher factual reporting than politicized news outlets.*\n",
        "\n",
        "**Alternative hypothesis: Factual reporting means shorter quote, because the news outlet tends to be more concise and add less word that could bias the sentence.**\n",
        "\n",
        "**Ptet à reformular mais faut mettre un truc comme ca qq part**\n",
        "Among the top websites, there are only news outlets with relatively good factual reporting rating, ranging from mixed to high factual reporting.\n",
        "\n",
        "**IN THE BIAS SECTION WE NEED TO SHOW THERE IS CORRELATION BETWEEN POLITICAL LEANING AND FACTUAL REPORTING**"
      ],
      "metadata": {
        "id": "FyvCi424f-i5"
      },
      "id": "FyvCi424f-i5"
    },
    {
      "cell_type": "code",
      "source": [
        "df_speakers_stats_total_dem_FR.head()"
      ],
      "metadata": {
        "colab": {
          "base_uri": "https://localhost:8080/",
          "height": 81
        },
        "id": "LIQmchYlFg27",
        "outputId": "f32e067f-039b-49c3-e829-ad9f3266517d"
      },
      "id": "LIQmchYlFg27",
      "execution_count": null,
      "outputs": [
        {
          "output_type": "execute_result",
          "data": {
            "text/html": [
              "<div>\n",
              "<style scoped>\n",
              "    .dataframe tbody tr th:only-of-type {\n",
              "        vertical-align: middle;\n",
              "    }\n",
              "\n",
              "    .dataframe tbody tr th {\n",
              "        vertical-align: top;\n",
              "    }\n",
              "\n",
              "    .dataframe thead th {\n",
              "        text-align: right;\n",
              "    }\n",
              "</style>\n",
              "<table border=\"1\" class=\"dataframe\">\n",
              "  <thead>\n",
              "    <tr style=\"text-align: right;\">\n",
              "      <th></th>\n",
              "      <th>Mi_Pol</th>\n",
              "      <th>Mi_Pol_err</th>\n",
              "      <th>Mi_Len</th>\n",
              "      <th>Mi_Len_err</th>\n",
              "      <th>Mi_Count</th>\n",
              "      <th>Mo_Pol</th>\n",
              "      <th>Mo_Pol_err</th>\n",
              "      <th>Mo_Len</th>\n",
              "      <th>Mo_Len_err</th>\n",
              "      <th>Mo_Count</th>\n",
              "      <th>Hi_Pol</th>\n",
              "      <th>Hi_Pol_err</th>\n",
              "      <th>Hi_Len</th>\n",
              "      <th>Hi_Len_err</th>\n",
              "      <th>Hi_Count</th>\n",
              "    </tr>\n",
              "  </thead>\n",
              "  <tbody>\n",
              "    <tr>\n",
              "      <th>total</th>\n",
              "      <td>0.0675965</td>\n",
              "      <td>3.27898e-05</td>\n",
              "      <td>22.5618</td>\n",
              "      <td>0.00202002</td>\n",
              "      <td>107973</td>\n",
              "      <td>0.0719396</td>\n",
              "      <td>3.15273e-05</td>\n",
              "      <td>18.7734</td>\n",
              "      <td>0.000507377</td>\n",
              "      <td>130510</td>\n",
              "      <td>0.0761838</td>\n",
              "      <td>7.56507e-05</td>\n",
              "      <td>22.1423</td>\n",
              "      <td>0.00379404</td>\n",
              "      <td>44515</td>\n",
              "    </tr>\n",
              "  </tbody>\n",
              "</table>\n",
              "</div>"
            ],
            "text/plain": [
              "          Mi_Pol   Mi_Pol_err   Mi_Len  ...   Hi_Len  Hi_Len_err Hi_Count\n",
              "total  0.0675965  3.27898e-05  22.5618  ...  22.1423  0.00379404    44515\n",
              "\n",
              "[1 rows x 15 columns]"
            ]
          },
          "metadata": {},
          "execution_count": 145
        }
      ]
    },
    {
      "cell_type": "code",
      "source": [
        "X = ['Mixed','Mostly','High']\n",
        "Mi = [df_speakers_stats_total_dem_FR[\"Mi_Len\"].values[0],df_speakers_stats_total_rep_FR[\"Mi_Len\"].values[0]] # Mean quote length in Mixed factual reporting news outlet\n",
        "Mo = [df_speakers_stats_total_dem_FR[\"Mo_Len\"].values[0],df_speakers_stats_total_rep_FR[\"Mo_Len\"].values[0]] # Mean quote length in Mostly factual reporting news outlet\n",
        "Hi = [df_speakers_stats_total_dem_FR[\"Hi_Len\"].values[0],df_speakers_stats_total_rep_FR[\"Hi_Len\"].values[0]] # Mean quote length in High factual reporting news outlet\n",
        "\n",
        "# Quotes number for speakers of both parties\n",
        "Dem_count = [df_speakers_stats_total_dem_FR[\"Mi_Count\"].values[0],df_speakers_stats_total_dem_FR[\"Mo_Count\"].values[0],df_speakers_stats_total_dem_FR[\"Hi_Count\"].values[0]]\n",
        "Rep_count = [df_speakers_stats_total_rep_FR[\"Mi_Count\"].values[0],df_speakers_stats_total_rep_FR[\"Mo_Count\"].values[0],df_speakers_stats_total_rep_FR[\"Hi_Count\"].values[0]]\n",
        "\n",
        "Mi_mean = (Mi[0]*Dem_count[0] + Mi[1]*Rep_count[0])/(Dem_count[0]+Rep_count[0])\n",
        "Mo_mean = (Mo[0]*Dem_count[1] + Mo[1]*Rep_count[1])/(Dem_count[1]+Rep_count[1])\n",
        "Hi_mean = (Hi[0]*Dem_count[2] + Hi[1]*Rep_count[2])/(Dem_count[2]+Rep_count[2])\n",
        "\n",
        "_X = np.array([0,1,2]) # Position of categories on x-axis\n",
        "\n",
        "plt.bar(_X, [Mi_mean,Mo_mean,Hi_mean], 0.5,color='black',zorder=2)\n",
        "plt.grid(axis='y',zorder=0)\n",
        "plt.xticks(_X, X) # set labels manually\n",
        "plt.ylim(15)\n",
        "plt.xlabel(\"Factual reporting\")\n",
        "plt.ylabel(\"Quote length\")\n",
        "plt.title(\"Barplot of mean quote length in function of news outlet factual reporting\")\n",
        "plt.show()"
      ],
      "metadata": {
        "colab": {
          "base_uri": "https://localhost:8080/",
          "height": 312
        },
        "outputId": "5ff4fbf1-792f-468b-8c22-6aae06b3b2dc",
        "id": "ZNQkP69Uh93Y"
      },
      "execution_count": null,
      "outputs": [
        {
          "output_type": "stream",
          "name": "stderr",
          "text": [
            "No handles with labels found to put in legend.\n"
          ]
        },
        {
          "output_type": "display_data",
          "data": {
            "image/png": "[encoded data removed]",
            "text/plain": [
              "<Figure size 432x288 with 1 Axes>"
            ]
          },
          "metadata": {
            "needs_background": "light"
          }
        }
      ],
      "id": "ZNQkP69Uh93Y"
    },
    {
      "cell_type": "markdown",
      "source": [
        "Mixed and high factual reporting have mean quote length around 21 words, whereas mostly factual new outlets have a mean quote length of 18 words.\n",
        "\n",
        "*We do not have our hypothesised linked increase of quote length and factual reporting.*"
      ],
      "metadata": {
        "id": "e5fwIVs8h9Va"
      },
      "id": "e5fwIVs8h9Va"
    },
    {
      "cell_type": "code",
      "source": [
        "X = ['Mixed','Mostly','High']\n",
        "Mi = [df_speakers_stats_total_dem_FR[\"Mi_Pol\"].values[0],df_speakers_stats_total_rep_FR[\"Mi_Pol\"].values[0]] # Mean polarity score in Mixed factual reporting news outlet\n",
        "Mo = [df_speakers_stats_total_dem_FR[\"Mo_Pol\"].values[0],df_speakers_stats_total_rep_FR[\"Mo_Pol\"].values[0]] # Mean polarity score in Mostly factual reporting news outlet\n",
        "Hi = [df_speakers_stats_total_dem_FR[\"Hi_Pol\"].values[0],df_speakers_stats_total_rep_FR[\"Hi_Pol\"].values[0]] # Mean polarity score in High factual reporting news outlet\n",
        "\n",
        "# Quotes number for speakers of both parties\n",
        "Dem_count = [df_speakers_stats_total_dem_FR[\"Mi_Count\"].values[0],df_speakers_stats_total_dem_FR[\"Mo_Count\"].values[0],df_speakers_stats_total_dem_FR[\"Hi_Count\"].values[0]]\n",
        "Rep_count = [df_speakers_stats_total_rep_FR[\"Mi_Count\"].values[0],df_speakers_stats_total_rep_FR[\"Mo_Count\"].values[0],df_speakers_stats_total_rep_FR[\"Hi_Count\"].values[0]]\n",
        "\n",
        "Mi_mean = (Mi[0]*Dem_count[0] + Mi[1]*Rep_count[0])/(Dem_count[0]+Rep_count[0])\n",
        "Mo_mean = (Mo[0]*Dem_count[1] + Mo[1]*Rep_count[1])/(Dem_count[1]+Rep_count[1])\n",
        "Hi_mean = (Hi[0]*Dem_count[2] + Hi[1]*Rep_count[2])/(Dem_count[2]+Rep_count[2])\n",
        "\n",
        "\n",
        "_X = np.array([0,1,2]) # Position of categories on x-axis\n",
        "\n",
        "plt.bar(_X, [Mi_mean,Mo_mean,Hi_mean], 0.5,color='black',zorder=2)\n",
        "\n",
        "plt.xticks(_X, X) # set labels manually\n",
        "plt.legend()\n",
        "plt.ylim(0.06)\n",
        "plt.grid(axis='y',zorder=0)\n",
        "plt.xlabel(\"Factual reporting\")\n",
        "plt.ylabel(\"Polarity score\")\n",
        "plt.title(\"Barplot of mean polarity score in function of news outlet factual reporting\")\n",
        "plt.show()"
      ],
      "metadata": {
        "colab": {
          "base_uri": "https://localhost:8080/",
          "height": 312
        },
        "id": "tQRSkXhNmlr2",
        "outputId": "fbb592d5-d45d-47ee-e1a6-05764c8de7d2"
      },
      "id": "tQRSkXhNmlr2",
      "execution_count": null,
      "outputs": [
        {
          "output_type": "stream",
          "name": "stderr",
          "text": [
            "No handles with labels found to put in legend.\n"
          ]
        },
        {
          "output_type": "display_data",
          "data": {
            "image/png": "[encoded data removed]",
            "text/plain": [
              "<Figure size 432x288 with 1 Axes>"
            ]
          },
          "metadata": {
            "needs_background": "light"
          }
        }
      ]
    },
    {
      "cell_type": "markdown",
      "source": [
        "Once again we have mixed and high factual reporting quite close together at around 0.069 and news outlets with mostly factual reporting at 0.066.\n",
        "\n",
        "*Therefore quote positivity does not follow factual reporting in a linear fashion*"
      ],
      "metadata": {
        "id": "HP6YPuJQkrTT"
      },
      "id": "HP6YPuJQkrTT"
    },
    {
      "cell_type": "markdown",
      "source": [
        "#### c) TODO comment the cells and add title to the graph"
      ],
      "metadata": {
        "id": "-PXPYMekhz7n"
      },
      "id": "-PXPYMekhz7n"
    },
    {
      "cell_type": "code",
      "source": [
        "political_US_outlets.head()"
      ],
      "metadata": {
        "colab": {
          "base_uri": "https://localhost:8080/",
          "height": 278
        },
        "id": "YX-WHES28GaK",
        "outputId": "0c7b55b8-6a94-4b67-f33e-e992d407ca61"
      },
      "id": "YX-WHES28GaK",
      "execution_count": null,
      "outputs": [
        {
          "output_type": "execute_result",
          "data": {
            "text/html": [
              "<div>\n",
              "<style scoped>\n",
              "    .dataframe tbody tr th:only-of-type {\n",
              "        vertical-align: middle;\n",
              "    }\n",
              "\n",
              "    .dataframe tbody tr th {\n",
              "        vertical-align: top;\n",
              "    }\n",
              "\n",
              "    .dataframe thead th {\n",
              "        text-align: right;\n",
              "    }\n",
              "</style>\n",
              "<table border=\"1\" class=\"dataframe\">\n",
              "  <thead>\n",
              "    <tr style=\"text-align: right;\">\n",
              "      <th></th>\n",
              "      <th>domain</th>\n",
              "      <th>Year_by_year</th>\n",
              "      <th>Cumulative</th>\n",
              "      <th>Nationality</th>\n",
              "      <th>Political_leaning</th>\n",
              "      <th>Content_creator</th>\n",
              "      <th>Traffic</th>\n",
              "      <th>Factual_reporting</th>\n",
              "      <th>dem_count</th>\n",
              "      <th>rep_count</th>\n",
              "      <th>speaker_ratio</th>\n",
              "      <th>Politic_bias</th>\n",
              "      <th>Political_bias</th>\n",
              "    </tr>\n",
              "  </thead>\n",
              "  <tbody>\n",
              "    <tr>\n",
              "      <th>2</th>\n",
              "      <td>latimes.com</td>\n",
              "      <td>0</td>\n",
              "      <td>1</td>\n",
              "      <td>US</td>\n",
              "      <td>-1.0</td>\n",
              "      <td>1</td>\n",
              "      <td>High</td>\n",
              "      <td>5.0</td>\n",
              "      <td>8341</td>\n",
              "      <td>14271</td>\n",
              "      <td>0.368875</td>\n",
              "      <td>Left/Right-Center</td>\n",
              "      <td>Left/Right-Center</td>\n",
              "    </tr>\n",
              "    <tr>\n",
              "      <th>3</th>\n",
              "      <td>breitbart.com</td>\n",
              "      <td>1</td>\n",
              "      <td>1</td>\n",
              "      <td>US</td>\n",
              "      <td>3.0</td>\n",
              "      <td>1</td>\n",
              "      <td>High</td>\n",
              "      <td>3.0</td>\n",
              "      <td>38635</td>\n",
              "      <td>85690</td>\n",
              "      <td>0.310758</td>\n",
              "      <td>Extreme</td>\n",
              "      <td>Extreme</td>\n",
              "    </tr>\n",
              "    <tr>\n",
              "      <th>7</th>\n",
              "      <td>wtop.com</td>\n",
              "      <td>1</td>\n",
              "      <td>0</td>\n",
              "      <td>US</td>\n",
              "      <td>0.0</td>\n",
              "      <td>1</td>\n",
              "      <td>NaN</td>\n",
              "      <td>5.0</td>\n",
              "      <td>9175</td>\n",
              "      <td>19650</td>\n",
              "      <td>0.318300</td>\n",
              "      <td>Neutral</td>\n",
              "      <td>Neutral</td>\n",
              "    </tr>\n",
              "    <tr>\n",
              "      <th>13</th>\n",
              "      <td>chicagotribune.com</td>\n",
              "      <td>0</td>\n",
              "      <td>1</td>\n",
              "      <td>US</td>\n",
              "      <td>1.0</td>\n",
              "      <td>1</td>\n",
              "      <td>High</td>\n",
              "      <td>5.0</td>\n",
              "      <td>6178</td>\n",
              "      <td>14178</td>\n",
              "      <td>0.303498</td>\n",
              "      <td>Left/Right-Center</td>\n",
              "      <td>Left/Right-Center</td>\n",
              "    </tr>\n",
              "    <tr>\n",
              "      <th>14</th>\n",
              "      <td>sfgate.com</td>\n",
              "      <td>1</td>\n",
              "      <td>1</td>\n",
              "      <td>US</td>\n",
              "      <td>-1.0</td>\n",
              "      <td>1</td>\n",
              "      <td>High</td>\n",
              "      <td>5.0</td>\n",
              "      <td>17619</td>\n",
              "      <td>35399</td>\n",
              "      <td>0.332321</td>\n",
              "      <td>Left/Right-Center</td>\n",
              "      <td>Left/Right-Center</td>\n",
              "    </tr>\n",
              "  </tbody>\n",
              "</table>\n",
              "</div>"
            ],
            "text/plain": [
              "                domain  Year_by_year  ...       Politic_bias     Political_bias\n",
              "2          latimes.com             0  ...  Left/Right-Center  Left/Right-Center\n",
              "3        breitbart.com             1  ...            Extreme            Extreme\n",
              "7             wtop.com             1  ...            Neutral            Neutral\n",
              "13  chicagotribune.com             0  ...  Left/Right-Center  Left/Right-Center\n",
              "14          sfgate.com             1  ...  Left/Right-Center  Left/Right-Center\n",
              "\n",
              "[5 rows x 13 columns]"
            ]
          },
          "metadata": {},
          "execution_count": 153
        }
      ]
    },
    {
      "cell_type": "code",
      "source": [
        "politic_bias_list = []\n",
        "for outlet in political_US_outlets.iterrows():\n",
        "  if abs(outlet[1][\"Political_leaning\"]) >= 2:\n",
        "    politic_bias_list.append(\"Extreme\")\n",
        "  elif abs(outlet[1][\"Political_leaning\"]) == 1:\n",
        "    politic_bias_list.append(\"Left/Right-Center\")\n",
        "  elif outlet[1][\"Political_leaning\"] == 0:\n",
        "    politic_bias_list.append(\"Neutral\")\n",
        "\n",
        "political_US_outlets[\"Political_bias\"] = politic_bias_list"
      ],
      "metadata": {
        "colab": {
          "base_uri": "https://localhost:8080/"
        },
        "id": "_S4Zlj5y8S7S",
        "outputId": "ead4135b-c5c9-416a-bbe7-069e357cfc94"
      },
      "id": "_S4Zlj5y8S7S",
      "execution_count": null,
      "outputs": [
        {
          "output_type": "stream",
          "name": "stderr",
          "text": [
            "/usr/local/lib/python3.7/dist-packages/ipykernel_launcher.py:10: SettingWithCopyWarning: \n",
            "A value is trying to be set on a copy of a slice from a DataFrame.\n",
            "Try using .loc[row_indexer,col_indexer] = value instead\n",
            "\n",
            "See the caveats in the documentation: https://pandas.pydata.org/pandas-docs/stable/user_guide/indexing.html#returning-a-view-versus-a-copy\n",
            "  # Remove the CWD from sys.path while we load stuff.\n"
          ]
        }
      ]
    },
    {
      "cell_type": "code",
      "source": [
        "sns.barplot(data=political_US_outlets, x=\"Political_bias\", y=\"Factual_reporting\",order=[\"Neutral\",\"Left/Right-Center\",\"Extreme\"],palette=sns.color_palette(\"coolwarm\", as_cmap=False))"
      ],
      "metadata": {
        "colab": {
          "base_uri": "https://localhost:8080/",
          "height": 298
        },
        "id": "A4s_qQIsd2hQ",
        "outputId": "69df063a-8d0b-4d12-9286-e6285ea45300"
      },
      "id": "A4s_qQIsd2hQ",
      "execution_count": null,
      "outputs": [
        {
          "output_type": "execute_result",
          "data": {
            "text/plain": [
              "<matplotlib.axes._subplots.AxesSubplot at 0x7fcf5d18ad50>"
            ]
          },
          "metadata": {},
          "execution_count": 156
        },
        {
          "output_type": "display_data",
          "data": {
            "image/png": "[encoded data removed]",
            "text/plain": [
              "<Figure size 432x288 with 1 Axes>"
            ]
          },
          "metadata": {
            "needs_background": "light"
          }
        }
      ]
    },
    {
      "cell_type": "markdown",
      "source": [
        "Here we've separated our news outlet political leaning value with subvalues of left/right, differentiating between left/left-center and right/right-center. All center and extreme values were merged.\n",
        "\n",
        "**pb: avant on a tjrs utilisé les valeurs catégoriques pour factual reporting, et là c'est numérique. Faudrait changer ca svp. Aussi les noms des axes sont à reformuler, et je suis pas fan de 'extreme' pour les right/left leaning**\n",
        "\n",
        "We see that very political websites have a lower factual reporting, and that neutral and left/right-center are indiscernable.\n",
        "\n",
        "*It looks like going from neutral to a moderate political leaning does not impact the factual rating of news sources. However, having a very clear left/right political leaning is associated with a significantly lower factual reporting rating.*"
      ],
      "metadata": {
        "id": "Hi7T8d3VfLfI"
      },
      "id": "Hi7T8d3VfLfI"
    },
    {
      "cell_type": "markdown",
      "source": [
        "**Petite conclusion partie 3**\n",
        "\n",
        "*From what we've just seen, it doesn't look like variations in factual reporting and quoting style are really linked, or at least not in a linear way. News outlets with mixed and high factual reporting rating have longer and more positive quotes than mostly factual ones.\n",
        "However we did confirm that very politicised websites have lower factual reporting than neutral or moderatly politicised one.*"
      ],
      "metadata": {
        "id": "rvnwI3JVo0H3"
      },
      "id": "rvnwI3JVo0H3"
    },
    {
      "cell_type": "markdown",
      "source": [
        "**A JARTER JE PENSE**"
      ],
      "metadata": {
        "id": "6IxCc13oo0Xm"
      },
      "id": "6IxCc13oo0Xm"
    },
    {
      "cell_type": "code",
      "source": [
        "sns.jointplot(data=political_US_outlets, x=\"speaker_ratio\", y=\"Factual_reporting\", hue=\"Political_leaning\")"
      ],
      "metadata": {
        "colab": {
          "base_uri": "https://localhost:8080/",
          "height": 458
        },
        "id": "NHEiVI68f8Nq",
        "outputId": "ce78442a-0030-4713-f355-8be12551bd04"
      },
      "id": "NHEiVI68f8Nq",
      "execution_count": null,
      "outputs": [
        {
          "output_type": "execute_result",
          "data": {
            "text/plain": [
              "<seaborn.axisgrid.JointGrid at 0x7fcf61f3add0>"
            ]
          },
          "metadata": {},
          "execution_count": 157
        },
        {
          "output_type": "display_data",
          "data": {
            "image/png": "[encoded data removed]",
            "text/plain": [
              "<Figure size 432x432 with 3 Axes>"
            ]
          },
          "metadata": {
            "needs_background": "light"
          }
        }
      ]
    },
    {
      "cell_type": "markdown",
      "source": [
        "### 4) PCA/Clustering? (trying to make it work)\n",
        "\n",
        "The idea is that we will input a twelve dimensions variable: \n",
        "- for each of the *six years* there will be the: \n",
        "  - `quote_length`\n",
        "  - `polarity_score` \n",
        "  \n",
        "This twelve degrees of freedom will hopefully be correlated with the `political_leaning` and `factual_reporting` of the given news outlet. Basically we will try to predict the political leaning and factual reporting based on `quote_length` and `polarity_score`. \n",
        "\n",
        "The first step is to gather the twelve variables into a dataframe, for this we will use `get_mean_of_col_for_each_outlet_per_year(col, list_of_outlets)`to compute the mean per year per outlet.\n",
        "Then we compute the PCA and plot the different clusters based on political leaning and factual reporting. "
      ],
      "metadata": {
        "id": "4eoWU5c_84HZ"
      },
      "id": "4eoWU5c_84HZ"
    },
    {
      "cell_type": "code",
      "source": [
        "# Initiate data frame with the list of the US political domains \n",
        "list_years = [2015, 2016, 2017, 2018, 2019, 2020]\n",
        "# Initiate the columns names\n",
        "tmp_len, tmp_com = [], [] \n",
        "for year in list_years:\n",
        "  tmp_len.append(str(year)+\"_len\")\n",
        "  tmp_com.append(str(year)+\"_pol\")\n",
        "col_names = tmp_len + tmp_com\n",
        "data_PCA = pd.DataFrame(index=list_domains, columns=col_names)\n",
        "data_PCA.loc[:, tmp_len]  = get_mean_of_col_for_each_outlet_per_year(\"quote_length\",list_domains).T.values\n",
        "data_PCA.loc[:, tmp_com]  = get_mean_of_col_for_each_outlet_per_year(\"compound\",list_domains).T.values\n",
        "\n",
        "# For the Washington Post does not have values for 2020, so we remove it \n",
        "data_PCA.dropna(inplace=True)"
      ],
      "metadata": {
        "colab": {
          "base_uri": "https://localhost:8080/",
          "height": 665
        },
        "id": "8nxY5292b7IZ",
        "outputId": "b204758d-25b5-4812-8e2d-fbb9c429706d"
      },
      "id": "8nxY5292b7IZ",
      "execution_count": null,
      "outputs": [
        {
          "output_type": "execute_result",
          "data": {
            "text/html": [
              "<div>\n",
              "<style scoped>\n",
              "    .dataframe tbody tr th:only-of-type {\n",
              "        vertical-align: middle;\n",
              "    }\n",
              "\n",
              "    .dataframe tbody tr th {\n",
              "        vertical-align: top;\n",
              "    }\n",
              "\n",
              "    .dataframe thead th {\n",
              "        text-align: right;\n",
              "    }\n",
              "</style>\n",
              "<table border=\"1\" class=\"dataframe\">\n",
              "  <thead>\n",
              "    <tr style=\"text-align: right;\">\n",
              "      <th></th>\n",
              "      <th>2015_len</th>\n",
              "      <th>2016_len</th>\n",
              "      <th>2017_len</th>\n",
              "      <th>2018_len</th>\n",
              "      <th>2019_len</th>\n",
              "      <th>2020_len</th>\n",
              "      <th>2015_pol</th>\n",
              "      <th>2016_pol</th>\n",
              "      <th>2017_pol</th>\n",
              "      <th>2018_pol</th>\n",
              "      <th>2019_pol</th>\n",
              "      <th>2020_pol</th>\n",
              "    </tr>\n",
              "  </thead>\n",
              "  <tbody>\n",
              "    <tr>\n",
              "      <th>latimes.com</th>\n",
              "      <td>18.232</td>\n",
              "      <td>18.3967</td>\n",
              "      <td>18.9018</td>\n",
              "      <td>19.3386</td>\n",
              "      <td>19.7509</td>\n",
              "      <td>19.7487</td>\n",
              "      <td>0.125557</td>\n",
              "      <td>0.131786</td>\n",
              "      <td>0.130372</td>\n",
              "      <td>0.137327</td>\n",
              "      <td>0.129715</td>\n",
              "      <td>0.112225</td>\n",
              "    </tr>\n",
              "    <tr>\n",
              "      <th>breitbart.com</th>\n",
              "      <td>26.8044</td>\n",
              "      <td>20.88</td>\n",
              "      <td>20.8942</td>\n",
              "      <td>20.4744</td>\n",
              "      <td>20.8923</td>\n",
              "      <td>21.4522</td>\n",
              "      <td>0.0360819</td>\n",
              "      <td>0.0921929</td>\n",
              "      <td>0.094649</td>\n",
              "      <td>0.105469</td>\n",
              "      <td>0.0973902</td>\n",
              "      <td>0.0957404</td>\n",
              "    </tr>\n",
              "    <tr>\n",
              "      <th>wtop.com</th>\n",
              "      <td>18.7837</td>\n",
              "      <td>19.0276</td>\n",
              "      <td>19.1485</td>\n",
              "      <td>18.4826</td>\n",
              "      <td>18.867</td>\n",
              "      <td>19.225</td>\n",
              "      <td>0.159981</td>\n",
              "      <td>0.155056</td>\n",
              "      <td>0.148618</td>\n",
              "      <td>0.105848</td>\n",
              "      <td>0.100752</td>\n",
              "      <td>0.103291</td>\n",
              "    </tr>\n",
              "    <tr>\n",
              "      <th>chicagotribune.com</th>\n",
              "      <td>19.4026</td>\n",
              "      <td>19.2869</td>\n",
              "      <td>19.6891</td>\n",
              "      <td>20.1787</td>\n",
              "      <td>22.2875</td>\n",
              "      <td>20.3902</td>\n",
              "      <td>0.154172</td>\n",
              "      <td>0.142298</td>\n",
              "      <td>0.141398</td>\n",
              "      <td>0.14402</td>\n",
              "      <td>0.0997843</td>\n",
              "      <td>0.129555</td>\n",
              "    </tr>\n",
              "    <tr>\n",
              "      <th>sfgate.com</th>\n",
              "      <td>18.5135</td>\n",
              "      <td>18.7935</td>\n",
              "      <td>18.4644</td>\n",
              "      <td>18.6107</td>\n",
              "      <td>19.7097</td>\n",
              "      <td>20.8969</td>\n",
              "      <td>0.107689</td>\n",
              "      <td>0.107965</td>\n",
              "      <td>0.0960289</td>\n",
              "      <td>0.0983566</td>\n",
              "      <td>0.117968</td>\n",
              "      <td>0.130861</td>\n",
              "    </tr>\n",
              "    <tr>\n",
              "      <th>upi.com</th>\n",
              "      <td>22.2486</td>\n",
              "      <td>23.1041</td>\n",
              "      <td>23.2014</td>\n",
              "      <td>23.6882</td>\n",
              "      <td>22.5347</td>\n",
              "      <td>23.1222</td>\n",
              "      <td>0.177251</td>\n",
              "      <td>0.204579</td>\n",
              "      <td>0.218107</td>\n",
              "      <td>0.219165</td>\n",
              "      <td>0.176878</td>\n",
              "      <td>0.175097</td>\n",
              "    </tr>\n",
              "    <tr>\n",
              "      <th>chron.com</th>\n",
              "      <td>18.8817</td>\n",
              "      <td>20.4661</td>\n",
              "      <td>20.029</td>\n",
              "      <td>19.6682</td>\n",
              "      <td>19.0766</td>\n",
              "      <td>19.8882</td>\n",
              "      <td>0.129547</td>\n",
              "      <td>0.131929</td>\n",
              "      <td>0.155258</td>\n",
              "      <td>0.142485</td>\n",
              "      <td>0.112826</td>\n",
              "      <td>0.118946</td>\n",
              "    </tr>\n",
              "    <tr>\n",
              "      <th>cnn.com</th>\n",
              "      <td>19.656</td>\n",
              "      <td>19.8493</td>\n",
              "      <td>20.1161</td>\n",
              "      <td>20.8801</td>\n",
              "      <td>21.7093</td>\n",
              "      <td>22.124</td>\n",
              "      <td>0.0808692</td>\n",
              "      <td>0.0906861</td>\n",
              "      <td>0.086573</td>\n",
              "      <td>0.0833517</td>\n",
              "      <td>0.0815028</td>\n",
              "      <td>0.0950401</td>\n",
              "    </tr>\n",
              "    <tr>\n",
              "      <th>nytimes.com</th>\n",
              "      <td>12.119</td>\n",
              "      <td>17.5021</td>\n",
              "      <td>16.8576</td>\n",
              "      <td>16.6273</td>\n",
              "      <td>16.5985</td>\n",
              "      <td>16.8086</td>\n",
              "      <td>0.0473131</td>\n",
              "      <td>0.106861</td>\n",
              "      <td>0.0845212</td>\n",
              "      <td>0.0791975</td>\n",
              "      <td>0.0773883</td>\n",
              "      <td>0.0655321</td>\n",
              "    </tr>\n",
              "    <tr>\n",
              "      <th>thehill.com</th>\n",
              "      <td>20.9238</td>\n",
              "      <td>21.2247</td>\n",
              "      <td>21.5447</td>\n",
              "      <td>21.9834</td>\n",
              "      <td>22.6081</td>\n",
              "      <td>22.8167</td>\n",
              "      <td>0.0928928</td>\n",
              "      <td>0.0818648</td>\n",
              "      <td>0.0743337</td>\n",
              "      <td>0.0665419</td>\n",
              "      <td>0.0671745</td>\n",
              "      <td>0.0751038</td>\n",
              "    </tr>\n",
              "    <tr>\n",
              "      <th>washingtonpost.com</th>\n",
              "      <td>21.0679</td>\n",
              "      <td>20.8545</td>\n",
              "      <td>21.2205</td>\n",
              "      <td>21.6072</td>\n",
              "      <td>19.6607</td>\n",
              "      <td>NaN</td>\n",
              "      <td>0.112781</td>\n",
              "      <td>0.0998904</td>\n",
              "      <td>0.0922415</td>\n",
              "      <td>0.0934433</td>\n",
              "      <td>0.0558134</td>\n",
              "      <td>NaN</td>\n",
              "    </tr>\n",
              "    <tr>\n",
              "      <th>mysanantonio.com</th>\n",
              "      <td>18.0785</td>\n",
              "      <td>19.2685</td>\n",
              "      <td>19.2984</td>\n",
              "      <td>19.3941</td>\n",
              "      <td>19.7602</td>\n",
              "      <td>20.2855</td>\n",
              "      <td>0.12711</td>\n",
              "      <td>0.154803</td>\n",
              "      <td>0.145336</td>\n",
              "      <td>0.147189</td>\n",
              "      <td>0.157352</td>\n",
              "      <td>0.141873</td>\n",
              "    </tr>\n",
              "    <tr>\n",
              "      <th>seattletimes.com</th>\n",
              "      <td>19.6977</td>\n",
              "      <td>19.2139</td>\n",
              "      <td>19.1279</td>\n",
              "      <td>19.1153</td>\n",
              "      <td>20.1009</td>\n",
              "      <td>19.7891</td>\n",
              "      <td>0.136353</td>\n",
              "      <td>0.134191</td>\n",
              "      <td>0.132841</td>\n",
              "      <td>0.128267</td>\n",
              "      <td>0.177406</td>\n",
              "      <td>0.13305</td>\n",
              "    </tr>\n",
              "    <tr>\n",
              "      <th>washingtontimes.com</th>\n",
              "      <td>20.0636</td>\n",
              "      <td>19.9965</td>\n",
              "      <td>20.1266</td>\n",
              "      <td>20.1868</td>\n",
              "      <td>20.2032</td>\n",
              "      <td>20.4588</td>\n",
              "      <td>0.156674</td>\n",
              "      <td>0.15432</td>\n",
              "      <td>0.150396</td>\n",
              "      <td>0.144552</td>\n",
              "      <td>0.131634</td>\n",
              "      <td>0.11266</td>\n",
              "    </tr>\n",
              "    <tr>\n",
              "      <th>philly.com</th>\n",
              "      <td>18.7521</td>\n",
              "      <td>18.7147</td>\n",
              "      <td>19.604</td>\n",
              "      <td>20.0029</td>\n",
              "      <td>19.6878</td>\n",
              "      <td>19.6482</td>\n",
              "      <td>0.141786</td>\n",
              "      <td>0.136529</td>\n",
              "      <td>0.143227</td>\n",
              "      <td>0.155531</td>\n",
              "      <td>0.142688</td>\n",
              "      <td>0.132801</td>\n",
              "    </tr>\n",
              "    <tr>\n",
              "      <th>newsok.com</th>\n",
              "      <td>19.5096</td>\n",
              "      <td>26.244</td>\n",
              "      <td>26.9282</td>\n",
              "      <td>22.7499</td>\n",
              "      <td>21.7192</td>\n",
              "      <td>22.1154</td>\n",
              "      <td>0.143981</td>\n",
              "      <td>0.136342</td>\n",
              "      <td>0.169311</td>\n",
              "      <td>0.203351</td>\n",
              "      <td>0.212277</td>\n",
              "      <td>0.198681</td>\n",
              "    </tr>\n",
              "    <tr>\n",
              "      <th>cbsnews.com</th>\n",
              "      <td>19.5227</td>\n",
              "      <td>19.7231</td>\n",
              "      <td>19.957</td>\n",
              "      <td>20.8252</td>\n",
              "      <td>21.2171</td>\n",
              "      <td>21.7348</td>\n",
              "      <td>0.0684536</td>\n",
              "      <td>0.0772537</td>\n",
              "      <td>0.064677</td>\n",
              "      <td>0.0740691</td>\n",
              "      <td>0.0788273</td>\n",
              "      <td>0.0855674</td>\n",
              "    </tr>\n",
              "    <tr>\n",
              "      <th>foxnews.com</th>\n",
              "      <td>20.2114</td>\n",
              "      <td>19.9555</td>\n",
              "      <td>21.1561</td>\n",
              "      <td>21.9979</td>\n",
              "      <td>24.3332</td>\n",
              "      <td>24.7778</td>\n",
              "      <td>0.0815077</td>\n",
              "      <td>0.0711551</td>\n",
              "      <td>0.0686505</td>\n",
              "      <td>0.0716556</td>\n",
              "      <td>0.0842734</td>\n",
              "      <td>0.0976581</td>\n",
              "    </tr>\n",
              "    <tr>\n",
              "      <th>startribune.com</th>\n",
              "      <td>18.728</td>\n",
              "      <td>18.4453</td>\n",
              "      <td>18.7781</td>\n",
              "      <td>18.9887</td>\n",
              "      <td>19.3334</td>\n",
              "      <td>19.7075</td>\n",
              "      <td>0.132541</td>\n",
              "      <td>0.127922</td>\n",
              "      <td>0.133452</td>\n",
              "      <td>0.149742</td>\n",
              "      <td>0.152955</td>\n",
              "      <td>0.133209</td>\n",
              "    </tr>\n",
              "  </tbody>\n",
              "</table>\n",
              "</div>"
            ],
            "text/plain": [
              "                    2015_len 2016_len 2017_len  ...   2018_pol   2019_pol   2020_pol\n",
              "latimes.com           18.232  18.3967  18.9018  ...   0.137327   0.129715   0.112225\n",
              "breitbart.com        26.8044    20.88  20.8942  ...   0.105469  0.0973902  0.0957404\n",
              "wtop.com             18.7837  19.0276  19.1485  ...   0.105848   0.100752   0.103291\n",
              "chicagotribune.com   19.4026  19.2869  19.6891  ...    0.14402  0.0997843   0.129555\n",
              "sfgate.com           18.5135  18.7935  18.4644  ...  0.0983566   0.117968   0.130861\n",
              "upi.com              22.2486  23.1041  23.2014  ...   0.219165   0.176878   0.175097\n",
              "chron.com            18.8817  20.4661   20.029  ...   0.142485   0.112826   0.118946\n",
              "cnn.com               19.656  19.8493  20.1161  ...  0.0833517  0.0815028  0.0950401\n",
              "nytimes.com           12.119  17.5021  16.8576  ...  0.0791975  0.0773883  0.0655321\n",
              "thehill.com          20.9238  21.2247  21.5447  ...  0.0665419  0.0671745  0.0751038\n",
              "washingtonpost.com   21.0679  20.8545  21.2205  ...  0.0934433  0.0558134        NaN\n",
              "mysanantonio.com     18.0785  19.2685  19.2984  ...   0.147189   0.157352   0.141873\n",
              "seattletimes.com     19.6977  19.2139  19.1279  ...   0.128267   0.177406    0.13305\n",
              "washingtontimes.com  20.0636  19.9965  20.1266  ...   0.144552   0.131634    0.11266\n",
              "philly.com           18.7521  18.7147   19.604  ...   0.155531   0.142688   0.132801\n",
              "newsok.com           19.5096   26.244  26.9282  ...   0.203351   0.212277   0.198681\n",
              "cbsnews.com          19.5227  19.7231   19.957  ...  0.0740691  0.0788273  0.0855674\n",
              "foxnews.com          20.2114  19.9555  21.1561  ...  0.0716556  0.0842734  0.0976581\n",
              "startribune.com       18.728  18.4453  18.7781  ...   0.149742   0.152955   0.133209\n",
              "\n",
              "[19 rows x 12 columns]"
            ]
          },
          "metadata": {},
          "execution_count": 58
        }
      ]
    },
    {
      "cell_type": "code",
      "source": [
        "# Normalise the data between 0 and 1 \n",
        "scaler = MinMaxScaler()\n",
        "scaler.fit(data_PCA)\n",
        "scaled = scaler.fit_transform(data_PCA)\n",
        "data_PCA_scaled = pd.DataFrame(scaled, columns=data_PCA.columns)"
      ],
      "metadata": {
        "colab": {
          "base_uri": "https://localhost:8080/",
          "height": 614
        },
        "id": "CTsJHD9PGgNz",
        "outputId": "5b07f53a-f63c-4b0e-b57f-7a2194c21180"
      },
      "id": "CTsJHD9PGgNz",
      "execution_count": null,
      "outputs": [
        {
          "output_type": "execute_result",
          "data": {
            "text/html": [
              "<div>\n",
              "<style scoped>\n",
              "    .dataframe tbody tr th:only-of-type {\n",
              "        vertical-align: middle;\n",
              "    }\n",
              "\n",
              "    .dataframe tbody tr th {\n",
              "        vertical-align: top;\n",
              "    }\n",
              "\n",
              "    .dataframe thead th {\n",
              "        text-align: right;\n",
              "    }\n",
              "</style>\n",
              "<table border=\"1\" class=\"dataframe\">\n",
              "  <thead>\n",
              "    <tr style=\"text-align: right;\">\n",
              "      <th></th>\n",
              "      <th>2015_len</th>\n",
              "      <th>2016_len</th>\n",
              "      <th>2017_len</th>\n",
              "      <th>2018_len</th>\n",
              "      <th>2019_len</th>\n",
              "      <th>2020_len</th>\n",
              "      <th>2015_pol</th>\n",
              "      <th>2016_pol</th>\n",
              "      <th>2017_pol</th>\n",
              "      <th>2018_pol</th>\n",
              "      <th>2019_pol</th>\n",
              "      <th>2020_pol</th>\n",
              "    </tr>\n",
              "  </thead>\n",
              "  <tbody>\n",
              "    <tr>\n",
              "      <th>0</th>\n",
              "      <td>0.416269</td>\n",
              "      <td>0.102339</td>\n",
              "      <td>0.202993</td>\n",
              "      <td>0.383984</td>\n",
              "      <td>0.407556</td>\n",
              "      <td>0.368935</td>\n",
              "      <td>0.633814</td>\n",
              "      <td>0.454421</td>\n",
              "      <td>0.428176</td>\n",
              "      <td>0.463790</td>\n",
              "      <td>0.431012</td>\n",
              "      <td>0.350684</td>\n",
              "    </tr>\n",
              "    <tr>\n",
              "      <th>1</th>\n",
              "      <td>1.000000</td>\n",
              "      <td>0.386408</td>\n",
              "      <td>0.400828</td>\n",
              "      <td>0.544855</td>\n",
              "      <td>0.555128</td>\n",
              "      <td>0.582693</td>\n",
              "      <td>0.000000</td>\n",
              "      <td>0.157676</td>\n",
              "      <td>0.195346</td>\n",
              "      <td>0.255056</td>\n",
              "      <td>0.208237</td>\n",
              "      <td>0.226876</td>\n",
              "    </tr>\n",
              "    <tr>\n",
              "      <th>2</th>\n",
              "      <td>0.453837</td>\n",
              "      <td>0.174500</td>\n",
              "      <td>0.227485</td>\n",
              "      <td>0.262757</td>\n",
              "      <td>0.293286</td>\n",
              "      <td>0.303218</td>\n",
              "      <td>0.877661</td>\n",
              "      <td>0.628824</td>\n",
              "      <td>0.547097</td>\n",
              "      <td>0.257540</td>\n",
              "      <td>0.231409</td>\n",
              "      <td>0.283586</td>\n",
              "    </tr>\n",
              "    <tr>\n",
              "      <th>3</th>\n",
              "      <td>0.495981</td>\n",
              "      <td>0.204170</td>\n",
              "      <td>0.281171</td>\n",
              "      <td>0.502975</td>\n",
              "      <td>0.735510</td>\n",
              "      <td>0.449425</td>\n",
              "      <td>0.836515</td>\n",
              "      <td>0.533204</td>\n",
              "      <td>0.500041</td>\n",
              "      <td>0.507641</td>\n",
              "      <td>0.224736</td>\n",
              "      <td>0.480839</td>\n",
              "    </tr>\n",
              "    <tr>\n",
              "      <th>4</th>\n",
              "      <td>0.435435</td>\n",
              "      <td>0.147720</td>\n",
              "      <td>0.159559</td>\n",
              "      <td>0.280904</td>\n",
              "      <td>0.402236</td>\n",
              "      <td>0.513011</td>\n",
              "      <td>0.507246</td>\n",
              "      <td>0.275886</td>\n",
              "      <td>0.204340</td>\n",
              "      <td>0.208453</td>\n",
              "      <td>0.350051</td>\n",
              "      <td>0.490645</td>\n",
              "    </tr>\n",
              "    <tr>\n",
              "      <th>5</th>\n",
              "      <td>0.689777</td>\n",
              "      <td>0.640826</td>\n",
              "      <td>0.629935</td>\n",
              "      <td>1.000000</td>\n",
              "      <td>0.767474</td>\n",
              "      <td>0.792241</td>\n",
              "      <td>1.000000</td>\n",
              "      <td>1.000000</td>\n",
              "      <td>1.000000</td>\n",
              "      <td>1.000000</td>\n",
              "      <td>0.756039</td>\n",
              "      <td>0.822877</td>\n",
              "    </tr>\n",
              "    <tr>\n",
              "      <th>6</th>\n",
              "      <td>0.460509</td>\n",
              "      <td>0.339055</td>\n",
              "      <td>0.314920</td>\n",
              "      <td>0.430666</td>\n",
              "      <td>0.320386</td>\n",
              "      <td>0.386439</td>\n",
              "      <td>0.662078</td>\n",
              "      <td>0.455495</td>\n",
              "      <td>0.590374</td>\n",
              "      <td>0.497588</td>\n",
              "      <td>0.314614</td>\n",
              "      <td>0.401160</td>\n",
              "    </tr>\n",
              "    <tr>\n",
              "      <th>7</th>\n",
              "      <td>0.513230</td>\n",
              "      <td>0.268497</td>\n",
              "      <td>0.323563</td>\n",
              "      <td>0.602312</td>\n",
              "      <td>0.660764</td>\n",
              "      <td>0.666994</td>\n",
              "      <td>0.317259</td>\n",
              "      <td>0.146382</td>\n",
              "      <td>0.142710</td>\n",
              "      <td>0.110140</td>\n",
              "      <td>0.098746</td>\n",
              "      <td>0.221616</td>\n",
              "    </tr>\n",
              "    <tr>\n",
              "      <th>8</th>\n",
              "      <td>0.000000</td>\n",
              "      <td>0.000000</td>\n",
              "      <td>0.000000</td>\n",
              "      <td>0.000000</td>\n",
              "      <td>0.000000</td>\n",
              "      <td>0.000000</td>\n",
              "      <td>0.079558</td>\n",
              "      <td>0.267614</td>\n",
              "      <td>0.129337</td>\n",
              "      <td>0.082921</td>\n",
              "      <td>0.070390</td>\n",
              "      <td>0.000000</td>\n",
              "    </tr>\n",
              "    <tr>\n",
              "      <th>9</th>\n",
              "      <td>0.599561</td>\n",
              "      <td>0.425831</td>\n",
              "      <td>0.465432</td>\n",
              "      <td>0.758564</td>\n",
              "      <td>0.776964</td>\n",
              "      <td>0.753910</td>\n",
              "      <td>0.402431</td>\n",
              "      <td>0.080268</td>\n",
              "      <td>0.062939</td>\n",
              "      <td>0.000000</td>\n",
              "      <td>0.000000</td>\n",
              "      <td>0.071887</td>\n",
              "    </tr>\n",
              "    <tr>\n",
              "      <th>10</th>\n",
              "      <td>0.405815</td>\n",
              "      <td>0.202067</td>\n",
              "      <td>0.242373</td>\n",
              "      <td>0.391853</td>\n",
              "      <td>0.408758</td>\n",
              "      <td>0.436287</td>\n",
              "      <td>0.644813</td>\n",
              "      <td>0.626931</td>\n",
              "      <td>0.525708</td>\n",
              "      <td>0.528404</td>\n",
              "      <td>0.621471</td>\n",
              "      <td>0.573348</td>\n",
              "    </tr>\n",
              "    <tr>\n",
              "      <th>11</th>\n",
              "      <td>0.516073</td>\n",
              "      <td>0.195812</td>\n",
              "      <td>0.225440</td>\n",
              "      <td>0.352365</td>\n",
              "      <td>0.452817</td>\n",
              "      <td>0.374000</td>\n",
              "      <td>0.710293</td>\n",
              "      <td>0.472447</td>\n",
              "      <td>0.444270</td>\n",
              "      <td>0.404429</td>\n",
              "      <td>0.759677</td>\n",
              "      <td>0.507087</td>\n",
              "    </tr>\n",
              "    <tr>\n",
              "      <th>12</th>\n",
              "      <td>0.540986</td>\n",
              "      <td>0.285336</td>\n",
              "      <td>0.324612</td>\n",
              "      <td>0.504117</td>\n",
              "      <td>0.466034</td>\n",
              "      <td>0.458042</td>\n",
              "      <td>0.854239</td>\n",
              "      <td>0.623308</td>\n",
              "      <td>0.558684</td>\n",
              "      <td>0.511126</td>\n",
              "      <td>0.444233</td>\n",
              "      <td>0.353950</td>\n",
              "    </tr>\n",
              "    <tr>\n",
              "      <th>13</th>\n",
              "      <td>0.451681</td>\n",
              "      <td>0.138706</td>\n",
              "      <td>0.272719</td>\n",
              "      <td>0.478065</td>\n",
              "      <td>0.399405</td>\n",
              "      <td>0.356328</td>\n",
              "      <td>0.748777</td>\n",
              "      <td>0.489969</td>\n",
              "      <td>0.511958</td>\n",
              "      <td>0.583064</td>\n",
              "      <td>0.520416</td>\n",
              "      <td>0.505212</td>\n",
              "    </tr>\n",
              "    <tr>\n",
              "      <th>14</th>\n",
              "      <td>0.503263</td>\n",
              "      <td>1.000000</td>\n",
              "      <td>1.000000</td>\n",
              "      <td>0.867117</td>\n",
              "      <td>0.662039</td>\n",
              "      <td>0.665913</td>\n",
              "      <td>0.764325</td>\n",
              "      <td>0.488568</td>\n",
              "      <td>0.681963</td>\n",
              "      <td>0.896387</td>\n",
              "      <td>1.000000</td>\n",
              "      <td>1.000000</td>\n",
              "    </tr>\n",
              "    <tr>\n",
              "      <th>15</th>\n",
              "      <td>0.504159</td>\n",
              "      <td>0.254062</td>\n",
              "      <td>0.307765</td>\n",
              "      <td>0.594535</td>\n",
              "      <td>0.597117</td>\n",
              "      <td>0.618150</td>\n",
              "      <td>0.229311</td>\n",
              "      <td>0.045708</td>\n",
              "      <td>0.000000</td>\n",
              "      <td>0.049319</td>\n",
              "      <td>0.080307</td>\n",
              "      <td>0.150473</td>\n",
              "    </tr>\n",
              "    <tr>\n",
              "      <th>16</th>\n",
              "      <td>0.551054</td>\n",
              "      <td>0.280646</td>\n",
              "      <td>0.426834</td>\n",
              "      <td>0.760619</td>\n",
              "      <td>1.000000</td>\n",
              "      <td>1.000000</td>\n",
              "      <td>0.321783</td>\n",
              "      <td>0.000000</td>\n",
              "      <td>0.025898</td>\n",
              "      <td>0.033506</td>\n",
              "      <td>0.117840</td>\n",
              "      <td>0.241279</td>\n",
              "    </tr>\n",
              "    <tr>\n",
              "      <th>17</th>\n",
              "      <td>0.450039</td>\n",
              "      <td>0.107893</td>\n",
              "      <td>0.190701</td>\n",
              "      <td>0.334439</td>\n",
              "      <td>0.353583</td>\n",
              "      <td>0.363766</td>\n",
              "      <td>0.683290</td>\n",
              "      <td>0.425463</td>\n",
              "      <td>0.448252</td>\n",
              "      <td>0.545135</td>\n",
              "      <td>0.591169</td>\n",
              "      <td>0.508276</td>\n",
              "    </tr>\n",
              "  </tbody>\n",
              "</table>\n",
              "</div>"
            ],
            "text/plain": [
              "    2015_len  2016_len  2017_len  ...  2018_pol  2019_pol  2020_pol\n",
              "0   0.416269  0.102339  0.202993  ...  0.463790  0.431012  0.350684\n",
              "1   1.000000  0.386408  0.400828  ...  0.255056  0.208237  0.226876\n",
              "2   0.453837  0.174500  0.227485  ...  0.257540  0.231409  0.283586\n",
              "3   0.495981  0.204170  0.281171  ...  0.507641  0.224736  0.480839\n",
              "4   0.435435  0.147720  0.159559  ...  0.208453  0.350051  0.490645\n",
              "5   0.689777  0.640826  0.629935  ...  1.000000  0.756039  0.822877\n",
              "6   0.460509  0.339055  0.314920  ...  0.497588  0.314614  0.401160\n",
              "7   0.513230  0.268497  0.323563  ...  0.110140  0.098746  0.221616\n",
              "8   0.000000  0.000000  0.000000  ...  0.082921  0.070390  0.000000\n",
              "9   0.599561  0.425831  0.465432  ...  0.000000  0.000000  0.071887\n",
              "10  0.405815  0.202067  0.242373  ...  0.528404  0.621471  0.573348\n",
              "11  0.516073  0.195812  0.225440  ...  0.404429  0.759677  0.507087\n",
              "12  0.540986  0.285336  0.324612  ...  0.511126  0.444233  0.353950\n",
              "13  0.451681  0.138706  0.272719  ...  0.583064  0.520416  0.505212\n",
              "14  0.503263  1.000000  1.000000  ...  0.896387  1.000000  1.000000\n",
              "15  0.504159  0.254062  0.307765  ...  0.049319  0.080307  0.150473\n",
              "16  0.551054  0.280646  0.426834  ...  0.033506  0.117840  0.241279\n",
              "17  0.450039  0.107893  0.190701  ...  0.545135  0.591169  0.508276\n",
              "\n",
              "[18 rows x 12 columns]"
            ]
          },
          "metadata": {},
          "execution_count": 142
        }
      ]
    },
    {
      "cell_type": "code",
      "source": [
        "# Extract the color of the news outlet given the political leaning\n",
        "# We need to drop the Washington post again \n",
        "political_US_outlets.drop(29, inplace=True)\n",
        "# Create new column for the political leaning's color of the outlet, set it at grey \n",
        "political_US_outlets.loc[:,\"color\"] = \"black\"\n",
        "# Define a mask excluding the neutral outlets \n",
        "mask = political_US_outlets[\"Political_leaning\"]!=0\n",
        "# Assign to red the right leaning outlets, blue the left leaning outlets \n",
        "political_US_outlets.loc[mask,\"color\"] = political_US_outlets.loc[mask,\"Political_leaning\"].apply(lambda x: \"red\" if x > 0 else \"blue\")"
      ],
      "metadata": {
        "colab": {
          "base_uri": "https://localhost:8080/"
        },
        "id": "vC3dJnYWxLFX",
        "outputId": "acdd7f8b-cf63-4950-b390-51ef6e7c15f1"
      },
      "id": "vC3dJnYWxLFX",
      "execution_count": null,
      "outputs": [
        {
          "output_type": "stream",
          "name": "stderr",
          "text": [
            "/usr/local/lib/python3.7/dist-packages/pandas/core/indexing.py:966: SettingWithCopyWarning: \n",
            "A value is trying to be set on a copy of a slice from a DataFrame.\n",
            "Try using .loc[row_indexer,col_indexer] = value instead\n",
            "\n",
            "See the caveats in the documentation: https://pandas.pydata.org/pandas-docs/stable/user_guide/indexing.html#returning-a-view-versus-a-copy\n",
            "  self.obj[item] = s\n"
          ]
        }
      ]
    },
    {
      "cell_type": "markdown",
      "source": [
        "**Compute the PCA and plot for the non-normalised data** "
      ],
      "metadata": {
        "id": "lQc1iluaI7ut"
      },
      "id": "lQc1iluaI7ut"
    },
    {
      "cell_type": "code",
      "source": [
        "# Computing the PCA\n",
        "pca = PCA(n_components=2)\n",
        "X_r = pca.fit(data_PCA).transform(data_PCA)"
      ],
      "metadata": {
        "id": "VtTiJb-VJaEg"
      },
      "execution_count": null,
      "outputs": [],
      "id": "VtTiJb-VJaEg"
    },
    {
      "cell_type": "code",
      "source": [
        "# Plotting for political leaning\n",
        "plt.figure()\n",
        "# Colours for the outlets: blue left, gray neutral, red right\n",
        "colors = [\"red\", \"black\", \"blue\"]\n",
        "labels = [\"Right\",\"Neutral\",\"Left\"]\n",
        "target_colors = political_US_outlets[\"color\"].values\n",
        "# Line width\n",
        "lw = 2\n",
        "# Targets, which outlets belongs to which category \n",
        "\n",
        "for color, target_name in zip(colors, labels):\n",
        "    plt.scatter(\n",
        "        X_r[target_colors==color, 0], X_r[target_colors==color, 1], color=color, alpha=0.8, lw=lw, label=target_name\n",
        "    )\n",
        "plt.legend(loc=\"best\", shadow=False, scatterpoints=1)\n",
        "plt.title(\"Results of PCA per political leaning\")"
      ],
      "metadata": {
        "colab": {
          "base_uri": "https://localhost:8080/",
          "height": 298
        },
        "outputId": "4156c6ce-537b-475a-b50c-8eb275c8c687",
        "id": "Up0HC3WnJaEh"
      },
      "execution_count": null,
      "outputs": [
        {
          "output_type": "execute_result",
          "data": {
            "text/plain": [
              "Text(0.5, 1.0, 'Results of PCA per political leaning')"
            ]
          },
          "metadata": {},
          "execution_count": 144
        },
        {
          "output_type": "display_data",
          "data": {
            "image/png": "[encoded data removed]",
            "text/plain": [
              "<Figure size 432x288 with 1 Axes>"
            ]
          },
          "metadata": {
            "needs_background": "light"
          }
        }
      ],
      "id": "Up0HC3WnJaEh"
    },
    {
      "cell_type": "code",
      "source": [
        "# Plotting for political leaning\n",
        "plt.figure()\n",
        "# Colours for the outlets: blue left, gray neutral, red right\n",
        "target_values = [3.0, 4.0, 5.0]\n",
        "colors = [\"red\", \"orange\", \"green\"]\n",
        "labels = [\"Mixed\", \"Mostly\", \"High\"]\n",
        "target_colors = political_US_outlets[\"Factual_reporting\"].values\n",
        "# Line width\n",
        "lw = 2\n",
        "# Targets, which outlets belongs to which category \n",
        "\n",
        "for color, target_val, target_name in zip(colors, target_values, labels):\n",
        "    plt.scatter(\n",
        "        X_r[target_colors==target_val, 0], X_r[target_colors==target_val, 1], color=color, alpha=0.8, lw=lw, label=target_name\n",
        "    )\n",
        "plt.legend(loc=\"best\", shadow=False, scatterpoints=1)\n",
        "plt.title(\"Results of PCA per factual reporting\")"
      ],
      "metadata": {
        "colab": {
          "base_uri": "https://localhost:8080/",
          "height": 298
        },
        "outputId": "0c33505f-1cdb-410b-9aee-cba171bac497",
        "id": "0rGtNyiZJaEh"
      },
      "execution_count": null,
      "outputs": [
        {
          "output_type": "execute_result",
          "data": {
            "text/plain": [
              "Text(0.5, 1.0, 'Results of PCA per factual reporting')"
            ]
          },
          "metadata": {},
          "execution_count": 145
        },
        {
          "output_type": "display_data",
          "data": {
            "image/png": "[encoded data removed]",
            "text/plain": [
              "<Figure size 432x288 with 1 Axes>"
            ]
          },
          "metadata": {
            "needs_background": "light"
          }
        }
      ],
      "id": "0rGtNyiZJaEh"
    },
    {
      "cell_type": "markdown",
      "source": [
        "**Compute the PCA and plot for the normalised data** "
      ],
      "metadata": {
        "id": "MU1MER8qJSFK"
      },
      "id": "MU1MER8qJSFK"
    },
    {
      "cell_type": "code",
      "source": [
        "# Computing the PCA\n",
        "pca = PCA(n_components=2)\n",
        "X_r = pca.fit(data_PCA_scaled).transform(data_PCA_scaled)"
      ],
      "metadata": {
        "id": "sIfxIHH7rkJd"
      },
      "id": "sIfxIHH7rkJd",
      "execution_count": null,
      "outputs": []
    },
    {
      "cell_type": "code",
      "source": [
        "# Plotting for political leaning\n",
        "plt.figure()\n",
        "# Colours for the outlets: blue left, gray neutral, red right\n",
        "colors = [\"red\", \"black\", \"blue\"]\n",
        "labels = [\"Right\",\"Neutral\",\"Left\"]\n",
        "target_colors = political_US_outlets[\"color\"].values\n",
        "# Line width\n",
        "lw = 2\n",
        "# Targets, which outlets belongs to which category \n",
        "\n",
        "for color, target_name in zip(colors, labels):\n",
        "    plt.scatter(\n",
        "        X_r[target_colors==color, 0], X_r[target_colors==color, 1], color=color, alpha=0.8, lw=lw, label=target_name\n",
        "    )\n",
        "plt.legend(loc=\"best\", shadow=False, scatterpoints=1)\n",
        "plt.title(\"Results of PCA per political leaning\")"
      ],
      "metadata": {
        "colab": {
          "base_uri": "https://localhost:8080/",
          "height": 298
        },
        "id": "VE3ARZTItYV7",
        "outputId": "b1161468-a20a-44ed-945a-be54e60fdd5c"
      },
      "id": "VE3ARZTItYV7",
      "execution_count": null,
      "outputs": [
        {
          "output_type": "execute_result",
          "data": {
            "text/plain": [
              "Text(0.5, 1.0, 'Results of PCA per political leaning')"
            ]
          },
          "metadata": {},
          "execution_count": 147
        },
        {
          "output_type": "display_data",
          "data": {
            "image/png": "[encoded data removed]",
            "text/plain": [
              "<Figure size 432x288 with 1 Axes>"
            ]
          },
          "metadata": {
            "needs_background": "light"
          }
        }
      ]
    },
    {
      "cell_type": "markdown",
      "source": [
        "Although there are not two distinctly grouped clusters of right and left-leaning news outlets, we can draw a line that separates them accurately. Therefore there seems to indeed be a difference in the quoting style of left and right leaning news outlets.\n",
        "\n"
      ],
      "metadata": {
        "id": "0BD43LoI47yU"
      },
      "id": "0BD43LoI47yU"
    },
    {
      "cell_type": "code",
      "source": [
        "# Plotting for political leaning\n",
        "plt.figure()\n",
        "# Colours for the outlets: blue left, gray neutral, red right\n",
        "target_values = [3.0, 4.0, 5.0]\n",
        "colors = [\"red\", \"orange\", \"green\"]\n",
        "labels = [\"Mixed\", \"Mostly\", \"High\"]\n",
        "target_colors = political_US_outlets[\"Factual_reporting\"].values\n",
        "# Line width\n",
        "lw = 2\n",
        "# Targets, which outlets belongs to which category \n",
        "\n",
        "for color, target_val, target_name in zip(colors, target_values, labels):\n",
        "    plt.scatter(\n",
        "        X_r[target_colors==target_val, 0], X_r[target_colors==target_val, 1], color=color, alpha=0.8, lw=lw, label=target_name\n",
        "    )\n",
        "plt.legend(loc=\"best\", shadow=False, scatterpoints=1)\n",
        "plt.title(\"Results of PCA per factual reporting\")"
      ],
      "metadata": {
        "colab": {
          "base_uri": "https://localhost:8080/",
          "height": 298
        },
        "id": "Z_eh9L7p5-L7",
        "outputId": "53ebcc5f-b94d-4485-80e5-be5a067faa72"
      },
      "id": "Z_eh9L7p5-L7",
      "execution_count": null,
      "outputs": [
        {
          "output_type": "execute_result",
          "data": {
            "text/plain": [
              "Text(0.5, 1.0, 'Results of PCA per factual reporting')"
            ]
          },
          "metadata": {},
          "execution_count": 148
        },
        {
          "output_type": "display_data",
          "data": {
            "image/png": "[encoded data removed]",
            "text/plain": [
              "<Figure size 432x288 with 1 Axes>"
            ]
          },
          "metadata": {
            "needs_background": "light"
          }
        }
      ]
    },
    {
      "cell_type": "markdown",
      "source": [
        ""
      ],
      "metadata": {
        "id": "S44glR_R437m"
      },
      "id": "S44glR_R437m"
    },
    {
      "cell_type": "markdown",
      "source": [
        "### 5) Conclusion and outlook (started)"
      ],
      "metadata": {
        "id": "RjPz8sTDltES"
      },
      "id": "RjPz8sTDltES"
    },
    {
      "cell_type": "markdown",
      "source": [
        "**Conclusion**\n",
        "\n",
        "Combiner les conclusions des 3 parties + dire que le political leaning ca permet de mieux grouper les quoting style que le factual reporting.\n",
        "\n",
        "**Autre chose?**"
      ],
      "metadata": {
        "id": "fe343nmWmCH4"
      },
      "id": "fe343nmWmCH4"
    },
    {
      "cell_type": "markdown",
      "source": [
        "**OUTLOOK**\n",
        "\n",
        "**A ajuster, j'ai écrit cette partie après avoir fait la partie 1 il y a genre 1 semaine, donc y'a sans doute des trucs qui ont changé**\n",
        "\n",
        "For analysis, we assesed the quoting style according to political leaning of speakers and news outlets between 2015 and 2020. However we believe that the elections (ie who is in power) will directly impact how major political players are quoted. We hypothesize the party in power will on average be quoted more, and in more negative terms because of the higher impact the party has on people's life.\n",
        "\n",
        "To confirm this hypothesis, it would be necessary to divide the analysis by presidential mendate periods (2012-2016, 2016-2020, 2020-present day) and assess whether there is an inversion in quote mean polarity score for Democratic and Republican speakers (and maybe length).\n",
        "\n",
        "****\n",
        "\n",
        "Another possible analysis would be to look at whether news outlets with a political orientation quote speakers with the same political orientation more positively in the months leading up to an election. Building on this idea, we could assess try to detect the bias of officially neutral news outlets by looking at the difference in the way they quote political candidates before an election (for example using US governors and senators)."
      ],
      "metadata": {
        "id": "PPzpW7Wul_RX"
      },
      "id": "PPzpW7Wul_RX"
    }
  ]
}