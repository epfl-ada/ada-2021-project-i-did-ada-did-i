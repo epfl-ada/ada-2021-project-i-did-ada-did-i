{
  "nbformat": 4,
  "nbformat_minor": 5,
  "metadata": {
    "colab": {
      "name": "Pipeline_official.ipynb",
      "provenance": [],
      "collapsed_sections": [],
      "toc_visible": true
    },
    "kernelspec": {
      "display_name": "Python [conda env:ada] *",
      "language": "python",
      "name": "conda-env-ada-py"
    },
    "language_info": {
      "codemirror_mode": {
        "name": "ipython",
        "version": 3
      },
      "file_extension": ".py",
      "mimetype": "text/x-python",
      "name": "python",
      "nbconvert_exporter": "python",
      "pygments_lexer": "ipython3",
      "version": "3.8.11"
    }
  },
  "cells": [
    {
      "cell_type": "markdown",
      "metadata": {
        "id": "6f58b18c-b3c4-41a7-a7fb-ba11a1b435cc"
      },
      "source": [
        "## A) Imports and data loading"
      ],
      "id": "6f58b18c-b3c4-41a7-a7fb-ba11a1b435cc"
    },
    {
      "cell_type": "code",
      "metadata": {
        "colab": {
          "base_uri": "https://localhost:8080/"
        },
        "id": "AE0Dnnxuyiq5",
        "outputId": "94d83a19-afe2-407f-fd29-09b1a656b316"
      },
      "source": [
        "!pip install pandas==1.0.5"
      ],
      "id": "AE0Dnnxuyiq5",
      "execution_count": null,
      "outputs": [
        {
          "output_type": "stream",
          "name": "stdout",
          "text": [
            "Requirement already satisfied: pandas==1.0.5 in /usr/local/lib/python3.7/dist-packages (1.0.5)\n",
            "Requirement already satisfied: pytz>=2017.2 in /usr/local/lib/python3.7/dist-packages (from pandas==1.0.5) (2018.9)\n",
            "Requirement already satisfied: numpy>=1.13.3 in /usr/local/lib/python3.7/dist-packages (from pandas==1.0.5) (1.19.5)\n",
            "Requirement already satisfied: python-dateutil>=2.6.1 in /usr/local/lib/python3.7/dist-packages (from pandas==1.0.5) (2.8.2)\n",
            "Requirement already satisfied: six>=1.5 in /usr/local/lib/python3.7/dist-packages (from python-dateutil>=2.6.1->pandas==1.0.5) (1.15.0)\n"
          ]
        }
      ]
    },
    {
      "cell_type": "code",
      "source": [
        "!pip install plotly==5.4.0"
      ],
      "metadata": {
        "colab": {
          "base_uri": "https://localhost:8080/"
        },
        "id": "WwD5SaXaRFhW",
        "outputId": "f2aa9ac3-7983-4824-afbb-c3620f697d99"
      },
      "id": "WwD5SaXaRFhW",
      "execution_count": null,
      "outputs": [
        {
          "output_type": "stream",
          "name": "stdout",
          "text": [
            "Collecting plotly==5.4.0\n",
            "  Downloading plotly-5.4.0-py2.py3-none-any.whl (25.3 MB)\n",
            "\u001b[K     |████████████████████████████████| 25.3 MB 1.7 MB/s \n",
            "\u001b[?25hCollecting tenacity>=6.2.0\n",
            "  Downloading tenacity-8.0.1-py3-none-any.whl (24 kB)\n",
            "Requirement already satisfied: six in /usr/local/lib/python3.7/dist-packages (from plotly==5.4.0) (1.15.0)\n",
            "Installing collected packages: tenacity, plotly\n",
            "  Attempting uninstall: plotly\n",
            "    Found existing installation: plotly 4.4.1\n",
            "    Uninstalling plotly-4.4.1:\n",
            "      Successfully uninstalled plotly-4.4.1\n",
            "Successfully installed plotly-5.4.0 tenacity-8.0.1\n"
          ]
        }
      ]
    },
    {
      "cell_type": "code",
      "source": [
        "!pip install chart-studio"
      ],
      "metadata": {
        "id": "vrNFG-OnHTxd",
        "colab": {
          "base_uri": "https://localhost:8080/"
        },
        "outputId": "73a13e95-f972-416d-b176-26bd141985ec"
      },
      "id": "vrNFG-OnHTxd",
      "execution_count": null,
      "outputs": [
        {
          "output_type": "stream",
          "name": "stdout",
          "text": [
            "Collecting chart-studio\n",
            "  Downloading chart_studio-1.1.0-py3-none-any.whl (64 kB)\n",
            "\u001b[?25l\r\u001b[K     |█████                           | 10 kB 18.1 MB/s eta 0:00:01\r\u001b[K     |██████████▏                     | 20 kB 24.2 MB/s eta 0:00:01\r\u001b[K     |███████████████▎                | 30 kB 12.6 MB/s eta 0:00:01\r\u001b[K     |████████████████████▍           | 40 kB 9.5 MB/s eta 0:00:01\r\u001b[K     |█████████████████████████▍      | 51 kB 5.5 MB/s eta 0:00:01\r\u001b[K     |██████████████████████████████▌ | 61 kB 6.1 MB/s eta 0:00:01\r\u001b[K     |████████████████████████████████| 64 kB 1.8 MB/s \n",
            "\u001b[?25hRequirement already satisfied: requests in /usr/local/lib/python3.7/dist-packages (from chart-studio) (2.23.0)\n",
            "Requirement already satisfied: retrying>=1.3.3 in /usr/local/lib/python3.7/dist-packages (from chart-studio) (1.3.3)\n",
            "Requirement already satisfied: six in /usr/local/lib/python3.7/dist-packages (from chart-studio) (1.15.0)\n",
            "Requirement already satisfied: plotly in /usr/local/lib/python3.7/dist-packages (from chart-studio) (5.4.0)\n",
            "Requirement already satisfied: tenacity>=6.2.0 in /usr/local/lib/python3.7/dist-packages (from plotly->chart-studio) (8.0.1)\n",
            "Requirement already satisfied: certifi>=2017.4.17 in /usr/local/lib/python3.7/dist-packages (from requests->chart-studio) (2021.10.8)\n",
            "Requirement already satisfied: urllib3!=1.25.0,!=1.25.1,<1.26,>=1.21.1 in /usr/local/lib/python3.7/dist-packages (from requests->chart-studio) (1.24.3)\n",
            "Requirement already satisfied: chardet<4,>=3.0.2 in /usr/local/lib/python3.7/dist-packages (from requests->chart-studio) (3.0.4)\n",
            "Requirement already satisfied: idna<3,>=2.5 in /usr/local/lib/python3.7/dist-packages (from requests->chart-studio) (2.10)\n",
            "Installing collected packages: chart-studio\n",
            "Successfully installed chart-studio-1.1.0\n"
          ]
        }
      ]
    },
    {
      "cell_type": "code",
      "metadata": {
        "colab": {
          "base_uri": "https://localhost:8080/"
        },
        "id": "hk5xa0msRwNe",
        "outputId": "3d8e8ea2-99d4-46c1-d883-e7ee8ab9e95f"
      },
      "source": [
        "!pip install tld"
      ],
      "id": "hk5xa0msRwNe",
      "execution_count": null,
      "outputs": [
        {
          "output_type": "stream",
          "name": "stdout",
          "text": [
            "Collecting tld\n",
            "  Downloading tld-0.12.6-py37-none-any.whl (412 kB)\n",
            "\u001b[?25l\r\u001b[K     |▉                               | 10 kB 19.4 MB/s eta 0:00:01\r\u001b[K     |█▋                              | 20 kB 22.3 MB/s eta 0:00:01\r\u001b[K     |██▍                             | 30 kB 25.1 MB/s eta 0:00:01\r\u001b[K     |███▏                            | 40 kB 27.7 MB/s eta 0:00:01\r\u001b[K     |████                            | 51 kB 8.4 MB/s eta 0:00:01\r\u001b[K     |████▊                           | 61 kB 8.8 MB/s eta 0:00:01\r\u001b[K     |█████▋                          | 71 kB 6.2 MB/s eta 0:00:01\r\u001b[K     |██████▍                         | 81 kB 6.9 MB/s eta 0:00:01\r\u001b[K     |███████▏                        | 92 kB 7.2 MB/s eta 0:00:01\r\u001b[K     |████████                        | 102 kB 6.3 MB/s eta 0:00:01\r\u001b[K     |████████▊                       | 112 kB 6.3 MB/s eta 0:00:01\r\u001b[K     |█████████▌                      | 122 kB 6.3 MB/s eta 0:00:01\r\u001b[K     |██████████▍                     | 133 kB 6.3 MB/s eta 0:00:01\r\u001b[K     |███████████▏                    | 143 kB 6.3 MB/s eta 0:00:01\r\u001b[K     |████████████                    | 153 kB 6.3 MB/s eta 0:00:01\r\u001b[K     |████████████▊                   | 163 kB 6.3 MB/s eta 0:00:01\r\u001b[K     |█████████████▌                  | 174 kB 6.3 MB/s eta 0:00:01\r\u001b[K     |██████████████▎                 | 184 kB 6.3 MB/s eta 0:00:01\r\u001b[K     |███████████████                 | 194 kB 6.3 MB/s eta 0:00:01\r\u001b[K     |████████████████                | 204 kB 6.3 MB/s eta 0:00:01\r\u001b[K     |████████████████▊               | 215 kB 6.3 MB/s eta 0:00:01\r\u001b[K     |█████████████████▌              | 225 kB 6.3 MB/s eta 0:00:01\r\u001b[K     |██████████████████▎             | 235 kB 6.3 MB/s eta 0:00:01\r\u001b[K     |███████████████████             | 245 kB 6.3 MB/s eta 0:00:01\r\u001b[K     |███████████████████▉            | 256 kB 6.3 MB/s eta 0:00:01\r\u001b[K     |████████████████████▊           | 266 kB 6.3 MB/s eta 0:00:01\r\u001b[K     |█████████████████████▌          | 276 kB 6.3 MB/s eta 0:00:01\r\u001b[K     |██████████████████████▎         | 286 kB 6.3 MB/s eta 0:00:01\r\u001b[K     |███████████████████████         | 296 kB 6.3 MB/s eta 0:00:01\r\u001b[K     |███████████████████████▉        | 307 kB 6.3 MB/s eta 0:00:01\r\u001b[K     |████████████████████████▋       | 317 kB 6.3 MB/s eta 0:00:01\r\u001b[K     |█████████████████████████▍      | 327 kB 6.3 MB/s eta 0:00:01\r\u001b[K     |██████████████████████████▎     | 337 kB 6.3 MB/s eta 0:00:01\r\u001b[K     |███████████████████████████     | 348 kB 6.3 MB/s eta 0:00:01\r\u001b[K     |███████████████████████████▉    | 358 kB 6.3 MB/s eta 0:00:01\r\u001b[K     |████████████████████████████▋   | 368 kB 6.3 MB/s eta 0:00:01\r\u001b[K     |█████████████████████████████▍  | 378 kB 6.3 MB/s eta 0:00:01\r\u001b[K     |██████████████████████████████▏ | 389 kB 6.3 MB/s eta 0:00:01\r\u001b[K     |███████████████████████████████ | 399 kB 6.3 MB/s eta 0:00:01\r\u001b[K     |███████████████████████████████▉| 409 kB 6.3 MB/s eta 0:00:01\r\u001b[K     |████████████████████████████████| 412 kB 6.3 MB/s \n",
            "\u001b[?25hInstalling collected packages: tld\n",
            "Successfully installed tld-0.12.6\n"
          ]
        }
      ]
    },
    {
      "cell_type": "code",
      "metadata": {
        "id": "0H_-gPqAYI01",
        "colab": {
          "base_uri": "https://localhost:8080/"
        },
        "outputId": "ba1039b9-3acc-4e50-8131-a3fc023a01f8"
      },
      "source": [
        "from google.colab import drive\n",
        "drive.mount('/content/drive')\n",
        "\n",
        "import bz2\n",
        "import json\n",
        "import csv\n",
        "import copy\n",
        "import pandas as pd\n",
        "import warnings\n",
        "import numpy as np\n",
        "import matplotlib.pyplot as plt\n",
        "import matplotlib.patches as mpatches\n",
        "import seaborn as sns\n",
        "import requests\n",
        "from bs4 import BeautifulSoup as soup\n",
        "from ast import literal_eval\n",
        "import urllib.request as ul\n",
        "from collections import Counter\n",
        "from tld import get_fld\n",
        "import string\n",
        "import os\n",
        "import nltk\n",
        "from statsmodels.stats.weightstats import DescrStatsW\n",
        "import plotly.graph_objects as go\n",
        "import plotly.express as px\n",
        "import statsmodels.formula.api as smf\n",
        "from sklearn.decomposition import PCA\n",
        "from sklearn.preprocessing import MinMaxScaler\n",
        "\n",
        "\n",
        "\n",
        "nltk.download('stopwords')\n",
        "nltk.download(\"punkt\")\n",
        "nltk.download('vader_lexicon')\n",
        "nltk.download('wordnet')\n",
        "nltk.download('crubadan')\n",
        "\n",
        "from nltk.sentiment import SentimentIntensityAnalyzer  # VADER is better for short sentences, but we only have this so we use just that.\n",
        "from nltk.tokenize import word_tokenize\n",
        "from nltk.corpus import stopwords\n",
        "from nltk.stem import WordNetLemmatizer\n",
        "\n",
        "drive = '/content/drive/MyDrive/ADA-shared/'"
      ],
      "id": "0H_-gPqAYI01",
      "execution_count": null,
      "outputs": [
        {
          "output_type": "stream",
          "name": "stdout",
          "text": [
            "Drive already mounted at /content/drive; to attempt to forcibly remount, call drive.mount(\"/content/drive\", force_remount=True).\n"
          ]
        },
        {
          "output_type": "stream",
          "name": "stderr",
          "text": [
            "/usr/local/lib/python3.7/dist-packages/statsmodels/tools/_testing.py:19: FutureWarning: pandas.util.testing is deprecated. Use the functions in the public API at pandas.testing instead.\n",
            "  import pandas.util.testing as tm\n"
          ]
        },
        {
          "output_type": "stream",
          "name": "stdout",
          "text": [
            "[nltk_data] Downloading package stopwords to /root/nltk_data...\n",
            "[nltk_data]   Package stopwords is already up-to-date!\n",
            "[nltk_data] Downloading package punkt to /root/nltk_data...\n",
            "[nltk_data]   Package punkt is already up-to-date!\n",
            "[nltk_data] Downloading package vader_lexicon to /root/nltk_data...\n",
            "[nltk_data]   Package vader_lexicon is already up-to-date!\n",
            "[nltk_data] Downloading package wordnet to /root/nltk_data...\n",
            "[nltk_data]   Package wordnet is already up-to-date!\n",
            "[nltk_data] Downloading package crubadan to /root/nltk_data...\n",
            "[nltk_data]   Package crubadan is already up-to-date!\n"
          ]
        },
        {
          "output_type": "stream",
          "name": "stderr",
          "text": [
            "/usr/local/lib/python3.7/dist-packages/nltk/twitter/__init__.py:20: UserWarning: The twython library has not been installed. Some functionality from the twitter package will not be available.\n",
            "  warnings.warn(\"The twython library has not been installed. \"\n"
          ]
        }
      ]
    },
    {
      "cell_type": "code",
      "metadata": {
        "id": "mqkbmYdsyDzX",
        "colab": {
          "base_uri": "https://localhost:8080/",
          "height": 35
        },
        "outputId": "871f2254-6a1d-4706-c1e6-d9defe12850e"
      },
      "source": [
        "pd.__version__"
      ],
      "id": "mqkbmYdsyDzX",
      "execution_count": null,
      "outputs": [
        {
          "output_type": "execute_result",
          "data": {
            "application/vnd.google.colaboratory.intrinsic+json": {
              "type": "string"
            },
            "text/plain": [
              "'1.0.5'"
            ]
          },
          "metadata": {},
          "execution_count": 7
        }
      ]
    },
    {
      "cell_type": "markdown",
      "metadata": {
        "id": "RFwxb1BwZGmK"
      },
      "source": [
        "### Load *Wikidata* data dumps\n",
        "\n"
      ],
      "id": "RFwxb1BwZGmK"
    },
    {
      "cell_type": "code",
      "metadata": {
        "id": "ymYSIcOjZKAE"
      },
      "source": [
        "# Load the speaker attributes \n",
        "wikidata_speakers = pd.read_parquet('/content/drive/MyDrive/ADA/Project datasets/speaker_attributes.parquet')"
      ],
      "id": "ymYSIcOjZKAE",
      "execution_count": null,
      "outputs": []
    },
    {
      "cell_type": "code",
      "metadata": {
        "colab": {
          "base_uri": "https://localhost:8080/",
          "height": 426
        },
        "id": "RfgsQW2woggT",
        "outputId": "d5a8d8d9-6764-4583-a4a1-3ea7696001b5"
      },
      "source": [
        "wikidata_speakers.sample(5)"
      ],
      "id": "RfgsQW2woggT",
      "execution_count": null,
      "outputs": [
        {
          "output_type": "execute_result",
          "data": {
            "text/html": [
              "\n",
              "  <div id=\"df-0df45a31-0a04-4fec-8619-6b5b6f0ed1a9\">\n",
              "    <div class=\"colab-df-container\">\n",
              "      <div>\n",
              "<style scoped>\n",
              "    .dataframe tbody tr th:only-of-type {\n",
              "        vertical-align: middle;\n",
              "    }\n",
              "\n",
              "    .dataframe tbody tr th {\n",
              "        vertical-align: top;\n",
              "    }\n",
              "\n",
              "    .dataframe thead th {\n",
              "        text-align: right;\n",
              "    }\n",
              "</style>\n",
              "<table border=\"1\" class=\"dataframe\">\n",
              "  <thead>\n",
              "    <tr style=\"text-align: right;\">\n",
              "      <th></th>\n",
              "      <th>aliases</th>\n",
              "      <th>date_of_birth</th>\n",
              "      <th>nationality</th>\n",
              "      <th>gender</th>\n",
              "      <th>lastrevid</th>\n",
              "      <th>ethnic_group</th>\n",
              "      <th>US_congress_bio_ID</th>\n",
              "      <th>occupation</th>\n",
              "      <th>party</th>\n",
              "      <th>academic_degree</th>\n",
              "      <th>id</th>\n",
              "      <th>label</th>\n",
              "      <th>candidacy</th>\n",
              "      <th>type</th>\n",
              "      <th>religion</th>\n",
              "    </tr>\n",
              "  </thead>\n",
              "  <tbody>\n",
              "    <tr>\n",
              "      <th>3100554</th>\n",
              "      <td>None</td>\n",
              "      <td>None</td>\n",
              "      <td>None</td>\n",
              "      <td>[Q6581072]</td>\n",
              "      <td>1362577267</td>\n",
              "      <td>None</td>\n",
              "      <td>None</td>\n",
              "      <td>[Q1650915]</td>\n",
              "      <td>None</td>\n",
              "      <td>None</td>\n",
              "      <td>Q89165695</td>\n",
              "      <td>Maria Alice Muniz Domingos</td>\n",
              "      <td>None</td>\n",
              "      <td>item</td>\n",
              "      <td>None</td>\n",
              "    </tr>\n",
              "    <tr>\n",
              "      <th>4892933</th>\n",
              "      <td>None</td>\n",
              "      <td>[+1893-02-18T00:00:00Z]</td>\n",
              "      <td>None</td>\n",
              "      <td>[Q6581097]</td>\n",
              "      <td>1319290922</td>\n",
              "      <td>None</td>\n",
              "      <td>None</td>\n",
              "      <td>[Q13414980]</td>\n",
              "      <td>None</td>\n",
              "      <td>None</td>\n",
              "      <td>Q21070142</td>\n",
              "      <td>Phil Furlong</td>\n",
              "      <td>None</td>\n",
              "      <td>item</td>\n",
              "      <td>None</td>\n",
              "    </tr>\n",
              "    <tr>\n",
              "      <th>5891182</th>\n",
              "      <td>[Koho Kato, Kouhou Katou]</td>\n",
              "      <td>[+1934-05-01T00:00:00Z]</td>\n",
              "      <td>[Q17]</td>\n",
              "      <td>[Q6581097]</td>\n",
              "      <td>1328439226</td>\n",
              "      <td>None</td>\n",
              "      <td>None</td>\n",
              "      <td>None</td>\n",
              "      <td>None</td>\n",
              "      <td>None</td>\n",
              "      <td>Q11399025</td>\n",
              "      <td>Kōhō Katō</td>\n",
              "      <td>None</td>\n",
              "      <td>item</td>\n",
              "      <td>None</td>\n",
              "    </tr>\n",
              "    <tr>\n",
              "      <th>241527</th>\n",
              "      <td>None</td>\n",
              "      <td>[+0850-00-00T00:00:00Z]</td>\n",
              "      <td>None</td>\n",
              "      <td>[Q6581097]</td>\n",
              "      <td>1395745927</td>\n",
              "      <td>None</td>\n",
              "      <td>None</td>\n",
              "      <td>None</td>\n",
              "      <td>None</td>\n",
              "      <td>None</td>\n",
              "      <td>Q11623247</td>\n",
              "      <td>None</td>\n",
              "      <td>None</td>\n",
              "      <td>item</td>\n",
              "      <td>None</td>\n",
              "    </tr>\n",
              "    <tr>\n",
              "      <th>3588781</th>\n",
              "      <td>None</td>\n",
              "      <td>[+1872-01-01T00:00:00Z]</td>\n",
              "      <td>None</td>\n",
              "      <td>[Q6581097]</td>\n",
              "      <td>1319235270</td>\n",
              "      <td>None</td>\n",
              "      <td>None</td>\n",
              "      <td>[Q482980]</td>\n",
              "      <td>None</td>\n",
              "      <td>None</td>\n",
              "      <td>Q7147500</td>\n",
              "      <td>Patrick R. Chalmers</td>\n",
              "      <td>None</td>\n",
              "      <td>item</td>\n",
              "      <td>None</td>\n",
              "    </tr>\n",
              "  </tbody>\n",
              "</table>\n",
              "</div>\n",
              "      <button class=\"colab-df-convert\" onclick=\"convertToInteractive('df-0df45a31-0a04-4fec-8619-6b5b6f0ed1a9')\"\n",
              "              title=\"Convert this dataframe to an interactive table.\"\n",
              "              style=\"display:none;\">\n",
              "        \n",
              "  <svg xmlns=\"http://www.w3.org/2000/svg\" height=\"24px\"viewBox=\"0 0 24 24\"\n",
              "       width=\"24px\">\n",
              "    <path d=\"M0 0h24v24H0V0z\" fill=\"none\"/>\n",
              "    <path d=\"M18.56 5.44l.94 2.06.94-2.06 2.06-.94-2.06-.94-.94-2.06-.94 2.06-2.06.94zm-11 1L8.5 8.5l.94-2.06 2.06-.94-2.06-.94L8.5 2.5l-.94 2.06-2.06.94zm10 10l.94 2.06.94-2.06 2.06-.94-2.06-.94-.94-2.06-.94 2.06-2.06.94z\"/><path d=\"M17.41 7.96l-1.37-1.37c-.4-.4-.92-.59-1.43-.59-.52 0-1.04.2-1.43.59L10.3 9.45l-7.72 7.72c-.78.78-.78 2.05 0 2.83L4 21.41c.39.39.9.59 1.41.59.51 0 1.02-.2 1.41-.59l7.78-7.78 2.81-2.81c.8-.78.8-2.07 0-2.86zM5.41 20L4 18.59l7.72-7.72 1.47 1.35L5.41 20z\"/>\n",
              "  </svg>\n",
              "      </button>\n",
              "      \n",
              "  <style>\n",
              "    .colab-df-container {\n",
              "      display:flex;\n",
              "      flex-wrap:wrap;\n",
              "      gap: 12px;\n",
              "    }\n",
              "\n",
              "    .colab-df-convert {\n",
              "      background-color: #E8F0FE;\n",
              "      border: none;\n",
              "      border-radius: 50%;\n",
              "      cursor: pointer;\n",
              "      display: none;\n",
              "      fill: #1967D2;\n",
              "      height: 32px;\n",
              "      padding: 0 0 0 0;\n",
              "      width: 32px;\n",
              "    }\n",
              "\n",
              "    .colab-df-convert:hover {\n",
              "      background-color: #E2EBFA;\n",
              "      box-shadow: 0px 1px 2px rgba(60, 64, 67, 0.3), 0px 1px 3px 1px rgba(60, 64, 67, 0.15);\n",
              "      fill: #174EA6;\n",
              "    }\n",
              "\n",
              "    [theme=dark] .colab-df-convert {\n",
              "      background-color: #3B4455;\n",
              "      fill: #D2E3FC;\n",
              "    }\n",
              "\n",
              "    [theme=dark] .colab-df-convert:hover {\n",
              "      background-color: #434B5C;\n",
              "      box-shadow: 0px 1px 3px 1px rgba(0, 0, 0, 0.15);\n",
              "      filter: drop-shadow(0px 1px 2px rgba(0, 0, 0, 0.3));\n",
              "      fill: #FFFFFF;\n",
              "    }\n",
              "  </style>\n",
              "\n",
              "      <script>\n",
              "        const buttonEl =\n",
              "          document.querySelector('#df-0df45a31-0a04-4fec-8619-6b5b6f0ed1a9 button.colab-df-convert');\n",
              "        buttonEl.style.display =\n",
              "          google.colab.kernel.accessAllowed ? 'block' : 'none';\n",
              "\n",
              "        async function convertToInteractive(key) {\n",
              "          const element = document.querySelector('#df-0df45a31-0a04-4fec-8619-6b5b6f0ed1a9');\n",
              "          const dataTable =\n",
              "            await google.colab.kernel.invokeFunction('convertToInteractive',\n",
              "                                                     [key], {});\n",
              "          if (!dataTable) return;\n",
              "\n",
              "          const docLinkHtml = 'Like what you see? Visit the ' +\n",
              "            '<a target=\"_blank\" href=https://colab.research.google.com/notebooks/data_table.ipynb>data table notebook</a>'\n",
              "            + ' to learn more about interactive tables.';\n",
              "          element.innerHTML = '';\n",
              "          dataTable['output_type'] = 'display_data';\n",
              "          await google.colab.output.renderOutput(dataTable, element);\n",
              "          const docLink = document.createElement('div');\n",
              "          docLink.innerHTML = docLinkHtml;\n",
              "          element.appendChild(docLink);\n",
              "        }\n",
              "      </script>\n",
              "    </div>\n",
              "  </div>\n",
              "  "
            ],
            "text/plain": [
              "                           aliases            date_of_birth  ...  type religion\n",
              "3100554                       None                     None  ...  item     None\n",
              "4892933                       None  [+1893-02-18T00:00:00Z]  ...  item     None\n",
              "5891182  [Koho Kato, Kouhou Katou]  [+1934-05-01T00:00:00Z]  ...  item     None\n",
              "241527                        None  [+0850-00-00T00:00:00Z]  ...  item     None\n",
              "3588781                       None  [+1872-01-01T00:00:00Z]  ...  item     None\n",
              "\n",
              "[5 rows x 15 columns]"
            ]
          },
          "metadata": {},
          "execution_count": 7
        }
      ]
    },
    {
      "cell_type": "markdown",
      "metadata": {
        "id": "rb_U0pJQ2KYj"
      },
      "source": [
        "#### Load the human interpretable labels"
      ],
      "id": "rb_U0pJQ2KYj"
    },
    {
      "cell_type": "code",
      "metadata": {
        "id": "Jfi6eNRd2V6h",
        "colab": {
          "base_uri": "https://localhost:8080/",
          "height": 206
        },
        "outputId": "d6b1ca38-f3af-49ba-c3bc-3d718982f6ef"
      },
      "source": [
        "path_to_file = '/content/drive/MyDrive/ADA/Project datasets/wikidata_labels_descriptions_quotebank.csv.bz2'\n",
        "# Directly use the built-in pandas function as the CSV is quite small \n",
        "df_labels_wiki = pd.read_csv(path_to_file,  encoding='utf-8', compression=\"bz2\")\n",
        "df_labels_wiki.head(5)"
      ],
      "id": "Jfi6eNRd2V6h",
      "execution_count": null,
      "outputs": [
        {
          "output_type": "execute_result",
          "data": {
            "text/html": [
              "\n",
              "  <div id=\"df-21d9a95c-7dfc-4731-a8b4-a135be1f02d8\">\n",
              "    <div class=\"colab-df-container\">\n",
              "      <div>\n",
              "<style scoped>\n",
              "    .dataframe tbody tr th:only-of-type {\n",
              "        vertical-align: middle;\n",
              "    }\n",
              "\n",
              "    .dataframe tbody tr th {\n",
              "        vertical-align: top;\n",
              "    }\n",
              "\n",
              "    .dataframe thead th {\n",
              "        text-align: right;\n",
              "    }\n",
              "</style>\n",
              "<table border=\"1\" class=\"dataframe\">\n",
              "  <thead>\n",
              "    <tr style=\"text-align: right;\">\n",
              "      <th></th>\n",
              "      <th>QID</th>\n",
              "      <th>Label</th>\n",
              "      <th>Description</th>\n",
              "    </tr>\n",
              "  </thead>\n",
              "  <tbody>\n",
              "    <tr>\n",
              "      <th>0</th>\n",
              "      <td>Q31</td>\n",
              "      <td>Belgium</td>\n",
              "      <td>country in western Europe</td>\n",
              "    </tr>\n",
              "    <tr>\n",
              "      <th>1</th>\n",
              "      <td>Q45</td>\n",
              "      <td>Portugal</td>\n",
              "      <td>country in southwestern Europe</td>\n",
              "    </tr>\n",
              "    <tr>\n",
              "      <th>2</th>\n",
              "      <td>Q75</td>\n",
              "      <td>Internet</td>\n",
              "      <td>global system of connected computer networks</td>\n",
              "    </tr>\n",
              "    <tr>\n",
              "      <th>3</th>\n",
              "      <td>Q148</td>\n",
              "      <td>People's Republic of China</td>\n",
              "      <td>sovereign state in East Asia</td>\n",
              "    </tr>\n",
              "    <tr>\n",
              "      <th>4</th>\n",
              "      <td>Q155</td>\n",
              "      <td>Brazil</td>\n",
              "      <td>country in South America</td>\n",
              "    </tr>\n",
              "  </tbody>\n",
              "</table>\n",
              "</div>\n",
              "      <button class=\"colab-df-convert\" onclick=\"convertToInteractive('df-21d9a95c-7dfc-4731-a8b4-a135be1f02d8')\"\n",
              "              title=\"Convert this dataframe to an interactive table.\"\n",
              "              style=\"display:none;\">\n",
              "        \n",
              "  <svg xmlns=\"http://www.w3.org/2000/svg\" height=\"24px\"viewBox=\"0 0 24 24\"\n",
              "       width=\"24px\">\n",
              "    <path d=\"M0 0h24v24H0V0z\" fill=\"none\"/>\n",
              "    <path d=\"M18.56 5.44l.94 2.06.94-2.06 2.06-.94-2.06-.94-.94-2.06-.94 2.06-2.06.94zm-11 1L8.5 8.5l.94-2.06 2.06-.94-2.06-.94L8.5 2.5l-.94 2.06-2.06.94zm10 10l.94 2.06.94-2.06 2.06-.94-2.06-.94-.94-2.06-.94 2.06-2.06.94z\"/><path d=\"M17.41 7.96l-1.37-1.37c-.4-.4-.92-.59-1.43-.59-.52 0-1.04.2-1.43.59L10.3 9.45l-7.72 7.72c-.78.78-.78 2.05 0 2.83L4 21.41c.39.39.9.59 1.41.59.51 0 1.02-.2 1.41-.59l7.78-7.78 2.81-2.81c.8-.78.8-2.07 0-2.86zM5.41 20L4 18.59l7.72-7.72 1.47 1.35L5.41 20z\"/>\n",
              "  </svg>\n",
              "      </button>\n",
              "      \n",
              "  <style>\n",
              "    .colab-df-container {\n",
              "      display:flex;\n",
              "      flex-wrap:wrap;\n",
              "      gap: 12px;\n",
              "    }\n",
              "\n",
              "    .colab-df-convert {\n",
              "      background-color: #E8F0FE;\n",
              "      border: none;\n",
              "      border-radius: 50%;\n",
              "      cursor: pointer;\n",
              "      display: none;\n",
              "      fill: #1967D2;\n",
              "      height: 32px;\n",
              "      padding: 0 0 0 0;\n",
              "      width: 32px;\n",
              "    }\n",
              "\n",
              "    .colab-df-convert:hover {\n",
              "      background-color: #E2EBFA;\n",
              "      box-shadow: 0px 1px 2px rgba(60, 64, 67, 0.3), 0px 1px 3px 1px rgba(60, 64, 67, 0.15);\n",
              "      fill: #174EA6;\n",
              "    }\n",
              "\n",
              "    [theme=dark] .colab-df-convert {\n",
              "      background-color: #3B4455;\n",
              "      fill: #D2E3FC;\n",
              "    }\n",
              "\n",
              "    [theme=dark] .colab-df-convert:hover {\n",
              "      background-color: #434B5C;\n",
              "      box-shadow: 0px 1px 3px 1px rgba(0, 0, 0, 0.15);\n",
              "      filter: drop-shadow(0px 1px 2px rgba(0, 0, 0, 0.3));\n",
              "      fill: #FFFFFF;\n",
              "    }\n",
              "  </style>\n",
              "\n",
              "      <script>\n",
              "        const buttonEl =\n",
              "          document.querySelector('#df-21d9a95c-7dfc-4731-a8b4-a135be1f02d8 button.colab-df-convert');\n",
              "        buttonEl.style.display =\n",
              "          google.colab.kernel.accessAllowed ? 'block' : 'none';\n",
              "\n",
              "        async function convertToInteractive(key) {\n",
              "          const element = document.querySelector('#df-21d9a95c-7dfc-4731-a8b4-a135be1f02d8');\n",
              "          const dataTable =\n",
              "            await google.colab.kernel.invokeFunction('convertToInteractive',\n",
              "                                                     [key], {});\n",
              "          if (!dataTable) return;\n",
              "\n",
              "          const docLinkHtml = 'Like what you see? Visit the ' +\n",
              "            '<a target=\"_blank\" href=https://colab.research.google.com/notebooks/data_table.ipynb>data table notebook</a>'\n",
              "            + ' to learn more about interactive tables.';\n",
              "          element.innerHTML = '';\n",
              "          dataTable['output_type'] = 'display_data';\n",
              "          await google.colab.output.renderOutput(dataTable, element);\n",
              "          const docLink = document.createElement('div');\n",
              "          docLink.innerHTML = docLinkHtml;\n",
              "          element.appendChild(docLink);\n",
              "        }\n",
              "      </script>\n",
              "    </div>\n",
              "  </div>\n",
              "  "
            ],
            "text/plain": [
              "    QID  ...                                   Description\n",
              "0   Q31  ...                     country in western Europe\n",
              "1   Q45  ...                country in southwestern Europe\n",
              "2   Q75  ...  global system of connected computer networks\n",
              "3  Q148  ...                  sovereign state in East Asia\n",
              "4  Q155  ...                      country in South America\n",
              "\n",
              "[5 rows x 3 columns]"
            ]
          },
          "metadata": {},
          "execution_count": 3
        }
      ]
    },
    {
      "cell_type": "markdown",
      "metadata": {
        "id": "idplwSqSTGeR"
      },
      "source": [
        "The function `retrieve_wikidata_properties` simply returns the wikidata properties of the given person."
      ],
      "id": "idplwSqSTGeR"
    },
    {
      "cell_type": "code",
      "metadata": {
        "id": "sKnuNufOY9zI"
      },
      "source": [
        "def retrieve_wikidata_properties(person):\n",
        "  # This function simply returns the wikidata properties of the given person\n",
        "  return wikidata_speakers[wikidata_speakers[\"id\"]==person]"
      ],
      "id": "sKnuNufOY9zI",
      "execution_count": null,
      "outputs": []
    },
    {
      "cell_type": "markdown",
      "metadata": {
        "id": "3I9LFOlSTlS9"
      },
      "source": [
        "The function `human_readable_properties` converts the QIDs into human readable format."
      ],
      "id": "3I9LFOlSTlS9"
    },
    {
      "cell_type": "code",
      "metadata": {
        "id": "zK4gM8npsP9Y"
      },
      "source": [
        "def human_readable_properties(data, property):\n",
        "  list_QID = (data.iloc[0][property])\n",
        "  list_values = []\n",
        "  # Start by testing whether there is value\n",
        "  if not(list_QID is None):\n",
        "    # As there might be several values per property, we iterate on them\n",
        "    for idx, QID in enumerate(list_QID):\n",
        "      # Check whether the QID is corrupted, i.e. do not start by Q or less than two characters \n",
        "      if len(QID) >= 2 and QID[0] == 'Q':\n",
        "        # Retrieve the Label (not description) of the QID item in the dataframe containing wikidata label\n",
        "        # In df_labels_wiki, select the row that corresponds to the QID of interst \n",
        "        selector = df_labels_wiki[\"QID\"] == QID \n",
        "        # Then extract the label of the QID/item of interest\n",
        "        list_values.append(df_labels_wiki[selector].iloc[0][\"Label\"])\n",
        "      else:\n",
        "        warnings.warn(\"This is a corrupted QID, no value is returned!\")\n",
        "    return list_values\n",
        "  else:\n",
        "    warnings.warn(\"There is no value for this property!\")\n",
        "    return None  "
      ],
      "id": "zK4gM8npsP9Y",
      "execution_count": null,
      "outputs": []
    },
    {
      "cell_type": "markdown",
      "source": [
        "A function that is used several times in sections D, E, it is easier to define it here."
      ],
      "metadata": {
        "id": "oDpPtn0IcrVg"
      },
      "id": "oDpPtn0IcrVg"
    },
    {
      "cell_type": "code",
      "metadata": {
        "id": "XvHchm0wcmtE"
      },
      "source": [
        "def load_csv_to_df(year, domain, folder=\"News_outlet_csvs\"):\n",
        "    path = os.path.join(drive, folder, str(year), str(year) + \"_\" + domain + \".csv\")\n",
        "    outlet_df = pd.read_csv(path, encoding=\"utf-8\")\n",
        "    return outlet_df"
      ],
      "execution_count": null,
      "outputs": [],
      "id": "XvHchm0wcmtE"
    },
    {
      "cell_type": "markdown",
      "metadata": {
        "id": "mT0PuiX7WG-O"
      },
      "source": [
        "## B) Data exploration"
      ],
      "id": "mT0PuiX7WG-O"
    },
    {
      "cell_type": "markdown",
      "source": [
        "Here we explore the data and check what kind of issues we could face later during the handling of the data. \n",
        "\n",
        "We will start by a basic visualisation of the dataset: check how the quotes look like."
      ],
      "metadata": {
        "id": "rNk9cU9uPkKp"
      },
      "id": "rNk9cU9uPkKp"
    },
    {
      "cell_type": "code",
      "metadata": {
        "colab": {
          "base_uri": "https://localhost:8080/",
          "height": 206
        },
        "id": "cuONXghXYYEx",
        "outputId": "d6f6933a-210a-4407-8a07-17624c53f959"
      },
      "source": [
        "# Load & format quotes from 2020\n",
        "path_to_file = drive + 'Quotebank/quotes-2020.json.bz2' \n",
        "\n",
        "list_of_quotes_dict = []\n",
        "count = 0\n",
        "sample_size = 10000  # Sample chosen for current experiments\n",
        "\n",
        "# Open the 2020 quotebank\n",
        "with bz2.open(path_to_file, 'rb') as s_file:\n",
        "    for instance in s_file:\n",
        "        if count == sample_size:\n",
        "            break\n",
        "        #print(instance)\n",
        "        decoded = json.loads(instance.decode('utf-8'))  # Decode each instance into a dictionary\n",
        "        #print(decoded[\"quoteID\"])\n",
        "        list_of_quotes_dict.append(decoded)\n",
        "        count += 1\n",
        "\n",
        "df_quotes = pd.DataFrame(list_of_quotes_dict)  # Turn list of entries into dataframe\n",
        "df_quotes.head()"
      ],
      "id": "cuONXghXYYEx",
      "execution_count": null,
      "outputs": [
        {
          "output_type": "execute_result",
          "data": {
            "text/html": [
              "\n",
              "  <div id=\"df-50848221-546b-4e80-b997-b1c3af86559c\">\n",
              "    <div class=\"colab-df-container\">\n",
              "      <div>\n",
              "<style scoped>\n",
              "    .dataframe tbody tr th:only-of-type {\n",
              "        vertical-align: middle;\n",
              "    }\n",
              "\n",
              "    .dataframe tbody tr th {\n",
              "        vertical-align: top;\n",
              "    }\n",
              "\n",
              "    .dataframe thead th {\n",
              "        text-align: right;\n",
              "    }\n",
              "</style>\n",
              "<table border=\"1\" class=\"dataframe\">\n",
              "  <thead>\n",
              "    <tr style=\"text-align: right;\">\n",
              "      <th></th>\n",
              "      <th>quoteID</th>\n",
              "      <th>quotation</th>\n",
              "      <th>speaker</th>\n",
              "      <th>qids</th>\n",
              "      <th>date</th>\n",
              "      <th>numOccurrences</th>\n",
              "      <th>probas</th>\n",
              "      <th>urls</th>\n",
              "      <th>phase</th>\n",
              "    </tr>\n",
              "  </thead>\n",
              "  <tbody>\n",
              "    <tr>\n",
              "      <th>0</th>\n",
              "      <td>2020-01-28-000082</td>\n",
              "      <td>[ D ] espite the efforts of the partners to cr...</td>\n",
              "      <td>None</td>\n",
              "      <td>[]</td>\n",
              "      <td>2020-01-28 08:04:05</td>\n",
              "      <td>1</td>\n",
              "      <td>[[None, 0.7272], [Prime Minister Netanyahu, 0....</td>\n",
              "      <td>[http://israelnationalnews.com/News/News.aspx/...</td>\n",
              "      <td>E</td>\n",
              "    </tr>\n",
              "    <tr>\n",
              "      <th>1</th>\n",
              "      <td>2020-01-16-000088</td>\n",
              "      <td>[ Department of Homeland Security ] was livid ...</td>\n",
              "      <td>Sue Myrick</td>\n",
              "      <td>[Q367796]</td>\n",
              "      <td>2020-01-16 12:00:13</td>\n",
              "      <td>1</td>\n",
              "      <td>[[Sue Myrick, 0.8867], [None, 0.0992], [Ron Wy...</td>\n",
              "      <td>[http://thehill.com/opinion/international/4782...</td>\n",
              "      <td>E</td>\n",
              "    </tr>\n",
              "    <tr>\n",
              "      <th>2</th>\n",
              "      <td>2020-02-10-000142</td>\n",
              "      <td>... He (Madhav) also disclosed that the illega...</td>\n",
              "      <td>None</td>\n",
              "      <td>[]</td>\n",
              "      <td>2020-02-10 23:45:54</td>\n",
              "      <td>1</td>\n",
              "      <td>[[None, 0.8926], [Prakash Rai, 0.1074]]</td>\n",
              "      <td>[https://indianexpress.com/article/business/ec...</td>\n",
              "      <td>E</td>\n",
              "    </tr>\n",
              "    <tr>\n",
              "      <th>3</th>\n",
              "      <td>2020-02-15-000053</td>\n",
              "      <td>... [ I ] f it gets to the floor,</td>\n",
              "      <td>None</td>\n",
              "      <td>[]</td>\n",
              "      <td>2020-02-15 14:12:51</td>\n",
              "      <td>2</td>\n",
              "      <td>[[None, 0.581], [Andy Harris, 0.4191]]</td>\n",
              "      <td>[https://patriotpost.us/opinion/68622-trump-bu...</td>\n",
              "      <td>E</td>\n",
              "    </tr>\n",
              "    <tr>\n",
              "      <th>4</th>\n",
              "      <td>2020-01-24-000168</td>\n",
              "      <td>[ I met them ] when they just turned 4 and 7. ...</td>\n",
              "      <td>Meghan King Edmonds</td>\n",
              "      <td>[Q20684375]</td>\n",
              "      <td>2020-01-24 20:37:09</td>\n",
              "      <td>4</td>\n",
              "      <td>[[Meghan King Edmonds, 0.5446], [None, 0.2705]...</td>\n",
              "      <td>[https://people.com/parents/meghan-king-edmond...</td>\n",
              "      <td>E</td>\n",
              "    </tr>\n",
              "  </tbody>\n",
              "</table>\n",
              "</div>\n",
              "      <button class=\"colab-df-convert\" onclick=\"convertToInteractive('df-50848221-546b-4e80-b997-b1c3af86559c')\"\n",
              "              title=\"Convert this dataframe to an interactive table.\"\n",
              "              style=\"display:none;\">\n",
              "        \n",
              "  <svg xmlns=\"http://www.w3.org/2000/svg\" height=\"24px\"viewBox=\"0 0 24 24\"\n",
              "       width=\"24px\">\n",
              "    <path d=\"M0 0h24v24H0V0z\" fill=\"none\"/>\n",
              "    <path d=\"M18.56 5.44l.94 2.06.94-2.06 2.06-.94-2.06-.94-.94-2.06-.94 2.06-2.06.94zm-11 1L8.5 8.5l.94-2.06 2.06-.94-2.06-.94L8.5 2.5l-.94 2.06-2.06.94zm10 10l.94 2.06.94-2.06 2.06-.94-2.06-.94-.94-2.06-.94 2.06-2.06.94z\"/><path d=\"M17.41 7.96l-1.37-1.37c-.4-.4-.92-.59-1.43-.59-.52 0-1.04.2-1.43.59L10.3 9.45l-7.72 7.72c-.78.78-.78 2.05 0 2.83L4 21.41c.39.39.9.59 1.41.59.51 0 1.02-.2 1.41-.59l7.78-7.78 2.81-2.81c.8-.78.8-2.07 0-2.86zM5.41 20L4 18.59l7.72-7.72 1.47 1.35L5.41 20z\"/>\n",
              "  </svg>\n",
              "      </button>\n",
              "      \n",
              "  <style>\n",
              "    .colab-df-container {\n",
              "      display:flex;\n",
              "      flex-wrap:wrap;\n",
              "      gap: 12px;\n",
              "    }\n",
              "\n",
              "    .colab-df-convert {\n",
              "      background-color: #E8F0FE;\n",
              "      border: none;\n",
              "      border-radius: 50%;\n",
              "      cursor: pointer;\n",
              "      display: none;\n",
              "      fill: #1967D2;\n",
              "      height: 32px;\n",
              "      padding: 0 0 0 0;\n",
              "      width: 32px;\n",
              "    }\n",
              "\n",
              "    .colab-df-convert:hover {\n",
              "      background-color: #E2EBFA;\n",
              "      box-shadow: 0px 1px 2px rgba(60, 64, 67, 0.3), 0px 1px 3px 1px rgba(60, 64, 67, 0.15);\n",
              "      fill: #174EA6;\n",
              "    }\n",
              "\n",
              "    [theme=dark] .colab-df-convert {\n",
              "      background-color: #3B4455;\n",
              "      fill: #D2E3FC;\n",
              "    }\n",
              "\n",
              "    [theme=dark] .colab-df-convert:hover {\n",
              "      background-color: #434B5C;\n",
              "      box-shadow: 0px 1px 3px 1px rgba(0, 0, 0, 0.15);\n",
              "      filter: drop-shadow(0px 1px 2px rgba(0, 0, 0, 0.3));\n",
              "      fill: #FFFFFF;\n",
              "    }\n",
              "  </style>\n",
              "\n",
              "      <script>\n",
              "        const buttonEl =\n",
              "          document.querySelector('#df-50848221-546b-4e80-b997-b1c3af86559c button.colab-df-convert');\n",
              "        buttonEl.style.display =\n",
              "          google.colab.kernel.accessAllowed ? 'block' : 'none';\n",
              "\n",
              "        async function convertToInteractive(key) {\n",
              "          const element = document.querySelector('#df-50848221-546b-4e80-b997-b1c3af86559c');\n",
              "          const dataTable =\n",
              "            await google.colab.kernel.invokeFunction('convertToInteractive',\n",
              "                                                     [key], {});\n",
              "          if (!dataTable) return;\n",
              "\n",
              "          const docLinkHtml = 'Like what you see? Visit the ' +\n",
              "            '<a target=\"_blank\" href=https://colab.research.google.com/notebooks/data_table.ipynb>data table notebook</a>'\n",
              "            + ' to learn more about interactive tables.';\n",
              "          element.innerHTML = '';\n",
              "          dataTable['output_type'] = 'display_data';\n",
              "          await google.colab.output.renderOutput(dataTable, element);\n",
              "          const docLink = document.createElement('div');\n",
              "          docLink.innerHTML = docLinkHtml;\n",
              "          element.appendChild(docLink);\n",
              "        }\n",
              "      </script>\n",
              "    </div>\n",
              "  </div>\n",
              "  "
            ],
            "text/plain": [
              "             quoteID  ... phase\n",
              "0  2020-01-28-000082  ...     E\n",
              "1  2020-01-16-000088  ...     E\n",
              "2  2020-02-10-000142  ...     E\n",
              "3  2020-02-15-000053  ...     E\n",
              "4  2020-01-24-000168  ...     E\n",
              "\n",
              "[5 rows x 9 columns]"
            ]
          },
          "metadata": {},
          "execution_count": 6
        }
      ]
    },
    {
      "cell_type": "markdown",
      "metadata": {
        "id": "3tJUwgkMQcGG"
      },
      "source": [
        "### 1) Frequency of domains"
      ],
      "id": "3tJUwgkMQcGG"
    },
    {
      "cell_type": "markdown",
      "metadata": {
        "id": "2xd-x839Q7ZF"
      },
      "source": [
        "We want to compute the number of quotes per news outlet in order to choose the most important for our analysis.\n",
        "\n",
        "The first step is to extract the domain from the url. For this task we use the *tld* library."
      ],
      "id": "2xd-x839Q7ZF"
    },
    {
      "cell_type": "markdown",
      "metadata": {
        "id": "lSbzytTpR38Q"
      },
      "source": [
        "The `get_domain` function return the domain name from an url.\n",
        "\n",
        "Example: `get_domain(\"https://stackoverflow.com/questions/ \")` returns *stackoverflow.com*\n",
        "\n",
        "The `domain_counting` function takes the list of urls of one quotes and count the number of domains using `get_domain` and the function `Counter` from the library Collection."
      ],
      "id": "lSbzytTpR38Q"
    },
    {
      "cell_type": "code",
      "metadata": {
        "id": "FUHl0HpIjGK1"
      },
      "source": [
        "def get_domain(url):\n",
        "    return get_fld(url)\n",
        "\n",
        "def domain_counting(urls):\n",
        "    domain_list = [get_domain(url) for url in urls] #we store the domain in this list\n",
        "    return Counter(domain_list)"
      ],
      "id": "FUHl0HpIjGK1",
      "execution_count": null,
      "outputs": []
    },
    {
      "cell_type": "markdown",
      "metadata": {
        "id": "zs85SoLvY6w6"
      },
      "source": [
        "We now count the number of quotes per news outlet per year and save this data to external csv files, such that we can easily access them again. This code takes a long time to run and, in practice, was run in parallel on several machines to save some time."
      ],
      "id": "zs85SoLvY6w6"
    },
    {
      "cell_type": "code",
      "metadata": {
        "id": "6vl8daAYklh6"
      },
      "source": [
        "def count_domains_per_year():\n",
        "\n",
        "    path_domains_count = drive + \"Domains_count/\"\n",
        "    if not os.path.exists(path_domains_count):\n",
        "        os.makedirs(path_domains_count)\n",
        "\n",
        "    years = range(2015, 2021)\n",
        "\n",
        "    for year in years:\n",
        "\n",
        "        path_to_file = drive + 'Quotebank/quotes-'+ str(year) + '.json.bz2' \n",
        "        domains_count = Counter()\n",
        "        iterations_counter = 0\n",
        "        df_test = pd.read_json(path_to_file, lines=True, compression='bz2', chunksize=100, encoding=\"utf-8\") #code used to load the data by chunks\n",
        "\n",
        "        for chunk in df_test:\n",
        "\n",
        "            if iterations_counter % 1000 == 0:\n",
        "                print(\"Processing chunk\", iterations_counter, \"of year\", year)\n",
        "\n",
        "            domains = chunk['urls'].apply(domain_counting)\n",
        "            domains_count = domains_count + domains.sum() # chunk['urls'].apply(..) return a series containing the result of Counter(domain_list), so we have to use .sum() to obtain a Counter object.\n",
        "            iterations_counter += 1\n",
        "\n",
        "            if iterations_counter % 10000 == 0:\n",
        "                # Write domains to file every 1 million quotes as intermediate backup in case colab decides to stop running\n",
        "                print(\"Processing chunk \" + str(iterations_counter) + \" of year \" + str(year) + \"...\")\n",
        "                ordered_domains_count_list = domains_count.most_common()\n",
        "                filename = path_domains_count + \"domains_count_\" + str(year) + \"_\" + str(iterations_counter) + \".csv\"\n",
        "                with open(filename, 'w') as f:\n",
        "                    for dom, c in ordered_domains_count_list:\n",
        "                        f.write(\"{},{}\\n\".format(dom, c))\n",
        "                    f.close()\n",
        "\n",
        "                print(\"Saved domains count for year \" + str(year) + \" chunks \" + str(iterations_counter))\n",
        "\n",
        "        # Write final count to file\n",
        "        ordered_domains_count_list = domains_count.most_common()\n",
        "        filename = path_domains_count + \"domains_count_\" + str(year) + \"_final.csv\"\n",
        "        with open(filename, 'w') as f:\n",
        "            for dom, c in ordered_domains_count_list:\n",
        "                f.write(\"{},{}\\n\".format(dom, c))\n",
        "            f.close()\n",
        "\n",
        "        print(\"Saved final domains count for year \" + str(year))\n"
      ],
      "id": "6vl8daAYklh6",
      "execution_count": null,
      "outputs": []
    },
    {
      "cell_type": "code",
      "metadata": {
        "id": "N80y8axwHkcF"
      },
      "source": [
        "# To execute the function, do not run it a second time! \n",
        "#count_domains_per_year()"
      ],
      "id": "N80y8axwHkcF",
      "execution_count": null,
      "outputs": []
    },
    {
      "cell_type": "markdown",
      "metadata": {
        "id": "eFRrxOSYcGgI"
      },
      "source": [
        "### 2) Selection of news outlets to analyse\n",
        "\n",
        "Now that we have the count of quotes for each individual news outlet, we want to select which outlets we will study in our analysis, as studying them all is impossible for us in terms of time and resources.\n",
        "\n",
        "When selecting the outlets, we take the following concerns into consideration:\n",
        "\n",
        "1. We are likely to observe different quoting patterns for non-American outlets than for American ones due to cultural factors, and we may not have the required knowledge to analyse them properly, but it can be interesting to observe these differences during analysis.\n",
        "2. We want the news outlets we choose to be comparable in terms of amount of data we have per outlet per year. For this reason, we select outlets among those that have many quotes in every single year.\n",
        "3. Some news outlets are actually not creating new content, but instead repost/share news from several news outlets on their website. Due to this fact, these outlets cannot be compared with standard news outlets. However, it can still be interesting to analyse them separately.\n",
        "\n",
        "To ensure that point 2 is satisfied, we decide to analyse only outlets that are in the top X news outlets with the most quotes in every single year. We choose X = 200, which returns a total of 36 news outlets to analyse. This additionally is convenient for us, as we are strongly constrained in terms of time and resources and want to reduce the amount of data to analyse.\n",
        "\n",
        "As for point 1 and 3, we create a csv file with all news outlets selected and manually label their country of origin and whether they are creating new content or reposting existing articles. This way, we can easily access this information during our analysis."
      ],
      "id": "eFRrxOSYcGgI"
    },
    {
      "cell_type": "code",
      "metadata": {
        "id": "M27fzoDzcM1P"
      },
      "source": [
        "def select_common_top_X_doms(X, stats=False):\n",
        "    '''Select news outlets that occur in all the top X counts of quotes of each year.'''\n",
        "    \n",
        "    # Path to folder containing the domains count per year\n",
        "    path_domains_count = drive + \"Domains_count/\"\n",
        "    column_names = [\"Domain name\", \"count\"]\n",
        "\n",
        "    # Loading the counts to dataframes, sorting the counts and keeping only the top X counts of each year\n",
        "    domains_count_2015 = pd.read_csv(path_domains_count + \"domains_count_2015_final.csv\", names=column_names).sort_values(\"count\", ascending=False).head(X)\n",
        "    domains_count_2016 = pd.read_csv(path_domains_count + \"domains_count_2016_final.csv\", names=column_names).sort_values(\"count\", ascending=False).head(X)\n",
        "    domains_count_2017 = pd.read_csv(path_domains_count + \"domains_count_2017_final.csv\", names=column_names).sort_values(\"count\", ascending=False).head(X)\n",
        "    domains_count_2018 = pd.read_csv(path_domains_count + \"domains_count_2018_final.csv\", names=column_names).sort_values(\"count\", ascending=False).head(X)\n",
        "    domains_count_2019 = pd.read_csv(path_domains_count + \"domains_count_2019_final.csv\", names=column_names).sort_values(\"count\", ascending=False).head(X)\n",
        "    domains_count_2020 = pd.read_csv(path_domains_count + \"domains_count_2020_final.csv\", names=column_names).sort_values(\"count\", ascending=False).head(X)\n",
        "\n",
        "    # get the set of domains of each year and intersect them with each other to only keep those that occur in all years\n",
        "    all_doms_df = [domains_count_2015, domains_count_2016, domains_count_2017, domains_count_2018, domains_count_2019, domains_count_2020]\n",
        "    doms = [set(dom[\"Domain name\"]) for dom in all_doms_df]\n",
        "    common_domains = doms[0].intersection(*doms)\n",
        "\n",
        "    # Some quick stats for our own curiosity\n",
        "    if stats:\n",
        "        years = range(2015, 2021)\n",
        "        print(\"Some stats of results for X =\", X, \"\\n\")\n",
        "        for i, dom in enumerate(all_doms_df):\n",
        "            print(\"Year:\", years[i])\n",
        "            maximum = dom[\"count\"].iloc[0]\n",
        "            minimum = dom[\"count\"].iloc[-1]\n",
        "            print(\"Max\", maximum)\n",
        "            print(\"Min\", minimum)\n",
        "            print(\"Difference:\", maximum - minimum, \"\\n\")\n",
        "\n",
        "        print(\"Number of news outlets:\", len(common_domains), \"\\n\")\n",
        "    \n",
        "    # Write the domains to a new file\n",
        "    filename = path_domains_count + \"domains_common_top_200.csv\"\n",
        "    with open(filename, 'w') as f:\n",
        "        for e in common_domains:\n",
        "            f.write(\"{}\\n\".format(e))\n",
        "        f.close()\n",
        "\n",
        "    print(\"Saved domains common to all top\", X)\n",
        "\n",
        "    return common_domains"
      ],
      "id": "M27fzoDzcM1P",
      "execution_count": null,
      "outputs": []
    },
    {
      "cell_type": "code",
      "metadata": {
        "colab": {
          "base_uri": "https://localhost:8080/"
        },
        "id": "5_d9De-aPwiP",
        "outputId": "1b948d5e-a8b9-4206-a9a8-f996f3878d85"
      },
      "source": [
        "common_domains = select_common_top_X_doms(200)  # X = 200"
      ],
      "id": "5_d9De-aPwiP",
      "execution_count": null,
      "outputs": [
        {
          "output_type": "stream",
          "name": "stdout",
          "text": [
            "Saved domains common to all top 200\n"
          ]
        }
      ]
    },
    {
      "cell_type": "markdown",
      "metadata": {
        "id": "BRMhuv2mHRem"
      },
      "source": [
        "In the previous cell, we were focused on selecting news outlets with a sufficient amount of data per year to analyse. However, we can also conduct the same analyses with data aggregated across all years, disregarding the time factor. Therefore, we select the Y news outlets with the highest cummulative count of quotes. We choose Y = 36 (same as the amount selected in the first step, just to stay consistent) as we still are constrained in terms of time and resources."
      ],
      "id": "BRMhuv2mHRem"
    },
    {
      "cell_type": "code",
      "metadata": {
        "id": "hiDG-X7uHRM0"
      },
      "source": [
        "def csv_to_counter(path, cols):\n",
        "    '''Convert a csv of counts to a Counter object'''\n",
        "\n",
        "    with open(path, \"r\") as f:\n",
        "        csv_reader = csv.DictReader(f, fieldnames=cols)  # Initialize csv reader\n",
        "        c = Counter({row[cols[0]]: int(float(row[cols[1]])) for row in csv_reader})  # Convert to Counter object\n",
        "    return c\n",
        "\n",
        "def select_top_cumulative_count_doms(Y):\n",
        "    '''Select the top Y news outlets with the highest cumulative count of quotes'''\n",
        "\n",
        "    # Path to folder containing the domains count for each year\n",
        "    path_domains_count = drive + \"Domains_count/\"\n",
        "    column_names = [\"Domain name\", \"count\"]\n",
        "\n",
        "    cumulative_count = Counter()  # initialize cumulative counter\n",
        "\n",
        "    for year in range(2015, 2021):\n",
        "        # Add next counts to cumulative counter\n",
        "        cumulative_count += csv_to_counter(path_domains_count + \"domains_count_\" + str(year) + \"_final.csv\", column_names)\n",
        "\n",
        "    # Write all cummulative counts to file\n",
        "    ordered_cumulative_count = cumulative_count.most_common()\n",
        "    filename = path_domains_count + \"domains_count_cumulative.csv\"\n",
        "    with open(filename, 'w') as f:\n",
        "        for dom, c in ordered_cumulative_count:\n",
        "            f.write(\"{},{}\\n\".format(dom, c))\n",
        "        f.close()\n",
        "\n",
        "    print(\"Saved cumulative count of all domains\")\n",
        "\n",
        "    # Select Y domains with highest cumulative count\n",
        "    ordered_cumulative_count_head = cumulative_count.most_common(Y)\n",
        "    filename = path_domains_count + \"domains_count_cumulative_\" + str(Y) + \".csv\"\n",
        "    top_doms = set()\n",
        "    with open(filename, 'w') as f:\n",
        "        for dom, _ in ordered_cumulative_count_head:\n",
        "            f.write(\"{}\\n\".format(dom))\n",
        "            top_doms.add(dom)\n",
        "        f.close()\n",
        "    \n",
        "    print(\"Saved\", Y, \"domains with highest cumulative counts\")\n",
        "\n",
        "    return top_doms"
      ],
      "id": "hiDG-X7uHRM0",
      "execution_count": null,
      "outputs": []
    },
    {
      "cell_type": "code",
      "metadata": {
        "colab": {
          "base_uri": "https://localhost:8080/"
        },
        "id": "PAQW2Os1PzeF",
        "outputId": "d6c3a4fa-a79a-4684-c0dc-1b3501f51a01"
      },
      "source": [
        "top_doms = select_top_cumulative_count_doms(36)"
      ],
      "id": "PAQW2Os1PzeF",
      "execution_count": null,
      "outputs": [
        {
          "output_type": "stream",
          "name": "stdout",
          "text": [
            "Saved cumulative count of all domains\n",
            "Saved 36 domains with highest cumulative counts\n"
          ]
        }
      ]
    },
    {
      "cell_type": "markdown",
      "metadata": {
        "id": "CDwMBNLGUM3E"
      },
      "source": [
        "Among the news outlets selected in this second step, half actually overlap with those selected in the first step, as shown below. For these news outlets, we have a considerable amount of quotes for each year and a huge cumulative count across all years. Therefore, these news outlets are suitable for a comparison between results obtained for each year and results for the aggregated data."
      ],
      "id": "CDwMBNLGUM3E"
    },
    {
      "cell_type": "code",
      "metadata": {
        "colab": {
          "base_uri": "https://localhost:8080/"
        },
        "id": "Mavk2OFwRtMM",
        "outputId": "583976ed-8d66-4a8c-a097-de5622ef02ee"
      },
      "source": [
        "# Compute the intersection of domains which are frequent every year and those that have top cumulative counts\n",
        "overlap_selected_doms = common_domains.intersection(top_doms)\n",
        "print(\"Number of doms present in both selections:\", len(overlap_selected_doms))\n",
        "overlap_selected_doms"
      ],
      "id": "Mavk2OFwRtMM",
      "execution_count": null,
      "outputs": [
        {
          "output_type": "stream",
          "name": "stdout",
          "text": [
            "Number of doms present in both selections: 18\n"
          ]
        },
        {
          "output_type": "execute_result",
          "data": {
            "text/plain": [
              "{'breitbart.com',\n",
              " 'brisbanetimes.com.au',\n",
              " 'cbsnews.com',\n",
              " 'cnn.com',\n",
              " 'foxnews.com',\n",
              " 'go.com',\n",
              " 'indiatimes.com',\n",
              " 'mirror.co.uk',\n",
              " 'msn.com',\n",
              " 'nzcity.co.nz',\n",
              " 'nzherald.co.nz',\n",
              " 'seattletimes.com',\n",
              " 'sfgate.com',\n",
              " 'smh.com.au',\n",
              " 'startribune.com',\n",
              " 'stuff.co.nz',\n",
              " 'upi.com',\n",
              " 'washingtontimes.com'}"
            ]
          },
          "metadata": {},
          "execution_count": 53
        }
      ]
    },
    {
      "cell_type": "markdown",
      "metadata": {
        "id": "PIC3sBtaWAdB"
      },
      "source": [
        "In total, we will analyse the data of the union of these selections, so 54 news outlets. We create a csv file containing all domains with a flag for whether it is suitable for year by year analysis or cumulative analysis respectively. Later we will also manually add further information about the domains. This is to address the issues specified in points 1 and 3 at the beginning of the section."
      ],
      "id": "PIC3sBtaWAdB"
    },
    {
      "cell_type": "code",
      "metadata": {
        "colab": {
          "base_uri": "https://localhost:8080/"
        },
        "id": "eTFpuc8dV_46",
        "outputId": "59067d2e-55dd-4ae5-c617-dbbaaa1dcfe6"
      },
      "source": [
        "all_selected_doms = common_domains.union(top_doms)  # Union of two sets of domains selected\n",
        "print(\"Number of doms selected for various analyses:\", len(all_selected_doms))\n",
        "\n",
        "# Put file in global drive\n",
        "filename = drive + \"selected_domains.csv\"\n",
        "\n",
        "with open(filename, 'w') as f:\n",
        "    f.write(\"domain,year_by_year,cumulative\\n\")  # Header of the csv\n",
        "    for dom in all_selected_doms:\n",
        "        is_in_common_doms = 1 if dom in common_domains else 0  # Flag for suitable for year_by_year analysis\n",
        "        is_in_top_doms = 1 if dom in top_doms else 0  # Flag for suitable for cumulative analysis\n",
        "        f.write(\"{},{},{}\\n\".format(dom, is_in_common_doms, is_in_top_doms))\n",
        "    f.close()\n",
        "\n",
        "print(\"Saved selected domains file\")"
      ],
      "id": "eTFpuc8dV_46",
      "execution_count": null,
      "outputs": [
        {
          "output_type": "stream",
          "name": "stdout",
          "text": [
            "Number of doms selected for various analyses: 54\n",
            "Saved selected domains file\n"
          ]
        }
      ]
    },
    {
      "cell_type": "markdown",
      "metadata": {
        "id": "5s3pgMbGSg7o"
      },
      "source": [
        "### 3) Wikidata\n",
        "\n"
      ],
      "id": "5s3pgMbGSg7o"
    },
    {
      "cell_type": "markdown",
      "metadata": {
        "id": "2FV51WO-oAIn"
      },
      "source": [
        "#### Check how many QIDs there are per speaker:\n",
        "\n",
        "With a sample consisting of the first 10,000 quotes of the 2020 dataset, we can read from the histogram that there is a majority of speakers who have no wikidata page (3425), and one wikidata page (4832). Then the frequency of QID number decreases rapidly (682 for two QID, 285 for three...), however there are still 9 speakers having 20 different QIDs and one speaker with 257 (whose name is *Wang Yi*, current maximum). The fact that some speakers have several QIDs might be an issue later, we will adress this problem in the upcoming sections. "
      ],
      "id": "2FV51WO-oAIn"
    },
    {
      "cell_type": "code",
      "metadata": {
        "colab": {
          "base_uri": "https://localhost:8080/",
          "height": 295
        },
        "id": "HY04RJircwbt",
        "outputId": "96f0a5c1-27fb-438a-b20e-8b4200ea25f6"
      },
      "source": [
        "# Check QID list's length of every loaded quotes \n",
        "length_qids = np.zeros(len(df_quotes))\n",
        "for idx, qids in enumerate(df_quotes[\"qids\"].values):\n",
        "  length_qids[idx] = len(qids)\n",
        "# Plot a histogram with log-scale on Y axis\n",
        "plt.hist(length_qids, bins=int(np.max(length_qids)))\n",
        "plt.yscale('log')\n",
        "plt.grid('on')\n",
        "plt.xlabel(\"Number of QID elements per speaker\")\n",
        "plt.ylabel(\"Frequency (log-scale)\")\n",
        "plt.title(\"Histogram of the number of QID per speaker\")\n",
        "#plt.xlim(0, 30) # Uncomment for focusing on a specific region \n",
        "plt.show()"
      ],
      "id": "HY04RJircwbt",
      "execution_count": null,
      "outputs": [
        {
          "data": {
            "image/png": "[encoded data removed]",
            "text/plain": [
              "<Figure size 432x288 with 1 Axes>"
            ]
          },
          "metadata": {},
          "output_type": "display_data"
        }
      ]
    },
    {
      "cell_type": "code",
      "metadata": {
        "colab": {
          "base_uri": "https://localhost:8080/",
          "height": 203
        },
        "id": "Le4mUaL0lOoV",
        "outputId": "fcbd57ab-89f3-4c42-9d03-cf0d6263c8a4"
      },
      "source": [
        "# Display the frequency using a dataframe instead of a histogram\n",
        "val, freq = np.unique(length_qids, return_counts=True)\n",
        "df_QID_freq = pd.DataFrame(data={\"Nb. of QID\":val, \"Frequency\":freq})\n",
        "df_QID_freq.head(5)"
      ],
      "id": "Le4mUaL0lOoV",
      "execution_count": null,
      "outputs": [
        {
          "data": {
            "text/html": [
              "<div>\n",
              "<style scoped>\n",
              "    .dataframe tbody tr th:only-of-type {\n",
              "        vertical-align: middle;\n",
              "    }\n",
              "\n",
              "    .dataframe tbody tr th {\n",
              "        vertical-align: top;\n",
              "    }\n",
              "\n",
              "    .dataframe thead th {\n",
              "        text-align: right;\n",
              "    }\n",
              "</style>\n",
              "<table border=\"1\" class=\"dataframe\">\n",
              "  <thead>\n",
              "    <tr style=\"text-align: right;\">\n",
              "      <th></th>\n",
              "      <th>Nb. of QID</th>\n",
              "      <th>Frequency</th>\n",
              "    </tr>\n",
              "  </thead>\n",
              "  <tbody>\n",
              "    <tr>\n",
              "      <th>0</th>\n",
              "      <td>0.0</td>\n",
              "      <td>3425</td>\n",
              "    </tr>\n",
              "    <tr>\n",
              "      <th>1</th>\n",
              "      <td>1.0</td>\n",
              "      <td>4832</td>\n",
              "    </tr>\n",
              "    <tr>\n",
              "      <th>2</th>\n",
              "      <td>2.0</td>\n",
              "      <td>663</td>\n",
              "    </tr>\n",
              "    <tr>\n",
              "      <th>3</th>\n",
              "      <td>3.0</td>\n",
              "      <td>285</td>\n",
              "    </tr>\n",
              "    <tr>\n",
              "      <th>4</th>\n",
              "      <td>4.0</td>\n",
              "      <td>170</td>\n",
              "    </tr>\n",
              "  </tbody>\n",
              "</table>\n",
              "</div>"
            ],
            "text/plain": [
              "   Nb. of QID  Frequency\n",
              "0         0.0       3425\n",
              "1         1.0       4832\n",
              "2         2.0        663\n",
              "3         3.0        285\n",
              "4         4.0        170"
            ]
          },
          "execution_count": 14,
          "metadata": {},
          "output_type": "execute_result"
        }
      ]
    },
    {
      "cell_type": "markdown",
      "metadata": {
        "id": "eBOap9aHcDZc"
      },
      "source": [
        "## C) Data extraction\n",
        "\n",
        "After checking the caveats of the database, in this section we will start extracting meaningful data for our analysis."
      ],
      "id": "eBOap9aHcDZc"
    },
    {
      "cell_type": "markdown",
      "metadata": {
        "id": "-nCUDbBNlxiq"
      },
      "source": [
        " ### 1) Generation of csvs\n",
        "\n",
        "For simpler processing, we decide to first extract the data for each news outlet that we will analyse and store it in separate files, such that we don't need to parse the entire huge dataset every time. For each news outlet, we create one csv file containing the data for that news outlet per year, so six csv files per news outlet in total.\n",
        "\n",
        "*Note: we choose to work with csvs instead of jsons because they are much easier to generate during the extraction of the data, since we process the data in chunks. CSVs allow to simply append the data at the end of the document, while appending to json files is much more complicated.*\n",
        "\n",
        "During the generation of these files, we also generate some data that will be useful to us during the analysis part. Each quote will therefore have the following entries: `quoteID`, `quotation`, `speaker`, `qids`, `date`, `numOccurences`, `probas`, `quote_length`, `negative_sent`, `neutral_sent`, `positive_sent`, `compound`.\n",
        "\n",
        "**Meaning of the variables defined above:**\n",
        " - `quoteID`: ID of the quote in the original *Quotebank* dataset \n",
        " - `quotation`: The quotation \n",
        " - `speaker`: Name of the most likely speaker determined by *Quobert* \n",
        " - `qids`: Set of QIDs of the probable speakers \n",
        " - `date`: Date of the quote\n",
        " - `numOccurences`: Number of times the same quote was cited in different news outlet \n",
        " - `probas`: Probability of the quote being cited by the given speakers\n",
        " - `quote_length`: Quote length in words based on tokenization by `word_tokenize` from nltk library \n",
        " - The next four variables were determined using `SentimentIntensityAnalyzer` from nltk library. Only the `compound` variable was kept for the analysis. \n",
        "    - `negative_sent`\n",
        "    - `neutral_sent`\n",
        "    - `positive_sent`\n",
        "    - `compound`: The compound score is the sum of positive, negative & neutral scores which is then normalized between -1(most extreme negative) and +1 (most extreme positive).\n",
        "\n",
        "**How did we set the additional information per news outlets?**\n",
        "- `Factual_reporting` Was determined from _https://mediabiasfactcheck.com_  ranges from:\n",
        "    - Very low\n",
        "    - Low \n",
        "    - Mixed\n",
        "    - Mostly factual\n",
        "    - High\n",
        "    - Very high \n",
        "- `Political_leaning` Was determined from _https://mediabiasfactcheck.com_  ranges from:\n",
        "    - Extreme\n",
        "    - Left\n",
        "    - Left-center\n",
        "    - Neutral\n",
        "    - Right-center\n",
        "    - Right\n",
        "    - Extreme\n",
        "- `Nationality` We determined the nationality based on the domain extension and where their head-quarter is. \n",
        "- `Content_creator` Whether the website reports news from others news outlets or create their own content. For instance _msn.com_, _yahoo_ and _einnews.com_ mainly reports news from other websites. \n",
        "- `Traffic` Was determined from _https://mediabiasfactcheck.com_, in the end we did not use that variable. It ranges from:\n",
        "    - Low\n",
        "    - Medium\n",
        "    - High "
      ],
      "id": "-nCUDbBNlxiq"
    },
    {
      "cell_type": "markdown",
      "metadata": {
        "id": "X2xxS44HnP7l"
      },
      "source": [
        "First, we create functions that we will use to process the data from quotebank and generate additional data."
      ],
      "id": "X2xxS44HnP7l"
    },
    {
      "cell_type": "code",
      "metadata": {
        "id": "vxlhKFjW7I27"
      },
      "source": [
        "PUNCTUATION = set(string.punctuation)\n",
        "SIA = SentimentIntensityAnalyzer()\n",
        "\n",
        "def remove_punctuation(l):\n",
        "    return [w for w in l if w not in PUNCTUATION]\n",
        "\n",
        "def sentiment_analysis(q):\n",
        "    scores = SIA.polarity_scores(q)\n",
        "    return scores[\"neg\"], scores[\"neu\"], scores[\"pos\"], scores[\"compound\"]\n",
        "\n",
        "def perform_analyses(q):\n",
        "    # Compute length of quotes\n",
        "    tokens = word_tokenize(q)\n",
        "    quote_length = len(remove_punctuation(tokens))  # Count number of words in the quote\n",
        "\n",
        "    # Determine sentiment\n",
        "    scores = sentiment_analysis(q)\n",
        "    negative_sent, neutral_sent, positive_sent, compound = sentiment_analysis(q)  # Apply sentiment analyzer of nltk to obtain sentiment scores\n",
        "\n",
        "    return quote_length, negative_sent, neutral_sent, positive_sent, compound\n",
        "\n",
        "def get_target_doms(urls, domains):\n",
        "    domains_set = {get_fld(url) for url in urls}\n",
        "    return domains.intersection(domains_set)"
      ],
      "id": "vxlhKFjW7I27",
      "execution_count": null,
      "outputs": []
    },
    {
      "cell_type": "markdown",
      "metadata": {
        "id": "QWnReUwloA5T"
      },
      "source": [
        "Next, we generate the csvs for each selected news outlet for each year. \n",
        "\n",
        "We want to minimize the runtime, so we make sure to parse the whole dataset only once and directly extract, process and write the data we want. We identify the quotes cited by our target news outlets, generate the additional data we want for them and write the data of each quote to the files of each outlet that quoted it. Additionally, since we run the code on colab, there is the risk that the code might stop running after a given duration of inactivity. Therefore, we keep track of the processing advancement using a log file that is able to recover the state of the code before it stopped running. The log file will never cause us to miss out on any data, but it might still allow for some quotes to be written twice to the same file. Therefore, we will have to drop duplicates when loading the csv files during later analyses (as is anyway the best practice when we do not use our data for machine learning, which we do not in our project)."
      ],
      "id": "QWnReUwloA5T"
    },
    {
      "cell_type": "code",
      "metadata": {
        "id": "uyu0N1a47Ec8"
      },
      "source": [
        "def generate_csvs(domains, year, chunksize=10000, iter_max=None, use_log=False):\n",
        "    '''\n",
        "    Generates a csv per news outlet for given year\n",
        "    '''\n",
        "\n",
        "    # Path to quotebank file\n",
        "    path_to_file = drive + 'Quotebank/quotes-'+ str(year) + '.json.bz2'\n",
        "    df_chunks = pd.read_json(path_to_file, lines=True, compression='bz2', chunksize=chunksize, encoding=\"utf-8\")\n",
        "\n",
        "    path_new_csvs = drive + 'News_outlet_csvs/' + str(year) + \"/\"\n",
        "\n",
        "    if not os.path.exists(path_new_csvs):  # Create new folders if they don't already exist\n",
        "        os.makedirs(path_new_csvs)\n",
        "\n",
        "    iterations_counter = 0\n",
        "    if use_log:\n",
        "        log_file = path_new_csvs + str(year) + \"log.txt\"\n",
        "        if os.path.isfile(log_file):  # If log file exists\n",
        "            with open(log_file, \"r\") as f:\n",
        "                lines = f.readlines()\n",
        "                iterations_counter_log = int(lines[-1])  # Read last log entry\n",
        "                f.close()\n",
        "        else:\n",
        "            iterations_counter_log = 0\n",
        "\n",
        "    header = \"quoteID,quotation,speaker,qids,date,numOccurences,probas,quote_length,negative_sent,neutral_sent,positive_sent,compound\\n\"  # Header\n",
        "    for dom in domains:\n",
        "        csv_file = path_new_csvs + str(year) + \"_\" + dom +\".csv\"  # Csv file name\n",
        "        if use_log:\n",
        "            if not os.path.isfile(csv_file) or iterations_counter_log == 0:\n",
        "                with open(csv_file, \"w\") as f:  # create new files with just the header if they don't yet exist or if we restart the process\n",
        "                    f.write(header)\n",
        "        else:\n",
        "            if os.path.isfile(csv_file):  # If we don't use the log file to recover previous state, delete any existing csv_file and replace them with files containing just a header to avoid corrupted states\n",
        "                os.remove(csv_file)\n",
        "            with open(csv_file, \"w\") as f:\n",
        "                f.write(header)\n",
        "\n",
        "    for chunk in df_chunks:\n",
        "\n",
        "        if use_log:\n",
        "            if iterations_counter < iterations_counter_log:  # skip chunks until we have reached the last logged state\n",
        "                if iterations_counter % 10 == 0:\n",
        "                    print(\"Skipped chunk\", iterations_counter)\n",
        "                iterations_counter += 1\n",
        "                continue\n",
        "\n",
        "        if iter_max is not None and iterations_counter == iter_max:  # For debugging purposes\n",
        "            break\n",
        "\n",
        "        if iterations_counter % 10 == 0:  # Printing status, feedback for us when running\n",
        "            print(\"Processing chunk\", iterations_counter, \"of year\", year)\n",
        "        \n",
        "        chunk[\"target_doms\"] = chunk.urls.apply(lambda x: get_target_doms(x, domains))  # Find quotes coming from our target domains\n",
        "        chunk = chunk[chunk.target_doms != set()]  # Drop entries where the quote doesn't appear in any of our target domains\n",
        "        chunk.drop([\"urls\", \"phase\"], axis=1, inplace=True)  # drop columns we don't need\n",
        "        chunk[\"quote_length\"], chunk[\"negative_sent\"], chunk[\"neutral_sent\"], chunk[\"positive_sent\"], chunk[\"compound\"] = zip(*chunk.quotation.map(perform_analyses))\n",
        "        \n",
        "        for dom in domains:  # For each target domain\n",
        "            is_in_target_doms = chunk.target_doms.apply(lambda x: dom in x)  # Flag entries of quotes cited by dom\n",
        "            data = chunk.where(is_in_target_doms)  # Select flagged entries\n",
        "            data.dropna(inplace=True)  # Drop other entries\n",
        "            data.drop([\"target_doms\"], axis=1, inplace=True)  # Drop column we don't need\n",
        "            \n",
        "            # Append data to corresponding file\n",
        "            csv_file = path_new_csvs + str(year) + \"_\" + dom +\".csv\"\n",
        "            data.to_csv(csv_file, mode='a', header=False, index=False)\n",
        "        \n",
        "        iterations_counter += 1\n",
        "\n",
        "        # Write to log file to recover previous state in case colab stops running\n",
        "        if use_log:\n",
        "            with open(log_file, \"a\") as f:\n",
        "                f.write(str(iterations_counter) + \"\\n\")\n",
        "                f.close()\n"
      ],
      "id": "uyu0N1a47Ec8",
      "execution_count": null,
      "outputs": []
    },
    {
      "cell_type": "markdown",
      "metadata": {
        "id": "XcW9sgots4NC"
      },
      "source": [
        "\n",
        "We retrive the domains we selected for our analysis form the csv file generated during data exploration."
      ],
      "id": "XcW9sgots4NC"
    },
    {
      "cell_type": "code",
      "metadata": {
        "id": "i9HWgdCVIZm4"
      },
      "source": [
        "selected_domains_file = drive + \"selected_domains.csv\"\n",
        "all_selected_doms = pd.read_csv(selected_domains_file)"
      ],
      "id": "i9HWgdCVIZm4",
      "execution_count": null,
      "outputs": []
    },
    {
      "cell_type": "markdown",
      "metadata": {
        "id": "BNvkX-ljtCAy"
      },
      "source": [
        "And we generate the csvs for each news outlet for each year."
      ],
      "id": "BNvkX-ljtCAy"
    },
    {
      "cell_type": "code",
      "metadata": {
        "id": "xEg0KzNmJAB3"
      },
      "source": [
        "years = range(2015, 2021)\n",
        "chunksize = 10000\n",
        "#for year in years:  # Avoid re-running by mistake when running the notebook\n",
        "#    generate_csvs(set(all_selected_doms.domain), year, chunksize=chunksize, use_log=True)  # commented such that we don't run it again when we run the entire notebook"
      ],
      "id": "xEg0KzNmJAB3",
      "execution_count": null,
      "outputs": []
    },
    {
      "cell_type": "code",
      "metadata": {
        "id": "4Hjd0IaTmOVZ"
      },
      "source": [
        "def load_csv_to_df(year, domain, folder=\"News_outlet_csvs\"):\n",
        "    '''Load csv of given year and domain to dataframe'''\n",
        "    path = os.path.join(drive, folder, str(year), str(year) + \"_\" + domain + \".csv\")\n",
        "    outlet_df = pd.read_csv(path, encoding=\"utf-8\")\n",
        "    return outlet_df"
      ],
      "id": "4Hjd0IaTmOVZ",
      "execution_count": null,
      "outputs": []
    },
    {
      "cell_type": "markdown",
      "source": [
        "### 2) Gathering the most cited speakers\n",
        "Method: \n",
        "  - We will start by filtering the outlets that are based in the US, have a political leaning and are content creator. \n",
        "  - Then we will count the occurence of each speaker based on the *QID* per outlet per year. \n",
        "  - From this we will gather a top 15 of political of democrats and republicans speakers across all years and outlets (Section D)."
      ],
      "metadata": {
        "id": "kpGHnGAfRYy4"
      },
      "id": "kpGHnGAfRYy4"
    },
    {
      "cell_type": "markdown",
      "metadata": {
        "id": "6RTNXKlIl3qK"
      },
      "source": [
        "To prepare the data for our analysis, we first need to load it into dataframes and convert columns to the right types."
      ],
      "id": "6RTNXKlIl3qK"
    },
    {
      "cell_type": "code",
      "source": [
        "# Load the domains' name\n",
        "selected_domains_file = drive + \"selected_domains.csv\"\n",
        "all_selected_doms = pd.read_csv(selected_domains_file)\n",
        "# The mask for selecting the correct outlets\n",
        "mask = (all_selected_doms[\"Nationality\"]=='US') & (all_selected_doms[\"Content_creator\"]>0) & (all_selected_doms[\"Political_leaning\"].notnull())\n",
        "political_US_outlets = all_selected_doms[mask]\n",
        "political_US_outlets"
      ],
      "metadata": {
        "colab": {
          "base_uri": "https://localhost:8080/",
          "height": 665
        },
        "id": "ssQ13W3ORXpv",
        "outputId": "3965588c-31e0-4465-8eaf-e1008be1af6b"
      },
      "id": "ssQ13W3ORXpv",
      "execution_count": null,
      "outputs": [
        {
          "output_type": "execute_result",
          "data": {
            "text/html": [
              "<div>\n",
              "<style scoped>\n",
              "    .dataframe tbody tr th:only-of-type {\n",
              "        vertical-align: middle;\n",
              "    }\n",
              "\n",
              "    .dataframe tbody tr th {\n",
              "        vertical-align: top;\n",
              "    }\n",
              "\n",
              "    .dataframe thead th {\n",
              "        text-align: right;\n",
              "    }\n",
              "</style>\n",
              "<table border=\"1\" class=\"dataframe\">\n",
              "  <thead>\n",
              "    <tr style=\"text-align: right;\">\n",
              "      <th></th>\n",
              "      <th>domain</th>\n",
              "      <th>Year_by_year</th>\n",
              "      <th>Cumulative</th>\n",
              "      <th>Nationality</th>\n",
              "      <th>Political_leaning</th>\n",
              "      <th>Content_creator</th>\n",
              "      <th>Traffic</th>\n",
              "      <th>Factual_reporting</th>\n",
              "    </tr>\n",
              "  </thead>\n",
              "  <tbody>\n",
              "    <tr>\n",
              "      <th>2</th>\n",
              "      <td>latimes.com</td>\n",
              "      <td>0</td>\n",
              "      <td>1</td>\n",
              "      <td>US</td>\n",
              "      <td>-1.0</td>\n",
              "      <td>1</td>\n",
              "      <td>High</td>\n",
              "      <td>5.0</td>\n",
              "    </tr>\n",
              "    <tr>\n",
              "      <th>3</th>\n",
              "      <td>breitbart.com</td>\n",
              "      <td>1</td>\n",
              "      <td>1</td>\n",
              "      <td>US</td>\n",
              "      <td>3.0</td>\n",
              "      <td>1</td>\n",
              "      <td>High</td>\n",
              "      <td>3.0</td>\n",
              "    </tr>\n",
              "    <tr>\n",
              "      <th>7</th>\n",
              "      <td>wtop.com</td>\n",
              "      <td>1</td>\n",
              "      <td>0</td>\n",
              "      <td>US</td>\n",
              "      <td>0.0</td>\n",
              "      <td>1</td>\n",
              "      <td>NaN</td>\n",
              "      <td>5.0</td>\n",
              "    </tr>\n",
              "    <tr>\n",
              "      <th>13</th>\n",
              "      <td>chicagotribune.com</td>\n",
              "      <td>0</td>\n",
              "      <td>1</td>\n",
              "      <td>US</td>\n",
              "      <td>1.0</td>\n",
              "      <td>1</td>\n",
              "      <td>High</td>\n",
              "      <td>5.0</td>\n",
              "    </tr>\n",
              "    <tr>\n",
              "      <th>14</th>\n",
              "      <td>sfgate.com</td>\n",
              "      <td>1</td>\n",
              "      <td>1</td>\n",
              "      <td>US</td>\n",
              "      <td>-1.0</td>\n",
              "      <td>1</td>\n",
              "      <td>High</td>\n",
              "      <td>5.0</td>\n",
              "    </tr>\n",
              "    <tr>\n",
              "      <th>16</th>\n",
              "      <td>upi.com</td>\n",
              "      <td>1</td>\n",
              "      <td>1</td>\n",
              "      <td>US</td>\n",
              "      <td>0.0</td>\n",
              "      <td>1</td>\n",
              "      <td>Medium</td>\n",
              "      <td>5.0</td>\n",
              "    </tr>\n",
              "    <tr>\n",
              "      <th>17</th>\n",
              "      <td>chron.com</td>\n",
              "      <td>1</td>\n",
              "      <td>0</td>\n",
              "      <td>US</td>\n",
              "      <td>-1.0</td>\n",
              "      <td>1</td>\n",
              "      <td>NaN</td>\n",
              "      <td>5.0</td>\n",
              "    </tr>\n",
              "    <tr>\n",
              "      <th>19</th>\n",
              "      <td>cnn.com</td>\n",
              "      <td>1</td>\n",
              "      <td>1</td>\n",
              "      <td>US</td>\n",
              "      <td>-2.0</td>\n",
              "      <td>1</td>\n",
              "      <td>High</td>\n",
              "      <td>3.0</td>\n",
              "    </tr>\n",
              "    <tr>\n",
              "      <th>27</th>\n",
              "      <td>nytimes.com</td>\n",
              "      <td>0</td>\n",
              "      <td>1</td>\n",
              "      <td>US</td>\n",
              "      <td>-1.0</td>\n",
              "      <td>1</td>\n",
              "      <td>High</td>\n",
              "      <td>5.0</td>\n",
              "    </tr>\n",
              "    <tr>\n",
              "      <th>28</th>\n",
              "      <td>thehill.com</td>\n",
              "      <td>1</td>\n",
              "      <td>0</td>\n",
              "      <td>US</td>\n",
              "      <td>0.0</td>\n",
              "      <td>1</td>\n",
              "      <td>High</td>\n",
              "      <td>4.0</td>\n",
              "    </tr>\n",
              "    <tr>\n",
              "      <th>29</th>\n",
              "      <td>washingtonpost.com</td>\n",
              "      <td>0</td>\n",
              "      <td>1</td>\n",
              "      <td>US</td>\n",
              "      <td>-1.0</td>\n",
              "      <td>1</td>\n",
              "      <td>High</td>\n",
              "      <td>4.0</td>\n",
              "    </tr>\n",
              "    <tr>\n",
              "      <th>31</th>\n",
              "      <td>mysanantonio.com</td>\n",
              "      <td>1</td>\n",
              "      <td>0</td>\n",
              "      <td>US</td>\n",
              "      <td>-1.0</td>\n",
              "      <td>1</td>\n",
              "      <td>NaN</td>\n",
              "      <td>5.0</td>\n",
              "    </tr>\n",
              "    <tr>\n",
              "      <th>33</th>\n",
              "      <td>seattletimes.com</td>\n",
              "      <td>1</td>\n",
              "      <td>1</td>\n",
              "      <td>US</td>\n",
              "      <td>-1.0</td>\n",
              "      <td>1</td>\n",
              "      <td>High</td>\n",
              "      <td>5.0</td>\n",
              "    </tr>\n",
              "    <tr>\n",
              "      <th>35</th>\n",
              "      <td>washingtontimes.com</td>\n",
              "      <td>1</td>\n",
              "      <td>1</td>\n",
              "      <td>US</td>\n",
              "      <td>1.0</td>\n",
              "      <td>1</td>\n",
              "      <td>High</td>\n",
              "      <td>3.0</td>\n",
              "    </tr>\n",
              "    <tr>\n",
              "      <th>36</th>\n",
              "      <td>philly.com</td>\n",
              "      <td>0</td>\n",
              "      <td>1</td>\n",
              "      <td>US</td>\n",
              "      <td>-1.0</td>\n",
              "      <td>1</td>\n",
              "      <td>High</td>\n",
              "      <td>5.0</td>\n",
              "    </tr>\n",
              "    <tr>\n",
              "      <th>38</th>\n",
              "      <td>newsok.com</td>\n",
              "      <td>0</td>\n",
              "      <td>1</td>\n",
              "      <td>US</td>\n",
              "      <td>1.0</td>\n",
              "      <td>1</td>\n",
              "      <td>NaN</td>\n",
              "      <td>5.0</td>\n",
              "    </tr>\n",
              "    <tr>\n",
              "      <th>44</th>\n",
              "      <td>cbsnews.com</td>\n",
              "      <td>1</td>\n",
              "      <td>1</td>\n",
              "      <td>US</td>\n",
              "      <td>-1.0</td>\n",
              "      <td>1</td>\n",
              "      <td>High</td>\n",
              "      <td>5.0</td>\n",
              "    </tr>\n",
              "    <tr>\n",
              "      <th>50</th>\n",
              "      <td>foxnews.com</td>\n",
              "      <td>1</td>\n",
              "      <td>1</td>\n",
              "      <td>US</td>\n",
              "      <td>2.0</td>\n",
              "      <td>1</td>\n",
              "      <td>High</td>\n",
              "      <td>3.0</td>\n",
              "    </tr>\n",
              "    <tr>\n",
              "      <th>51</th>\n",
              "      <td>startribune.com</td>\n",
              "      <td>1</td>\n",
              "      <td>1</td>\n",
              "      <td>US</td>\n",
              "      <td>-1.0</td>\n",
              "      <td>1</td>\n",
              "      <td>NaN</td>\n",
              "      <td>5.0</td>\n",
              "    </tr>\n",
              "  </tbody>\n",
              "</table>\n",
              "</div>"
            ],
            "text/plain": [
              "                 domain  Year_by_year  ...  Traffic Factual_reporting\n",
              "2           latimes.com             0  ...     High               5.0\n",
              "3         breitbart.com             1  ...     High               3.0\n",
              "7              wtop.com             1  ...      NaN               5.0\n",
              "13   chicagotribune.com             0  ...     High               5.0\n",
              "14           sfgate.com             1  ...     High               5.0\n",
              "16              upi.com             1  ...   Medium               5.0\n",
              "17            chron.com             1  ...      NaN               5.0\n",
              "19              cnn.com             1  ...     High               3.0\n",
              "27          nytimes.com             0  ...     High               5.0\n",
              "28          thehill.com             1  ...     High               4.0\n",
              "29   washingtonpost.com             0  ...     High               4.0\n",
              "31     mysanantonio.com             1  ...      NaN               5.0\n",
              "33     seattletimes.com             1  ...     High               5.0\n",
              "35  washingtontimes.com             1  ...     High               3.0\n",
              "36           philly.com             0  ...     High               5.0\n",
              "38           newsok.com             0  ...      NaN               5.0\n",
              "44          cbsnews.com             1  ...     High               5.0\n",
              "50          foxnews.com             1  ...     High               3.0\n",
              "51      startribune.com             1  ...      NaN               5.0\n",
              "\n",
              "[19 rows x 8 columns]"
            ]
          },
          "metadata": {},
          "execution_count": 135
        }
      ]
    },
    {
      "cell_type": "code",
      "source": [
        "# Define the years \n",
        "list_years = [2015, 2016, 2017, 2018, 2019, 2020]\n",
        "# Define the domain names\n",
        "list_domains = political_US_outlets[\"domain\"].values"
      ],
      "metadata": {
        "id": "fmeWoAXHXR6i"
      },
      "id": "fmeWoAXHXR6i",
      "execution_count": null,
      "outputs": []
    },
    {
      "cell_type": "code",
      "source": [
        "# Dictionnary that stores in each year a series with the count for each speaker\n",
        "dict_cumulative_counts_1 = {}\n",
        "for year in list_years:\n",
        "  # To store the values per year\n",
        "  cumulative_count = pd.Series([], dtype=float)\n",
        "  for domain in list_domains:\n",
        "    df_outlet = load_csv_to_df(year, domain)\n",
        "    # Use value_count form pandas to count each set of QIDS occurence and use pd.DataFrame.add to sum on the corresponding set of QIDS, if set does not exist, it is added \n",
        "    cumulative_count = cumulative_count.add(df_outlet[\"qids\"].value_counts(), fill_value=0)\n",
        "  dict_cumulative_counts_1[year]=cumulative_count\n",
        "  print(\"Done for year: \" + str(year))"
      ],
      "metadata": {
        "colab": {
          "base_uri": "https://localhost:8080/"
        },
        "outputId": "dfe6a2ef-f2a7-4a39-b3cb-7dc1668a977e",
        "id": "QzK91gLE41l7"
      },
      "execution_count": null,
      "outputs": [
        {
          "output_type": "stream",
          "name": "stdout",
          "text": [
            "Done for year: 2015\n",
            "Done for year: 2016\n",
            "Done for year: 2017\n",
            "Done for year: 2018\n",
            "Done for year: 2019\n",
            "Done for year: 2020\n"
          ]
        }
      ],
      "id": "QzK91gLE41l7"
    },
    {
      "cell_type": "code",
      "source": [
        "# Export the results to CSV files\n",
        "for year in list_years:\n",
        "  df_year = dict_cumulative_counts_1[year]\n",
        "  path = drive+\"/Domains_count/\"+str(year)+'_dict_counts_speakers.txt'\n",
        "  df_year.to_csv(path, header=False, index=True) "
      ],
      "metadata": {
        "id": "zgdJ7_zB41l8"
      },
      "execution_count": null,
      "outputs": [],
      "id": "zgdJ7_zB41l8"
    },
    {
      "cell_type": "markdown",
      "source": [
        "### 3) Get quote's length and compound sentiment distribution\n",
        "\n",
        "Will be used to create simple histograms of quotes' length and compound's sentiment. The compound value will be rounded to a tenth, such that the histogram bins' width will be a tenth. "
      ],
      "metadata": {
        "id": "ef6OVEtEoyvn"
      },
      "id": "ef6OVEtEoyvn"
    },
    {
      "cell_type": "code",
      "source": [
        "# Dictionary to store results per year \n",
        "dict_quote_len_year = {}\n",
        "dict_quote_compound_year = {}\n",
        "# Results all years\n",
        "quote_len_all_year = pd.Series([], dtype=float)\n",
        "quote_compound_all_year = pd.Series([], dtype=float)\n",
        "# Will be used to count the occurence of quote length \n",
        "list_domains_extended = pd.read_csv(drive+\"selected_domains.csv\")[\"domain\"]\n",
        "list_years = [2015,2016,2017,2018,2019,2020]\n",
        "\n",
        "for year in list_years:\n",
        "  # To store the values per year\n",
        "  cumulative_count_len = pd.Series([], dtype=float)\n",
        "  cumulative_count_compound = pd.Series([], dtype=float)\n",
        "  for domain in list_domains_extended:\n",
        "    df_outlet = load_csv_to_df(year, domain)\n",
        "    # Round the compound value to a tenth\n",
        "    df_outlet[\"compound\"] = df_outlet[\"compound\"].round(decimals = 1)\n",
        "    # Use value_count from pandas to count occurence of quote length and use pd.DataFrame.add\n",
        "    cumulative_count_len = cumulative_count_len.add(df_outlet[\"quote_length\"].value_counts(), fill_value=0)\n",
        "    cumulative_count_compound = cumulative_count_compound.add(df_outlet[\"compound\"].value_counts(), fill_value=0)\n",
        "  \n",
        "  # Store the results in the dict and aggregate\n",
        "  dict_quote_len_year[year]=cumulative_count_len\n",
        "  quote_len_all_year = quote_len_all_year.add(cumulative_count_len, fill_value=0)\n",
        "  # Same for compound \n",
        "  dict_quote_compound_year[year]=cumulative_count_compound\n",
        "  quote_compound_all_year = quote_compound_all_year.add(cumulative_count_compound, fill_value=0)\n",
        "  print(\"Done for year: \" + str(year))\n",
        "\n",
        "# Convert the series to a dataframe \n",
        "quote_len_all_year = quote_len_all_year.reset_index()\n",
        "quote_len_all_year.columns = [\"length\", \"occurence\"]\n",
        "quote_len_all_year[\"length\"] = quote_len_all_year[\"length\"].astype(int)\n",
        "# Same for compound\n",
        "quote_compound_all_year = quote_compound_all_year.reset_index()\n",
        "quote_compound_all_year.columns = [\"compound\", \"occurence\"]"
      ],
      "metadata": {
        "colab": {
          "base_uri": "https://localhost:8080/"
        },
        "id": "zHUBYsKXf66j",
        "outputId": "1b492b7d-ca7e-4c7a-d7da-e8b494b58e86"
      },
      "execution_count": null,
      "outputs": [
        {
          "output_type": "stream",
          "name": "stdout",
          "text": [
            "Done for year: 2015\n",
            "Done for year: 2016\n",
            "Done for year: 2017\n",
            "Done for year: 2018\n",
            "Done for year: 2019\n",
            "Done for year: 2020\n"
          ]
        }
      ],
      "id": "zHUBYsKXf66j"
    },
    {
      "cell_type": "code",
      "source": [
        "# Export the results to CSV files\n",
        "for year in list_years:\n",
        "  # Quote's length\n",
        "  df_year_len = dict_quote_len_year[year]\n",
        "  path = drive+\"/Distribution_plot/\"+str(year)+'_counts_quote_length.csv'\n",
        "  df_year_len.to_csv(path, header=True, index=True)\n",
        "  # Quote's compound sentiment\n",
        "  df_year_com = dict_quote_compound_year[year]\n",
        "  path = drive+\"/Distribution_plot/\"+str(year)+'_counts_quote_compound.csv'\n",
        "  df_year_com.to_csv(path, header=True, index=True)\n",
        "# Export for results across all years\n",
        "path = drive+\"/Distribution_plot/\"+'all_years_counts_quote_length.csv'\n",
        "quote_len_all_year.to_csv(path, header=True, index=True)\n",
        "path = drive+\"/Distribution_plot/\"+'_all_years_counts_quote_compound.csv'\n",
        "quote_compound_all_year.to_csv(path, header=True, index=True)"
      ],
      "metadata": {
        "id": "5Gl9FlFORLFq"
      },
      "execution_count": null,
      "outputs": [],
      "id": "5Gl9FlFORLFq"
    },
    {
      "cell_type": "markdown",
      "source": [
        "## D) Data preparation\n",
        "\n",
        "After extraction of the relevant outlets and preprocessing of some values, here were prepare the data for the analysis: such as information about the speakers, stats about quotes' length, polarity, speaker political leaning, news outlet leaning etc. "
      ],
      "metadata": {
        "id": "h37hadpUuMYH"
      },
      "id": "h37hadpUuMYH"
    },
    {
      "cell_type": "markdown",
      "source": [
        "### 0) Extract polarity and quote from Donald Trump (for the introduction)"
      ],
      "metadata": {
        "id": "rrzuPEUN2wEM"
      },
      "id": "rrzuPEUN2wEM"
    },
    {
      "cell_type": "code",
      "source": [
        "QID_Trump_1 = \"['Q22686']\"\n",
        "QID_Trump_2 = \"['Q22686', 'Q27947481']\"\n",
        "test_df = load_csv_to_df(2015, \"latimes.com\")\n",
        "Trump_count_1 = test_df.groupby(\"qids\").size().loc[QID_Trump_1]\n",
        "Trump_count_1"
      ],
      "metadata": {
        "colab": {
          "base_uri": "https://localhost:8080/"
        },
        "id": "wn-ljQCm3Tl8",
        "outputId": "7eddf2dd-85cc-4058-f710-33a06da4e76c"
      },
      "execution_count": null,
      "outputs": [
        {
          "output_type": "execute_result",
          "data": {
            "text/plain": [
              "numpy.int64"
            ]
          },
          "metadata": {},
          "execution_count": 57
        }
      ],
      "id": "wn-ljQCm3Tl8"
    },
    {
      "cell_type": "code",
      "source": [
        "QID_Trump_1 = \"['Q22686']\"\n",
        "QID_Trump_2 = \"['Q22686', 'Q27947481']\"\n",
        "list_QIDs_Trump = [QID_Trump_1, QID_Trump_2]\n",
        "\n",
        "# Intermediate variables \n",
        "quote_length_left = []\n",
        "quote_length_right = []\n",
        "compound_left = []\n",
        "compound_right = []\n",
        "occurence_left = []\n",
        "occurence_right = []\n",
        "\n",
        "for year in list_years:\n",
        "  # Analyse Trump in the left leaning medias\n",
        "  list_domains_left = political_US_outlets[political_US_outlets[\"Political_leaning\"]<0][\"domain\"].values\n",
        "  for outlet in list_domains_left:\n",
        "    # Load the dataframe\n",
        "    df_outlet = load_csv_to_df(year, outlet)\n",
        "    \n",
        "    if not df_outlet.empty:\n",
        "      # Groupy by the QIDS, and aggregate by mean on quote_length and compound value\n",
        "      qids_group_by = df_outlet.groupby(\"qids\").agg({\"quote_length\" : \"mean\", \"compound\" : \"mean\"}).reset_index()\n",
        "      # Get the list of qids present in the dataframe\n",
        "      QIDS = qids_group_by[\"qids\"].values\n",
        "      # Iterate on them and only do the computation if Trump is present, it avoid computing on empty series\n",
        "      for qid in QIDS:\n",
        "        if qid in list_QIDs_Trump:\n",
        "          # Compute the average quote length \n",
        "          quote_length_left.append(qids_group_by[qids_group_by['qids'] == qid][\"quote_length\"].values[0])\n",
        "          # Compute the average compound sentiment\n",
        "          compound_left.append((qids_group_by[qids_group_by['qids'] == qid][\"compound\"].values[0]))\n",
        "          # Get the occurence of the speaker\n",
        "          occurence_left.append(df_outlet.groupby(\"qids\").size().loc[qid])\n",
        "      \n",
        "  # Analyse Trump in the right leaning medias\n",
        "  list_domains_right = political_US_outlets[political_US_outlets[\"Political_leaning\"]>0][\"domain\"].values\n",
        "  for outlet in list_domains_right:\n",
        "    \n",
        "    # Load the dataframe\n",
        "    df_outlet = load_csv_to_df(year, outlet)\n",
        "    \n",
        "    if not df_outlet.empty:\n",
        "      # Groupy by the QIDS, and aggregate by mean on quote_length and compound value\n",
        "      qids_group_by = df_outlet.groupby(\"qids\").agg({\"quote_length\" : \"mean\", \"compound\" : \"mean\"}).reset_index()\n",
        "      # Get the list of qids present in the dataframe\n",
        "      QIDS = qids_group_by[\"qids\"].values\n",
        "      # Iterate on them and only do the computation if Trump is present, it avoid computing on empty series\n",
        "      for qid in QIDS:\n",
        "        if qid in list_QIDs_Trump:\n",
        "          quote_length_right.append(qids_group_by[qids_group_by['qids'] == qid][\"quote_length\"].values[0])\n",
        "          compound_right.append((qids_group_by[qids_group_by['qids'] == qid][\"compound\"].values[0]))\n",
        "          occurence_right.append(df_outlet.groupby(\"qids\").size().loc[qid])\n",
        "  print(\"Done for year: \"+str(year))"
      ],
      "metadata": {
        "colab": {
          "base_uri": "https://localhost:8080/"
        },
        "id": "9Me-5FUA4fKM",
        "outputId": "671f0448-6970-4e90-c57f-4ace87732006"
      },
      "execution_count": null,
      "outputs": [
        {
          "output_type": "stream",
          "name": "stdout",
          "text": [
            "Done for year: 2015\n",
            "Done for year: 2016\n",
            "Done for year: 2017\n",
            "Done for year: 2018\n",
            "Done for year: 2019\n",
            "Done for year: 2020\n"
          ]
        }
      ],
      "id": "9Me-5FUA4fKM"
    },
    {
      "cell_type": "code",
      "source": [
        "# Compute stats for quote length \n",
        "len_left = DescrStatsW(quote_length_left, weights=occurence_left, ddof=0)\n",
        "len_right = DescrStatsW(quote_length_right, weights=occurence_right, ddof=0)\n",
        "\n",
        "fig = go.Figure()\n",
        "fig.add_trace(go.Bar(\n",
        "    x=[\"Left leaning\"], y=[np.round(len_left.mean,2)],\n",
        "    error_y=dict(type='data', array=np.round([len_left.std_mean],4)),\n",
        "    width=0.4\n",
        "))\n",
        "\n",
        "fig.add_trace(go.Bar(\n",
        "    x=[\"Right leaning\"], y=[np.round(len_right.mean,2)],\n",
        "    error_y=dict(type='data', array=np.round([len_right.std_mean],4)),\n",
        "    width=0.4\n",
        "))\n",
        "\n",
        "fig.update_layout(\n",
        "    title=\"Trump quote length in left/right-leaning news outlet\",\n",
        "    title_x=0.5,\n",
        "    xaxis_title=\"News outlet political orientation\",\n",
        "    yaxis_title=\"Mean quote length\",\n",
        "    hoverlabel=dict(namelength=0)\n",
        "    )\n",
        "fig.update_layout(showlegend=False)\n",
        "fig.show()\n",
        "fig.write_html(\"0_1.html\")"
      ],
      "metadata": {
        "colab": {
          "base_uri": "https://localhost:8080/",
          "height": 542
        },
        "id": "ipK3RHANGkka",
        "outputId": "bb567854-2738-4e12-b9f5-3af68fe8a3cc"
      },
      "execution_count": null,
      "outputs": [
        {
          "output_type": "display_data",
          "data": {
            "text/html": [
              "<html>\n",
              "<head><meta charset=\"utf-8\" /></head>\n",
              "<body>\n",
              "    <div>            <script src=\"https://cdnjs.cloudflare.com/ajax/libs/mathjax/2.7.5/MathJax.js?config=TeX-AMS-MML_SVG\"></script><script type=\"text/javascript\">if (window.MathJax) {MathJax.Hub.Config({SVG: {font: \"STIX-Web\"}});}</script>                <script type=\"text/javascript\">window.PlotlyConfig = {MathJaxConfig: 'local'};</script>\n",
              "        <script src=\"https://cdn.plot.ly/plotly-2.6.3.min.js\"></script>                <div id=\"6c250914-2d88-4bfa-b031-ea52b1a48bc7\" class=\"plotly-graph-div\" style=\"height:525px; width:100%;\"></div>            <script type=\"text/javascript\">                                    window.PLOTLYENV=window.PLOTLYENV || {};                                    if (document.getElementById(\"6c250914-2d88-4bfa-b031-ea52b1a48bc7\")) {                    Plotly.newPlot(                        \"6c250914-2d88-4bfa-b031-ea52b1a48bc7\",                        [{\"error_y\":{\"array\":[0.0041],\"type\":\"data\"},\"width\":0.4,\"x\":[\"Left leaning\"],\"y\":[17.67],\"type\":\"bar\"},{\"error_y\":{\"array\":[0.0071],\"type\":\"data\"},\"width\":0.4,\"x\":[\"Right leaning\"],\"y\":[18.94],\"type\":\"bar\"}],                        {\"template\":{\"data\":{\"bar\":[{\"error_x\":{\"color\":\"#2a3f5f\"},\"error_y\":{\"color\":\"#2a3f5f\"},\"marker\":{\"line\":{\"color\":\"#E5ECF6\",\"width\":0.5},\"pattern\":{\"fillmode\":\"overlay\",\"size\":10,\"solidity\":0.2}},\"type\":\"bar\"}],\"barpolar\":[{\"marker\":{\"line\":{\"color\":\"#E5ECF6\",\"width\":0.5},\"pattern\":{\"fillmode\":\"overlay\",\"size\":10,\"solidity\":0.2}},\"type\":\"barpolar\"}],\"carpet\":[{\"aaxis\":{\"endlinecolor\":\"#2a3f5f\",\"gridcolor\":\"white\",\"linecolor\":\"white\",\"minorgridcolor\":\"white\",\"startlinecolor\":\"#2a3f5f\"},\"baxis\":{\"endlinecolor\":\"#2a3f5f\",\"gridcolor\":\"white\",\"linecolor\":\"white\",\"minorgridcolor\":\"white\",\"startlinecolor\":\"#2a3f5f\"},\"type\":\"carpet\"}],\"choropleth\":[{\"colorbar\":{\"outlinewidth\":0,\"ticks\":\"\"},\"type\":\"choropleth\"}],\"contour\":[{\"colorbar\":{\"outlinewidth\":0,\"ticks\":\"\"},\"colorscale\":[[0.0,\"#0d0887\"],[0.1111111111111111,\"#46039f\"],[0.2222222222222222,\"#7201a8\"],[0.3333333333333333,\"#9c179e\"],[0.4444444444444444,\"#bd3786\"],[0.5555555555555556,\"#d8576b\"],[0.6666666666666666,\"#ed7953\"],[0.7777777777777778,\"#fb9f3a\"],[0.8888888888888888,\"#fdca26\"],[1.0,\"#f0f921\"]],\"type\":\"contour\"}],\"contourcarpet\":[{\"colorbar\":{\"outlinewidth\":0,\"ticks\":\"\"},\"type\":\"contourcarpet\"}],\"heatmap\":[{\"colorbar\":{\"outlinewidth\":0,\"ticks\":\"\"},\"colorscale\":[[0.0,\"#0d0887\"],[0.1111111111111111,\"#46039f\"],[0.2222222222222222,\"#7201a8\"],[0.3333333333333333,\"#9c179e\"],[0.4444444444444444,\"#bd3786\"],[0.5555555555555556,\"#d8576b\"],[0.6666666666666666,\"#ed7953\"],[0.7777777777777778,\"#fb9f3a\"],[0.8888888888888888,\"#fdca26\"],[1.0,\"#f0f921\"]],\"type\":\"heatmap\"}],\"heatmapgl\":[{\"colorbar\":{\"outlinewidth\":0,\"ticks\":\"\"},\"colorscale\":[[0.0,\"#0d0887\"],[0.1111111111111111,\"#46039f\"],[0.2222222222222222,\"#7201a8\"],[0.3333333333333333,\"#9c179e\"],[0.4444444444444444,\"#bd3786\"],[0.5555555555555556,\"#d8576b\"],[0.6666666666666666,\"#ed7953\"],[0.7777777777777778,\"#fb9f3a\"],[0.8888888888888888,\"#fdca26\"],[1.0,\"#f0f921\"]],\"type\":\"heatmapgl\"}],\"histogram\":[{\"marker\":{\"pattern\":{\"fillmode\":\"overlay\",\"size\":10,\"solidity\":0.2}},\"type\":\"histogram\"}],\"histogram2d\":[{\"colorbar\":{\"outlinewidth\":0,\"ticks\":\"\"},\"colorscale\":[[0.0,\"#0d0887\"],[0.1111111111111111,\"#46039f\"],[0.2222222222222222,\"#7201a8\"],[0.3333333333333333,\"#9c179e\"],[0.4444444444444444,\"#bd3786\"],[0.5555555555555556,\"#d8576b\"],[0.6666666666666666,\"#ed7953\"],[0.7777777777777778,\"#fb9f3a\"],[0.8888888888888888,\"#fdca26\"],[1.0,\"#f0f921\"]],\"type\":\"histogram2d\"}],\"histogram2dcontour\":[{\"colorbar\":{\"outlinewidth\":0,\"ticks\":\"\"},\"colorscale\":[[0.0,\"#0d0887\"],[0.1111111111111111,\"#46039f\"],[0.2222222222222222,\"#7201a8\"],[0.3333333333333333,\"#9c179e\"],[0.4444444444444444,\"#bd3786\"],[0.5555555555555556,\"#d8576b\"],[0.6666666666666666,\"#ed7953\"],[0.7777777777777778,\"#fb9f3a\"],[0.8888888888888888,\"#fdca26\"],[1.0,\"#f0f921\"]],\"type\":\"histogram2dcontour\"}],\"mesh3d\":[{\"colorbar\":{\"outlinewidth\":0,\"ticks\":\"\"},\"type\":\"mesh3d\"}],\"parcoords\":[{\"line\":{\"colorbar\":{\"outlinewidth\":0,\"ticks\":\"\"}},\"type\":\"parcoords\"}],\"pie\":[{\"automargin\":true,\"type\":\"pie\"}],\"scatter\":[{\"marker\":{\"colorbar\":{\"outlinewidth\":0,\"ticks\":\"\"}},\"type\":\"scatter\"}],\"scatter3d\":[{\"line\":{\"colorbar\":{\"outlinewidth\":0,\"ticks\":\"\"}},\"marker\":{\"colorbar\":{\"outlinewidth\":0,\"ticks\":\"\"}},\"type\":\"scatter3d\"}],\"scattercarpet\":[{\"marker\":{\"colorbar\":{\"outlinewidth\":0,\"ticks\":\"\"}},\"type\":\"scattercarpet\"}],\"scattergeo\":[{\"marker\":{\"colorbar\":{\"outlinewidth\":0,\"ticks\":\"\"}},\"type\":\"scattergeo\"}],\"scattergl\":[{\"marker\":{\"colorbar\":{\"outlinewidth\":0,\"ticks\":\"\"}},\"type\":\"scattergl\"}],\"scattermapbox\":[{\"marker\":{\"colorbar\":{\"outlinewidth\":0,\"ticks\":\"\"}},\"type\":\"scattermapbox\"}],\"scatterpolar\":[{\"marker\":{\"colorbar\":{\"outlinewidth\":0,\"ticks\":\"\"}},\"type\":\"scatterpolar\"}],\"scatterpolargl\":[{\"marker\":{\"colorbar\":{\"outlinewidth\":0,\"ticks\":\"\"}},\"type\":\"scatterpolargl\"}],\"scatterternary\":[{\"marker\":{\"colorbar\":{\"outlinewidth\":0,\"ticks\":\"\"}},\"type\":\"scatterternary\"}],\"surface\":[{\"colorbar\":{\"outlinewidth\":0,\"ticks\":\"\"},\"colorscale\":[[0.0,\"#0d0887\"],[0.1111111111111111,\"#46039f\"],[0.2222222222222222,\"#7201a8\"],[0.3333333333333333,\"#9c179e\"],[0.4444444444444444,\"#bd3786\"],[0.5555555555555556,\"#d8576b\"],[0.6666666666666666,\"#ed7953\"],[0.7777777777777778,\"#fb9f3a\"],[0.8888888888888888,\"#fdca26\"],[1.0,\"#f0f921\"]],\"type\":\"surface\"}],\"table\":[{\"cells\":{\"fill\":{\"color\":\"#EBF0F8\"},\"line\":{\"color\":\"white\"}},\"header\":{\"fill\":{\"color\":\"#C8D4E3\"},\"line\":{\"color\":\"white\"}},\"type\":\"table\"}]},\"layout\":{\"annotationdefaults\":{\"arrowcolor\":\"#2a3f5f\",\"arrowhead\":0,\"arrowwidth\":1},\"autotypenumbers\":\"strict\",\"coloraxis\":{\"colorbar\":{\"outlinewidth\":0,\"ticks\":\"\"}},\"colorscale\":{\"diverging\":[[0,\"#8e0152\"],[0.1,\"#c51b7d\"],[0.2,\"#de77ae\"],[0.3,\"#f1b6da\"],[0.4,\"#fde0ef\"],[0.5,\"#f7f7f7\"],[0.6,\"#e6f5d0\"],[0.7,\"#b8e186\"],[0.8,\"#7fbc41\"],[0.9,\"#4d9221\"],[1,\"#276419\"]],\"sequential\":[[0.0,\"#0d0887\"],[0.1111111111111111,\"#46039f\"],[0.2222222222222222,\"#7201a8\"],[0.3333333333333333,\"#9c179e\"],[0.4444444444444444,\"#bd3786\"],[0.5555555555555556,\"#d8576b\"],[0.6666666666666666,\"#ed7953\"],[0.7777777777777778,\"#fb9f3a\"],[0.8888888888888888,\"#fdca26\"],[1.0,\"#f0f921\"]],\"sequentialminus\":[[0.0,\"#0d0887\"],[0.1111111111111111,\"#46039f\"],[0.2222222222222222,\"#7201a8\"],[0.3333333333333333,\"#9c179e\"],[0.4444444444444444,\"#bd3786\"],[0.5555555555555556,\"#d8576b\"],[0.6666666666666666,\"#ed7953\"],[0.7777777777777778,\"#fb9f3a\"],[0.8888888888888888,\"#fdca26\"],[1.0,\"#f0f921\"]]},\"colorway\":[\"#636efa\",\"#EF553B\",\"#00cc96\",\"#ab63fa\",\"#FFA15A\",\"#19d3f3\",\"#FF6692\",\"#B6E880\",\"#FF97FF\",\"#FECB52\"],\"font\":{\"color\":\"#2a3f5f\"},\"geo\":{\"bgcolor\":\"white\",\"lakecolor\":\"white\",\"landcolor\":\"#E5ECF6\",\"showlakes\":true,\"showland\":true,\"subunitcolor\":\"white\"},\"hoverlabel\":{\"align\":\"left\"},\"hovermode\":\"closest\",\"mapbox\":{\"style\":\"light\"},\"paper_bgcolor\":\"white\",\"plot_bgcolor\":\"#E5ECF6\",\"polar\":{\"angularaxis\":{\"gridcolor\":\"white\",\"linecolor\":\"white\",\"ticks\":\"\"},\"bgcolor\":\"#E5ECF6\",\"radialaxis\":{\"gridcolor\":\"white\",\"linecolor\":\"white\",\"ticks\":\"\"}},\"scene\":{\"xaxis\":{\"backgroundcolor\":\"#E5ECF6\",\"gridcolor\":\"white\",\"gridwidth\":2,\"linecolor\":\"white\",\"showbackground\":true,\"ticks\":\"\",\"zerolinecolor\":\"white\"},\"yaxis\":{\"backgroundcolor\":\"#E5ECF6\",\"gridcolor\":\"white\",\"gridwidth\":2,\"linecolor\":\"white\",\"showbackground\":true,\"ticks\":\"\",\"zerolinecolor\":\"white\"},\"zaxis\":{\"backgroundcolor\":\"#E5ECF6\",\"gridcolor\":\"white\",\"gridwidth\":2,\"linecolor\":\"white\",\"showbackground\":true,\"ticks\":\"\",\"zerolinecolor\":\"white\"}},\"shapedefaults\":{\"line\":{\"color\":\"#2a3f5f\"}},\"ternary\":{\"aaxis\":{\"gridcolor\":\"white\",\"linecolor\":\"white\",\"ticks\":\"\"},\"baxis\":{\"gridcolor\":\"white\",\"linecolor\":\"white\",\"ticks\":\"\"},\"bgcolor\":\"#E5ECF6\",\"caxis\":{\"gridcolor\":\"white\",\"linecolor\":\"white\",\"ticks\":\"\"}},\"title\":{\"x\":0.05},\"xaxis\":{\"automargin\":true,\"gridcolor\":\"white\",\"linecolor\":\"white\",\"ticks\":\"\",\"title\":{\"standoff\":15},\"zerolinecolor\":\"white\",\"zerolinewidth\":2},\"yaxis\":{\"automargin\":true,\"gridcolor\":\"white\",\"linecolor\":\"white\",\"ticks\":\"\",\"title\":{\"standoff\":15},\"zerolinecolor\":\"white\",\"zerolinewidth\":2}}},\"title\":{\"text\":\"Trump quote length in left/right-leaning news outlet\",\"x\":0.5},\"hoverlabel\":{\"namelength\":0},\"xaxis\":{\"title\":{\"text\":\"News outlet political orientation\"}},\"yaxis\":{\"title\":{\"text\":\"Mean quote length\"}},\"showlegend\":false},                        {\"responsive\": true}                    ).then(function(){\n",
              "                            \n",
              "var gd = document.getElementById('6c250914-2d88-4bfa-b031-ea52b1a48bc7');\n",
              "var x = new MutationObserver(function (mutations, observer) {{\n",
              "        var display = window.getComputedStyle(gd).display;\n",
              "        if (!display || display === 'none') {{\n",
              "            console.log([gd, 'removed!']);\n",
              "            Plotly.purge(gd);\n",
              "            observer.disconnect();\n",
              "        }}\n",
              "}});\n",
              "\n",
              "// Listen for the removal of the full notebook cells\n",
              "var notebookContainer = gd.closest('#notebook-container');\n",
              "if (notebookContainer) {{\n",
              "    x.observe(notebookContainer, {childList: true});\n",
              "}}\n",
              "\n",
              "// Listen for the clearing of the current output cell\n",
              "var outputEl = gd.closest('.output');\n",
              "if (outputEl) {{\n",
              "    x.observe(outputEl, {childList: true});\n",
              "}}\n",
              "\n",
              "                        })                };                            </script>        </div>\n",
              "</body>\n",
              "</html>"
            ]
          },
          "metadata": {}
        }
      ],
      "id": "ipK3RHANGkka"
    },
    {
      "cell_type": "code",
      "source": [
        "# Compute stats for compound sentiment\n",
        "com_left = DescrStatsW(compound_left, weights=occurence_left, ddof=0)\n",
        "com_right = DescrStatsW(compound_right, weights=occurence_right, ddof=0)\n",
        "\n",
        "fig = go.Figure()\n",
        "fig.add_trace(go.Bar(\n",
        "    x=[\"Left leaning\"], y=[np.round(com_left.mean,2)],\n",
        "    error_y=dict(type='data', array=np.round([com_left.std_mean],4)),\n",
        "    width=0.4\n",
        "))\n",
        "\n",
        "fig.add_trace(go.Bar(\n",
        "    x=[\"Right leaning\"], y=[np.round(com_right.mean,2)],\n",
        "    error_y=dict(type='data', array=np.round([com_right.std_mean],4)),\n",
        "    width=0.4\n",
        "))\n",
        "\n",
        "fig.update_layout(\n",
        "    title=\"Trump quote's positivity in left/right-leaning news outlet\",\n",
        "    title_x=0.5,\n",
        "    xaxis_title=\"News outlet political orientation\",\n",
        "    yaxis_title=\"Positivity\",\n",
        "    hoverlabel=dict(namelength=0)\n",
        "    )\n",
        "#fig.update_layout(showlegend=False, yaxis= dict(visible = False))\n",
        "fig.update_layout(showlegend=False)\n",
        "fig.show()\n",
        "fig.write_html(\"0_2.html\")"
      ],
      "metadata": {
        "colab": {
          "base_uri": "https://localhost:8080/",
          "height": 542
        },
        "id": "wSyTtj-3Rt7S",
        "outputId": "ccb98b84-4f01-4a74-b0a4-1cf754fbf8ec"
      },
      "execution_count": null,
      "outputs": [
        {
          "output_type": "display_data",
          "data": {
            "text/html": [
              "<html>\n",
              "<head><meta charset=\"utf-8\" /></head>\n",
              "<body>\n",
              "    <div>            <script src=\"https://cdnjs.cloudflare.com/ajax/libs/mathjax/2.7.5/MathJax.js?config=TeX-AMS-MML_SVG\"></script><script type=\"text/javascript\">if (window.MathJax) {MathJax.Hub.Config({SVG: {font: \"STIX-Web\"}});}</script>                <script type=\"text/javascript\">window.PlotlyConfig = {MathJaxConfig: 'local'};</script>\n",
              "        <script src=\"https://cdn.plot.ly/plotly-2.6.3.min.js\"></script>                <div id=\"4ecb2fe6-331b-497d-a4dc-4a0cff89b023\" class=\"plotly-graph-div\" style=\"height:525px; width:100%;\"></div>            <script type=\"text/javascript\">                                    window.PLOTLYENV=window.PLOTLYENV || {};                                    if (document.getElementById(\"4ecb2fe6-331b-497d-a4dc-4a0cff89b023\")) {                    Plotly.newPlot(                        \"4ecb2fe6-331b-497d-a4dc-4a0cff89b023\",                        [{\"error_y\":{\"array\":[0.0],\"type\":\"data\"},\"width\":0.4,\"x\":[\"Left leaning\"],\"y\":[0.05],\"type\":\"bar\"},{\"error_y\":{\"array\":[0.0001],\"type\":\"data\"},\"width\":0.4,\"x\":[\"Right leaning\"],\"y\":[0.06],\"type\":\"bar\"}],                        {\"template\":{\"data\":{\"bar\":[{\"error_x\":{\"color\":\"#2a3f5f\"},\"error_y\":{\"color\":\"#2a3f5f\"},\"marker\":{\"line\":{\"color\":\"#E5ECF6\",\"width\":0.5},\"pattern\":{\"fillmode\":\"overlay\",\"size\":10,\"solidity\":0.2}},\"type\":\"bar\"}],\"barpolar\":[{\"marker\":{\"line\":{\"color\":\"#E5ECF6\",\"width\":0.5},\"pattern\":{\"fillmode\":\"overlay\",\"size\":10,\"solidity\":0.2}},\"type\":\"barpolar\"}],\"carpet\":[{\"aaxis\":{\"endlinecolor\":\"#2a3f5f\",\"gridcolor\":\"white\",\"linecolor\":\"white\",\"minorgridcolor\":\"white\",\"startlinecolor\":\"#2a3f5f\"},\"baxis\":{\"endlinecolor\":\"#2a3f5f\",\"gridcolor\":\"white\",\"linecolor\":\"white\",\"minorgridcolor\":\"white\",\"startlinecolor\":\"#2a3f5f\"},\"type\":\"carpet\"}],\"choropleth\":[{\"colorbar\":{\"outlinewidth\":0,\"ticks\":\"\"},\"type\":\"choropleth\"}],\"contour\":[{\"colorbar\":{\"outlinewidth\":0,\"ticks\":\"\"},\"colorscale\":[[0.0,\"#0d0887\"],[0.1111111111111111,\"#46039f\"],[0.2222222222222222,\"#7201a8\"],[0.3333333333333333,\"#9c179e\"],[0.4444444444444444,\"#bd3786\"],[0.5555555555555556,\"#d8576b\"],[0.6666666666666666,\"#ed7953\"],[0.7777777777777778,\"#fb9f3a\"],[0.8888888888888888,\"#fdca26\"],[1.0,\"#f0f921\"]],\"type\":\"contour\"}],\"contourcarpet\":[{\"colorbar\":{\"outlinewidth\":0,\"ticks\":\"\"},\"type\":\"contourcarpet\"}],\"heatmap\":[{\"colorbar\":{\"outlinewidth\":0,\"ticks\":\"\"},\"colorscale\":[[0.0,\"#0d0887\"],[0.1111111111111111,\"#46039f\"],[0.2222222222222222,\"#7201a8\"],[0.3333333333333333,\"#9c179e\"],[0.4444444444444444,\"#bd3786\"],[0.5555555555555556,\"#d8576b\"],[0.6666666666666666,\"#ed7953\"],[0.7777777777777778,\"#fb9f3a\"],[0.8888888888888888,\"#fdca26\"],[1.0,\"#f0f921\"]],\"type\":\"heatmap\"}],\"heatmapgl\":[{\"colorbar\":{\"outlinewidth\":0,\"ticks\":\"\"},\"colorscale\":[[0.0,\"#0d0887\"],[0.1111111111111111,\"#46039f\"],[0.2222222222222222,\"#7201a8\"],[0.3333333333333333,\"#9c179e\"],[0.4444444444444444,\"#bd3786\"],[0.5555555555555556,\"#d8576b\"],[0.6666666666666666,\"#ed7953\"],[0.7777777777777778,\"#fb9f3a\"],[0.8888888888888888,\"#fdca26\"],[1.0,\"#f0f921\"]],\"type\":\"heatmapgl\"}],\"histogram\":[{\"marker\":{\"pattern\":{\"fillmode\":\"overlay\",\"size\":10,\"solidity\":0.2}},\"type\":\"histogram\"}],\"histogram2d\":[{\"colorbar\":{\"outlinewidth\":0,\"ticks\":\"\"},\"colorscale\":[[0.0,\"#0d0887\"],[0.1111111111111111,\"#46039f\"],[0.2222222222222222,\"#7201a8\"],[0.3333333333333333,\"#9c179e\"],[0.4444444444444444,\"#bd3786\"],[0.5555555555555556,\"#d8576b\"],[0.6666666666666666,\"#ed7953\"],[0.7777777777777778,\"#fb9f3a\"],[0.8888888888888888,\"#fdca26\"],[1.0,\"#f0f921\"]],\"type\":\"histogram2d\"}],\"histogram2dcontour\":[{\"colorbar\":{\"outlinewidth\":0,\"ticks\":\"\"},\"colorscale\":[[0.0,\"#0d0887\"],[0.1111111111111111,\"#46039f\"],[0.2222222222222222,\"#7201a8\"],[0.3333333333333333,\"#9c179e\"],[0.4444444444444444,\"#bd3786\"],[0.5555555555555556,\"#d8576b\"],[0.6666666666666666,\"#ed7953\"],[0.7777777777777778,\"#fb9f3a\"],[0.8888888888888888,\"#fdca26\"],[1.0,\"#f0f921\"]],\"type\":\"histogram2dcontour\"}],\"mesh3d\":[{\"colorbar\":{\"outlinewidth\":0,\"ticks\":\"\"},\"type\":\"mesh3d\"}],\"parcoords\":[{\"line\":{\"colorbar\":{\"outlinewidth\":0,\"ticks\":\"\"}},\"type\":\"parcoords\"}],\"pie\":[{\"automargin\":true,\"type\":\"pie\"}],\"scatter\":[{\"marker\":{\"colorbar\":{\"outlinewidth\":0,\"ticks\":\"\"}},\"type\":\"scatter\"}],\"scatter3d\":[{\"line\":{\"colorbar\":{\"outlinewidth\":0,\"ticks\":\"\"}},\"marker\":{\"colorbar\":{\"outlinewidth\":0,\"ticks\":\"\"}},\"type\":\"scatter3d\"}],\"scattercarpet\":[{\"marker\":{\"colorbar\":{\"outlinewidth\":0,\"ticks\":\"\"}},\"type\":\"scattercarpet\"}],\"scattergeo\":[{\"marker\":{\"colorbar\":{\"outlinewidth\":0,\"ticks\":\"\"}},\"type\":\"scattergeo\"}],\"scattergl\":[{\"marker\":{\"colorbar\":{\"outlinewidth\":0,\"ticks\":\"\"}},\"type\":\"scattergl\"}],\"scattermapbox\":[{\"marker\":{\"colorbar\":{\"outlinewidth\":0,\"ticks\":\"\"}},\"type\":\"scattermapbox\"}],\"scatterpolar\":[{\"marker\":{\"colorbar\":{\"outlinewidth\":0,\"ticks\":\"\"}},\"type\":\"scatterpolar\"}],\"scatterpolargl\":[{\"marker\":{\"colorbar\":{\"outlinewidth\":0,\"ticks\":\"\"}},\"type\":\"scatterpolargl\"}],\"scatterternary\":[{\"marker\":{\"colorbar\":{\"outlinewidth\":0,\"ticks\":\"\"}},\"type\":\"scatterternary\"}],\"surface\":[{\"colorbar\":{\"outlinewidth\":0,\"ticks\":\"\"},\"colorscale\":[[0.0,\"#0d0887\"],[0.1111111111111111,\"#46039f\"],[0.2222222222222222,\"#7201a8\"],[0.3333333333333333,\"#9c179e\"],[0.4444444444444444,\"#bd3786\"],[0.5555555555555556,\"#d8576b\"],[0.6666666666666666,\"#ed7953\"],[0.7777777777777778,\"#fb9f3a\"],[0.8888888888888888,\"#fdca26\"],[1.0,\"#f0f921\"]],\"type\":\"surface\"}],\"table\":[{\"cells\":{\"fill\":{\"color\":\"#EBF0F8\"},\"line\":{\"color\":\"white\"}},\"header\":{\"fill\":{\"color\":\"#C8D4E3\"},\"line\":{\"color\":\"white\"}},\"type\":\"table\"}]},\"layout\":{\"annotationdefaults\":{\"arrowcolor\":\"#2a3f5f\",\"arrowhead\":0,\"arrowwidth\":1},\"autotypenumbers\":\"strict\",\"coloraxis\":{\"colorbar\":{\"outlinewidth\":0,\"ticks\":\"\"}},\"colorscale\":{\"diverging\":[[0,\"#8e0152\"],[0.1,\"#c51b7d\"],[0.2,\"#de77ae\"],[0.3,\"#f1b6da\"],[0.4,\"#fde0ef\"],[0.5,\"#f7f7f7\"],[0.6,\"#e6f5d0\"],[0.7,\"#b8e186\"],[0.8,\"#7fbc41\"],[0.9,\"#4d9221\"],[1,\"#276419\"]],\"sequential\":[[0.0,\"#0d0887\"],[0.1111111111111111,\"#46039f\"],[0.2222222222222222,\"#7201a8\"],[0.3333333333333333,\"#9c179e\"],[0.4444444444444444,\"#bd3786\"],[0.5555555555555556,\"#d8576b\"],[0.6666666666666666,\"#ed7953\"],[0.7777777777777778,\"#fb9f3a\"],[0.8888888888888888,\"#fdca26\"],[1.0,\"#f0f921\"]],\"sequentialminus\":[[0.0,\"#0d0887\"],[0.1111111111111111,\"#46039f\"],[0.2222222222222222,\"#7201a8\"],[0.3333333333333333,\"#9c179e\"],[0.4444444444444444,\"#bd3786\"],[0.5555555555555556,\"#d8576b\"],[0.6666666666666666,\"#ed7953\"],[0.7777777777777778,\"#fb9f3a\"],[0.8888888888888888,\"#fdca26\"],[1.0,\"#f0f921\"]]},\"colorway\":[\"#636efa\",\"#EF553B\",\"#00cc96\",\"#ab63fa\",\"#FFA15A\",\"#19d3f3\",\"#FF6692\",\"#B6E880\",\"#FF97FF\",\"#FECB52\"],\"font\":{\"color\":\"#2a3f5f\"},\"geo\":{\"bgcolor\":\"white\",\"lakecolor\":\"white\",\"landcolor\":\"#E5ECF6\",\"showlakes\":true,\"showland\":true,\"subunitcolor\":\"white\"},\"hoverlabel\":{\"align\":\"left\"},\"hovermode\":\"closest\",\"mapbox\":{\"style\":\"light\"},\"paper_bgcolor\":\"white\",\"plot_bgcolor\":\"#E5ECF6\",\"polar\":{\"angularaxis\":{\"gridcolor\":\"white\",\"linecolor\":\"white\",\"ticks\":\"\"},\"bgcolor\":\"#E5ECF6\",\"radialaxis\":{\"gridcolor\":\"white\",\"linecolor\":\"white\",\"ticks\":\"\"}},\"scene\":{\"xaxis\":{\"backgroundcolor\":\"#E5ECF6\",\"gridcolor\":\"white\",\"gridwidth\":2,\"linecolor\":\"white\",\"showbackground\":true,\"ticks\":\"\",\"zerolinecolor\":\"white\"},\"yaxis\":{\"backgroundcolor\":\"#E5ECF6\",\"gridcolor\":\"white\",\"gridwidth\":2,\"linecolor\":\"white\",\"showbackground\":true,\"ticks\":\"\",\"zerolinecolor\":\"white\"},\"zaxis\":{\"backgroundcolor\":\"#E5ECF6\",\"gridcolor\":\"white\",\"gridwidth\":2,\"linecolor\":\"white\",\"showbackground\":true,\"ticks\":\"\",\"zerolinecolor\":\"white\"}},\"shapedefaults\":{\"line\":{\"color\":\"#2a3f5f\"}},\"ternary\":{\"aaxis\":{\"gridcolor\":\"white\",\"linecolor\":\"white\",\"ticks\":\"\"},\"baxis\":{\"gridcolor\":\"white\",\"linecolor\":\"white\",\"ticks\":\"\"},\"bgcolor\":\"#E5ECF6\",\"caxis\":{\"gridcolor\":\"white\",\"linecolor\":\"white\",\"ticks\":\"\"}},\"title\":{\"x\":0.05},\"xaxis\":{\"automargin\":true,\"gridcolor\":\"white\",\"linecolor\":\"white\",\"ticks\":\"\",\"title\":{\"standoff\":15},\"zerolinecolor\":\"white\",\"zerolinewidth\":2},\"yaxis\":{\"automargin\":true,\"gridcolor\":\"white\",\"linecolor\":\"white\",\"ticks\":\"\",\"title\":{\"standoff\":15},\"zerolinecolor\":\"white\",\"zerolinewidth\":2}}},\"title\":{\"text\":\"Trump quote's positivity in left/right-leaning news outlet\",\"x\":0.5},\"hoverlabel\":{\"namelength\":0},\"xaxis\":{\"title\":{\"text\":\"News outlet political orientation\"}},\"yaxis\":{\"title\":{\"text\":\"Positivity\"}},\"showlegend\":false},                        {\"responsive\": true}                    ).then(function(){\n",
              "                            \n",
              "var gd = document.getElementById('4ecb2fe6-331b-497d-a4dc-4a0cff89b023');\n",
              "var x = new MutationObserver(function (mutations, observer) {{\n",
              "        var display = window.getComputedStyle(gd).display;\n",
              "        if (!display || display === 'none') {{\n",
              "            console.log([gd, 'removed!']);\n",
              "            Plotly.purge(gd);\n",
              "            observer.disconnect();\n",
              "        }}\n",
              "}});\n",
              "\n",
              "// Listen for the removal of the full notebook cells\n",
              "var notebookContainer = gd.closest('#notebook-container');\n",
              "if (notebookContainer) {{\n",
              "    x.observe(notebookContainer, {childList: true});\n",
              "}}\n",
              "\n",
              "// Listen for the clearing of the current output cell\n",
              "var outputEl = gd.closest('.output');\n",
              "if (outputEl) {{\n",
              "    x.observe(outputEl, {childList: true});\n",
              "}}\n",
              "\n",
              "                        })                };                            </script>        </div>\n",
              "</body>\n",
              "</html>"
            ]
          },
          "metadata": {}
        }
      ],
      "id": "wSyTtj-3Rt7S"
    },
    {
      "cell_type": "markdown",
      "source": [
        "### 1) Retrieve the most cited Democrat and Republican speakers\n",
        "\n",
        "The first cell is simply a summary of the results we got in section C, here we load them again, in order to avoid running again section C. "
      ],
      "metadata": {
        "id": "dw-YX3g1aohK"
      },
      "id": "dw-YX3g1aohK"
    },
    {
      "cell_type": "code",
      "source": [
        "# Load the domains' name\n",
        "selected_domains_file = drive + \"selected_domains.csv\"\n",
        "all_selected_doms = pd.read_csv(selected_domains_file)\n",
        "# The mask for selecting the correct outlets\n",
        "mask = (all_selected_doms[\"Nationality\"]=='US') & (all_selected_doms[\"Content_creator\"]>0) & (all_selected_doms[\"Political_leaning\"].notnull())\n",
        "political_US_outlets = all_selected_doms[mask]\n",
        "\n",
        "# Define the years \n",
        "list_years = [2015, 2016, 2017, 2018, 2019, 2020]\n",
        "# Define the domain names\n",
        "list_domains = political_US_outlets[\"domain\"].values\n",
        "\n",
        "# Load cumulative speakers counts per year \n",
        "dict_cumulative_counts = {}\n",
        "for year in list_years:\n",
        "  path = drive+\"/Domains_count/\"+str(year)+'_dict_counts_speakers.txt'\n",
        "  dict_cumulative_counts[year] = pd.read_csv(path, header = None, index_col = 0, squeeze = True)"
      ],
      "metadata": {
        "id": "5LsFQibzRGov"
      },
      "execution_count": null,
      "outputs": [],
      "id": "5LsFQibzRGov"
    },
    {
      "cell_type": "markdown",
      "source": [
        "#### Results across all years per **sets** of QIDS "
      ],
      "metadata": {
        "id": "_jvhUtZ3R1AB"
      },
      "id": "_jvhUtZ3R1AB"
    },
    {
      "cell_type": "code",
      "source": [
        "# Count the most cited speakers across all years and news outlet  \n",
        "cumulative_count_all = pd.Series([], dtype=float)\n",
        "for year in list_years:\n",
        "  year_series = dict_cumulative_counts[year]\n",
        "  cumulative_count_all = cumulative_count_all.add(year_series, fill_value=0)\n",
        "cumulative_count_all.index.name = 'idx'"
      ],
      "metadata": {
        "id": "FGxwnoBQR9dG"
      },
      "id": "FGxwnoBQR9dG",
      "execution_count": null,
      "outputs": []
    },
    {
      "cell_type": "code",
      "source": [
        "max_speakers = 75\n",
        "# Gather the top 75 speakers and reset the index as column \n",
        "top_speakers = cumulative_count_all.sort_values(ascending=False).head(max_speakers).reset_index()\n",
        "# Remove the first element because it corresponds to speaker having no wikidata page\n",
        "top_speakers.drop(index=top_speakers.index[0], axis=0, inplace=True)\n",
        "# Rename columns \n",
        "top_speakers.columns = ['QIDS', 'count']\n",
        "# Reconvert the list (that are strings) to actual list using ast library\n",
        "top_speakers[\"QIDS\"] = top_speakers[\"QIDS\"].apply(lambda x: (literal_eval(x)))"
      ],
      "metadata": {
        "id": "lqbxSp_iTLA9"
      },
      "id": "lqbxSp_iTLA9",
      "execution_count": null,
      "outputs": []
    },
    {
      "cell_type": "markdown",
      "source": [
        "Here we had to decide how to solve the problem of speakers having more than one QID. We chose to use the first QID provided to retrieve the name and political party. As we only take a limited amount of speakers, we will manually assess whether the speaker has been assigned to the correct political party. "
      ],
      "metadata": {
        "id": "z-mewR5xlbOY"
      },
      "id": "z-mewR5xlbOY"
    },
    {
      "cell_type": "code",
      "source": [
        "# Create a column named \"name\"\n",
        "# Retrieve the name using the wikidata function described above \n",
        "top_speakers[\"name\"] = top_speakers.apply(lambda x: retrieve_wikidata_properties(x.QIDS[0]).iloc[0].label, axis=1)\n",
        "# Same idea but for the political party, we use the first QID to retrieve the party, not a correct heuristic though \n",
        "top_speakers[\"party\"] = top_speakers.apply(lambda x: human_readable_properties(retrieve_wikidata_properties(x.QIDS[0]), 'party'), axis=1)"
      ],
      "metadata": {
        "colab": {
          "base_uri": "https://localhost:8080/"
        },
        "id": "nAuyTrxRTVXL",
        "outputId": "068142ca-dfaa-4c70-c0ae-2c2286885755"
      },
      "id": "nAuyTrxRTVXL",
      "execution_count": null,
      "outputs": [
        {
          "output_type": "stream",
          "name": "stderr",
          "text": [
            "/usr/local/lib/python3.7/dist-packages/ipykernel_launcher.py:19: UserWarning: There is no value for this property!\n"
          ]
        }
      ]
    },
    {
      "cell_type": "code",
      "source": [
        "top_speakers.head()"
      ],
      "metadata": {
        "colab": {
          "base_uri": "https://localhost:8080/",
          "height": 206
        },
        "id": "KzpLRPoHodjn",
        "outputId": "65639adc-4f28-4231-a5b4-7450add39cac"
      },
      "id": "KzpLRPoHodjn",
      "execution_count": null,
      "outputs": [
        {
          "output_type": "execute_result",
          "data": {
            "text/html": [
              "<div>\n",
              "<style scoped>\n",
              "    .dataframe tbody tr th:only-of-type {\n",
              "        vertical-align: middle;\n",
              "    }\n",
              "\n",
              "    .dataframe tbody tr th {\n",
              "        vertical-align: top;\n",
              "    }\n",
              "\n",
              "    .dataframe thead th {\n",
              "        text-align: right;\n",
              "    }\n",
              "</style>\n",
              "<table border=\"1\" class=\"dataframe\">\n",
              "  <thead>\n",
              "    <tr style=\"text-align: right;\">\n",
              "      <th></th>\n",
              "      <th>QIDS</th>\n",
              "      <th>count</th>\n",
              "      <th>name</th>\n",
              "      <th>party</th>\n",
              "    </tr>\n",
              "  </thead>\n",
              "  <tbody>\n",
              "    <tr>\n",
              "      <th>1</th>\n",
              "      <td>[Q22686]</td>\n",
              "      <td>285454.0</td>\n",
              "      <td>Donald Trump</td>\n",
              "      <td>[Republican Party, Independence Party of Ameri...</td>\n",
              "    </tr>\n",
              "    <tr>\n",
              "      <th>2</th>\n",
              "      <td>[Q22686, Q27947481]</td>\n",
              "      <td>89949.0</td>\n",
              "      <td>Donald Trump</td>\n",
              "      <td>[Republican Party, Independence Party of Ameri...</td>\n",
              "    </tr>\n",
              "    <tr>\n",
              "      <th>3</th>\n",
              "      <td>[Q76]</td>\n",
              "      <td>53341.0</td>\n",
              "      <td>Barack Obama</td>\n",
              "      <td>[Democratic Party]</td>\n",
              "    </tr>\n",
              "    <tr>\n",
              "      <th>4</th>\n",
              "      <td>[Q6294]</td>\n",
              "      <td>38951.0</td>\n",
              "      <td>Hillary Clinton</td>\n",
              "      <td>[Democratic Party, Republican Party]</td>\n",
              "    </tr>\n",
              "    <tr>\n",
              "      <th>5</th>\n",
              "      <td>[Q359442]</td>\n",
              "      <td>28220.0</td>\n",
              "      <td>Bernie Sanders</td>\n",
              "      <td>[Liberty Union Party, Democratic Party, indepe...</td>\n",
              "    </tr>\n",
              "  </tbody>\n",
              "</table>\n",
              "</div>"
            ],
            "text/plain": [
              "                  QIDS  ...                                              party\n",
              "1             [Q22686]  ...  [Republican Party, Independence Party of Ameri...\n",
              "2  [Q22686, Q27947481]  ...  [Republican Party, Independence Party of Ameri...\n",
              "3                [Q76]  ...                                 [Democratic Party]\n",
              "4              [Q6294]  ...               [Democratic Party, Republican Party]\n",
              "5            [Q359442]  ...  [Liberty Union Party, Democratic Party, indepe...\n",
              "\n",
              "[5 rows x 4 columns]"
            ]
          },
          "metadata": {},
          "execution_count": 18
        }
      ]
    },
    {
      "cell_type": "markdown",
      "source": [
        "We save the apolitical (at least the speakers that do not belong to any political party) in a new dataframe in case we later want to run analysis on them."
      ],
      "metadata": {
        "id": "SR_Z_bfArMqV"
      },
      "id": "SR_Z_bfArMqV"
    },
    {
      "cell_type": "code",
      "source": [
        "top_speakers[\"No_party\"] = top_speakers[\"party\"].apply(lambda x: x is None)\n",
        "apo_speakers = top_speakers[top_speakers[\"No_party\"]==True]"
      ],
      "metadata": {
        "id": "09dgKYdjosNm"
      },
      "id": "09dgKYdjosNm",
      "execution_count": null,
      "outputs": []
    },
    {
      "cell_type": "markdown",
      "source": [
        "For our analysis we only want to look at the speakers belonging to the Republican or Democratic party. Therefore, we drop all the speakers that are not part of one of them."
      ],
      "metadata": {
        "id": "gCaj7RKVyOLH"
      },
      "id": "gCaj7RKVyOLH"
    },
    {
      "cell_type": "code",
      "source": [
        "top_speakers.dropna(subset=[\"party\"], inplace = True)"
      ],
      "metadata": {
        "id": "_eFqFAO67wcV"
      },
      "id": "_eFqFAO67wcV",
      "execution_count": null,
      "outputs": []
    },
    {
      "cell_type": "markdown",
      "source": [
        "In order to separate Republicans and Democrats we one-hot encode the belonging to both parties in two new columns."
      ],
      "metadata": {
        "id": "Gh_ao22mzAM7"
      },
      "id": "Gh_ao22mzAM7"
    },
    {
      "cell_type": "code",
      "source": [
        "top_speakers[\"Democrat\"] = top_speakers[\"party\"].apply(lambda x: \"Democratic Party\" in x)\n",
        "top_speakers[\"Republican\"] = top_speakers[\"party\"].apply(lambda x: \"Republican Party\" in x)"
      ],
      "metadata": {
        "id": "4RmbuWihoV-s"
      },
      "id": "4RmbuWihoV-s",
      "execution_count": null,
      "outputs": []
    },
    {
      "cell_type": "markdown",
      "source": [
        "We check if some speakers belong to both parties."
      ],
      "metadata": {
        "id": "sqtZDBhy0M01"
      },
      "id": "sqtZDBhy0M01"
    },
    {
      "cell_type": "code",
      "source": [
        "top_speakers[top_speakers[\"Democrat\"] == top_speakers[\"Republican\"]]"
      ],
      "metadata": {
        "colab": {
          "base_uri": "https://localhost:8080/",
          "height": 782
        },
        "id": "Wviif3A0BlJQ",
        "outputId": "b28e8a67-4aa7-403f-c90b-24c4eaf49a1b"
      },
      "id": "Wviif3A0BlJQ",
      "execution_count": null,
      "outputs": [
        {
          "output_type": "execute_result",
          "data": {
            "text/html": [
              "\n",
              "  <div id=\"df-5977ec51-1207-4a21-8c1b-1a9e103664b9\">\n",
              "    <div class=\"colab-df-container\">\n",
              "      <div>\n",
              "<style scoped>\n",
              "    .dataframe tbody tr th:only-of-type {\n",
              "        vertical-align: middle;\n",
              "    }\n",
              "\n",
              "    .dataframe tbody tr th {\n",
              "        vertical-align: top;\n",
              "    }\n",
              "\n",
              "    .dataframe thead th {\n",
              "        text-align: right;\n",
              "    }\n",
              "</style>\n",
              "<table border=\"1\" class=\"dataframe\">\n",
              "  <thead>\n",
              "    <tr style=\"text-align: right;\">\n",
              "      <th></th>\n",
              "      <th>QIDS</th>\n",
              "      <th>count</th>\n",
              "      <th>name</th>\n",
              "      <th>party</th>\n",
              "      <th>No_party</th>\n",
              "      <th>Democrat</th>\n",
              "      <th>Republican</th>\n",
              "    </tr>\n",
              "  </thead>\n",
              "  <tbody>\n",
              "    <tr>\n",
              "      <th>1</th>\n",
              "      <td>[Q22686]</td>\n",
              "      <td>285454.0</td>\n",
              "      <td>Donald Trump</td>\n",
              "      <td>[Republican Party, Independence Party of Ameri...</td>\n",
              "      <td>False</td>\n",
              "      <td>True</td>\n",
              "      <td>True</td>\n",
              "    </tr>\n",
              "    <tr>\n",
              "      <th>2</th>\n",
              "      <td>[Q22686, Q27947481]</td>\n",
              "      <td>89949.0</td>\n",
              "      <td>Donald Trump</td>\n",
              "      <td>[Republican Party, Independence Party of Ameri...</td>\n",
              "      <td>False</td>\n",
              "      <td>True</td>\n",
              "      <td>True</td>\n",
              "    </tr>\n",
              "    <tr>\n",
              "      <th>4</th>\n",
              "      <td>[Q6294]</td>\n",
              "      <td>38951.0</td>\n",
              "      <td>Hillary Clinton</td>\n",
              "      <td>[Democratic Party, Republican Party]</td>\n",
              "      <td>False</td>\n",
              "      <td>True</td>\n",
              "      <td>True</td>\n",
              "    </tr>\n",
              "    <tr>\n",
              "      <th>17</th>\n",
              "      <td>[Q7747]</td>\n",
              "      <td>15565.0</td>\n",
              "      <td>Vladimir Putin</td>\n",
              "      <td>[Communist Party of the Soviet Union, Our Home...</td>\n",
              "      <td>False</td>\n",
              "      <td>False</td>\n",
              "      <td>False</td>\n",
              "    </tr>\n",
              "    <tr>\n",
              "      <th>21</th>\n",
              "      <td>[Q43723]</td>\n",
              "      <td>14061.0</td>\n",
              "      <td>Benjamin Netanyahu</td>\n",
              "      <td>[Likud]</td>\n",
              "      <td>False</td>\n",
              "      <td>False</td>\n",
              "      <td>False</td>\n",
              "    </tr>\n",
              "    <tr>\n",
              "      <th>27</th>\n",
              "      <td>[Q3052772]</td>\n",
              "      <td>11909.0</td>\n",
              "      <td>Emmanuel Macron</td>\n",
              "      <td>[La République En Marche, Socialist Party, ind...</td>\n",
              "      <td>False</td>\n",
              "      <td>False</td>\n",
              "      <td>False</td>\n",
              "    </tr>\n",
              "    <tr>\n",
              "      <th>30</th>\n",
              "      <td>[Q567]</td>\n",
              "      <td>10871.0</td>\n",
              "      <td>Angela Merkel</td>\n",
              "      <td>[Christian Democratic Union, Democratic Awaken...</td>\n",
              "      <td>False</td>\n",
              "      <td>False</td>\n",
              "      <td>False</td>\n",
              "    </tr>\n",
              "    <tr>\n",
              "      <th>38</th>\n",
              "      <td>[Q39259]</td>\n",
              "      <td>9740.0</td>\n",
              "      <td>Recep Tayyip Erdoğan</td>\n",
              "      <td>[National Salvation Party, Welfare Party, Virt...</td>\n",
              "      <td>False</td>\n",
              "      <td>False</td>\n",
              "      <td>False</td>\n",
              "    </tr>\n",
              "    <tr>\n",
              "      <th>53</th>\n",
              "      <td>[Q816459]</td>\n",
              "      <td>7916.0</td>\n",
              "      <td>Ben Carson</td>\n",
              "      <td>[Republican Party, Democratic Party, independe...</td>\n",
              "      <td>False</td>\n",
              "      <td>True</td>\n",
              "      <td>True</td>\n",
              "    </tr>\n",
              "    <tr>\n",
              "      <th>54</th>\n",
              "      <td>[Q264766]</td>\n",
              "      <td>7662.0</td>\n",
              "      <td>Theresa May</td>\n",
              "      <td>[Conservative Party]</td>\n",
              "      <td>False</td>\n",
              "      <td>False</td>\n",
              "      <td>False</td>\n",
              "    </tr>\n",
              "    <tr>\n",
              "      <th>56</th>\n",
              "      <td>[Q311440]</td>\n",
              "      <td>7624.0</td>\n",
              "      <td>António Guterres</td>\n",
              "      <td>[Socialist Party]</td>\n",
              "      <td>False</td>\n",
              "      <td>False</td>\n",
              "      <td>False</td>\n",
              "    </tr>\n",
              "    <tr>\n",
              "      <th>61</th>\n",
              "      <td>[Q180589]</td>\n",
              "      <td>7440.0</td>\n",
              "      <td>Boris Johnson</td>\n",
              "      <td>[Conservative Party]</td>\n",
              "      <td>False</td>\n",
              "      <td>False</td>\n",
              "      <td>False</td>\n",
              "    </tr>\n",
              "  </tbody>\n",
              "</table>\n",
              "</div>\n",
              "      <button class=\"colab-df-convert\" onclick=\"convertToInteractive('df-5977ec51-1207-4a21-8c1b-1a9e103664b9')\"\n",
              "              title=\"Convert this dataframe to an interactive table.\"\n",
              "              style=\"display:none;\">\n",
              "        \n",
              "  <svg xmlns=\"http://www.w3.org/2000/svg\" height=\"24px\"viewBox=\"0 0 24 24\"\n",
              "       width=\"24px\">\n",
              "    <path d=\"M0 0h24v24H0V0z\" fill=\"none\"/>\n",
              "    <path d=\"M18.56 5.44l.94 2.06.94-2.06 2.06-.94-2.06-.94-.94-2.06-.94 2.06-2.06.94zm-11 1L8.5 8.5l.94-2.06 2.06-.94-2.06-.94L8.5 2.5l-.94 2.06-2.06.94zm10 10l.94 2.06.94-2.06 2.06-.94-2.06-.94-.94-2.06-.94 2.06-2.06.94z\"/><path d=\"M17.41 7.96l-1.37-1.37c-.4-.4-.92-.59-1.43-.59-.52 0-1.04.2-1.43.59L10.3 9.45l-7.72 7.72c-.78.78-.78 2.05 0 2.83L4 21.41c.39.39.9.59 1.41.59.51 0 1.02-.2 1.41-.59l7.78-7.78 2.81-2.81c.8-.78.8-2.07 0-2.86zM5.41 20L4 18.59l7.72-7.72 1.47 1.35L5.41 20z\"/>\n",
              "  </svg>\n",
              "      </button>\n",
              "      \n",
              "  <style>\n",
              "    .colab-df-container {\n",
              "      display:flex;\n",
              "      flex-wrap:wrap;\n",
              "      gap: 12px;\n",
              "    }\n",
              "\n",
              "    .colab-df-convert {\n",
              "      background-color: #E8F0FE;\n",
              "      border: none;\n",
              "      border-radius: 50%;\n",
              "      cursor: pointer;\n",
              "      display: none;\n",
              "      fill: #1967D2;\n",
              "      height: 32px;\n",
              "      padding: 0 0 0 0;\n",
              "      width: 32px;\n",
              "    }\n",
              "\n",
              "    .colab-df-convert:hover {\n",
              "      background-color: #E2EBFA;\n",
              "      box-shadow: 0px 1px 2px rgba(60, 64, 67, 0.3), 0px 1px 3px 1px rgba(60, 64, 67, 0.15);\n",
              "      fill: #174EA6;\n",
              "    }\n",
              "\n",
              "    [theme=dark] .colab-df-convert {\n",
              "      background-color: #3B4455;\n",
              "      fill: #D2E3FC;\n",
              "    }\n",
              "\n",
              "    [theme=dark] .colab-df-convert:hover {\n",
              "      background-color: #434B5C;\n",
              "      box-shadow: 0px 1px 3px 1px rgba(0, 0, 0, 0.15);\n",
              "      filter: drop-shadow(0px 1px 2px rgba(0, 0, 0, 0.3));\n",
              "      fill: #FFFFFF;\n",
              "    }\n",
              "  </style>\n",
              "\n",
              "      <script>\n",
              "        const buttonEl =\n",
              "          document.querySelector('#df-5977ec51-1207-4a21-8c1b-1a9e103664b9 button.colab-df-convert');\n",
              "        buttonEl.style.display =\n",
              "          google.colab.kernel.accessAllowed ? 'block' : 'none';\n",
              "\n",
              "        async function convertToInteractive(key) {\n",
              "          const element = document.querySelector('#df-5977ec51-1207-4a21-8c1b-1a9e103664b9');\n",
              "          const dataTable =\n",
              "            await google.colab.kernel.invokeFunction('convertToInteractive',\n",
              "                                                     [key], {});\n",
              "          if (!dataTable) return;\n",
              "\n",
              "          const docLinkHtml = 'Like what you see? Visit the ' +\n",
              "            '<a target=\"_blank\" href=https://colab.research.google.com/notebooks/data_table.ipynb>data table notebook</a>'\n",
              "            + ' to learn more about interactive tables.';\n",
              "          element.innerHTML = '';\n",
              "          dataTable['output_type'] = 'display_data';\n",
              "          await google.colab.output.renderOutput(dataTable, element);\n",
              "          const docLink = document.createElement('div');\n",
              "          docLink.innerHTML = docLinkHtml;\n",
              "          element.appendChild(docLink);\n",
              "        }\n",
              "      </script>\n",
              "    </div>\n",
              "  </div>\n",
              "  "
            ],
            "text/plain": [
              "                   QIDS     count  ... Democrat Republican\n",
              "1              [Q22686]  285454.0  ...     True       True\n",
              "2   [Q22686, Q27947481]   89949.0  ...     True       True\n",
              "4               [Q6294]   38951.0  ...     True       True\n",
              "17              [Q7747]   15565.0  ...    False      False\n",
              "21             [Q43723]   14061.0  ...    False      False\n",
              "27           [Q3052772]   11909.0  ...    False      False\n",
              "30               [Q567]   10871.0  ...    False      False\n",
              "38             [Q39259]    9740.0  ...    False      False\n",
              "53            [Q816459]    7916.0  ...     True       True\n",
              "54            [Q264766]    7662.0  ...    False      False\n",
              "56            [Q311440]    7624.0  ...    False      False\n",
              "61            [Q180589]    7440.0  ...    False      False\n",
              "\n",
              "[12 rows x 7 columns]"
            ]
          },
          "metadata": {},
          "execution_count": 14
        }
      ]
    },
    {
      "cell_type": "markdown",
      "source": [
        "We know for sure that Donald Trump actually belonged to the Republican Party during the time of the analysis whereas Hillary Clinton and Ben Carson do belong to the Democrat party. Thus, we manually correct their affiliation."
      ],
      "metadata": {
        "id": "Jahcr7CpAADd"
      },
      "id": "Jahcr7CpAADd"
    },
    {
      "cell_type": "code",
      "source": [
        "top_speakers.at[1,\"Democrat\"] = False #Speakers 1 and 2 both correspond to Donald Trump (2 sets of QIDs)\n",
        "top_speakers.at[2,\"Democrat\"] = False\n",
        "top_speakers.at[4,\"Republican\"] = False #Speaker 4 corresponds to Hillary Clinton\n",
        "top_speakers.at[53,\"Republican\"] = False # Speaker 53 correponds to Ben Carson"
      ],
      "metadata": {
        "id": "M47_V3ASCI7W"
      },
      "id": "M47_V3ASCI7W",
      "execution_count": null,
      "outputs": []
    },
    {
      "cell_type": "markdown",
      "source": [
        "Now the only speakers that still have the same values in columns `Democrat` and `Republican`are the one that do not belong to any party so discard them."
      ],
      "metadata": {
        "id": "9et-Xsv60eh_"
      },
      "id": "9et-Xsv60eh_"
    },
    {
      "cell_type": "code",
      "source": [
        "top_speakers.drop(top_speakers[top_speakers[\"Democrat\"] == top_speakers[\"Republican\"]].index,inplace=True)"
      ],
      "metadata": {
        "id": "974Q2sJE8pSd"
      },
      "id": "974Q2sJE8pSd",
      "execution_count": null,
      "outputs": []
    },
    {
      "cell_type": "code",
      "source": [
        "top_speakers[top_speakers[\"Democrat\"] == top_speakers[\"Republican\"]]"
      ],
      "metadata": {
        "colab": {
          "base_uri": "https://localhost:8080/",
          "height": 49
        },
        "id": "5HDyNfqzFI3O",
        "outputId": "5d5d4143-3276-43fb-93aa-c61a65d696ba"
      },
      "id": "5HDyNfqzFI3O",
      "execution_count": null,
      "outputs": [
        {
          "output_type": "execute_result",
          "data": {
            "text/html": [
              "\n",
              "  <div id=\"df-3cd208fb-3838-4af7-b3a2-6864cb63553d\">\n",
              "    <div class=\"colab-df-container\">\n",
              "      <div>\n",
              "<style scoped>\n",
              "    .dataframe tbody tr th:only-of-type {\n",
              "        vertical-align: middle;\n",
              "    }\n",
              "\n",
              "    .dataframe tbody tr th {\n",
              "        vertical-align: top;\n",
              "    }\n",
              "\n",
              "    .dataframe thead th {\n",
              "        text-align: right;\n",
              "    }\n",
              "</style>\n",
              "<table border=\"1\" class=\"dataframe\">\n",
              "  <thead>\n",
              "    <tr style=\"text-align: right;\">\n",
              "      <th></th>\n",
              "      <th>QIDS</th>\n",
              "      <th>count</th>\n",
              "      <th>name</th>\n",
              "      <th>party</th>\n",
              "      <th>No_party</th>\n",
              "      <th>Democrat</th>\n",
              "      <th>Republican</th>\n",
              "    </tr>\n",
              "  </thead>\n",
              "  <tbody>\n",
              "  </tbody>\n",
              "</table>\n",
              "</div>\n",
              "      <button class=\"colab-df-convert\" onclick=\"convertToInteractive('df-3cd208fb-3838-4af7-b3a2-6864cb63553d')\"\n",
              "              title=\"Convert this dataframe to an interactive table.\"\n",
              "              style=\"display:none;\">\n",
              "        \n",
              "  <svg xmlns=\"http://www.w3.org/2000/svg\" height=\"24px\"viewBox=\"0 0 24 24\"\n",
              "       width=\"24px\">\n",
              "    <path d=\"M0 0h24v24H0V0z\" fill=\"none\"/>\n",
              "    <path d=\"M18.56 5.44l.94 2.06.94-2.06 2.06-.94-2.06-.94-.94-2.06-.94 2.06-2.06.94zm-11 1L8.5 8.5l.94-2.06 2.06-.94-2.06-.94L8.5 2.5l-.94 2.06-2.06.94zm10 10l.94 2.06.94-2.06 2.06-.94-2.06-.94-.94-2.06-.94 2.06-2.06.94z\"/><path d=\"M17.41 7.96l-1.37-1.37c-.4-.4-.92-.59-1.43-.59-.52 0-1.04.2-1.43.59L10.3 9.45l-7.72 7.72c-.78.78-.78 2.05 0 2.83L4 21.41c.39.39.9.59 1.41.59.51 0 1.02-.2 1.41-.59l7.78-7.78 2.81-2.81c.8-.78.8-2.07 0-2.86zM5.41 20L4 18.59l7.72-7.72 1.47 1.35L5.41 20z\"/>\n",
              "  </svg>\n",
              "      </button>\n",
              "      \n",
              "  <style>\n",
              "    .colab-df-container {\n",
              "      display:flex;\n",
              "      flex-wrap:wrap;\n",
              "      gap: 12px;\n",
              "    }\n",
              "\n",
              "    .colab-df-convert {\n",
              "      background-color: #E8F0FE;\n",
              "      border: none;\n",
              "      border-radius: 50%;\n",
              "      cursor: pointer;\n",
              "      display: none;\n",
              "      fill: #1967D2;\n",
              "      height: 32px;\n",
              "      padding: 0 0 0 0;\n",
              "      width: 32px;\n",
              "    }\n",
              "\n",
              "    .colab-df-convert:hover {\n",
              "      background-color: #E2EBFA;\n",
              "      box-shadow: 0px 1px 2px rgba(60, 64, 67, 0.3), 0px 1px 3px 1px rgba(60, 64, 67, 0.15);\n",
              "      fill: #174EA6;\n",
              "    }\n",
              "\n",
              "    [theme=dark] .colab-df-convert {\n",
              "      background-color: #3B4455;\n",
              "      fill: #D2E3FC;\n",
              "    }\n",
              "\n",
              "    [theme=dark] .colab-df-convert:hover {\n",
              "      background-color: #434B5C;\n",
              "      box-shadow: 0px 1px 3px 1px rgba(0, 0, 0, 0.15);\n",
              "      filter: drop-shadow(0px 1px 2px rgba(0, 0, 0, 0.3));\n",
              "      fill: #FFFFFF;\n",
              "    }\n",
              "  </style>\n",
              "\n",
              "      <script>\n",
              "        const buttonEl =\n",
              "          document.querySelector('#df-3cd208fb-3838-4af7-b3a2-6864cb63553d button.colab-df-convert');\n",
              "        buttonEl.style.display =\n",
              "          google.colab.kernel.accessAllowed ? 'block' : 'none';\n",
              "\n",
              "        async function convertToInteractive(key) {\n",
              "          const element = document.querySelector('#df-3cd208fb-3838-4af7-b3a2-6864cb63553d');\n",
              "          const dataTable =\n",
              "            await google.colab.kernel.invokeFunction('convertToInteractive',\n",
              "                                                     [key], {});\n",
              "          if (!dataTable) return;\n",
              "\n",
              "          const docLinkHtml = 'Like what you see? Visit the ' +\n",
              "            '<a target=\"_blank\" href=https://colab.research.google.com/notebooks/data_table.ipynb>data table notebook</a>'\n",
              "            + ' to learn more about interactive tables.';\n",
              "          element.innerHTML = '';\n",
              "          dataTable['output_type'] = 'display_data';\n",
              "          await google.colab.output.renderOutput(dataTable, element);\n",
              "          const docLink = document.createElement('div');\n",
              "          docLink.innerHTML = docLinkHtml;\n",
              "          element.appendChild(docLink);\n",
              "        }\n",
              "      </script>\n",
              "    </div>\n",
              "  </div>\n",
              "  "
            ],
            "text/plain": [
              "Empty DataFrame\n",
              "Columns: [QIDS, count, name, party, No_party, Democrat, Republican]\n",
              "Index: []"
            ]
          },
          "metadata": {},
          "execution_count": 17
        }
      ]
    },
    {
      "cell_type": "markdown",
      "source": [
        "Now we can create the two list containing the top 15 speakers of both parties that we will use for the rest of our analysis."
      ],
      "metadata": {
        "id": "ZoAQGKeS1Dn2"
      },
      "id": "ZoAQGKeS1Dn2"
    },
    {
      "cell_type": "code",
      "source": [
        "rep_speakers = top_speakers[top_speakers[\"Republican\"]==True].iloc[0:15]\n",
        "dem_speakers = top_speakers[top_speakers[\"Democrat\"]==True].iloc[0:15]"
      ],
      "metadata": {
        "id": "gyP2jfTvFtQp"
      },
      "id": "gyP2jfTvFtQp",
      "execution_count": null,
      "outputs": []
    },
    {
      "cell_type": "markdown",
      "source": [
        "We will need the QIDs of all these speakers to retrieve the data of interest so we already store them in a simple list."
      ],
      "metadata": {
        "id": "IPrVHInK1PqO"
      },
      "id": "IPrVHInK1PqO"
    },
    {
      "cell_type": "code",
      "source": [
        "# Get the list of the democrat speakers QID as string\n",
        "dem_speakers_QIDS = []\n",
        "for list_QIDS in dem_speakers.QIDS: \n",
        "  dem_speakers_QIDS.append((str(list_QIDS))) \n",
        "\n",
        "# Get the list of the republican speakers QID as string\n",
        "rep_speakers_QIDS = []\n",
        "for list_QIDS in rep_speakers.QIDS: \n",
        "  rep_speakers_QIDS.append((str(list_QIDS))) \n",
        "\n",
        "# Get the list of the apolitical speakers QID as string\n",
        "apo_speakers_QIDS = []\n",
        "for list_QIDS in apo_speakers.QIDS: \n",
        "  apo_speakers_QIDS.append((str(list_QIDS))) "
      ],
      "metadata": {
        "id": "U_5xzRGE4DEm"
      },
      "id": "U_5xzRGE4DEm",
      "execution_count": null,
      "outputs": []
    },
    {
      "cell_type": "code",
      "source": [
        "# Send the results to CSV \n",
        "dem_speakers[[\"count\", \"name\"]].to_csv(drive+\"top_dem_speakers_count.csv\", index=False, header=False)\n",
        "rep_speakers[[\"count\", \"name\"]].to_csv(drive+\"top_rep_speakers_count.csv\", index=False, header=False)\n",
        "apo_speakers[[\"count\", \"name\"]].to_csv(drive+\"top_apo_speakers_count.csv\", index=False, header=False)\n"
      ],
      "metadata": {
        "id": "3A949ncvXTbO"
      },
      "id": "3A949ncvXTbO",
      "execution_count": null,
      "outputs": []
    },
    {
      "cell_type": "markdown",
      "source": [
        "### 2) Computations on the data needed for part 1) of the Analysis"
      ],
      "metadata": {
        "id": "5LjugCEZA_rF"
      },
      "id": "5LjugCEZA_rF"
    },
    {
      "cell_type": "code",
      "metadata": {
        "id": "v7K6ag_RRSpI"
      },
      "source": [
        "time_scale = [2015,2016,2017,2018,2019,2020]\n",
        "length_mean = []\n",
        "length_error = []\n",
        "compound_mean = [] #Mean of the polarity score\n",
        "compound_error = []\n",
        "\n",
        "for year in time_scale :\n",
        "  # Temporary variables to stock intermediates means and weights\n",
        "  length_mean_list = []\n",
        "  compound_mean_list = []\n",
        "  quotes_weight_list = []\n",
        "\n",
        "  for row in all_selected_doms.iterrows() :\n",
        "    # Select domains in top 200 every year, that are content creator and from the US\n",
        "    if (row[1][\"Year_by_year\"] == 1) and (row[1][\"Content_creator\"] == 1) and (row[1][\"Nationality\"] == \"US\"):\n",
        "      df_year_outlet = load_csv_to_df(year,row[1][\"domain\"])\n",
        "      quotes_weight_list.append(df_year_outlet.shape[0]) # Save the number of quotes in each outlet\n",
        "      length_mean_list.append(df_year_outlet[\"quote_length\"].mean()) # Compute the mean length of each outlet\n",
        "      compound_mean_list.append(df_year_outlet[\"compound\"].mean()) # Compute the mean polarity score of each outlet\n",
        "\n",
        "  # To compute the weighted mean and standard error of the mean we use the function\n",
        "  # DescrStatsW from the statsmodels.stats library \n",
        "\n",
        "  # Computation of weighted mean and standard error of the mean for the length\n",
        "  weighted_stats_length = DescrStatsW(length_mean_list, weights=quotes_weight_list, ddof=0)\n",
        "  length_mean.append(weighted_stats_length.mean)\n",
        "  length_error.append(weighted_stats_length.std_mean)\n",
        "\n",
        "  # Computation of weighted mean and standard error of the mean for the polarity score\n",
        "  weighted_stats_compound = DescrStatsW(compound_mean_list, weights=quotes_weight_list, ddof=0) # We use this class from statsmodel.stats for the computation\n",
        "  compound_mean.append(weighted_stats_compound.mean)\n",
        "  compound_error.append(weighted_stats_compound.std_mean)"
      ],
      "execution_count": null,
      "outputs": [],
      "id": "v7K6ag_RRSpI"
    },
    {
      "cell_type": "code",
      "source": [
        "# Computes the mean for each year and each news outlet (either quote length, or polarity)\n",
        "def get_mean_of_col_for_each_outlet_per_year(col, list_of_outlets):\n",
        "\n",
        "    years = range(2015, 2021)\n",
        "    all_means = dict()\n",
        "    for outlet in list_of_outlets:  # max 54\n",
        "        for year in years:  # 6\n",
        "            df = load_csv_to_df(year,outlet)\n",
        "            mean_of_col = df[col].mean()\n",
        "            keys = all_means.keys()\n",
        "            if outlet in keys:\n",
        "                all_means[outlet][year] = mean_of_col\n",
        "            else:\n",
        "                new_dict = dict()\n",
        "                new_dict[year] = mean_of_col\n",
        "                all_means[outlet] = new_dict\n",
        "\n",
        "    return pd.DataFrame(all_means)"
      ],
      "metadata": {
        "id": "uPQyLWFmUn7E"
      },
      "id": "uPQyLWFmUn7E",
      "execution_count": null,
      "outputs": []
    },
    {
      "cell_type": "code",
      "source": [
        "df_means_length = get_mean_of_col_for_each_outlet_per_year(\"quote_length\", list_domains)\n",
        "df_means_compound = get_mean_of_col_for_each_outlet_per_year(\"compound\", list_domains)"
      ],
      "metadata": {
        "id": "ipRWp3ptZbDu"
      },
      "id": "ipRWp3ptZbDu",
      "execution_count": null,
      "outputs": []
    },
    {
      "cell_type": "markdown",
      "source": [
        "The cell below is used to plot the second figure, which is the evolution of quote mean length for news outlets of different political orientations. "
      ],
      "metadata": {
        "id": "aEGgMObLFOBx"
      },
      "id": "aEGgMObLFOBx"
    },
    {
      "cell_type": "code",
      "metadata": {
        "id": "Me9FGIJYRSpL"
      },
      "source": [
        "time_scale = [2015,2016,2017,2018,2019,2020]\n",
        "length_mean_left, length_mean_right, length_mean_neutral = [],[],[]\n",
        "length_error_left, length_error_right, length_error_neutral = [],[],[]\n",
        "compound_mean_left, compound_mean_right, compound_mean_neutral = [],[],[]\n",
        "compound_error_left, compound_error_right, compound_error_neutral = [],[],[]\n",
        "\n",
        "for year in time_scale :\n",
        "  # Temporary variables to stock intermediates means and weights\n",
        "  quotes_weight_list_left, quotes_weight_list_right, quotes_weight_list_neutral = [],[],[]\n",
        "  length_mean_list_left, length_mean_list_right, length_mean_list_neutral = [],[],[]\n",
        "  compound_mean_list_left, compound_mean_list_right, compound_mean_list_neutral = [],[],[]\n",
        "\n",
        "  for row in all_selected_doms.dropna(subset=[\"Political_leaning\"]).iterrows() :\n",
        "    if (row[1][\"Year_by_year\"] == 1) & (row[1][\"Content_creator\"] == 1) & (row[1][\"Nationality\"] == \"US\") :\n",
        "      df_year_outlet = load_csv_to_df(year,row[1][\"domain\"])\n",
        "      \n",
        "      #The political_leaning variable has values between -3 (extreme left) and +3 (extreme right), 0 being neutral\n",
        "      if row[1][\"Political_leaning\"] < 0 :\n",
        "        quotes_weight_list_left.append(df_year_outlet.shape[0])\n",
        "        length_mean_list_left.append(df_year_outlet[\"quote_length\"].mean())\n",
        "        compound_mean_list_left.append(df_year_outlet[\"compound\"].mean())\n",
        "        \n",
        "\n",
        "      elif row[1][\"Political_leaning\"] > 0 :\n",
        "        quotes_weight_list_right.append(df_year_outlet.shape[0])\n",
        "        length_mean_list_right.append(df_year_outlet[\"quote_length\"].mean())\n",
        "        compound_mean_list_right.append(df_year_outlet[\"compound\"].mean())\n",
        "        \n",
        "\n",
        "      elif row[1][\"Political_leaning\"] == 0 :\n",
        "        quotes_weight_list_neutral.append(df_year_outlet.shape[0])\n",
        "        length_mean_list_neutral.append(df_year_outlet[\"quote_length\"].mean())\n",
        "        compound_mean_list_neutral.append(df_year_outlet[\"compound\"].mean())\n",
        "        \n",
        "  # Computation of weighted mean and standard error of the mean for the length\n",
        "  weighted_stats_length_left = DescrStatsW(length_mean_list_left, weights=quotes_weight_list_left, ddof=0)\n",
        "  length_mean_left.append(weighted_stats_length_left.mean)\n",
        "  length_error_left.append(weighted_stats_length_left.std_mean)\n",
        "  \n",
        "  weighted_stats_length_right = DescrStatsW(length_mean_list_right, weights=quotes_weight_list_right, ddof=0)\n",
        "  length_mean_right.append(weighted_stats_length_right.mean)\n",
        "  length_error_right.append(weighted_stats_length_right.std_mean)\n",
        "\n",
        "  weighted_stats_length_neutral = DescrStatsW(length_mean_list_neutral, weights=quotes_weight_list_neutral, ddof=0)\n",
        "  length_mean_neutral.append(weighted_stats_length_neutral.mean)\n",
        "  length_error_neutral.append(weighted_stats_length_neutral.std_mean)\n",
        "\n",
        "  # Computation of weighted mean and standard error of the mean for the polarity score\n",
        "  weighted_stats_compound_left = DescrStatsW(compound_mean_list_left, weights=quotes_weight_list_left, ddof=0)\n",
        "  compound_mean_left.append(weighted_stats_compound_left.mean)\n",
        "  compound_error_left.append(weighted_stats_compound_left.std_mean)\n",
        "  \n",
        "  weighted_stats_compound_right = DescrStatsW(compound_mean_list_right, weights=quotes_weight_list_right, ddof=0)\n",
        "  compound_mean_right.append(weighted_stats_compound_right.mean)\n",
        "  compound_error_right.append(weighted_stats_compound_right.std_mean)\n",
        "\n",
        "  weighted_stats_compound_neutral = DescrStatsW(compound_mean_list_neutral, weights=quotes_weight_list_neutral, ddof=0)\n",
        "  compound_mean_neutral.append(weighted_stats_compound_neutral.mean)\n",
        "  compound_error_neutral.append(weighted_stats_compound_neutral.std_mean)\n"
      ],
      "execution_count": null,
      "outputs": [],
      "id": "Me9FGIJYRSpL"
    },
    {
      "cell_type": "markdown",
      "source": [
        "### 3) Computations on the data needed for part 2) of the Analysis"
      ],
      "metadata": {
        "id": "lbAUT9djAyHM"
      },
      "id": "lbAUT9djAyHM"
    },
    {
      "cell_type": "markdown",
      "source": [
        "See below the description of the variables we will store in the columns. The rows will represent the years. \n",
        "- `L` for outlet having a left political bias\n",
        "  - `N` for neutral \n",
        "  - `R` for right\n",
        "- `Pol` for the average polarity score \n",
        "- `Pol_err` for average polarity error \n",
        "- `Len` for the average quote's length\n",
        "- `Len_err` for average quote's length error\n",
        "- `Count` for the occurence of democrats/republicans speaker in the given outlet having political leaning L/N/R "
      ],
      "metadata": {
        "id": "Jccz7nb-kgYf"
      },
      "id": "Jccz7nb-kgYf"
    },
    {
      "cell_type": "code",
      "source": [
        "time_scale = [2015,2016,2017,2018,2019,2020]\n",
        "# Define the dataframes storing the reslts \n",
        "col_name = ['L_Pol', 'L_Pol_err', 'L_Len', 'L_Len_err', 'L_Count', 'N_Pol', 'N_Pol_err', 'N_Len', 'N_Len_err', 'N_Count', 'R_Pol', 'R_Pol_err', 'R_Len', 'R_Len_err', 'R_Count']\n",
        "# The democract df\n",
        "df_speakers_stats_dem = pd.DataFrame(columns=col_name, index=time_scale) #Stats of democrat speakers depending on the political leaning of the news outlets\n",
        "# The republican df \n",
        "df_speakers_stats_rep = pd.DataFrame(columns=col_name, index=time_scale) #Stats of Republican speakers depending on the political leaning of the news outlets\n",
        "\n",
        "\n",
        "for year in time_scale :\n",
        "\n",
        "  \n",
        "  # 1) Start by retrieving the data\n",
        "\n",
        "\n",
        "  # Temporary variables to stock intermediates means and weights for republican speakers\n",
        "  quotes_count_list_left_rep, quotes_count_list_right_rep, quotes_count_list_neutral_rep = [],[],[]\n",
        "  length_mean_list_left_rep, length_mean_list_right_rep, length_mean_list_neutral_rep = [],[],[]\n",
        "  compound_mean_list_left_rep, compound_mean_list_right_rep, compound_mean_list_neutral_rep = [],[],[]\n",
        "  # Temporary variables to stock intermediates means and weights for democrat speakers\n",
        "  quotes_count_list_left_dem, quotes_count_list_right_dem, quotes_count_list_neutral_dem = [],[],[]\n",
        "  length_mean_list_left_dem, length_mean_list_right_dem, length_mean_list_neutral_dem = [],[],[]\n",
        "  compound_mean_list_left_dem, compound_mean_list_right_dem, compound_mean_list_neutral_dem = [],[],[]\n",
        "\n",
        "  for row in political_US_outlets.iterrows() :\n",
        "    df_year_outlet = load_csv_to_df(year,row[1][\"domain\"]).dropna(subset=[\"qids\"])\n",
        "    # Make sure that we have a not empty dataframe \n",
        "    if not df_year_outlet.empty:\n",
        "      # Groupy by the QIDS, and aggregate by mean on quote_length and compound value\n",
        "      qids_group_by = df_year_outlet.groupby(\"qids\").agg({\"quote_length\" : \"mean\", \"compound\" : \"mean\"}).reset_index()\n",
        "      # Count the number of quotes per QIDS\n",
        "      qids_count = df_year_outlet.groupby(\"qids\").size()\n",
        "      \n",
        "      # Iterate on the QIDS/speakers of the given outlet and check whether they belong to democrat or republican \n",
        "      for qid in qids_group_by[\"qids\"].values:\n",
        "        # Check if the speaker is a DEMOCRAT\n",
        "        if qid in dem_speakers_QIDS : \n",
        "          # Check whether the outlet has a Left political bias \n",
        "          if row[1][\"Political_leaning\"] < 0:\n",
        "            quotes_count_list_left_dem.append(qids_count.loc[qid])\n",
        "            length_mean_list_left_dem.append(qids_group_by[qids_group_by[\"qids\"] == qid][\"quote_length\"].values[0])\n",
        "            compound_mean_list_left_dem.append(qids_group_by[qids_group_by[\"qids\"] == qid][\"compound\"].values[0])\n",
        "          # Check whether the outlet has a Neutral political bias \n",
        "          if row[1][\"Political_leaning\"] > 0:\n",
        "            quotes_count_list_right_dem.append(qids_count.loc[qid])\n",
        "            length_mean_list_right_dem.append(qids_group_by[qids_group_by[\"qids\"] == qid][\"quote_length\"].values[0])\n",
        "            compound_mean_list_right_dem.append(qids_group_by[qids_group_by[\"qids\"] == qid][\"compound\"].values[0])\n",
        "          # Check whether the outlet has a Right political bias \n",
        "          if row[1][\"Political_leaning\"] == 0:\n",
        "            quotes_count_list_neutral_dem.append(qids_count.loc[qid])\n",
        "            length_mean_list_neutral_dem.append(qids_group_by[qids_group_by[\"qids\"] == qid][\"quote_length\"].values[0])\n",
        "            compound_mean_list_neutral_dem.append(qids_group_by[qids_group_by[\"qids\"] == qid][\"compound\"].values[0])\n",
        "         # Check if the speaker is REPUBLICAN\n",
        "        if qid in rep_speakers_QIDS :\n",
        "\n",
        "          if row[1][\"Political_leaning\"] < 0:\n",
        "            quotes_count_list_left_rep.append(qids_count.loc[qid])\n",
        "            length_mean_list_left_rep.append(qids_group_by[qids_group_by[\"qids\"] == qid][\"quote_length\"].values[0])\n",
        "            compound_mean_list_left_rep.append(qids_group_by[qids_group_by[\"qids\"] == qid][\"compound\"].values[0])\n",
        "\n",
        "          if row[1][\"Political_leaning\"] > 0:\n",
        "            quotes_count_list_right_rep.append(qids_count.loc[qid])\n",
        "            length_mean_list_right_rep.append(qids_group_by[qids_group_by[\"qids\"] == qid][\"quote_length\"].values[0])\n",
        "            compound_mean_list_right_rep.append(qids_group_by[qids_group_by[\"qids\"] == qid][\"compound\"].values[0])\n",
        "\n",
        "          if row[1][\"Political_leaning\"] == 0:\n",
        "            quotes_count_list_neutral_rep.append(qids_count.loc[qid])\n",
        "            length_mean_list_neutral_rep.append(qids_group_by[qids_group_by[\"qids\"] == qid][\"quote_length\"].values[0])\n",
        "            compound_mean_list_neutral_rep.append(qids_group_by[qids_group_by[\"qids\"] == qid][\"compound\"].values[0])\n",
        "          \n",
        "    \n",
        "    \n",
        "    \n",
        "  # 2) After retrieving the data, compute the STATISTICS\n",
        "  \n",
        "\n",
        "\n",
        "\n",
        "  #################################################### FOR DEMOCRATS #########################################################  \n",
        "\n",
        "  yearly_stats_dem = [] # list to push in the final dataframe\n",
        "\n",
        "  #Left outlets :\n",
        "\n",
        "  # Computation of mean and SEM for polarity score\n",
        "  weighted_stats_compound_left_dem = DescrStatsW(compound_mean_list_left_dem, weights=quotes_count_list_left_dem, ddof=0)\n",
        "  yearly_stats_dem.append(weighted_stats_compound_left_dem.mean)\n",
        "  yearly_stats_dem.append(weighted_stats_compound_left_dem.std_mean)\n",
        "\n",
        "  # Computation of mean and SEM for length\n",
        "  weighted_stats_length_left_dem = DescrStatsW(length_mean_list_left_dem, weights=quotes_count_list_left_dem, ddof=0)\n",
        "  yearly_stats_dem.append(weighted_stats_length_left_dem.mean)\n",
        "  yearly_stats_dem.append(weighted_stats_length_left_dem.std_mean)\n",
        "\n",
        "  #Count for left :\n",
        "  yearly_stats_dem.append(np.array(quotes_count_list_left_dem).sum())\n",
        "\n",
        "  #Neutral outlets :\n",
        "\n",
        "  # Computation of mean and SEM for polarity score\n",
        "  weighted_stats_compound_neutral_dem = DescrStatsW(compound_mean_list_neutral_dem, weights=quotes_count_list_neutral_dem, ddof=0)\n",
        "  yearly_stats_dem.append(weighted_stats_compound_neutral_dem.mean)\n",
        "  yearly_stats_dem.append(weighted_stats_compound_neutral_dem.std_mean)\n",
        "\n",
        "  # Computation of mean and SEM for length\n",
        "  weighted_stats_length_neutral_dem = DescrStatsW(length_mean_list_neutral_dem, weights=quotes_count_list_neutral_dem, ddof=0)\n",
        "  yearly_stats_dem.append(weighted_stats_length_neutral_dem.mean)\n",
        "  yearly_stats_dem.append(weighted_stats_length_neutral_dem.std_mean)\n",
        "\n",
        "  #Count for Neutral :\n",
        "  yearly_stats_dem.append(np.array(quotes_count_list_neutral_dem).sum())\n",
        "\n",
        "  #Right outlets :\n",
        "\n",
        "  # Computation of mean and SEM for polarity score\n",
        "  weighted_stats_compound_right_dem = DescrStatsW(compound_mean_list_right_dem, weights=quotes_count_list_right_dem, ddof=0)\n",
        "  yearly_stats_dem.append(weighted_stats_compound_right_dem.mean)\n",
        "  yearly_stats_dem.append(weighted_stats_compound_right_dem.std_mean)\n",
        "\n",
        "  # Computation of mean and SEM for length\n",
        "  weighted_stats_length_right_dem = DescrStatsW(length_mean_list_right_dem, weights=quotes_count_list_right_dem, ddof=0)\n",
        "  yearly_stats_dem.append(weighted_stats_length_right_dem.mean)\n",
        "  yearly_stats_dem.append(weighted_stats_length_right_dem.std_mean)\n",
        "\n",
        "  #Count for Right :\n",
        "  yearly_stats_dem.append(np.array(quotes_count_list_right_dem).sum())\n",
        "\n",
        "  # Push the results into the df \n",
        "  df_speakers_stats_dem.loc[year] = yearly_stats_dem \n",
        "\n",
        "  #################################################### FOR REPUBLICAN #########################################################  \n",
        "\n",
        "  yearly_stats_rep = [] # list to push in the final dataframe\n",
        "\n",
        "  #Left outlets :\n",
        "\n",
        "  # Computation of mean and SEM for polarity score\n",
        "  weighted_stats_compound_left_rep = DescrStatsW(compound_mean_list_left_rep, weights=quotes_count_list_left_rep, ddof=0)\n",
        "  yearly_stats_rep.append(weighted_stats_compound_left_rep.mean)\n",
        "  yearly_stats_rep.append(weighted_stats_compound_left_rep.std_mean)\n",
        "\n",
        "  # Computation of mean and SEM for length\n",
        "  weighted_stats_length_left_rep = DescrStatsW(length_mean_list_left_rep, weights=quotes_count_list_left_rep, ddof=0)\n",
        "  yearly_stats_rep.append(weighted_stats_length_left_rep.mean)\n",
        "  yearly_stats_rep.append(weighted_stats_length_left_rep.std_mean)\n",
        "\n",
        "  #Count for left :\n",
        "  yearly_stats_rep.append(np.array(quotes_count_list_left_rep).sum())\n",
        "\n",
        "  #Neutral outlets :\n",
        "\n",
        "  # Computation of mean and SEM for polarity score\n",
        "  weighted_stats_compound_neutral_rep = DescrStatsW(compound_mean_list_neutral_rep, weights=quotes_count_list_neutral_rep, ddof=0)\n",
        "  yearly_stats_rep.append(weighted_stats_compound_neutral_rep.mean)\n",
        "  yearly_stats_rep.append(weighted_stats_compound_neutral_rep.std_mean)\n",
        "\n",
        "  # Computation of mean and SEM for length\n",
        "  weighted_stats_length_neutral_rep = DescrStatsW(length_mean_list_neutral_rep, weights=quotes_count_list_neutral_rep, ddof=0)\n",
        "  yearly_stats_rep.append(weighted_stats_length_neutral_rep.mean)\n",
        "  yearly_stats_rep.append(weighted_stats_length_neutral_rep.std_mean)\n",
        "\n",
        "  #Count for neutral :\n",
        "  yearly_stats_rep.append(np.array(quotes_count_list_neutral_rep).sum())\n",
        "\n",
        "  #Right outlets :\n",
        "\n",
        "  # Computation of mean and SEM for polarity score\n",
        "  weighted_stats_compound_right_rep = DescrStatsW(compound_mean_list_right_rep, weights=quotes_count_list_right_rep, ddof=0)\n",
        "  yearly_stats_rep.append(weighted_stats_compound_right_rep.mean)\n",
        "  yearly_stats_rep.append(weighted_stats_compound_right_rep.std_mean)\n",
        "\n",
        "  # Computation of mean and SEM for length\n",
        "  weighted_stats_length_right_rep = DescrStatsW(length_mean_list_right_rep, weights=quotes_count_list_right_rep, ddof=0)\n",
        "  yearly_stats_rep.append(weighted_stats_length_right_rep.mean)\n",
        "  yearly_stats_rep.append(weighted_stats_length_right_rep.std_mean)\n",
        "\n",
        "  #Count for right :\n",
        "  yearly_stats_rep.append(np.array(quotes_count_list_right_rep).sum())\n",
        "\n",
        "  # Push the results into the df \n",
        "  df_speakers_stats_rep.loc[year] = yearly_stats_rep\n",
        "\n",
        "  # To keep track of the progress \n",
        "  print(\"Done for year: \" + str(year)) "
      ],
      "metadata": {
        "colab": {
          "base_uri": "https://localhost:8080/"
        },
        "outputId": "2a85f40f-cd95-482b-92fb-47a766b17755",
        "id": "hUXEAqhO2I8e"
      },
      "execution_count": null,
      "outputs": [
        {
          "output_type": "stream",
          "name": "stdout",
          "text": [
            "Done for year: 2015\n",
            "Done for year: 2016\n",
            "Done for year: 2017\n",
            "Done for year: 2018\n",
            "Done for year: 2019\n",
            "Done for year: 2020\n"
          ]
        }
      ],
      "id": "hUXEAqhO2I8e"
    },
    {
      "cell_type": "code",
      "source": [
        "df_speakers_stats_dem.head(6)"
      ],
      "metadata": {
        "colab": {
          "base_uri": "https://localhost:8080/",
          "height": 238
        },
        "id": "innxPSp-3CmK",
        "outputId": "9e31b286-ad2e-4b05-91ec-0bb5ec312d6d"
      },
      "id": "innxPSp-3CmK",
      "execution_count": null,
      "outputs": [
        {
          "output_type": "execute_result",
          "data": {
            "text/html": [
              "\n",
              "  <div id=\"df-a523c962-fb94-49fc-bd28-6b4b373643e4\">\n",
              "    <div class=\"colab-df-container\">\n",
              "      <div>\n",
              "<style scoped>\n",
              "    .dataframe tbody tr th:only-of-type {\n",
              "        vertical-align: middle;\n",
              "    }\n",
              "\n",
              "    .dataframe tbody tr th {\n",
              "        vertical-align: top;\n",
              "    }\n",
              "\n",
              "    .dataframe thead th {\n",
              "        text-align: right;\n",
              "    }\n",
              "</style>\n",
              "<table border=\"1\" class=\"dataframe\">\n",
              "  <thead>\n",
              "    <tr style=\"text-align: right;\">\n",
              "      <th></th>\n",
              "      <th>L_Pol</th>\n",
              "      <th>L_Pol_err</th>\n",
              "      <th>L_Len</th>\n",
              "      <th>L_Len_err</th>\n",
              "      <th>L_Count</th>\n",
              "      <th>N_Pol</th>\n",
              "      <th>N_Pol_err</th>\n",
              "      <th>N_Len</th>\n",
              "      <th>N_Len_err</th>\n",
              "      <th>N_Count</th>\n",
              "      <th>R_Pol</th>\n",
              "      <th>R_Pol_err</th>\n",
              "      <th>R_Len</th>\n",
              "      <th>R_Len_err</th>\n",
              "      <th>R_Count</th>\n",
              "    </tr>\n",
              "  </thead>\n",
              "  <tbody>\n",
              "    <tr>\n",
              "      <th>2015</th>\n",
              "      <td>0.0771815</td>\n",
              "      <td>0.000265631</td>\n",
              "      <td>19.9727</td>\n",
              "      <td>0.0123081</td>\n",
              "      <td>37877</td>\n",
              "      <td>0.103781</td>\n",
              "      <td>0.000531764</td>\n",
              "      <td>20.4276</td>\n",
              "      <td>0.0214962</td>\n",
              "      <td>10461</td>\n",
              "      <td>0.0712252</td>\n",
              "      <td>0.000368541</td>\n",
              "      <td>23.1722</td>\n",
              "      <td>0.0315093</td>\n",
              "      <td>18497</td>\n",
              "    </tr>\n",
              "    <tr>\n",
              "      <th>2016</th>\n",
              "      <td>0.0888006</td>\n",
              "      <td>0.00028586</td>\n",
              "      <td>19.5664</td>\n",
              "      <td>0.0125095</td>\n",
              "      <td>30474</td>\n",
              "      <td>0.104512</td>\n",
              "      <td>0.000852697</td>\n",
              "      <td>21.6488</td>\n",
              "      <td>0.0382898</td>\n",
              "      <td>5905</td>\n",
              "      <td>0.0836185</td>\n",
              "      <td>0.000351611</td>\n",
              "      <td>20.9257</td>\n",
              "      <td>0.015071</td>\n",
              "      <td>17582</td>\n",
              "    </tr>\n",
              "    <tr>\n",
              "      <th>2017</th>\n",
              "      <td>0.0625622</td>\n",
              "      <td>0.00047482</td>\n",
              "      <td>19.6372</td>\n",
              "      <td>0.0211678</td>\n",
              "      <td>18034</td>\n",
              "      <td>0.0504796</td>\n",
              "      <td>0.00071748</td>\n",
              "      <td>21.4499</td>\n",
              "      <td>0.0286184</td>\n",
              "      <td>5853</td>\n",
              "      <td>0.0524413</td>\n",
              "      <td>0.000634487</td>\n",
              "      <td>21.2274</td>\n",
              "      <td>0.0273854</td>\n",
              "      <td>11005</td>\n",
              "    </tr>\n",
              "    <tr>\n",
              "      <th>2018</th>\n",
              "      <td>0.0726006</td>\n",
              "      <td>0.000552276</td>\n",
              "      <td>19.7297</td>\n",
              "      <td>0.0251648</td>\n",
              "      <td>14293</td>\n",
              "      <td>0.0618534</td>\n",
              "      <td>0.000849529</td>\n",
              "      <td>21.939</td>\n",
              "      <td>0.038809</td>\n",
              "      <td>6014</td>\n",
              "      <td>0.0634342</td>\n",
              "      <td>0.000494719</td>\n",
              "      <td>21.8996</td>\n",
              "      <td>0.0269668</td>\n",
              "      <td>11262</td>\n",
              "    </tr>\n",
              "    <tr>\n",
              "      <th>2019</th>\n",
              "      <td>0.0636577</td>\n",
              "      <td>0.000276032</td>\n",
              "      <td>19.662</td>\n",
              "      <td>0.0168749</td>\n",
              "      <td>32291</td>\n",
              "      <td>0.0655277</td>\n",
              "      <td>0.000485359</td>\n",
              "      <td>21.9286</td>\n",
              "      <td>0.0297682</td>\n",
              "      <td>9970</td>\n",
              "      <td>0.0580618</td>\n",
              "      <td>0.00024684</td>\n",
              "      <td>22.2775</td>\n",
              "      <td>0.0170121</td>\n",
              "      <td>27005</td>\n",
              "    </tr>\n",
              "    <tr>\n",
              "      <th>2020</th>\n",
              "      <td>0.0642667</td>\n",
              "      <td>0.000602276</td>\n",
              "      <td>19.5252</td>\n",
              "      <td>0.0298069</td>\n",
              "      <td>12618</td>\n",
              "      <td>0.0649828</td>\n",
              "      <td>0.00115321</td>\n",
              "      <td>21.6443</td>\n",
              "      <td>0.0572883</td>\n",
              "      <td>3697</td>\n",
              "      <td>0.0497961</td>\n",
              "      <td>0.000571691</td>\n",
              "      <td>22.2083</td>\n",
              "      <td>0.035578</td>\n",
              "      <td>10160</td>\n",
              "    </tr>\n",
              "  </tbody>\n",
              "</table>\n",
              "</div>\n",
              "      <button class=\"colab-df-convert\" onclick=\"convertToInteractive('df-a523c962-fb94-49fc-bd28-6b4b373643e4')\"\n",
              "              title=\"Convert this dataframe to an interactive table.\"\n",
              "              style=\"display:none;\">\n",
              "        \n",
              "  <svg xmlns=\"http://www.w3.org/2000/svg\" height=\"24px\"viewBox=\"0 0 24 24\"\n",
              "       width=\"24px\">\n",
              "    <path d=\"M0 0h24v24H0V0z\" fill=\"none\"/>\n",
              "    <path d=\"M18.56 5.44l.94 2.06.94-2.06 2.06-.94-2.06-.94-.94-2.06-.94 2.06-2.06.94zm-11 1L8.5 8.5l.94-2.06 2.06-.94-2.06-.94L8.5 2.5l-.94 2.06-2.06.94zm10 10l.94 2.06.94-2.06 2.06-.94-2.06-.94-.94-2.06-.94 2.06-2.06.94z\"/><path d=\"M17.41 7.96l-1.37-1.37c-.4-.4-.92-.59-1.43-.59-.52 0-1.04.2-1.43.59L10.3 9.45l-7.72 7.72c-.78.78-.78 2.05 0 2.83L4 21.41c.39.39.9.59 1.41.59.51 0 1.02-.2 1.41-.59l7.78-7.78 2.81-2.81c.8-.78.8-2.07 0-2.86zM5.41 20L4 18.59l7.72-7.72 1.47 1.35L5.41 20z\"/>\n",
              "  </svg>\n",
              "      </button>\n",
              "      \n",
              "  <style>\n",
              "    .colab-df-container {\n",
              "      display:flex;\n",
              "      flex-wrap:wrap;\n",
              "      gap: 12px;\n",
              "    }\n",
              "\n",
              "    .colab-df-convert {\n",
              "      background-color: #E8F0FE;\n",
              "      border: none;\n",
              "      border-radius: 50%;\n",
              "      cursor: pointer;\n",
              "      display: none;\n",
              "      fill: #1967D2;\n",
              "      height: 32px;\n",
              "      padding: 0 0 0 0;\n",
              "      width: 32px;\n",
              "    }\n",
              "\n",
              "    .colab-df-convert:hover {\n",
              "      background-color: #E2EBFA;\n",
              "      box-shadow: 0px 1px 2px rgba(60, 64, 67, 0.3), 0px 1px 3px 1px rgba(60, 64, 67, 0.15);\n",
              "      fill: #174EA6;\n",
              "    }\n",
              "\n",
              "    [theme=dark] .colab-df-convert {\n",
              "      background-color: #3B4455;\n",
              "      fill: #D2E3FC;\n",
              "    }\n",
              "\n",
              "    [theme=dark] .colab-df-convert:hover {\n",
              "      background-color: #434B5C;\n",
              "      box-shadow: 0px 1px 3px 1px rgba(0, 0, 0, 0.15);\n",
              "      filter: drop-shadow(0px 1px 2px rgba(0, 0, 0, 0.3));\n",
              "      fill: #FFFFFF;\n",
              "    }\n",
              "  </style>\n",
              "\n",
              "      <script>\n",
              "        const buttonEl =\n",
              "          document.querySelector('#df-a523c962-fb94-49fc-bd28-6b4b373643e4 button.colab-df-convert');\n",
              "        buttonEl.style.display =\n",
              "          google.colab.kernel.accessAllowed ? 'block' : 'none';\n",
              "\n",
              "        async function convertToInteractive(key) {\n",
              "          const element = document.querySelector('#df-a523c962-fb94-49fc-bd28-6b4b373643e4');\n",
              "          const dataTable =\n",
              "            await google.colab.kernel.invokeFunction('convertToInteractive',\n",
              "                                                     [key], {});\n",
              "          if (!dataTable) return;\n",
              "\n",
              "          const docLinkHtml = 'Like what you see? Visit the ' +\n",
              "            '<a target=\"_blank\" href=https://colab.research.google.com/notebooks/data_table.ipynb>data table notebook</a>'\n",
              "            + ' to learn more about interactive tables.';\n",
              "          element.innerHTML = '';\n",
              "          dataTable['output_type'] = 'display_data';\n",
              "          await google.colab.output.renderOutput(dataTable, element);\n",
              "          const docLink = document.createElement('div');\n",
              "          docLink.innerHTML = docLinkHtml;\n",
              "          element.appendChild(docLink);\n",
              "        }\n",
              "      </script>\n",
              "    </div>\n",
              "  </div>\n",
              "  "
            ],
            "text/plain": [
              "          L_Pol    L_Pol_err    L_Len  ...    R_Len  R_Len_err R_Count\n",
              "2015  0.0771815  0.000265631  19.9727  ...  23.1722  0.0315093   18497\n",
              "2016  0.0888006   0.00028586  19.5664  ...  20.9257   0.015071   17582\n",
              "2017  0.0625622   0.00047482  19.6372  ...  21.2274  0.0273854   11005\n",
              "2018  0.0726006  0.000552276  19.7297  ...  21.8996  0.0269668   11262\n",
              "2019  0.0636577  0.000276032   19.662  ...  22.2775  0.0170121   27005\n",
              "2020  0.0642667  0.000602276  19.5252  ...  22.2083   0.035578   10160\n",
              "\n",
              "[6 rows x 15 columns]"
            ]
          },
          "metadata": {},
          "execution_count": 28
        }
      ]
    },
    {
      "cell_type": "markdown",
      "source": [
        "Then we create two new dataframes (one for Democrats and one for Republicans) that will contain a weighted mean of each variable over all years"
      ],
      "metadata": {
        "id": "SU_KwtcMDxcC"
      },
      "id": "SU_KwtcMDxcC"
    },
    {
      "cell_type": "code",
      "source": [
        "df_speakers_stats_total_dem = pd.DataFrame(columns=col_name,index=[\"total\"]) # Dataframe containing overall weighted mean for every political leaning and democrat speakers\n",
        "df_speakers_stats_total_rep = pd.DataFrame(columns=col_name,index=[\"total\"]) # Dataframe containing overall weighted mean for every political leaning and democrat speakers"
      ],
      "metadata": {
        "id": "2J6UjTXX5SsK"
      },
      "id": "2J6UjTXX5SsK",
      "execution_count": null,
      "outputs": []
    },
    {
      "cell_type": "markdown",
      "source": [
        "Now that both dataframes are created, we compute the means and fill them"
      ],
      "metadata": {
        "id": "jVt8ZRZABuVr"
      },
      "id": "jVt8ZRZABuVr"
    },
    {
      "cell_type": "code",
      "source": [
        "# Computation for Democrat speakers\n",
        "for pref in [\"L_\",\"N_\",\"R_\"]:\n",
        "  variables = [pref+\"Pol\",pref+\"Pol_err\",pref+\"Len\",pref+\"Len_err\"]\n",
        "  count = pref+\"Count\"\n",
        "  for var in [0,2] :\n",
        "       weighted_stats = DescrStatsW(df_speakers_stats_dem[variables[var]], weights=df_speakers_stats_dem[count], ddof=0)\n",
        "       df_speakers_stats_total_dem.at['total',variables[var]] = weighted_stats.mean # computation of the mean\n",
        "       df_speakers_stats_total_dem.at[\"total\",variables[var+1]] = weighted_stats.std_mean # computation of the standard error of the mean\n",
        "  df_speakers_stats_total_dem.at['total',count] = df_speakers_stats_dem[count].sum()\n",
        "\n",
        "# Computation for Republicans speakers    \n",
        "for pref in [\"L_\",\"N_\",\"R_\"]:\n",
        "  variables = [pref+\"Pol\",pref+\"Pol_err\",pref+\"Len\",pref+\"Len_err\"]\n",
        "  count = pref+\"Count\"\n",
        "  for var in [0,2] :\n",
        "       weighted_stats = DescrStatsW(df_speakers_stats_rep[variables[var]], weights=df_speakers_stats_rep[count], ddof=0)\n",
        "       df_speakers_stats_total_rep.at[\"total\",variables[var]] = weighted_stats.mean # computation of the mean\n",
        "       df_speakers_stats_total_rep.at[\"total\",variables[var+1]] = weighted_stats.std_mean # computation of the standard error of the mean\n",
        "  df_speakers_stats_total_rep.at['total',count] = df_speakers_stats_rep[count].sum()\n",
        "  "
      ],
      "metadata": {
        "id": "KZO7ieVi6Rkt"
      },
      "id": "KZO7ieVi6Rkt",
      "execution_count": null,
      "outputs": []
    },
    {
      "cell_type": "markdown",
      "source": [
        "### 4) Computations on the data needed for part 3) of the Analysis"
      ],
      "metadata": {
        "id": "1768533xBCj7"
      },
      "id": "1768533xBCj7"
    },
    {
      "cell_type": "markdown",
      "source": [
        "See below the description of the variables we will store in the columns. The rows will represent the years. \n",
        "- `Hi` for outlet having a High factual reporting\n",
        "  - `Mo` for Mostly factual reporting\n",
        "  - `Mi` for Mixed factual reportging\n",
        "- `Pol` for the average polarity score \n",
        "- `Pol_err` for average polarity error \n",
        "- `Len` for the average quote's length\n",
        "- `Len_err` for average quote's length error\n",
        "- `Count` for the occurence of democrats/republicans speaker in the given outlet having factual reportgin Hi/Mo/Mi "
      ],
      "metadata": {
        "id": "o3UxELb1CqCR"
      },
      "id": "o3UxELb1CqCR"
    },
    {
      "cell_type": "code",
      "source": [
        "time_scale = [2015,2016,2017,2018,2019,2020]\n",
        "# Define the dataframes storing the reslts \n",
        "col_name_FR = ['Mi_Pol', 'Mi_Pol_err', 'Mi_Len', 'Mi_Len_err', 'Mi_Count', 'Mo_Pol', 'Mo_Pol_err', 'Mo_Len', 'Mo_Len_err', 'Mo_Count', 'Hi_Pol', 'Hi_Pol_err', 'Hi_Len', 'Hi_Len_err', 'Hi_Count']\n",
        "# The democract df\n",
        "df_speakers_stats_dem_FR = pd.DataFrame(columns=col_name_FR, index=time_scale) # Stats of democrat speakers depending on the Factual Report score of the news outlets\n",
        "# The republican df \n",
        "df_speakers_stats_rep_FR = pd.DataFrame(columns=col_name_FR, index=time_scale) #Stats of Republican speakers depending on the Factual Report score of the news outlets\n",
        "\n",
        "\n",
        "for year in time_scale :\n",
        "\n",
        "  \n",
        "  # 1) Start by retrieving the data\n",
        "\n",
        "\n",
        "  # Temporary variables to stock intermediates means and weights for republican speakers\n",
        "  quotes_count_list_Mi_rep, quotes_count_list_Hi_rep, quotes_count_list_Mo_rep = [],[],[]\n",
        "  length_mean_list_Mi_rep, length_mean_list_Hi_rep, length_mean_list_Mo_rep = [],[],[]\n",
        "  compound_mean_list_Mi_rep, compound_mean_list_Hi_rep, compound_mean_list_Mo_rep = [],[],[]\n",
        "  # Temporary variables to stock intermediates means and weights for democrat speakers\n",
        "  quotes_count_list_Mi_dem, quotes_count_list_Hi_dem, quotes_count_list_Mo_dem = [],[],[]\n",
        "  length_mean_list_Mi_dem, length_mean_list_Hi_dem, length_mean_list_Mo_dem = [],[],[]\n",
        "  compound_mean_list_Mi_dem, compound_mean_list_Hi_dem, compound_mean_list_Mo_dem = [],[],[]\n",
        "\n",
        "  for row in political_US_outlets.iterrows() :\n",
        "    df_year_outlet = load_csv_to_df(year,row[1][\"domain\"]).dropna(subset=[\"qids\"])\n",
        "    # Make sure that we have a not empty dataframe \n",
        "    if not df_year_outlet.empty:\n",
        "      # Groupy by the QIDS, and aggregate by mean on quote_length and compound value\n",
        "      qids_group_by = df_year_outlet.groupby(\"qids\").agg({\"quote_length\" : \"mean\", \"compound\" : \"mean\"}).reset_index()\n",
        "      # Count the number of quotes per QIDS\n",
        "      qids_count = df_year_outlet.groupby(\"qids\").size()\n",
        "      \n",
        "      # Iterate on the QIDS/speakers of the given outlet and check whether they belong to democrat or republican \n",
        "      for qid in qids_group_by[\"qids\"].values:\n",
        "        # Check if the speaker is a DEMOCRAT\n",
        "        if qid in dem_speakers_QIDS : \n",
        "          # Check whether the outlet has a Mixed factual reporting\n",
        "          if row[1][\"Factual_reporting\"] == 3:\n",
        "            quotes_count_list_Mi_dem.append(qids_count.loc[qid])\n",
        "            length_mean_list_Mi_dem.append(qids_group_by[qids_group_by[\"qids\"] == qid][\"quote_length\"].values[0])\n",
        "            compound_mean_list_Mi_dem.append(qids_group_by[qids_group_by[\"qids\"] == qid][\"compound\"].values[0])\n",
        "          # Check whether the outlet has a Mostly factual reporting \n",
        "          if row[1][\"Factual_reporting\"] == 4:\n",
        "            quotes_count_list_Hi_dem.append(qids_count.loc[qid])\n",
        "            length_mean_list_Hi_dem.append(qids_group_by[qids_group_by[\"qids\"] == qid][\"quote_length\"].values[0])\n",
        "            compound_mean_list_Hi_dem.append(qids_group_by[qids_group_by[\"qids\"] == qid][\"compound\"].values[0])\n",
        "          # Check whether the outlet has a High factual reporting \n",
        "          if row[1][\"Factual_reporting\"] == 5:\n",
        "            quotes_count_list_Mo_dem.append(qids_count.loc[qid])\n",
        "            length_mean_list_Mo_dem.append(qids_group_by[qids_group_by[\"qids\"] == qid][\"quote_length\"].values[0])\n",
        "            compound_mean_list_Mo_dem.append(qids_group_by[qids_group_by[\"qids\"] == qid][\"compound\"].values[0])\n",
        "         # Check if the speaker is REPUBLICAN\n",
        "        if qid in rep_speakers_QIDS :\n",
        "\n",
        "          if row[1][\"Factual_reporting\"] == 3:\n",
        "            quotes_count_list_Mi_rep.append(qids_count.loc[qid])\n",
        "            length_mean_list_Mi_rep.append(qids_group_by[qids_group_by[\"qids\"] == qid][\"quote_length\"].values[0])\n",
        "            compound_mean_list_Mi_rep.append(qids_group_by[qids_group_by[\"qids\"] == qid][\"compound\"].values[0])\n",
        "\n",
        "          if row[1][\"Factual_reporting\"] == 4:\n",
        "            quotes_count_list_Hi_rep.append(qids_count.loc[qid])\n",
        "            length_mean_list_Hi_rep.append(qids_group_by[qids_group_by[\"qids\"] == qid][\"quote_length\"].values[0])\n",
        "            compound_mean_list_Hi_rep.append(qids_group_by[qids_group_by[\"qids\"] == qid][\"compound\"].values[0])\n",
        "\n",
        "          if row[1][\"Factual_reporting\"] == 5:\n",
        "            quotes_count_list_Mo_rep.append(qids_count.loc[qid])\n",
        "            length_mean_list_Mo_rep.append(qids_group_by[qids_group_by[\"qids\"] == qid][\"quote_length\"].values[0])\n",
        "            compound_mean_list_Mo_rep.append(qids_group_by[qids_group_by[\"qids\"] == qid][\"compound\"].values[0])\n",
        "          \n",
        "    \n",
        "    \n",
        "    \n",
        "  # 2) After retrieving the data, compute the STATISTICS\n",
        "  \n",
        "\n",
        "\n",
        "\n",
        "  #################################################### FOR DEMOCRATS #########################################################  \n",
        "\n",
        "  yearly_stats_dem_FR = [] # list to push in the final dataframe\n",
        "\n",
        "  #Mixed F-R outlets :\n",
        "\n",
        "  # Computation of mean and SEM for polarity score\n",
        "  weighted_stats_compound_Mi_dem = DescrStatsW(compound_mean_list_Mi_dem, weights=quotes_count_list_Mi_dem, ddof=0)\n",
        "  yearly_stats_dem_FR.append(weighted_stats_compound_Mi_dem.mean)\n",
        "  yearly_stats_dem_FR.append(weighted_stats_compound_Mi_dem.std_mean)\n",
        "\n",
        "  # Computation of mean and SEM for length\n",
        "  weighted_stats_length_Mi_dem = DescrStatsW(length_mean_list_Mi_dem, weights=quotes_count_list_Mi_dem, ddof=0)\n",
        "  yearly_stats_dem_FR.append(weighted_stats_length_Mi_dem.mean)\n",
        "  yearly_stats_dem_FR.append(weighted_stats_length_Mi_dem.std_mean)\n",
        "\n",
        "  #Count for Mixed F-R :\n",
        "  yearly_stats_dem_FR.append(np.array(quotes_count_list_Mi_dem).sum())\n",
        "\n",
        "  #Mostly F-R outlets :\n",
        "\n",
        "  # Computation of mean and SEM for polarity score\n",
        "  weighted_stats_compound_Mo_dem = DescrStatsW(compound_mean_list_Mo_dem, weights=quotes_count_list_Mo_dem, ddof=0)\n",
        "  yearly_stats_dem_FR.append(weighted_stats_compound_Mo_dem.mean)\n",
        "  yearly_stats_dem_FR.append(weighted_stats_compound_Mo_dem.std_mean)\n",
        "\n",
        "  # Computation of mean and SEM for length\n",
        "  weighted_stats_length_Mo_dem = DescrStatsW(length_mean_list_Mo_dem, weights=quotes_count_list_Mo_dem, ddof=0)\n",
        "  yearly_stats_dem_FR.append(weighted_stats_length_Mo_dem.mean)\n",
        "  yearly_stats_dem_FR.append(weighted_stats_length_Mo_dem.std_mean)\n",
        "\n",
        "  #Count for Mostly F-R :\n",
        "  yearly_stats_dem_FR.append(np.array(quotes_count_list_Mo_dem).sum())\n",
        "\n",
        "  #High F-R outlets :\n",
        "\n",
        "  # Computation of mean and SEM for polarity score\n",
        "  weighted_stats_compound_Hi_dem = DescrStatsW(compound_mean_list_Hi_dem, weights=quotes_count_list_Hi_dem, ddof=0)\n",
        "  yearly_stats_dem_FR.append(weighted_stats_compound_Hi_dem.mean)\n",
        "  yearly_stats_dem_FR.append(weighted_stats_compound_Hi_dem.std_mean)\n",
        "\n",
        "  # Computation of mean and SEM for length\n",
        "  weighted_stats_length_Hi_dem = DescrStatsW(length_mean_list_Hi_dem, weights=quotes_count_list_Hi_dem, ddof=0)\n",
        "  yearly_stats_dem_FR.append(weighted_stats_length_Hi_dem.mean)\n",
        "  yearly_stats_dem_FR.append(weighted_stats_length_Hi_dem.std_mean)\n",
        "\n",
        "  #Count for High F-R :\n",
        "  yearly_stats_dem_FR.append(np.array(quotes_count_list_Hi_dem).sum())\n",
        "\n",
        "  # Push the results into the df \n",
        "  df_speakers_stats_dem_FR.loc[year] = yearly_stats_dem_FR \n",
        "\n",
        "  #################################################### FOR REPUBLICAN #########################################################  \n",
        "\n",
        "  yearly_stats_rep_FR = [] # list to push in the final dataframe\n",
        "\n",
        "  #Mixed F-R outlets :\n",
        "\n",
        "  # Computation of mean and SEM for polarity score\n",
        "  weighted_stats_compound_Mi_rep = DescrStatsW(compound_mean_list_Mi_rep, weights=quotes_count_list_Mi_rep, ddof=0)\n",
        "  yearly_stats_rep_FR.append(weighted_stats_compound_Mi_rep.mean)\n",
        "  yearly_stats_rep_FR.append(weighted_stats_compound_Mi_rep.std_mean)\n",
        "\n",
        "  # Computation of mean and SEM for length\n",
        "  weighted_stats_length_Mi_rep = DescrStatsW(length_mean_list_Mi_rep, weights=quotes_count_list_Mi_rep, ddof=0)\n",
        "  yearly_stats_rep_FR.append(weighted_stats_length_Mi_rep.mean)\n",
        "  yearly_stats_rep_FR.append(weighted_stats_length_Mi_rep.std_mean)\n",
        "\n",
        "  #Count for Mixed F-R :\n",
        "  yearly_stats_rep_FR.append(np.array(quotes_count_list_Mi_rep).sum())\n",
        "\n",
        "  #Mostly F-R outlets :\n",
        "\n",
        "  # Computation of mean and SEM for polarity score\n",
        "  weighted_stats_compound_Mo_rep = DescrStatsW(compound_mean_list_Mo_rep, weights=quotes_count_list_Mo_rep, ddof=0)\n",
        "  yearly_stats_rep_FR.append(weighted_stats_compound_Mo_rep.mean)\n",
        "  yearly_stats_rep_FR.append(weighted_stats_compound_Mo_rep.std_mean)\n",
        "\n",
        "  # Computation of mean and SEM for length\n",
        "  weighted_stats_length_Mo_rep = DescrStatsW(length_mean_list_Mo_rep, weights=quotes_count_list_Mo_rep, ddof=0)\n",
        "  yearly_stats_rep_FR.append(weighted_stats_length_Mo_rep.mean)\n",
        "  yearly_stats_rep_FR.append(weighted_stats_length_Mo_rep.std_mean)\n",
        "\n",
        "  #Count for Mostly F-R :\n",
        "  yearly_stats_rep_FR.append(np.array(quotes_count_list_Mo_rep).sum())\n",
        "\n",
        "  #High F-R outlets :\n",
        "\n",
        "  # Computation of mean and SEM for polarity score\n",
        "  weighted_stats_compound_Hi_rep = DescrStatsW(compound_mean_list_Hi_rep, weights=quotes_count_list_Hi_rep, ddof=0)\n",
        "  yearly_stats_rep_FR.append(weighted_stats_compound_Hi_rep.mean)\n",
        "  yearly_stats_rep_FR.append(weighted_stats_compound_Hi_rep.std_mean)\n",
        "\n",
        "  # Computation of mean and SEM for length\n",
        "  weighted_stats_length_Hi_rep = DescrStatsW(length_mean_list_Hi_rep, weights=quotes_count_list_Hi_rep, ddof=0)\n",
        "  yearly_stats_rep_FR.append(weighted_stats_length_Hi_rep.mean)\n",
        "  yearly_stats_rep_FR.append(weighted_stats_length_Hi_rep.std_mean)\n",
        "\n",
        "  #Count for High F-R :\n",
        "  yearly_stats_rep_FR.append(np.array(quotes_count_list_Hi_rep).sum())\n",
        "\n",
        "  # Push the results into the df \n",
        "  df_speakers_stats_rep_FR.loc[year] = yearly_stats_rep_FR\n",
        "\n",
        "  # To keep track of the progress \n",
        "  print(\"Done for year: \" + str(year)) \n"
      ],
      "metadata": {
        "colab": {
          "base_uri": "https://localhost:8080/"
        },
        "id": "0oCOyVwjBB8E",
        "outputId": "f340f068-6cd3-437a-c942-d6b08bd36749"
      },
      "id": "0oCOyVwjBB8E",
      "execution_count": null,
      "outputs": [
        {
          "output_type": "stream",
          "name": "stdout",
          "text": [
            "Done for year: 2015\n",
            "Done for year: 2016\n",
            "Done for year: 2017\n",
            "Done for year: 2018\n",
            "Done for year: 2019\n",
            "Done for year: 2020\n"
          ]
        }
      ]
    },
    {
      "cell_type": "code",
      "source": [
        "df_speakers_stats_dem_FR.head(6)"
      ],
      "metadata": {
        "id": "R88UCA0OHXPJ",
        "colab": {
          "base_uri": "https://localhost:8080/",
          "height": 238
        },
        "outputId": "bc16d62f-f44c-4821-e456-f88d733bc865"
      },
      "id": "R88UCA0OHXPJ",
      "execution_count": null,
      "outputs": [
        {
          "output_type": "execute_result",
          "data": {
            "text/html": [
              "\n",
              "  <div id=\"df-c43e6d26-e5ac-4063-8919-395d73ed8cef\">\n",
              "    <div class=\"colab-df-container\">\n",
              "      <div>\n",
              "<style scoped>\n",
              "    .dataframe tbody tr th:only-of-type {\n",
              "        vertical-align: middle;\n",
              "    }\n",
              "\n",
              "    .dataframe tbody tr th {\n",
              "        vertical-align: top;\n",
              "    }\n",
              "\n",
              "    .dataframe thead th {\n",
              "        text-align: right;\n",
              "    }\n",
              "</style>\n",
              "<table border=\"1\" class=\"dataframe\">\n",
              "  <thead>\n",
              "    <tr style=\"text-align: right;\">\n",
              "      <th></th>\n",
              "      <th>Mi_Pol</th>\n",
              "      <th>Mi_Pol_err</th>\n",
              "      <th>Mi_Len</th>\n",
              "      <th>Mi_Len_err</th>\n",
              "      <th>Mi_Count</th>\n",
              "      <th>Mo_Pol</th>\n",
              "      <th>Mo_Pol_err</th>\n",
              "      <th>Mo_Len</th>\n",
              "      <th>Mo_Len_err</th>\n",
              "      <th>Mo_Count</th>\n",
              "      <th>Hi_Pol</th>\n",
              "      <th>Hi_Pol_err</th>\n",
              "      <th>Hi_Len</th>\n",
              "      <th>Hi_Len_err</th>\n",
              "      <th>Hi_Count</th>\n",
              "    </tr>\n",
              "  </thead>\n",
              "  <tbody>\n",
              "    <tr>\n",
              "      <th>2015</th>\n",
              "      <td>0.0723012</td>\n",
              "      <td>0.000317425</td>\n",
              "      <td>23.3242</td>\n",
              "      <td>0.0254302</td>\n",
              "      <td>21362</td>\n",
              "      <td>0.0796404</td>\n",
              "      <td>0.000325897</td>\n",
              "      <td>18.8352</td>\n",
              "      <td>0.0128262</td>\n",
              "      <td>30419</td>\n",
              "      <td>0.0903037</td>\n",
              "      <td>0.000415694</td>\n",
              "      <td>21.7629</td>\n",
              "      <td>0.010336</td>\n",
              "      <td>15054</td>\n",
              "    </tr>\n",
              "    <tr>\n",
              "      <th>2016</th>\n",
              "      <td>0.0871056</td>\n",
              "      <td>0.000341372</td>\n",
              "      <td>21.6114</td>\n",
              "      <td>0.0114391</td>\n",
              "      <td>19184</td>\n",
              "      <td>0.0888876</td>\n",
              "      <td>0.000337871</td>\n",
              "      <td>18.9696</td>\n",
              "      <td>0.014838</td>\n",
              "      <td>26407</td>\n",
              "      <td>0.0926098</td>\n",
              "      <td>0.000516868</td>\n",
              "      <td>21.0863</td>\n",
              "      <td>0.0141785</td>\n",
              "      <td>8370</td>\n",
              "    </tr>\n",
              "    <tr>\n",
              "      <th>2017</th>\n",
              "      <td>0.0539171</td>\n",
              "      <td>0.000567936</td>\n",
              "      <td>21.6034</td>\n",
              "      <td>0.0249857</td>\n",
              "      <td>11533</td>\n",
              "      <td>0.059722</td>\n",
              "      <td>0.000553209</td>\n",
              "      <td>18.8875</td>\n",
              "      <td>0.0207996</td>\n",
              "      <td>16154</td>\n",
              "      <td>0.0574941</td>\n",
              "      <td>0.000584805</td>\n",
              "      <td>22.0722</td>\n",
              "      <td>0.0193074</td>\n",
              "      <td>7205</td>\n",
              "    </tr>\n",
              "    <tr>\n",
              "      <th>2018</th>\n",
              "      <td>0.0689519</td>\n",
              "      <td>0.000508844</td>\n",
              "      <td>22.2841</td>\n",
              "      <td>0.0231573</td>\n",
              "      <td>12455</td>\n",
              "      <td>0.0693501</td>\n",
              "      <td>0.000571215</td>\n",
              "      <td>18.8999</td>\n",
              "      <td>0.0239008</td>\n",
              "      <td>13742</td>\n",
              "      <td>0.058127</td>\n",
              "      <td>0.000787046</td>\n",
              "      <td>22.9522</td>\n",
              "      <td>0.0268946</td>\n",
              "      <td>5372</td>\n",
              "    </tr>\n",
              "    <tr>\n",
              "      <th>2019</th>\n",
              "      <td>0.0602379</td>\n",
              "      <td>0.000231444</td>\n",
              "      <td>22.9232</td>\n",
              "      <td>0.0131302</td>\n",
              "      <td>31727</td>\n",
              "      <td>0.0636955</td>\n",
              "      <td>0.000298361</td>\n",
              "      <td>18.5773</td>\n",
              "      <td>0.0135184</td>\n",
              "      <td>31201</td>\n",
              "      <td>0.0596891</td>\n",
              "      <td>0.000421193</td>\n",
              "      <td>23.3859</td>\n",
              "      <td>0.0214751</td>\n",
              "      <td>6338</td>\n",
              "    </tr>\n",
              "    <tr>\n",
              "      <th>2020</th>\n",
              "      <td>0.0590225</td>\n",
              "      <td>0.000502338</td>\n",
              "      <td>22.9882</td>\n",
              "      <td>0.028254</td>\n",
              "      <td>11712</td>\n",
              "      <td>0.056716</td>\n",
              "      <td>0.000654717</td>\n",
              "      <td>18.4144</td>\n",
              "      <td>0.0248082</td>\n",
              "      <td>12587</td>\n",
              "      <td>0.0698214</td>\n",
              "      <td>0.00131289</td>\n",
              "      <td>23.4393</td>\n",
              "      <td>0.046793</td>\n",
              "      <td>2176</td>\n",
              "    </tr>\n",
              "  </tbody>\n",
              "</table>\n",
              "</div>\n",
              "      <button class=\"colab-df-convert\" onclick=\"convertToInteractive('df-c43e6d26-e5ac-4063-8919-395d73ed8cef')\"\n",
              "              title=\"Convert this dataframe to an interactive table.\"\n",
              "              style=\"display:none;\">\n",
              "        \n",
              "  <svg xmlns=\"http://www.w3.org/2000/svg\" height=\"24px\"viewBox=\"0 0 24 24\"\n",
              "       width=\"24px\">\n",
              "    <path d=\"M0 0h24v24H0V0z\" fill=\"none\"/>\n",
              "    <path d=\"M18.56 5.44l.94 2.06.94-2.06 2.06-.94-2.06-.94-.94-2.06-.94 2.06-2.06.94zm-11 1L8.5 8.5l.94-2.06 2.06-.94-2.06-.94L8.5 2.5l-.94 2.06-2.06.94zm10 10l.94 2.06.94-2.06 2.06-.94-2.06-.94-.94-2.06-.94 2.06-2.06.94z\"/><path d=\"M17.41 7.96l-1.37-1.37c-.4-.4-.92-.59-1.43-.59-.52 0-1.04.2-1.43.59L10.3 9.45l-7.72 7.72c-.78.78-.78 2.05 0 2.83L4 21.41c.39.39.9.59 1.41.59.51 0 1.02-.2 1.41-.59l7.78-7.78 2.81-2.81c.8-.78.8-2.07 0-2.86zM5.41 20L4 18.59l7.72-7.72 1.47 1.35L5.41 20z\"/>\n",
              "  </svg>\n",
              "      </button>\n",
              "      \n",
              "  <style>\n",
              "    .colab-df-container {\n",
              "      display:flex;\n",
              "      flex-wrap:wrap;\n",
              "      gap: 12px;\n",
              "    }\n",
              "\n",
              "    .colab-df-convert {\n",
              "      background-color: #E8F0FE;\n",
              "      border: none;\n",
              "      border-radius: 50%;\n",
              "      cursor: pointer;\n",
              "      display: none;\n",
              "      fill: #1967D2;\n",
              "      height: 32px;\n",
              "      padding: 0 0 0 0;\n",
              "      width: 32px;\n",
              "    }\n",
              "\n",
              "    .colab-df-convert:hover {\n",
              "      background-color: #E2EBFA;\n",
              "      box-shadow: 0px 1px 2px rgba(60, 64, 67, 0.3), 0px 1px 3px 1px rgba(60, 64, 67, 0.15);\n",
              "      fill: #174EA6;\n",
              "    }\n",
              "\n",
              "    [theme=dark] .colab-df-convert {\n",
              "      background-color: #3B4455;\n",
              "      fill: #D2E3FC;\n",
              "    }\n",
              "\n",
              "    [theme=dark] .colab-df-convert:hover {\n",
              "      background-color: #434B5C;\n",
              "      box-shadow: 0px 1px 3px 1px rgba(0, 0, 0, 0.15);\n",
              "      filter: drop-shadow(0px 1px 2px rgba(0, 0, 0, 0.3));\n",
              "      fill: #FFFFFF;\n",
              "    }\n",
              "  </style>\n",
              "\n",
              "      <script>\n",
              "        const buttonEl =\n",
              "          document.querySelector('#df-c43e6d26-e5ac-4063-8919-395d73ed8cef button.colab-df-convert');\n",
              "        buttonEl.style.display =\n",
              "          google.colab.kernel.accessAllowed ? 'block' : 'none';\n",
              "\n",
              "        async function convertToInteractive(key) {\n",
              "          const element = document.querySelector('#df-c43e6d26-e5ac-4063-8919-395d73ed8cef');\n",
              "          const dataTable =\n",
              "            await google.colab.kernel.invokeFunction('convertToInteractive',\n",
              "                                                     [key], {});\n",
              "          if (!dataTable) return;\n",
              "\n",
              "          const docLinkHtml = 'Like what you see? Visit the ' +\n",
              "            '<a target=\"_blank\" href=https://colab.research.google.com/notebooks/data_table.ipynb>data table notebook</a>'\n",
              "            + ' to learn more about interactive tables.';\n",
              "          element.innerHTML = '';\n",
              "          dataTable['output_type'] = 'display_data';\n",
              "          await google.colab.output.renderOutput(dataTable, element);\n",
              "          const docLink = document.createElement('div');\n",
              "          docLink.innerHTML = docLinkHtml;\n",
              "          element.appendChild(docLink);\n",
              "        }\n",
              "      </script>\n",
              "    </div>\n",
              "  </div>\n",
              "  "
            ],
            "text/plain": [
              "         Mi_Pol   Mi_Pol_err   Mi_Len  ...   Hi_Len Hi_Len_err Hi_Count\n",
              "2015  0.0723012  0.000317425  23.3242  ...  21.7629   0.010336    15054\n",
              "2016  0.0871056  0.000341372  21.6114  ...  21.0863  0.0141785     8370\n",
              "2017  0.0539171  0.000567936  21.6034  ...  22.0722  0.0193074     7205\n",
              "2018  0.0689519  0.000508844  22.2841  ...  22.9522  0.0268946     5372\n",
              "2019  0.0602379  0.000231444  22.9232  ...  23.3859  0.0214751     6338\n",
              "2020  0.0590225  0.000502338  22.9882  ...  23.4393   0.046793     2176\n",
              "\n",
              "[6 rows x 15 columns]"
            ]
          },
          "metadata": {},
          "execution_count": 32
        }
      ]
    },
    {
      "cell_type": "markdown",
      "source": [
        "Then we create two new dataframes (one for Democrats and one for Republicans) that will contain a weighted mean of each variable over all years"
      ],
      "metadata": {
        "id": "sUyThjXf_GDF"
      },
      "id": "sUyThjXf_GDF"
    },
    {
      "cell_type": "code",
      "source": [
        "df_speakers_stats_total_dem_FR = pd.DataFrame(columns=col_name_FR,index=[\"total\"]) # Dataframe containing overall weighted mean for every factual reporting and democrat speakers\n",
        "df_speakers_stats_total_rep_FR = pd.DataFrame(columns=col_name_FR,index=[\"total\"]) # Dataframe containing overall weighted mean for every factual reporting and democrat speakers"
      ],
      "metadata": {
        "id": "uZUDcV8UYDTp"
      },
      "id": "uZUDcV8UYDTp",
      "execution_count": null,
      "outputs": []
    },
    {
      "cell_type": "markdown",
      "source": [
        "Now that both dataframes are created, we compute the means and fill them"
      ],
      "metadata": {
        "id": "Uc36m_W2DrlN"
      },
      "id": "Uc36m_W2DrlN"
    },
    {
      "cell_type": "code",
      "source": [
        "# Computation for Democrat speakers\n",
        "for pref in [\"Mi_\",\"Mo_\",\"Hi_\"]:\n",
        "  variables = [pref+\"Pol\",pref+\"Pol_err\",pref+\"Len\",pref+\"Len_err\"]\n",
        "  count = pref+\"Count\"\n",
        "  for var in [0,2] :\n",
        "       weighted_stats = DescrStatsW(df_speakers_stats_dem_FR[variables[var]], weights=df_speakers_stats_dem_FR[count], ddof=0)\n",
        "       df_speakers_stats_total_dem_FR.at['total',variables[var]] = weighted_stats.mean # Computation of the mean\n",
        "       df_speakers_stats_total_dem_FR.at[\"total\",variables[var+1]] = weighted_stats.std_mean # Computation of the standard error of the mean\n",
        "  df_speakers_stats_total_dem_FR.at['total',count] = df_speakers_stats_dem_FR[count].sum()\n",
        "\n",
        "# Computation for Republicans speakers    \n",
        "for pref in [\"Mi_\",\"Mo_\",\"Hi_\"]:\n",
        "  variables = [pref+\"Pol\",pref+\"Pol_err\",pref+\"Len\",pref+\"Len_err\"]\n",
        "  count = pref+\"Count\"\n",
        "  for var in [0,2] :\n",
        "       weighted_stats = DescrStatsW(df_speakers_stats_rep_FR[variables[var]], weights=df_speakers_stats_rep_FR[count], ddof=0)\n",
        "       df_speakers_stats_total_rep_FR.at[\"total\",variables[var]] = weighted_stats.mean # Computation of the mean\n",
        "       df_speakers_stats_total_rep_FR.at[\"total\",variables[var+1]] = weighted_stats.std_mean # Computation of the standard error of the mean\n",
        "  df_speakers_stats_total_rep_FR.at['total',count] = df_speakers_stats_rep_FR[count].sum()"
      ],
      "metadata": {
        "id": "BlpgN5AObmLY"
      },
      "id": "BlpgN5AObmLY",
      "execution_count": null,
      "outputs": []
    },
    {
      "cell_type": "markdown",
      "source": [
        "For the last graph we want to compute the apolitical speakers mean polarity."
      ],
      "metadata": {
        "id": "ZdgrPR0LuRCG"
      },
      "id": "ZdgrPR0LuRCG"
    },
    {
      "cell_type": "code",
      "source": [
        "time_scale = [2015,2016,2017,2018,2019,2020]\n",
        "length_mean_apo = []\n",
        "length_error_apo = 0\n",
        "compound_mean_apo = [] #Mean of the polarity score\n",
        "compound_error_apo = 0\n",
        "quotes_weight_apo = []\n",
        "\n",
        "for year in time_scale :\n",
        "  for row in political_US_outlets.iterrows() :\n",
        "    df_year_outlet = load_csv_to_df(year,row[1][\"domain\"]).dropna(subset=[\"qids\"])\n",
        "    # Make sure that we have a not empty dataframe \n",
        "    if not df_year_outlet.empty:\n",
        "      # Groupy by the QIDS, and aggregate by mean on quote_length and compound value\n",
        "      qids_group_by = df_year_outlet.groupby(\"qids\").agg({\"quote_length\" : \"mean\", \"compound\" : \"mean\"}).reset_index()\n",
        "      # Count the number of quotes per QIDS\n",
        "      qids_count = df_year_outlet.groupby(\"qids\").size()\n",
        "      # Iterate on the QIDS/speakers of the given outlet and check whether they belong to democrat or republican \n",
        "      for qid in qids_group_by[\"qids\"].values:\n",
        "        # Check if the speaker is apolical\n",
        "        if qid in apo_speakers_QIDS :\n",
        "          quotes_weight_apo.append(qids_count.loc[qid])\n",
        "          length_mean_apo.append(qids_group_by[qids_group_by[\"qids\"] == qid][\"quote_length\"].values[0])\n",
        "          compound_mean_apo.append(qids_group_by[qids_group_by[\"qids\"] == qid][\"compound\"].values[0])\n",
        "\n",
        "  print(\"Computation done for year : \" + str(year))\n",
        "\n",
        "# Computation of weighted mean and standard error of the mean for the length\n",
        "weighted_stats_length = DescrStatsW(length_mean_apo, weights=quotes_weight_apo, ddof=0)\n",
        "length_mean_apo = weighted_stats_length.mean\n",
        "length_error_apo = weighted_stats_length.std_mean\n",
        "\n",
        "# Computation of weighted mean and standard error of the mean for the polarity score\n",
        "weighted_stats_compound = DescrStatsW(compound_mean_apo, weights=quotes_weight_apo, ddof=0) # We use this class from statsmodel.stats for the computation\n",
        "compound_mean_apo = weighted_stats_compound.mean\n",
        "compound_error_apo = weighted_stats_compound.std_mean"
      ],
      "metadata": {
        "colab": {
          "base_uri": "https://localhost:8080/"
        },
        "id": "kAlSzLANuMhe",
        "outputId": "da6ed1b6-64e1-494f-d40f-4bd2ff8dda8d"
      },
      "id": "kAlSzLANuMhe",
      "execution_count": null,
      "outputs": [
        {
          "output_type": "stream",
          "name": "stdout",
          "text": [
            "Computation done for year : 2015\n",
            "Computation done for year : 2016\n",
            "Computation done for year : 2017\n",
            "Computation done for year : 2018\n",
            "Computation done for year : 2019\n",
            "Computation done for year : 2020\n"
          ]
        }
      ]
    },
    {
      "cell_type": "code",
      "source": [
        "political_US_outlets.head()"
      ],
      "metadata": {
        "colab": {
          "base_uri": "https://localhost:8080/",
          "height": 206
        },
        "id": "rKJ0fHUpBypC",
        "outputId": "14114576-d82b-4103-d020-c77a71cce725"
      },
      "id": "rKJ0fHUpBypC",
      "execution_count": null,
      "outputs": [
        {
          "output_type": "execute_result",
          "data": {
            "text/html": [
              "\n",
              "  <div id=\"df-78d872af-e249-4fbc-8d98-a4b273f1df4d\">\n",
              "    <div class=\"colab-df-container\">\n",
              "      <div>\n",
              "<style scoped>\n",
              "    .dataframe tbody tr th:only-of-type {\n",
              "        vertical-align: middle;\n",
              "    }\n",
              "\n",
              "    .dataframe tbody tr th {\n",
              "        vertical-align: top;\n",
              "    }\n",
              "\n",
              "    .dataframe thead th {\n",
              "        text-align: right;\n",
              "    }\n",
              "</style>\n",
              "<table border=\"1\" class=\"dataframe\">\n",
              "  <thead>\n",
              "    <tr style=\"text-align: right;\">\n",
              "      <th></th>\n",
              "      <th>domain</th>\n",
              "      <th>Year_by_year</th>\n",
              "      <th>Cumulative</th>\n",
              "      <th>Nationality</th>\n",
              "      <th>Political_leaning</th>\n",
              "      <th>Content_creator</th>\n",
              "      <th>Traffic</th>\n",
              "      <th>Factual_reporting</th>\n",
              "    </tr>\n",
              "  </thead>\n",
              "  <tbody>\n",
              "    <tr>\n",
              "      <th>2</th>\n",
              "      <td>latimes.com</td>\n",
              "      <td>0</td>\n",
              "      <td>1</td>\n",
              "      <td>US</td>\n",
              "      <td>-1.0</td>\n",
              "      <td>1</td>\n",
              "      <td>High</td>\n",
              "      <td>5.0</td>\n",
              "    </tr>\n",
              "    <tr>\n",
              "      <th>3</th>\n",
              "      <td>breitbart.com</td>\n",
              "      <td>1</td>\n",
              "      <td>1</td>\n",
              "      <td>US</td>\n",
              "      <td>3.0</td>\n",
              "      <td>1</td>\n",
              "      <td>High</td>\n",
              "      <td>3.0</td>\n",
              "    </tr>\n",
              "    <tr>\n",
              "      <th>7</th>\n",
              "      <td>wtop.com</td>\n",
              "      <td>1</td>\n",
              "      <td>0</td>\n",
              "      <td>US</td>\n",
              "      <td>0.0</td>\n",
              "      <td>1</td>\n",
              "      <td>NaN</td>\n",
              "      <td>5.0</td>\n",
              "    </tr>\n",
              "    <tr>\n",
              "      <th>13</th>\n",
              "      <td>chicagotribune.com</td>\n",
              "      <td>0</td>\n",
              "      <td>1</td>\n",
              "      <td>US</td>\n",
              "      <td>1.0</td>\n",
              "      <td>1</td>\n",
              "      <td>High</td>\n",
              "      <td>5.0</td>\n",
              "    </tr>\n",
              "    <tr>\n",
              "      <th>14</th>\n",
              "      <td>sfgate.com</td>\n",
              "      <td>1</td>\n",
              "      <td>1</td>\n",
              "      <td>US</td>\n",
              "      <td>-1.0</td>\n",
              "      <td>1</td>\n",
              "      <td>High</td>\n",
              "      <td>5.0</td>\n",
              "    </tr>\n",
              "  </tbody>\n",
              "</table>\n",
              "</div>\n",
              "      <button class=\"colab-df-convert\" onclick=\"convertToInteractive('df-78d872af-e249-4fbc-8d98-a4b273f1df4d')\"\n",
              "              title=\"Convert this dataframe to an interactive table.\"\n",
              "              style=\"display:none;\">\n",
              "        \n",
              "  <svg xmlns=\"http://www.w3.org/2000/svg\" height=\"24px\"viewBox=\"0 0 24 24\"\n",
              "       width=\"24px\">\n",
              "    <path d=\"M0 0h24v24H0V0z\" fill=\"none\"/>\n",
              "    <path d=\"M18.56 5.44l.94 2.06.94-2.06 2.06-.94-2.06-.94-.94-2.06-.94 2.06-2.06.94zm-11 1L8.5 8.5l.94-2.06 2.06-.94-2.06-.94L8.5 2.5l-.94 2.06-2.06.94zm10 10l.94 2.06.94-2.06 2.06-.94-2.06-.94-.94-2.06-.94 2.06-2.06.94z\"/><path d=\"M17.41 7.96l-1.37-1.37c-.4-.4-.92-.59-1.43-.59-.52 0-1.04.2-1.43.59L10.3 9.45l-7.72 7.72c-.78.78-.78 2.05 0 2.83L4 21.41c.39.39.9.59 1.41.59.51 0 1.02-.2 1.41-.59l7.78-7.78 2.81-2.81c.8-.78.8-2.07 0-2.86zM5.41 20L4 18.59l7.72-7.72 1.47 1.35L5.41 20z\"/>\n",
              "  </svg>\n",
              "      </button>\n",
              "      \n",
              "  <style>\n",
              "    .colab-df-container {\n",
              "      display:flex;\n",
              "      flex-wrap:wrap;\n",
              "      gap: 12px;\n",
              "    }\n",
              "\n",
              "    .colab-df-convert {\n",
              "      background-color: #E8F0FE;\n",
              "      border: none;\n",
              "      border-radius: 50%;\n",
              "      cursor: pointer;\n",
              "      display: none;\n",
              "      fill: #1967D2;\n",
              "      height: 32px;\n",
              "      padding: 0 0 0 0;\n",
              "      width: 32px;\n",
              "    }\n",
              "\n",
              "    .colab-df-convert:hover {\n",
              "      background-color: #E2EBFA;\n",
              "      box-shadow: 0px 1px 2px rgba(60, 64, 67, 0.3), 0px 1px 3px 1px rgba(60, 64, 67, 0.15);\n",
              "      fill: #174EA6;\n",
              "    }\n",
              "\n",
              "    [theme=dark] .colab-df-convert {\n",
              "      background-color: #3B4455;\n",
              "      fill: #D2E3FC;\n",
              "    }\n",
              "\n",
              "    [theme=dark] .colab-df-convert:hover {\n",
              "      background-color: #434B5C;\n",
              "      box-shadow: 0px 1px 3px 1px rgba(0, 0, 0, 0.15);\n",
              "      filter: drop-shadow(0px 1px 2px rgba(0, 0, 0, 0.3));\n",
              "      fill: #FFFFFF;\n",
              "    }\n",
              "  </style>\n",
              "\n",
              "      <script>\n",
              "        const buttonEl =\n",
              "          document.querySelector('#df-78d872af-e249-4fbc-8d98-a4b273f1df4d button.colab-df-convert');\n",
              "        buttonEl.style.display =\n",
              "          google.colab.kernel.accessAllowed ? 'block' : 'none';\n",
              "\n",
              "        async function convertToInteractive(key) {\n",
              "          const element = document.querySelector('#df-78d872af-e249-4fbc-8d98-a4b273f1df4d');\n",
              "          const dataTable =\n",
              "            await google.colab.kernel.invokeFunction('convertToInteractive',\n",
              "                                                     [key], {});\n",
              "          if (!dataTable) return;\n",
              "\n",
              "          const docLinkHtml = 'Like what you see? Visit the ' +\n",
              "            '<a target=\"_blank\" href=https://colab.research.google.com/notebooks/data_table.ipynb>data table notebook</a>'\n",
              "            + ' to learn more about interactive tables.';\n",
              "          element.innerHTML = '';\n",
              "          dataTable['output_type'] = 'display_data';\n",
              "          await google.colab.output.renderOutput(dataTable, element);\n",
              "          const docLink = document.createElement('div');\n",
              "          docLink.innerHTML = docLinkHtml;\n",
              "          element.appendChild(docLink);\n",
              "        }\n",
              "      </script>\n",
              "    </div>\n",
              "  </div>\n",
              "  "
            ],
            "text/plain": [
              "                domain  Year_by_year  ...  Traffic Factual_reporting\n",
              "2          latimes.com             0  ...     High               5.0\n",
              "3        breitbart.com             1  ...     High               3.0\n",
              "7             wtop.com             1  ...      NaN               5.0\n",
              "13  chicagotribune.com             0  ...     High               5.0\n",
              "14          sfgate.com             1  ...     High               5.0\n",
              "\n",
              "[5 rows x 8 columns]"
            ]
          },
          "metadata": {},
          "execution_count": 36
        }
      ]
    },
    {
      "cell_type": "markdown",
      "source": [
        "Computation of data for the analysis of the correlation between the factual reporting and websites ratio of speakers from their own orientation and from the oposite orientation"
      ],
      "metadata": {
        "id": "6YM3hEaO9rPH"
      },
      "id": "6YM3hEaO9rPH"
    },
    {
      "cell_type": "code",
      "source": [
        "time_scale = [2015,2016,2017,2018,2019,2020]\n",
        "\n",
        "quotes_count_dem_list = []\n",
        "quotes_count_rep_list = []\n",
        "\n",
        "for outlet in political_US_outlets.iterrows():\n",
        "  quotes_count_dem = 0\n",
        "  quotes_count_rep = 0\n",
        "  for year in time_scale:\n",
        "    df_year_outlet = load_csv_to_df(year,outlet[1][\"domain\"])#.dropna(subset=[\"qids\"])\n",
        "    # Make sure that we have a not empty dataframe \n",
        "    if not df_year_outlet.empty:\n",
        "      # Count the number of quotes per QIDS\n",
        "      qids_count = df_year_outlet.groupby(\"qids\").size()\n",
        "      # Iterate on the QIDS/speakers of the given outlet and check whether they belong to democrat or republican \n",
        "      for qid in qids_count.index.values:\n",
        "        # Check if the speaker is a Democrat\n",
        "        if qid in dem_speakers_QIDS :\n",
        "          quotes_count_dem += qids_count.loc[qid]\n",
        "        # Check if the speaker is a Republican\n",
        "        if qid in rep_speakers_QIDS :\n",
        "          quotes_count_rep += qids_count.loc[qid]\n",
        "  quotes_count_dem_list.append(quotes_count_dem)\n",
        "  quotes_count_rep_list.append(quotes_count_rep)\n",
        "  print(\"Computation done for news outlet : \" + outlet[1][\"domain\"])\n",
        "  \n",
        "political_US_outlets[\"dem_count\"]=quotes_count_dem_list\n",
        "political_US_outlets[\"rep_count\"]=quotes_count_rep_list"
      ],
      "metadata": {
        "colab": {
          "base_uri": "https://localhost:8080/"
        },
        "id": "YV6Wqvyb95BJ",
        "outputId": "de8fada8-3ce6-457c-d0d8-c4aad358591e"
      },
      "id": "YV6Wqvyb95BJ",
      "execution_count": null,
      "outputs": [
        {
          "output_type": "stream",
          "name": "stdout",
          "text": [
            "Computation done for news outlet : latimes.com\n",
            "Computation done for news outlet : breitbart.com\n",
            "Computation done for news outlet : wtop.com\n",
            "Computation done for news outlet : chicagotribune.com\n",
            "Computation done for news outlet : sfgate.com\n",
            "Computation done for news outlet : upi.com\n",
            "Computation done for news outlet : chron.com\n",
            "Computation done for news outlet : cnn.com\n",
            "Computation done for news outlet : nytimes.com\n",
            "Computation done for news outlet : thehill.com\n",
            "Computation done for news outlet : washingtonpost.com\n",
            "Computation done for news outlet : mysanantonio.com\n",
            "Computation done for news outlet : seattletimes.com\n",
            "Computation done for news outlet : washingtontimes.com\n",
            "Computation done for news outlet : philly.com\n",
            "Computation done for news outlet : newsok.com\n",
            "Computation done for news outlet : cbsnews.com\n",
            "Computation done for news outlet : foxnews.com\n",
            "Computation done for news outlet : startribune.com\n"
          ]
        },
        {
          "output_type": "stream",
          "name": "stderr",
          "text": [
            "/usr/local/lib/python3.7/dist-packages/ipykernel_launcher.py:27: SettingWithCopyWarning: \n",
            "A value is trying to be set on a copy of a slice from a DataFrame.\n",
            "Try using .loc[row_indexer,col_indexer] = value instead\n",
            "\n",
            "See the caveats in the documentation: https://pandas.pydata.org/pandas-docs/stable/user_guide/indexing.html#returning-a-view-versus-a-copy\n",
            "/usr/local/lib/python3.7/dist-packages/ipykernel_launcher.py:28: SettingWithCopyWarning: \n",
            "A value is trying to be set on a copy of a slice from a DataFrame.\n",
            "Try using .loc[row_indexer,col_indexer] = value instead\n",
            "\n",
            "See the caveats in the documentation: https://pandas.pydata.org/pandas-docs/stable/user_guide/indexing.html#returning-a-view-versus-a-copy\n"
          ]
        }
      ]
    },
    {
      "cell_type": "code",
      "source": [
        "political_US_outlets[\"speaker_ratio\"]=political_US_outlets[\"dem_count\"]/(political_US_outlets[\"dem_count\"]+political_US_outlets[\"rep_count\"])"
      ],
      "metadata": {
        "colab": {
          "base_uri": "https://localhost:8080/"
        },
        "id": "maXZj7Xjb7Ob",
        "outputId": "c1a0fe82-0e76-452c-d98f-016b51b86551"
      },
      "id": "maXZj7Xjb7Ob",
      "execution_count": null,
      "outputs": [
        {
          "output_type": "stream",
          "name": "stderr",
          "text": [
            "/usr/local/lib/python3.7/dist-packages/ipykernel_launcher.py:1: SettingWithCopyWarning: \n",
            "A value is trying to be set on a copy of a slice from a DataFrame.\n",
            "Try using .loc[row_indexer,col_indexer] = value instead\n",
            "\n",
            "See the caveats in the documentation: https://pandas.pydata.org/pandas-docs/stable/user_guide/indexing.html#returning-a-view-versus-a-copy\n",
            "  \"\"\"Entry point for launching an IPython kernel.\n"
          ]
        }
      ]
    },
    {
      "cell_type": "markdown",
      "metadata": {
        "id": "EHuixGYMWK2U"
      },
      "source": [
        "## E) Data Analysis"
      ],
      "id": "EHuixGYMWK2U"
    },
    {
      "cell_type": "markdown",
      "source": [
        "### Introduction\n",
        "\n"
      ],
      "metadata": {
        "id": "IlL6Gbvvq2cJ"
      },
      "id": "IlL6Gbvvq2cJ"
    },
    {
      "cell_type": "markdown",
      "source": [
        "In this cell we show that the mean and median are sufficiently close and that the k of power law is superior to 2. "
      ],
      "metadata": {
        "id": "5Tx3vesop41K"
      },
      "id": "5Tx3vesop41K"
    },
    {
      "cell_type": "markdown",
      "source": [
        "### 0) Before all : bias check\n",
        "\n",
        "We decided to use the mean as a metric in our datastory because it is better understood by the general public than the median.\n",
        "\n",
        "Sanity check: Although the distribution of quotes resembles that of power law along certain values (especially between quotes of length 30 and 100), we determined that the `k` of the power laws is roughly equals to 4.2. According to the lectures, this implies that the mean is defined. And actually it only slightly differs from the median. So we can use the mean as a metric. "
      ],
      "metadata": {
        "id": "MgPZMAKeM0Vb"
      },
      "id": "MgPZMAKeM0Vb"
    },
    {
      "cell_type": "code",
      "source": [
        "path = drive+\"/Distribution_plot/\"+'all_years_counts_quote_length.csv'\n",
        "data_length_all_years = pd.read_csv(path)\n",
        "# Rename the columns for clarity \n",
        "data_length_all_years.columns = [\"irrelevant\", \"x_vals\", \"y_vals\"]\n",
        "sns.histplot(data=data_length_all_years, x=\"x_vals\", y=\"y_vals\", log_scale=True, bins=400).set(title=\"Distribution of quotes' length : Log-Log axes\", xlabel=\"Quote length\", ylabel=\"Occurence\")"
      ],
      "metadata": {
        "colab": {
          "base_uri": "https://localhost:8080/",
          "height": 351
        },
        "id": "ZWNamkpdoAB4",
        "outputId": "3d7f2cd3-5483-423d-f56d-c8b18ab688d5"
      },
      "id": "ZWNamkpdoAB4",
      "execution_count": null,
      "outputs": [
        {
          "output_type": "execute_result",
          "data": {
            "text/plain": [
              "[Text(0, 0.5, 'Occurence'),\n",
              " Text(0.5, 0, 'Quote length'),\n",
              " Text(0.5, 1.0, \"Distribution of quotes' length : Log-Log axes\")]"
            ]
          },
          "metadata": {},
          "execution_count": 20
        },
        {
          "output_type": "display_data",
          "data": {
            "image/png": "[encoded data removed]",
            "text/plain": [
              "<Figure size 432x288 with 1 Axes>"
            ]
          },
          "metadata": {
            "needs_background": "light"
          }
        }
      ]
    },
    {
      "cell_type": "code",
      "source": [
        "# Select the values between quote length of 30 and 100 (the part resembling a power law (linear trend on log-log plot))\n",
        "#val_lin = dict_quote_len_year[2020].loc[30.0:100.0].reset_index()\n",
        "val_lin = data_length_all_years.loc[30.0:100.0]\n",
        "# Convert to logarithmic values\n",
        "val_lin[[\"x_vals\", \"y_vals\"]]= np.log(val_lin[[\"x_vals\", \"y_vals\"]])\n",
        "# Run a simple linear regression and check the slope or k the power law \n",
        "mod = smf.ols(formula='y_vals ~ x_vals', data=val_lin)\n",
        "res = mod.fit()\n",
        "res.summary()"
      ],
      "metadata": {
        "id": "Uyp9eG23p1xE",
        "colab": {
          "base_uri": "https://localhost:8080/",
          "height": 556
        },
        "outputId": "82deda07-c308-4079-dd6e-9c29f605d078"
      },
      "id": "Uyp9eG23p1xE",
      "execution_count": null,
      "outputs": [
        {
          "output_type": "stream",
          "name": "stderr",
          "text": [
            "/usr/local/lib/python3.7/dist-packages/pandas/core/frame.py:2963: SettingWithCopyWarning: \n",
            "A value is trying to be set on a copy of a slice from a DataFrame.\n",
            "Try using .loc[row_indexer,col_indexer] = value instead\n",
            "\n",
            "See the caveats in the documentation: https://pandas.pydata.org/pandas-docs/stable/user_guide/indexing.html#returning-a-view-versus-a-copy\n",
            "  self[k1] = value[k2]\n"
          ]
        },
        {
          "output_type": "execute_result",
          "data": {
            "text/html": [
              "<table class=\"simpletable\">\n",
              "<caption>OLS Regression Results</caption>\n",
              "<tr>\n",
              "  <th>Dep. Variable:</th>         <td>y_vals</td>      <th>  R-squared:         </th> <td>   0.992</td>\n",
              "</tr>\n",
              "<tr>\n",
              "  <th>Model:</th>                   <td>OLS</td>       <th>  Adj. R-squared:    </th> <td>   0.992</td>\n",
              "</tr>\n",
              "<tr>\n",
              "  <th>Method:</th>             <td>Least Squares</td>  <th>  F-statistic:       </th> <td>   8740.</td>\n",
              "</tr>\n",
              "<tr>\n",
              "  <th>Date:</th>             <td>Fri, 17 Dec 2021</td> <th>  Prob (F-statistic):</th> <td>2.11e-74</td>\n",
              "</tr>\n",
              "<tr>\n",
              "  <th>Time:</th>                 <td>00:31:35</td>     <th>  Log-Likelihood:    </th> <td>  45.537</td>\n",
              "</tr>\n",
              "<tr>\n",
              "  <th>No. Observations:</th>      <td>    71</td>      <th>  AIC:               </th> <td>  -87.07</td>\n",
              "</tr>\n",
              "<tr>\n",
              "  <th>Df Residuals:</th>          <td>    69</td>      <th>  BIC:               </th> <td>  -82.55</td>\n",
              "</tr>\n",
              "<tr>\n",
              "  <th>Df Model:</th>              <td>     1</td>      <th>                     </th>     <td> </td>   \n",
              "</tr>\n",
              "<tr>\n",
              "  <th>Covariance Type:</th>      <td>nonrobust</td>    <th>                     </th>     <td> </td>   \n",
              "</tr>\n",
              "</table>\n",
              "<table class=\"simpletable\">\n",
              "<tr>\n",
              "      <td></td>         <th>coef</th>     <th>std err</th>      <th>t</th>      <th>P>|t|</th>  <th>[0.025</th>    <th>0.975]</th>  \n",
              "</tr>\n",
              "<tr>\n",
              "  <th>Intercept</th> <td>   28.2712</td> <td>    0.190</td> <td>  148.761</td> <td> 0.000</td> <td>   27.892</td> <td>   28.650</td>\n",
              "</tr>\n",
              "<tr>\n",
              "  <th>x_vals</th>    <td>   -4.2809</td> <td>    0.046</td> <td>  -93.485</td> <td> 0.000</td> <td>   -4.372</td> <td>   -4.190</td>\n",
              "</tr>\n",
              "</table>\n",
              "<table class=\"simpletable\">\n",
              "<tr>\n",
              "  <th>Omnibus:</th>       <td>11.438</td> <th>  Durbin-Watson:     </th> <td>   0.033</td>\n",
              "</tr>\n",
              "<tr>\n",
              "  <th>Prob(Omnibus):</th> <td> 0.003</td> <th>  Jarque-Bera (JB):  </th> <td>  11.690</td>\n",
              "</tr>\n",
              "<tr>\n",
              "  <th>Skew:</th>          <td>-0.941</td> <th>  Prob(JB):          </th> <td> 0.00289</td>\n",
              "</tr>\n",
              "<tr>\n",
              "  <th>Kurtosis:</th>      <td> 3.640</td> <th>  Cond. No.          </th> <td>    54.4</td>\n",
              "</tr>\n",
              "</table><br/><br/>Warnings:<br/>[1] Standard Errors assume that the covariance matrix of the errors is correctly specified."
            ],
            "text/plain": [
              "<class 'statsmodels.iolib.summary.Summary'>\n",
              "\"\"\"\n",
              "                            OLS Regression Results                            \n",
              "==============================================================================\n",
              "Dep. Variable:                 y_vals   R-squared:                       0.992\n",
              "Model:                            OLS   Adj. R-squared:                  0.992\n",
              "Method:                 Least Squares   F-statistic:                     8740.\n",
              "Date:                Fri, 17 Dec 2021   Prob (F-statistic):           2.11e-74\n",
              "Time:                        00:31:35   Log-Likelihood:                 45.537\n",
              "No. Observations:                  71   AIC:                            -87.07\n",
              "Df Residuals:                      69   BIC:                            -82.55\n",
              "Df Model:                           1                                         \n",
              "Covariance Type:            nonrobust                                         \n",
              "==============================================================================\n",
              "                 coef    std err          t      P>|t|      [0.025      0.975]\n",
              "------------------------------------------------------------------------------\n",
              "Intercept     28.2712      0.190    148.761      0.000      27.892      28.650\n",
              "x_vals        -4.2809      0.046    -93.485      0.000      -4.372      -4.190\n",
              "==============================================================================\n",
              "Omnibus:                       11.438   Durbin-Watson:                   0.033\n",
              "Prob(Omnibus):                  0.003   Jarque-Bera (JB):               11.690\n",
              "Skew:                          -0.941   Prob(JB):                      0.00289\n",
              "Kurtosis:                       3.640   Cond. No.                         54.4\n",
              "==============================================================================\n",
              "\n",
              "Warnings:\n",
              "[1] Standard Errors assume that the covariance matrix of the errors is correctly specified.\n",
              "\"\"\""
            ]
          },
          "metadata": {},
          "execution_count": 47
        }
      ]
    },
    {
      "cell_type": "code",
      "source": [
        "# Simple example on latimes, 2015, we can see that the median and mean only differ by 3\n",
        "latimes_2015 = load_csv_to_df(2015, \"latimes.com\")\n",
        "latimes_2015[\"quote_length\"].describe()"
      ],
      "metadata": {
        "id": "x1IWbgRaqGM7",
        "colab": {
          "base_uri": "https://localhost:8080/"
        },
        "outputId": "c5026edc-2dbf-4754-cbc7-5bbb0e6fb48e"
      },
      "id": "x1IWbgRaqGM7",
      "execution_count": null,
      "outputs": [
        {
          "output_type": "execute_result",
          "data": {
            "text/plain": [
              "count    152197.000000\n",
              "mean         18.232041\n",
              "std          13.306025\n",
              "min           2.000000\n",
              "25%           9.000000\n",
              "50%          15.000000\n",
              "75%          23.000000\n",
              "max         368.000000\n",
              "Name: quote_length, dtype: float64"
            ]
          },
          "metadata": {},
          "execution_count": 48
        }
      ]
    },
    {
      "cell_type": "code",
      "source": [
        "# Plot for the quote's length\n",
        "path = drive+\"/Distribution_plot/\"+'all_years_counts_quote_length.csv'\n",
        "data_len = pd.read_csv(path)\n",
        "_, axes = plt.subplots(2,1,figsize=(14,12))\n",
        "sns.barplot(x=\"length\", y=\"occurence\", data=data_len, palette=\"YlOrBr\", ax=axes[0])\n",
        "axes[0].set(title=\"Distribution of quotes' length : Lin-Log axes\", xlabel=\"Quote length\", ylabel=\"Occurence\")\n",
        "# Reduce the number of x-ticks of 10%  \n",
        "for ind, label in enumerate(axes[0].get_xticklabels()):\n",
        "    if ind % 30 == 0:  # every 30th label is kept\n",
        "        label.set_visible(True)\n",
        "    else:\n",
        "        label.set_visible(False)\n",
        "\n",
        "axes[0].set_yticklabels(axes[0].get_yticks(), size = 12)\n",
        "axes[0].set_yscale(\"log\")\n",
        "\n",
        "# Plot for the quote's compound sentiment \n",
        "path = drive+\"/Distribution_plot/\"+'all_years_counts_quote_compound.csv'\n",
        "data_com = pd.read_csv(path)\n",
        "#_, ax2 = plt.subplots(figsize=(9,6))\n",
        "sns.barplot(x=\"compound\", y=\"occurence\", data=data_com, palette=\"coolwarm\", ax=axes[1])\n",
        "axes[1].set(title=\"Distribution of quotes' compound sentiment : Lin-Log axes\", xlabel=\"Compound sentiment\", ylabel=\"Occurence\")\n",
        "# Reduce the number of x-ticks of 10%  \n",
        "for ind, label in enumerate(axes[1].get_xticklabels()):\n",
        "    if ind % 5 == 0:  # every 5th label is kept\n",
        "        label.set_visible(True)\n",
        "    else:\n",
        "        label.set_visible(False)\n",
        "axes[1].set_yticklabels(axes[1].get_yticks(), size = 12)\n",
        "axes[1].set_yscale(\"log\")"
      ],
      "metadata": {
        "colab": {
          "base_uri": "https://localhost:8080/",
          "height": 730
        },
        "id": "1m9LVvCpLhfi",
        "outputId": "5ff33693-af8a-419a-e17f-71dc6574cfae"
      },
      "execution_count": null,
      "outputs": [
        {
          "output_type": "display_data",
          "data": {
            "image/png": "[encoded data removed]",
            "text/plain": [
              "<Figure size 1008x864 with 2 Axes>"
            ]
          },
          "metadata": {
            "needs_background": "light"
          }
        }
      ],
      "id": "1m9LVvCpLhfi"
    },
    {
      "cell_type": "code",
      "source": [
        "# Distribution plot of quote length per year with a slider\n",
        "fig = go.Figure()\n",
        "fig.update_layout(\n",
        "    title=\"Quote length distribution for year (Lin-Log axes): 2015\",\n",
        "    title_x=0.5,\n",
        ")\n",
        "# Add traces, one for each slider step\n",
        "for year in list_years:\n",
        "  # Load the data\n",
        "  path = drive+\"/Distribution_plot/\"+str(year)+'_counts_quote_length.csv'\n",
        "  data_len = pd.read_csv(path)\n",
        "  data_len.columns = [\"length\", \"occurence\"]\n",
        "  # Plot the data  \n",
        "  fig.add_trace(\n",
        "      go.Bar(\n",
        "          visible=False,\n",
        "          name=\"Year = \" + str(year),\n",
        "          x=data_len[\"length\"],\n",
        "          y=data_len[\"occurence\"]))\n",
        "  #fig.update_yaxes(title_text=\"y-axis in logarithmic scale\", type=\"log\", row=1, col=2)\n",
        "  fig.update_yaxes(type=\"log\")\n",
        "\n",
        "# Make 10th trace visible\n",
        "fig.data[2].visible = True\n",
        "\n",
        "# Create and add slider\n",
        "steps = []\n",
        "#for i in range(len(fig.data)):\n",
        "for i, year in enumerate(list_years):\n",
        "    step = dict(\n",
        "        method=\"update\",\n",
        "        args=[{\"visible\": [False] * len(fig.data)},\n",
        "              {\"title\": \"Quote length distribution for year (Lin-Log axes): \" + str(year)}],\n",
        "        label = str(year),\n",
        "    )\n",
        "    step[\"args\"][0][\"visible\"][i] = True  # Toggle i'th trace to \"visible\"\n",
        "    steps.append(step)\n",
        "\n",
        "sliders = [dict(\n",
        "    active=10,\n",
        "    currentvalue={\"prefix\": \"Year: \"},\n",
        "    pad={\"t\": 50},\n",
        "    steps=steps\n",
        ")]\n",
        "\n",
        "fig.update_layout(\n",
        "    xaxis_title=\"Mean quote length\",\n",
        "    yaxis_title=\"Occurence (Log scale)\",\n",
        "    sliders=sliders\n",
        ")\n",
        "\n",
        "fig.show()\n",
        "fig.write_html(drive+\"plotly html/E_0.html\")"
      ],
      "metadata": {
        "colab": {
          "base_uri": "https://localhost:8080/",
          "height": 542
        },
        "id": "5Gr-V3o_XMu_",
        "outputId": "a14eb122-50fe-43bf-b34d-9528045650f8"
      },
      "execution_count": null,
      "outputs": [
        {
          "output_type": "display_data",
          "data": {
            "text/html": [
              "<html>\n",
              "<head><meta charset=\"utf-8\" /></head>\n",
              "<body>\n",
              "    <div>            <script src=\"https://cdnjs.cloudflare.com/ajax/libs/mathjax/2.7.5/MathJax.js?config=TeX-AMS-MML_SVG\"></script><script type=\"text/javascript\">if (window.MathJax) {MathJax.Hub.Config({SVG: {font: \"STIX-Web\"}});}</script>                <script type=\"text/javascript\">window.PlotlyConfig = {MathJaxConfig: 'local'};</script>\n",
              "        <script src=\"https://cdn.plot.ly/plotly-2.6.3.min.js\"></script>                <div id=\"a5aeb445-82f7-43f9-8913-2cea161ca9b7\" class=\"plotly-graph-div\" style=\"height:525px; width:100%;\"></div>            <script type=\"text/javascript\">                                    window.PLOTLYENV=window.PLOTLYENV || {};                                    if (document.getElementById(\"a5aeb445-82f7-43f9-8913-2cea161ca9b7\")) {                    Plotly.newPlot(                        \"a5aeb445-82f7-43f9-8913-2cea161ca9b7\",                        [{\"name\":\"Year = 2015\",\"visible\":false,\"x\":[1.0,2.0,3.0,4.0,5.0,6.0,7.0,8.0,9.0,10.0,11.0,12.0,13.0,14.0,15.0,16.0,17.0,18.0,19.0,20.0,21.0,22.0,23.0,24.0,25.0,26.0,27.0,28.0,29.0,30.0,31.0,32.0,33.0,34.0,35.0,36.0,37.0,38.0,39.0,40.0,41.0,42.0,43.0,44.0,45.0,46.0,47.0,48.0,49.0,50.0,51.0,52.0,53.0,54.0,55.0,56.0,57.0,58.0,59.0,60.0,61.0,62.0,63.0,64.0,65.0,66.0,67.0,68.0,69.0,70.0,71.0,72.0,73.0,74.0,75.0,76.0,77.0,78.0,79.0,80.0,81.0,82.0,83.0,84.0,85.0,86.0,87.0,88.0,89.0,90.0,91.0,92.0,93.0,94.0,95.0,96.0,97.0,98.0,99.0,100.0,101.0,102.0,103.0,104.0,105.0,106.0,107.0,108.0,109.0,110.0,111.0,112.0,113.0,114.0,115.0,116.0,117.0,118.0,119.0,120.0,121.0,122.0,123.0,124.0,125.0,126.0,127.0,128.0,129.0,130.0,131.0,132.0,133.0,134.0,135.0,136.0,137.0,138.0,139.0,140.0,141.0,142.0,143.0,144.0,145.0,146.0,147.0,148.0,149.0,150.0,151.0,152.0,153.0,154.0,155.0,156.0,157.0,158.0,159.0,160.0,161.0,162.0,163.0,164.0,165.0,166.0,167.0,168.0,169.0,170.0,171.0,172.0,173.0,174.0,175.0,176.0,177.0,178.0,179.0,180.0,181.0,182.0,183.0,184.0,185.0,186.0,187.0,188.0,189.0,190.0,191.0,192.0,193.0,194.0,195.0,196.0,197.0,198.0,199.0,200.0,201.0,202.0,203.0,204.0,205.0,206.0,207.0,208.0,209.0,210.0,211.0,212.0,213.0,214.0,215.0,216.0,217.0,218.0,219.0,220.0,221.0,222.0,223.0,224.0,225.0,226.0,227.0,228.0,229.0,230.0,231.0,232.0,233.0,234.0,235.0,236.0,237.0,238.0,239.0,240.0,241.0,242.0,243.0,244.0,245.0,246.0,247.0,248.0,249.0,250.0,251.0,252.0,253.0,254.0,255.0,256.0,257.0,258.0,259.0,260.0,261.0,262.0,263.0,264.0,265.0,266.0,267.0,268.0,269.0,270.0,271.0,272.0,273.0,274.0,275.0,276.0,277.0,278.0,279.0,280.0,281.0,282.0,283.0,284.0,285.0,286.0,287.0,288.0,289.0,290.0,291.0,292.0,293.0,294.0,295.0,296.0,297.0,298.0,299.0,300.0,301.0,302.0,303.0,304.0,305.0,306.0,307.0,308.0,309.0,310.0,311.0,312.0,313.0,314.0,315.0,316.0,317.0,318.0,319.0,320.0,321.0,322.0,323.0,324.0,325.0,326.0,327.0,328.0,329.0,330.0,331.0,332.0,333.0,334.0,335.0,336.0,337.0,338.0,339.0,340.0,341.0,342.0,343.0,344.0,345.0,346.0,347.0,348.0,349.0,350.0,351.0,352.0,353.0,354.0,355.0,356.0,357.0,358.0,360.0,361.0,362.0,363.0,364.0,365.0,366.0,367.0,368.0,369.0,370.0,371.0,372.0,373.0,374.0,375.0,376.0,377.0,378.0,379.0,380.0,381.0,382.0,383.0,384.0,385.0,386.0,387.0,388.0,389.0,390.0,391.0,392.0,393.0,394.0,395.0,396.0,397.0,398.0,399.0,400.0,401.0,402.0,403.0,404.0,405.0,406.0,407.0,408.0,409.0,410.0,411.0,412.0,413.0,414.0,415.0,417.0,418.0,419.0,422.0,424.0,425.0,426.0,427.0,428.0,429.0,430.0,431.0,432.0,433.0,434.0,435.0,436.0,437.0,438.0,440.0,442.0,447.0,454.0,459.0],\"y\":[28.0,506.0,8828.0,111168.0,207600.0,227260.0,232451.0,234866.0,234080.0,229006.0,224731.0,218805.0,214870.0,208189.0,202795.0,196090.0,189020.0,182998.0,173971.0,167083.0,159843.0,152085.0,145745.0,137280.0,129039.0,122169.0,113970.0,106554.0,99343.0,91971.0,86698.0,79501.0,75204.0,68328.0,63672.0,58883.0,54901.0,50690.0,46462.0,42565.0,39700.0,36166.0,33336.0,31099.0,28169.0,26402.0,24131.0,22230.0,21015.0,18997.0,17179.0,16008.0,15065.0,13741.0,12998.0,11717.0,10885.0,10190.0,9658.0,8915.0,8068.0,7800.0,7027.0,6556.0,6258.0,5800.0,5332.0,4995.0,4703.0,4341.0,4128.0,3896.0,3689.0,3333.0,3141.0,2807.0,2722.0,2557.0,2462.0,2272.0,2188.0,2014.0,1918.0,1951.0,1688.0,1706.0,1568.0,1493.0,1414.0,1303.0,1291.0,1197.0,1160.0,1104.0,1078.0,994.0,976.0,920.0,850.0,788.0,727.0,708.0,664.0,643.0,627.0,578.0,556.0,495.0,492.0,509.0,448.0,463.0,477.0,428.0,406.0,404.0,345.0,364.0,342.0,349.0,294.0,289.0,296.0,282.0,278.0,254.0,273.0,245.0,208.0,228.0,225.0,194.0,216.0,217.0,204.0,176.0,178.0,182.0,146.0,177.0,173.0,146.0,133.0,168.0,124.0,132.0,149.0,122.0,110.0,151.0,123.0,127.0,96.0,112.0,131.0,125.0,102.0,90.0,85.0,96.0,90.0,105.0,99.0,79.0,77.0,65.0,80.0,77.0,89.0,52.0,67.0,89.0,52.0,55.0,66.0,57.0,66.0,49.0,62.0,66.0,51.0,51.0,51.0,44.0,44.0,50.0,38.0,43.0,71.0,44.0,47.0,28.0,45.0,36.0,39.0,38.0,41.0,35.0,22.0,29.0,40.0,32.0,29.0,38.0,28.0,32.0,29.0,20.0,29.0,19.0,26.0,28.0,22.0,35.0,16.0,22.0,18.0,26.0,15.0,20.0,16.0,32.0,23.0,33.0,17.0,21.0,21.0,15.0,9.0,21.0,26.0,18.0,24.0,26.0,7.0,20.0,13.0,16.0,10.0,16.0,23.0,17.0,15.0,18.0,21.0,14.0,13.0,21.0,22.0,19.0,18.0,15.0,18.0,17.0,20.0,16.0,12.0,11.0,22.0,7.0,9.0,14.0,7.0,10.0,13.0,10.0,10.0,8.0,16.0,6.0,9.0,6.0,8.0,2.0,20.0,4.0,17.0,7.0,12.0,12.0,7.0,9.0,7.0,10.0,10.0,4.0,1.0,7.0,5.0,5.0,7.0,3.0,10.0,8.0,8.0,7.0,14.0,6.0,7.0,6.0,11.0,4.0,6.0,6.0,8.0,5.0,6.0,5.0,8.0,3.0,9.0,4.0,4.0,5.0,9.0,14.0,10.0,1.0,6.0,8.0,5.0,7.0,4.0,5.0,7.0,2.0,7.0,6.0,5.0,7.0,8.0,2.0,4.0,11.0,2.0,7.0,2.0,2.0,6.0,11.0,4.0,13.0,5.0,4.0,7.0,10.0,3.0,1.0,5.0,4.0,2.0,6.0,6.0,1.0,19.0,6.0,4.0,7.0,12.0,6.0,5.0,5.0,3.0,2.0,5.0,3.0,2.0,2.0,6.0,4.0,10.0,4.0,4.0,2.0,6.0,2.0,3.0,6.0,3.0,1.0,5.0,3.0,9.0,11.0,3.0,2.0,9.0,6.0,5.0,7.0,5.0,3.0,3.0,7.0,3.0,8.0,6.0,3.0,3.0,7.0,2.0,10.0,4.0,16.0,5.0,10.0,2.0,1.0,3.0,2.0,8.0,1.0,4.0,5.0,2.0,1.0,2.0,3.0,4.0,5.0,1.0,2.0,8.0,1.0,4.0,7.0,2.0,4.0,2.0,3.0,2.0,3.0,1.0,1.0,2.0,1.0,1.0,1.0],\"type\":\"bar\"},{\"name\":\"Year = 2016\",\"visible\":false,\"x\":[1.0,2.0,3.0,4.0,5.0,6.0,7.0,8.0,9.0,10.0,11.0,12.0,13.0,14.0,15.0,16.0,17.0,18.0,19.0,20.0,21.0,22.0,23.0,24.0,25.0,26.0,27.0,28.0,29.0,30.0,31.0,32.0,33.0,34.0,35.0,36.0,37.0,38.0,39.0,40.0,41.0,42.0,43.0,44.0,45.0,46.0,47.0,48.0,49.0,50.0,51.0,52.0,53.0,54.0,55.0,56.0,57.0,58.0,59.0,60.0,61.0,62.0,63.0,64.0,65.0,66.0,67.0,68.0,69.0,70.0,71.0,72.0,73.0,74.0,75.0,76.0,77.0,78.0,79.0,80.0,81.0,82.0,83.0,84.0,85.0,86.0,87.0,88.0,89.0,90.0,91.0,92.0,93.0,94.0,95.0,96.0,97.0,98.0,99.0,100.0,101.0,102.0,103.0,104.0,105.0,106.0,107.0,108.0,109.0,110.0,111.0,112.0,113.0,114.0,115.0,116.0,117.0,118.0,119.0,120.0,121.0,122.0,123.0,124.0,125.0,126.0,127.0,128.0,129.0,130.0,131.0,132.0,133.0,134.0,135.0,136.0,137.0,138.0,139.0,140.0,141.0,142.0,143.0,144.0,145.0,146.0,147.0,148.0,149.0,150.0,151.0,152.0,153.0,154.0,155.0,156.0,157.0,158.0,159.0,160.0,161.0,162.0,163.0,164.0,165.0,166.0,167.0,168.0,169.0,170.0,171.0,172.0,173.0,174.0,175.0,176.0,177.0,178.0,179.0,180.0,181.0,182.0,183.0,184.0,185.0,186.0,187.0,188.0,189.0,190.0,191.0,192.0,193.0,194.0,195.0,196.0,197.0,198.0,199.0,200.0,201.0,202.0,203.0,204.0,205.0,206.0,207.0,208.0,209.0,210.0,211.0,212.0,213.0,214.0,215.0,216.0,217.0,218.0,219.0,220.0,221.0,222.0,223.0,224.0,225.0,226.0,227.0,228.0,229.0,230.0,231.0,232.0,233.0,234.0,235.0,236.0,237.0,238.0,239.0,240.0,241.0,242.0,243.0,244.0,245.0,246.0,247.0,248.0,249.0,250.0,251.0,252.0,253.0,254.0,255.0,256.0,257.0,258.0,259.0,260.0,261.0,262.0,263.0,264.0,265.0,266.0,267.0,268.0,269.0,270.0,271.0,272.0,273.0,274.0,275.0,276.0,277.0,278.0,279.0,280.0,281.0,282.0,283.0,284.0,285.0,286.0,287.0,288.0,289.0,290.0,291.0,292.0,293.0,294.0,295.0,296.0,297.0,298.0,299.0,300.0,301.0,302.0,303.0,304.0,305.0,306.0,307.0,308.0,309.0,310.0,311.0,312.0,313.0,314.0,315.0,316.0,317.0,318.0,319.0,320.0,321.0,322.0,323.0,324.0,325.0,326.0,327.0,328.0,329.0,330.0,331.0,332.0,333.0,334.0,335.0,336.0,337.0,338.0,339.0,340.0,341.0,342.0,343.0,344.0,345.0,346.0,347.0,348.0,349.0,350.0,351.0,352.0,353.0,354.0,355.0,356.0,357.0,358.0,359.0,360.0,361.0,362.0,363.0,364.0,366.0,367.0,368.0,370.0,371.0,372.0,373.0,374.0,375.0,376.0,378.0,379.0,380.0,381.0,382.0,383.0,384.0,385.0,386.0,387.0,389.0,390.0,391.0,392.0,393.0,394.0,395.0,396.0,397.0,398.0,399.0,400.0,401.0,402.0,403.0,404.0,405.0,406.0,407.0,408.0,409.0,410.0,411.0,412.0,414.0,415.0,416.0,417.0,418.0,419.0,421.0,422.0,424.0,425.0,426.0,427.0,428.0,429.0,430.0,431.0,432.0,433.0,434.0,435.0,437.0,438.0,440.0,441.0,443.0,444.0,470.0,471.0],\"y\":[35.0,433.0,7521.0,84055.0,158543.0,173170.0,178404.0,179442.0,177386.0,175734.0,170569.0,165677.0,161036.0,155809.0,151771.0,146250.0,141508.0,137317.0,131703.0,126110.0,120003.0,115111.0,109447.0,104552.0,97191.0,91175.0,85450.0,80529.0,75221.0,70648.0,65327.0,61156.0,56474.0,52572.0,49073.0,44839.0,41398.0,38165.0,35789.0,32958.0,30474.0,28343.0,25472.0,23604.0,21372.0,20356.0,18437.0,17275.0,15861.0,14400.0,13338.0,12212.0,11715.0,10790.0,9749.0,9109.0,8391.0,7800.0,7333.0,6974.0,6366.0,6127.0,5311.0,5035.0,4759.0,4482.0,4136.0,3808.0,3543.0,3386.0,3024.0,2820.0,2828.0,2536.0,2423.0,2155.0,2070.0,1814.0,1967.0,1742.0,1554.0,1572.0,1415.0,1372.0,1332.0,1245.0,1155.0,951.0,1061.0,992.0,906.0,913.0,806.0,776.0,770.0,676.0,623.0,645.0,591.0,530.0,550.0,477.0,508.0,415.0,455.0,413.0,365.0,392.0,340.0,343.0,340.0,301.0,288.0,297.0,306.0,245.0,248.0,246.0,221.0,208.0,188.0,180.0,219.0,186.0,218.0,185.0,147.0,160.0,147.0,135.0,144.0,134.0,146.0,119.0,122.0,119.0,119.0,118.0,96.0,103.0,103.0,104.0,79.0,97.0,88.0,86.0,105.0,77.0,62.0,72.0,76.0,65.0,60.0,93.0,58.0,64.0,60.0,49.0,56.0,60.0,48.0,68.0,44.0,52.0,46.0,53.0,29.0,47.0,44.0,52.0,38.0,46.0,46.0,44.0,33.0,29.0,44.0,30.0,30.0,30.0,35.0,28.0,31.0,27.0,26.0,29.0,30.0,15.0,24.0,20.0,12.0,17.0,18.0,20.0,22.0,22.0,18.0,23.0,20.0,18.0,11.0,16.0,10.0,12.0,15.0,17.0,15.0,7.0,15.0,17.0,9.0,14.0,21.0,15.0,14.0,14.0,8.0,21.0,14.0,9.0,13.0,7.0,15.0,12.0,12.0,23.0,6.0,8.0,6.0,21.0,14.0,9.0,6.0,15.0,6.0,7.0,6.0,8.0,9.0,11.0,14.0,6.0,5.0,10.0,11.0,8.0,5.0,10.0,17.0,9.0,5.0,15.0,9.0,7.0,6.0,5.0,6.0,8.0,4.0,7.0,11.0,4.0,6.0,3.0,6.0,5.0,12.0,11.0,2.0,3.0,3.0,23.0,5.0,6.0,7.0,10.0,27.0,5.0,12.0,3.0,11.0,4.0,6.0,4.0,8.0,3.0,7.0,4.0,1.0,4.0,6.0,1.0,1.0,13.0,3.0,1.0,5.0,4.0,2.0,3.0,10.0,21.0,8.0,3.0,7.0,6.0,8.0,7.0,7.0,8.0,5.0,17.0,3.0,7.0,2.0,7.0,6.0,3.0,4.0,2.0,4.0,13.0,4.0,6.0,5.0,1.0,7.0,3.0,9.0,4.0,6.0,4.0,1.0,4.0,7.0,9.0,3.0,2.0,4.0,4.0,1.0,2.0,2.0,5.0,5.0,2.0,13.0,4.0,3.0,5.0,12.0,4.0,2.0,3.0,1.0,8.0,5.0,7.0,4.0,5.0,3.0,4.0,5.0,3.0,1.0,1.0,3.0,8.0,1.0,1.0,2.0,4.0,3.0,4.0,3.0,15.0,1.0,7.0,3.0,1.0,1.0,4.0,3.0,4.0,4.0,2.0,6.0,5.0,6.0,2.0,3.0,5.0,18.0,6.0,6.0,2.0,6.0,2.0,3.0,1.0,5.0,1.0,2.0,3.0,3.0,5.0,5.0,3.0,5.0,2.0,2.0,1.0,6.0,3.0,6.0,2.0,4.0,1.0,2.0,1.0,1.0,3.0,3.0,3.0,7.0,2.0,2.0,6.0,2.0,3.0,1.0,5.0,2.0,1.0,1.0,1.0],\"type\":\"bar\"},{\"name\":\"Year = 2017\",\"visible\":true,\"x\":[1.0,2.0,3.0,4.0,5.0,6.0,7.0,8.0,9.0,10.0,11.0,12.0,13.0,14.0,15.0,16.0,17.0,18.0,19.0,20.0,21.0,22.0,23.0,24.0,25.0,26.0,27.0,28.0,29.0,30.0,31.0,32.0,33.0,34.0,35.0,36.0,37.0,38.0,39.0,40.0,41.0,42.0,43.0,44.0,45.0,46.0,47.0,48.0,49.0,50.0,51.0,52.0,53.0,54.0,55.0,56.0,57.0,58.0,59.0,60.0,61.0,62.0,63.0,64.0,65.0,66.0,67.0,68.0,69.0,70.0,71.0,72.0,73.0,74.0,75.0,76.0,77.0,78.0,79.0,80.0,81.0,82.0,83.0,84.0,85.0,86.0,87.0,88.0,89.0,90.0,91.0,92.0,93.0,94.0,95.0,96.0,97.0,98.0,99.0,100.0,101.0,102.0,103.0,104.0,105.0,106.0,107.0,108.0,109.0,110.0,111.0,112.0,113.0,114.0,115.0,116.0,117.0,118.0,119.0,120.0,121.0,122.0,123.0,124.0,125.0,126.0,127.0,128.0,129.0,130.0,131.0,132.0,133.0,134.0,135.0,136.0,137.0,138.0,139.0,140.0,141.0,142.0,143.0,144.0,145.0,146.0,147.0,148.0,149.0,150.0,151.0,152.0,153.0,154.0,155.0,156.0,157.0,158.0,159.0,160.0,161.0,162.0,163.0,164.0,165.0,166.0,167.0,168.0,169.0,170.0,171.0,172.0,173.0,174.0,175.0,176.0,177.0,178.0,179.0,180.0,181.0,182.0,183.0,184.0,185.0,186.0,187.0,188.0,189.0,190.0,191.0,192.0,193.0,194.0,195.0,196.0,197.0,198.0,199.0,200.0,201.0,202.0,203.0,204.0,205.0,206.0,207.0,208.0,209.0,210.0,211.0,212.0,213.0,214.0,215.0,216.0,217.0,218.0,219.0,220.0,221.0,222.0,223.0,224.0,225.0,226.0,227.0,228.0,229.0,230.0,231.0,232.0,233.0,234.0,235.0,236.0,237.0,238.0,239.0,240.0,241.0,242.0,243.0,244.0,245.0,246.0,247.0,248.0,249.0,250.0,251.0,252.0,253.0,254.0,255.0,256.0,257.0,258.0,259.0,260.0,261.0,262.0,263.0,264.0,265.0,266.0,267.0,268.0,269.0,270.0,271.0,272.0,273.0,274.0,275.0,276.0,277.0,278.0,279.0,280.0,281.0,282.0,283.0,284.0,285.0,286.0,287.0,288.0,289.0,290.0,291.0,292.0,293.0,294.0,295.0,296.0,297.0,298.0,299.0,300.0,301.0,302.0,303.0,304.0,305.0,306.0,307.0,308.0,309.0,310.0,311.0,312.0,313.0,314.0,315.0,316.0,317.0,318.0,319.0,320.0,321.0,322.0,323.0,324.0,325.0,326.0,327.0,328.0,329.0,330.0,331.0,332.0,333.0,334.0,335.0,336.0,337.0,338.0,339.0,340.0,341.0,342.0,343.0,344.0,345.0,346.0,347.0,348.0,349.0,350.0,351.0,352.0,353.0,354.0,355.0,356.0,357.0,358.0,359.0,360.0,361.0,362.0,363.0,364.0,365.0,366.0,368.0,370.0,371.0,372.0,373.0,374.0,375.0,376.0,377.0,378.0,379.0,380.0,381.0,382.0,383.0,385.0,386.0,387.0,388.0,389.0,390.0,391.0,392.0,393.0,394.0,395.0,396.0,397.0,398.0,399.0,400.0,401.0,402.0,403.0,404.0,405.0,406.0,407.0,408.0,409.0,410.0,411.0,412.0,413.0,414.0,415.0,416.0,417.0,418.0,419.0,420.0,421.0,422.0,423.0,424.0,425.0,426.0,427.0,428.0,429.0,430.0,431.0,432.0,433.0,434.0,435.0,436.0,437.0,438.0,439.0,442.0,443.0,444.0,446.0,447.0,448.0,449.0,450.0,453.0,454.0,456.0,457.0,458.0,462.0,464.0,472.0,473.0,476.0,477.0],\"y\":[70.0,900.0,13387.0,147703.0,280652.0,308912.0,318503.0,320533.0,317319.0,310400.0,300690.0,296636.0,284553.0,276431.0,266349.0,260219.0,250123.0,240960.0,232780.0,224869.0,215056.0,204868.0,193470.0,184152.0,172153.0,162153.0,151430.0,141326.0,133015.0,123808.0,116138.0,108048.0,100568.0,95195.0,88137.0,83108.0,74631.0,69689.0,64591.0,59464.0,55061.0,50388.0,46538.0,43235.0,39928.0,36526.0,33409.0,31588.0,28449.0,26323.0,24013.0,22425.0,20814.0,19534.0,17731.0,16536.0,15304.0,14180.0,13289.0,12316.0,11115.0,10504.0,10023.0,9001.0,8748.0,8028.0,7485.0,7149.0,6747.0,6286.0,5732.0,5343.0,4934.0,4745.0,4483.0,4207.0,3911.0,3710.0,3551.0,3255.0,3055.0,2979.0,2715.0,2539.0,2568.0,2350.0,2120.0,2058.0,1842.0,1850.0,1819.0,1626.0,1623.0,1528.0,1458.0,1367.0,1227.0,1112.0,1130.0,1119.0,1007.0,1034.0,982.0,937.0,817.0,799.0,821.0,748.0,742.0,646.0,624.0,647.0,556.0,582.0,534.0,502.0,542.0,480.0,493.0,426.0,424.0,381.0,367.0,402.0,333.0,328.0,352.0,297.0,276.0,274.0,268.0,251.0,273.0,244.0,233.0,219.0,229.0,221.0,193.0,225.0,182.0,201.0,145.0,187.0,173.0,174.0,178.0,154.0,158.0,199.0,192.0,142.0,136.0,145.0,110.0,125.0,120.0,141.0,135.0,114.0,131.0,134.0,111.0,94.0,66.0,87.0,95.0,90.0,75.0,63.0,78.0,84.0,74.0,71.0,72.0,78.0,65.0,58.0,61.0,69.0,51.0,52.0,60.0,49.0,55.0,41.0,41.0,51.0,45.0,38.0,34.0,38.0,41.0,37.0,38.0,29.0,25.0,30.0,38.0,25.0,29.0,26.0,32.0,26.0,35.0,38.0,33.0,21.0,31.0,28.0,20.0,16.0,25.0,28.0,15.0,23.0,28.0,14.0,18.0,22.0,19.0,13.0,20.0,20.0,17.0,25.0,11.0,19.0,16.0,16.0,16.0,10.0,19.0,9.0,7.0,16.0,13.0,12.0,8.0,10.0,14.0,7.0,15.0,15.0,17.0,10.0,17.0,9.0,13.0,9.0,14.0,10.0,10.0,15.0,21.0,11.0,15.0,17.0,11.0,6.0,10.0,12.0,11.0,9.0,7.0,14.0,9.0,12.0,12.0,7.0,11.0,8.0,10.0,10.0,11.0,6.0,12.0,15.0,6.0,7.0,4.0,3.0,10.0,7.0,10.0,10.0,4.0,9.0,13.0,3.0,11.0,10.0,4.0,6.0,11.0,5.0,4.0,7.0,3.0,8.0,5.0,7.0,4.0,4.0,7.0,2.0,5.0,8.0,3.0,5.0,8.0,4.0,4.0,5.0,4.0,7.0,2.0,4.0,6.0,8.0,6.0,14.0,10.0,3.0,3.0,4.0,5.0,1.0,2.0,2.0,3.0,2.0,4.0,5.0,9.0,4.0,2.0,8.0,3.0,4.0,5.0,5.0,6.0,4.0,4.0,7.0,3.0,5.0,4.0,3.0,5.0,2.0,6.0,3.0,5.0,2.0,3.0,4.0,3.0,3.0,3.0,4.0,3.0,3.0,2.0,3.0,3.0,6.0,2.0,5.0,2.0,3.0,5.0,3.0,1.0,2.0,6.0,1.0,3.0,4.0,2.0,7.0,3.0,5.0,9.0,7.0,6.0,4.0,1.0,1.0,7.0,5.0,3.0,1.0,2.0,2.0,2.0,4.0,1.0,5.0,3.0,9.0,3.0,8.0,1.0,1.0,1.0,2.0,7.0,5.0,4.0,3.0,4.0,4.0,2.0,2.0,3.0,5.0,5.0,11.0,5.0,2.0,3.0,2.0,1.0,1.0,2.0,6.0,1.0,4.0,1.0,2.0,1.0,1.0,2.0,3.0,2.0,1.0,2.0,1.0,1.0,1.0,4.0,2.0,1.0,2.0,2.0,2.0,1.0,1.0,1.0,1.0,2.0,1.0,1.0],\"type\":\"bar\"},{\"name\":\"Year = 2018\",\"visible\":false,\"x\":[1.0,2.0,3.0,4.0,5.0,6.0,7.0,8.0,9.0,10.0,11.0,12.0,13.0,14.0,15.0,16.0,17.0,18.0,19.0,20.0,21.0,22.0,23.0,24.0,25.0,26.0,27.0,28.0,29.0,30.0,31.0,32.0,33.0,34.0,35.0,36.0,37.0,38.0,39.0,40.0,41.0,42.0,43.0,44.0,45.0,46.0,47.0,48.0,49.0,50.0,51.0,52.0,53.0,54.0,55.0,56.0,57.0,58.0,59.0,60.0,61.0,62.0,63.0,64.0,65.0,66.0,67.0,68.0,69.0,70.0,71.0,72.0,73.0,74.0,75.0,76.0,77.0,78.0,79.0,80.0,81.0,82.0,83.0,84.0,85.0,86.0,87.0,88.0,89.0,90.0,91.0,92.0,93.0,94.0,95.0,96.0,97.0,98.0,99.0,100.0,101.0,102.0,103.0,104.0,105.0,106.0,107.0,108.0,109.0,110.0,111.0,112.0,113.0,114.0,115.0,116.0,117.0,118.0,119.0,120.0,121.0,122.0,123.0,124.0,125.0,126.0,127.0,128.0,129.0,130.0,131.0,132.0,133.0,134.0,135.0,136.0,137.0,138.0,139.0,140.0,141.0,142.0,143.0,144.0,145.0,146.0,147.0,148.0,149.0,150.0,151.0,152.0,153.0,154.0,155.0,156.0,157.0,158.0,159.0,160.0,161.0,162.0,163.0,164.0,165.0,166.0,167.0,168.0,169.0,170.0,171.0,172.0,173.0,174.0,175.0,176.0,177.0,178.0,179.0,180.0,181.0,182.0,183.0,184.0,185.0,186.0,187.0,188.0,189.0,190.0,191.0,192.0,193.0,194.0,195.0,196.0,197.0,198.0,199.0,200.0,201.0,202.0,203.0,204.0,205.0,206.0,207.0,208.0,209.0,210.0,211.0,212.0,213.0,214.0,215.0,216.0,217.0,218.0,219.0,220.0,221.0,222.0,223.0,224.0,225.0,226.0,227.0,228.0,229.0,230.0,231.0,232.0,233.0,234.0,235.0,236.0,237.0,238.0,239.0,240.0,241.0,242.0,243.0,244.0,245.0,246.0,247.0,248.0,249.0,250.0,251.0,252.0,253.0,254.0,255.0,256.0,257.0,258.0,259.0,260.0,261.0,262.0,263.0,264.0,265.0,266.0,267.0,268.0,269.0,270.0,271.0,272.0,273.0,274.0,275.0,276.0,277.0,278.0,279.0,280.0,281.0,282.0,283.0,284.0,285.0,286.0,287.0,288.0,289.0,290.0,291.0,292.0,293.0,294.0,295.0,296.0,297.0,298.0,299.0,300.0,301.0,302.0,303.0,304.0,305.0,306.0,307.0,308.0,309.0,310.0,311.0,312.0,313.0,314.0,315.0,316.0,317.0,318.0,319.0,320.0,321.0,322.0,323.0,324.0,325.0,326.0,327.0,328.0,329.0,330.0,331.0,332.0,333.0,334.0,335.0,336.0,337.0,338.0,339.0,340.0,341.0,342.0,343.0,344.0,345.0,346.0,347.0,348.0,349.0,350.0,351.0,352.0,353.0,354.0,355.0,356.0,357.0,358.0,359.0,360.0,361.0,362.0,363.0,364.0,365.0,366.0,367.0,368.0,369.0,370.0,371.0,372.0,373.0,374.0,375.0,376.0,377.0,378.0,379.0,380.0,381.0,382.0,383.0,384.0,385.0,386.0,387.0,388.0,389.0,390.0,391.0,392.0,393.0,394.0,395.0,396.0,397.0,398.0,399.0,400.0,401.0,402.0,403.0,404.0,405.0,406.0,407.0,408.0,409.0,410.0,411.0,412.0,413.0,414.0,415.0,416.0,417.0,418.0,419.0,420.0,421.0,422.0,423.0,424.0,425.0,426.0,427.0,428.0,429.0,430.0,431.0,432.0,433.0,434.0,435.0,436.0,437.0,438.0,439.0,440.0,441.0,442.0,443.0,444.0,445.0,446.0,448.0,450.0,452.0,453.0,454.0,455.0,456.0,457.0,468.0,470.0,474.0,488.0],\"y\":[93.0,1065.0,14044.0,146192.0,289813.0,321094.0,331715.0,333946.0,330289.0,324703.0,315201.0,308992.0,296879.0,288918.0,279287.0,269898.0,262480.0,251536.0,243076.0,231730.0,221574.0,212243.0,202226.0,189901.0,180323.0,171747.0,161402.0,151907.0,141428.0,133159.0,124857.0,117169.0,109862.0,101222.0,94140.0,87698.0,80314.0,73861.0,69095.0,63858.0,58203.0,54283.0,49951.0,45808.0,42612.0,38833.0,36356.0,33277.0,30511.0,28225.0,25910.0,24275.0,21720.0,20252.0,18558.0,17161.0,16117.0,14781.0,13359.0,12475.0,11514.0,10406.0,9715.0,8878.0,8681.0,7871.0,7524.0,6833.0,6383.0,6102.0,5560.0,5233.0,5023.0,4550.0,4335.0,4011.0,3767.0,3607.0,3457.0,3117.0,2906.0,2678.0,2637.0,2491.0,2188.0,2194.0,1946.0,1884.0,1925.0,1720.0,1655.0,1635.0,1423.0,1374.0,1383.0,1322.0,1258.0,1148.0,1178.0,1061.0,1010.0,933.0,877.0,881.0,755.0,703.0,752.0,739.0,675.0,664.0,599.0,537.0,560.0,505.0,507.0,499.0,433.0,485.0,450.0,389.0,424.0,361.0,352.0,367.0,354.0,361.0,385.0,313.0,310.0,311.0,268.0,275.0,296.0,253.0,219.0,241.0,220.0,220.0,215.0,221.0,189.0,180.0,190.0,154.0,167.0,166.0,171.0,149.0,153.0,140.0,154.0,152.0,173.0,148.0,143.0,129.0,128.0,127.0,142.0,118.0,135.0,118.0,108.0,99.0,108.0,122.0,82.0,112.0,93.0,94.0,80.0,93.0,74.0,57.0,78.0,68.0,76.0,69.0,59.0,94.0,60.0,60.0,75.0,61.0,56.0,54.0,57.0,59.0,51.0,55.0,43.0,39.0,58.0,43.0,52.0,40.0,34.0,36.0,34.0,31.0,32.0,37.0,26.0,39.0,34.0,32.0,30.0,30.0,41.0,27.0,34.0,41.0,30.0,19.0,27.0,24.0,21.0,19.0,29.0,40.0,22.0,20.0,19.0,22.0,34.0,35.0,27.0,21.0,25.0,32.0,25.0,25.0,15.0,22.0,21.0,28.0,15.0,10.0,22.0,15.0,19.0,22.0,22.0,10.0,16.0,14.0,18.0,21.0,13.0,21.0,18.0,22.0,21.0,19.0,17.0,12.0,18.0,26.0,10.0,20.0,12.0,13.0,21.0,13.0,23.0,14.0,15.0,18.0,16.0,17.0,14.0,10.0,11.0,15.0,14.0,17.0,13.0,16.0,16.0,21.0,13.0,19.0,14.0,7.0,12.0,17.0,17.0,9.0,14.0,17.0,11.0,13.0,19.0,11.0,24.0,9.0,10.0,14.0,11.0,12.0,9.0,14.0,14.0,11.0,16.0,11.0,11.0,5.0,13.0,7.0,9.0,12.0,12.0,5.0,9.0,14.0,11.0,11.0,10.0,6.0,12.0,6.0,7.0,10.0,12.0,4.0,8.0,6.0,7.0,12.0,16.0,9.0,4.0,11.0,13.0,10.0,13.0,14.0,14.0,9.0,5.0,3.0,10.0,6.0,10.0,12.0,8.0,10.0,12.0,11.0,13.0,3.0,9.0,13.0,7.0,8.0,9.0,10.0,10.0,7.0,8.0,10.0,8.0,7.0,10.0,3.0,8.0,7.0,5.0,9.0,9.0,6.0,6.0,10.0,5.0,10.0,8.0,7.0,8.0,7.0,7.0,11.0,8.0,6.0,7.0,10.0,10.0,4.0,6.0,6.0,8.0,8.0,4.0,10.0,8.0,7.0,3.0,4.0,8.0,9.0,10.0,7.0,9.0,6.0,5.0,7.0,3.0,5.0,5.0,5.0,9.0,3.0,6.0,5.0,4.0,6.0,7.0,6.0,6.0,10.0,1.0,5.0,6.0,5.0,8.0,6.0,2.0,3.0,5.0,4.0,7.0,6.0,3.0,3.0,4.0,2.0,5.0,6.0,2.0,4.0,1.0,3.0,3.0,3.0,1.0,5.0,5.0,1.0,3.0,2.0,4.0,3.0,1.0,3.0,1.0,1.0,1.0,1.0],\"type\":\"bar\"},{\"name\":\"Year = 2019\",\"visible\":false,\"x\":[1.0,2.0,3.0,4.0,5.0,6.0,7.0,8.0,9.0,10.0,11.0,12.0,13.0,14.0,15.0,16.0,17.0,18.0,19.0,20.0,21.0,22.0,23.0,24.0,25.0,26.0,27.0,28.0,29.0,30.0,31.0,32.0,33.0,34.0,35.0,36.0,37.0,38.0,39.0,40.0,41.0,42.0,43.0,44.0,45.0,46.0,47.0,48.0,49.0,50.0,51.0,52.0,53.0,54.0,55.0,56.0,57.0,58.0,59.0,60.0,61.0,62.0,63.0,64.0,65.0,66.0,67.0,68.0,69.0,70.0,71.0,72.0,73.0,74.0,75.0,76.0,77.0,78.0,79.0,80.0,81.0,82.0,83.0,84.0,85.0,86.0,87.0,88.0,89.0,90.0,91.0,92.0,93.0,94.0,95.0,96.0,97.0,98.0,99.0,100.0,101.0,102.0,103.0,104.0,105.0,106.0,107.0,108.0,109.0,110.0,111.0,112.0,113.0,114.0,115.0,116.0,117.0,118.0,119.0,120.0,121.0,122.0,123.0,124.0,125.0,126.0,127.0,128.0,129.0,130.0,131.0,132.0,133.0,134.0,135.0,136.0,137.0,138.0,139.0,140.0,141.0,142.0,143.0,144.0,145.0,146.0,147.0,148.0,149.0,150.0,151.0,152.0,153.0,154.0,155.0,156.0,157.0,158.0,159.0,160.0,161.0,162.0,163.0,164.0,165.0,166.0,167.0,168.0,169.0,170.0,171.0,172.0,173.0,174.0,175.0,176.0,177.0,178.0,179.0,180.0,181.0,182.0,183.0,184.0,185.0,186.0,187.0,188.0,189.0,190.0,191.0,192.0,193.0,194.0,195.0,196.0,197.0,198.0,199.0,200.0,201.0,202.0,203.0,204.0,205.0,206.0,207.0,208.0,209.0,210.0,211.0,212.0,213.0,214.0,215.0,216.0,217.0,218.0,219.0,220.0,221.0,222.0,223.0,224.0,225.0,226.0,227.0,228.0,229.0,230.0,231.0,232.0,233.0,234.0,235.0,236.0,237.0,238.0,239.0,240.0,241.0,242.0,243.0,244.0,245.0,246.0,247.0,248.0,249.0,250.0,251.0,252.0,253.0,254.0,255.0,256.0,257.0,258.0,259.0,260.0,261.0,262.0,263.0,264.0,266.0,267.0,268.0,269.0,270.0,271.0,272.0,273.0,274.0,275.0,276.0,277.0,278.0,279.0,280.0,281.0,282.0,283.0,284.0,285.0,286.0,287.0,288.0,289.0,290.0,291.0,292.0,293.0,294.0,295.0,296.0,297.0,298.0,299.0,300.0,301.0,302.0,303.0,305.0,306.0,307.0,308.0,309.0,310.0,311.0,313.0,314.0,315.0,316.0,317.0,318.0,319.0,320.0,321.0,322.0,323.0,324.0,325.0,326.0,327.0,328.0,330.0,331.0,332.0,335.0,336.0,337.0,339.0,340.0,341.0,342.0,343.0,344.0,345.0,346.0,347.0,348.0,349.0,351.0,354.0,355.0,358.0,361.0,362.0,365.0,367.0,369.0,370.0,372.0,374.0,375.0,376.0,378.0,379.0,380.0,381.0,382.0,383.0,384.0,385.0,386.0,390.0,391.0,392.0,393.0,396.0,398.0,399.0,400.0,402.0,403.0,405.0,406.0,408.0,413.0,415.0,417.0,422.0,423.0,427.0,430.0,431.0,432.0,434.0,438.0,439.0,440.0,442.0,448.0,449.0,452.0],\"y\":[23.0,398.0,8758.0,103598.0,206914.0,234036.0,244878.0,251398.0,250979.0,246176.0,239626.0,235579.0,230944.0,222732.0,215541.0,210118.0,202192.0,197724.0,187634.0,179692.0,172453.0,165696.0,156874.0,150862.0,142184.0,133376.0,126544.0,118423.0,112230.0,105510.0,98202.0,92518.0,86177.0,79466.0,73732.0,69402.0,63676.0,59161.0,55201.0,50301.0,47323.0,43756.0,39857.0,37191.0,34189.0,31753.0,29132.0,27510.0,24851.0,22817.0,20707.0,19086.0,17939.0,16173.0,15238.0,13605.0,12649.0,11773.0,10896.0,9837.0,9314.0,8576.0,8121.0,7486.0,6807.0,6045.0,5828.0,5518.0,5172.0,4780.0,4442.0,4106.0,3773.0,3612.0,3366.0,3276.0,2820.0,2866.0,2634.0,2345.0,2248.0,2212.0,2008.0,1896.0,1807.0,1629.0,1569.0,1465.0,1515.0,1292.0,1229.0,1167.0,1114.0,1053.0,957.0,935.0,868.0,815.0,767.0,730.0,674.0,685.0,644.0,620.0,558.0,566.0,556.0,517.0,482.0,472.0,450.0,399.0,388.0,366.0,374.0,331.0,319.0,305.0,258.0,296.0,250.0,256.0,246.0,242.0,229.0,215.0,187.0,199.0,191.0,198.0,226.0,170.0,185.0,186.0,156.0,155.0,169.0,142.0,146.0,153.0,161.0,134.0,138.0,126.0,140.0,125.0,145.0,145.0,122.0,124.0,111.0,129.0,135.0,102.0,98.0,99.0,103.0,106.0,95.0,81.0,120.0,89.0,95.0,69.0,79.0,69.0,56.0,53.0,62.0,65.0,42.0,47.0,50.0,47.0,36.0,43.0,39.0,47.0,30.0,44.0,38.0,32.0,20.0,31.0,26.0,34.0,35.0,29.0,21.0,30.0,29.0,27.0,16.0,26.0,11.0,16.0,22.0,17.0,15.0,26.0,16.0,19.0,14.0,20.0,16.0,16.0,12.0,15.0,18.0,17.0,13.0,16.0,6.0,13.0,8.0,14.0,10.0,15.0,11.0,9.0,20.0,17.0,13.0,6.0,9.0,12.0,7.0,17.0,11.0,9.0,7.0,8.0,13.0,8.0,5.0,11.0,9.0,7.0,11.0,10.0,11.0,4.0,6.0,3.0,4.0,3.0,8.0,4.0,4.0,8.0,16.0,7.0,7.0,11.0,13.0,11.0,12.0,14.0,5.0,4.0,6.0,1.0,2.0,6.0,3.0,5.0,8.0,4.0,4.0,2.0,4.0,4.0,5.0,7.0,1.0,12.0,5.0,6.0,6.0,6.0,6.0,2.0,10.0,2.0,2.0,3.0,3.0,3.0,6.0,7.0,3.0,1.0,5.0,6.0,3.0,2.0,9.0,2.0,4.0,3.0,1.0,5.0,3.0,8.0,3.0,4.0,2.0,2.0,8.0,8.0,4.0,4.0,1.0,1.0,3.0,3.0,9.0,3.0,3.0,2.0,4.0,3.0,2.0,2.0,6.0,4.0,3.0,1.0,1.0,3.0,3.0,1.0,1.0,3.0,2.0,3.0,1.0,3.0,3.0,4.0,6.0,3.0,4.0,1.0,3.0,1.0,4.0,3.0,1.0,1.0,1.0,1.0,2.0,2.0,5.0,1.0,2.0,2.0,2.0,1.0,1.0,6.0,1.0,1.0,5.0,2.0,2.0,1.0,1.0,3.0,1.0,2.0,3.0,2.0,7.0,1.0,1.0,1.0,1.0,4.0,3.0,1.0,2.0,6.0,2.0,1.0,1.0,5.0,2.0,2.0,2.0,1.0,1.0,1.0,1.0],\"type\":\"bar\"},{\"name\":\"Year = 2020\",\"visible\":false,\"x\":[1.0,2.0,3.0,4.0,5.0,6.0,7.0,8.0,9.0,10.0,11.0,12.0,13.0,14.0,15.0,16.0,17.0,18.0,19.0,20.0,21.0,22.0,23.0,24.0,25.0,26.0,27.0,28.0,29.0,30.0,31.0,32.0,33.0,34.0,35.0,36.0,37.0,38.0,39.0,40.0,41.0,42.0,43.0,44.0,45.0,46.0,47.0,48.0,49.0,50.0,51.0,52.0,53.0,54.0,55.0,56.0,57.0,58.0,59.0,60.0,61.0,62.0,63.0,64.0,65.0,66.0,67.0,68.0,69.0,70.0,71.0,72.0,73.0,74.0,75.0,76.0,77.0,78.0,79.0,80.0,81.0,82.0,83.0,84.0,85.0,86.0,87.0,88.0,89.0,90.0,91.0,92.0,93.0,94.0,95.0,96.0,97.0,98.0,99.0,100.0,101.0,102.0,103.0,104.0,105.0,106.0,107.0,108.0,109.0,110.0,111.0,112.0,113.0,114.0,115.0,116.0,117.0,118.0,119.0,120.0,121.0,122.0,123.0,124.0,125.0,126.0,127.0,128.0,129.0,130.0,131.0,132.0,133.0,134.0,135.0,136.0,137.0,138.0,139.0,140.0,141.0,142.0,143.0,144.0,145.0,146.0,147.0,148.0,149.0,150.0,151.0,152.0,153.0,154.0,155.0,156.0,157.0,158.0,159.0,160.0,161.0,162.0,163.0,164.0,165.0,166.0,167.0,168.0,169.0,170.0,171.0,172.0,173.0,174.0,175.0,176.0,177.0,178.0,179.0,180.0,181.0,182.0,183.0,184.0,185.0,186.0,187.0,188.0,189.0,190.0,191.0,192.0,193.0,194.0,195.0,196.0,197.0,198.0,199.0,200.0,201.0,202.0,203.0,204.0,205.0,206.0,207.0,208.0,209.0,210.0,211.0,212.0,213.0,214.0,215.0,216.0,217.0,218.0,219.0,220.0,221.0,222.0,223.0,225.0,226.0,228.0,229.0,230.0,231.0,233.0,235.0,236.0,237.0,238.0,240.0,241.0,246.0,247.0,248.0,249.0,250.0,253.0,254.0,255.0,256.0,257.0,258.0,259.0,261.0,265.0,266.0,267.0,269.0,271.0,274.0,276.0,279.0,280.0,282.0,285.0,287.0,288.0,291.0,300.0,306.0,307.0,308.0,311.0,313.0,314.0,323.0,326.0,327.0,334.0,336.0,337.0,338.0,340.0,347.0,348.0,353.0,355.0,356.0,363.0,364.0,366.0,367.0,380.0,381.0,383.0,384.0,394.0,399.0,404.0,414.0,415.0,426.0,439.0],\"y\":[4.0,73.0,1689.0,22528.0,45764.0,52366.0,55353.0,58011.0,58653.0,57678.0,56650.0,56088.0,54387.0,53008.0,52512.0,50519.0,49072.0,47617.0,45590.0,44453.0,42380.0,40463.0,38533.0,37333.0,34331.0,32827.0,31179.0,29682.0,27378.0,26266.0,24567.0,22608.0,21422.0,19635.0,18328.0,17015.0,15966.0,14617.0,13619.0,12261.0,11378.0,10889.0,10091.0,9257.0,8791.0,7908.0,7250.0,6775.0,6039.0,5560.0,5205.0,4696.0,4371.0,3958.0,3621.0,3420.0,2966.0,2915.0,2644.0,2496.0,2288.0,1981.0,1884.0,1731.0,1713.0,1521.0,1456.0,1324.0,1222.0,1125.0,1107.0,1008.0,928.0,919.0,768.0,800.0,713.0,719.0,627.0,577.0,476.0,458.0,500.0,428.0,402.0,439.0,327.0,353.0,341.0,328.0,270.0,318.0,247.0,235.0,251.0,222.0,243.0,213.0,167.0,153.0,169.0,154.0,157.0,139.0,157.0,146.0,125.0,141.0,104.0,103.0,124.0,91.0,102.0,99.0,82.0,81.0,76.0,86.0,67.0,68.0,65.0,61.0,70.0,61.0,51.0,68.0,54.0,55.0,54.0,42.0,38.0,36.0,46.0,56.0,46.0,44.0,33.0,34.0,47.0,25.0,31.0,34.0,35.0,30.0,29.0,21.0,34.0,31.0,36.0,28.0,32.0,31.0,23.0,41.0,27.0,22.0,18.0,13.0,17.0,30.0,32.0,19.0,16.0,14.0,16.0,17.0,16.0,16.0,24.0,13.0,17.0,13.0,7.0,7.0,13.0,8.0,17.0,7.0,14.0,8.0,9.0,14.0,11.0,7.0,7.0,7.0,5.0,7.0,6.0,7.0,5.0,6.0,4.0,7.0,11.0,5.0,6.0,6.0,2.0,5.0,8.0,5.0,2.0,6.0,4.0,4.0,1.0,7.0,3.0,2.0,5.0,2.0,5.0,1.0,1.0,4.0,2.0,4.0,3.0,3.0,1.0,4.0,2.0,1.0,3.0,2.0,1.0,1.0,3.0,4.0,2.0,1.0,1.0,2.0,1.0,1.0,2.0,1.0,1.0,1.0,1.0,1.0,2.0,1.0,1.0,2.0,1.0,2.0,1.0,1.0,1.0,1.0,2.0,2.0,1.0,1.0,1.0,2.0,1.0,1.0,1.0,2.0,2.0,2.0,2.0,2.0,1.0,2.0,2.0,2.0,1.0,3.0,3.0,1.0,1.0,2.0,1.0,1.0,1.0,1.0,1.0,1.0,1.0,1.0,1.0,1.0,1.0,1.0,1.0,1.0,2.0,1.0,1.0,1.0,1.0,2.0,2.0,1.0],\"type\":\"bar\"}],                        {\"template\":{\"data\":{\"bar\":[{\"error_x\":{\"color\":\"#2a3f5f\"},\"error_y\":{\"color\":\"#2a3f5f\"},\"marker\":{\"line\":{\"color\":\"#E5ECF6\",\"width\":0.5},\"pattern\":{\"fillmode\":\"overlay\",\"size\":10,\"solidity\":0.2}},\"type\":\"bar\"}],\"barpolar\":[{\"marker\":{\"line\":{\"color\":\"#E5ECF6\",\"width\":0.5},\"pattern\":{\"fillmode\":\"overlay\",\"size\":10,\"solidity\":0.2}},\"type\":\"barpolar\"}],\"carpet\":[{\"aaxis\":{\"endlinecolor\":\"#2a3f5f\",\"gridcolor\":\"white\",\"linecolor\":\"white\",\"minorgridcolor\":\"white\",\"startlinecolor\":\"#2a3f5f\"},\"baxis\":{\"endlinecolor\":\"#2a3f5f\",\"gridcolor\":\"white\",\"linecolor\":\"white\",\"minorgridcolor\":\"white\",\"startlinecolor\":\"#2a3f5f\"},\"type\":\"carpet\"}],\"choropleth\":[{\"colorbar\":{\"outlinewidth\":0,\"ticks\":\"\"},\"type\":\"choropleth\"}],\"contour\":[{\"colorbar\":{\"outlinewidth\":0,\"ticks\":\"\"},\"colorscale\":[[0.0,\"#0d0887\"],[0.1111111111111111,\"#46039f\"],[0.2222222222222222,\"#7201a8\"],[0.3333333333333333,\"#9c179e\"],[0.4444444444444444,\"#bd3786\"],[0.5555555555555556,\"#d8576b\"],[0.6666666666666666,\"#ed7953\"],[0.7777777777777778,\"#fb9f3a\"],[0.8888888888888888,\"#fdca26\"],[1.0,\"#f0f921\"]],\"type\":\"contour\"}],\"contourcarpet\":[{\"colorbar\":{\"outlinewidth\":0,\"ticks\":\"\"},\"type\":\"contourcarpet\"}],\"heatmap\":[{\"colorbar\":{\"outlinewidth\":0,\"ticks\":\"\"},\"colorscale\":[[0.0,\"#0d0887\"],[0.1111111111111111,\"#46039f\"],[0.2222222222222222,\"#7201a8\"],[0.3333333333333333,\"#9c179e\"],[0.4444444444444444,\"#bd3786\"],[0.5555555555555556,\"#d8576b\"],[0.6666666666666666,\"#ed7953\"],[0.7777777777777778,\"#fb9f3a\"],[0.8888888888888888,\"#fdca26\"],[1.0,\"#f0f921\"]],\"type\":\"heatmap\"}],\"heatmapgl\":[{\"colorbar\":{\"outlinewidth\":0,\"ticks\":\"\"},\"colorscale\":[[0.0,\"#0d0887\"],[0.1111111111111111,\"#46039f\"],[0.2222222222222222,\"#7201a8\"],[0.3333333333333333,\"#9c179e\"],[0.4444444444444444,\"#bd3786\"],[0.5555555555555556,\"#d8576b\"],[0.6666666666666666,\"#ed7953\"],[0.7777777777777778,\"#fb9f3a\"],[0.8888888888888888,\"#fdca26\"],[1.0,\"#f0f921\"]],\"type\":\"heatmapgl\"}],\"histogram\":[{\"marker\":{\"pattern\":{\"fillmode\":\"overlay\",\"size\":10,\"solidity\":0.2}},\"type\":\"histogram\"}],\"histogram2d\":[{\"colorbar\":{\"outlinewidth\":0,\"ticks\":\"\"},\"colorscale\":[[0.0,\"#0d0887\"],[0.1111111111111111,\"#46039f\"],[0.2222222222222222,\"#7201a8\"],[0.3333333333333333,\"#9c179e\"],[0.4444444444444444,\"#bd3786\"],[0.5555555555555556,\"#d8576b\"],[0.6666666666666666,\"#ed7953\"],[0.7777777777777778,\"#fb9f3a\"],[0.8888888888888888,\"#fdca26\"],[1.0,\"#f0f921\"]],\"type\":\"histogram2d\"}],\"histogram2dcontour\":[{\"colorbar\":{\"outlinewidth\":0,\"ticks\":\"\"},\"colorscale\":[[0.0,\"#0d0887\"],[0.1111111111111111,\"#46039f\"],[0.2222222222222222,\"#7201a8\"],[0.3333333333333333,\"#9c179e\"],[0.4444444444444444,\"#bd3786\"],[0.5555555555555556,\"#d8576b\"],[0.6666666666666666,\"#ed7953\"],[0.7777777777777778,\"#fb9f3a\"],[0.8888888888888888,\"#fdca26\"],[1.0,\"#f0f921\"]],\"type\":\"histogram2dcontour\"}],\"mesh3d\":[{\"colorbar\":{\"outlinewidth\":0,\"ticks\":\"\"},\"type\":\"mesh3d\"}],\"parcoords\":[{\"line\":{\"colorbar\":{\"outlinewidth\":0,\"ticks\":\"\"}},\"type\":\"parcoords\"}],\"pie\":[{\"automargin\":true,\"type\":\"pie\"}],\"scatter\":[{\"marker\":{\"colorbar\":{\"outlinewidth\":0,\"ticks\":\"\"}},\"type\":\"scatter\"}],\"scatter3d\":[{\"line\":{\"colorbar\":{\"outlinewidth\":0,\"ticks\":\"\"}},\"marker\":{\"colorbar\":{\"outlinewidth\":0,\"ticks\":\"\"}},\"type\":\"scatter3d\"}],\"scattercarpet\":[{\"marker\":{\"colorbar\":{\"outlinewidth\":0,\"ticks\":\"\"}},\"type\":\"scattercarpet\"}],\"scattergeo\":[{\"marker\":{\"colorbar\":{\"outlinewidth\":0,\"ticks\":\"\"}},\"type\":\"scattergeo\"}],\"scattergl\":[{\"marker\":{\"colorbar\":{\"outlinewidth\":0,\"ticks\":\"\"}},\"type\":\"scattergl\"}],\"scattermapbox\":[{\"marker\":{\"colorbar\":{\"outlinewidth\":0,\"ticks\":\"\"}},\"type\":\"scattermapbox\"}],\"scatterpolar\":[{\"marker\":{\"colorbar\":{\"outlinewidth\":0,\"ticks\":\"\"}},\"type\":\"scatterpolar\"}],\"scatterpolargl\":[{\"marker\":{\"colorbar\":{\"outlinewidth\":0,\"ticks\":\"\"}},\"type\":\"scatterpolargl\"}],\"scatterternary\":[{\"marker\":{\"colorbar\":{\"outlinewidth\":0,\"ticks\":\"\"}},\"type\":\"scatterternary\"}],\"surface\":[{\"colorbar\":{\"outlinewidth\":0,\"ticks\":\"\"},\"colorscale\":[[0.0,\"#0d0887\"],[0.1111111111111111,\"#46039f\"],[0.2222222222222222,\"#7201a8\"],[0.3333333333333333,\"#9c179e\"],[0.4444444444444444,\"#bd3786\"],[0.5555555555555556,\"#d8576b\"],[0.6666666666666666,\"#ed7953\"],[0.7777777777777778,\"#fb9f3a\"],[0.8888888888888888,\"#fdca26\"],[1.0,\"#f0f921\"]],\"type\":\"surface\"}],\"table\":[{\"cells\":{\"fill\":{\"color\":\"#EBF0F8\"},\"line\":{\"color\":\"white\"}},\"header\":{\"fill\":{\"color\":\"#C8D4E3\"},\"line\":{\"color\":\"white\"}},\"type\":\"table\"}]},\"layout\":{\"annotationdefaults\":{\"arrowcolor\":\"#2a3f5f\",\"arrowhead\":0,\"arrowwidth\":1},\"autotypenumbers\":\"strict\",\"coloraxis\":{\"colorbar\":{\"outlinewidth\":0,\"ticks\":\"\"}},\"colorscale\":{\"diverging\":[[0,\"#8e0152\"],[0.1,\"#c51b7d\"],[0.2,\"#de77ae\"],[0.3,\"#f1b6da\"],[0.4,\"#fde0ef\"],[0.5,\"#f7f7f7\"],[0.6,\"#e6f5d0\"],[0.7,\"#b8e186\"],[0.8,\"#7fbc41\"],[0.9,\"#4d9221\"],[1,\"#276419\"]],\"sequential\":[[0.0,\"#0d0887\"],[0.1111111111111111,\"#46039f\"],[0.2222222222222222,\"#7201a8\"],[0.3333333333333333,\"#9c179e\"],[0.4444444444444444,\"#bd3786\"],[0.5555555555555556,\"#d8576b\"],[0.6666666666666666,\"#ed7953\"],[0.7777777777777778,\"#fb9f3a\"],[0.8888888888888888,\"#fdca26\"],[1.0,\"#f0f921\"]],\"sequentialminus\":[[0.0,\"#0d0887\"],[0.1111111111111111,\"#46039f\"],[0.2222222222222222,\"#7201a8\"],[0.3333333333333333,\"#9c179e\"],[0.4444444444444444,\"#bd3786\"],[0.5555555555555556,\"#d8576b\"],[0.6666666666666666,\"#ed7953\"],[0.7777777777777778,\"#fb9f3a\"],[0.8888888888888888,\"#fdca26\"],[1.0,\"#f0f921\"]]},\"colorway\":[\"#636efa\",\"#EF553B\",\"#00cc96\",\"#ab63fa\",\"#FFA15A\",\"#19d3f3\",\"#FF6692\",\"#B6E880\",\"#FF97FF\",\"#FECB52\"],\"font\":{\"color\":\"#2a3f5f\"},\"geo\":{\"bgcolor\":\"white\",\"lakecolor\":\"white\",\"landcolor\":\"#E5ECF6\",\"showlakes\":true,\"showland\":true,\"subunitcolor\":\"white\"},\"hoverlabel\":{\"align\":\"left\"},\"hovermode\":\"closest\",\"mapbox\":{\"style\":\"light\"},\"paper_bgcolor\":\"white\",\"plot_bgcolor\":\"#E5ECF6\",\"polar\":{\"angularaxis\":{\"gridcolor\":\"white\",\"linecolor\":\"white\",\"ticks\":\"\"},\"bgcolor\":\"#E5ECF6\",\"radialaxis\":{\"gridcolor\":\"white\",\"linecolor\":\"white\",\"ticks\":\"\"}},\"scene\":{\"xaxis\":{\"backgroundcolor\":\"#E5ECF6\",\"gridcolor\":\"white\",\"gridwidth\":2,\"linecolor\":\"white\",\"showbackground\":true,\"ticks\":\"\",\"zerolinecolor\":\"white\"},\"yaxis\":{\"backgroundcolor\":\"#E5ECF6\",\"gridcolor\":\"white\",\"gridwidth\":2,\"linecolor\":\"white\",\"showbackground\":true,\"ticks\":\"\",\"zerolinecolor\":\"white\"},\"zaxis\":{\"backgroundcolor\":\"#E5ECF6\",\"gridcolor\":\"white\",\"gridwidth\":2,\"linecolor\":\"white\",\"showbackground\":true,\"ticks\":\"\",\"zerolinecolor\":\"white\"}},\"shapedefaults\":{\"line\":{\"color\":\"#2a3f5f\"}},\"ternary\":{\"aaxis\":{\"gridcolor\":\"white\",\"linecolor\":\"white\",\"ticks\":\"\"},\"baxis\":{\"gridcolor\":\"white\",\"linecolor\":\"white\",\"ticks\":\"\"},\"bgcolor\":\"#E5ECF6\",\"caxis\":{\"gridcolor\":\"white\",\"linecolor\":\"white\",\"ticks\":\"\"}},\"title\":{\"x\":0.05},\"xaxis\":{\"automargin\":true,\"gridcolor\":\"white\",\"linecolor\":\"white\",\"ticks\":\"\",\"title\":{\"standoff\":15},\"zerolinecolor\":\"white\",\"zerolinewidth\":2},\"yaxis\":{\"automargin\":true,\"gridcolor\":\"white\",\"linecolor\":\"white\",\"ticks\":\"\",\"title\":{\"standoff\":15},\"zerolinecolor\":\"white\",\"zerolinewidth\":2}}},\"title\":{\"text\":\"Quote length distribution for year (Lin-Log axes): 2015\",\"x\":0.5},\"yaxis\":{\"type\":\"log\",\"title\":{\"text\":\"Occurence (Log scale)\"}},\"xaxis\":{\"title\":{\"text\":\"Mean quote length\"}},\"sliders\":[{\"active\":10,\"currentvalue\":{\"prefix\":\"Year: \"},\"pad\":{\"t\":50},\"steps\":[{\"args\":[{\"visible\":[true,false,false,false,false,false]},{\"title\":\"Quote length distribution for year (Lin-Log axes): 2015\"}],\"label\":\"2015\",\"method\":\"update\"},{\"args\":[{\"visible\":[false,true,false,false,false,false]},{\"title\":\"Quote length distribution for year (Lin-Log axes): 2016\"}],\"label\":\"2016\",\"method\":\"update\"},{\"args\":[{\"visible\":[false,false,true,false,false,false]},{\"title\":\"Quote length distribution for year (Lin-Log axes): 2017\"}],\"label\":\"2017\",\"method\":\"update\"},{\"args\":[{\"visible\":[false,false,false,true,false,false]},{\"title\":\"Quote length distribution for year (Lin-Log axes): 2018\"}],\"label\":\"2018\",\"method\":\"update\"},{\"args\":[{\"visible\":[false,false,false,false,true,false]},{\"title\":\"Quote length distribution for year (Lin-Log axes): 2019\"}],\"label\":\"2019\",\"method\":\"update\"},{\"args\":[{\"visible\":[false,false,false,false,false,true]},{\"title\":\"Quote length distribution for year (Lin-Log axes): 2020\"}],\"label\":\"2020\",\"method\":\"update\"}]}]},                        {\"responsive\": true}                    ).then(function(){\n",
              "                            \n",
              "var gd = document.getElementById('a5aeb445-82f7-43f9-8913-2cea161ca9b7');\n",
              "var x = new MutationObserver(function (mutations, observer) {{\n",
              "        var display = window.getComputedStyle(gd).display;\n",
              "        if (!display || display === 'none') {{\n",
              "            console.log([gd, 'removed!']);\n",
              "            Plotly.purge(gd);\n",
              "            observer.disconnect();\n",
              "        }}\n",
              "}});\n",
              "\n",
              "// Listen for the removal of the full notebook cells\n",
              "var notebookContainer = gd.closest('#notebook-container');\n",
              "if (notebookContainer) {{\n",
              "    x.observe(notebookContainer, {childList: true});\n",
              "}}\n",
              "\n",
              "// Listen for the clearing of the current output cell\n",
              "var outputEl = gd.closest('.output');\n",
              "if (outputEl) {{\n",
              "    x.observe(outputEl, {childList: true});\n",
              "}}\n",
              "\n",
              "                        })                };                            </script>        </div>\n",
              "</body>\n",
              "</html>"
            ]
          },
          "metadata": {}
        }
      ],
      "id": "5Gr-V3o_XMu_"
    },
    {
      "cell_type": "code",
      "source": [
        "# Distribution plot of quote compound sentiment per year with a slider\n",
        "fig = go.Figure()\n",
        "fig.update_layout(\n",
        "    title=\"Compound sentiment distribution for year (Lin-Log axes): 2015\",\n",
        "    title_x=0.5,\n",
        ")\n",
        "# Add traces, one for each slider step\n",
        "for year in list_years:\n",
        "  # Load the data\n",
        "  path = drive+\"/Distribution_plot/\"+str(year)+'_counts_quote_compound.csv'\n",
        "  data_len = pd.read_csv(path)\n",
        "  data_len.columns = [\"compound\", \"occurence\"]\n",
        "  # Plot the data  \n",
        "  fig.add_trace(\n",
        "      go.Bar(\n",
        "          visible=False,\n",
        "          name=\"Year = \" + str(year),\n",
        "          x=data_len[\"compound\"],\n",
        "          y=data_len[\"occurence\"]))\n",
        "  #fig.update_yaxes(title_text=\"y-axis in logarithmic scale\", type=\"log\", row=1, col=2)\n",
        "  fig.update_yaxes(type=\"log\")\n",
        "\n",
        "# Make 10th trace visible\n",
        "fig.data[2].visible = True\n",
        "\n",
        "# Create and add slider\n",
        "steps = []\n",
        "#for i in range(len(fig.data)):\n",
        "for i, year in enumerate(list_years):\n",
        "    step = dict(\n",
        "        method=\"update\",\n",
        "        args=[{\"visible\": [False] * len(fig.data)},\n",
        "              {\"title\": \"Quote length distribution for year (Lin-Log axes): \" + str(year)}],\n",
        "        label = str(year),\n",
        "    )\n",
        "    step[\"args\"][0][\"visible\"][i] = True  # Toggle i'th trace to \"visible\"\n",
        "    steps.append(step)\n",
        "\n",
        "sliders = [dict(\n",
        "    active=10,\n",
        "    currentvalue={\"prefix\": \"Year: \"},\n",
        "    pad={\"t\": 50},\n",
        "    steps=steps\n",
        ")]\n",
        "\n",
        "fig.update_layout(\n",
        "    xaxis_title=\"Mean compound sentiment (Log scale)\",\n",
        "    yaxis_title=\"Occurence\",\n",
        "    sliders=sliders\n",
        ")\n",
        "\n",
        "fig.show()\n",
        "fig.write_html(drive+\"plotly html/E_1.html\")"
      ],
      "metadata": {
        "colab": {
          "base_uri": "https://localhost:8080/",
          "height": 542
        },
        "id": "UKWnUI7ig9tR",
        "outputId": "820f70ad-d1c6-466b-e815-bfe6216108fa"
      },
      "execution_count": null,
      "outputs": [
        {
          "output_type": "display_data",
          "data": {
            "text/html": [
              "<html>\n",
              "<head><meta charset=\"utf-8\" /></head>\n",
              "<body>\n",
              "    <div>            <script src=\"https://cdnjs.cloudflare.com/ajax/libs/mathjax/2.7.5/MathJax.js?config=TeX-AMS-MML_SVG\"></script><script type=\"text/javascript\">if (window.MathJax) {MathJax.Hub.Config({SVG: {font: \"STIX-Web\"}});}</script>                <script type=\"text/javascript\">window.PlotlyConfig = {MathJaxConfig: 'local'};</script>\n",
              "        <script src=\"https://cdn.plot.ly/plotly-2.6.3.min.js\"></script>                <div id=\"15c2f2fc-2040-4f66-922a-9ca6fb2ad3fb\" class=\"plotly-graph-div\" style=\"height:525px; width:100%;\"></div>            <script type=\"text/javascript\">                                    window.PLOTLYENV=window.PLOTLYENV || {};                                    if (document.getElementById(\"15c2f2fc-2040-4f66-922a-9ca6fb2ad3fb\")) {                    Plotly.newPlot(                        \"15c2f2fc-2040-4f66-922a-9ca6fb2ad3fb\",                        [{\"name\":\"Year = 2015\",\"visible\":false,\"x\":[-1.0,-0.9,-0.8,-0.7,-0.6,-0.5,-0.4,-0.3,-0.2,-0.1,0.0,0.1,0.2,0.3,0.4,0.5,0.6,0.7,0.8,0.9,1.0],\"y\":[6449.0,65319.0,114980.0,135151.0,169448.0,214643.0,208611.0,248846.0,170322.0,151142.0,1578755.0,171027.0,230989.0,282491.0,481651.0,333338.0,389261.0,309871.0,337771.0,258224.0,39696.0],\"type\":\"bar\"},{\"name\":\"Year = 2016\",\"visible\":false,\"x\":[-1.0,-0.9,-0.8,-0.7,-0.6,-0.5,-0.4,-0.3,-0.2,-0.1,0.0,0.1,0.2,0.3,0.4,0.5,0.6,0.7,0.8,0.9,1.0],\"y\":[5188.0,51811.0,90493.0,103555.0,130899.0,165290.0,161027.0,189524.0,128327.0,113687.0,1200146.0,127673.0,172086.0,210004.0,362633.0,249131.0,293355.0,232963.0,256154.0,194763.0,28340.0],\"type\":\"bar\"},{\"name\":\"Year = 2017\",\"visible\":true,\"x\":[-1.0,-0.9,-0.8,-0.7,-0.6,-0.5,-0.4,-0.3,-0.2,-0.1,0.0,0.1,0.2,0.3,0.4,0.5,0.6,0.7,0.8,0.9,1.0],\"y\":[8860.0,93103.0,161107.0,188176.0,239096.0,296356.0,286514.0,340869.0,232751.0,199829.0,2166756.0,228911.0,307728.0,373362.0,644314.0,448281.0,511514.0,404644.0,441805.0,332075.0,48830.0],\"type\":\"bar\"},{\"name\":\"Year = 2018\",\"visible\":false,\"x\":[-1.0,-0.9,-0.8,-0.7,-0.6,-0.5,-0.4,-0.3,-0.2,-0.1,0.0,0.1,0.2,0.3,0.4,0.5,0.6,0.7,0.8,0.9,1.0],\"y\":[10108.0,97534.0,171351.0,197364.0,251860.0,314668.0,299807.0,361264.0,243271.0,210705.0,2228320.0,241762.0,317817.0,391022.0,669975.0,466075.0,536144.0,427539.0,471542.0,359327.0,54670.0],\"type\":\"bar\"},{\"name\":\"Year = 2019\",\"visible\":false,\"x\":[-1.0,-0.9,-0.8,-0.7,-0.6,-0.5,-0.4,-0.3,-0.2,-0.1,0.0,0.1,0.2,0.3,0.4,0.5,0.6,0.7,0.8,0.9,1.0],\"y\":[7029.0,77428.0,135521.0,152505.0,195840.0,244808.0,233419.0,278302.0,191224.0,165783.0,1681824.0,188138.0,249449.0,304443.0,519161.0,357055.0,412511.0,330519.0,365152.0,280974.0,42626.0],\"type\":\"bar\"},{\"name\":\"Year = 2020\",\"visible\":false,\"x\":[-1.0,-0.9,-0.8,-0.7,-0.6,-0.5,-0.4,-0.3,-0.2,-0.1,0.0,0.1,0.2,0.3,0.4,0.5,0.6,0.7,0.8,0.9,1.0],\"y\":[1484.0,17423.0,32657.0,36464.0,47065.0,58487.0,58086.0,69174.0,47306.0,39948.0,404608.0,45850.0,60350.0,72928.0,124389.0,84651.0,98321.0,77444.0,85224.0,65857.0,10159.0],\"type\":\"bar\"}],                        {\"template\":{\"data\":{\"bar\":[{\"error_x\":{\"color\":\"#2a3f5f\"},\"error_y\":{\"color\":\"#2a3f5f\"},\"marker\":{\"line\":{\"color\":\"#E5ECF6\",\"width\":0.5},\"pattern\":{\"fillmode\":\"overlay\",\"size\":10,\"solidity\":0.2}},\"type\":\"bar\"}],\"barpolar\":[{\"marker\":{\"line\":{\"color\":\"#E5ECF6\",\"width\":0.5},\"pattern\":{\"fillmode\":\"overlay\",\"size\":10,\"solidity\":0.2}},\"type\":\"barpolar\"}],\"carpet\":[{\"aaxis\":{\"endlinecolor\":\"#2a3f5f\",\"gridcolor\":\"white\",\"linecolor\":\"white\",\"minorgridcolor\":\"white\",\"startlinecolor\":\"#2a3f5f\"},\"baxis\":{\"endlinecolor\":\"#2a3f5f\",\"gridcolor\":\"white\",\"linecolor\":\"white\",\"minorgridcolor\":\"white\",\"startlinecolor\":\"#2a3f5f\"},\"type\":\"carpet\"}],\"choropleth\":[{\"colorbar\":{\"outlinewidth\":0,\"ticks\":\"\"},\"type\":\"choropleth\"}],\"contour\":[{\"colorbar\":{\"outlinewidth\":0,\"ticks\":\"\"},\"colorscale\":[[0.0,\"#0d0887\"],[0.1111111111111111,\"#46039f\"],[0.2222222222222222,\"#7201a8\"],[0.3333333333333333,\"#9c179e\"],[0.4444444444444444,\"#bd3786\"],[0.5555555555555556,\"#d8576b\"],[0.6666666666666666,\"#ed7953\"],[0.7777777777777778,\"#fb9f3a\"],[0.8888888888888888,\"#fdca26\"],[1.0,\"#f0f921\"]],\"type\":\"contour\"}],\"contourcarpet\":[{\"colorbar\":{\"outlinewidth\":0,\"ticks\":\"\"},\"type\":\"contourcarpet\"}],\"heatmap\":[{\"colorbar\":{\"outlinewidth\":0,\"ticks\":\"\"},\"colorscale\":[[0.0,\"#0d0887\"],[0.1111111111111111,\"#46039f\"],[0.2222222222222222,\"#7201a8\"],[0.3333333333333333,\"#9c179e\"],[0.4444444444444444,\"#bd3786\"],[0.5555555555555556,\"#d8576b\"],[0.6666666666666666,\"#ed7953\"],[0.7777777777777778,\"#fb9f3a\"],[0.8888888888888888,\"#fdca26\"],[1.0,\"#f0f921\"]],\"type\":\"heatmap\"}],\"heatmapgl\":[{\"colorbar\":{\"outlinewidth\":0,\"ticks\":\"\"},\"colorscale\":[[0.0,\"#0d0887\"],[0.1111111111111111,\"#46039f\"],[0.2222222222222222,\"#7201a8\"],[0.3333333333333333,\"#9c179e\"],[0.4444444444444444,\"#bd3786\"],[0.5555555555555556,\"#d8576b\"],[0.6666666666666666,\"#ed7953\"],[0.7777777777777778,\"#fb9f3a\"],[0.8888888888888888,\"#fdca26\"],[1.0,\"#f0f921\"]],\"type\":\"heatmapgl\"}],\"histogram\":[{\"marker\":{\"pattern\":{\"fillmode\":\"overlay\",\"size\":10,\"solidity\":0.2}},\"type\":\"histogram\"}],\"histogram2d\":[{\"colorbar\":{\"outlinewidth\":0,\"ticks\":\"\"},\"colorscale\":[[0.0,\"#0d0887\"],[0.1111111111111111,\"#46039f\"],[0.2222222222222222,\"#7201a8\"],[0.3333333333333333,\"#9c179e\"],[0.4444444444444444,\"#bd3786\"],[0.5555555555555556,\"#d8576b\"],[0.6666666666666666,\"#ed7953\"],[0.7777777777777778,\"#fb9f3a\"],[0.8888888888888888,\"#fdca26\"],[1.0,\"#f0f921\"]],\"type\":\"histogram2d\"}],\"histogram2dcontour\":[{\"colorbar\":{\"outlinewidth\":0,\"ticks\":\"\"},\"colorscale\":[[0.0,\"#0d0887\"],[0.1111111111111111,\"#46039f\"],[0.2222222222222222,\"#7201a8\"],[0.3333333333333333,\"#9c179e\"],[0.4444444444444444,\"#bd3786\"],[0.5555555555555556,\"#d8576b\"],[0.6666666666666666,\"#ed7953\"],[0.7777777777777778,\"#fb9f3a\"],[0.8888888888888888,\"#fdca26\"],[1.0,\"#f0f921\"]],\"type\":\"histogram2dcontour\"}],\"mesh3d\":[{\"colorbar\":{\"outlinewidth\":0,\"ticks\":\"\"},\"type\":\"mesh3d\"}],\"parcoords\":[{\"line\":{\"colorbar\":{\"outlinewidth\":0,\"ticks\":\"\"}},\"type\":\"parcoords\"}],\"pie\":[{\"automargin\":true,\"type\":\"pie\"}],\"scatter\":[{\"marker\":{\"colorbar\":{\"outlinewidth\":0,\"ticks\":\"\"}},\"type\":\"scatter\"}],\"scatter3d\":[{\"line\":{\"colorbar\":{\"outlinewidth\":0,\"ticks\":\"\"}},\"marker\":{\"colorbar\":{\"outlinewidth\":0,\"ticks\":\"\"}},\"type\":\"scatter3d\"}],\"scattercarpet\":[{\"marker\":{\"colorbar\":{\"outlinewidth\":0,\"ticks\":\"\"}},\"type\":\"scattercarpet\"}],\"scattergeo\":[{\"marker\":{\"colorbar\":{\"outlinewidth\":0,\"ticks\":\"\"}},\"type\":\"scattergeo\"}],\"scattergl\":[{\"marker\":{\"colorbar\":{\"outlinewidth\":0,\"ticks\":\"\"}},\"type\":\"scattergl\"}],\"scattermapbox\":[{\"marker\":{\"colorbar\":{\"outlinewidth\":0,\"ticks\":\"\"}},\"type\":\"scattermapbox\"}],\"scatterpolar\":[{\"marker\":{\"colorbar\":{\"outlinewidth\":0,\"ticks\":\"\"}},\"type\":\"scatterpolar\"}],\"scatterpolargl\":[{\"marker\":{\"colorbar\":{\"outlinewidth\":0,\"ticks\":\"\"}},\"type\":\"scatterpolargl\"}],\"scatterternary\":[{\"marker\":{\"colorbar\":{\"outlinewidth\":0,\"ticks\":\"\"}},\"type\":\"scatterternary\"}],\"surface\":[{\"colorbar\":{\"outlinewidth\":0,\"ticks\":\"\"},\"colorscale\":[[0.0,\"#0d0887\"],[0.1111111111111111,\"#46039f\"],[0.2222222222222222,\"#7201a8\"],[0.3333333333333333,\"#9c179e\"],[0.4444444444444444,\"#bd3786\"],[0.5555555555555556,\"#d8576b\"],[0.6666666666666666,\"#ed7953\"],[0.7777777777777778,\"#fb9f3a\"],[0.8888888888888888,\"#fdca26\"],[1.0,\"#f0f921\"]],\"type\":\"surface\"}],\"table\":[{\"cells\":{\"fill\":{\"color\":\"#EBF0F8\"},\"line\":{\"color\":\"white\"}},\"header\":{\"fill\":{\"color\":\"#C8D4E3\"},\"line\":{\"color\":\"white\"}},\"type\":\"table\"}]},\"layout\":{\"annotationdefaults\":{\"arrowcolor\":\"#2a3f5f\",\"arrowhead\":0,\"arrowwidth\":1},\"autotypenumbers\":\"strict\",\"coloraxis\":{\"colorbar\":{\"outlinewidth\":0,\"ticks\":\"\"}},\"colorscale\":{\"diverging\":[[0,\"#8e0152\"],[0.1,\"#c51b7d\"],[0.2,\"#de77ae\"],[0.3,\"#f1b6da\"],[0.4,\"#fde0ef\"],[0.5,\"#f7f7f7\"],[0.6,\"#e6f5d0\"],[0.7,\"#b8e186\"],[0.8,\"#7fbc41\"],[0.9,\"#4d9221\"],[1,\"#276419\"]],\"sequential\":[[0.0,\"#0d0887\"],[0.1111111111111111,\"#46039f\"],[0.2222222222222222,\"#7201a8\"],[0.3333333333333333,\"#9c179e\"],[0.4444444444444444,\"#bd3786\"],[0.5555555555555556,\"#d8576b\"],[0.6666666666666666,\"#ed7953\"],[0.7777777777777778,\"#fb9f3a\"],[0.8888888888888888,\"#fdca26\"],[1.0,\"#f0f921\"]],\"sequentialminus\":[[0.0,\"#0d0887\"],[0.1111111111111111,\"#46039f\"],[0.2222222222222222,\"#7201a8\"],[0.3333333333333333,\"#9c179e\"],[0.4444444444444444,\"#bd3786\"],[0.5555555555555556,\"#d8576b\"],[0.6666666666666666,\"#ed7953\"],[0.7777777777777778,\"#fb9f3a\"],[0.8888888888888888,\"#fdca26\"],[1.0,\"#f0f921\"]]},\"colorway\":[\"#636efa\",\"#EF553B\",\"#00cc96\",\"#ab63fa\",\"#FFA15A\",\"#19d3f3\",\"#FF6692\",\"#B6E880\",\"#FF97FF\",\"#FECB52\"],\"font\":{\"color\":\"#2a3f5f\"},\"geo\":{\"bgcolor\":\"white\",\"lakecolor\":\"white\",\"landcolor\":\"#E5ECF6\",\"showlakes\":true,\"showland\":true,\"subunitcolor\":\"white\"},\"hoverlabel\":{\"align\":\"left\"},\"hovermode\":\"closest\",\"mapbox\":{\"style\":\"light\"},\"paper_bgcolor\":\"white\",\"plot_bgcolor\":\"#E5ECF6\",\"polar\":{\"angularaxis\":{\"gridcolor\":\"white\",\"linecolor\":\"white\",\"ticks\":\"\"},\"bgcolor\":\"#E5ECF6\",\"radialaxis\":{\"gridcolor\":\"white\",\"linecolor\":\"white\",\"ticks\":\"\"}},\"scene\":{\"xaxis\":{\"backgroundcolor\":\"#E5ECF6\",\"gridcolor\":\"white\",\"gridwidth\":2,\"linecolor\":\"white\",\"showbackground\":true,\"ticks\":\"\",\"zerolinecolor\":\"white\"},\"yaxis\":{\"backgroundcolor\":\"#E5ECF6\",\"gridcolor\":\"white\",\"gridwidth\":2,\"linecolor\":\"white\",\"showbackground\":true,\"ticks\":\"\",\"zerolinecolor\":\"white\"},\"zaxis\":{\"backgroundcolor\":\"#E5ECF6\",\"gridcolor\":\"white\",\"gridwidth\":2,\"linecolor\":\"white\",\"showbackground\":true,\"ticks\":\"\",\"zerolinecolor\":\"white\"}},\"shapedefaults\":{\"line\":{\"color\":\"#2a3f5f\"}},\"ternary\":{\"aaxis\":{\"gridcolor\":\"white\",\"linecolor\":\"white\",\"ticks\":\"\"},\"baxis\":{\"gridcolor\":\"white\",\"linecolor\":\"white\",\"ticks\":\"\"},\"bgcolor\":\"#E5ECF6\",\"caxis\":{\"gridcolor\":\"white\",\"linecolor\":\"white\",\"ticks\":\"\"}},\"title\":{\"x\":0.05},\"xaxis\":{\"automargin\":true,\"gridcolor\":\"white\",\"linecolor\":\"white\",\"ticks\":\"\",\"title\":{\"standoff\":15},\"zerolinecolor\":\"white\",\"zerolinewidth\":2},\"yaxis\":{\"automargin\":true,\"gridcolor\":\"white\",\"linecolor\":\"white\",\"ticks\":\"\",\"title\":{\"standoff\":15},\"zerolinecolor\":\"white\",\"zerolinewidth\":2}}},\"title\":{\"text\":\"Compound sentiment distribution for year (Lin-Log axes): 2015\",\"x\":0.5},\"yaxis\":{\"type\":\"log\",\"title\":{\"text\":\"Occurence\"}},\"xaxis\":{\"title\":{\"text\":\"Mean compound sentiment (Log scale)\"}},\"sliders\":[{\"active\":10,\"currentvalue\":{\"prefix\":\"Year: \"},\"pad\":{\"t\":50},\"steps\":[{\"args\":[{\"visible\":[true,false,false,false,false,false]},{\"title\":\"Quote length distribution for year (Lin-Log axes): 2015\"}],\"label\":\"2015\",\"method\":\"update\"},{\"args\":[{\"visible\":[false,true,false,false,false,false]},{\"title\":\"Quote length distribution for year (Lin-Log axes): 2016\"}],\"label\":\"2016\",\"method\":\"update\"},{\"args\":[{\"visible\":[false,false,true,false,false,false]},{\"title\":\"Quote length distribution for year (Lin-Log axes): 2017\"}],\"label\":\"2017\",\"method\":\"update\"},{\"args\":[{\"visible\":[false,false,false,true,false,false]},{\"title\":\"Quote length distribution for year (Lin-Log axes): 2018\"}],\"label\":\"2018\",\"method\":\"update\"},{\"args\":[{\"visible\":[false,false,false,false,true,false]},{\"title\":\"Quote length distribution for year (Lin-Log axes): 2019\"}],\"label\":\"2019\",\"method\":\"update\"},{\"args\":[{\"visible\":[false,false,false,false,false,true]},{\"title\":\"Quote length distribution for year (Lin-Log axes): 2020\"}],\"label\":\"2020\",\"method\":\"update\"}]}]},                        {\"responsive\": true}                    ).then(function(){\n",
              "                            \n",
              "var gd = document.getElementById('15c2f2fc-2040-4f66-922a-9ca6fb2ad3fb');\n",
              "var x = new MutationObserver(function (mutations, observer) {{\n",
              "        var display = window.getComputedStyle(gd).display;\n",
              "        if (!display || display === 'none') {{\n",
              "            console.log([gd, 'removed!']);\n",
              "            Plotly.purge(gd);\n",
              "            observer.disconnect();\n",
              "        }}\n",
              "}});\n",
              "\n",
              "// Listen for the removal of the full notebook cells\n",
              "var notebookContainer = gd.closest('#notebook-container');\n",
              "if (notebookContainer) {{\n",
              "    x.observe(notebookContainer, {childList: true});\n",
              "}}\n",
              "\n",
              "// Listen for the clearing of the current output cell\n",
              "var outputEl = gd.closest('.output');\n",
              "if (outputEl) {{\n",
              "    x.observe(outputEl, {childList: true});\n",
              "}}\n",
              "\n",
              "                        })                };                            </script>        </div>\n",
              "</body>\n",
              "</html>"
            ]
          },
          "metadata": {}
        }
      ],
      "id": "UKWnUI7ig9tR"
    },
    {
      "cell_type": "markdown",
      "source": [
        "###1) Evolution of quoting style (2015-2020)"
      ],
      "metadata": {
        "id": "3xvk4h74IJRF"
      },
      "id": "3xvk4h74IJRF"
    },
    {
      "cell_type": "markdown",
      "source": [
        "**Disclaimer for datastory -> put it right after the data story introduction**\n",
        "\n",
        "In our study, we use two quote parameters to describe quoting style: length (number of words) and polarity score (the higher, the more positive). Our study uses only keep US news outlets that were in the top 200 news outlets with the most quotes each year, and produce their own content. All website political orientation were taken manually from the website Media Bias/Fact Check. (https://mediabiasfactcheck.com/)."
      ],
      "metadata": {
        "id": "3qDkWA9RYaFN"
      },
      "id": "3qDkWA9RYaFN"
    },
    {
      "cell_type": "markdown",
      "source": [
        "**Additional info for notebook only**\n",
        "\n",
        "In order to avoid any bias/error coming from a simple mean of mean (Simpson's paradox), we keep the number of quotes per outlet per year to compute a weighted mean and standard error of the mean (SEM). All plots display the mean, with SEM as errorbars. The error bars are too small to be visible, which means that observable differences are significant. "
      ],
      "metadata": {
        "id": "ty4H2VN_RSpI"
      },
      "id": "ty4H2VN_RSpI"
    },
    {
      "cell_type": "markdown",
      "source": [
        "**Intro part 1**\n",
        "\n",
        "We first want to determine the evolution of quoting style of the selected news outlets between 2015 and 2020. The analysis is first performed for all news outlets, before separating them according to their political orientation (left-leaning, right-leaning and neutral).\n",
        "\n"
      ],
      "metadata": {
        "id": "W4VsVJyimj4g"
      },
      "id": "W4VsVJyimj4g"
    },
    {
      "cell_type": "code",
      "source": [
        "fig = go.Figure()\n",
        "\n",
        "for outlet in list_domains:\n",
        "  fig.add_trace(go.Scatter(x=time_scale,\n",
        "                           y=df_means_length[outlet].values,\n",
        "                           name=outlet,\n",
        "                           mode = \"lines\",\n",
        "                           line=dict(color='grey', width=1),\n",
        "                           showlegend=False,\n",
        "                           hoverlabel=dict(bgcolor='grey')))\n",
        "\n",
        "fig.add_trace(go.Scatter(x=time_scale,\n",
        "                         y=length_mean,\n",
        "                         mode=\"lines\",\n",
        "                         name=\"Total mean\",\n",
        "                         line=dict(color='blue', width=4),\n",
        "                         error_y=dict(type='data', array=np.round(length_error,6),color=\"black\"),\n",
        "                         hoverlabel=dict(bgcolor='blue')))\n",
        "\n",
        "fig.update_layout(\n",
        "    title=\"Evolution of mean quote length\",\n",
        "    title_x=0.5,\n",
        "    xaxis_title=\"Year\",\n",
        "    yaxis_title=\"Mean quote length\")\n",
        "\n",
        "fig.show()\n",
        "fig.write_html('1.1.html')"
      ],
      "metadata": {
        "colab": {
          "base_uri": "https://localhost:8080/",
          "height": 542
        },
        "id": "-GF_xv_44b71",
        "outputId": "3894a033-b725-4657-e1d6-df27e441bdd6"
      },
      "execution_count": null,
      "outputs": [
        {
          "output_type": "display_data",
          "data": {
            "text/html": [
              "<html>\n",
              "<head><meta charset=\"utf-8\" /></head>\n",
              "<body>\n",
              "    <div>            <script src=\"https://cdnjs.cloudflare.com/ajax/libs/mathjax/2.7.5/MathJax.js?config=TeX-AMS-MML_SVG\"></script><script type=\"text/javascript\">if (window.MathJax) {MathJax.Hub.Config({SVG: {font: \"STIX-Web\"}});}</script>                <script type=\"text/javascript\">window.PlotlyConfig = {MathJaxConfig: 'local'};</script>\n",
              "        <script src=\"https://cdn.plot.ly/plotly-2.6.3.min.js\"></script>                <div id=\"3f35b6fc-ec5d-4ff7-aff8-b12f615cb3fd\" class=\"plotly-graph-div\" style=\"height:525px; width:100%;\"></div>            <script type=\"text/javascript\">                                    window.PLOTLYENV=window.PLOTLYENV || {};                                    if (document.getElementById(\"3f35b6fc-ec5d-4ff7-aff8-b12f615cb3fd\")) {                    Plotly.newPlot(                        \"3f35b6fc-ec5d-4ff7-aff8-b12f615cb3fd\",                        [{\"hoverlabel\":{\"bgcolor\":\"grey\"},\"line\":{\"color\":\"grey\",\"width\":1},\"mode\":\"lines\",\"name\":\"latimes.com\",\"showlegend\":false,\"x\":[2015,2016,2017,2018,2019,2020],\"y\":[18.232041367438253,18.396740341339513,18.901841874017205,19.33855780867204,19.7508605705327,19.748708599209966],\"type\":\"scatter\"},{\"hoverlabel\":{\"bgcolor\":\"grey\"},\"line\":{\"color\":\"grey\",\"width\":1},\"mode\":\"lines\",\"name\":\"breitbart.com\",\"showlegend\":false,\"x\":[2015,2016,2017,2018,2019,2020],\"y\":[26.804379918399608,20.880029529259623,20.894158431550995,20.47444530431582,20.892284064886805,21.45220579367568],\"type\":\"scatter\"},{\"hoverlabel\":{\"bgcolor\":\"grey\"},\"line\":{\"color\":\"grey\",\"width\":1},\"mode\":\"lines\",\"name\":\"wtop.com\",\"showlegend\":false,\"x\":[2015,2016,2017,2018,2019,2020],\"y\":[18.783748429916685,19.027553515795116,19.148492257538713,18.482591199730084,18.86701309666201,19.224993148807894],\"type\":\"scatter\"},{\"hoverlabel\":{\"bgcolor\":\"grey\"},\"line\":{\"color\":\"grey\",\"width\":1},\"mode\":\"lines\",\"name\":\"chicagotribune.com\",\"showlegend\":false,\"x\":[2015,2016,2017,2018,2019,2020],\"y\":[19.40264682861677,19.286927886703637,19.689144382961587,20.17873986735446,22.28747795414462,20.39016018306636],\"type\":\"scatter\"},{\"hoverlabel\":{\"bgcolor\":\"grey\"},\"line\":{\"color\":\"grey\",\"width\":1},\"mode\":\"lines\",\"name\":\"sfgate.com\",\"showlegend\":false,\"x\":[2015,2016,2017,2018,2019,2020],\"y\":[18.513506589621702,18.793450019134323,18.46443718164528,18.610730180781776,19.709712267735544,20.896895768199137],\"type\":\"scatter\"},{\"hoverlabel\":{\"bgcolor\":\"grey\"},\"line\":{\"color\":\"grey\",\"width\":1},\"mode\":\"lines\",\"name\":\"upi.com\",\"showlegend\":false,\"x\":[2015,2016,2017,2018,2019,2020],\"y\":[22.24861919969942,23.104108146067414,23.201390508557402,23.688164977925325,22.534717066399818,23.122152960920644],\"type\":\"scatter\"},{\"hoverlabel\":{\"bgcolor\":\"grey\"},\"line\":{\"color\":\"grey\",\"width\":1},\"mode\":\"lines\",\"name\":\"chron.com\",\"showlegend\":false,\"x\":[2015,2016,2017,2018,2019,2020],\"y\":[18.88173630788469,20.46607043337491,20.02901686203551,19.66817550129045,19.07662634358264,19.888201830324018],\"type\":\"scatter\"},{\"hoverlabel\":{\"bgcolor\":\"grey\"},\"line\":{\"color\":\"grey\",\"width\":1},\"mode\":\"lines\",\"name\":\"cnn.com\",\"showlegend\":false,\"x\":[2015,2016,2017,2018,2019,2020],\"y\":[19.65596619009082,19.84926851410016,20.116053851307946,20.880143484342756,21.709342698966367,22.124026887603563],\"type\":\"scatter\"},{\"hoverlabel\":{\"bgcolor\":\"grey\"},\"line\":{\"color\":\"grey\",\"width\":1},\"mode\":\"lines\",\"name\":\"nytimes.com\",\"showlegend\":false,\"x\":[2015,2016,2017,2018,2019,2020],\"y\":[12.11896293523025,17.502104536722147,16.857588413191515,16.627302256011752,16.598538985288663,16.808564287452167],\"type\":\"scatter\"},{\"hoverlabel\":{\"bgcolor\":\"grey\"},\"line\":{\"color\":\"grey\",\"width\":1},\"mode\":\"lines\",\"name\":\"thehill.com\",\"showlegend\":false,\"x\":[2015,2016,2017,2018,2019,2020],\"y\":[20.92376333976611,21.224656777853074,21.54474980990095,21.98341692282802,22.608115983396964,22.816688098299757],\"type\":\"scatter\"},{\"hoverlabel\":{\"bgcolor\":\"grey\"},\"line\":{\"color\":\"grey\",\"width\":1},\"mode\":\"lines\",\"name\":\"washingtonpost.com\",\"showlegend\":false,\"x\":[2015,2016,2017,2018,2019,2020],\"y\":[21.06790541887635,20.85447964734848,21.220473518063837,21.60715095378437,19.660714285714285,null],\"type\":\"scatter\"},{\"hoverlabel\":{\"bgcolor\":\"grey\"},\"line\":{\"color\":\"grey\",\"width\":1},\"mode\":\"lines\",\"name\":\"mysanantonio.com\",\"showlegend\":false,\"x\":[2015,2016,2017,2018,2019,2020],\"y\":[18.078522779349253,19.26854411650183,19.298419131326742,19.394123824256727,19.760153537412798,20.285458841560764],\"type\":\"scatter\"},{\"hoverlabel\":{\"bgcolor\":\"grey\"},\"line\":{\"color\":\"grey\",\"width\":1},\"mode\":\"lines\",\"name\":\"seattletimes.com\",\"showlegend\":false,\"x\":[2015,2016,2017,2018,2019,2020],\"y\":[19.697708380139293,19.213863560517165,19.12789469359969,19.11530298206516,20.10093826067714,19.78907819182873],\"type\":\"scatter\"},{\"hoverlabel\":{\"bgcolor\":\"grey\"},\"line\":{\"color\":\"grey\",\"width\":1},\"mode\":\"lines\",\"name\":\"washingtontimes.com\",\"showlegend\":false,\"x\":[2015,2016,2017,2018,2019,2020],\"y\":[20.063573118970353,19.996470126813964,20.12661611500503,20.186804542137907,20.203169461642545,20.458831384555257],\"type\":\"scatter\"},{\"hoverlabel\":{\"bgcolor\":\"grey\"},\"line\":{\"color\":\"grey\",\"width\":1},\"mode\":\"lines\",\"name\":\"philly.com\",\"showlegend\":false,\"x\":[2015,2016,2017,2018,2019,2020],\"y\":[18.7520913347714,18.71465247572876,19.604022379224155,20.002852959945944,19.68781637806206,19.648244132549067],\"type\":\"scatter\"},{\"hoverlabel\":{\"bgcolor\":\"grey\"},\"line\":{\"color\":\"grey\",\"width\":1},\"mode\":\"lines\",\"name\":\"newsok.com\",\"showlegend\":false,\"x\":[2015,2016,2017,2018,2019,2020],\"y\":[19.509582986123693,26.24395583832335,26.928159944378688,22.749899176691617,21.71920944805977,22.115412034958943],\"type\":\"scatter\"},{\"hoverlabel\":{\"bgcolor\":\"grey\"},\"line\":{\"color\":\"grey\",\"width\":1},\"mode\":\"lines\",\"name\":\"cbsnews.com\",\"showlegend\":false,\"x\":[2015,2016,2017,2018,2019,2020],\"y\":[19.522749296294588,19.72308031774051,19.95695596093606,20.825231759450503,21.217054943769284,21.734777040400513],\"type\":\"scatter\"},{\"hoverlabel\":{\"bgcolor\":\"grey\"},\"line\":{\"color\":\"grey\",\"width\":1},\"mode\":\"lines\",\"name\":\"foxnews.com\",\"showlegend\":false,\"x\":[2015,2016,2017,2018,2019,2020],\"y\":[20.21142499935776,19.955468604434508,21.156051531928373,21.997927759220886,24.333229996959528,24.777845368916797],\"type\":\"scatter\"},{\"hoverlabel\":{\"bgcolor\":\"grey\"},\"line\":{\"color\":\"grey\",\"width\":1},\"mode\":\"lines\",\"name\":\"startribune.com\",\"showlegend\":false,\"x\":[2015,2016,2017,2018,2019,2020],\"y\":[18.727979047600503,18.445287678922256,18.778052083777673,18.988730516195513,19.333394461764165,19.707518438337065],\"type\":\"scatter\"},{\"error_y\":{\"array\":[0.001654,0.001323,0.000896,0.00088,0.000994,0.002072],\"color\":\"black\",\"type\":\"data\"},\"hoverlabel\":{\"bgcolor\":\"blue\"},\"line\":{\"color\":\"blue\",\"width\":4},\"mode\":\"lines\",\"name\":\"Total mean\",\"x\":[2015,2016,2017,2018,2019,2020],\"y\":[20.18842307433412,20.12395530104067,20.08056028732771,20.172581399175435,20.661770287576623,21.20594441919356],\"type\":\"scatter\"}],                        {\"template\":{\"data\":{\"bar\":[{\"error_x\":{\"color\":\"#2a3f5f\"},\"error_y\":{\"color\":\"#2a3f5f\"},\"marker\":{\"line\":{\"color\":\"#E5ECF6\",\"width\":0.5},\"pattern\":{\"fillmode\":\"overlay\",\"size\":10,\"solidity\":0.2}},\"type\":\"bar\"}],\"barpolar\":[{\"marker\":{\"line\":{\"color\":\"#E5ECF6\",\"width\":0.5},\"pattern\":{\"fillmode\":\"overlay\",\"size\":10,\"solidity\":0.2}},\"type\":\"barpolar\"}],\"carpet\":[{\"aaxis\":{\"endlinecolor\":\"#2a3f5f\",\"gridcolor\":\"white\",\"linecolor\":\"white\",\"minorgridcolor\":\"white\",\"startlinecolor\":\"#2a3f5f\"},\"baxis\":{\"endlinecolor\":\"#2a3f5f\",\"gridcolor\":\"white\",\"linecolor\":\"white\",\"minorgridcolor\":\"white\",\"startlinecolor\":\"#2a3f5f\"},\"type\":\"carpet\"}],\"choropleth\":[{\"colorbar\":{\"outlinewidth\":0,\"ticks\":\"\"},\"type\":\"choropleth\"}],\"contour\":[{\"colorbar\":{\"outlinewidth\":0,\"ticks\":\"\"},\"colorscale\":[[0.0,\"#0d0887\"],[0.1111111111111111,\"#46039f\"],[0.2222222222222222,\"#7201a8\"],[0.3333333333333333,\"#9c179e\"],[0.4444444444444444,\"#bd3786\"],[0.5555555555555556,\"#d8576b\"],[0.6666666666666666,\"#ed7953\"],[0.7777777777777778,\"#fb9f3a\"],[0.8888888888888888,\"#fdca26\"],[1.0,\"#f0f921\"]],\"type\":\"contour\"}],\"contourcarpet\":[{\"colorbar\":{\"outlinewidth\":0,\"ticks\":\"\"},\"type\":\"contourcarpet\"}],\"heatmap\":[{\"colorbar\":{\"outlinewidth\":0,\"ticks\":\"\"},\"colorscale\":[[0.0,\"#0d0887\"],[0.1111111111111111,\"#46039f\"],[0.2222222222222222,\"#7201a8\"],[0.3333333333333333,\"#9c179e\"],[0.4444444444444444,\"#bd3786\"],[0.5555555555555556,\"#d8576b\"],[0.6666666666666666,\"#ed7953\"],[0.7777777777777778,\"#fb9f3a\"],[0.8888888888888888,\"#fdca26\"],[1.0,\"#f0f921\"]],\"type\":\"heatmap\"}],\"heatmapgl\":[{\"colorbar\":{\"outlinewidth\":0,\"ticks\":\"\"},\"colorscale\":[[0.0,\"#0d0887\"],[0.1111111111111111,\"#46039f\"],[0.2222222222222222,\"#7201a8\"],[0.3333333333333333,\"#9c179e\"],[0.4444444444444444,\"#bd3786\"],[0.5555555555555556,\"#d8576b\"],[0.6666666666666666,\"#ed7953\"],[0.7777777777777778,\"#fb9f3a\"],[0.8888888888888888,\"#fdca26\"],[1.0,\"#f0f921\"]],\"type\":\"heatmapgl\"}],\"histogram\":[{\"marker\":{\"pattern\":{\"fillmode\":\"overlay\",\"size\":10,\"solidity\":0.2}},\"type\":\"histogram\"}],\"histogram2d\":[{\"colorbar\":{\"outlinewidth\":0,\"ticks\":\"\"},\"colorscale\":[[0.0,\"#0d0887\"],[0.1111111111111111,\"#46039f\"],[0.2222222222222222,\"#7201a8\"],[0.3333333333333333,\"#9c179e\"],[0.4444444444444444,\"#bd3786\"],[0.5555555555555556,\"#d8576b\"],[0.6666666666666666,\"#ed7953\"],[0.7777777777777778,\"#fb9f3a\"],[0.8888888888888888,\"#fdca26\"],[1.0,\"#f0f921\"]],\"type\":\"histogram2d\"}],\"histogram2dcontour\":[{\"colorbar\":{\"outlinewidth\":0,\"ticks\":\"\"},\"colorscale\":[[0.0,\"#0d0887\"],[0.1111111111111111,\"#46039f\"],[0.2222222222222222,\"#7201a8\"],[0.3333333333333333,\"#9c179e\"],[0.4444444444444444,\"#bd3786\"],[0.5555555555555556,\"#d8576b\"],[0.6666666666666666,\"#ed7953\"],[0.7777777777777778,\"#fb9f3a\"],[0.8888888888888888,\"#fdca26\"],[1.0,\"#f0f921\"]],\"type\":\"histogram2dcontour\"}],\"mesh3d\":[{\"colorbar\":{\"outlinewidth\":0,\"ticks\":\"\"},\"type\":\"mesh3d\"}],\"parcoords\":[{\"line\":{\"colorbar\":{\"outlinewidth\":0,\"ticks\":\"\"}},\"type\":\"parcoords\"}],\"pie\":[{\"automargin\":true,\"type\":\"pie\"}],\"scatter\":[{\"marker\":{\"colorbar\":{\"outlinewidth\":0,\"ticks\":\"\"}},\"type\":\"scatter\"}],\"scatter3d\":[{\"line\":{\"colorbar\":{\"outlinewidth\":0,\"ticks\":\"\"}},\"marker\":{\"colorbar\":{\"outlinewidth\":0,\"ticks\":\"\"}},\"type\":\"scatter3d\"}],\"scattercarpet\":[{\"marker\":{\"colorbar\":{\"outlinewidth\":0,\"ticks\":\"\"}},\"type\":\"scattercarpet\"}],\"scattergeo\":[{\"marker\":{\"colorbar\":{\"outlinewidth\":0,\"ticks\":\"\"}},\"type\":\"scattergeo\"}],\"scattergl\":[{\"marker\":{\"colorbar\":{\"outlinewidth\":0,\"ticks\":\"\"}},\"type\":\"scattergl\"}],\"scattermapbox\":[{\"marker\":{\"colorbar\":{\"outlinewidth\":0,\"ticks\":\"\"}},\"type\":\"scattermapbox\"}],\"scatterpolar\":[{\"marker\":{\"colorbar\":{\"outlinewidth\":0,\"ticks\":\"\"}},\"type\":\"scatterpolar\"}],\"scatterpolargl\":[{\"marker\":{\"colorbar\":{\"outlinewidth\":0,\"ticks\":\"\"}},\"type\":\"scatterpolargl\"}],\"scatterternary\":[{\"marker\":{\"colorbar\":{\"outlinewidth\":0,\"ticks\":\"\"}},\"type\":\"scatterternary\"}],\"surface\":[{\"colorbar\":{\"outlinewidth\":0,\"ticks\":\"\"},\"colorscale\":[[0.0,\"#0d0887\"],[0.1111111111111111,\"#46039f\"],[0.2222222222222222,\"#7201a8\"],[0.3333333333333333,\"#9c179e\"],[0.4444444444444444,\"#bd3786\"],[0.5555555555555556,\"#d8576b\"],[0.6666666666666666,\"#ed7953\"],[0.7777777777777778,\"#fb9f3a\"],[0.8888888888888888,\"#fdca26\"],[1.0,\"#f0f921\"]],\"type\":\"surface\"}],\"table\":[{\"cells\":{\"fill\":{\"color\":\"#EBF0F8\"},\"line\":{\"color\":\"white\"}},\"header\":{\"fill\":{\"color\":\"#C8D4E3\"},\"line\":{\"color\":\"white\"}},\"type\":\"table\"}]},\"layout\":{\"annotationdefaults\":{\"arrowcolor\":\"#2a3f5f\",\"arrowhead\":0,\"arrowwidth\":1},\"autotypenumbers\":\"strict\",\"coloraxis\":{\"colorbar\":{\"outlinewidth\":0,\"ticks\":\"\"}},\"colorscale\":{\"diverging\":[[0,\"#8e0152\"],[0.1,\"#c51b7d\"],[0.2,\"#de77ae\"],[0.3,\"#f1b6da\"],[0.4,\"#fde0ef\"],[0.5,\"#f7f7f7\"],[0.6,\"#e6f5d0\"],[0.7,\"#b8e186\"],[0.8,\"#7fbc41\"],[0.9,\"#4d9221\"],[1,\"#276419\"]],\"sequential\":[[0.0,\"#0d0887\"],[0.1111111111111111,\"#46039f\"],[0.2222222222222222,\"#7201a8\"],[0.3333333333333333,\"#9c179e\"],[0.4444444444444444,\"#bd3786\"],[0.5555555555555556,\"#d8576b\"],[0.6666666666666666,\"#ed7953\"],[0.7777777777777778,\"#fb9f3a\"],[0.8888888888888888,\"#fdca26\"],[1.0,\"#f0f921\"]],\"sequentialminus\":[[0.0,\"#0d0887\"],[0.1111111111111111,\"#46039f\"],[0.2222222222222222,\"#7201a8\"],[0.3333333333333333,\"#9c179e\"],[0.4444444444444444,\"#bd3786\"],[0.5555555555555556,\"#d8576b\"],[0.6666666666666666,\"#ed7953\"],[0.7777777777777778,\"#fb9f3a\"],[0.8888888888888888,\"#fdca26\"],[1.0,\"#f0f921\"]]},\"colorway\":[\"#636efa\",\"#EF553B\",\"#00cc96\",\"#ab63fa\",\"#FFA15A\",\"#19d3f3\",\"#FF6692\",\"#B6E880\",\"#FF97FF\",\"#FECB52\"],\"font\":{\"color\":\"#2a3f5f\"},\"geo\":{\"bgcolor\":\"white\",\"lakecolor\":\"white\",\"landcolor\":\"#E5ECF6\",\"showlakes\":true,\"showland\":true,\"subunitcolor\":\"white\"},\"hoverlabel\":{\"align\":\"left\"},\"hovermode\":\"closest\",\"mapbox\":{\"style\":\"light\"},\"paper_bgcolor\":\"white\",\"plot_bgcolor\":\"#E5ECF6\",\"polar\":{\"angularaxis\":{\"gridcolor\":\"white\",\"linecolor\":\"white\",\"ticks\":\"\"},\"bgcolor\":\"#E5ECF6\",\"radialaxis\":{\"gridcolor\":\"white\",\"linecolor\":\"white\",\"ticks\":\"\"}},\"scene\":{\"xaxis\":{\"backgroundcolor\":\"#E5ECF6\",\"gridcolor\":\"white\",\"gridwidth\":2,\"linecolor\":\"white\",\"showbackground\":true,\"ticks\":\"\",\"zerolinecolor\":\"white\"},\"yaxis\":{\"backgroundcolor\":\"#E5ECF6\",\"gridcolor\":\"white\",\"gridwidth\":2,\"linecolor\":\"white\",\"showbackground\":true,\"ticks\":\"\",\"zerolinecolor\":\"white\"},\"zaxis\":{\"backgroundcolor\":\"#E5ECF6\",\"gridcolor\":\"white\",\"gridwidth\":2,\"linecolor\":\"white\",\"showbackground\":true,\"ticks\":\"\",\"zerolinecolor\":\"white\"}},\"shapedefaults\":{\"line\":{\"color\":\"#2a3f5f\"}},\"ternary\":{\"aaxis\":{\"gridcolor\":\"white\",\"linecolor\":\"white\",\"ticks\":\"\"},\"baxis\":{\"gridcolor\":\"white\",\"linecolor\":\"white\",\"ticks\":\"\"},\"bgcolor\":\"#E5ECF6\",\"caxis\":{\"gridcolor\":\"white\",\"linecolor\":\"white\",\"ticks\":\"\"}},\"title\":{\"x\":0.05},\"xaxis\":{\"automargin\":true,\"gridcolor\":\"white\",\"linecolor\":\"white\",\"ticks\":\"\",\"title\":{\"standoff\":15},\"zerolinecolor\":\"white\",\"zerolinewidth\":2},\"yaxis\":{\"automargin\":true,\"gridcolor\":\"white\",\"linecolor\":\"white\",\"ticks\":\"\",\"title\":{\"standoff\":15},\"zerolinecolor\":\"white\",\"zerolinewidth\":2}}},\"title\":{\"text\":\"Evolution of mean quote length\",\"x\":0.5},\"xaxis\":{\"title\":{\"text\":\"Year\"}},\"yaxis\":{\"title\":{\"text\":\"Mean quote length\"}}},                        {\"responsive\": true}                    ).then(function(){\n",
              "                            \n",
              "var gd = document.getElementById('3f35b6fc-ec5d-4ff7-aff8-b12f615cb3fd');\n",
              "var x = new MutationObserver(function (mutations, observer) {{\n",
              "        var display = window.getComputedStyle(gd).display;\n",
              "        if (!display || display === 'none') {{\n",
              "            console.log([gd, 'removed!']);\n",
              "            Plotly.purge(gd);\n",
              "            observer.disconnect();\n",
              "        }}\n",
              "}});\n",
              "\n",
              "// Listen for the removal of the full notebook cells\n",
              "var notebookContainer = gd.closest('#notebook-container');\n",
              "if (notebookContainer) {{\n",
              "    x.observe(notebookContainer, {childList: true});\n",
              "}}\n",
              "\n",
              "// Listen for the clearing of the current output cell\n",
              "var outputEl = gd.closest('.output');\n",
              "if (outputEl) {{\n",
              "    x.observe(outputEl, {childList: true});\n",
              "}}\n",
              "\n",
              "                        })                };                            </script>        </div>\n",
              "</body>\n",
              "</html>"
            ]
          },
          "metadata": {}
        }
      ],
      "id": "-GF_xv_44b71"
    },
    {
      "cell_type": "markdown",
      "source": [
        "Here we show the distribution of mean quote length per outlet per year. We see that apart from a few outliers, it stays between 18 and 22 words. The mean quote length for all news outlets increased from 20 to 21 words between 2015 and 2020."
      ],
      "metadata": {
        "id": "uq5zsmLNWsAY"
      },
      "id": "uq5zsmLNWsAY"
    },
    {
      "cell_type": "code",
      "source": [
        "fig = go.Figure()\n",
        "\n",
        "for outlet in list_domains:\n",
        "  fig.add_trace(go.Scatter(x=time_scale,\n",
        "                           y=df_means_compound[outlet].values,\n",
        "                           name=outlet,\n",
        "                           mode = \"lines\",\n",
        "                           line=dict(color='grey', width=1),\n",
        "                           showlegend=False,\n",
        "                           hoverlabel=dict(bgcolor='grey')))\n",
        "\n",
        "fig.add_trace(go.Scatter(x=time_scale,\n",
        "                         y=compound_mean,\n",
        "                         mode=\"lines\",\n",
        "                         name=\"Total mean\",\n",
        "                         line=dict(color='blue', width=4),\n",
        "                         error_y=dict(type='data', array=np.round(compound_error,6),color=\"black\"),\n",
        "                         hoverlabel=dict(bgcolor='blue')))\n",
        "\n",
        "fig.update_layout(\n",
        "    title=\"Evolution of mean quote polarity\",\n",
        "    title_x=0.5,\n",
        "    xaxis_title=\"Year\",\n",
        "    yaxis_title=\"Mean polarity score\")\n",
        "\n",
        "fig.show()\n",
        "fig.write_html('1.2.html')"
      ],
      "metadata": {
        "colab": {
          "base_uri": "https://localhost:8080/",
          "height": 542
        },
        "id": "xWP971d1IcMK",
        "outputId": "f8902c71-54a8-44d1-8b97-8a9199dfaedf"
      },
      "execution_count": null,
      "outputs": [
        {
          "output_type": "display_data",
          "data": {
            "text/html": [
              "<html>\n",
              "<head><meta charset=\"utf-8\" /></head>\n",
              "<body>\n",
              "    <div>            <script src=\"https://cdnjs.cloudflare.com/ajax/libs/mathjax/2.7.5/MathJax.js?config=TeX-AMS-MML_SVG\"></script><script type=\"text/javascript\">if (window.MathJax) {MathJax.Hub.Config({SVG: {font: \"STIX-Web\"}});}</script>                <script type=\"text/javascript\">window.PlotlyConfig = {MathJaxConfig: 'local'};</script>\n",
              "        <script src=\"https://cdn.plot.ly/plotly-2.6.3.min.js\"></script>                <div id=\"ff4078ac-5381-40ef-b5df-633c137848e3\" class=\"plotly-graph-div\" style=\"height:525px; width:100%;\"></div>            <script type=\"text/javascript\">                                    window.PLOTLYENV=window.PLOTLYENV || {};                                    if (document.getElementById(\"ff4078ac-5381-40ef-b5df-633c137848e3\")) {                    Plotly.newPlot(                        \"ff4078ac-5381-40ef-b5df-633c137848e3\",                        [{\"hoverlabel\":{\"bgcolor\":\"grey\"},\"line\":{\"color\":\"grey\",\"width\":1},\"mode\":\"lines\",\"name\":\"latimes.com\",\"showlegend\":false,\"x\":[2015,2016,2017,2018,2019,2020],\"y\":[0.12555690322411162,0.13178588298203997,0.1303720070992571,0.13732709495557915,0.12971543233018684,0.11222532158411766],\"type\":\"scatter\"},{\"hoverlabel\":{\"bgcolor\":\"grey\"},\"line\":{\"color\":\"grey\",\"width\":1},\"mode\":\"lines\",\"name\":\"breitbart.com\",\"showlegend\":false,\"x\":[2015,2016,2017,2018,2019,2020],\"y\":[0.036081899127037916,0.09219293967968037,0.09464897451481422,0.1054693553638539,0.09739021103295954,0.09574037241612393],\"type\":\"scatter\"},{\"hoverlabel\":{\"bgcolor\":\"grey\"},\"line\":{\"color\":\"grey\",\"width\":1},\"mode\":\"lines\",\"name\":\"wtop.com\",\"showlegend\":false,\"x\":[2015,2016,2017,2018,2019,2020],\"y\":[0.15998055400715513,0.1550555174031065,0.14861807742460917,0.10584845826578311,0.10075249922103521,0.10329125787886988],\"type\":\"scatter\"},{\"hoverlabel\":{\"bgcolor\":\"grey\"},\"line\":{\"color\":\"grey\",\"width\":1},\"mode\":\"lines\",\"name\":\"chicagotribune.com\",\"showlegend\":false,\"x\":[2015,2016,2017,2018,2019,2020],\"y\":[0.15417210920502092,0.14229753022818578,0.1413982737599488,0.144019651191353,0.09978430335096991,0.12955537757437083],\"type\":\"scatter\"},{\"hoverlabel\":{\"bgcolor\":\"grey\"},\"line\":{\"color\":\"grey\",\"width\":1},\"mode\":\"lines\",\"name\":\"sfgate.com\",\"showlegend\":false,\"x\":[2015,2016,2017,2018,2019,2020],\"y\":[0.10768945518202751,0.10796498016072911,0.09602891644623059,0.0983566360052701,0.11796779775299403,0.13086097927665077],\"type\":\"scatter\"},{\"hoverlabel\":{\"bgcolor\":\"grey\"},\"line\":{\"color\":\"grey\",\"width\":1},\"mode\":\"lines\",\"name\":\"upi.com\",\"showlegend\":false,\"x\":[2015,2016,2017,2018,2019,2020],\"y\":[0.17725108585384347,0.2045794319600517,0.2181069014538153,0.2191651842630038,0.17687770263727035,0.175097422680411],\"type\":\"scatter\"},{\"hoverlabel\":{\"bgcolor\":\"grey\"},\"line\":{\"color\":\"grey\",\"width\":1},\"mode\":\"lines\",\"name\":\"chron.com\",\"showlegend\":false,\"x\":[2015,2016,2017,2018,2019,2020],\"y\":[0.12954684253236018,0.13192921896977367,0.15525806125927677,0.1424853831645804,0.11282581738511412,0.11894622495671493],\"type\":\"scatter\"},{\"hoverlabel\":{\"bgcolor\":\"grey\"},\"line\":{\"color\":\"grey\",\"width\":1},\"mode\":\"lines\",\"name\":\"cnn.com\",\"showlegend\":false,\"x\":[2015,2016,2017,2018,2019,2020],\"y\":[0.08086915475227109,0.09068605579544287,0.08657304809731235,0.08335174646482575,0.08150280008960231,0.09504010004689667],\"type\":\"scatter\"},{\"hoverlabel\":{\"bgcolor\":\"grey\"},\"line\":{\"color\":\"grey\",\"width\":1},\"mode\":\"lines\",\"name\":\"nytimes.com\",\"showlegend\":false,\"x\":[2015,2016,2017,2018,2019,2020],\"y\":[0.04731309434668677,0.10686133496639522,0.08452124467669611,0.07919753909741704,0.07738830224500372,0.06553207847647605],\"type\":\"scatter\"},{\"hoverlabel\":{\"bgcolor\":\"grey\"},\"line\":{\"color\":\"grey\",\"width\":1},\"mode\":\"lines\",\"name\":\"thehill.com\",\"showlegend\":false,\"x\":[2015,2016,2017,2018,2019,2020],\"y\":[0.09289280023751846,0.0818647943176963,0.07433370925214858,0.06654186620288109,0.06717453051224545,0.07510382911844457],\"type\":\"scatter\"},{\"hoverlabel\":{\"bgcolor\":\"grey\"},\"line\":{\"color\":\"grey\",\"width\":1},\"mode\":\"lines\",\"name\":\"washingtonpost.com\",\"showlegend\":false,\"x\":[2015,2016,2017,2018,2019,2020],\"y\":[0.11278142580557399,0.0998904185525343,0.09224148684673189,0.09344334698966701,0.05581339285714285,null],\"type\":\"scatter\"},{\"hoverlabel\":{\"bgcolor\":\"grey\"},\"line\":{\"color\":\"grey\",\"width\":1},\"mode\":\"lines\",\"name\":\"mysanantonio.com\",\"showlegend\":false,\"x\":[2015,2016,2017,2018,2019,2020],\"y\":[0.12710967905058854,0.154802933961527,0.1453363966854182,0.14718866939172823,0.15735155767209247,0.14187291014751893],\"type\":\"scatter\"},{\"hoverlabel\":{\"bgcolor\":\"grey\"},\"line\":{\"color\":\"grey\",\"width\":1},\"mode\":\"lines\",\"name\":\"seattletimes.com\",\"showlegend\":false,\"x\":[2015,2016,2017,2018,2019,2020],\"y\":[0.13635342744451967,0.13419105726065975,0.13284134027395494,0.12826719079793636,0.17740558486390132,0.1330502233039541],\"type\":\"scatter\"},{\"hoverlabel\":{\"bgcolor\":\"grey\"},\"line\":{\"color\":\"grey\",\"width\":1},\"mode\":\"lines\",\"name\":\"washingtontimes.com\",\"showlegend\":false,\"x\":[2015,2016,2017,2018,2019,2020],\"y\":[0.15667412818951365,0.15431952542816443,0.15039591678931086,0.1445516789796924,0.13163380581411202,0.11266020095756417],\"type\":\"scatter\"},{\"hoverlabel\":{\"bgcolor\":\"grey\"},\"line\":{\"color\":\"grey\",\"width\":1},\"mode\":\"lines\",\"name\":\"philly.com\",\"showlegend\":false,\"x\":[2015,2016,2017,2018,2019,2020],\"y\":[0.1417861489626693,0.1365289460237543,0.1432266391698317,0.15553109069409238,0.14268814786448392,0.1328006347912171],\"type\":\"scatter\"},{\"hoverlabel\":{\"bgcolor\":\"grey\"},\"line\":{\"color\":\"grey\",\"width\":1},\"mode\":\"lines\",\"name\":\"newsok.com\",\"showlegend\":false,\"x\":[2015,2016,2017,2018,2019,2020],\"y\":[0.14398105141117898,0.13634201347305608,0.16931054073515792,0.20335146415115446,0.21227699445650278,0.19868120824862617],\"type\":\"scatter\"},{\"hoverlabel\":{\"bgcolor\":\"grey\"},\"line\":{\"color\":\"grey\",\"width\":1},\"mode\":\"lines\",\"name\":\"cbsnews.com\",\"showlegend\":false,\"x\":[2015,2016,2017,2018,2019,2020],\"y\":[0.06845361312352999,0.07725367086576161,0.06467704686444356,0.07406914837408116,0.07882733880284862,0.08556740016299842],\"type\":\"scatter\"},{\"hoverlabel\":{\"bgcolor\":\"grey\"},\"line\":{\"color\":\"grey\",\"width\":1},\"mode\":\"lines\",\"name\":\"foxnews.com\",\"showlegend\":false,\"x\":[2015,2016,2017,2018,2019,2020],\"y\":[0.08150768802610106,0.07115513752131915,0.06865051064279185,0.07165559299547153,0.08427342029486352,0.09765814560439684],\"type\":\"scatter\"},{\"hoverlabel\":{\"bgcolor\":\"grey\"},\"line\":{\"color\":\"grey\",\"width\":1},\"mode\":\"lines\",\"name\":\"startribune.com\",\"showlegend\":false,\"x\":[2015,2016,2017,2018,2019,2020],\"y\":[0.13254138293625278,0.12792223182711393,0.13345224907223,0.14974219085854176,0.15295466556104106,0.13320856786408727],\"type\":\"scatter\"},{\"error_y\":{\"array\":[3.8e-05,3.8e-05,2.6e-05,2.2e-05,2.2e-05,2.9e-05],\"color\":\"black\",\"type\":\"data\"},\"hoverlabel\":{\"bgcolor\":\"blue\"},\"line\":{\"color\":\"blue\",\"width\":4},\"mode\":\"lines\",\"name\":\"Total mean\",\"x\":[2015,2016,2017,2018,2019,2020],\"y\":[0.12758425571828616,0.12939973040783878,0.12242646523182599,0.11841499574031852,0.12054682839108477,0.11502430307555873],\"type\":\"scatter\"}],                        {\"template\":{\"data\":{\"bar\":[{\"error_x\":{\"color\":\"#2a3f5f\"},\"error_y\":{\"color\":\"#2a3f5f\"},\"marker\":{\"line\":{\"color\":\"#E5ECF6\",\"width\":0.5},\"pattern\":{\"fillmode\":\"overlay\",\"size\":10,\"solidity\":0.2}},\"type\":\"bar\"}],\"barpolar\":[{\"marker\":{\"line\":{\"color\":\"#E5ECF6\",\"width\":0.5},\"pattern\":{\"fillmode\":\"overlay\",\"size\":10,\"solidity\":0.2}},\"type\":\"barpolar\"}],\"carpet\":[{\"aaxis\":{\"endlinecolor\":\"#2a3f5f\",\"gridcolor\":\"white\",\"linecolor\":\"white\",\"minorgridcolor\":\"white\",\"startlinecolor\":\"#2a3f5f\"},\"baxis\":{\"endlinecolor\":\"#2a3f5f\",\"gridcolor\":\"white\",\"linecolor\":\"white\",\"minorgridcolor\":\"white\",\"startlinecolor\":\"#2a3f5f\"},\"type\":\"carpet\"}],\"choropleth\":[{\"colorbar\":{\"outlinewidth\":0,\"ticks\":\"\"},\"type\":\"choropleth\"}],\"contour\":[{\"colorbar\":{\"outlinewidth\":0,\"ticks\":\"\"},\"colorscale\":[[0.0,\"#0d0887\"],[0.1111111111111111,\"#46039f\"],[0.2222222222222222,\"#7201a8\"],[0.3333333333333333,\"#9c179e\"],[0.4444444444444444,\"#bd3786\"],[0.5555555555555556,\"#d8576b\"],[0.6666666666666666,\"#ed7953\"],[0.7777777777777778,\"#fb9f3a\"],[0.8888888888888888,\"#fdca26\"],[1.0,\"#f0f921\"]],\"type\":\"contour\"}],\"contourcarpet\":[{\"colorbar\":{\"outlinewidth\":0,\"ticks\":\"\"},\"type\":\"contourcarpet\"}],\"heatmap\":[{\"colorbar\":{\"outlinewidth\":0,\"ticks\":\"\"},\"colorscale\":[[0.0,\"#0d0887\"],[0.1111111111111111,\"#46039f\"],[0.2222222222222222,\"#7201a8\"],[0.3333333333333333,\"#9c179e\"],[0.4444444444444444,\"#bd3786\"],[0.5555555555555556,\"#d8576b\"],[0.6666666666666666,\"#ed7953\"],[0.7777777777777778,\"#fb9f3a\"],[0.8888888888888888,\"#fdca26\"],[1.0,\"#f0f921\"]],\"type\":\"heatmap\"}],\"heatmapgl\":[{\"colorbar\":{\"outlinewidth\":0,\"ticks\":\"\"},\"colorscale\":[[0.0,\"#0d0887\"],[0.1111111111111111,\"#46039f\"],[0.2222222222222222,\"#7201a8\"],[0.3333333333333333,\"#9c179e\"],[0.4444444444444444,\"#bd3786\"],[0.5555555555555556,\"#d8576b\"],[0.6666666666666666,\"#ed7953\"],[0.7777777777777778,\"#fb9f3a\"],[0.8888888888888888,\"#fdca26\"],[1.0,\"#f0f921\"]],\"type\":\"heatmapgl\"}],\"histogram\":[{\"marker\":{\"pattern\":{\"fillmode\":\"overlay\",\"size\":10,\"solidity\":0.2}},\"type\":\"histogram\"}],\"histogram2d\":[{\"colorbar\":{\"outlinewidth\":0,\"ticks\":\"\"},\"colorscale\":[[0.0,\"#0d0887\"],[0.1111111111111111,\"#46039f\"],[0.2222222222222222,\"#7201a8\"],[0.3333333333333333,\"#9c179e\"],[0.4444444444444444,\"#bd3786\"],[0.5555555555555556,\"#d8576b\"],[0.6666666666666666,\"#ed7953\"],[0.7777777777777778,\"#fb9f3a\"],[0.8888888888888888,\"#fdca26\"],[1.0,\"#f0f921\"]],\"type\":\"histogram2d\"}],\"histogram2dcontour\":[{\"colorbar\":{\"outlinewidth\":0,\"ticks\":\"\"},\"colorscale\":[[0.0,\"#0d0887\"],[0.1111111111111111,\"#46039f\"],[0.2222222222222222,\"#7201a8\"],[0.3333333333333333,\"#9c179e\"],[0.4444444444444444,\"#bd3786\"],[0.5555555555555556,\"#d8576b\"],[0.6666666666666666,\"#ed7953\"],[0.7777777777777778,\"#fb9f3a\"],[0.8888888888888888,\"#fdca26\"],[1.0,\"#f0f921\"]],\"type\":\"histogram2dcontour\"}],\"mesh3d\":[{\"colorbar\":{\"outlinewidth\":0,\"ticks\":\"\"},\"type\":\"mesh3d\"}],\"parcoords\":[{\"line\":{\"colorbar\":{\"outlinewidth\":0,\"ticks\":\"\"}},\"type\":\"parcoords\"}],\"pie\":[{\"automargin\":true,\"type\":\"pie\"}],\"scatter\":[{\"marker\":{\"colorbar\":{\"outlinewidth\":0,\"ticks\":\"\"}},\"type\":\"scatter\"}],\"scatter3d\":[{\"line\":{\"colorbar\":{\"outlinewidth\":0,\"ticks\":\"\"}},\"marker\":{\"colorbar\":{\"outlinewidth\":0,\"ticks\":\"\"}},\"type\":\"scatter3d\"}],\"scattercarpet\":[{\"marker\":{\"colorbar\":{\"outlinewidth\":0,\"ticks\":\"\"}},\"type\":\"scattercarpet\"}],\"scattergeo\":[{\"marker\":{\"colorbar\":{\"outlinewidth\":0,\"ticks\":\"\"}},\"type\":\"scattergeo\"}],\"scattergl\":[{\"marker\":{\"colorbar\":{\"outlinewidth\":0,\"ticks\":\"\"}},\"type\":\"scattergl\"}],\"scattermapbox\":[{\"marker\":{\"colorbar\":{\"outlinewidth\":0,\"ticks\":\"\"}},\"type\":\"scattermapbox\"}],\"scatterpolar\":[{\"marker\":{\"colorbar\":{\"outlinewidth\":0,\"ticks\":\"\"}},\"type\":\"scatterpolar\"}],\"scatterpolargl\":[{\"marker\":{\"colorbar\":{\"outlinewidth\":0,\"ticks\":\"\"}},\"type\":\"scatterpolargl\"}],\"scatterternary\":[{\"marker\":{\"colorbar\":{\"outlinewidth\":0,\"ticks\":\"\"}},\"type\":\"scatterternary\"}],\"surface\":[{\"colorbar\":{\"outlinewidth\":0,\"ticks\":\"\"},\"colorscale\":[[0.0,\"#0d0887\"],[0.1111111111111111,\"#46039f\"],[0.2222222222222222,\"#7201a8\"],[0.3333333333333333,\"#9c179e\"],[0.4444444444444444,\"#bd3786\"],[0.5555555555555556,\"#d8576b\"],[0.6666666666666666,\"#ed7953\"],[0.7777777777777778,\"#fb9f3a\"],[0.8888888888888888,\"#fdca26\"],[1.0,\"#f0f921\"]],\"type\":\"surface\"}],\"table\":[{\"cells\":{\"fill\":{\"color\":\"#EBF0F8\"},\"line\":{\"color\":\"white\"}},\"header\":{\"fill\":{\"color\":\"#C8D4E3\"},\"line\":{\"color\":\"white\"}},\"type\":\"table\"}]},\"layout\":{\"annotationdefaults\":{\"arrowcolor\":\"#2a3f5f\",\"arrowhead\":0,\"arrowwidth\":1},\"autotypenumbers\":\"strict\",\"coloraxis\":{\"colorbar\":{\"outlinewidth\":0,\"ticks\":\"\"}},\"colorscale\":{\"diverging\":[[0,\"#8e0152\"],[0.1,\"#c51b7d\"],[0.2,\"#de77ae\"],[0.3,\"#f1b6da\"],[0.4,\"#fde0ef\"],[0.5,\"#f7f7f7\"],[0.6,\"#e6f5d0\"],[0.7,\"#b8e186\"],[0.8,\"#7fbc41\"],[0.9,\"#4d9221\"],[1,\"#276419\"]],\"sequential\":[[0.0,\"#0d0887\"],[0.1111111111111111,\"#46039f\"],[0.2222222222222222,\"#7201a8\"],[0.3333333333333333,\"#9c179e\"],[0.4444444444444444,\"#bd3786\"],[0.5555555555555556,\"#d8576b\"],[0.6666666666666666,\"#ed7953\"],[0.7777777777777778,\"#fb9f3a\"],[0.8888888888888888,\"#fdca26\"],[1.0,\"#f0f921\"]],\"sequentialminus\":[[0.0,\"#0d0887\"],[0.1111111111111111,\"#46039f\"],[0.2222222222222222,\"#7201a8\"],[0.3333333333333333,\"#9c179e\"],[0.4444444444444444,\"#bd3786\"],[0.5555555555555556,\"#d8576b\"],[0.6666666666666666,\"#ed7953\"],[0.7777777777777778,\"#fb9f3a\"],[0.8888888888888888,\"#fdca26\"],[1.0,\"#f0f921\"]]},\"colorway\":[\"#636efa\",\"#EF553B\",\"#00cc96\",\"#ab63fa\",\"#FFA15A\",\"#19d3f3\",\"#FF6692\",\"#B6E880\",\"#FF97FF\",\"#FECB52\"],\"font\":{\"color\":\"#2a3f5f\"},\"geo\":{\"bgcolor\":\"white\",\"lakecolor\":\"white\",\"landcolor\":\"#E5ECF6\",\"showlakes\":true,\"showland\":true,\"subunitcolor\":\"white\"},\"hoverlabel\":{\"align\":\"left\"},\"hovermode\":\"closest\",\"mapbox\":{\"style\":\"light\"},\"paper_bgcolor\":\"white\",\"plot_bgcolor\":\"#E5ECF6\",\"polar\":{\"angularaxis\":{\"gridcolor\":\"white\",\"linecolor\":\"white\",\"ticks\":\"\"},\"bgcolor\":\"#E5ECF6\",\"radialaxis\":{\"gridcolor\":\"white\",\"linecolor\":\"white\",\"ticks\":\"\"}},\"scene\":{\"xaxis\":{\"backgroundcolor\":\"#E5ECF6\",\"gridcolor\":\"white\",\"gridwidth\":2,\"linecolor\":\"white\",\"showbackground\":true,\"ticks\":\"\",\"zerolinecolor\":\"white\"},\"yaxis\":{\"backgroundcolor\":\"#E5ECF6\",\"gridcolor\":\"white\",\"gridwidth\":2,\"linecolor\":\"white\",\"showbackground\":true,\"ticks\":\"\",\"zerolinecolor\":\"white\"},\"zaxis\":{\"backgroundcolor\":\"#E5ECF6\",\"gridcolor\":\"white\",\"gridwidth\":2,\"linecolor\":\"white\",\"showbackground\":true,\"ticks\":\"\",\"zerolinecolor\":\"white\"}},\"shapedefaults\":{\"line\":{\"color\":\"#2a3f5f\"}},\"ternary\":{\"aaxis\":{\"gridcolor\":\"white\",\"linecolor\":\"white\",\"ticks\":\"\"},\"baxis\":{\"gridcolor\":\"white\",\"linecolor\":\"white\",\"ticks\":\"\"},\"bgcolor\":\"#E5ECF6\",\"caxis\":{\"gridcolor\":\"white\",\"linecolor\":\"white\",\"ticks\":\"\"}},\"title\":{\"x\":0.05},\"xaxis\":{\"automargin\":true,\"gridcolor\":\"white\",\"linecolor\":\"white\",\"ticks\":\"\",\"title\":{\"standoff\":15},\"zerolinecolor\":\"white\",\"zerolinewidth\":2},\"yaxis\":{\"automargin\":true,\"gridcolor\":\"white\",\"linecolor\":\"white\",\"ticks\":\"\",\"title\":{\"standoff\":15},\"zerolinecolor\":\"white\",\"zerolinewidth\":2}}},\"title\":{\"text\":\"Evolution of mean quote polarity\",\"x\":0.5},\"xaxis\":{\"title\":{\"text\":\"Year\"}},\"yaxis\":{\"title\":{\"text\":\"Mean polarity score\"}}},                        {\"responsive\": true}                    ).then(function(){\n",
              "                            \n",
              "var gd = document.getElementById('ff4078ac-5381-40ef-b5df-633c137848e3');\n",
              "var x = new MutationObserver(function (mutations, observer) {{\n",
              "        var display = window.getComputedStyle(gd).display;\n",
              "        if (!display || display === 'none') {{\n",
              "            console.log([gd, 'removed!']);\n",
              "            Plotly.purge(gd);\n",
              "            observer.disconnect();\n",
              "        }}\n",
              "}});\n",
              "\n",
              "// Listen for the removal of the full notebook cells\n",
              "var notebookContainer = gd.closest('#notebook-container');\n",
              "if (notebookContainer) {{\n",
              "    x.observe(notebookContainer, {childList: true});\n",
              "}}\n",
              "\n",
              "// Listen for the clearing of the current output cell\n",
              "var outputEl = gd.closest('.output');\n",
              "if (outputEl) {{\n",
              "    x.observe(outputEl, {childList: true});\n",
              "}}\n",
              "\n",
              "                        })                };                            </script>        </div>\n",
              "</body>\n",
              "</html>"
            ]
          },
          "metadata": {}
        }
      ],
      "id": "xWP971d1IcMK"
    },
    {
      "cell_type": "markdown",
      "source": [
        "This shows that news outlets have on average slightly positive quotes (polarity score >0). However this positivity has been following a negative trend between 2015 and 2020.\n",
        "\n",
        "*Interestingly, there seems be two distinct populations, one below the average (0.07 to 0.11) and another above it (0.125 to 0.16). \n",
        "Could these groups correspond to news outlets of different political orientations?*\n"
      ],
      "metadata": {
        "id": "PlsMzoYNZpLI"
      },
      "id": "PlsMzoYNZpLI"
    },
    {
      "cell_type": "code",
      "source": [
        "all_selected_doms.dropna(subset=[\"Political_leaning\"]).head()"
      ],
      "metadata": {
        "colab": {
          "base_uri": "https://localhost:8080/",
          "height": 226
        },
        "outputId": "45da5e6c-5e97-4cc0-df65-258cd97af2bb",
        "id": "xFS2yGPhRSpK"
      },
      "execution_count": null,
      "outputs": [
        {
          "output_type": "execute_result",
          "data": {
            "text/html": [
              "<div>\n",
              "<style scoped>\n",
              "    .dataframe tbody tr th:only-of-type {\n",
              "        vertical-align: middle;\n",
              "    }\n",
              "\n",
              "    .dataframe tbody tr th {\n",
              "        vertical-align: top;\n",
              "    }\n",
              "\n",
              "    .dataframe thead th {\n",
              "        text-align: right;\n",
              "    }\n",
              "</style>\n",
              "<table border=\"1\" class=\"dataframe\">\n",
              "  <thead>\n",
              "    <tr style=\"text-align: right;\">\n",
              "      <th></th>\n",
              "      <th>domain</th>\n",
              "      <th>Year_by_year</th>\n",
              "      <th>Cumulative</th>\n",
              "      <th>Nationality</th>\n",
              "      <th>Political_leaning</th>\n",
              "      <th>Content_creator</th>\n",
              "      <th>Traffic</th>\n",
              "      <th>Factual_reporting</th>\n",
              "    </tr>\n",
              "  </thead>\n",
              "  <tbody>\n",
              "    <tr>\n",
              "      <th>0</th>\n",
              "      <td>nzherald.co.nz</td>\n",
              "      <td>1</td>\n",
              "      <td>1</td>\n",
              "      <td>NZ</td>\n",
              "      <td>0.0</td>\n",
              "      <td>1</td>\n",
              "      <td>NaN</td>\n",
              "      <td>5.0</td>\n",
              "    </tr>\n",
              "    <tr>\n",
              "      <th>2</th>\n",
              "      <td>latimes.com</td>\n",
              "      <td>0</td>\n",
              "      <td>1</td>\n",
              "      <td>US</td>\n",
              "      <td>-1.0</td>\n",
              "      <td>1</td>\n",
              "      <td>High</td>\n",
              "      <td>5.0</td>\n",
              "    </tr>\n",
              "    <tr>\n",
              "      <th>3</th>\n",
              "      <td>breitbart.com</td>\n",
              "      <td>1</td>\n",
              "      <td>1</td>\n",
              "      <td>US</td>\n",
              "      <td>3.0</td>\n",
              "      <td>1</td>\n",
              "      <td>High</td>\n",
              "      <td>3.0</td>\n",
              "    </tr>\n",
              "    <tr>\n",
              "      <th>5</th>\n",
              "      <td>inquisitr.com</td>\n",
              "      <td>1</td>\n",
              "      <td>0</td>\n",
              "      <td>UK</td>\n",
              "      <td>-1.0</td>\n",
              "      <td>0</td>\n",
              "      <td>NaN</td>\n",
              "      <td>3.0</td>\n",
              "    </tr>\n",
              "    <tr>\n",
              "      <th>6</th>\n",
              "      <td>brisbanetimes.com.au</td>\n",
              "      <td>1</td>\n",
              "      <td>1</td>\n",
              "      <td>AU</td>\n",
              "      <td>-1.0</td>\n",
              "      <td>1</td>\n",
              "      <td>NaN</td>\n",
              "      <td>NaN</td>\n",
              "    </tr>\n",
              "  </tbody>\n",
              "</table>\n",
              "</div>"
            ],
            "text/plain": [
              "                 domain  Year_by_year  ...  Traffic Factual_reporting\n",
              "0        nzherald.co.nz             1  ...      NaN               5.0\n",
              "2           latimes.com             0  ...     High               5.0\n",
              "3         breitbart.com             1  ...     High               3.0\n",
              "5         inquisitr.com             1  ...      NaN               3.0\n",
              "6  brisbanetimes.com.au             1  ...      NaN               NaN\n",
              "\n",
              "[5 rows x 8 columns]"
            ]
          },
          "metadata": {},
          "execution_count": 13
        }
      ],
      "id": "xFS2yGPhRSpK"
    },
    {
      "cell_type": "markdown",
      "source": [
        "Next, we divided the news outlets in three groups based on their political orientation : Left-leaning, Right-leaning and Neutral (no difference is made within a group, meaning no degrees of left or right). *This should allow us to determine if the 2 populations we observed correspond to the political leaning of the news outlet.*"
      ],
      "metadata": {
        "id": "HqfrQmdkRSpL"
      },
      "id": "HqfrQmdkRSpL"
    },
    {
      "cell_type": "code",
      "source": [
        "#Compute the difference in the quote mean length of left and right-leaning news sources\n",
        "length_mean_difference= list()\n",
        "for item_length_right, item_length_left in zip(length_mean_right, length_mean_left):\n",
        "  length_mean_difference.append(item_length_right - item_length_left)\n",
        "df_length_dif= pd.DataFrame(length_mean_difference)\n",
        "df_length_dif.columns = ['Length Difference']\n",
        "mean_length_dif =  df_length_dif[1:].agg(['mean', 'std'])\n",
        "print(mean_length_dif)"
      ],
      "metadata": {
        "colab": {
          "base_uri": "https://localhost:8080/"
        },
        "id": "2XMRea8L6kCJ",
        "outputId": "37189405-c462-4a3b-b4e5-6ce3377c3e78"
      },
      "execution_count": null,
      "outputs": [
        {
          "output_type": "stream",
          "name": "stdout",
          "text": [
            "      Length Difference\n",
            "mean           1.340521\n",
            "std            0.117789\n"
          ]
        }
      ],
      "id": "2XMRea8L6kCJ"
    },
    {
      "cell_type": "code",
      "source": [
        "fig = go.Figure()\n",
        "# Left-leaning news outlets\n",
        "fig.add_trace(go.Scatter(x=time_scale,\n",
        "                         y=length_mean_left,\n",
        "                         mode=\"lines\",\n",
        "                         name=\"Left-leaning news outlets\",\n",
        "                         line=dict(color='blue', width=4),\n",
        "                         error_y=dict(type='data', array=np.round(length_error_left,6),color=\"black\")))\n",
        "\n",
        "# Neutral news outlets\n",
        "fig.add_trace(go.Scatter(x=time_scale,\n",
        "                         y=length_mean_neutral,\n",
        "                         mode=\"lines\",\n",
        "                         name=\"Neutral news outlets\",\n",
        "                         line=dict(color='green', width=4),\n",
        "                         error_y=dict(type='data', array=np.round(length_error_neutral,6),color=\"black\")))\n",
        "\n",
        "# Right-leaning news outlets\n",
        "fig.add_trace(go.Scatter(x=time_scale,\n",
        "                         y=length_mean_right,\n",
        "                         mode=\"lines\",\n",
        "                         name=\"Right-leaning news outlets\",\n",
        "                         line=dict(color='red', width=4),\n",
        "                         error_y=dict(type='data', array=np.round(length_error_right,6),color=\"black\")))\n",
        "\n",
        "# Average\n",
        "fig.add_trace(go.Scatter(x=time_scale,\n",
        "                         y=length_mean,\n",
        "                         mode=\"lines\",\n",
        "                         name=\"Total mean\",\n",
        "                         line=dict(color='black', width=4),\n",
        "                         error_y=dict(type='data', array=np.round(length_error,6),color=\"black\")))\n",
        "\n",
        "fig.update_layout(\n",
        "    title=\"Evolution of quote mean length for news outlets of different political orientations\",\n",
        "    title_x=0.5,\n",
        "    xaxis_title=\"Year\",\n",
        "    yaxis_title=\"Mean quote length\"\n",
        "    )\n",
        "\n",
        "fig.show()\n",
        "fig.write_html('1.3.html')"
      ],
      "metadata": {
        "colab": {
          "base_uri": "https://localhost:8080/",
          "height": 542
        },
        "id": "zIF6c2PMJadV",
        "outputId": "1a5c3f5d-c28e-4ec1-ea0b-c19e0bfe6f93"
      },
      "execution_count": null,
      "outputs": [
        {
          "output_type": "display_data",
          "data": {
            "text/html": [
              "<html>\n",
              "<head><meta charset=\"utf-8\" /></head>\n",
              "<body>\n",
              "    <div>            <script src=\"https://cdnjs.cloudflare.com/ajax/libs/mathjax/2.7.5/MathJax.js?config=TeX-AMS-MML_SVG\"></script><script type=\"text/javascript\">if (window.MathJax) {MathJax.Hub.Config({SVG: {font: \"STIX-Web\"}});}</script>                <script type=\"text/javascript\">window.PlotlyConfig = {MathJaxConfig: 'local'};</script>\n",
              "        <script src=\"https://cdn.plot.ly/plotly-2.6.3.min.js\"></script>                <div id=\"4410f61d-d320-467d-991a-54a4be1a09c2\" class=\"plotly-graph-div\" style=\"height:525px; width:100%;\"></div>            <script type=\"text/javascript\">                                    window.PLOTLYENV=window.PLOTLYENV || {};                                    if (document.getElementById(\"4410f61d-d320-467d-991a-54a4be1a09c2\")) {                    Plotly.newPlot(                        \"4410f61d-d320-467d-991a-54a4be1a09c2\",                        [{\"error_y\":{\"array\":[0.000688,0.000753,0.00057,0.000724,0.000768,0.001714],\"color\":\"black\",\"type\":\"data\"},\"line\":{\"color\":\"blue\",\"width\":4},\"mode\":\"lines\",\"name\":\"Left-leaning news outlets\",\"x\":[2015,2016,2017,2018,2019,2020],\"y\":[19.016155901876164,19.254360063575664,19.24895992446979,19.40126339058856,20.028137923646952,20.57552816170672],\"type\":\"scatter\"},{\"error_y\":{\"array\":[0.002901,0.004503,0.002996,0.003702,0.003676,0.007288],\"color\":\"black\",\"type\":\"data\"},\"line\":{\"color\":\"green\",\"width\":4},\"mode\":\"lines\",\"name\":\"Neutral news outlets\",\"x\":[2015,2016,2017,2018,2019,2020],\"y\":[20.048533840034782,20.993747057536353,21.083419850828975,21.147211425472296,21.07366513257036,21.44622295330887],\"type\":\"scatter\"},{\"error_y\":{\"array\":[0.004489,0.000711,0.000488,0.000717,0.001769,0.003846],\"color\":\"black\",\"type\":\"data\"},\"line\":{\"color\":\"red\",\"width\":4},\"mode\":\"lines\",\"name\":\"Right-leaning news outlets\",\"x\":[2015,2016,2017,2018,2019,2020],\"y\":[21.614952367839265,20.412824695695825,20.68217280081905,20.688871936816984,21.41930430705097,22.00768112082915],\"type\":\"scatter\"},{\"error_y\":{\"array\":[0.001654,0.001323,0.000896,0.00088,0.000994,0.002072],\"color\":\"black\",\"type\":\"data\"},\"line\":{\"color\":\"black\",\"width\":4},\"mode\":\"lines\",\"name\":\"Total mean\",\"x\":[2015,2016,2017,2018,2019,2020],\"y\":[20.18842307433412,20.12395530104067,20.08056028732771,20.172581399175435,20.661770287576623,21.20594441919356],\"type\":\"scatter\"}],                        {\"template\":{\"data\":{\"bar\":[{\"error_x\":{\"color\":\"#2a3f5f\"},\"error_y\":{\"color\":\"#2a3f5f\"},\"marker\":{\"line\":{\"color\":\"#E5ECF6\",\"width\":0.5},\"pattern\":{\"fillmode\":\"overlay\",\"size\":10,\"solidity\":0.2}},\"type\":\"bar\"}],\"barpolar\":[{\"marker\":{\"line\":{\"color\":\"#E5ECF6\",\"width\":0.5},\"pattern\":{\"fillmode\":\"overlay\",\"size\":10,\"solidity\":0.2}},\"type\":\"barpolar\"}],\"carpet\":[{\"aaxis\":{\"endlinecolor\":\"#2a3f5f\",\"gridcolor\":\"white\",\"linecolor\":\"white\",\"minorgridcolor\":\"white\",\"startlinecolor\":\"#2a3f5f\"},\"baxis\":{\"endlinecolor\":\"#2a3f5f\",\"gridcolor\":\"white\",\"linecolor\":\"white\",\"minorgridcolor\":\"white\",\"startlinecolor\":\"#2a3f5f\"},\"type\":\"carpet\"}],\"choropleth\":[{\"colorbar\":{\"outlinewidth\":0,\"ticks\":\"\"},\"type\":\"choropleth\"}],\"contour\":[{\"colorbar\":{\"outlinewidth\":0,\"ticks\":\"\"},\"colorscale\":[[0.0,\"#0d0887\"],[0.1111111111111111,\"#46039f\"],[0.2222222222222222,\"#7201a8\"],[0.3333333333333333,\"#9c179e\"],[0.4444444444444444,\"#bd3786\"],[0.5555555555555556,\"#d8576b\"],[0.6666666666666666,\"#ed7953\"],[0.7777777777777778,\"#fb9f3a\"],[0.8888888888888888,\"#fdca26\"],[1.0,\"#f0f921\"]],\"type\":\"contour\"}],\"contourcarpet\":[{\"colorbar\":{\"outlinewidth\":0,\"ticks\":\"\"},\"type\":\"contourcarpet\"}],\"heatmap\":[{\"colorbar\":{\"outlinewidth\":0,\"ticks\":\"\"},\"colorscale\":[[0.0,\"#0d0887\"],[0.1111111111111111,\"#46039f\"],[0.2222222222222222,\"#7201a8\"],[0.3333333333333333,\"#9c179e\"],[0.4444444444444444,\"#bd3786\"],[0.5555555555555556,\"#d8576b\"],[0.6666666666666666,\"#ed7953\"],[0.7777777777777778,\"#fb9f3a\"],[0.8888888888888888,\"#fdca26\"],[1.0,\"#f0f921\"]],\"type\":\"heatmap\"}],\"heatmapgl\":[{\"colorbar\":{\"outlinewidth\":0,\"ticks\":\"\"},\"colorscale\":[[0.0,\"#0d0887\"],[0.1111111111111111,\"#46039f\"],[0.2222222222222222,\"#7201a8\"],[0.3333333333333333,\"#9c179e\"],[0.4444444444444444,\"#bd3786\"],[0.5555555555555556,\"#d8576b\"],[0.6666666666666666,\"#ed7953\"],[0.7777777777777778,\"#fb9f3a\"],[0.8888888888888888,\"#fdca26\"],[1.0,\"#f0f921\"]],\"type\":\"heatmapgl\"}],\"histogram\":[{\"marker\":{\"pattern\":{\"fillmode\":\"overlay\",\"size\":10,\"solidity\":0.2}},\"type\":\"histogram\"}],\"histogram2d\":[{\"colorbar\":{\"outlinewidth\":0,\"ticks\":\"\"},\"colorscale\":[[0.0,\"#0d0887\"],[0.1111111111111111,\"#46039f\"],[0.2222222222222222,\"#7201a8\"],[0.3333333333333333,\"#9c179e\"],[0.4444444444444444,\"#bd3786\"],[0.5555555555555556,\"#d8576b\"],[0.6666666666666666,\"#ed7953\"],[0.7777777777777778,\"#fb9f3a\"],[0.8888888888888888,\"#fdca26\"],[1.0,\"#f0f921\"]],\"type\":\"histogram2d\"}],\"histogram2dcontour\":[{\"colorbar\":{\"outlinewidth\":0,\"ticks\":\"\"},\"colorscale\":[[0.0,\"#0d0887\"],[0.1111111111111111,\"#46039f\"],[0.2222222222222222,\"#7201a8\"],[0.3333333333333333,\"#9c179e\"],[0.4444444444444444,\"#bd3786\"],[0.5555555555555556,\"#d8576b\"],[0.6666666666666666,\"#ed7953\"],[0.7777777777777778,\"#fb9f3a\"],[0.8888888888888888,\"#fdca26\"],[1.0,\"#f0f921\"]],\"type\":\"histogram2dcontour\"}],\"mesh3d\":[{\"colorbar\":{\"outlinewidth\":0,\"ticks\":\"\"},\"type\":\"mesh3d\"}],\"parcoords\":[{\"line\":{\"colorbar\":{\"outlinewidth\":0,\"ticks\":\"\"}},\"type\":\"parcoords\"}],\"pie\":[{\"automargin\":true,\"type\":\"pie\"}],\"scatter\":[{\"marker\":{\"colorbar\":{\"outlinewidth\":0,\"ticks\":\"\"}},\"type\":\"scatter\"}],\"scatter3d\":[{\"line\":{\"colorbar\":{\"outlinewidth\":0,\"ticks\":\"\"}},\"marker\":{\"colorbar\":{\"outlinewidth\":0,\"ticks\":\"\"}},\"type\":\"scatter3d\"}],\"scattercarpet\":[{\"marker\":{\"colorbar\":{\"outlinewidth\":0,\"ticks\":\"\"}},\"type\":\"scattercarpet\"}],\"scattergeo\":[{\"marker\":{\"colorbar\":{\"outlinewidth\":0,\"ticks\":\"\"}},\"type\":\"scattergeo\"}],\"scattergl\":[{\"marker\":{\"colorbar\":{\"outlinewidth\":0,\"ticks\":\"\"}},\"type\":\"scattergl\"}],\"scattermapbox\":[{\"marker\":{\"colorbar\":{\"outlinewidth\":0,\"ticks\":\"\"}},\"type\":\"scattermapbox\"}],\"scatterpolar\":[{\"marker\":{\"colorbar\":{\"outlinewidth\":0,\"ticks\":\"\"}},\"type\":\"scatterpolar\"}],\"scatterpolargl\":[{\"marker\":{\"colorbar\":{\"outlinewidth\":0,\"ticks\":\"\"}},\"type\":\"scatterpolargl\"}],\"scatterternary\":[{\"marker\":{\"colorbar\":{\"outlinewidth\":0,\"ticks\":\"\"}},\"type\":\"scatterternary\"}],\"surface\":[{\"colorbar\":{\"outlinewidth\":0,\"ticks\":\"\"},\"colorscale\":[[0.0,\"#0d0887\"],[0.1111111111111111,\"#46039f\"],[0.2222222222222222,\"#7201a8\"],[0.3333333333333333,\"#9c179e\"],[0.4444444444444444,\"#bd3786\"],[0.5555555555555556,\"#d8576b\"],[0.6666666666666666,\"#ed7953\"],[0.7777777777777778,\"#fb9f3a\"],[0.8888888888888888,\"#fdca26\"],[1.0,\"#f0f921\"]],\"type\":\"surface\"}],\"table\":[{\"cells\":{\"fill\":{\"color\":\"#EBF0F8\"},\"line\":{\"color\":\"white\"}},\"header\":{\"fill\":{\"color\":\"#C8D4E3\"},\"line\":{\"color\":\"white\"}},\"type\":\"table\"}]},\"layout\":{\"annotationdefaults\":{\"arrowcolor\":\"#2a3f5f\",\"arrowhead\":0,\"arrowwidth\":1},\"autotypenumbers\":\"strict\",\"coloraxis\":{\"colorbar\":{\"outlinewidth\":0,\"ticks\":\"\"}},\"colorscale\":{\"diverging\":[[0,\"#8e0152\"],[0.1,\"#c51b7d\"],[0.2,\"#de77ae\"],[0.3,\"#f1b6da\"],[0.4,\"#fde0ef\"],[0.5,\"#f7f7f7\"],[0.6,\"#e6f5d0\"],[0.7,\"#b8e186\"],[0.8,\"#7fbc41\"],[0.9,\"#4d9221\"],[1,\"#276419\"]],\"sequential\":[[0.0,\"#0d0887\"],[0.1111111111111111,\"#46039f\"],[0.2222222222222222,\"#7201a8\"],[0.3333333333333333,\"#9c179e\"],[0.4444444444444444,\"#bd3786\"],[0.5555555555555556,\"#d8576b\"],[0.6666666666666666,\"#ed7953\"],[0.7777777777777778,\"#fb9f3a\"],[0.8888888888888888,\"#fdca26\"],[1.0,\"#f0f921\"]],\"sequentialminus\":[[0.0,\"#0d0887\"],[0.1111111111111111,\"#46039f\"],[0.2222222222222222,\"#7201a8\"],[0.3333333333333333,\"#9c179e\"],[0.4444444444444444,\"#bd3786\"],[0.5555555555555556,\"#d8576b\"],[0.6666666666666666,\"#ed7953\"],[0.7777777777777778,\"#fb9f3a\"],[0.8888888888888888,\"#fdca26\"],[1.0,\"#f0f921\"]]},\"colorway\":[\"#636efa\",\"#EF553B\",\"#00cc96\",\"#ab63fa\",\"#FFA15A\",\"#19d3f3\",\"#FF6692\",\"#B6E880\",\"#FF97FF\",\"#FECB52\"],\"font\":{\"color\":\"#2a3f5f\"},\"geo\":{\"bgcolor\":\"white\",\"lakecolor\":\"white\",\"landcolor\":\"#E5ECF6\",\"showlakes\":true,\"showland\":true,\"subunitcolor\":\"white\"},\"hoverlabel\":{\"align\":\"left\"},\"hovermode\":\"closest\",\"mapbox\":{\"style\":\"light\"},\"paper_bgcolor\":\"white\",\"plot_bgcolor\":\"#E5ECF6\",\"polar\":{\"angularaxis\":{\"gridcolor\":\"white\",\"linecolor\":\"white\",\"ticks\":\"\"},\"bgcolor\":\"#E5ECF6\",\"radialaxis\":{\"gridcolor\":\"white\",\"linecolor\":\"white\",\"ticks\":\"\"}},\"scene\":{\"xaxis\":{\"backgroundcolor\":\"#E5ECF6\",\"gridcolor\":\"white\",\"gridwidth\":2,\"linecolor\":\"white\",\"showbackground\":true,\"ticks\":\"\",\"zerolinecolor\":\"white\"},\"yaxis\":{\"backgroundcolor\":\"#E5ECF6\",\"gridcolor\":\"white\",\"gridwidth\":2,\"linecolor\":\"white\",\"showbackground\":true,\"ticks\":\"\",\"zerolinecolor\":\"white\"},\"zaxis\":{\"backgroundcolor\":\"#E5ECF6\",\"gridcolor\":\"white\",\"gridwidth\":2,\"linecolor\":\"white\",\"showbackground\":true,\"ticks\":\"\",\"zerolinecolor\":\"white\"}},\"shapedefaults\":{\"line\":{\"color\":\"#2a3f5f\"}},\"ternary\":{\"aaxis\":{\"gridcolor\":\"white\",\"linecolor\":\"white\",\"ticks\":\"\"},\"baxis\":{\"gridcolor\":\"white\",\"linecolor\":\"white\",\"ticks\":\"\"},\"bgcolor\":\"#E5ECF6\",\"caxis\":{\"gridcolor\":\"white\",\"linecolor\":\"white\",\"ticks\":\"\"}},\"title\":{\"x\":0.05},\"xaxis\":{\"automargin\":true,\"gridcolor\":\"white\",\"linecolor\":\"white\",\"ticks\":\"\",\"title\":{\"standoff\":15},\"zerolinecolor\":\"white\",\"zerolinewidth\":2},\"yaxis\":{\"automargin\":true,\"gridcolor\":\"white\",\"linecolor\":\"white\",\"ticks\":\"\",\"title\":{\"standoff\":15},\"zerolinecolor\":\"white\",\"zerolinewidth\":2}}},\"title\":{\"text\":\"Evolution of quote mean length for news outlets of different political orientations\",\"x\":0.5},\"xaxis\":{\"title\":{\"text\":\"Year\"}},\"yaxis\":{\"title\":{\"text\":\"Mean quote length\"}}},                        {\"responsive\": true}                    ).then(function(){\n",
              "                            \n",
              "var gd = document.getElementById('4410f61d-d320-467d-991a-54a4be1a09c2');\n",
              "var x = new MutationObserver(function (mutations, observer) {{\n",
              "        var display = window.getComputedStyle(gd).display;\n",
              "        if (!display || display === 'none') {{\n",
              "            console.log([gd, 'removed!']);\n",
              "            Plotly.purge(gd);\n",
              "            observer.disconnect();\n",
              "        }}\n",
              "}});\n",
              "\n",
              "// Listen for the removal of the full notebook cells\n",
              "var notebookContainer = gd.closest('#notebook-container');\n",
              "if (notebookContainer) {{\n",
              "    x.observe(notebookContainer, {childList: true});\n",
              "}}\n",
              "\n",
              "// Listen for the clearing of the current output cell\n",
              "var outputEl = gd.closest('.output');\n",
              "if (outputEl) {{\n",
              "    x.observe(outputEl, {childList: true});\n",
              "}}\n",
              "\n",
              "                        })                };                            </script>        </div>\n",
              "</body>\n",
              "</html>"
            ]
          },
          "metadata": {}
        }
      ],
      "id": "zIF6c2PMJadV"
    },
    {
      "cell_type": "markdown",
      "source": [
        "Right-leaning news outlets have a higher mean quote length than left-leaning ones for all years. Between 2016 and 2020, the difference between left and right-leaning news outlets' mean quote length stays constant at about 1.3 word.\n",
        "\n",
        "Furthermore, they both follow the same evolution as the average mean quote length. This suggests the increase of quote length in news outlets is a general pattern which is independant political orientation.\n",
        "\n",
        "*This graph seems to support the idea of different quoting style between left-leaning and right-leaning news outlets. Let's do the same with polarity score and see if our theory holds.*\n",
        "\n",
        "Additionally the neutral websites have a higher than average mean quote length. We can hypothesize that the sharp decrease of quote length between 2015 and 2016 in right-leaning media may be related to the election.\n",
        "\n"
      ],
      "metadata": {
        "id": "pcHxwiuqflis"
      },
      "id": "pcHxwiuqflis"
    },
    {
      "cell_type": "code",
      "source": [
        "fig = go.Figure()\n",
        "# Left-leaning news outlets\n",
        "fig.add_trace(go.Scatter(x=time_scale,\n",
        "                         y=compound_mean_left,\n",
        "                         mode=\"lines\",\n",
        "                         name=\"Left-leaning news outlets\",\n",
        "                         line=dict(color='blue', width=4),\n",
        "                         error_y=dict(type='data', array=np.round(compound_error_left,6),color=\"black\")))\n",
        "\n",
        "# Neutral news outlets\n",
        "fig.add_trace(go.Scatter(x=time_scale,\n",
        "                         y=compound_mean_neutral,\n",
        "                         mode=\"lines\",\n",
        "                         name=\"Neutral news outlets\",\n",
        "                         line=dict(color='green', width=4),\n",
        "                         error_y=dict(type='data', array=np.round(compound_error_neutral,6),color=\"black\")))\n",
        "\n",
        "# Right-leaning news outlets\n",
        "fig.add_trace(go.Scatter(x=time_scale,\n",
        "                         y=compound_mean_right,\n",
        "                         mode=\"lines\",\n",
        "                         name=\"Right-leaning news outlets\",\n",
        "                         line=dict(color='red', width=4),\n",
        "                         error_y=dict(type='data', array=np.round(compound_error_right,6),color=\"black\")))\n",
        "\n",
        "# Average\n",
        "fig.add_trace(go.Scatter(x=time_scale,\n",
        "                         y=compound_mean,\n",
        "                         mode=\"lines\",\n",
        "                         name=\"Total mean\",\n",
        "                         line=dict(color='black', width=4),\n",
        "                         error_y=dict(type='data', array=np.round(compound_error,6),color=\"black\")))\n",
        "\n",
        "fig.update_layout(\n",
        "    title=\"Evolution of quote mean polarity score for news outlets of different political orientations\",\n",
        "    title_x=0.5,\n",
        "    xaxis_title=\"Year\",\n",
        "    yaxis_title=\"Mean polarity score\"\n",
        "    )\n",
        "\n",
        "fig.show()\n",
        "fig.write_html('1.4.html')"
      ],
      "metadata": {
        "colab": {
          "base_uri": "https://localhost:8080/",
          "height": 542
        },
        "id": "2RwADbwON556",
        "outputId": "8775aa51-b9bc-4374-c810-cd648275eba6"
      },
      "execution_count": null,
      "outputs": [
        {
          "output_type": "display_data",
          "data": {
            "text/html": [
              "<html>\n",
              "<head><meta charset=\"utf-8\" /></head>\n",
              "<body>\n",
              "    <div>            <script src=\"https://cdnjs.cloudflare.com/ajax/libs/mathjax/2.7.5/MathJax.js?config=TeX-AMS-MML_SVG\"></script><script type=\"text/javascript\">if (window.MathJax) {MathJax.Hub.Config({SVG: {font: \"STIX-Web\"}});}</script>                <script type=\"text/javascript\">window.PlotlyConfig = {MathJaxConfig: 'local'};</script>\n",
              "        <script src=\"https://cdn.plot.ly/plotly-2.6.3.min.js\"></script>                <div id=\"427cdbb3-9c41-4b56-8816-f8f8b1cf4961\" class=\"plotly-graph-div\" style=\"height:525px; width:100%;\"></div>            <script type=\"text/javascript\">                                    window.PLOTLYENV=window.PLOTLYENV || {};                                    if (document.getElementById(\"427cdbb3-9c41-4b56-8816-f8f8b1cf4961\")) {                    Plotly.newPlot(                        \"427cdbb3-9c41-4b56-8816-f8f8b1cf4961\",                        [{\"error_y\":{\"array\":[3e-05,3.3e-05,2.7e-05,2.5e-05,3.3e-05,3.5e-05],\"color\":\"black\",\"type\":\"data\"},\"line\":{\"color\":\"blue\",\"width\":4},\"mode\":\"lines\",\"name\":\"Left-leaning news outlets\",\"x\":[2015,2016,2017,2018,2019,2020],\"y\":[0.10971642253943753,0.12036579004961949,0.11876235041718718,0.11974347362262383,0.13229493134806009,0.12335814593450449],\"type\":\"scatter\"},{\"error_y\":{\"array\":[6.4e-05,0.000122,0.0001,0.000106,8.5e-05,0.000156],\"color\":\"black\",\"type\":\"data\"},\"line\":{\"color\":\"green\",\"width\":4},\"mode\":\"lines\",\"name\":\"Neutral news outlets\",\"x\":[2015,2016,2017,2018,2019,2020],\"y\":[0.14730757435468358,0.15255338540803484,0.144587677148553,0.12082709090361173,0.1084635576100685,0.11287879760850202],\"type\":\"scatter\"},{\"error_y\":{\"array\":[8e-05,5.2e-05,3.7e-05,2.8e-05,2.1e-05,1.7e-05],\"color\":\"black\",\"type\":\"data\"},\"line\":{\"color\":\"red\",\"width\":4},\"mode\":\"lines\",\"name\":\"Right-leaning news outlets\",\"x\":[2015,2016,2017,2018,2019,2020],\"y\":[0.10691874319680361,0.10997656142552492,0.1087375337440931,0.11074614653354739,0.10531472518300074,0.1015611703979866],\"type\":\"scatter\"},{\"error_y\":{\"array\":[3.8e-05,3.8e-05,2.6e-05,2.2e-05,2.2e-05,2.9e-05],\"color\":\"black\",\"type\":\"data\"},\"line\":{\"color\":\"black\",\"width\":4},\"mode\":\"lines\",\"name\":\"Total mean\",\"x\":[2015,2016,2017,2018,2019,2020],\"y\":[0.12758425571828616,0.12939973040783878,0.12242646523182599,0.11841499574031852,0.12054682839108477,0.11502430307555873],\"type\":\"scatter\"}],                        {\"template\":{\"data\":{\"bar\":[{\"error_x\":{\"color\":\"#2a3f5f\"},\"error_y\":{\"color\":\"#2a3f5f\"},\"marker\":{\"line\":{\"color\":\"#E5ECF6\",\"width\":0.5},\"pattern\":{\"fillmode\":\"overlay\",\"size\":10,\"solidity\":0.2}},\"type\":\"bar\"}],\"barpolar\":[{\"marker\":{\"line\":{\"color\":\"#E5ECF6\",\"width\":0.5},\"pattern\":{\"fillmode\":\"overlay\",\"size\":10,\"solidity\":0.2}},\"type\":\"barpolar\"}],\"carpet\":[{\"aaxis\":{\"endlinecolor\":\"#2a3f5f\",\"gridcolor\":\"white\",\"linecolor\":\"white\",\"minorgridcolor\":\"white\",\"startlinecolor\":\"#2a3f5f\"},\"baxis\":{\"endlinecolor\":\"#2a3f5f\",\"gridcolor\":\"white\",\"linecolor\":\"white\",\"minorgridcolor\":\"white\",\"startlinecolor\":\"#2a3f5f\"},\"type\":\"carpet\"}],\"choropleth\":[{\"colorbar\":{\"outlinewidth\":0,\"ticks\":\"\"},\"type\":\"choropleth\"}],\"contour\":[{\"colorbar\":{\"outlinewidth\":0,\"ticks\":\"\"},\"colorscale\":[[0.0,\"#0d0887\"],[0.1111111111111111,\"#46039f\"],[0.2222222222222222,\"#7201a8\"],[0.3333333333333333,\"#9c179e\"],[0.4444444444444444,\"#bd3786\"],[0.5555555555555556,\"#d8576b\"],[0.6666666666666666,\"#ed7953\"],[0.7777777777777778,\"#fb9f3a\"],[0.8888888888888888,\"#fdca26\"],[1.0,\"#f0f921\"]],\"type\":\"contour\"}],\"contourcarpet\":[{\"colorbar\":{\"outlinewidth\":0,\"ticks\":\"\"},\"type\":\"contourcarpet\"}],\"heatmap\":[{\"colorbar\":{\"outlinewidth\":0,\"ticks\":\"\"},\"colorscale\":[[0.0,\"#0d0887\"],[0.1111111111111111,\"#46039f\"],[0.2222222222222222,\"#7201a8\"],[0.3333333333333333,\"#9c179e\"],[0.4444444444444444,\"#bd3786\"],[0.5555555555555556,\"#d8576b\"],[0.6666666666666666,\"#ed7953\"],[0.7777777777777778,\"#fb9f3a\"],[0.8888888888888888,\"#fdca26\"],[1.0,\"#f0f921\"]],\"type\":\"heatmap\"}],\"heatmapgl\":[{\"colorbar\":{\"outlinewidth\":0,\"ticks\":\"\"},\"colorscale\":[[0.0,\"#0d0887\"],[0.1111111111111111,\"#46039f\"],[0.2222222222222222,\"#7201a8\"],[0.3333333333333333,\"#9c179e\"],[0.4444444444444444,\"#bd3786\"],[0.5555555555555556,\"#d8576b\"],[0.6666666666666666,\"#ed7953\"],[0.7777777777777778,\"#fb9f3a\"],[0.8888888888888888,\"#fdca26\"],[1.0,\"#f0f921\"]],\"type\":\"heatmapgl\"}],\"histogram\":[{\"marker\":{\"pattern\":{\"fillmode\":\"overlay\",\"size\":10,\"solidity\":0.2}},\"type\":\"histogram\"}],\"histogram2d\":[{\"colorbar\":{\"outlinewidth\":0,\"ticks\":\"\"},\"colorscale\":[[0.0,\"#0d0887\"],[0.1111111111111111,\"#46039f\"],[0.2222222222222222,\"#7201a8\"],[0.3333333333333333,\"#9c179e\"],[0.4444444444444444,\"#bd3786\"],[0.5555555555555556,\"#d8576b\"],[0.6666666666666666,\"#ed7953\"],[0.7777777777777778,\"#fb9f3a\"],[0.8888888888888888,\"#fdca26\"],[1.0,\"#f0f921\"]],\"type\":\"histogram2d\"}],\"histogram2dcontour\":[{\"colorbar\":{\"outlinewidth\":0,\"ticks\":\"\"},\"colorscale\":[[0.0,\"#0d0887\"],[0.1111111111111111,\"#46039f\"],[0.2222222222222222,\"#7201a8\"],[0.3333333333333333,\"#9c179e\"],[0.4444444444444444,\"#bd3786\"],[0.5555555555555556,\"#d8576b\"],[0.6666666666666666,\"#ed7953\"],[0.7777777777777778,\"#fb9f3a\"],[0.8888888888888888,\"#fdca26\"],[1.0,\"#f0f921\"]],\"type\":\"histogram2dcontour\"}],\"mesh3d\":[{\"colorbar\":{\"outlinewidth\":0,\"ticks\":\"\"},\"type\":\"mesh3d\"}],\"parcoords\":[{\"line\":{\"colorbar\":{\"outlinewidth\":0,\"ticks\":\"\"}},\"type\":\"parcoords\"}],\"pie\":[{\"automargin\":true,\"type\":\"pie\"}],\"scatter\":[{\"marker\":{\"colorbar\":{\"outlinewidth\":0,\"ticks\":\"\"}},\"type\":\"scatter\"}],\"scatter3d\":[{\"line\":{\"colorbar\":{\"outlinewidth\":0,\"ticks\":\"\"}},\"marker\":{\"colorbar\":{\"outlinewidth\":0,\"ticks\":\"\"}},\"type\":\"scatter3d\"}],\"scattercarpet\":[{\"marker\":{\"colorbar\":{\"outlinewidth\":0,\"ticks\":\"\"}},\"type\":\"scattercarpet\"}],\"scattergeo\":[{\"marker\":{\"colorbar\":{\"outlinewidth\":0,\"ticks\":\"\"}},\"type\":\"scattergeo\"}],\"scattergl\":[{\"marker\":{\"colorbar\":{\"outlinewidth\":0,\"ticks\":\"\"}},\"type\":\"scattergl\"}],\"scattermapbox\":[{\"marker\":{\"colorbar\":{\"outlinewidth\":0,\"ticks\":\"\"}},\"type\":\"scattermapbox\"}],\"scatterpolar\":[{\"marker\":{\"colorbar\":{\"outlinewidth\":0,\"ticks\":\"\"}},\"type\":\"scatterpolar\"}],\"scatterpolargl\":[{\"marker\":{\"colorbar\":{\"outlinewidth\":0,\"ticks\":\"\"}},\"type\":\"scatterpolargl\"}],\"scatterternary\":[{\"marker\":{\"colorbar\":{\"outlinewidth\":0,\"ticks\":\"\"}},\"type\":\"scatterternary\"}],\"surface\":[{\"colorbar\":{\"outlinewidth\":0,\"ticks\":\"\"},\"colorscale\":[[0.0,\"#0d0887\"],[0.1111111111111111,\"#46039f\"],[0.2222222222222222,\"#7201a8\"],[0.3333333333333333,\"#9c179e\"],[0.4444444444444444,\"#bd3786\"],[0.5555555555555556,\"#d8576b\"],[0.6666666666666666,\"#ed7953\"],[0.7777777777777778,\"#fb9f3a\"],[0.8888888888888888,\"#fdca26\"],[1.0,\"#f0f921\"]],\"type\":\"surface\"}],\"table\":[{\"cells\":{\"fill\":{\"color\":\"#EBF0F8\"},\"line\":{\"color\":\"white\"}},\"header\":{\"fill\":{\"color\":\"#C8D4E3\"},\"line\":{\"color\":\"white\"}},\"type\":\"table\"}]},\"layout\":{\"annotationdefaults\":{\"arrowcolor\":\"#2a3f5f\",\"arrowhead\":0,\"arrowwidth\":1},\"autotypenumbers\":\"strict\",\"coloraxis\":{\"colorbar\":{\"outlinewidth\":0,\"ticks\":\"\"}},\"colorscale\":{\"diverging\":[[0,\"#8e0152\"],[0.1,\"#c51b7d\"],[0.2,\"#de77ae\"],[0.3,\"#f1b6da\"],[0.4,\"#fde0ef\"],[0.5,\"#f7f7f7\"],[0.6,\"#e6f5d0\"],[0.7,\"#b8e186\"],[0.8,\"#7fbc41\"],[0.9,\"#4d9221\"],[1,\"#276419\"]],\"sequential\":[[0.0,\"#0d0887\"],[0.1111111111111111,\"#46039f\"],[0.2222222222222222,\"#7201a8\"],[0.3333333333333333,\"#9c179e\"],[0.4444444444444444,\"#bd3786\"],[0.5555555555555556,\"#d8576b\"],[0.6666666666666666,\"#ed7953\"],[0.7777777777777778,\"#fb9f3a\"],[0.8888888888888888,\"#fdca26\"],[1.0,\"#f0f921\"]],\"sequentialminus\":[[0.0,\"#0d0887\"],[0.1111111111111111,\"#46039f\"],[0.2222222222222222,\"#7201a8\"],[0.3333333333333333,\"#9c179e\"],[0.4444444444444444,\"#bd3786\"],[0.5555555555555556,\"#d8576b\"],[0.6666666666666666,\"#ed7953\"],[0.7777777777777778,\"#fb9f3a\"],[0.8888888888888888,\"#fdca26\"],[1.0,\"#f0f921\"]]},\"colorway\":[\"#636efa\",\"#EF553B\",\"#00cc96\",\"#ab63fa\",\"#FFA15A\",\"#19d3f3\",\"#FF6692\",\"#B6E880\",\"#FF97FF\",\"#FECB52\"],\"font\":{\"color\":\"#2a3f5f\"},\"geo\":{\"bgcolor\":\"white\",\"lakecolor\":\"white\",\"landcolor\":\"#E5ECF6\",\"showlakes\":true,\"showland\":true,\"subunitcolor\":\"white\"},\"hoverlabel\":{\"align\":\"left\"},\"hovermode\":\"closest\",\"mapbox\":{\"style\":\"light\"},\"paper_bgcolor\":\"white\",\"plot_bgcolor\":\"#E5ECF6\",\"polar\":{\"angularaxis\":{\"gridcolor\":\"white\",\"linecolor\":\"white\",\"ticks\":\"\"},\"bgcolor\":\"#E5ECF6\",\"radialaxis\":{\"gridcolor\":\"white\",\"linecolor\":\"white\",\"ticks\":\"\"}},\"scene\":{\"xaxis\":{\"backgroundcolor\":\"#E5ECF6\",\"gridcolor\":\"white\",\"gridwidth\":2,\"linecolor\":\"white\",\"showbackground\":true,\"ticks\":\"\",\"zerolinecolor\":\"white\"},\"yaxis\":{\"backgroundcolor\":\"#E5ECF6\",\"gridcolor\":\"white\",\"gridwidth\":2,\"linecolor\":\"white\",\"showbackground\":true,\"ticks\":\"\",\"zerolinecolor\":\"white\"},\"zaxis\":{\"backgroundcolor\":\"#E5ECF6\",\"gridcolor\":\"white\",\"gridwidth\":2,\"linecolor\":\"white\",\"showbackground\":true,\"ticks\":\"\",\"zerolinecolor\":\"white\"}},\"shapedefaults\":{\"line\":{\"color\":\"#2a3f5f\"}},\"ternary\":{\"aaxis\":{\"gridcolor\":\"white\",\"linecolor\":\"white\",\"ticks\":\"\"},\"baxis\":{\"gridcolor\":\"white\",\"linecolor\":\"white\",\"ticks\":\"\"},\"bgcolor\":\"#E5ECF6\",\"caxis\":{\"gridcolor\":\"white\",\"linecolor\":\"white\",\"ticks\":\"\"}},\"title\":{\"x\":0.05},\"xaxis\":{\"automargin\":true,\"gridcolor\":\"white\",\"linecolor\":\"white\",\"ticks\":\"\",\"title\":{\"standoff\":15},\"zerolinecolor\":\"white\",\"zerolinewidth\":2},\"yaxis\":{\"automargin\":true,\"gridcolor\":\"white\",\"linecolor\":\"white\",\"ticks\":\"\",\"title\":{\"standoff\":15},\"zerolinecolor\":\"white\",\"zerolinewidth\":2}}},\"title\":{\"text\":\"Evolution of quote mean polarity score for news outlets of different political orientations\",\"x\":0.5},\"xaxis\":{\"title\":{\"text\":\"Year\"}},\"yaxis\":{\"title\":{\"text\":\"Mean polarity score\"}}},                        {\"responsive\": true}                    ).then(function(){\n",
              "                            \n",
              "var gd = document.getElementById('427cdbb3-9c41-4b56-8816-f8f8b1cf4961');\n",
              "var x = new MutationObserver(function (mutations, observer) {{\n",
              "        var display = window.getComputedStyle(gd).display;\n",
              "        if (!display || display === 'none') {{\n",
              "            console.log([gd, 'removed!']);\n",
              "            Plotly.purge(gd);\n",
              "            observer.disconnect();\n",
              "        }}\n",
              "}});\n",
              "\n",
              "// Listen for the removal of the full notebook cells\n",
              "var notebookContainer = gd.closest('#notebook-container');\n",
              "if (notebookContainer) {{\n",
              "    x.observe(notebookContainer, {childList: true});\n",
              "}}\n",
              "\n",
              "// Listen for the clearing of the current output cell\n",
              "var outputEl = gd.closest('.output');\n",
              "if (outputEl) {{\n",
              "    x.observe(outputEl, {childList: true});\n",
              "}}\n",
              "\n",
              "                        })                };                            </script>        </div>\n",
              "</body>\n",
              "</html>"
            ]
          },
          "metadata": {}
        }
      ],
      "id": "2RwADbwON556"
    },
    {
      "cell_type": "markdown",
      "source": [
        "Left-leaning news outlets's quotes are more positive than right-leaning news outlets across all years. Left-leaning news outlets's positivity increased between 2015 and 2020, while right-leaning news outlets stayed more or less constant. Neutral news outlets changed the most, their quote mean polarity score decreased from 0.15 to 0.11.\n",
        "\n",
        "*We don't see left-leaning on one side of the mean and right-leaning on the other as we had hypothesized. However, there is still a notable difference in the polarity score of left and right-leaning news outlets, which supports our thesis for different quoting styles between right and left-leaning news outlets.*\n",
        "\n",
        "*What if we combine left-leaning and neutral news outlets, maybe we get the 2 observed populations? we would have to plot both the polarity and the length to see how it holds*"
      ],
      "metadata": {
        "id": "kyq74DoMtjUw"
      },
      "id": "kyq74DoMtjUw"
    },
    {
      "cell_type": "markdown",
      "source": [
        "**Conclusion part 1**\n",
        "\n",
        "This yearly analysis of quoting style has yielded several inputs. \n",
        "Between 2015 and 2020, quotes have on average been getting longer (20.2 to 21.2 words), are generally positive but are getting less positive (0.128 to 0.116 polarity score).\n",
        "\n",
        "*Looking at differences in the quoting styles of left and right-leaning news sources, we found that left-leaning news outlets have on average shorter and more positive quotes than right-leaning outlets.*"
      ],
      "metadata": {
        "id": "GINpbqaVFLEN"
      },
      "id": "GINpbqaVFLEN"
    },
    {
      "cell_type": "markdown",
      "source": [
        "### 2) Quoting style according to political orientation"
      ],
      "metadata": {
        "id": "u-f6y9okk--D"
      },
      "id": "u-f6y9okk--D"
    },
    {
      "cell_type": "markdown",
      "source": [
        "**Intro part 2**\n",
        "\n",
        "*Dwelving deeper into this difference in quoting habits, we were interested in assessing if left/right-leaning news sources quote Democrat and Republican speakers differently. For example, would left-leaning news outlets quote Democratic speakers more (more and longer quotes) and more positively?*\n",
        "\n",
        "For this analysis we decided to focus only on the most quoted Democrats and Republicans within the previously selected news outlets. Find out more about the selection process in our notebook."
      ],
      "metadata": {
        "id": "xZSTB76JMf2a"
      },
      "id": "xZSTB76JMf2a"
    },
    {
      "cell_type": "code",
      "source": [
        "X = ['Left-leaning','Neutral','Right-leaning']\n",
        "\n",
        "# Vector containing the number of quotes of Democrat speakers\n",
        "Dem = [df_speakers_stats_total_dem[\"L_Count\"].values[0],df_speakers_stats_total_dem[\"N_Count\"].values[0],df_speakers_stats_total_dem[\"R_Count\"].values[0]]\n",
        "# Vector containing the number of quotes of Republican speakers\n",
        "Rep = [df_speakers_stats_total_rep[\"L_Count\"].values[0],df_speakers_stats_total_rep[\"N_Count\"].values[0],df_speakers_stats_total_rep[\"R_Count\"].values[0]]\n",
        "\n",
        "# We define the values as ratio over the total number of quote:\n",
        "\n",
        "Dem_ratio = Dem/np.array(Dem).sum()\n",
        "Rep_ratio = Rep/np.array(Rep).sum()\n",
        "\n",
        "\n",
        "fig = go.Figure()\n",
        "\n",
        "fig.add_trace(go.Bar(\n",
        "    name='Democrats',\n",
        "    x=X, y=np.round(Dem_ratio,4)\n",
        "))\n",
        "\n",
        "fig.add_trace(go.Bar(\n",
        "    name='Republicans',\n",
        "    x=X, y=np.round(Rep_ratio,4)\n",
        "))\n",
        "\n",
        "fig.update_layout(\n",
        "    title=\"Distribution of Republican and Democrat quotes with respect to news outlet leaning\",\n",
        "    title_x=0.5,\n",
        "    xaxis_title=\"News outlet political leaning\",\n",
        "    yaxis_title=\"Quoting percentage\"\n",
        "    )\n",
        "\n",
        "fig.show()\n",
        "fig.write_html('2_1.html')"
      ],
      "metadata": {
        "colab": {
          "base_uri": "https://localhost:8080/",
          "height": 542
        },
        "id": "PP43f_lHeqcF",
        "outputId": "38d24cb5-71e3-45f7-ed3c-b104298efdf5"
      },
      "execution_count": null,
      "outputs": [
        {
          "output_type": "display_data",
          "data": {
            "text/html": [
              "<html>\n",
              "<head><meta charset=\"utf-8\" /></head>\n",
              "<body>\n",
              "    <div>            <script src=\"https://cdnjs.cloudflare.com/ajax/libs/mathjax/2.7.5/MathJax.js?config=TeX-AMS-MML_SVG\"></script><script type=\"text/javascript\">if (window.MathJax) {MathJax.Hub.Config({SVG: {font: \"STIX-Web\"}});}</script>                <script type=\"text/javascript\">window.PlotlyConfig = {MathJaxConfig: 'local'};</script>\n",
              "        <script src=\"https://cdn.plot.ly/plotly-2.6.3.min.js\"></script>                <div id=\"d66c2d6b-f2e7-49ca-a264-14b36cc25233\" class=\"plotly-graph-div\" style=\"height:525px; width:100%;\"></div>            <script type=\"text/javascript\">                                    window.PLOTLYENV=window.PLOTLYENV || {};                                    if (document.getElementById(\"d66c2d6b-f2e7-49ca-a264-14b36cc25233\")) {                    Plotly.newPlot(                        \"d66c2d6b-f2e7-49ca-a264-14b36cc25233\",                        [{\"name\":\"Democrats\",\"x\":[\"Left-leaning\",\"Neutral\",\"Right-leaning\"],\"y\":[0.5144,0.1481,0.3375],\"type\":\"bar\"},{\"name\":\"Republicans\",\"x\":[\"Left-leaning\",\"Neutral\",\"Right-leaning\"],\"y\":[0.5118,0.1411,0.347],\"type\":\"bar\"}],                        {\"template\":{\"data\":{\"bar\":[{\"error_x\":{\"color\":\"#2a3f5f\"},\"error_y\":{\"color\":\"#2a3f5f\"},\"marker\":{\"line\":{\"color\":\"#E5ECF6\",\"width\":0.5},\"pattern\":{\"fillmode\":\"overlay\",\"size\":10,\"solidity\":0.2}},\"type\":\"bar\"}],\"barpolar\":[{\"marker\":{\"line\":{\"color\":\"#E5ECF6\",\"width\":0.5},\"pattern\":{\"fillmode\":\"overlay\",\"size\":10,\"solidity\":0.2}},\"type\":\"barpolar\"}],\"carpet\":[{\"aaxis\":{\"endlinecolor\":\"#2a3f5f\",\"gridcolor\":\"white\",\"linecolor\":\"white\",\"minorgridcolor\":\"white\",\"startlinecolor\":\"#2a3f5f\"},\"baxis\":{\"endlinecolor\":\"#2a3f5f\",\"gridcolor\":\"white\",\"linecolor\":\"white\",\"minorgridcolor\":\"white\",\"startlinecolor\":\"#2a3f5f\"},\"type\":\"carpet\"}],\"choropleth\":[{\"colorbar\":{\"outlinewidth\":0,\"ticks\":\"\"},\"type\":\"choropleth\"}],\"contour\":[{\"colorbar\":{\"outlinewidth\":0,\"ticks\":\"\"},\"colorscale\":[[0.0,\"#0d0887\"],[0.1111111111111111,\"#46039f\"],[0.2222222222222222,\"#7201a8\"],[0.3333333333333333,\"#9c179e\"],[0.4444444444444444,\"#bd3786\"],[0.5555555555555556,\"#d8576b\"],[0.6666666666666666,\"#ed7953\"],[0.7777777777777778,\"#fb9f3a\"],[0.8888888888888888,\"#fdca26\"],[1.0,\"#f0f921\"]],\"type\":\"contour\"}],\"contourcarpet\":[{\"colorbar\":{\"outlinewidth\":0,\"ticks\":\"\"},\"type\":\"contourcarpet\"}],\"heatmap\":[{\"colorbar\":{\"outlinewidth\":0,\"ticks\":\"\"},\"colorscale\":[[0.0,\"#0d0887\"],[0.1111111111111111,\"#46039f\"],[0.2222222222222222,\"#7201a8\"],[0.3333333333333333,\"#9c179e\"],[0.4444444444444444,\"#bd3786\"],[0.5555555555555556,\"#d8576b\"],[0.6666666666666666,\"#ed7953\"],[0.7777777777777778,\"#fb9f3a\"],[0.8888888888888888,\"#fdca26\"],[1.0,\"#f0f921\"]],\"type\":\"heatmap\"}],\"heatmapgl\":[{\"colorbar\":{\"outlinewidth\":0,\"ticks\":\"\"},\"colorscale\":[[0.0,\"#0d0887\"],[0.1111111111111111,\"#46039f\"],[0.2222222222222222,\"#7201a8\"],[0.3333333333333333,\"#9c179e\"],[0.4444444444444444,\"#bd3786\"],[0.5555555555555556,\"#d8576b\"],[0.6666666666666666,\"#ed7953\"],[0.7777777777777778,\"#fb9f3a\"],[0.8888888888888888,\"#fdca26\"],[1.0,\"#f0f921\"]],\"type\":\"heatmapgl\"}],\"histogram\":[{\"marker\":{\"pattern\":{\"fillmode\":\"overlay\",\"size\":10,\"solidity\":0.2}},\"type\":\"histogram\"}],\"histogram2d\":[{\"colorbar\":{\"outlinewidth\":0,\"ticks\":\"\"},\"colorscale\":[[0.0,\"#0d0887\"],[0.1111111111111111,\"#46039f\"],[0.2222222222222222,\"#7201a8\"],[0.3333333333333333,\"#9c179e\"],[0.4444444444444444,\"#bd3786\"],[0.5555555555555556,\"#d8576b\"],[0.6666666666666666,\"#ed7953\"],[0.7777777777777778,\"#fb9f3a\"],[0.8888888888888888,\"#fdca26\"],[1.0,\"#f0f921\"]],\"type\":\"histogram2d\"}],\"histogram2dcontour\":[{\"colorbar\":{\"outlinewidth\":0,\"ticks\":\"\"},\"colorscale\":[[0.0,\"#0d0887\"],[0.1111111111111111,\"#46039f\"],[0.2222222222222222,\"#7201a8\"],[0.3333333333333333,\"#9c179e\"],[0.4444444444444444,\"#bd3786\"],[0.5555555555555556,\"#d8576b\"],[0.6666666666666666,\"#ed7953\"],[0.7777777777777778,\"#fb9f3a\"],[0.8888888888888888,\"#fdca26\"],[1.0,\"#f0f921\"]],\"type\":\"histogram2dcontour\"}],\"mesh3d\":[{\"colorbar\":{\"outlinewidth\":0,\"ticks\":\"\"},\"type\":\"mesh3d\"}],\"parcoords\":[{\"line\":{\"colorbar\":{\"outlinewidth\":0,\"ticks\":\"\"}},\"type\":\"parcoords\"}],\"pie\":[{\"automargin\":true,\"type\":\"pie\"}],\"scatter\":[{\"marker\":{\"colorbar\":{\"outlinewidth\":0,\"ticks\":\"\"}},\"type\":\"scatter\"}],\"scatter3d\":[{\"line\":{\"colorbar\":{\"outlinewidth\":0,\"ticks\":\"\"}},\"marker\":{\"colorbar\":{\"outlinewidth\":0,\"ticks\":\"\"}},\"type\":\"scatter3d\"}],\"scattercarpet\":[{\"marker\":{\"colorbar\":{\"outlinewidth\":0,\"ticks\":\"\"}},\"type\":\"scattercarpet\"}],\"scattergeo\":[{\"marker\":{\"colorbar\":{\"outlinewidth\":0,\"ticks\":\"\"}},\"type\":\"scattergeo\"}],\"scattergl\":[{\"marker\":{\"colorbar\":{\"outlinewidth\":0,\"ticks\":\"\"}},\"type\":\"scattergl\"}],\"scattermapbox\":[{\"marker\":{\"colorbar\":{\"outlinewidth\":0,\"ticks\":\"\"}},\"type\":\"scattermapbox\"}],\"scatterpolar\":[{\"marker\":{\"colorbar\":{\"outlinewidth\":0,\"ticks\":\"\"}},\"type\":\"scatterpolar\"}],\"scatterpolargl\":[{\"marker\":{\"colorbar\":{\"outlinewidth\":0,\"ticks\":\"\"}},\"type\":\"scatterpolargl\"}],\"scatterternary\":[{\"marker\":{\"colorbar\":{\"outlinewidth\":0,\"ticks\":\"\"}},\"type\":\"scatterternary\"}],\"surface\":[{\"colorbar\":{\"outlinewidth\":0,\"ticks\":\"\"},\"colorscale\":[[0.0,\"#0d0887\"],[0.1111111111111111,\"#46039f\"],[0.2222222222222222,\"#7201a8\"],[0.3333333333333333,\"#9c179e\"],[0.4444444444444444,\"#bd3786\"],[0.5555555555555556,\"#d8576b\"],[0.6666666666666666,\"#ed7953\"],[0.7777777777777778,\"#fb9f3a\"],[0.8888888888888888,\"#fdca26\"],[1.0,\"#f0f921\"]],\"type\":\"surface\"}],\"table\":[{\"cells\":{\"fill\":{\"color\":\"#EBF0F8\"},\"line\":{\"color\":\"white\"}},\"header\":{\"fill\":{\"color\":\"#C8D4E3\"},\"line\":{\"color\":\"white\"}},\"type\":\"table\"}]},\"layout\":{\"annotationdefaults\":{\"arrowcolor\":\"#2a3f5f\",\"arrowhead\":0,\"arrowwidth\":1},\"autotypenumbers\":\"strict\",\"coloraxis\":{\"colorbar\":{\"outlinewidth\":0,\"ticks\":\"\"}},\"colorscale\":{\"diverging\":[[0,\"#8e0152\"],[0.1,\"#c51b7d\"],[0.2,\"#de77ae\"],[0.3,\"#f1b6da\"],[0.4,\"#fde0ef\"],[0.5,\"#f7f7f7\"],[0.6,\"#e6f5d0\"],[0.7,\"#b8e186\"],[0.8,\"#7fbc41\"],[0.9,\"#4d9221\"],[1,\"#276419\"]],\"sequential\":[[0.0,\"#0d0887\"],[0.1111111111111111,\"#46039f\"],[0.2222222222222222,\"#7201a8\"],[0.3333333333333333,\"#9c179e\"],[0.4444444444444444,\"#bd3786\"],[0.5555555555555556,\"#d8576b\"],[0.6666666666666666,\"#ed7953\"],[0.7777777777777778,\"#fb9f3a\"],[0.8888888888888888,\"#fdca26\"],[1.0,\"#f0f921\"]],\"sequentialminus\":[[0.0,\"#0d0887\"],[0.1111111111111111,\"#46039f\"],[0.2222222222222222,\"#7201a8\"],[0.3333333333333333,\"#9c179e\"],[0.4444444444444444,\"#bd3786\"],[0.5555555555555556,\"#d8576b\"],[0.6666666666666666,\"#ed7953\"],[0.7777777777777778,\"#fb9f3a\"],[0.8888888888888888,\"#fdca26\"],[1.0,\"#f0f921\"]]},\"colorway\":[\"#636efa\",\"#EF553B\",\"#00cc96\",\"#ab63fa\",\"#FFA15A\",\"#19d3f3\",\"#FF6692\",\"#B6E880\",\"#FF97FF\",\"#FECB52\"],\"font\":{\"color\":\"#2a3f5f\"},\"geo\":{\"bgcolor\":\"white\",\"lakecolor\":\"white\",\"landcolor\":\"#E5ECF6\",\"showlakes\":true,\"showland\":true,\"subunitcolor\":\"white\"},\"hoverlabel\":{\"align\":\"left\"},\"hovermode\":\"closest\",\"mapbox\":{\"style\":\"light\"},\"paper_bgcolor\":\"white\",\"plot_bgcolor\":\"#E5ECF6\",\"polar\":{\"angularaxis\":{\"gridcolor\":\"white\",\"linecolor\":\"white\",\"ticks\":\"\"},\"bgcolor\":\"#E5ECF6\",\"radialaxis\":{\"gridcolor\":\"white\",\"linecolor\":\"white\",\"ticks\":\"\"}},\"scene\":{\"xaxis\":{\"backgroundcolor\":\"#E5ECF6\",\"gridcolor\":\"white\",\"gridwidth\":2,\"linecolor\":\"white\",\"showbackground\":true,\"ticks\":\"\",\"zerolinecolor\":\"white\"},\"yaxis\":{\"backgroundcolor\":\"#E5ECF6\",\"gridcolor\":\"white\",\"gridwidth\":2,\"linecolor\":\"white\",\"showbackground\":true,\"ticks\":\"\",\"zerolinecolor\":\"white\"},\"zaxis\":{\"backgroundcolor\":\"#E5ECF6\",\"gridcolor\":\"white\",\"gridwidth\":2,\"linecolor\":\"white\",\"showbackground\":true,\"ticks\":\"\",\"zerolinecolor\":\"white\"}},\"shapedefaults\":{\"line\":{\"color\":\"#2a3f5f\"}},\"ternary\":{\"aaxis\":{\"gridcolor\":\"white\",\"linecolor\":\"white\",\"ticks\":\"\"},\"baxis\":{\"gridcolor\":\"white\",\"linecolor\":\"white\",\"ticks\":\"\"},\"bgcolor\":\"#E5ECF6\",\"caxis\":{\"gridcolor\":\"white\",\"linecolor\":\"white\",\"ticks\":\"\"}},\"title\":{\"x\":0.05},\"xaxis\":{\"automargin\":true,\"gridcolor\":\"white\",\"linecolor\":\"white\",\"ticks\":\"\",\"title\":{\"standoff\":15},\"zerolinecolor\":\"white\",\"zerolinewidth\":2},\"yaxis\":{\"automargin\":true,\"gridcolor\":\"white\",\"linecolor\":\"white\",\"ticks\":\"\",\"title\":{\"standoff\":15},\"zerolinecolor\":\"white\",\"zerolinewidth\":2}}},\"title\":{\"text\":\"Distribution of Republican and Democrat quotes with respect to news outlet leaning\",\"x\":0.5},\"xaxis\":{\"title\":{\"text\":\"News outlet political leaning\"}},\"yaxis\":{\"title\":{\"text\":\"Quoting percentage\"}}},                        {\"responsive\": true}                    ).then(function(){\n",
              "                            \n",
              "var gd = document.getElementById('d66c2d6b-f2e7-49ca-a264-14b36cc25233');\n",
              "var x = new MutationObserver(function (mutations, observer) {{\n",
              "        var display = window.getComputedStyle(gd).display;\n",
              "        if (!display || display === 'none') {{\n",
              "            console.log([gd, 'removed!']);\n",
              "            Plotly.purge(gd);\n",
              "            observer.disconnect();\n",
              "        }}\n",
              "}});\n",
              "\n",
              "// Listen for the removal of the full notebook cells\n",
              "var notebookContainer = gd.closest('#notebook-container');\n",
              "if (notebookContainer) {{\n",
              "    x.observe(notebookContainer, {childList: true});\n",
              "}}\n",
              "\n",
              "// Listen for the clearing of the current output cell\n",
              "var outputEl = gd.closest('.output');\n",
              "if (outputEl) {{\n",
              "    x.observe(outputEl, {childList: true});\n",
              "}}\n",
              "\n",
              "                        })                };                            </script>        </div>\n",
              "</body>\n",
              "</html>"
            ]
          },
          "metadata": {}
        }
      ],
      "id": "PP43f_lHeqcF"
    },
    {
      "cell_type": "markdown",
      "source": [
        "Surprisingly, quotes from Democratic and Republican speakers are very closely distributed between the different news outlets. There is only a bit more of the quotes from Democratic speakers in left-leaning news oulets, and a bit more of the quotes from Republican speakers in right-leaning news oulets (about 1%).\n",
        "\n",
        "*It seems like there is not much difference in how much websites of different political leaning quote Democratic or Republican speakers. Let's see if instead there is one in the way they quote !*\n",
        "\n",
        "\n",
        "\n",
        "**Known bias :**\n",
        "\n",
        "- 70% of republican quotes in total dataset\n",
        "- Majority of left leaning outlets"
      ],
      "metadata": {
        "id": "pqhl1kek93Hq"
      },
      "id": "pqhl1kek93Hq"
    },
    {
      "cell_type": "code",
      "source": [
        "X = ['Left-leaning','Neutral','Right-leaning']\n",
        "Dem = [df_speakers_stats_total_dem[\"L_Len\"].values[0],df_speakers_stats_total_dem[\"N_Len\"].values[0],df_speakers_stats_total_dem[\"R_Len\"].values[0]]\n",
        "Rep = [df_speakers_stats_total_rep[\"L_Len\"].values[0],df_speakers_stats_total_rep[\"N_Len\"].values[0],df_speakers_stats_total_rep[\"R_Len\"].values[0]]\n",
        "\n",
        "Dem_err = [df_speakers_stats_total_dem[\"L_Len_err\"].values[0],df_speakers_stats_total_dem[\"N_Len_err\"].values[0],df_speakers_stats_total_dem[\"R_Len_err\"].values[0]]\n",
        "Rep_err = [df_speakers_stats_total_rep[\"L_Len_err\"].values[0],df_speakers_stats_total_rep[\"N_Len_err\"].values[0],df_speakers_stats_total_rep[\"R_Len_err\"].values[0]]\n",
        "\n",
        "\n",
        "\n",
        "fig = go.Figure()\n",
        "\n",
        "fig.add_trace(go.Bar(\n",
        "    name='Democrats',\n",
        "    x=X, y=np.round(Dem,4),\n",
        "    error_y=dict(type='data', array=np.round(Dem_err,6))\n",
        "))\n",
        "\n",
        "fig.add_trace(go.Bar(\n",
        "    name='Republicans',\n",
        "    x=X, y=np.round(Rep,4),\n",
        "    error_y=dict(type='data', array=np.round(Rep_err,6))\n",
        "))\n",
        "\n",
        "fig.update_layout(\n",
        "    title=\"Mean quote length with respect to speaker and news outlet political orientation\",\n",
        "    title_x=0.5,\n",
        "    xaxis_title=\"News outlet political leaning\",\n",
        "    yaxis_title=\"Mean quote length\"\n",
        "    )\n",
        "\n",
        "fig.update_yaxes(range = [15,23])\n",
        "\n",
        "fig.show()\n",
        "fig.write_html('2_2.html')"
      ],
      "metadata": {
        "colab": {
          "base_uri": "https://localhost:8080/",
          "height": 542
        },
        "id": "Ono7mJsMdgMU",
        "outputId": "80a2112b-72fe-440a-8304-3525d7e4784b"
      },
      "execution_count": null,
      "outputs": [
        {
          "output_type": "display_data",
          "data": {
            "text/html": [
              "<html>\n",
              "<head><meta charset=\"utf-8\" /></head>\n",
              "<body>\n",
              "    <div>            <script src=\"https://cdnjs.cloudflare.com/ajax/libs/mathjax/2.7.5/MathJax.js?config=TeX-AMS-MML_SVG\"></script><script type=\"text/javascript\">if (window.MathJax) {MathJax.Hub.Config({SVG: {font: \"STIX-Web\"}});}</script>                <script type=\"text/javascript\">window.PlotlyConfig = {MathJaxConfig: 'local'};</script>\n",
              "        <script src=\"https://cdn.plot.ly/plotly-2.6.3.min.js\"></script>                <div id=\"bf22599f-7aec-44ab-94d2-1289d83e37ea\" class=\"plotly-graph-div\" style=\"height:525px; width:100%;\"></div>            <script type=\"text/javascript\">                                    window.PLOTLYENV=window.PLOTLYENV || {};                                    if (document.getElementById(\"bf22599f-7aec-44ab-94d2-1289d83e37ea\")) {                    Plotly.newPlot(                        \"bf22599f-7aec-44ab-94d2-1289d83e37ea\",                        [{\"error_y\":{\"array\":[0.000426,0.002923,0.002452],\"type\":\"data\"},\"name\":\"Democrats\",\"x\":[\"Left-leaning\",\"Neutral\",\"Right-leaning\"],\"y\":[19.7145,21.4239,22.029],\"type\":\"bar\"},{\"error_y\":{\"array\":[0.000431,0.001425,0.003392],\"type\":\"data\"},\"name\":\"Republicans\",\"x\":[\"Left-leaning\",\"Neutral\",\"Right-leaning\"],\"y\":[18.2371,19.6693,19.9443],\"type\":\"bar\"}],                        {\"template\":{\"data\":{\"bar\":[{\"error_x\":{\"color\":\"#2a3f5f\"},\"error_y\":{\"color\":\"#2a3f5f\"},\"marker\":{\"line\":{\"color\":\"#E5ECF6\",\"width\":0.5},\"pattern\":{\"fillmode\":\"overlay\",\"size\":10,\"solidity\":0.2}},\"type\":\"bar\"}],\"barpolar\":[{\"marker\":{\"line\":{\"color\":\"#E5ECF6\",\"width\":0.5},\"pattern\":{\"fillmode\":\"overlay\",\"size\":10,\"solidity\":0.2}},\"type\":\"barpolar\"}],\"carpet\":[{\"aaxis\":{\"endlinecolor\":\"#2a3f5f\",\"gridcolor\":\"white\",\"linecolor\":\"white\",\"minorgridcolor\":\"white\",\"startlinecolor\":\"#2a3f5f\"},\"baxis\":{\"endlinecolor\":\"#2a3f5f\",\"gridcolor\":\"white\",\"linecolor\":\"white\",\"minorgridcolor\":\"white\",\"startlinecolor\":\"#2a3f5f\"},\"type\":\"carpet\"}],\"choropleth\":[{\"colorbar\":{\"outlinewidth\":0,\"ticks\":\"\"},\"type\":\"choropleth\"}],\"contour\":[{\"colorbar\":{\"outlinewidth\":0,\"ticks\":\"\"},\"colorscale\":[[0.0,\"#0d0887\"],[0.1111111111111111,\"#46039f\"],[0.2222222222222222,\"#7201a8\"],[0.3333333333333333,\"#9c179e\"],[0.4444444444444444,\"#bd3786\"],[0.5555555555555556,\"#d8576b\"],[0.6666666666666666,\"#ed7953\"],[0.7777777777777778,\"#fb9f3a\"],[0.8888888888888888,\"#fdca26\"],[1.0,\"#f0f921\"]],\"type\":\"contour\"}],\"contourcarpet\":[{\"colorbar\":{\"outlinewidth\":0,\"ticks\":\"\"},\"type\":\"contourcarpet\"}],\"heatmap\":[{\"colorbar\":{\"outlinewidth\":0,\"ticks\":\"\"},\"colorscale\":[[0.0,\"#0d0887\"],[0.1111111111111111,\"#46039f\"],[0.2222222222222222,\"#7201a8\"],[0.3333333333333333,\"#9c179e\"],[0.4444444444444444,\"#bd3786\"],[0.5555555555555556,\"#d8576b\"],[0.6666666666666666,\"#ed7953\"],[0.7777777777777778,\"#fb9f3a\"],[0.8888888888888888,\"#fdca26\"],[1.0,\"#f0f921\"]],\"type\":\"heatmap\"}],\"heatmapgl\":[{\"colorbar\":{\"outlinewidth\":0,\"ticks\":\"\"},\"colorscale\":[[0.0,\"#0d0887\"],[0.1111111111111111,\"#46039f\"],[0.2222222222222222,\"#7201a8\"],[0.3333333333333333,\"#9c179e\"],[0.4444444444444444,\"#bd3786\"],[0.5555555555555556,\"#d8576b\"],[0.6666666666666666,\"#ed7953\"],[0.7777777777777778,\"#fb9f3a\"],[0.8888888888888888,\"#fdca26\"],[1.0,\"#f0f921\"]],\"type\":\"heatmapgl\"}],\"histogram\":[{\"marker\":{\"pattern\":{\"fillmode\":\"overlay\",\"size\":10,\"solidity\":0.2}},\"type\":\"histogram\"}],\"histogram2d\":[{\"colorbar\":{\"outlinewidth\":0,\"ticks\":\"\"},\"colorscale\":[[0.0,\"#0d0887\"],[0.1111111111111111,\"#46039f\"],[0.2222222222222222,\"#7201a8\"],[0.3333333333333333,\"#9c179e\"],[0.4444444444444444,\"#bd3786\"],[0.5555555555555556,\"#d8576b\"],[0.6666666666666666,\"#ed7953\"],[0.7777777777777778,\"#fb9f3a\"],[0.8888888888888888,\"#fdca26\"],[1.0,\"#f0f921\"]],\"type\":\"histogram2d\"}],\"histogram2dcontour\":[{\"colorbar\":{\"outlinewidth\":0,\"ticks\":\"\"},\"colorscale\":[[0.0,\"#0d0887\"],[0.1111111111111111,\"#46039f\"],[0.2222222222222222,\"#7201a8\"],[0.3333333333333333,\"#9c179e\"],[0.4444444444444444,\"#bd3786\"],[0.5555555555555556,\"#d8576b\"],[0.6666666666666666,\"#ed7953\"],[0.7777777777777778,\"#fb9f3a\"],[0.8888888888888888,\"#fdca26\"],[1.0,\"#f0f921\"]],\"type\":\"histogram2dcontour\"}],\"mesh3d\":[{\"colorbar\":{\"outlinewidth\":0,\"ticks\":\"\"},\"type\":\"mesh3d\"}],\"parcoords\":[{\"line\":{\"colorbar\":{\"outlinewidth\":0,\"ticks\":\"\"}},\"type\":\"parcoords\"}],\"pie\":[{\"automargin\":true,\"type\":\"pie\"}],\"scatter\":[{\"marker\":{\"colorbar\":{\"outlinewidth\":0,\"ticks\":\"\"}},\"type\":\"scatter\"}],\"scatter3d\":[{\"line\":{\"colorbar\":{\"outlinewidth\":0,\"ticks\":\"\"}},\"marker\":{\"colorbar\":{\"outlinewidth\":0,\"ticks\":\"\"}},\"type\":\"scatter3d\"}],\"scattercarpet\":[{\"marker\":{\"colorbar\":{\"outlinewidth\":0,\"ticks\":\"\"}},\"type\":\"scattercarpet\"}],\"scattergeo\":[{\"marker\":{\"colorbar\":{\"outlinewidth\":0,\"ticks\":\"\"}},\"type\":\"scattergeo\"}],\"scattergl\":[{\"marker\":{\"colorbar\":{\"outlinewidth\":0,\"ticks\":\"\"}},\"type\":\"scattergl\"}],\"scattermapbox\":[{\"marker\":{\"colorbar\":{\"outlinewidth\":0,\"ticks\":\"\"}},\"type\":\"scattermapbox\"}],\"scatterpolar\":[{\"marker\":{\"colorbar\":{\"outlinewidth\":0,\"ticks\":\"\"}},\"type\":\"scatterpolar\"}],\"scatterpolargl\":[{\"marker\":{\"colorbar\":{\"outlinewidth\":0,\"ticks\":\"\"}},\"type\":\"scatterpolargl\"}],\"scatterternary\":[{\"marker\":{\"colorbar\":{\"outlinewidth\":0,\"ticks\":\"\"}},\"type\":\"scatterternary\"}],\"surface\":[{\"colorbar\":{\"outlinewidth\":0,\"ticks\":\"\"},\"colorscale\":[[0.0,\"#0d0887\"],[0.1111111111111111,\"#46039f\"],[0.2222222222222222,\"#7201a8\"],[0.3333333333333333,\"#9c179e\"],[0.4444444444444444,\"#bd3786\"],[0.5555555555555556,\"#d8576b\"],[0.6666666666666666,\"#ed7953\"],[0.7777777777777778,\"#fb9f3a\"],[0.8888888888888888,\"#fdca26\"],[1.0,\"#f0f921\"]],\"type\":\"surface\"}],\"table\":[{\"cells\":{\"fill\":{\"color\":\"#EBF0F8\"},\"line\":{\"color\":\"white\"}},\"header\":{\"fill\":{\"color\":\"#C8D4E3\"},\"line\":{\"color\":\"white\"}},\"type\":\"table\"}]},\"layout\":{\"annotationdefaults\":{\"arrowcolor\":\"#2a3f5f\",\"arrowhead\":0,\"arrowwidth\":1},\"autotypenumbers\":\"strict\",\"coloraxis\":{\"colorbar\":{\"outlinewidth\":0,\"ticks\":\"\"}},\"colorscale\":{\"diverging\":[[0,\"#8e0152\"],[0.1,\"#c51b7d\"],[0.2,\"#de77ae\"],[0.3,\"#f1b6da\"],[0.4,\"#fde0ef\"],[0.5,\"#f7f7f7\"],[0.6,\"#e6f5d0\"],[0.7,\"#b8e186\"],[0.8,\"#7fbc41\"],[0.9,\"#4d9221\"],[1,\"#276419\"]],\"sequential\":[[0.0,\"#0d0887\"],[0.1111111111111111,\"#46039f\"],[0.2222222222222222,\"#7201a8\"],[0.3333333333333333,\"#9c179e\"],[0.4444444444444444,\"#bd3786\"],[0.5555555555555556,\"#d8576b\"],[0.6666666666666666,\"#ed7953\"],[0.7777777777777778,\"#fb9f3a\"],[0.8888888888888888,\"#fdca26\"],[1.0,\"#f0f921\"]],\"sequentialminus\":[[0.0,\"#0d0887\"],[0.1111111111111111,\"#46039f\"],[0.2222222222222222,\"#7201a8\"],[0.3333333333333333,\"#9c179e\"],[0.4444444444444444,\"#bd3786\"],[0.5555555555555556,\"#d8576b\"],[0.6666666666666666,\"#ed7953\"],[0.7777777777777778,\"#fb9f3a\"],[0.8888888888888888,\"#fdca26\"],[1.0,\"#f0f921\"]]},\"colorway\":[\"#636efa\",\"#EF553B\",\"#00cc96\",\"#ab63fa\",\"#FFA15A\",\"#19d3f3\",\"#FF6692\",\"#B6E880\",\"#FF97FF\",\"#FECB52\"],\"font\":{\"color\":\"#2a3f5f\"},\"geo\":{\"bgcolor\":\"white\",\"lakecolor\":\"white\",\"landcolor\":\"#E5ECF6\",\"showlakes\":true,\"showland\":true,\"subunitcolor\":\"white\"},\"hoverlabel\":{\"align\":\"left\"},\"hovermode\":\"closest\",\"mapbox\":{\"style\":\"light\"},\"paper_bgcolor\":\"white\",\"plot_bgcolor\":\"#E5ECF6\",\"polar\":{\"angularaxis\":{\"gridcolor\":\"white\",\"linecolor\":\"white\",\"ticks\":\"\"},\"bgcolor\":\"#E5ECF6\",\"radialaxis\":{\"gridcolor\":\"white\",\"linecolor\":\"white\",\"ticks\":\"\"}},\"scene\":{\"xaxis\":{\"backgroundcolor\":\"#E5ECF6\",\"gridcolor\":\"white\",\"gridwidth\":2,\"linecolor\":\"white\",\"showbackground\":true,\"ticks\":\"\",\"zerolinecolor\":\"white\"},\"yaxis\":{\"backgroundcolor\":\"#E5ECF6\",\"gridcolor\":\"white\",\"gridwidth\":2,\"linecolor\":\"white\",\"showbackground\":true,\"ticks\":\"\",\"zerolinecolor\":\"white\"},\"zaxis\":{\"backgroundcolor\":\"#E5ECF6\",\"gridcolor\":\"white\",\"gridwidth\":2,\"linecolor\":\"white\",\"showbackground\":true,\"ticks\":\"\",\"zerolinecolor\":\"white\"}},\"shapedefaults\":{\"line\":{\"color\":\"#2a3f5f\"}},\"ternary\":{\"aaxis\":{\"gridcolor\":\"white\",\"linecolor\":\"white\",\"ticks\":\"\"},\"baxis\":{\"gridcolor\":\"white\",\"linecolor\":\"white\",\"ticks\":\"\"},\"bgcolor\":\"#E5ECF6\",\"caxis\":{\"gridcolor\":\"white\",\"linecolor\":\"white\",\"ticks\":\"\"}},\"title\":{\"x\":0.05},\"xaxis\":{\"automargin\":true,\"gridcolor\":\"white\",\"linecolor\":\"white\",\"ticks\":\"\",\"title\":{\"standoff\":15},\"zerolinecolor\":\"white\",\"zerolinewidth\":2},\"yaxis\":{\"automargin\":true,\"gridcolor\":\"white\",\"linecolor\":\"white\",\"ticks\":\"\",\"title\":{\"standoff\":15},\"zerolinecolor\":\"white\",\"zerolinewidth\":2}}},\"title\":{\"text\":\"Mean quote length with respect to speaker and news outlet political orientation\",\"x\":0.5},\"xaxis\":{\"title\":{\"text\":\"News outlet political leaning\"}},\"yaxis\":{\"title\":{\"text\":\"Mean quote length\"},\"range\":[15,23]}},                        {\"responsive\": true}                    ).then(function(){\n",
              "                            \n",
              "var gd = document.getElementById('bf22599f-7aec-44ab-94d2-1289d83e37ea');\n",
              "var x = new MutationObserver(function (mutations, observer) {{\n",
              "        var display = window.getComputedStyle(gd).display;\n",
              "        if (!display || display === 'none') {{\n",
              "            console.log([gd, 'removed!']);\n",
              "            Plotly.purge(gd);\n",
              "            observer.disconnect();\n",
              "        }}\n",
              "}});\n",
              "\n",
              "// Listen for the removal of the full notebook cells\n",
              "var notebookContainer = gd.closest('#notebook-container');\n",
              "if (notebookContainer) {{\n",
              "    x.observe(notebookContainer, {childList: true});\n",
              "}}\n",
              "\n",
              "// Listen for the clearing of the current output cell\n",
              "var outputEl = gd.closest('.output');\n",
              "if (outputEl) {{\n",
              "    x.observe(outputEl, {childList: true});\n",
              "}}\n",
              "\n",
              "                        })                };                            </script>        </div>\n",
              "</body>\n",
              "</html>"
            ]
          },
          "metadata": {}
        }
      ],
      "id": "Ono7mJsMdgMU"
    },
    {
      "cell_type": "markdown",
      "source": [
        "This plot shows that speakers affiliated to the Democratic party have on average longer quotes than speakers affiliated to the Republican party (by 1-2 words), in neutral, left, and right-leaning news outlets. \n",
        "\n",
        "Furthermore, and in accordance to our previous results, we find that there is a difference in mean quoting length between left-leaning, neutral and right-leaning news outlets, with left leaning outlets using shorter quotes and right leaning outlets using longer ones.\n",
        "\n",
        "*Democrat speakers have longer quotes than Republicans, independent of the leaning of the news outlet. Let's now look at the quote positivity.*"
      ],
      "metadata": {
        "id": "7rQxKD0ok--G"
      },
      "id": "7rQxKD0ok--G"
    },
    {
      "cell_type": "code",
      "source": [
        "X = ['Left-leaning','Neutral','Right-leaning']\n",
        "Dem = [df_speakers_stats_total_dem[\"L_Pol\"].values[0],df_speakers_stats_total_dem[\"N_Pol\"].values[0],df_speakers_stats_total_dem[\"R_Pol\"].values[0]]\n",
        "Rep = [df_speakers_stats_total_rep[\"L_Pol\"].values[0],df_speakers_stats_total_rep[\"N_Pol\"].values[0],df_speakers_stats_total_rep[\"R_Pol\"].values[0]]\n",
        "\n",
        "Dem_err = [df_speakers_stats_total_dem[\"L_Pol_err\"].values[0],df_speakers_stats_total_dem[\"N_Pol_err\"].values[0],df_speakers_stats_total_dem[\"R_Pol_err\"].values[0]]\n",
        "Rep_err = [df_speakers_stats_total_rep[\"L_Pol_err\"].values[0],df_speakers_stats_total_rep[\"N_Pol_err\"].values[0],df_speakers_stats_total_rep[\"R_Pol_err\"].values[0]]\n",
        "\n",
        "\n",
        "\n",
        "fig = go.Figure()\n",
        "\n",
        "fig.add_trace(go.Bar(\n",
        "    name='Democrats',\n",
        "    x=X, y=np.round(Dem,4),\n",
        "    error_y=dict(type='data', array=np.round(Dem_err,6))\n",
        "))\n",
        "\n",
        "fig.add_trace(go.Bar(\n",
        "    name='Republicans',\n",
        "    x=X, y=np.round(Rep,4),\n",
        "    error_y=dict(type='data', array=np.round(Rep_err,6))\n",
        "))\n",
        "\n",
        "fig.update_layout(\n",
        "    title=\"Mean polarity score with respect to speaker and news outlet political orientation\",\n",
        "    title_x=0.5,\n",
        "    xaxis_title=\"News outlet political leaning\",\n",
        "    yaxis_title=\"Mean polarity score\"\n",
        "    )\n",
        "\n",
        "fig.update_yaxes(range = [0.05,0.08])\n",
        "\n",
        "fig.show()\n",
        "fig.write_html('2_3.html')"
      ],
      "metadata": {
        "colab": {
          "base_uri": "https://localhost:8080/",
          "height": 542
        },
        "id": "NoIvGRjbc_BE",
        "outputId": "a2dd4e0d-bbe0-49ab-b681-d2184e95c75f"
      },
      "execution_count": null,
      "outputs": [
        {
          "output_type": "display_data",
          "data": {
            "text/html": [
              "<html>\n",
              "<head><meta charset=\"utf-8\" /></head>\n",
              "<body>\n",
              "    <div>            <script src=\"https://cdnjs.cloudflare.com/ajax/libs/mathjax/2.7.5/MathJax.js?config=TeX-AMS-MML_SVG\"></script><script type=\"text/javascript\">if (window.MathJax) {MathJax.Hub.Config({SVG: {font: \"STIX-Web\"}});}</script>                <script type=\"text/javascript\">window.PlotlyConfig = {MathJaxConfig: 'local'};</script>\n",
              "        <script src=\"https://cdn.plot.ly/plotly-2.6.3.min.js\"></script>                <div id=\"6e5fbd60-3490-4745-b625-60eac05d9ff1\" class=\"plotly-graph-div\" style=\"height:525px; width:100%;\"></div>            <script type=\"text/javascript\">                                    window.PLOTLYENV=window.PLOTLYENV || {};                                    if (document.getElementById(\"6e5fbd60-3490-4745-b625-60eac05d9ff1\")) {                    Plotly.newPlot(                        \"6e5fbd60-3490-4745-b625-60eac05d9ff1\",                        [{\"error_y\":{\"array\":[2.6e-05,0.000105,3.7e-05],\"type\":\"data\"},\"name\":\"Democrats\",\"x\":[\"Left-leaning\",\"Neutral\",\"Right-leaning\"],\"y\":[0.0732,0.0779,0.0644],\"type\":\"bar\"},{\"error_y\":{\"array\":[1.9e-05,4.9e-05,2.8e-05],\"type\":\"data\"},\"name\":\"Republicans\",\"x\":[\"Left-leaning\",\"Neutral\",\"Right-leaning\"],\"y\":[0.0634,0.0725,0.0671],\"type\":\"bar\"}],                        {\"template\":{\"data\":{\"bar\":[{\"error_x\":{\"color\":\"#2a3f5f\"},\"error_y\":{\"color\":\"#2a3f5f\"},\"marker\":{\"line\":{\"color\":\"#E5ECF6\",\"width\":0.5},\"pattern\":{\"fillmode\":\"overlay\",\"size\":10,\"solidity\":0.2}},\"type\":\"bar\"}],\"barpolar\":[{\"marker\":{\"line\":{\"color\":\"#E5ECF6\",\"width\":0.5},\"pattern\":{\"fillmode\":\"overlay\",\"size\":10,\"solidity\":0.2}},\"type\":\"barpolar\"}],\"carpet\":[{\"aaxis\":{\"endlinecolor\":\"#2a3f5f\",\"gridcolor\":\"white\",\"linecolor\":\"white\",\"minorgridcolor\":\"white\",\"startlinecolor\":\"#2a3f5f\"},\"baxis\":{\"endlinecolor\":\"#2a3f5f\",\"gridcolor\":\"white\",\"linecolor\":\"white\",\"minorgridcolor\":\"white\",\"startlinecolor\":\"#2a3f5f\"},\"type\":\"carpet\"}],\"choropleth\":[{\"colorbar\":{\"outlinewidth\":0,\"ticks\":\"\"},\"type\":\"choropleth\"}],\"contour\":[{\"colorbar\":{\"outlinewidth\":0,\"ticks\":\"\"},\"colorscale\":[[0.0,\"#0d0887\"],[0.1111111111111111,\"#46039f\"],[0.2222222222222222,\"#7201a8\"],[0.3333333333333333,\"#9c179e\"],[0.4444444444444444,\"#bd3786\"],[0.5555555555555556,\"#d8576b\"],[0.6666666666666666,\"#ed7953\"],[0.7777777777777778,\"#fb9f3a\"],[0.8888888888888888,\"#fdca26\"],[1.0,\"#f0f921\"]],\"type\":\"contour\"}],\"contourcarpet\":[{\"colorbar\":{\"outlinewidth\":0,\"ticks\":\"\"},\"type\":\"contourcarpet\"}],\"heatmap\":[{\"colorbar\":{\"outlinewidth\":0,\"ticks\":\"\"},\"colorscale\":[[0.0,\"#0d0887\"],[0.1111111111111111,\"#46039f\"],[0.2222222222222222,\"#7201a8\"],[0.3333333333333333,\"#9c179e\"],[0.4444444444444444,\"#bd3786\"],[0.5555555555555556,\"#d8576b\"],[0.6666666666666666,\"#ed7953\"],[0.7777777777777778,\"#fb9f3a\"],[0.8888888888888888,\"#fdca26\"],[1.0,\"#f0f921\"]],\"type\":\"heatmap\"}],\"heatmapgl\":[{\"colorbar\":{\"outlinewidth\":0,\"ticks\":\"\"},\"colorscale\":[[0.0,\"#0d0887\"],[0.1111111111111111,\"#46039f\"],[0.2222222222222222,\"#7201a8\"],[0.3333333333333333,\"#9c179e\"],[0.4444444444444444,\"#bd3786\"],[0.5555555555555556,\"#d8576b\"],[0.6666666666666666,\"#ed7953\"],[0.7777777777777778,\"#fb9f3a\"],[0.8888888888888888,\"#fdca26\"],[1.0,\"#f0f921\"]],\"type\":\"heatmapgl\"}],\"histogram\":[{\"marker\":{\"pattern\":{\"fillmode\":\"overlay\",\"size\":10,\"solidity\":0.2}},\"type\":\"histogram\"}],\"histogram2d\":[{\"colorbar\":{\"outlinewidth\":0,\"ticks\":\"\"},\"colorscale\":[[0.0,\"#0d0887\"],[0.1111111111111111,\"#46039f\"],[0.2222222222222222,\"#7201a8\"],[0.3333333333333333,\"#9c179e\"],[0.4444444444444444,\"#bd3786\"],[0.5555555555555556,\"#d8576b\"],[0.6666666666666666,\"#ed7953\"],[0.7777777777777778,\"#fb9f3a\"],[0.8888888888888888,\"#fdca26\"],[1.0,\"#f0f921\"]],\"type\":\"histogram2d\"}],\"histogram2dcontour\":[{\"colorbar\":{\"outlinewidth\":0,\"ticks\":\"\"},\"colorscale\":[[0.0,\"#0d0887\"],[0.1111111111111111,\"#46039f\"],[0.2222222222222222,\"#7201a8\"],[0.3333333333333333,\"#9c179e\"],[0.4444444444444444,\"#bd3786\"],[0.5555555555555556,\"#d8576b\"],[0.6666666666666666,\"#ed7953\"],[0.7777777777777778,\"#fb9f3a\"],[0.8888888888888888,\"#fdca26\"],[1.0,\"#f0f921\"]],\"type\":\"histogram2dcontour\"}],\"mesh3d\":[{\"colorbar\":{\"outlinewidth\":0,\"ticks\":\"\"},\"type\":\"mesh3d\"}],\"parcoords\":[{\"line\":{\"colorbar\":{\"outlinewidth\":0,\"ticks\":\"\"}},\"type\":\"parcoords\"}],\"pie\":[{\"automargin\":true,\"type\":\"pie\"}],\"scatter\":[{\"marker\":{\"colorbar\":{\"outlinewidth\":0,\"ticks\":\"\"}},\"type\":\"scatter\"}],\"scatter3d\":[{\"line\":{\"colorbar\":{\"outlinewidth\":0,\"ticks\":\"\"}},\"marker\":{\"colorbar\":{\"outlinewidth\":0,\"ticks\":\"\"}},\"type\":\"scatter3d\"}],\"scattercarpet\":[{\"marker\":{\"colorbar\":{\"outlinewidth\":0,\"ticks\":\"\"}},\"type\":\"scattercarpet\"}],\"scattergeo\":[{\"marker\":{\"colorbar\":{\"outlinewidth\":0,\"ticks\":\"\"}},\"type\":\"scattergeo\"}],\"scattergl\":[{\"marker\":{\"colorbar\":{\"outlinewidth\":0,\"ticks\":\"\"}},\"type\":\"scattergl\"}],\"scattermapbox\":[{\"marker\":{\"colorbar\":{\"outlinewidth\":0,\"ticks\":\"\"}},\"type\":\"scattermapbox\"}],\"scatterpolar\":[{\"marker\":{\"colorbar\":{\"outlinewidth\":0,\"ticks\":\"\"}},\"type\":\"scatterpolar\"}],\"scatterpolargl\":[{\"marker\":{\"colorbar\":{\"outlinewidth\":0,\"ticks\":\"\"}},\"type\":\"scatterpolargl\"}],\"scatterternary\":[{\"marker\":{\"colorbar\":{\"outlinewidth\":0,\"ticks\":\"\"}},\"type\":\"scatterternary\"}],\"surface\":[{\"colorbar\":{\"outlinewidth\":0,\"ticks\":\"\"},\"colorscale\":[[0.0,\"#0d0887\"],[0.1111111111111111,\"#46039f\"],[0.2222222222222222,\"#7201a8\"],[0.3333333333333333,\"#9c179e\"],[0.4444444444444444,\"#bd3786\"],[0.5555555555555556,\"#d8576b\"],[0.6666666666666666,\"#ed7953\"],[0.7777777777777778,\"#fb9f3a\"],[0.8888888888888888,\"#fdca26\"],[1.0,\"#f0f921\"]],\"type\":\"surface\"}],\"table\":[{\"cells\":{\"fill\":{\"color\":\"#EBF0F8\"},\"line\":{\"color\":\"white\"}},\"header\":{\"fill\":{\"color\":\"#C8D4E3\"},\"line\":{\"color\":\"white\"}},\"type\":\"table\"}]},\"layout\":{\"annotationdefaults\":{\"arrowcolor\":\"#2a3f5f\",\"arrowhead\":0,\"arrowwidth\":1},\"autotypenumbers\":\"strict\",\"coloraxis\":{\"colorbar\":{\"outlinewidth\":0,\"ticks\":\"\"}},\"colorscale\":{\"diverging\":[[0,\"#8e0152\"],[0.1,\"#c51b7d\"],[0.2,\"#de77ae\"],[0.3,\"#f1b6da\"],[0.4,\"#fde0ef\"],[0.5,\"#f7f7f7\"],[0.6,\"#e6f5d0\"],[0.7,\"#b8e186\"],[0.8,\"#7fbc41\"],[0.9,\"#4d9221\"],[1,\"#276419\"]],\"sequential\":[[0.0,\"#0d0887\"],[0.1111111111111111,\"#46039f\"],[0.2222222222222222,\"#7201a8\"],[0.3333333333333333,\"#9c179e\"],[0.4444444444444444,\"#bd3786\"],[0.5555555555555556,\"#d8576b\"],[0.6666666666666666,\"#ed7953\"],[0.7777777777777778,\"#fb9f3a\"],[0.8888888888888888,\"#fdca26\"],[1.0,\"#f0f921\"]],\"sequentialminus\":[[0.0,\"#0d0887\"],[0.1111111111111111,\"#46039f\"],[0.2222222222222222,\"#7201a8\"],[0.3333333333333333,\"#9c179e\"],[0.4444444444444444,\"#bd3786\"],[0.5555555555555556,\"#d8576b\"],[0.6666666666666666,\"#ed7953\"],[0.7777777777777778,\"#fb9f3a\"],[0.8888888888888888,\"#fdca26\"],[1.0,\"#f0f921\"]]},\"colorway\":[\"#636efa\",\"#EF553B\",\"#00cc96\",\"#ab63fa\",\"#FFA15A\",\"#19d3f3\",\"#FF6692\",\"#B6E880\",\"#FF97FF\",\"#FECB52\"],\"font\":{\"color\":\"#2a3f5f\"},\"geo\":{\"bgcolor\":\"white\",\"lakecolor\":\"white\",\"landcolor\":\"#E5ECF6\",\"showlakes\":true,\"showland\":true,\"subunitcolor\":\"white\"},\"hoverlabel\":{\"align\":\"left\"},\"hovermode\":\"closest\",\"mapbox\":{\"style\":\"light\"},\"paper_bgcolor\":\"white\",\"plot_bgcolor\":\"#E5ECF6\",\"polar\":{\"angularaxis\":{\"gridcolor\":\"white\",\"linecolor\":\"white\",\"ticks\":\"\"},\"bgcolor\":\"#E5ECF6\",\"radialaxis\":{\"gridcolor\":\"white\",\"linecolor\":\"white\",\"ticks\":\"\"}},\"scene\":{\"xaxis\":{\"backgroundcolor\":\"#E5ECF6\",\"gridcolor\":\"white\",\"gridwidth\":2,\"linecolor\":\"white\",\"showbackground\":true,\"ticks\":\"\",\"zerolinecolor\":\"white\"},\"yaxis\":{\"backgroundcolor\":\"#E5ECF6\",\"gridcolor\":\"white\",\"gridwidth\":2,\"linecolor\":\"white\",\"showbackground\":true,\"ticks\":\"\",\"zerolinecolor\":\"white\"},\"zaxis\":{\"backgroundcolor\":\"#E5ECF6\",\"gridcolor\":\"white\",\"gridwidth\":2,\"linecolor\":\"white\",\"showbackground\":true,\"ticks\":\"\",\"zerolinecolor\":\"white\"}},\"shapedefaults\":{\"line\":{\"color\":\"#2a3f5f\"}},\"ternary\":{\"aaxis\":{\"gridcolor\":\"white\",\"linecolor\":\"white\",\"ticks\":\"\"},\"baxis\":{\"gridcolor\":\"white\",\"linecolor\":\"white\",\"ticks\":\"\"},\"bgcolor\":\"#E5ECF6\",\"caxis\":{\"gridcolor\":\"white\",\"linecolor\":\"white\",\"ticks\":\"\"}},\"title\":{\"x\":0.05},\"xaxis\":{\"automargin\":true,\"gridcolor\":\"white\",\"linecolor\":\"white\",\"ticks\":\"\",\"title\":{\"standoff\":15},\"zerolinecolor\":\"white\",\"zerolinewidth\":2},\"yaxis\":{\"automargin\":true,\"gridcolor\":\"white\",\"linecolor\":\"white\",\"ticks\":\"\",\"title\":{\"standoff\":15},\"zerolinecolor\":\"white\",\"zerolinewidth\":2}}},\"title\":{\"text\":\"Mean polarity score with respect to speaker and news outlet political orientation\",\"x\":0.5},\"xaxis\":{\"title\":{\"text\":\"News outlet political leaning\"}},\"yaxis\":{\"title\":{\"text\":\"Mean polarity score\"},\"range\":[0.05,0.08]}},                        {\"responsive\": true}                    ).then(function(){\n",
              "                            \n",
              "var gd = document.getElementById('6e5fbd60-3490-4745-b625-60eac05d9ff1');\n",
              "var x = new MutationObserver(function (mutations, observer) {{\n",
              "        var display = window.getComputedStyle(gd).display;\n",
              "        if (!display || display === 'none') {{\n",
              "            console.log([gd, 'removed!']);\n",
              "            Plotly.purge(gd);\n",
              "            observer.disconnect();\n",
              "        }}\n",
              "}});\n",
              "\n",
              "// Listen for the removal of the full notebook cells\n",
              "var notebookContainer = gd.closest('#notebook-container');\n",
              "if (notebookContainer) {{\n",
              "    x.observe(notebookContainer, {childList: true});\n",
              "}}\n",
              "\n",
              "// Listen for the clearing of the current output cell\n",
              "var outputEl = gd.closest('.output');\n",
              "if (outputEl) {{\n",
              "    x.observe(outputEl, {childList: true});\n",
              "}}\n",
              "\n",
              "                        })                };                            </script>        </div>\n",
              "</body>\n",
              "</html>"
            ]
          },
          "metadata": {}
        }
      ],
      "id": "NoIvGRjbc_BE"
    },
    {
      "cell_type": "markdown",
      "source": [
        "First, left-leaning news outlet quote Democrats more positively than Republicans, and right-leaning news outlets quote Republicans more positively than Democrats. *Therefore we observe the expected pattern where news outlets quote the speakers from their own political orientation more positively those from the opposite one.*\n",
        "\n",
        "Second, Democratic speaker are quoted more positively in left-leaning news outlets than in right-leaning news outlets and Republican speakers are quoted more positively in right-leaning news-outlets than in left-leaning news outlets. *More surprisingly, neutral news outlets quote more positively than politicized news outlets, for both Republican and Democratic speakers. This indicates that a more negative quoting style is associated with politicized news outlets.*\n",
        "\n",
        "Third, we observed that the polarity score of the most quoted speakers belonging to any of the two main US parties is lower than mean polarity score for all speakers found in the first part of the analysis. \n",
        "\n",
        "*Therefore we've found that politically oriented top speakers are quoted more negatively on average than either less quoted political speakers or apolitical speakers. Let's look into this more, are apolitical speakers quoted more positively, or could it be that the top speakers are actually quoted more negatively than less quoted speakers?*"
      ],
      "metadata": {
        "id": "JcMg3PFwk--G"
      },
      "id": "JcMg3PFwk--G"
    },
    {
      "cell_type": "code",
      "source": [
        "X = ['Democratic','Republican',\"Apolitical\"]\n",
        "L = [df_speakers_stats_total_dem[\"L_Pol\"].values[0],df_speakers_stats_total_rep[\"L_Pol\"].values[0]] # Mean polarity score in left-leaning news outlet\n",
        "N = [df_speakers_stats_total_dem[\"N_Pol\"].values[0],df_speakers_stats_total_rep[\"N_Pol\"].values[0]] # Mean polarity score in nautral news outlet\n",
        "R = [df_speakers_stats_total_dem[\"R_Pol\"].values[0],df_speakers_stats_total_rep[\"R_Pol\"].values[0]] # Mean polarity score in right-leaning news outlet\n",
        "Dem_count = [df_speakers_stats_total_dem[\"L_Count\"].values[0],df_speakers_stats_total_dem[\"N_Count\"].values[0],df_speakers_stats_total_dem[\"R_Count\"].values[0]] # Quotes count for democrat speakers\n",
        "Rep_count = [df_speakers_stats_total_rep[\"L_Count\"].values[0],df_speakers_stats_total_rep[\"N_Count\"].values[0],df_speakers_stats_total_rep[\"R_Count\"].values[0]] # Quotes count for republican speakers\n",
        "\n",
        "Dem_mean = np.average(np.array([L[0],N[0],R[0]]),weights=np.array(Dem_count)) # Compute the weighted mean for Democrat speakers\n",
        "Rep_mean = np.average(np.array([L[1],N[1],R[1]]),weights=np.array(Rep_count)) # Compute the weighted mean for Republican speakers\n",
        "# Weighted mean for Apolitic speakers is already computed : compound_mean_apo\n",
        "\n",
        "total_mean_pol = (Dem_mean*15 + Rep_mean*15 + compound_mean_apo*(75-8-30))/(75-8) # Compute the weighted mean for Apolitical speakers\n",
        "\n",
        "\n",
        "fig = go.Figure()\n",
        "\n",
        "fig.add_trace(go.Bar(\n",
        "    x=[\"Democrats\"], y=[np.round(Dem_mean,4)],\n",
        "    width=0.4\n",
        "))\n",
        "\n",
        "fig.add_trace(go.Bar(\n",
        "    x=[\"Republicans\"], y=[np.round(Rep_mean,4)],\n",
        "    width=0.4\n",
        "))\n",
        "\n",
        "fig.add_trace(go.Bar(\n",
        "    x=[\"Apolitical\"], y=[np.round(compound_mean_apo,4)],\n",
        "    width=0.4,\n",
        "    marker_color='LightSlateGrey'\n",
        "))\n",
        "\n",
        "fig.update_layout(\n",
        "    title=\"Mean polarity score with respect to speaker political orientation\",\n",
        "    title_x=0.5,\n",
        "    xaxis_title=\"Speaker political orientation\",\n",
        "    yaxis_title=\"Mean polarity score\",\n",
        "    hoverlabel=dict(namelength=0)\n",
        "    )\n",
        "\n",
        "fig.add_hline(y=total_mean_pol,\n",
        "              line=dict(dash=\"dash\"))\n",
        "fig.update_layout(showlegend=False)\n",
        "fig.show()\n",
        "fig.write_html('2_4.html')"
      ],
      "metadata": {
        "colab": {
          "base_uri": "https://localhost:8080/",
          "height": 542
        },
        "id": "fPcrpsL9ndRY",
        "outputId": "bb4488c9-5c80-40d1-ec13-8eccac957b4a"
      },
      "execution_count": null,
      "outputs": [
        {
          "output_type": "display_data",
          "data": {
            "text/html": [
              "<html>\n",
              "<head><meta charset=\"utf-8\" /></head>\n",
              "<body>\n",
              "    <div>            <script src=\"https://cdnjs.cloudflare.com/ajax/libs/mathjax/2.7.5/MathJax.js?config=TeX-AMS-MML_SVG\"></script><script type=\"text/javascript\">if (window.MathJax) {MathJax.Hub.Config({SVG: {font: \"STIX-Web\"}});}</script>                <script type=\"text/javascript\">window.PlotlyConfig = {MathJaxConfig: 'local'};</script>\n",
              "        <script src=\"https://cdn.plot.ly/plotly-2.6.3.min.js\"></script>                <div id=\"c4ea7092-5c7b-4aea-8015-f6d071af46b4\" class=\"plotly-graph-div\" style=\"height:525px; width:100%;\"></div>            <script type=\"text/javascript\">                                    window.PLOTLYENV=window.PLOTLYENV || {};                                    if (document.getElementById(\"c4ea7092-5c7b-4aea-8015-f6d071af46b4\")) {                    Plotly.newPlot(                        \"c4ea7092-5c7b-4aea-8015-f6d071af46b4\",                        [{\"width\":0.4,\"x\":[\"Democrats\"],\"y\":[0.071],\"type\":\"bar\"},{\"width\":0.4,\"x\":[\"Republicans\"],\"y\":[0.066],\"type\":\"bar\"},{\"marker\":{\"color\":\"LightSlateGrey\"},\"width\":0.4,\"x\":[\"Apolitical\"],\"y\":[0.2028],\"type\":\"bar\"}],                        {\"template\":{\"data\":{\"bar\":[{\"error_x\":{\"color\":\"#2a3f5f\"},\"error_y\":{\"color\":\"#2a3f5f\"},\"marker\":{\"line\":{\"color\":\"#E5ECF6\",\"width\":0.5},\"pattern\":{\"fillmode\":\"overlay\",\"size\":10,\"solidity\":0.2}},\"type\":\"bar\"}],\"barpolar\":[{\"marker\":{\"line\":{\"color\":\"#E5ECF6\",\"width\":0.5},\"pattern\":{\"fillmode\":\"overlay\",\"size\":10,\"solidity\":0.2}},\"type\":\"barpolar\"}],\"carpet\":[{\"aaxis\":{\"endlinecolor\":\"#2a3f5f\",\"gridcolor\":\"white\",\"linecolor\":\"white\",\"minorgridcolor\":\"white\",\"startlinecolor\":\"#2a3f5f\"},\"baxis\":{\"endlinecolor\":\"#2a3f5f\",\"gridcolor\":\"white\",\"linecolor\":\"white\",\"minorgridcolor\":\"white\",\"startlinecolor\":\"#2a3f5f\"},\"type\":\"carpet\"}],\"choropleth\":[{\"colorbar\":{\"outlinewidth\":0,\"ticks\":\"\"},\"type\":\"choropleth\"}],\"contour\":[{\"colorbar\":{\"outlinewidth\":0,\"ticks\":\"\"},\"colorscale\":[[0.0,\"#0d0887\"],[0.1111111111111111,\"#46039f\"],[0.2222222222222222,\"#7201a8\"],[0.3333333333333333,\"#9c179e\"],[0.4444444444444444,\"#bd3786\"],[0.5555555555555556,\"#d8576b\"],[0.6666666666666666,\"#ed7953\"],[0.7777777777777778,\"#fb9f3a\"],[0.8888888888888888,\"#fdca26\"],[1.0,\"#f0f921\"]],\"type\":\"contour\"}],\"contourcarpet\":[{\"colorbar\":{\"outlinewidth\":0,\"ticks\":\"\"},\"type\":\"contourcarpet\"}],\"heatmap\":[{\"colorbar\":{\"outlinewidth\":0,\"ticks\":\"\"},\"colorscale\":[[0.0,\"#0d0887\"],[0.1111111111111111,\"#46039f\"],[0.2222222222222222,\"#7201a8\"],[0.3333333333333333,\"#9c179e\"],[0.4444444444444444,\"#bd3786\"],[0.5555555555555556,\"#d8576b\"],[0.6666666666666666,\"#ed7953\"],[0.7777777777777778,\"#fb9f3a\"],[0.8888888888888888,\"#fdca26\"],[1.0,\"#f0f921\"]],\"type\":\"heatmap\"}],\"heatmapgl\":[{\"colorbar\":{\"outlinewidth\":0,\"ticks\":\"\"},\"colorscale\":[[0.0,\"#0d0887\"],[0.1111111111111111,\"#46039f\"],[0.2222222222222222,\"#7201a8\"],[0.3333333333333333,\"#9c179e\"],[0.4444444444444444,\"#bd3786\"],[0.5555555555555556,\"#d8576b\"],[0.6666666666666666,\"#ed7953\"],[0.7777777777777778,\"#fb9f3a\"],[0.8888888888888888,\"#fdca26\"],[1.0,\"#f0f921\"]],\"type\":\"heatmapgl\"}],\"histogram\":[{\"marker\":{\"pattern\":{\"fillmode\":\"overlay\",\"size\":10,\"solidity\":0.2}},\"type\":\"histogram\"}],\"histogram2d\":[{\"colorbar\":{\"outlinewidth\":0,\"ticks\":\"\"},\"colorscale\":[[0.0,\"#0d0887\"],[0.1111111111111111,\"#46039f\"],[0.2222222222222222,\"#7201a8\"],[0.3333333333333333,\"#9c179e\"],[0.4444444444444444,\"#bd3786\"],[0.5555555555555556,\"#d8576b\"],[0.6666666666666666,\"#ed7953\"],[0.7777777777777778,\"#fb9f3a\"],[0.8888888888888888,\"#fdca26\"],[1.0,\"#f0f921\"]],\"type\":\"histogram2d\"}],\"histogram2dcontour\":[{\"colorbar\":{\"outlinewidth\":0,\"ticks\":\"\"},\"colorscale\":[[0.0,\"#0d0887\"],[0.1111111111111111,\"#46039f\"],[0.2222222222222222,\"#7201a8\"],[0.3333333333333333,\"#9c179e\"],[0.4444444444444444,\"#bd3786\"],[0.5555555555555556,\"#d8576b\"],[0.6666666666666666,\"#ed7953\"],[0.7777777777777778,\"#fb9f3a\"],[0.8888888888888888,\"#fdca26\"],[1.0,\"#f0f921\"]],\"type\":\"histogram2dcontour\"}],\"mesh3d\":[{\"colorbar\":{\"outlinewidth\":0,\"ticks\":\"\"},\"type\":\"mesh3d\"}],\"parcoords\":[{\"line\":{\"colorbar\":{\"outlinewidth\":0,\"ticks\":\"\"}},\"type\":\"parcoords\"}],\"pie\":[{\"automargin\":true,\"type\":\"pie\"}],\"scatter\":[{\"marker\":{\"colorbar\":{\"outlinewidth\":0,\"ticks\":\"\"}},\"type\":\"scatter\"}],\"scatter3d\":[{\"line\":{\"colorbar\":{\"outlinewidth\":0,\"ticks\":\"\"}},\"marker\":{\"colorbar\":{\"outlinewidth\":0,\"ticks\":\"\"}},\"type\":\"scatter3d\"}],\"scattercarpet\":[{\"marker\":{\"colorbar\":{\"outlinewidth\":0,\"ticks\":\"\"}},\"type\":\"scattercarpet\"}],\"scattergeo\":[{\"marker\":{\"colorbar\":{\"outlinewidth\":0,\"ticks\":\"\"}},\"type\":\"scattergeo\"}],\"scattergl\":[{\"marker\":{\"colorbar\":{\"outlinewidth\":0,\"ticks\":\"\"}},\"type\":\"scattergl\"}],\"scattermapbox\":[{\"marker\":{\"colorbar\":{\"outlinewidth\":0,\"ticks\":\"\"}},\"type\":\"scattermapbox\"}],\"scatterpolar\":[{\"marker\":{\"colorbar\":{\"outlinewidth\":0,\"ticks\":\"\"}},\"type\":\"scatterpolar\"}],\"scatterpolargl\":[{\"marker\":{\"colorbar\":{\"outlinewidth\":0,\"ticks\":\"\"}},\"type\":\"scatterpolargl\"}],\"scatterternary\":[{\"marker\":{\"colorbar\":{\"outlinewidth\":0,\"ticks\":\"\"}},\"type\":\"scatterternary\"}],\"surface\":[{\"colorbar\":{\"outlinewidth\":0,\"ticks\":\"\"},\"colorscale\":[[0.0,\"#0d0887\"],[0.1111111111111111,\"#46039f\"],[0.2222222222222222,\"#7201a8\"],[0.3333333333333333,\"#9c179e\"],[0.4444444444444444,\"#bd3786\"],[0.5555555555555556,\"#d8576b\"],[0.6666666666666666,\"#ed7953\"],[0.7777777777777778,\"#fb9f3a\"],[0.8888888888888888,\"#fdca26\"],[1.0,\"#f0f921\"]],\"type\":\"surface\"}],\"table\":[{\"cells\":{\"fill\":{\"color\":\"#EBF0F8\"},\"line\":{\"color\":\"white\"}},\"header\":{\"fill\":{\"color\":\"#C8D4E3\"},\"line\":{\"color\":\"white\"}},\"type\":\"table\"}]},\"layout\":{\"annotationdefaults\":{\"arrowcolor\":\"#2a3f5f\",\"arrowhead\":0,\"arrowwidth\":1},\"autotypenumbers\":\"strict\",\"coloraxis\":{\"colorbar\":{\"outlinewidth\":0,\"ticks\":\"\"}},\"colorscale\":{\"diverging\":[[0,\"#8e0152\"],[0.1,\"#c51b7d\"],[0.2,\"#de77ae\"],[0.3,\"#f1b6da\"],[0.4,\"#fde0ef\"],[0.5,\"#f7f7f7\"],[0.6,\"#e6f5d0\"],[0.7,\"#b8e186\"],[0.8,\"#7fbc41\"],[0.9,\"#4d9221\"],[1,\"#276419\"]],\"sequential\":[[0.0,\"#0d0887\"],[0.1111111111111111,\"#46039f\"],[0.2222222222222222,\"#7201a8\"],[0.3333333333333333,\"#9c179e\"],[0.4444444444444444,\"#bd3786\"],[0.5555555555555556,\"#d8576b\"],[0.6666666666666666,\"#ed7953\"],[0.7777777777777778,\"#fb9f3a\"],[0.8888888888888888,\"#fdca26\"],[1.0,\"#f0f921\"]],\"sequentialminus\":[[0.0,\"#0d0887\"],[0.1111111111111111,\"#46039f\"],[0.2222222222222222,\"#7201a8\"],[0.3333333333333333,\"#9c179e\"],[0.4444444444444444,\"#bd3786\"],[0.5555555555555556,\"#d8576b\"],[0.6666666666666666,\"#ed7953\"],[0.7777777777777778,\"#fb9f3a\"],[0.8888888888888888,\"#fdca26\"],[1.0,\"#f0f921\"]]},\"colorway\":[\"#636efa\",\"#EF553B\",\"#00cc96\",\"#ab63fa\",\"#FFA15A\",\"#19d3f3\",\"#FF6692\",\"#B6E880\",\"#FF97FF\",\"#FECB52\"],\"font\":{\"color\":\"#2a3f5f\"},\"geo\":{\"bgcolor\":\"white\",\"lakecolor\":\"white\",\"landcolor\":\"#E5ECF6\",\"showlakes\":true,\"showland\":true,\"subunitcolor\":\"white\"},\"hoverlabel\":{\"align\":\"left\"},\"hovermode\":\"closest\",\"mapbox\":{\"style\":\"light\"},\"paper_bgcolor\":\"white\",\"plot_bgcolor\":\"#E5ECF6\",\"polar\":{\"angularaxis\":{\"gridcolor\":\"white\",\"linecolor\":\"white\",\"ticks\":\"\"},\"bgcolor\":\"#E5ECF6\",\"radialaxis\":{\"gridcolor\":\"white\",\"linecolor\":\"white\",\"ticks\":\"\"}},\"scene\":{\"xaxis\":{\"backgroundcolor\":\"#E5ECF6\",\"gridcolor\":\"white\",\"gridwidth\":2,\"linecolor\":\"white\",\"showbackground\":true,\"ticks\":\"\",\"zerolinecolor\":\"white\"},\"yaxis\":{\"backgroundcolor\":\"#E5ECF6\",\"gridcolor\":\"white\",\"gridwidth\":2,\"linecolor\":\"white\",\"showbackground\":true,\"ticks\":\"\",\"zerolinecolor\":\"white\"},\"zaxis\":{\"backgroundcolor\":\"#E5ECF6\",\"gridcolor\":\"white\",\"gridwidth\":2,\"linecolor\":\"white\",\"showbackground\":true,\"ticks\":\"\",\"zerolinecolor\":\"white\"}},\"shapedefaults\":{\"line\":{\"color\":\"#2a3f5f\"}},\"ternary\":{\"aaxis\":{\"gridcolor\":\"white\",\"linecolor\":\"white\",\"ticks\":\"\"},\"baxis\":{\"gridcolor\":\"white\",\"linecolor\":\"white\",\"ticks\":\"\"},\"bgcolor\":\"#E5ECF6\",\"caxis\":{\"gridcolor\":\"white\",\"linecolor\":\"white\",\"ticks\":\"\"}},\"title\":{\"x\":0.05},\"xaxis\":{\"automargin\":true,\"gridcolor\":\"white\",\"linecolor\":\"white\",\"ticks\":\"\",\"title\":{\"standoff\":15},\"zerolinecolor\":\"white\",\"zerolinewidth\":2},\"yaxis\":{\"automargin\":true,\"gridcolor\":\"white\",\"linecolor\":\"white\",\"ticks\":\"\",\"title\":{\"standoff\":15},\"zerolinecolor\":\"white\",\"zerolinewidth\":2}}},\"title\":{\"text\":\"Mean polarity score with respect to speaker political orientation\",\"x\":0.5},\"hoverlabel\":{\"namelength\":0},\"xaxis\":{\"title\":{\"text\":\"Speaker political orientation\"}},\"yaxis\":{\"title\":{\"text\":\"Mean polarity score\"}},\"shapes\":[{\"line\":{\"dash\":\"dash\"},\"type\":\"line\",\"x0\":0,\"x1\":1,\"xref\":\"x domain\",\"y0\":0.1426245816595168,\"y1\":0.1426245816595168,\"yref\":\"y\"}],\"showlegend\":false},                        {\"responsive\": true}                    ).then(function(){\n",
              "                            \n",
              "var gd = document.getElementById('c4ea7092-5c7b-4aea-8015-f6d071af46b4');\n",
              "var x = new MutationObserver(function (mutations, observer) {{\n",
              "        var display = window.getComputedStyle(gd).display;\n",
              "        if (!display || display === 'none') {{\n",
              "            console.log([gd, 'removed!']);\n",
              "            Plotly.purge(gd);\n",
              "            observer.disconnect();\n",
              "        }}\n",
              "}});\n",
              "\n",
              "// Listen for the removal of the full notebook cells\n",
              "var notebookContainer = gd.closest('#notebook-container');\n",
              "if (notebookContainer) {{\n",
              "    x.observe(notebookContainer, {childList: true});\n",
              "}}\n",
              "\n",
              "// Listen for the clearing of the current output cell\n",
              "var outputEl = gd.closest('.output');\n",
              "if (outputEl) {{\n",
              "    x.observe(outputEl, {childList: true});\n",
              "}}\n",
              "\n",
              "                        })                };                            </script>        </div>\n",
              "</body>\n",
              "</html>"
            ]
          },
          "metadata": {}
        }
      ],
      "id": "fPcrpsL9ndRY"
    },
    {
      "cell_type": "markdown",
      "source": [
        "Following our discovery that the top political speakers had less positive quotes than the average, we decided to compare quotes from top democrat, republican and apolitical speakers. \n",
        "We observe that top apolitical speakers have almost 3 times the polarity score of top Democratic or Republican speakers.\n",
        "\n",
        "*Therefore we indeed have this pattern where, amongst the top speakers, apolitical speakers' quotes are 3x more positive !*\n",
        "\n",
        "We also see that on average, the top speakers (here) have more positive quotes than standard speakers (previous analysis).\n",
        "\n",
        "*Here we must reject our hypothesis that top speakers are on average quoted more negatively than less quoted speakers. It seems that low positivity of top political speakers is more than compensated by the high positivity of top apolitical speakers.*"
      ],
      "metadata": {
        "id": "VoXKGY4oPab9"
      },
      "id": "VoXKGY4oPab9"
    },
    {
      "cell_type": "markdown",
      "source": [
        "**Conclusion part 2**\n",
        "\n",
        "*Democrat and Republican quotes are similarly distributed amongst news outlets of different political leaning. Democrats have longer quotes in all of them. News outlets quote the speakers from their own political orientation more positively than those from the opposite one. Finally, we've seen that politicised news outlets and politicised speakers both lead to generally more negative quotes. It looks like politics is just more negative overall...*"
      ],
      "metadata": {
        "id": "cFZYFYUDb0Cs"
      },
      "id": "cFZYFYUDb0Cs"
    },
    {
      "cell_type": "markdown",
      "source": [
        "### 3) Quoting style according to news source factual reporting"
      ],
      "metadata": {
        "id": "qyDBnflQy_uB"
      },
      "id": "qyDBnflQy_uB"
    },
    {
      "cell_type": "markdown",
      "source": [
        "**Intro part 3**\n",
        "\n",
        "*We've observed a quoting style difference between left and right-leaning news outlets. However this division according to political leaning does not explain all the quoting style variation. Therefore we decided to group news outlets according to a new parameter: their factual reporting rating. Our hypothesis is that news outlets with higher factual reporting would keep longer and more neutral (less positive) quotes. We are also interested in determining whether neutral website have higher factual reporting than politicized news outlets.*\n",
        "\n",
        "Among the websites we are assessing, the factual reporting rating ranges from mixed to high."
      ],
      "metadata": {
        "id": "FyvCi424f-i5"
      },
      "id": "FyvCi424f-i5"
    },
    {
      "cell_type": "code",
      "source": [
        "X = ['Mixed','Mostly','High']\n",
        "Mi = [df_speakers_stats_total_dem_FR[\"Mi_Len\"].values[0],df_speakers_stats_total_rep_FR[\"Mi_Len\"].values[0]] # Mean quote length in Mixed factual reporting news outlet\n",
        "Mo = [df_speakers_stats_total_dem_FR[\"Mo_Len\"].values[0],df_speakers_stats_total_rep_FR[\"Mo_Len\"].values[0]] # Mean quote length in Mostly factual reporting news outlet\n",
        "Hi = [df_speakers_stats_total_dem_FR[\"Hi_Len\"].values[0],df_speakers_stats_total_rep_FR[\"Hi_Len\"].values[0]] # Mean quote length in High factual reporting news outlet\n",
        "\n",
        "# Quotes number for speakers of both parties\n",
        "Dem_count = [df_speakers_stats_total_dem_FR[\"Mi_Count\"].values[0],df_speakers_stats_total_dem_FR[\"Mo_Count\"].values[0],df_speakers_stats_total_dem_FR[\"Hi_Count\"].values[0]]\n",
        "Rep_count = [df_speakers_stats_total_rep_FR[\"Mi_Count\"].values[0],df_speakers_stats_total_rep_FR[\"Mo_Count\"].values[0],df_speakers_stats_total_rep_FR[\"Hi_Count\"].values[0]]\n",
        "\n",
        "Mi_mean = (Mi[0]*Dem_count[0] + Mi[1]*Rep_count[0])/(Dem_count[0]+Rep_count[0])\n",
        "Mo_mean = (Mo[0]*Dem_count[1] + Mo[1]*Rep_count[1])/(Dem_count[1]+Rep_count[1])\n",
        "Hi_mean = (Hi[0]*Dem_count[2] + Hi[1]*Rep_count[2])/(Dem_count[2]+Rep_count[2])\n",
        "\n",
        "\n",
        "fig = go.Figure()\n",
        "\n",
        "fig.add_trace(go.Bar(\n",
        "    x=[\"Mixed\"], y=[np.round(Mi_mean,4)],\n",
        "    width=0.4,\n",
        "    marker_color='DarkMagenta'\n",
        "))\n",
        "\n",
        "fig.add_trace(go.Bar(\n",
        "    x=[\"Mostly\"], y=[np.round(Mo_mean,4)],\n",
        "    width=0.4,\n",
        "    marker_color='Orange'\n",
        "))\n",
        "\n",
        "fig.add_trace(go.Bar(\n",
        "    x=[\"High\"], y=[np.round(Hi_mean,4)],\n",
        "    width=0.4,\n",
        "    marker_color='Green'\n",
        "))\n",
        "\n",
        "fig.update_layout(\n",
        "    title=\"Mean quote length with respect to news outlet factual reporting\",\n",
        "    title_x=0.5,\n",
        "    xaxis_title=\"Factual reporting\",\n",
        "    yaxis_title=\"Mean quote length\",\n",
        "    hoverlabel=dict(namelength=0)\n",
        "    )\n",
        "\n",
        "fig.update_yaxes(range = [15,22])\n",
        "fig.update_layout(showlegend=False)\n",
        "fig.show()\n",
        "fig.write_html('3_1.html')"
      ],
      "metadata": {
        "colab": {
          "base_uri": "https://localhost:8080/",
          "height": 542
        },
        "id": "Yd8wZtBmRv-w",
        "outputId": "8c5ad871-0093-4b0f-8441-a993c3b0db7e"
      },
      "execution_count": null,
      "outputs": [
        {
          "output_type": "display_data",
          "data": {
            "text/html": [
              "<html>\n",
              "<head><meta charset=\"utf-8\" /></head>\n",
              "<body>\n",
              "    <div>            <script src=\"https://cdnjs.cloudflare.com/ajax/libs/mathjax/2.7.5/MathJax.js?config=TeX-AMS-MML_SVG\"></script><script type=\"text/javascript\">if (window.MathJax) {MathJax.Hub.Config({SVG: {font: \"STIX-Web\"}});}</script>                <script type=\"text/javascript\">window.PlotlyConfig = {MathJaxConfig: 'local'};</script>\n",
              "        <script src=\"https://cdn.plot.ly/plotly-2.6.3.min.js\"></script>                <div id=\"a42264ea-6403-44ca-8eb5-60f84e14c2fa\" class=\"plotly-graph-div\" style=\"height:525px; width:100%;\"></div>            <script type=\"text/javascript\">                                    window.PLOTLYENV=window.PLOTLYENV || {};                                    if (document.getElementById(\"a42264ea-6403-44ca-8eb5-60f84e14c2fa\")) {                    Plotly.newPlot(                        \"a42264ea-6403-44ca-8eb5-60f84e14c2fa\",                        [{\"marker\":{\"color\":\"DarkMagenta\"},\"width\":0.4,\"x\":[\"Mixed\"],\"y\":[21.146],\"type\":\"bar\"},{\"marker\":{\"color\":\"Orange\"},\"width\":0.4,\"x\":[\"Mostly\"],\"y\":[17.9465],\"type\":\"bar\"},{\"marker\":{\"color\":\"Green\"},\"width\":0.4,\"x\":[\"High\"],\"y\":[20.8287],\"type\":\"bar\"}],                        {\"template\":{\"data\":{\"bar\":[{\"error_x\":{\"color\":\"#2a3f5f\"},\"error_y\":{\"color\":\"#2a3f5f\"},\"marker\":{\"line\":{\"color\":\"#E5ECF6\",\"width\":0.5},\"pattern\":{\"fillmode\":\"overlay\",\"size\":10,\"solidity\":0.2}},\"type\":\"bar\"}],\"barpolar\":[{\"marker\":{\"line\":{\"color\":\"#E5ECF6\",\"width\":0.5},\"pattern\":{\"fillmode\":\"overlay\",\"size\":10,\"solidity\":0.2}},\"type\":\"barpolar\"}],\"carpet\":[{\"aaxis\":{\"endlinecolor\":\"#2a3f5f\",\"gridcolor\":\"white\",\"linecolor\":\"white\",\"minorgridcolor\":\"white\",\"startlinecolor\":\"#2a3f5f\"},\"baxis\":{\"endlinecolor\":\"#2a3f5f\",\"gridcolor\":\"white\",\"linecolor\":\"white\",\"minorgridcolor\":\"white\",\"startlinecolor\":\"#2a3f5f\"},\"type\":\"carpet\"}],\"choropleth\":[{\"colorbar\":{\"outlinewidth\":0,\"ticks\":\"\"},\"type\":\"choropleth\"}],\"contour\":[{\"colorbar\":{\"outlinewidth\":0,\"ticks\":\"\"},\"colorscale\":[[0.0,\"#0d0887\"],[0.1111111111111111,\"#46039f\"],[0.2222222222222222,\"#7201a8\"],[0.3333333333333333,\"#9c179e\"],[0.4444444444444444,\"#bd3786\"],[0.5555555555555556,\"#d8576b\"],[0.6666666666666666,\"#ed7953\"],[0.7777777777777778,\"#fb9f3a\"],[0.8888888888888888,\"#fdca26\"],[1.0,\"#f0f921\"]],\"type\":\"contour\"}],\"contourcarpet\":[{\"colorbar\":{\"outlinewidth\":0,\"ticks\":\"\"},\"type\":\"contourcarpet\"}],\"heatmap\":[{\"colorbar\":{\"outlinewidth\":0,\"ticks\":\"\"},\"colorscale\":[[0.0,\"#0d0887\"],[0.1111111111111111,\"#46039f\"],[0.2222222222222222,\"#7201a8\"],[0.3333333333333333,\"#9c179e\"],[0.4444444444444444,\"#bd3786\"],[0.5555555555555556,\"#d8576b\"],[0.6666666666666666,\"#ed7953\"],[0.7777777777777778,\"#fb9f3a\"],[0.8888888888888888,\"#fdca26\"],[1.0,\"#f0f921\"]],\"type\":\"heatmap\"}],\"heatmapgl\":[{\"colorbar\":{\"outlinewidth\":0,\"ticks\":\"\"},\"colorscale\":[[0.0,\"#0d0887\"],[0.1111111111111111,\"#46039f\"],[0.2222222222222222,\"#7201a8\"],[0.3333333333333333,\"#9c179e\"],[0.4444444444444444,\"#bd3786\"],[0.5555555555555556,\"#d8576b\"],[0.6666666666666666,\"#ed7953\"],[0.7777777777777778,\"#fb9f3a\"],[0.8888888888888888,\"#fdca26\"],[1.0,\"#f0f921\"]],\"type\":\"heatmapgl\"}],\"histogram\":[{\"marker\":{\"pattern\":{\"fillmode\":\"overlay\",\"size\":10,\"solidity\":0.2}},\"type\":\"histogram\"}],\"histogram2d\":[{\"colorbar\":{\"outlinewidth\":0,\"ticks\":\"\"},\"colorscale\":[[0.0,\"#0d0887\"],[0.1111111111111111,\"#46039f\"],[0.2222222222222222,\"#7201a8\"],[0.3333333333333333,\"#9c179e\"],[0.4444444444444444,\"#bd3786\"],[0.5555555555555556,\"#d8576b\"],[0.6666666666666666,\"#ed7953\"],[0.7777777777777778,\"#fb9f3a\"],[0.8888888888888888,\"#fdca26\"],[1.0,\"#f0f921\"]],\"type\":\"histogram2d\"}],\"histogram2dcontour\":[{\"colorbar\":{\"outlinewidth\":0,\"ticks\":\"\"},\"colorscale\":[[0.0,\"#0d0887\"],[0.1111111111111111,\"#46039f\"],[0.2222222222222222,\"#7201a8\"],[0.3333333333333333,\"#9c179e\"],[0.4444444444444444,\"#bd3786\"],[0.5555555555555556,\"#d8576b\"],[0.6666666666666666,\"#ed7953\"],[0.7777777777777778,\"#fb9f3a\"],[0.8888888888888888,\"#fdca26\"],[1.0,\"#f0f921\"]],\"type\":\"histogram2dcontour\"}],\"mesh3d\":[{\"colorbar\":{\"outlinewidth\":0,\"ticks\":\"\"},\"type\":\"mesh3d\"}],\"parcoords\":[{\"line\":{\"colorbar\":{\"outlinewidth\":0,\"ticks\":\"\"}},\"type\":\"parcoords\"}],\"pie\":[{\"automargin\":true,\"type\":\"pie\"}],\"scatter\":[{\"marker\":{\"colorbar\":{\"outlinewidth\":0,\"ticks\":\"\"}},\"type\":\"scatter\"}],\"scatter3d\":[{\"line\":{\"colorbar\":{\"outlinewidth\":0,\"ticks\":\"\"}},\"marker\":{\"colorbar\":{\"outlinewidth\":0,\"ticks\":\"\"}},\"type\":\"scatter3d\"}],\"scattercarpet\":[{\"marker\":{\"colorbar\":{\"outlinewidth\":0,\"ticks\":\"\"}},\"type\":\"scattercarpet\"}],\"scattergeo\":[{\"marker\":{\"colorbar\":{\"outlinewidth\":0,\"ticks\":\"\"}},\"type\":\"scattergeo\"}],\"scattergl\":[{\"marker\":{\"colorbar\":{\"outlinewidth\":0,\"ticks\":\"\"}},\"type\":\"scattergl\"}],\"scattermapbox\":[{\"marker\":{\"colorbar\":{\"outlinewidth\":0,\"ticks\":\"\"}},\"type\":\"scattermapbox\"}],\"scatterpolar\":[{\"marker\":{\"colorbar\":{\"outlinewidth\":0,\"ticks\":\"\"}},\"type\":\"scatterpolar\"}],\"scatterpolargl\":[{\"marker\":{\"colorbar\":{\"outlinewidth\":0,\"ticks\":\"\"}},\"type\":\"scatterpolargl\"}],\"scatterternary\":[{\"marker\":{\"colorbar\":{\"outlinewidth\":0,\"ticks\":\"\"}},\"type\":\"scatterternary\"}],\"surface\":[{\"colorbar\":{\"outlinewidth\":0,\"ticks\":\"\"},\"colorscale\":[[0.0,\"#0d0887\"],[0.1111111111111111,\"#46039f\"],[0.2222222222222222,\"#7201a8\"],[0.3333333333333333,\"#9c179e\"],[0.4444444444444444,\"#bd3786\"],[0.5555555555555556,\"#d8576b\"],[0.6666666666666666,\"#ed7953\"],[0.7777777777777778,\"#fb9f3a\"],[0.8888888888888888,\"#fdca26\"],[1.0,\"#f0f921\"]],\"type\":\"surface\"}],\"table\":[{\"cells\":{\"fill\":{\"color\":\"#EBF0F8\"},\"line\":{\"color\":\"white\"}},\"header\":{\"fill\":{\"color\":\"#C8D4E3\"},\"line\":{\"color\":\"white\"}},\"type\":\"table\"}]},\"layout\":{\"annotationdefaults\":{\"arrowcolor\":\"#2a3f5f\",\"arrowhead\":0,\"arrowwidth\":1},\"autotypenumbers\":\"strict\",\"coloraxis\":{\"colorbar\":{\"outlinewidth\":0,\"ticks\":\"\"}},\"colorscale\":{\"diverging\":[[0,\"#8e0152\"],[0.1,\"#c51b7d\"],[0.2,\"#de77ae\"],[0.3,\"#f1b6da\"],[0.4,\"#fde0ef\"],[0.5,\"#f7f7f7\"],[0.6,\"#e6f5d0\"],[0.7,\"#b8e186\"],[0.8,\"#7fbc41\"],[0.9,\"#4d9221\"],[1,\"#276419\"]],\"sequential\":[[0.0,\"#0d0887\"],[0.1111111111111111,\"#46039f\"],[0.2222222222222222,\"#7201a8\"],[0.3333333333333333,\"#9c179e\"],[0.4444444444444444,\"#bd3786\"],[0.5555555555555556,\"#d8576b\"],[0.6666666666666666,\"#ed7953\"],[0.7777777777777778,\"#fb9f3a\"],[0.8888888888888888,\"#fdca26\"],[1.0,\"#f0f921\"]],\"sequentialminus\":[[0.0,\"#0d0887\"],[0.1111111111111111,\"#46039f\"],[0.2222222222222222,\"#7201a8\"],[0.3333333333333333,\"#9c179e\"],[0.4444444444444444,\"#bd3786\"],[0.5555555555555556,\"#d8576b\"],[0.6666666666666666,\"#ed7953\"],[0.7777777777777778,\"#fb9f3a\"],[0.8888888888888888,\"#fdca26\"],[1.0,\"#f0f921\"]]},\"colorway\":[\"#636efa\",\"#EF553B\",\"#00cc96\",\"#ab63fa\",\"#FFA15A\",\"#19d3f3\",\"#FF6692\",\"#B6E880\",\"#FF97FF\",\"#FECB52\"],\"font\":{\"color\":\"#2a3f5f\"},\"geo\":{\"bgcolor\":\"white\",\"lakecolor\":\"white\",\"landcolor\":\"#E5ECF6\",\"showlakes\":true,\"showland\":true,\"subunitcolor\":\"white\"},\"hoverlabel\":{\"align\":\"left\"},\"hovermode\":\"closest\",\"mapbox\":{\"style\":\"light\"},\"paper_bgcolor\":\"white\",\"plot_bgcolor\":\"#E5ECF6\",\"polar\":{\"angularaxis\":{\"gridcolor\":\"white\",\"linecolor\":\"white\",\"ticks\":\"\"},\"bgcolor\":\"#E5ECF6\",\"radialaxis\":{\"gridcolor\":\"white\",\"linecolor\":\"white\",\"ticks\":\"\"}},\"scene\":{\"xaxis\":{\"backgroundcolor\":\"#E5ECF6\",\"gridcolor\":\"white\",\"gridwidth\":2,\"linecolor\":\"white\",\"showbackground\":true,\"ticks\":\"\",\"zerolinecolor\":\"white\"},\"yaxis\":{\"backgroundcolor\":\"#E5ECF6\",\"gridcolor\":\"white\",\"gridwidth\":2,\"linecolor\":\"white\",\"showbackground\":true,\"ticks\":\"\",\"zerolinecolor\":\"white\"},\"zaxis\":{\"backgroundcolor\":\"#E5ECF6\",\"gridcolor\":\"white\",\"gridwidth\":2,\"linecolor\":\"white\",\"showbackground\":true,\"ticks\":\"\",\"zerolinecolor\":\"white\"}},\"shapedefaults\":{\"line\":{\"color\":\"#2a3f5f\"}},\"ternary\":{\"aaxis\":{\"gridcolor\":\"white\",\"linecolor\":\"white\",\"ticks\":\"\"},\"baxis\":{\"gridcolor\":\"white\",\"linecolor\":\"white\",\"ticks\":\"\"},\"bgcolor\":\"#E5ECF6\",\"caxis\":{\"gridcolor\":\"white\",\"linecolor\":\"white\",\"ticks\":\"\"}},\"title\":{\"x\":0.05},\"xaxis\":{\"automargin\":true,\"gridcolor\":\"white\",\"linecolor\":\"white\",\"ticks\":\"\",\"title\":{\"standoff\":15},\"zerolinecolor\":\"white\",\"zerolinewidth\":2},\"yaxis\":{\"automargin\":true,\"gridcolor\":\"white\",\"linecolor\":\"white\",\"ticks\":\"\",\"title\":{\"standoff\":15},\"zerolinecolor\":\"white\",\"zerolinewidth\":2}}},\"title\":{\"text\":\"Mean quote length with respect to news outlet factual reporting\",\"x\":0.5},\"hoverlabel\":{\"namelength\":0},\"xaxis\":{\"title\":{\"text\":\"Factual reporting\"}},\"yaxis\":{\"title\":{\"text\":\"Mean quote length\"},\"range\":[15,22]},\"showlegend\":false},                        {\"responsive\": true}                    ).then(function(){\n",
              "                            \n",
              "var gd = document.getElementById('a42264ea-6403-44ca-8eb5-60f84e14c2fa');\n",
              "var x = new MutationObserver(function (mutations, observer) {{\n",
              "        var display = window.getComputedStyle(gd).display;\n",
              "        if (!display || display === 'none') {{\n",
              "            console.log([gd, 'removed!']);\n",
              "            Plotly.purge(gd);\n",
              "            observer.disconnect();\n",
              "        }}\n",
              "}});\n",
              "\n",
              "// Listen for the removal of the full notebook cells\n",
              "var notebookContainer = gd.closest('#notebook-container');\n",
              "if (notebookContainer) {{\n",
              "    x.observe(notebookContainer, {childList: true});\n",
              "}}\n",
              "\n",
              "// Listen for the clearing of the current output cell\n",
              "var outputEl = gd.closest('.output');\n",
              "if (outputEl) {{\n",
              "    x.observe(outputEl, {childList: true});\n",
              "}}\n",
              "\n",
              "                        })                };                            </script>        </div>\n",
              "</body>\n",
              "</html>"
            ]
          },
          "metadata": {}
        }
      ],
      "id": "Yd8wZtBmRv-w"
    },
    {
      "cell_type": "markdown",
      "source": [
        "Mixed and high factual reporting have mean quote length around 21 words, whereas mostly factual new outlets have a mean quote length of 18 words.\n",
        "\n",
        "*We do not have our hypothesised linked increase of quote length and factual reporting.*"
      ],
      "metadata": {
        "id": "e5fwIVs8h9Va"
      },
      "id": "e5fwIVs8h9Va"
    },
    {
      "cell_type": "code",
      "source": [
        "X = ['Mixed','Mostly','High']\n",
        "Mi = [df_speakers_stats_total_dem_FR[\"Mi_Pol\"].values[0],df_speakers_stats_total_rep_FR[\"Mi_Pol\"].values[0]] # Mean polarity score in Mixed factual reporting news outlet\n",
        "Mo = [df_speakers_stats_total_dem_FR[\"Mo_Pol\"].values[0],df_speakers_stats_total_rep_FR[\"Mo_Pol\"].values[0]] # Mean polarity score in Mostly factual reporting news outlet\n",
        "Hi = [df_speakers_stats_total_dem_FR[\"Hi_Pol\"].values[0],df_speakers_stats_total_rep_FR[\"Hi_Pol\"].values[0]] # Mean polarity score in High factual reporting news outlet\n",
        "\n",
        "# Quotes number for speakers of both parties\n",
        "Dem_count = [df_speakers_stats_total_dem_FR[\"Mi_Count\"].values[0],df_speakers_stats_total_dem_FR[\"Mo_Count\"].values[0],df_speakers_stats_total_dem_FR[\"Hi_Count\"].values[0]]\n",
        "Rep_count = [df_speakers_stats_total_rep_FR[\"Mi_Count\"].values[0],df_speakers_stats_total_rep_FR[\"Mo_Count\"].values[0],df_speakers_stats_total_rep_FR[\"Hi_Count\"].values[0]]\n",
        "\n",
        "Mi_mean = (Mi[0]*Dem_count[0] + Mi[1]*Rep_count[0])/(Dem_count[0]+Rep_count[0])\n",
        "Mo_mean = (Mo[0]*Dem_count[1] + Mo[1]*Rep_count[1])/(Dem_count[1]+Rep_count[1])\n",
        "Hi_mean = (Hi[0]*Dem_count[2] + Hi[1]*Rep_count[2])/(Dem_count[2]+Rep_count[2])\n",
        "\n",
        "fig = go.Figure()\n",
        "\n",
        "fig.add_trace(go.Bar(\n",
        "    x=[\"Mixed\"], y=[np.round(Mi_mean,4)],\n",
        "    width=0.4,\n",
        "    marker_color='DarkMagenta'\n",
        "))\n",
        "\n",
        "fig.add_trace(go.Bar(\n",
        "    x=[\"Mostly\"], y=[np.round(Mo_mean,4)],\n",
        "    width=0.4,\n",
        "    marker_color='Orange'\n",
        "))\n",
        "\n",
        "fig.add_trace(go.Bar(\n",
        "    x=[\"High\"], y=[np.round(Hi_mean,4)],\n",
        "    width=0.4,\n",
        "    marker_color='Green'\n",
        "))\n",
        "\n",
        "fig.update_layout(\n",
        "    title=\"Mean polarity score with respect to news outlet factual reporting\",\n",
        "    title_x=0.5,\n",
        "    xaxis_title=\"Factual reporting\",\n",
        "    yaxis_title=\"Mean polarity score\",\n",
        "    hoverlabel=dict(namelength=0)\n",
        "    )\n",
        "\n",
        "fig.update_yaxes(range = [0.06,0.072])\n",
        "fig.update_layout(showlegend=False)\n",
        "fig.show()\n",
        "fig.write_html('3_2.html')"
      ],
      "metadata": {
        "colab": {
          "base_uri": "https://localhost:8080/",
          "height": 542
        },
        "id": "dAUtNJ0vTF-1",
        "outputId": "aa0a854b-7e51-4d56-e003-df0107b2055b"
      },
      "execution_count": null,
      "outputs": [
        {
          "output_type": "display_data",
          "data": {
            "text/html": [
              "<html>\n",
              "<head><meta charset=\"utf-8\" /></head>\n",
              "<body>\n",
              "    <div>            <script src=\"https://cdnjs.cloudflare.com/ajax/libs/mathjax/2.7.5/MathJax.js?config=TeX-AMS-MML_SVG\"></script><script type=\"text/javascript\">if (window.MathJax) {MathJax.Hub.Config({SVG: {font: \"STIX-Web\"}});}</script>                <script type=\"text/javascript\">window.PlotlyConfig = {MathJaxConfig: 'local'};</script>\n",
              "        <script src=\"https://cdn.plot.ly/plotly-2.6.3.min.js\"></script>                <div id=\"404ba93b-4e57-4f3d-ae9b-d2514d997369\" class=\"plotly-graph-div\" style=\"height:525px; width:100%;\"></div>            <script type=\"text/javascript\">                                    window.PLOTLYENV=window.PLOTLYENV || {};                                    if (document.getElementById(\"404ba93b-4e57-4f3d-ae9b-d2514d997369\")) {                    Plotly.newPlot(                        \"404ba93b-4e57-4f3d-ae9b-d2514d997369\",                        [{\"marker\":{\"color\":\"DarkMagenta\"},\"width\":0.4,\"x\":[\"Mixed\"],\"y\":[0.0688],\"type\":\"bar\"},{\"marker\":{\"color\":\"Orange\"},\"width\":0.4,\"x\":[\"Mostly\"],\"y\":[0.066],\"type\":\"bar\"},{\"marker\":{\"color\":\"Green\"},\"width\":0.4,\"x\":[\"High\"],\"y\":[0.0696],\"type\":\"bar\"}],                        {\"template\":{\"data\":{\"bar\":[{\"error_x\":{\"color\":\"#2a3f5f\"},\"error_y\":{\"color\":\"#2a3f5f\"},\"marker\":{\"line\":{\"color\":\"#E5ECF6\",\"width\":0.5},\"pattern\":{\"fillmode\":\"overlay\",\"size\":10,\"solidity\":0.2}},\"type\":\"bar\"}],\"barpolar\":[{\"marker\":{\"line\":{\"color\":\"#E5ECF6\",\"width\":0.5},\"pattern\":{\"fillmode\":\"overlay\",\"size\":10,\"solidity\":0.2}},\"type\":\"barpolar\"}],\"carpet\":[{\"aaxis\":{\"endlinecolor\":\"#2a3f5f\",\"gridcolor\":\"white\",\"linecolor\":\"white\",\"minorgridcolor\":\"white\",\"startlinecolor\":\"#2a3f5f\"},\"baxis\":{\"endlinecolor\":\"#2a3f5f\",\"gridcolor\":\"white\",\"linecolor\":\"white\",\"minorgridcolor\":\"white\",\"startlinecolor\":\"#2a3f5f\"},\"type\":\"carpet\"}],\"choropleth\":[{\"colorbar\":{\"outlinewidth\":0,\"ticks\":\"\"},\"type\":\"choropleth\"}],\"contour\":[{\"colorbar\":{\"outlinewidth\":0,\"ticks\":\"\"},\"colorscale\":[[0.0,\"#0d0887\"],[0.1111111111111111,\"#46039f\"],[0.2222222222222222,\"#7201a8\"],[0.3333333333333333,\"#9c179e\"],[0.4444444444444444,\"#bd3786\"],[0.5555555555555556,\"#d8576b\"],[0.6666666666666666,\"#ed7953\"],[0.7777777777777778,\"#fb9f3a\"],[0.8888888888888888,\"#fdca26\"],[1.0,\"#f0f921\"]],\"type\":\"contour\"}],\"contourcarpet\":[{\"colorbar\":{\"outlinewidth\":0,\"ticks\":\"\"},\"type\":\"contourcarpet\"}],\"heatmap\":[{\"colorbar\":{\"outlinewidth\":0,\"ticks\":\"\"},\"colorscale\":[[0.0,\"#0d0887\"],[0.1111111111111111,\"#46039f\"],[0.2222222222222222,\"#7201a8\"],[0.3333333333333333,\"#9c179e\"],[0.4444444444444444,\"#bd3786\"],[0.5555555555555556,\"#d8576b\"],[0.6666666666666666,\"#ed7953\"],[0.7777777777777778,\"#fb9f3a\"],[0.8888888888888888,\"#fdca26\"],[1.0,\"#f0f921\"]],\"type\":\"heatmap\"}],\"heatmapgl\":[{\"colorbar\":{\"outlinewidth\":0,\"ticks\":\"\"},\"colorscale\":[[0.0,\"#0d0887\"],[0.1111111111111111,\"#46039f\"],[0.2222222222222222,\"#7201a8\"],[0.3333333333333333,\"#9c179e\"],[0.4444444444444444,\"#bd3786\"],[0.5555555555555556,\"#d8576b\"],[0.6666666666666666,\"#ed7953\"],[0.7777777777777778,\"#fb9f3a\"],[0.8888888888888888,\"#fdca26\"],[1.0,\"#f0f921\"]],\"type\":\"heatmapgl\"}],\"histogram\":[{\"marker\":{\"pattern\":{\"fillmode\":\"overlay\",\"size\":10,\"solidity\":0.2}},\"type\":\"histogram\"}],\"histogram2d\":[{\"colorbar\":{\"outlinewidth\":0,\"ticks\":\"\"},\"colorscale\":[[0.0,\"#0d0887\"],[0.1111111111111111,\"#46039f\"],[0.2222222222222222,\"#7201a8\"],[0.3333333333333333,\"#9c179e\"],[0.4444444444444444,\"#bd3786\"],[0.5555555555555556,\"#d8576b\"],[0.6666666666666666,\"#ed7953\"],[0.7777777777777778,\"#fb9f3a\"],[0.8888888888888888,\"#fdca26\"],[1.0,\"#f0f921\"]],\"type\":\"histogram2d\"}],\"histogram2dcontour\":[{\"colorbar\":{\"outlinewidth\":0,\"ticks\":\"\"},\"colorscale\":[[0.0,\"#0d0887\"],[0.1111111111111111,\"#46039f\"],[0.2222222222222222,\"#7201a8\"],[0.3333333333333333,\"#9c179e\"],[0.4444444444444444,\"#bd3786\"],[0.5555555555555556,\"#d8576b\"],[0.6666666666666666,\"#ed7953\"],[0.7777777777777778,\"#fb9f3a\"],[0.8888888888888888,\"#fdca26\"],[1.0,\"#f0f921\"]],\"type\":\"histogram2dcontour\"}],\"mesh3d\":[{\"colorbar\":{\"outlinewidth\":0,\"ticks\":\"\"},\"type\":\"mesh3d\"}],\"parcoords\":[{\"line\":{\"colorbar\":{\"outlinewidth\":0,\"ticks\":\"\"}},\"type\":\"parcoords\"}],\"pie\":[{\"automargin\":true,\"type\":\"pie\"}],\"scatter\":[{\"marker\":{\"colorbar\":{\"outlinewidth\":0,\"ticks\":\"\"}},\"type\":\"scatter\"}],\"scatter3d\":[{\"line\":{\"colorbar\":{\"outlinewidth\":0,\"ticks\":\"\"}},\"marker\":{\"colorbar\":{\"outlinewidth\":0,\"ticks\":\"\"}},\"type\":\"scatter3d\"}],\"scattercarpet\":[{\"marker\":{\"colorbar\":{\"outlinewidth\":0,\"ticks\":\"\"}},\"type\":\"scattercarpet\"}],\"scattergeo\":[{\"marker\":{\"colorbar\":{\"outlinewidth\":0,\"ticks\":\"\"}},\"type\":\"scattergeo\"}],\"scattergl\":[{\"marker\":{\"colorbar\":{\"outlinewidth\":0,\"ticks\":\"\"}},\"type\":\"scattergl\"}],\"scattermapbox\":[{\"marker\":{\"colorbar\":{\"outlinewidth\":0,\"ticks\":\"\"}},\"type\":\"scattermapbox\"}],\"scatterpolar\":[{\"marker\":{\"colorbar\":{\"outlinewidth\":0,\"ticks\":\"\"}},\"type\":\"scatterpolar\"}],\"scatterpolargl\":[{\"marker\":{\"colorbar\":{\"outlinewidth\":0,\"ticks\":\"\"}},\"type\":\"scatterpolargl\"}],\"scatterternary\":[{\"marker\":{\"colorbar\":{\"outlinewidth\":0,\"ticks\":\"\"}},\"type\":\"scatterternary\"}],\"surface\":[{\"colorbar\":{\"outlinewidth\":0,\"ticks\":\"\"},\"colorscale\":[[0.0,\"#0d0887\"],[0.1111111111111111,\"#46039f\"],[0.2222222222222222,\"#7201a8\"],[0.3333333333333333,\"#9c179e\"],[0.4444444444444444,\"#bd3786\"],[0.5555555555555556,\"#d8576b\"],[0.6666666666666666,\"#ed7953\"],[0.7777777777777778,\"#fb9f3a\"],[0.8888888888888888,\"#fdca26\"],[1.0,\"#f0f921\"]],\"type\":\"surface\"}],\"table\":[{\"cells\":{\"fill\":{\"color\":\"#EBF0F8\"},\"line\":{\"color\":\"white\"}},\"header\":{\"fill\":{\"color\":\"#C8D4E3\"},\"line\":{\"color\":\"white\"}},\"type\":\"table\"}]},\"layout\":{\"annotationdefaults\":{\"arrowcolor\":\"#2a3f5f\",\"arrowhead\":0,\"arrowwidth\":1},\"autotypenumbers\":\"strict\",\"coloraxis\":{\"colorbar\":{\"outlinewidth\":0,\"ticks\":\"\"}},\"colorscale\":{\"diverging\":[[0,\"#8e0152\"],[0.1,\"#c51b7d\"],[0.2,\"#de77ae\"],[0.3,\"#f1b6da\"],[0.4,\"#fde0ef\"],[0.5,\"#f7f7f7\"],[0.6,\"#e6f5d0\"],[0.7,\"#b8e186\"],[0.8,\"#7fbc41\"],[0.9,\"#4d9221\"],[1,\"#276419\"]],\"sequential\":[[0.0,\"#0d0887\"],[0.1111111111111111,\"#46039f\"],[0.2222222222222222,\"#7201a8\"],[0.3333333333333333,\"#9c179e\"],[0.4444444444444444,\"#bd3786\"],[0.5555555555555556,\"#d8576b\"],[0.6666666666666666,\"#ed7953\"],[0.7777777777777778,\"#fb9f3a\"],[0.8888888888888888,\"#fdca26\"],[1.0,\"#f0f921\"]],\"sequentialminus\":[[0.0,\"#0d0887\"],[0.1111111111111111,\"#46039f\"],[0.2222222222222222,\"#7201a8\"],[0.3333333333333333,\"#9c179e\"],[0.4444444444444444,\"#bd3786\"],[0.5555555555555556,\"#d8576b\"],[0.6666666666666666,\"#ed7953\"],[0.7777777777777778,\"#fb9f3a\"],[0.8888888888888888,\"#fdca26\"],[1.0,\"#f0f921\"]]},\"colorway\":[\"#636efa\",\"#EF553B\",\"#00cc96\",\"#ab63fa\",\"#FFA15A\",\"#19d3f3\",\"#FF6692\",\"#B6E880\",\"#FF97FF\",\"#FECB52\"],\"font\":{\"color\":\"#2a3f5f\"},\"geo\":{\"bgcolor\":\"white\",\"lakecolor\":\"white\",\"landcolor\":\"#E5ECF6\",\"showlakes\":true,\"showland\":true,\"subunitcolor\":\"white\"},\"hoverlabel\":{\"align\":\"left\"},\"hovermode\":\"closest\",\"mapbox\":{\"style\":\"light\"},\"paper_bgcolor\":\"white\",\"plot_bgcolor\":\"#E5ECF6\",\"polar\":{\"angularaxis\":{\"gridcolor\":\"white\",\"linecolor\":\"white\",\"ticks\":\"\"},\"bgcolor\":\"#E5ECF6\",\"radialaxis\":{\"gridcolor\":\"white\",\"linecolor\":\"white\",\"ticks\":\"\"}},\"scene\":{\"xaxis\":{\"backgroundcolor\":\"#E5ECF6\",\"gridcolor\":\"white\",\"gridwidth\":2,\"linecolor\":\"white\",\"showbackground\":true,\"ticks\":\"\",\"zerolinecolor\":\"white\"},\"yaxis\":{\"backgroundcolor\":\"#E5ECF6\",\"gridcolor\":\"white\",\"gridwidth\":2,\"linecolor\":\"white\",\"showbackground\":true,\"ticks\":\"\",\"zerolinecolor\":\"white\"},\"zaxis\":{\"backgroundcolor\":\"#E5ECF6\",\"gridcolor\":\"white\",\"gridwidth\":2,\"linecolor\":\"white\",\"showbackground\":true,\"ticks\":\"\",\"zerolinecolor\":\"white\"}},\"shapedefaults\":{\"line\":{\"color\":\"#2a3f5f\"}},\"ternary\":{\"aaxis\":{\"gridcolor\":\"white\",\"linecolor\":\"white\",\"ticks\":\"\"},\"baxis\":{\"gridcolor\":\"white\",\"linecolor\":\"white\",\"ticks\":\"\"},\"bgcolor\":\"#E5ECF6\",\"caxis\":{\"gridcolor\":\"white\",\"linecolor\":\"white\",\"ticks\":\"\"}},\"title\":{\"x\":0.05},\"xaxis\":{\"automargin\":true,\"gridcolor\":\"white\",\"linecolor\":\"white\",\"ticks\":\"\",\"title\":{\"standoff\":15},\"zerolinecolor\":\"white\",\"zerolinewidth\":2},\"yaxis\":{\"automargin\":true,\"gridcolor\":\"white\",\"linecolor\":\"white\",\"ticks\":\"\",\"title\":{\"standoff\":15},\"zerolinecolor\":\"white\",\"zerolinewidth\":2}}},\"title\":{\"text\":\"Mean polarity score with respect to news outlet factual reporting\",\"x\":0.5},\"hoverlabel\":{\"namelength\":0},\"xaxis\":{\"title\":{\"text\":\"Factual reporting\"}},\"yaxis\":{\"title\":{\"text\":\"Mean polarity score\"},\"range\":[0.06,0.072]},\"showlegend\":false},                        {\"responsive\": true}                    ).then(function(){\n",
              "                            \n",
              "var gd = document.getElementById('404ba93b-4e57-4f3d-ae9b-d2514d997369');\n",
              "var x = new MutationObserver(function (mutations, observer) {{\n",
              "        var display = window.getComputedStyle(gd).display;\n",
              "        if (!display || display === 'none') {{\n",
              "            console.log([gd, 'removed!']);\n",
              "            Plotly.purge(gd);\n",
              "            observer.disconnect();\n",
              "        }}\n",
              "}});\n",
              "\n",
              "// Listen for the removal of the full notebook cells\n",
              "var notebookContainer = gd.closest('#notebook-container');\n",
              "if (notebookContainer) {{\n",
              "    x.observe(notebookContainer, {childList: true});\n",
              "}}\n",
              "\n",
              "// Listen for the clearing of the current output cell\n",
              "var outputEl = gd.closest('.output');\n",
              "if (outputEl) {{\n",
              "    x.observe(outputEl, {childList: true});\n",
              "}}\n",
              "\n",
              "                        })                };                            </script>        </div>\n",
              "</body>\n",
              "</html>"
            ]
          },
          "metadata": {}
        }
      ],
      "id": "dAUtNJ0vTF-1"
    },
    {
      "cell_type": "markdown",
      "source": [
        "Once again we have mixed and high factual reporting quite close together at around 0.069 and news outlets with mostly factual reporting at 0.066.\n",
        "\n",
        "*Therefore quote positivity does not follow factual reporting in a linear fashion*"
      ],
      "metadata": {
        "id": "HP6YPuJQkrTT"
      },
      "id": "HP6YPuJQkrTT"
    },
    {
      "cell_type": "markdown",
      "source": [
        "For the next plot we need to separate the oulets in three categories based on how far from neutrality they are : \n",
        "- Neutral (`Political_leaning` == 0)\n",
        "- Left/Right-center (`Political_leaning` == +- 1)\n",
        "- Extreme (abs(`Political_leaning`) > 1)"
      ],
      "metadata": {
        "id": "2XvoU7YrT8Me"
      },
      "id": "2XvoU7YrT8Me"
    },
    {
      "cell_type": "code",
      "source": [
        "politic_bias_list = []\n",
        "for outlet in political_US_outlets.iterrows():\n",
        "  if abs(outlet[1][\"Political_leaning\"]) >= 2:\n",
        "    politic_bias_list.append(\"Extreme\")\n",
        "  elif abs(outlet[1][\"Political_leaning\"]) == 1:\n",
        "    politic_bias_list.append(\"Left/Right-Center\")\n",
        "  elif outlet[1][\"Political_leaning\"] == 0:\n",
        "    politic_bias_list.append(\"Neutral\")\n",
        "\n",
        "political_US_outlets[\"Political_bias\"] = politic_bias_list"
      ],
      "metadata": {
        "colab": {
          "base_uri": "https://localhost:8080/"
        },
        "id": "_S4Zlj5y8S7S",
        "outputId": "ead4135b-c5c9-416a-bbe7-069e357cfc94"
      },
      "id": "_S4Zlj5y8S7S",
      "execution_count": null,
      "outputs": [
        {
          "output_type": "stream",
          "name": "stderr",
          "text": [
            "/usr/local/lib/python3.7/dist-packages/ipykernel_launcher.py:10: SettingWithCopyWarning: \n",
            "A value is trying to be set on a copy of a slice from a DataFrame.\n",
            "Try using .loc[row_indexer,col_indexer] = value instead\n",
            "\n",
            "See the caveats in the documentation: https://pandas.pydata.org/pandas-docs/stable/user_guide/indexing.html#returning-a-view-versus-a-copy\n",
            "  # Remove the CWD from sys.path while we load stuff.\n"
          ]
        }
      ]
    },
    {
      "cell_type": "code",
      "source": [
        "\n",
        "fig = px.bar(data_frame=political_US_outlets.groupby(['Political_bias']).mean().reset_index(),\n",
        "             x='Political_bias',\n",
        "             y='Factual_reporting',\n",
        "             category_orders={'Political_bias': [\"Neutral\",\"Left/Right-Center\",\"Left/Right\"]},\n",
        "             color=\"Political_bias\",\n",
        "             color_discrete_sequence=['LightPink','Orchid','DarkOrchid'],\n",
        "             error_y=political_US_outlets.groupby(['Political_bias']).sem().reset_index().Factual_reporting)\n",
        "\n",
        "fig.update_layout(\n",
        "     title=\"Mean factual reporting with respect to level of politicisation of news outlet\",\n",
        "    title_x=0.5,\n",
        "    yaxis = dict(\n",
        "        tickmode = 'array',\n",
        "        tickvals = [1,2,3,4,5],\n",
        "        ticktext = ['1', '2', 'Mixed = 3', 'Mostly = 4', 'High = 5']\n",
        "        ),\n",
        "     yaxis_title=\"Factual reporting\",\n",
        "     xaxis_title=\"Political bias\"\n",
        ")\n",
        "\n",
        "fig.show()\n",
        "fig.write_html('3.3.html')"
      ],
      "metadata": {
        "colab": {
          "base_uri": "https://localhost:8080/",
          "height": 542
        },
        "id": "1pi_iSc7XjXY",
        "outputId": "110e15ca-3f0e-4516-f59c-ae42e83909f2"
      },
      "execution_count": null,
      "outputs": [
        {
          "output_type": "display_data",
          "data": {
            "text/html": [
              "<html>\n",
              "<head><meta charset=\"utf-8\" /></head>\n",
              "<body>\n",
              "    <div>            <script src=\"https://cdnjs.cloudflare.com/ajax/libs/mathjax/2.7.5/MathJax.js?config=TeX-AMS-MML_SVG\"></script><script type=\"text/javascript\">if (window.MathJax) {MathJax.Hub.Config({SVG: {font: \"STIX-Web\"}});}</script>                <script type=\"text/javascript\">window.PlotlyConfig = {MathJaxConfig: 'local'};</script>\n",
              "        <script src=\"https://cdn.plot.ly/plotly-2.6.3.min.js\"></script>                <div id=\"9dfb44e3-4fd4-4947-8b9e-5a5ccc8e98d7\" class=\"plotly-graph-div\" style=\"height:525px; width:100%;\"></div>            <script type=\"text/javascript\">                                    window.PLOTLYENV=window.PLOTLYENV || {};                                    if (document.getElementById(\"9dfb44e3-4fd4-4947-8b9e-5a5ccc8e98d7\")) {                    Plotly.newPlot(                        \"9dfb44e3-4fd4-4947-8b9e-5a5ccc8e98d7\",                        [{\"alignmentgroup\":\"True\",\"error_y\":{\"array\":[0.33333333333333337]},\"hovertemplate\":\"Political_bias=%{x}<br>Factual_reporting=%{y}<extra></extra>\",\"legendgroup\":\"Neutral\",\"marker\":{\"color\":\"LightPink\",\"pattern\":{\"shape\":\"\"}},\"name\":\"Neutral\",\"offsetgroup\":\"Neutral\",\"orientation\":\"v\",\"showlegend\":true,\"textposition\":\"auto\",\"x\":[\"Neutral\"],\"xaxis\":\"x\",\"y\":[4.666666666666667],\"yaxis\":\"y\",\"type\":\"bar\"},{\"alignmentgroup\":\"True\",\"error_y\":{\"array\":[0.16666666666666666]},\"hovertemplate\":\"Political_bias=%{x}<br>Factual_reporting=%{y}<extra></extra>\",\"legendgroup\":\"Left/Right-Center\",\"marker\":{\"color\":\"Orchid\",\"pattern\":{\"shape\":\"\"}},\"name\":\"Left/Right-Center\",\"offsetgroup\":\"Left/Right-Center\",\"orientation\":\"v\",\"showlegend\":true,\"textposition\":\"auto\",\"x\":[\"Left/Right-Center\"],\"xaxis\":\"x\",\"y\":[4.833333333333333],\"yaxis\":\"y\",\"type\":\"bar\"},{\"alignmentgroup\":\"True\",\"error_y\":{\"array\":[0.0]},\"hovertemplate\":\"Political_bias=%{x}<br>Factual_reporting=%{y}<extra></extra>\",\"legendgroup\":\"Left/Right\",\"marker\":{\"color\":\"DarkOrchid\",\"pattern\":{\"shape\":\"\"}},\"name\":\"Left/Right\",\"offsetgroup\":\"Left/Right\",\"orientation\":\"v\",\"showlegend\":true,\"textposition\":\"auto\",\"x\":[\"Left/Right\"],\"xaxis\":\"x\",\"y\":[3.0],\"yaxis\":\"y\",\"type\":\"bar\"}],                        {\"template\":{\"data\":{\"bar\":[{\"error_x\":{\"color\":\"#2a3f5f\"},\"error_y\":{\"color\":\"#2a3f5f\"},\"marker\":{\"line\":{\"color\":\"#E5ECF6\",\"width\":0.5},\"pattern\":{\"fillmode\":\"overlay\",\"size\":10,\"solidity\":0.2}},\"type\":\"bar\"}],\"barpolar\":[{\"marker\":{\"line\":{\"color\":\"#E5ECF6\",\"width\":0.5},\"pattern\":{\"fillmode\":\"overlay\",\"size\":10,\"solidity\":0.2}},\"type\":\"barpolar\"}],\"carpet\":[{\"aaxis\":{\"endlinecolor\":\"#2a3f5f\",\"gridcolor\":\"white\",\"linecolor\":\"white\",\"minorgridcolor\":\"white\",\"startlinecolor\":\"#2a3f5f\"},\"baxis\":{\"endlinecolor\":\"#2a3f5f\",\"gridcolor\":\"white\",\"linecolor\":\"white\",\"minorgridcolor\":\"white\",\"startlinecolor\":\"#2a3f5f\"},\"type\":\"carpet\"}],\"choropleth\":[{\"colorbar\":{\"outlinewidth\":0,\"ticks\":\"\"},\"type\":\"choropleth\"}],\"contour\":[{\"colorbar\":{\"outlinewidth\":0,\"ticks\":\"\"},\"colorscale\":[[0.0,\"#0d0887\"],[0.1111111111111111,\"#46039f\"],[0.2222222222222222,\"#7201a8\"],[0.3333333333333333,\"#9c179e\"],[0.4444444444444444,\"#bd3786\"],[0.5555555555555556,\"#d8576b\"],[0.6666666666666666,\"#ed7953\"],[0.7777777777777778,\"#fb9f3a\"],[0.8888888888888888,\"#fdca26\"],[1.0,\"#f0f921\"]],\"type\":\"contour\"}],\"contourcarpet\":[{\"colorbar\":{\"outlinewidth\":0,\"ticks\":\"\"},\"type\":\"contourcarpet\"}],\"heatmap\":[{\"colorbar\":{\"outlinewidth\":0,\"ticks\":\"\"},\"colorscale\":[[0.0,\"#0d0887\"],[0.1111111111111111,\"#46039f\"],[0.2222222222222222,\"#7201a8\"],[0.3333333333333333,\"#9c179e\"],[0.4444444444444444,\"#bd3786\"],[0.5555555555555556,\"#d8576b\"],[0.6666666666666666,\"#ed7953\"],[0.7777777777777778,\"#fb9f3a\"],[0.8888888888888888,\"#fdca26\"],[1.0,\"#f0f921\"]],\"type\":\"heatmap\"}],\"heatmapgl\":[{\"colorbar\":{\"outlinewidth\":0,\"ticks\":\"\"},\"colorscale\":[[0.0,\"#0d0887\"],[0.1111111111111111,\"#46039f\"],[0.2222222222222222,\"#7201a8\"],[0.3333333333333333,\"#9c179e\"],[0.4444444444444444,\"#bd3786\"],[0.5555555555555556,\"#d8576b\"],[0.6666666666666666,\"#ed7953\"],[0.7777777777777778,\"#fb9f3a\"],[0.8888888888888888,\"#fdca26\"],[1.0,\"#f0f921\"]],\"type\":\"heatmapgl\"}],\"histogram\":[{\"marker\":{\"pattern\":{\"fillmode\":\"overlay\",\"size\":10,\"solidity\":0.2}},\"type\":\"histogram\"}],\"histogram2d\":[{\"colorbar\":{\"outlinewidth\":0,\"ticks\":\"\"},\"colorscale\":[[0.0,\"#0d0887\"],[0.1111111111111111,\"#46039f\"],[0.2222222222222222,\"#7201a8\"],[0.3333333333333333,\"#9c179e\"],[0.4444444444444444,\"#bd3786\"],[0.5555555555555556,\"#d8576b\"],[0.6666666666666666,\"#ed7953\"],[0.7777777777777778,\"#fb9f3a\"],[0.8888888888888888,\"#fdca26\"],[1.0,\"#f0f921\"]],\"type\":\"histogram2d\"}],\"histogram2dcontour\":[{\"colorbar\":{\"outlinewidth\":0,\"ticks\":\"\"},\"colorscale\":[[0.0,\"#0d0887\"],[0.1111111111111111,\"#46039f\"],[0.2222222222222222,\"#7201a8\"],[0.3333333333333333,\"#9c179e\"],[0.4444444444444444,\"#bd3786\"],[0.5555555555555556,\"#d8576b\"],[0.6666666666666666,\"#ed7953\"],[0.7777777777777778,\"#fb9f3a\"],[0.8888888888888888,\"#fdca26\"],[1.0,\"#f0f921\"]],\"type\":\"histogram2dcontour\"}],\"mesh3d\":[{\"colorbar\":{\"outlinewidth\":0,\"ticks\":\"\"},\"type\":\"mesh3d\"}],\"parcoords\":[{\"line\":{\"colorbar\":{\"outlinewidth\":0,\"ticks\":\"\"}},\"type\":\"parcoords\"}],\"pie\":[{\"automargin\":true,\"type\":\"pie\"}],\"scatter\":[{\"marker\":{\"colorbar\":{\"outlinewidth\":0,\"ticks\":\"\"}},\"type\":\"scatter\"}],\"scatter3d\":[{\"line\":{\"colorbar\":{\"outlinewidth\":0,\"ticks\":\"\"}},\"marker\":{\"colorbar\":{\"outlinewidth\":0,\"ticks\":\"\"}},\"type\":\"scatter3d\"}],\"scattercarpet\":[{\"marker\":{\"colorbar\":{\"outlinewidth\":0,\"ticks\":\"\"}},\"type\":\"scattercarpet\"}],\"scattergeo\":[{\"marker\":{\"colorbar\":{\"outlinewidth\":0,\"ticks\":\"\"}},\"type\":\"scattergeo\"}],\"scattergl\":[{\"marker\":{\"colorbar\":{\"outlinewidth\":0,\"ticks\":\"\"}},\"type\":\"scattergl\"}],\"scattermapbox\":[{\"marker\":{\"colorbar\":{\"outlinewidth\":0,\"ticks\":\"\"}},\"type\":\"scattermapbox\"}],\"scatterpolar\":[{\"marker\":{\"colorbar\":{\"outlinewidth\":0,\"ticks\":\"\"}},\"type\":\"scatterpolar\"}],\"scatterpolargl\":[{\"marker\":{\"colorbar\":{\"outlinewidth\":0,\"ticks\":\"\"}},\"type\":\"scatterpolargl\"}],\"scatterternary\":[{\"marker\":{\"colorbar\":{\"outlinewidth\":0,\"ticks\":\"\"}},\"type\":\"scatterternary\"}],\"surface\":[{\"colorbar\":{\"outlinewidth\":0,\"ticks\":\"\"},\"colorscale\":[[0.0,\"#0d0887\"],[0.1111111111111111,\"#46039f\"],[0.2222222222222222,\"#7201a8\"],[0.3333333333333333,\"#9c179e\"],[0.4444444444444444,\"#bd3786\"],[0.5555555555555556,\"#d8576b\"],[0.6666666666666666,\"#ed7953\"],[0.7777777777777778,\"#fb9f3a\"],[0.8888888888888888,\"#fdca26\"],[1.0,\"#f0f921\"]],\"type\":\"surface\"}],\"table\":[{\"cells\":{\"fill\":{\"color\":\"#EBF0F8\"},\"line\":{\"color\":\"white\"}},\"header\":{\"fill\":{\"color\":\"#C8D4E3\"},\"line\":{\"color\":\"white\"}},\"type\":\"table\"}]},\"layout\":{\"annotationdefaults\":{\"arrowcolor\":\"#2a3f5f\",\"arrowhead\":0,\"arrowwidth\":1},\"autotypenumbers\":\"strict\",\"coloraxis\":{\"colorbar\":{\"outlinewidth\":0,\"ticks\":\"\"}},\"colorscale\":{\"diverging\":[[0,\"#8e0152\"],[0.1,\"#c51b7d\"],[0.2,\"#de77ae\"],[0.3,\"#f1b6da\"],[0.4,\"#fde0ef\"],[0.5,\"#f7f7f7\"],[0.6,\"#e6f5d0\"],[0.7,\"#b8e186\"],[0.8,\"#7fbc41\"],[0.9,\"#4d9221\"],[1,\"#276419\"]],\"sequential\":[[0.0,\"#0d0887\"],[0.1111111111111111,\"#46039f\"],[0.2222222222222222,\"#7201a8\"],[0.3333333333333333,\"#9c179e\"],[0.4444444444444444,\"#bd3786\"],[0.5555555555555556,\"#d8576b\"],[0.6666666666666666,\"#ed7953\"],[0.7777777777777778,\"#fb9f3a\"],[0.8888888888888888,\"#fdca26\"],[1.0,\"#f0f921\"]],\"sequentialminus\":[[0.0,\"#0d0887\"],[0.1111111111111111,\"#46039f\"],[0.2222222222222222,\"#7201a8\"],[0.3333333333333333,\"#9c179e\"],[0.4444444444444444,\"#bd3786\"],[0.5555555555555556,\"#d8576b\"],[0.6666666666666666,\"#ed7953\"],[0.7777777777777778,\"#fb9f3a\"],[0.8888888888888888,\"#fdca26\"],[1.0,\"#f0f921\"]]},\"colorway\":[\"#636efa\",\"#EF553B\",\"#00cc96\",\"#ab63fa\",\"#FFA15A\",\"#19d3f3\",\"#FF6692\",\"#B6E880\",\"#FF97FF\",\"#FECB52\"],\"font\":{\"color\":\"#2a3f5f\"},\"geo\":{\"bgcolor\":\"white\",\"lakecolor\":\"white\",\"landcolor\":\"#E5ECF6\",\"showlakes\":true,\"showland\":true,\"subunitcolor\":\"white\"},\"hoverlabel\":{\"align\":\"left\"},\"hovermode\":\"closest\",\"mapbox\":{\"style\":\"light\"},\"paper_bgcolor\":\"white\",\"plot_bgcolor\":\"#E5ECF6\",\"polar\":{\"angularaxis\":{\"gridcolor\":\"white\",\"linecolor\":\"white\",\"ticks\":\"\"},\"bgcolor\":\"#E5ECF6\",\"radialaxis\":{\"gridcolor\":\"white\",\"linecolor\":\"white\",\"ticks\":\"\"}},\"scene\":{\"xaxis\":{\"backgroundcolor\":\"#E5ECF6\",\"gridcolor\":\"white\",\"gridwidth\":2,\"linecolor\":\"white\",\"showbackground\":true,\"ticks\":\"\",\"zerolinecolor\":\"white\"},\"yaxis\":{\"backgroundcolor\":\"#E5ECF6\",\"gridcolor\":\"white\",\"gridwidth\":2,\"linecolor\":\"white\",\"showbackground\":true,\"ticks\":\"\",\"zerolinecolor\":\"white\"},\"zaxis\":{\"backgroundcolor\":\"#E5ECF6\",\"gridcolor\":\"white\",\"gridwidth\":2,\"linecolor\":\"white\",\"showbackground\":true,\"ticks\":\"\",\"zerolinecolor\":\"white\"}},\"shapedefaults\":{\"line\":{\"color\":\"#2a3f5f\"}},\"ternary\":{\"aaxis\":{\"gridcolor\":\"white\",\"linecolor\":\"white\",\"ticks\":\"\"},\"baxis\":{\"gridcolor\":\"white\",\"linecolor\":\"white\",\"ticks\":\"\"},\"bgcolor\":\"#E5ECF6\",\"caxis\":{\"gridcolor\":\"white\",\"linecolor\":\"white\",\"ticks\":\"\"}},\"title\":{\"x\":0.05},\"xaxis\":{\"automargin\":true,\"gridcolor\":\"white\",\"linecolor\":\"white\",\"ticks\":\"\",\"title\":{\"standoff\":15},\"zerolinecolor\":\"white\",\"zerolinewidth\":2},\"yaxis\":{\"automargin\":true,\"gridcolor\":\"white\",\"linecolor\":\"white\",\"ticks\":\"\",\"title\":{\"standoff\":15},\"zerolinecolor\":\"white\",\"zerolinewidth\":2}}},\"xaxis\":{\"anchor\":\"y\",\"domain\":[0.0,1.0],\"title\":{\"text\":\"Political bias\"},\"categoryorder\":\"array\",\"categoryarray\":[\"Neutral\",\"Left/Right-Center\",\"Left/Right\"]},\"yaxis\":{\"anchor\":\"x\",\"domain\":[0.0,1.0],\"title\":{\"text\":\"Factual reporting\"},\"tickmode\":\"array\",\"tickvals\":[1,2,3,4,5],\"ticktext\":[\"1\",\"2\",\"Mixed = 3\",\"Mostly = 4\",\"High = 5\"]},\"legend\":{\"title\":{\"text\":\"Political_bias\"},\"tracegroupgap\":0},\"margin\":{\"t\":60},\"barmode\":\"relative\",\"title\":{\"text\":\"Mean factual reporting with respect to level of politicisation of news outlet\",\"x\":0.5}},                        {\"responsive\": true}                    ).then(function(){\n",
              "                            \n",
              "var gd = document.getElementById('9dfb44e3-4fd4-4947-8b9e-5a5ccc8e98d7');\n",
              "var x = new MutationObserver(function (mutations, observer) {{\n",
              "        var display = window.getComputedStyle(gd).display;\n",
              "        if (!display || display === 'none') {{\n",
              "            console.log([gd, 'removed!']);\n",
              "            Plotly.purge(gd);\n",
              "            observer.disconnect();\n",
              "        }}\n",
              "}});\n",
              "\n",
              "// Listen for the removal of the full notebook cells\n",
              "var notebookContainer = gd.closest('#notebook-container');\n",
              "if (notebookContainer) {{\n",
              "    x.observe(notebookContainer, {childList: true});\n",
              "}}\n",
              "\n",
              "// Listen for the clearing of the current output cell\n",
              "var outputEl = gd.closest('.output');\n",
              "if (outputEl) {{\n",
              "    x.observe(outputEl, {childList: true});\n",
              "}}\n",
              "\n",
              "                        })                };                            </script>        </div>\n",
              "</body>\n",
              "</html>"
            ]
          },
          "metadata": {}
        }
      ],
      "id": "1pi_iSc7XjXY"
    },
    {
      "cell_type": "markdown",
      "source": [
        "Here we've separated our news outlet political leaning value with subvalues of left/right, differentiating between left/left-center and right/right-center. All center and extreme values were merged.\n",
        "\n",
        "We see that very political websites have a lower factual reporting, and that neutral and left/right-center are indiscernable.\n",
        "\n",
        "*It looks like going from neutral to a moderate political leaning does not impact the factual rating of news sources. However, having a very clear left/right political leaning is associated with a significantly lower factual reporting rating.*"
      ],
      "metadata": {
        "id": "Hi7T8d3VfLfI"
      },
      "id": "Hi7T8d3VfLfI"
    },
    {
      "cell_type": "markdown",
      "source": [
        "**Conclusion part 3:**\n",
        "\n",
        "*From what we've just seen, it doesn't look like variations in factual reporting and quoting style are really linked, or at least not in a linear way. \n",
        "However, we did confirm that very politicised websites have lower factual reporting than neutral or moderately politicised one.*"
      ],
      "metadata": {
        "id": "rvnwI3JVo0H3"
      },
      "id": "rvnwI3JVo0H3"
    },
    {
      "cell_type": "markdown",
      "source": [
        "### 4) Principle component analysis\n"
      ],
      "metadata": {
        "id": "vMlKmAP2z8A6"
      },
      "id": "vMlKmAP2z8A6"
    },
    {
      "cell_type": "markdown",
      "source": [
        "**Intro part 4:**\n",
        "\n",
        "*Let's now turn things around and group news outlets by quoting style. We'll see if this grouping corresponds to the the previous groupings we used, namely political leaning and factual reporting.*"
      ],
      "metadata": {
        "id": "INIC4NDb0FlP"
      },
      "id": "INIC4NDb0FlP"
    },
    {
      "cell_type": "markdown",
      "source": [
        "**Methodology: not for the datastory**\n",
        "\n",
        "The idea is that we will input a twelve dimensions variable: \n",
        "- for each of the *six years* there will be the: \n",
        "  - `quote_length`\n",
        "  - `polarity_score` \n",
        "  \n",
        "This twelve degrees of freedom will hopefully be correlated with the `political_leaning` and `factual_reporting` of the given news outlet. Basically we will try to predict the political leaning and factual reporting based on `quote_length` and `polarity_score`. \n",
        "\n",
        "The first step is to gather the twelve variables into a dataframe, for this we will use `get_mean_of_col_for_each_outlet_per_year(col, list_of_outlets)`to compute the mean per year per outlet.\n",
        "Then we compute the PCA and plot the different clusters based on political leaning and factual reporting. "
      ],
      "metadata": {
        "id": "4eoWU5c_84HZ"
      },
      "id": "4eoWU5c_84HZ"
    },
    {
      "cell_type": "code",
      "source": [
        "# Initiate data frame with the list of the US political domains \n",
        "list_years = [2015, 2016, 2017, 2018, 2019, 2020]\n",
        "# Initiate the columns names\n",
        "tmp_len, tmp_com = [], [] \n",
        "for year in list_years:\n",
        "  tmp_len.append(str(year)+\"_len\")\n",
        "  tmp_com.append(str(year)+\"_pol\")\n",
        "col_names = tmp_len + tmp_com\n",
        "data_PCA = pd.DataFrame(index=list_domains, columns=col_names)\n",
        "data_PCA.loc[:, tmp_len]  = get_mean_of_col_for_each_outlet_per_year(\"quote_length\",list_domains).T.values\n",
        "data_PCA.loc[:, tmp_com]  = get_mean_of_col_for_each_outlet_per_year(\"compound\",list_domains).T.values\n",
        "\n",
        "# For the Washington Post does not have values for 2020, so we remove it \n",
        "data_PCA.dropna(inplace=True)"
      ],
      "metadata": {
        "colab": {
          "base_uri": "https://localhost:8080/",
          "height": 665
        },
        "id": "8nxY5292b7IZ",
        "outputId": "b204758d-25b5-4812-8e2d-fbb9c429706d"
      },
      "id": "8nxY5292b7IZ",
      "execution_count": null,
      "outputs": [
        {
          "output_type": "execute_result",
          "data": {
            "text/html": [
              "<div>\n",
              "<style scoped>\n",
              "    .dataframe tbody tr th:only-of-type {\n",
              "        vertical-align: middle;\n",
              "    }\n",
              "\n",
              "    .dataframe tbody tr th {\n",
              "        vertical-align: top;\n",
              "    }\n",
              "\n",
              "    .dataframe thead th {\n",
              "        text-align: right;\n",
              "    }\n",
              "</style>\n",
              "<table border=\"1\" class=\"dataframe\">\n",
              "  <thead>\n",
              "    <tr style=\"text-align: right;\">\n",
              "      <th></th>\n",
              "      <th>2015_len</th>\n",
              "      <th>2016_len</th>\n",
              "      <th>2017_len</th>\n",
              "      <th>2018_len</th>\n",
              "      <th>2019_len</th>\n",
              "      <th>2020_len</th>\n",
              "      <th>2015_pol</th>\n",
              "      <th>2016_pol</th>\n",
              "      <th>2017_pol</th>\n",
              "      <th>2018_pol</th>\n",
              "      <th>2019_pol</th>\n",
              "      <th>2020_pol</th>\n",
              "    </tr>\n",
              "  </thead>\n",
              "  <tbody>\n",
              "    <tr>\n",
              "      <th>latimes.com</th>\n",
              "      <td>18.232</td>\n",
              "      <td>18.3967</td>\n",
              "      <td>18.9018</td>\n",
              "      <td>19.3386</td>\n",
              "      <td>19.7509</td>\n",
              "      <td>19.7487</td>\n",
              "      <td>0.125557</td>\n",
              "      <td>0.131786</td>\n",
              "      <td>0.130372</td>\n",
              "      <td>0.137327</td>\n",
              "      <td>0.129715</td>\n",
              "      <td>0.112225</td>\n",
              "    </tr>\n",
              "    <tr>\n",
              "      <th>breitbart.com</th>\n",
              "      <td>26.8044</td>\n",
              "      <td>20.88</td>\n",
              "      <td>20.8942</td>\n",
              "      <td>20.4744</td>\n",
              "      <td>20.8923</td>\n",
              "      <td>21.4522</td>\n",
              "      <td>0.0360819</td>\n",
              "      <td>0.0921929</td>\n",
              "      <td>0.094649</td>\n",
              "      <td>0.105469</td>\n",
              "      <td>0.0973902</td>\n",
              "      <td>0.0957404</td>\n",
              "    </tr>\n",
              "    <tr>\n",
              "      <th>wtop.com</th>\n",
              "      <td>18.7837</td>\n",
              "      <td>19.0276</td>\n",
              "      <td>19.1485</td>\n",
              "      <td>18.4826</td>\n",
              "      <td>18.867</td>\n",
              "      <td>19.225</td>\n",
              "      <td>0.159981</td>\n",
              "      <td>0.155056</td>\n",
              "      <td>0.148618</td>\n",
              "      <td>0.105848</td>\n",
              "      <td>0.100752</td>\n",
              "      <td>0.103291</td>\n",
              "    </tr>\n",
              "    <tr>\n",
              "      <th>chicagotribune.com</th>\n",
              "      <td>19.4026</td>\n",
              "      <td>19.2869</td>\n",
              "      <td>19.6891</td>\n",
              "      <td>20.1787</td>\n",
              "      <td>22.2875</td>\n",
              "      <td>20.3902</td>\n",
              "      <td>0.154172</td>\n",
              "      <td>0.142298</td>\n",
              "      <td>0.141398</td>\n",
              "      <td>0.14402</td>\n",
              "      <td>0.0997843</td>\n",
              "      <td>0.129555</td>\n",
              "    </tr>\n",
              "    <tr>\n",
              "      <th>sfgate.com</th>\n",
              "      <td>18.5135</td>\n",
              "      <td>18.7935</td>\n",
              "      <td>18.4644</td>\n",
              "      <td>18.6107</td>\n",
              "      <td>19.7097</td>\n",
              "      <td>20.8969</td>\n",
              "      <td>0.107689</td>\n",
              "      <td>0.107965</td>\n",
              "      <td>0.0960289</td>\n",
              "      <td>0.0983566</td>\n",
              "      <td>0.117968</td>\n",
              "      <td>0.130861</td>\n",
              "    </tr>\n",
              "    <tr>\n",
              "      <th>upi.com</th>\n",
              "      <td>22.2486</td>\n",
              "      <td>23.1041</td>\n",
              "      <td>23.2014</td>\n",
              "      <td>23.6882</td>\n",
              "      <td>22.5347</td>\n",
              "      <td>23.1222</td>\n",
              "      <td>0.177251</td>\n",
              "      <td>0.204579</td>\n",
              "      <td>0.218107</td>\n",
              "      <td>0.219165</td>\n",
              "      <td>0.176878</td>\n",
              "      <td>0.175097</td>\n",
              "    </tr>\n",
              "    <tr>\n",
              "      <th>chron.com</th>\n",
              "      <td>18.8817</td>\n",
              "      <td>20.4661</td>\n",
              "      <td>20.029</td>\n",
              "      <td>19.6682</td>\n",
              "      <td>19.0766</td>\n",
              "      <td>19.8882</td>\n",
              "      <td>0.129547</td>\n",
              "      <td>0.131929</td>\n",
              "      <td>0.155258</td>\n",
              "      <td>0.142485</td>\n",
              "      <td>0.112826</td>\n",
              "      <td>0.118946</td>\n",
              "    </tr>\n",
              "    <tr>\n",
              "      <th>cnn.com</th>\n",
              "      <td>19.656</td>\n",
              "      <td>19.8493</td>\n",
              "      <td>20.1161</td>\n",
              "      <td>20.8801</td>\n",
              "      <td>21.7093</td>\n",
              "      <td>22.124</td>\n",
              "      <td>0.0808692</td>\n",
              "      <td>0.0906861</td>\n",
              "      <td>0.086573</td>\n",
              "      <td>0.0833517</td>\n",
              "      <td>0.0815028</td>\n",
              "      <td>0.0950401</td>\n",
              "    </tr>\n",
              "    <tr>\n",
              "      <th>nytimes.com</th>\n",
              "      <td>12.119</td>\n",
              "      <td>17.5021</td>\n",
              "      <td>16.8576</td>\n",
              "      <td>16.6273</td>\n",
              "      <td>16.5985</td>\n",
              "      <td>16.8086</td>\n",
              "      <td>0.0473131</td>\n",
              "      <td>0.106861</td>\n",
              "      <td>0.0845212</td>\n",
              "      <td>0.0791975</td>\n",
              "      <td>0.0773883</td>\n",
              "      <td>0.0655321</td>\n",
              "    </tr>\n",
              "    <tr>\n",
              "      <th>thehill.com</th>\n",
              "      <td>20.9238</td>\n",
              "      <td>21.2247</td>\n",
              "      <td>21.5447</td>\n",
              "      <td>21.9834</td>\n",
              "      <td>22.6081</td>\n",
              "      <td>22.8167</td>\n",
              "      <td>0.0928928</td>\n",
              "      <td>0.0818648</td>\n",
              "      <td>0.0743337</td>\n",
              "      <td>0.0665419</td>\n",
              "      <td>0.0671745</td>\n",
              "      <td>0.0751038</td>\n",
              "    </tr>\n",
              "    <tr>\n",
              "      <th>washingtonpost.com</th>\n",
              "      <td>21.0679</td>\n",
              "      <td>20.8545</td>\n",
              "      <td>21.2205</td>\n",
              "      <td>21.6072</td>\n",
              "      <td>19.6607</td>\n",
              "      <td>NaN</td>\n",
              "      <td>0.112781</td>\n",
              "      <td>0.0998904</td>\n",
              "      <td>0.0922415</td>\n",
              "      <td>0.0934433</td>\n",
              "      <td>0.0558134</td>\n",
              "      <td>NaN</td>\n",
              "    </tr>\n",
              "    <tr>\n",
              "      <th>mysanantonio.com</th>\n",
              "      <td>18.0785</td>\n",
              "      <td>19.2685</td>\n",
              "      <td>19.2984</td>\n",
              "      <td>19.3941</td>\n",
              "      <td>19.7602</td>\n",
              "      <td>20.2855</td>\n",
              "      <td>0.12711</td>\n",
              "      <td>0.154803</td>\n",
              "      <td>0.145336</td>\n",
              "      <td>0.147189</td>\n",
              "      <td>0.157352</td>\n",
              "      <td>0.141873</td>\n",
              "    </tr>\n",
              "    <tr>\n",
              "      <th>seattletimes.com</th>\n",
              "      <td>19.6977</td>\n",
              "      <td>19.2139</td>\n",
              "      <td>19.1279</td>\n",
              "      <td>19.1153</td>\n",
              "      <td>20.1009</td>\n",
              "      <td>19.7891</td>\n",
              "      <td>0.136353</td>\n",
              "      <td>0.134191</td>\n",
              "      <td>0.132841</td>\n",
              "      <td>0.128267</td>\n",
              "      <td>0.177406</td>\n",
              "      <td>0.13305</td>\n",
              "    </tr>\n",
              "    <tr>\n",
              "      <th>washingtontimes.com</th>\n",
              "      <td>20.0636</td>\n",
              "      <td>19.9965</td>\n",
              "      <td>20.1266</td>\n",
              "      <td>20.1868</td>\n",
              "      <td>20.2032</td>\n",
              "      <td>20.4588</td>\n",
              "      <td>0.156674</td>\n",
              "      <td>0.15432</td>\n",
              "      <td>0.150396</td>\n",
              "      <td>0.144552</td>\n",
              "      <td>0.131634</td>\n",
              "      <td>0.11266</td>\n",
              "    </tr>\n",
              "    <tr>\n",
              "      <th>philly.com</th>\n",
              "      <td>18.7521</td>\n",
              "      <td>18.7147</td>\n",
              "      <td>19.604</td>\n",
              "      <td>20.0029</td>\n",
              "      <td>19.6878</td>\n",
              "      <td>19.6482</td>\n",
              "      <td>0.141786</td>\n",
              "      <td>0.136529</td>\n",
              "      <td>0.143227</td>\n",
              "      <td>0.155531</td>\n",
              "      <td>0.142688</td>\n",
              "      <td>0.132801</td>\n",
              "    </tr>\n",
              "    <tr>\n",
              "      <th>newsok.com</th>\n",
              "      <td>19.5096</td>\n",
              "      <td>26.244</td>\n",
              "      <td>26.9282</td>\n",
              "      <td>22.7499</td>\n",
              "      <td>21.7192</td>\n",
              "      <td>22.1154</td>\n",
              "      <td>0.143981</td>\n",
              "      <td>0.136342</td>\n",
              "      <td>0.169311</td>\n",
              "      <td>0.203351</td>\n",
              "      <td>0.212277</td>\n",
              "      <td>0.198681</td>\n",
              "    </tr>\n",
              "    <tr>\n",
              "      <th>cbsnews.com</th>\n",
              "      <td>19.5227</td>\n",
              "      <td>19.7231</td>\n",
              "      <td>19.957</td>\n",
              "      <td>20.8252</td>\n",
              "      <td>21.2171</td>\n",
              "      <td>21.7348</td>\n",
              "      <td>0.0684536</td>\n",
              "      <td>0.0772537</td>\n",
              "      <td>0.064677</td>\n",
              "      <td>0.0740691</td>\n",
              "      <td>0.0788273</td>\n",
              "      <td>0.0855674</td>\n",
              "    </tr>\n",
              "    <tr>\n",
              "      <th>foxnews.com</th>\n",
              "      <td>20.2114</td>\n",
              "      <td>19.9555</td>\n",
              "      <td>21.1561</td>\n",
              "      <td>21.9979</td>\n",
              "      <td>24.3332</td>\n",
              "      <td>24.7778</td>\n",
              "      <td>0.0815077</td>\n",
              "      <td>0.0711551</td>\n",
              "      <td>0.0686505</td>\n",
              "      <td>0.0716556</td>\n",
              "      <td>0.0842734</td>\n",
              "      <td>0.0976581</td>\n",
              "    </tr>\n",
              "    <tr>\n",
              "      <th>startribune.com</th>\n",
              "      <td>18.728</td>\n",
              "      <td>18.4453</td>\n",
              "      <td>18.7781</td>\n",
              "      <td>18.9887</td>\n",
              "      <td>19.3334</td>\n",
              "      <td>19.7075</td>\n",
              "      <td>0.132541</td>\n",
              "      <td>0.127922</td>\n",
              "      <td>0.133452</td>\n",
              "      <td>0.149742</td>\n",
              "      <td>0.152955</td>\n",
              "      <td>0.133209</td>\n",
              "    </tr>\n",
              "  </tbody>\n",
              "</table>\n",
              "</div>"
            ],
            "text/plain": [
              "                    2015_len 2016_len 2017_len  ...   2018_pol   2019_pol   2020_pol\n",
              "latimes.com           18.232  18.3967  18.9018  ...   0.137327   0.129715   0.112225\n",
              "breitbart.com        26.8044    20.88  20.8942  ...   0.105469  0.0973902  0.0957404\n",
              "wtop.com             18.7837  19.0276  19.1485  ...   0.105848   0.100752   0.103291\n",
              "chicagotribune.com   19.4026  19.2869  19.6891  ...    0.14402  0.0997843   0.129555\n",
              "sfgate.com           18.5135  18.7935  18.4644  ...  0.0983566   0.117968   0.130861\n",
              "upi.com              22.2486  23.1041  23.2014  ...   0.219165   0.176878   0.175097\n",
              "chron.com            18.8817  20.4661   20.029  ...   0.142485   0.112826   0.118946\n",
              "cnn.com               19.656  19.8493  20.1161  ...  0.0833517  0.0815028  0.0950401\n",
              "nytimes.com           12.119  17.5021  16.8576  ...  0.0791975  0.0773883  0.0655321\n",
              "thehill.com          20.9238  21.2247  21.5447  ...  0.0665419  0.0671745  0.0751038\n",
              "washingtonpost.com   21.0679  20.8545  21.2205  ...  0.0934433  0.0558134        NaN\n",
              "mysanantonio.com     18.0785  19.2685  19.2984  ...   0.147189   0.157352   0.141873\n",
              "seattletimes.com     19.6977  19.2139  19.1279  ...   0.128267   0.177406    0.13305\n",
              "washingtontimes.com  20.0636  19.9965  20.1266  ...   0.144552   0.131634    0.11266\n",
              "philly.com           18.7521  18.7147   19.604  ...   0.155531   0.142688   0.132801\n",
              "newsok.com           19.5096   26.244  26.9282  ...   0.203351   0.212277   0.198681\n",
              "cbsnews.com          19.5227  19.7231   19.957  ...  0.0740691  0.0788273  0.0855674\n",
              "foxnews.com          20.2114  19.9555  21.1561  ...  0.0716556  0.0842734  0.0976581\n",
              "startribune.com       18.728  18.4453  18.7781  ...   0.149742   0.152955   0.133209\n",
              "\n",
              "[19 rows x 12 columns]"
            ]
          },
          "metadata": {},
          "execution_count": 58
        }
      ]
    },
    {
      "cell_type": "code",
      "source": [
        "# Normalise the data between 0 and 1 \n",
        "scaler = MinMaxScaler()\n",
        "scaler.fit(data_PCA)\n",
        "scaled = scaler.fit_transform(data_PCA)\n",
        "data_PCA_scaled = pd.DataFrame(scaled, columns=data_PCA.columns)"
      ],
      "metadata": {
        "colab": {
          "base_uri": "https://localhost:8080/",
          "height": 614
        },
        "id": "CTsJHD9PGgNz",
        "outputId": "5b07f53a-f63c-4b0e-b57f-7a2194c21180"
      },
      "id": "CTsJHD9PGgNz",
      "execution_count": null,
      "outputs": [
        {
          "output_type": "execute_result",
          "data": {
            "text/html": [
              "<div>\n",
              "<style scoped>\n",
              "    .dataframe tbody tr th:only-of-type {\n",
              "        vertical-align: middle;\n",
              "    }\n",
              "\n",
              "    .dataframe tbody tr th {\n",
              "        vertical-align: top;\n",
              "    }\n",
              "\n",
              "    .dataframe thead th {\n",
              "        text-align: right;\n",
              "    }\n",
              "</style>\n",
              "<table border=\"1\" class=\"dataframe\">\n",
              "  <thead>\n",
              "    <tr style=\"text-align: right;\">\n",
              "      <th></th>\n",
              "      <th>2015_len</th>\n",
              "      <th>2016_len</th>\n",
              "      <th>2017_len</th>\n",
              "      <th>2018_len</th>\n",
              "      <th>2019_len</th>\n",
              "      <th>2020_len</th>\n",
              "      <th>2015_pol</th>\n",
              "      <th>2016_pol</th>\n",
              "      <th>2017_pol</th>\n",
              "      <th>2018_pol</th>\n",
              "      <th>2019_pol</th>\n",
              "      <th>2020_pol</th>\n",
              "    </tr>\n",
              "  </thead>\n",
              "  <tbody>\n",
              "    <tr>\n",
              "      <th>0</th>\n",
              "      <td>0.416269</td>\n",
              "      <td>0.102339</td>\n",
              "      <td>0.202993</td>\n",
              "      <td>0.383984</td>\n",
              "      <td>0.407556</td>\n",
              "      <td>0.368935</td>\n",
              "      <td>0.633814</td>\n",
              "      <td>0.454421</td>\n",
              "      <td>0.428176</td>\n",
              "      <td>0.463790</td>\n",
              "      <td>0.431012</td>\n",
              "      <td>0.350684</td>\n",
              "    </tr>\n",
              "    <tr>\n",
              "      <th>1</th>\n",
              "      <td>1.000000</td>\n",
              "      <td>0.386408</td>\n",
              "      <td>0.400828</td>\n",
              "      <td>0.544855</td>\n",
              "      <td>0.555128</td>\n",
              "      <td>0.582693</td>\n",
              "      <td>0.000000</td>\n",
              "      <td>0.157676</td>\n",
              "      <td>0.195346</td>\n",
              "      <td>0.255056</td>\n",
              "      <td>0.208237</td>\n",
              "      <td>0.226876</td>\n",
              "    </tr>\n",
              "    <tr>\n",
              "      <th>2</th>\n",
              "      <td>0.453837</td>\n",
              "      <td>0.174500</td>\n",
              "      <td>0.227485</td>\n",
              "      <td>0.262757</td>\n",
              "      <td>0.293286</td>\n",
              "      <td>0.303218</td>\n",
              "      <td>0.877661</td>\n",
              "      <td>0.628824</td>\n",
              "      <td>0.547097</td>\n",
              "      <td>0.257540</td>\n",
              "      <td>0.231409</td>\n",
              "      <td>0.283586</td>\n",
              "    </tr>\n",
              "    <tr>\n",
              "      <th>3</th>\n",
              "      <td>0.495981</td>\n",
              "      <td>0.204170</td>\n",
              "      <td>0.281171</td>\n",
              "      <td>0.502975</td>\n",
              "      <td>0.735510</td>\n",
              "      <td>0.449425</td>\n",
              "      <td>0.836515</td>\n",
              "      <td>0.533204</td>\n",
              "      <td>0.500041</td>\n",
              "      <td>0.507641</td>\n",
              "      <td>0.224736</td>\n",
              "      <td>0.480839</td>\n",
              "    </tr>\n",
              "    <tr>\n",
              "      <th>4</th>\n",
              "      <td>0.435435</td>\n",
              "      <td>0.147720</td>\n",
              "      <td>0.159559</td>\n",
              "      <td>0.280904</td>\n",
              "      <td>0.402236</td>\n",
              "      <td>0.513011</td>\n",
              "      <td>0.507246</td>\n",
              "      <td>0.275886</td>\n",
              "      <td>0.204340</td>\n",
              "      <td>0.208453</td>\n",
              "      <td>0.350051</td>\n",
              "      <td>0.490645</td>\n",
              "    </tr>\n",
              "    <tr>\n",
              "      <th>5</th>\n",
              "      <td>0.689777</td>\n",
              "      <td>0.640826</td>\n",
              "      <td>0.629935</td>\n",
              "      <td>1.000000</td>\n",
              "      <td>0.767474</td>\n",
              "      <td>0.792241</td>\n",
              "      <td>1.000000</td>\n",
              "      <td>1.000000</td>\n",
              "      <td>1.000000</td>\n",
              "      <td>1.000000</td>\n",
              "      <td>0.756039</td>\n",
              "      <td>0.822877</td>\n",
              "    </tr>\n",
              "    <tr>\n",
              "      <th>6</th>\n",
              "      <td>0.460509</td>\n",
              "      <td>0.339055</td>\n",
              "      <td>0.314920</td>\n",
              "      <td>0.430666</td>\n",
              "      <td>0.320386</td>\n",
              "      <td>0.386439</td>\n",
              "      <td>0.662078</td>\n",
              "      <td>0.455495</td>\n",
              "      <td>0.590374</td>\n",
              "      <td>0.497588</td>\n",
              "      <td>0.314614</td>\n",
              "      <td>0.401160</td>\n",
              "    </tr>\n",
              "    <tr>\n",
              "      <th>7</th>\n",
              "      <td>0.513230</td>\n",
              "      <td>0.268497</td>\n",
              "      <td>0.323563</td>\n",
              "      <td>0.602312</td>\n",
              "      <td>0.660764</td>\n",
              "      <td>0.666994</td>\n",
              "      <td>0.317259</td>\n",
              "      <td>0.146382</td>\n",
              "      <td>0.142710</td>\n",
              "      <td>0.110140</td>\n",
              "      <td>0.098746</td>\n",
              "      <td>0.221616</td>\n",
              "    </tr>\n",
              "    <tr>\n",
              "      <th>8</th>\n",
              "      <td>0.000000</td>\n",
              "      <td>0.000000</td>\n",
              "      <td>0.000000</td>\n",
              "      <td>0.000000</td>\n",
              "      <td>0.000000</td>\n",
              "      <td>0.000000</td>\n",
              "      <td>0.079558</td>\n",
              "      <td>0.267614</td>\n",
              "      <td>0.129337</td>\n",
              "      <td>0.082921</td>\n",
              "      <td>0.070390</td>\n",
              "      <td>0.000000</td>\n",
              "    </tr>\n",
              "    <tr>\n",
              "      <th>9</th>\n",
              "      <td>0.599561</td>\n",
              "      <td>0.425831</td>\n",
              "      <td>0.465432</td>\n",
              "      <td>0.758564</td>\n",
              "      <td>0.776964</td>\n",
              "      <td>0.753910</td>\n",
              "      <td>0.402431</td>\n",
              "      <td>0.080268</td>\n",
              "      <td>0.062939</td>\n",
              "      <td>0.000000</td>\n",
              "      <td>0.000000</td>\n",
              "      <td>0.071887</td>\n",
              "    </tr>\n",
              "    <tr>\n",
              "      <th>10</th>\n",
              "      <td>0.405815</td>\n",
              "      <td>0.202067</td>\n",
              "      <td>0.242373</td>\n",
              "      <td>0.391853</td>\n",
              "      <td>0.408758</td>\n",
              "      <td>0.436287</td>\n",
              "      <td>0.644813</td>\n",
              "      <td>0.626931</td>\n",
              "      <td>0.525708</td>\n",
              "      <td>0.528404</td>\n",
              "      <td>0.621471</td>\n",
              "      <td>0.573348</td>\n",
              "    </tr>\n",
              "    <tr>\n",
              "      <th>11</th>\n",
              "      <td>0.516073</td>\n",
              "      <td>0.195812</td>\n",
              "      <td>0.225440</td>\n",
              "      <td>0.352365</td>\n",
              "      <td>0.452817</td>\n",
              "      <td>0.374000</td>\n",
              "      <td>0.710293</td>\n",
              "      <td>0.472447</td>\n",
              "      <td>0.444270</td>\n",
              "      <td>0.404429</td>\n",
              "      <td>0.759677</td>\n",
              "      <td>0.507087</td>\n",
              "    </tr>\n",
              "    <tr>\n",
              "      <th>12</th>\n",
              "      <td>0.540986</td>\n",
              "      <td>0.285336</td>\n",
              "      <td>0.324612</td>\n",
              "      <td>0.504117</td>\n",
              "      <td>0.466034</td>\n",
              "      <td>0.458042</td>\n",
              "      <td>0.854239</td>\n",
              "      <td>0.623308</td>\n",
              "      <td>0.558684</td>\n",
              "      <td>0.511126</td>\n",
              "      <td>0.444233</td>\n",
              "      <td>0.353950</td>\n",
              "    </tr>\n",
              "    <tr>\n",
              "      <th>13</th>\n",
              "      <td>0.451681</td>\n",
              "      <td>0.138706</td>\n",
              "      <td>0.272719</td>\n",
              "      <td>0.478065</td>\n",
              "      <td>0.399405</td>\n",
              "      <td>0.356328</td>\n",
              "      <td>0.748777</td>\n",
              "      <td>0.489969</td>\n",
              "      <td>0.511958</td>\n",
              "      <td>0.583064</td>\n",
              "      <td>0.520416</td>\n",
              "      <td>0.505212</td>\n",
              "    </tr>\n",
              "    <tr>\n",
              "      <th>14</th>\n",
              "      <td>0.503263</td>\n",
              "      <td>1.000000</td>\n",
              "      <td>1.000000</td>\n",
              "      <td>0.867117</td>\n",
              "      <td>0.662039</td>\n",
              "      <td>0.665913</td>\n",
              "      <td>0.764325</td>\n",
              "      <td>0.488568</td>\n",
              "      <td>0.681963</td>\n",
              "      <td>0.896387</td>\n",
              "      <td>1.000000</td>\n",
              "      <td>1.000000</td>\n",
              "    </tr>\n",
              "    <tr>\n",
              "      <th>15</th>\n",
              "      <td>0.504159</td>\n",
              "      <td>0.254062</td>\n",
              "      <td>0.307765</td>\n",
              "      <td>0.594535</td>\n",
              "      <td>0.597117</td>\n",
              "      <td>0.618150</td>\n",
              "      <td>0.229311</td>\n",
              "      <td>0.045708</td>\n",
              "      <td>0.000000</td>\n",
              "      <td>0.049319</td>\n",
              "      <td>0.080307</td>\n",
              "      <td>0.150473</td>\n",
              "    </tr>\n",
              "    <tr>\n",
              "      <th>16</th>\n",
              "      <td>0.551054</td>\n",
              "      <td>0.280646</td>\n",
              "      <td>0.426834</td>\n",
              "      <td>0.760619</td>\n",
              "      <td>1.000000</td>\n",
              "      <td>1.000000</td>\n",
              "      <td>0.321783</td>\n",
              "      <td>0.000000</td>\n",
              "      <td>0.025898</td>\n",
              "      <td>0.033506</td>\n",
              "      <td>0.117840</td>\n",
              "      <td>0.241279</td>\n",
              "    </tr>\n",
              "    <tr>\n",
              "      <th>17</th>\n",
              "      <td>0.450039</td>\n",
              "      <td>0.107893</td>\n",
              "      <td>0.190701</td>\n",
              "      <td>0.334439</td>\n",
              "      <td>0.353583</td>\n",
              "      <td>0.363766</td>\n",
              "      <td>0.683290</td>\n",
              "      <td>0.425463</td>\n",
              "      <td>0.448252</td>\n",
              "      <td>0.545135</td>\n",
              "      <td>0.591169</td>\n",
              "      <td>0.508276</td>\n",
              "    </tr>\n",
              "  </tbody>\n",
              "</table>\n",
              "</div>"
            ],
            "text/plain": [
              "    2015_len  2016_len  2017_len  ...  2018_pol  2019_pol  2020_pol\n",
              "0   0.416269  0.102339  0.202993  ...  0.463790  0.431012  0.350684\n",
              "1   1.000000  0.386408  0.400828  ...  0.255056  0.208237  0.226876\n",
              "2   0.453837  0.174500  0.227485  ...  0.257540  0.231409  0.283586\n",
              "3   0.495981  0.204170  0.281171  ...  0.507641  0.224736  0.480839\n",
              "4   0.435435  0.147720  0.159559  ...  0.208453  0.350051  0.490645\n",
              "5   0.689777  0.640826  0.629935  ...  1.000000  0.756039  0.822877\n",
              "6   0.460509  0.339055  0.314920  ...  0.497588  0.314614  0.401160\n",
              "7   0.513230  0.268497  0.323563  ...  0.110140  0.098746  0.221616\n",
              "8   0.000000  0.000000  0.000000  ...  0.082921  0.070390  0.000000\n",
              "9   0.599561  0.425831  0.465432  ...  0.000000  0.000000  0.071887\n",
              "10  0.405815  0.202067  0.242373  ...  0.528404  0.621471  0.573348\n",
              "11  0.516073  0.195812  0.225440  ...  0.404429  0.759677  0.507087\n",
              "12  0.540986  0.285336  0.324612  ...  0.511126  0.444233  0.353950\n",
              "13  0.451681  0.138706  0.272719  ...  0.583064  0.520416  0.505212\n",
              "14  0.503263  1.000000  1.000000  ...  0.896387  1.000000  1.000000\n",
              "15  0.504159  0.254062  0.307765  ...  0.049319  0.080307  0.150473\n",
              "16  0.551054  0.280646  0.426834  ...  0.033506  0.117840  0.241279\n",
              "17  0.450039  0.107893  0.190701  ...  0.545135  0.591169  0.508276\n",
              "\n",
              "[18 rows x 12 columns]"
            ]
          },
          "metadata": {},
          "execution_count": 142
        }
      ]
    },
    {
      "cell_type": "code",
      "source": [
        "# Extract the color of the news outlet given the political leaning\n",
        "# We need to drop the Washington post again \n",
        "political_US_outlets.drop(29, inplace=True)\n",
        "# Create new column for the political leaning's color of the outlet, set it at grey \n",
        "political_US_outlets.loc[:,\"color\"] = \"black\"\n",
        "# Define a mask excluding the neutral outlets \n",
        "mask = political_US_outlets[\"Political_leaning\"]!=0\n",
        "# Assign to red the right leaning outlets, blue the left leaning outlets \n",
        "political_US_outlets.loc[mask,\"color\"] = political_US_outlets.loc[mask,\"Political_leaning\"].apply(lambda x: \"red\" if x > 0 else \"blue\")"
      ],
      "metadata": {
        "colab": {
          "base_uri": "https://localhost:8080/"
        },
        "id": "vC3dJnYWxLFX",
        "outputId": "acdd7f8b-cf63-4950-b390-51ef6e7c15f1"
      },
      "id": "vC3dJnYWxLFX",
      "execution_count": null,
      "outputs": [
        {
          "output_type": "stream",
          "name": "stderr",
          "text": [
            "/usr/local/lib/python3.7/dist-packages/pandas/core/indexing.py:966: SettingWithCopyWarning: \n",
            "A value is trying to be set on a copy of a slice from a DataFrame.\n",
            "Try using .loc[row_indexer,col_indexer] = value instead\n",
            "\n",
            "See the caveats in the documentation: https://pandas.pydata.org/pandas-docs/stable/user_guide/indexing.html#returning-a-view-versus-a-copy\n",
            "  self.obj[item] = s\n"
          ]
        }
      ]
    },
    {
      "cell_type": "markdown",
      "source": [
        "**Compute the PCA and plot for the normalised data** "
      ],
      "metadata": {
        "id": "MU1MER8qJSFK"
      },
      "id": "MU1MER8qJSFK"
    },
    {
      "cell_type": "code",
      "source": [
        "# Computing the PCA\n",
        "pca = PCA(n_components=2)\n",
        "X_r = pca.fit(data_PCA_scaled).transform(data_PCA_scaled)"
      ],
      "metadata": {
        "id": "sIfxIHH7rkJd"
      },
      "id": "sIfxIHH7rkJd",
      "execution_count": null,
      "outputs": []
    },
    {
      "cell_type": "markdown",
      "source": [
        "For the next plot we need to separate the oulets in three categories based on their political leaning : \n",
        "- Left (`Political_leaning` < 0)\n",
        "- Neutral (`Political_leaning` == 0)\n",
        "- Right (`Political_leaning` > 0)"
      ],
      "metadata": {
        "id": "SmJ54q_AfNve"
      },
      "id": "SmJ54q_AfNve"
    },
    {
      "cell_type": "code",
      "source": [
        "politic_leaning_list = []\n",
        "for outlet in political_US_outlets.iterrows():\n",
        "  if outlet[1][\"Political_leaning\"] > 0:\n",
        "    politic_leaning_list.append(\"Right\")\n",
        "  elif outlet[1][\"Political_leaning\"] == 0:\n",
        "    politic_leaning_list.append(\"Neutral\")\n",
        "  elif outlet[1][\"Political_leaning\"] < 0:\n",
        "    politic_leaning_list.append(\"Left\")\n",
        "\n",
        "political_US_outlets[\"Political_leaning_class\"] = politic_leaning_list"
      ],
      "metadata": {
        "colab": {
          "base_uri": "https://localhost:8080/"
        },
        "id": "zhV7Q3EqY1tC",
        "outputId": "7fa9bd57-30e6-4a75-ba60-68d5f20cf6e1"
      },
      "execution_count": null,
      "outputs": [
        {
          "output_type": "stream",
          "name": "stderr",
          "text": [
            "/usr/local/lib/python3.7/dist-packages/ipykernel_launcher.py:10: SettingWithCopyWarning:\n",
            "\n",
            "\n",
            "A value is trying to be set on a copy of a slice from a DataFrame.\n",
            "Try using .loc[row_indexer,col_indexer] = value instead\n",
            "\n",
            "See the caveats in the documentation: https://pandas.pydata.org/pandas-docs/stable/user_guide/indexing.html#returning-a-view-versus-a-copy\n",
            "\n"
          ]
        }
      ],
      "id": "zhV7Q3EqY1tC"
    },
    {
      "cell_type": "markdown",
      "source": [
        "We also need to separate the oulets in three categories based on their factual reporting : \n",
        "- High (`Factual_reporting` == 5)\n",
        "- Mostly (`Factual_reporting` == 4)\n",
        "- Mixed (`Factual_reporting` == 3)"
      ],
      "metadata": {
        "id": "scEMky6DfW2G"
      },
      "id": "scEMky6DfW2G"
    },
    {
      "cell_type": "code",
      "source": [
        "factual_reporting_list = []\n",
        "for outlet in political_US_outlets.iterrows():\n",
        "  if outlet[1][\"Factual_reporting\"] == 5:\n",
        "    factual_reporting_list.append(\"High\")\n",
        "  elif outlet[1][\"Factual_reporting\"] == 4:\n",
        "    factual_reporting_list.append(\"Mostly\")\n",
        "  elif outlet[1][\"Factual_reporting\"] == 3:\n",
        "    factual_reporting_list.append(\"Mixed\")\n",
        "\n",
        "political_US_outlets[\"Factual_reporting_class\"] = factual_reporting_list"
      ],
      "metadata": {
        "colab": {
          "base_uri": "https://localhost:8080/"
        },
        "id": "rEsA1WBxabL2",
        "outputId": "6f395311-da04-431f-f813-69cf69a8e228"
      },
      "execution_count": null,
      "outputs": [
        {
          "output_type": "stream",
          "name": "stderr",
          "text": [
            "/usr/local/lib/python3.7/dist-packages/ipykernel_launcher.py:10: SettingWithCopyWarning:\n",
            "\n",
            "\n",
            "A value is trying to be set on a copy of a slice from a DataFrame.\n",
            "Try using .loc[row_indexer,col_indexer] = value instead\n",
            "\n",
            "See the caveats in the documentation: https://pandas.pydata.org/pandas-docs/stable/user_guide/indexing.html#returning-a-view-versus-a-copy\n",
            "\n"
          ]
        }
      ],
      "id": "rEsA1WBxabL2"
    },
    {
      "cell_type": "code",
      "source": [
        "temp_PUO = political_US_outlets\n",
        "temp_PUO[\"PCA_1\"]=X_r[0:,0]\n",
        "temp_PUO[\"PCA_2\"]=X_r[0:,1]\n",
        "\n",
        "\n",
        "fig = px.scatter(data_frame=temp_PUO,\n",
        "             x='PCA_1',\n",
        "             y='PCA_2',\n",
        "             color=\"Political_leaning_class\")\n",
        "fig.update_traces(marker_size=10)\n",
        "fig.show()"
      ],
      "metadata": {
        "colab": {
          "base_uri": "https://localhost:8080/",
          "height": 820
        },
        "outputId": "cf38a832-93dc-4991-99a2-70c311be06bb",
        "id": "BkV4Oe9Qhb7N"
      },
      "execution_count": null,
      "outputs": [
        {
          "output_type": "stream",
          "name": "stderr",
          "text": [
            "/usr/local/lib/python3.7/dist-packages/ipykernel_launcher.py:2: SettingWithCopyWarning:\n",
            "\n",
            "\n",
            "A value is trying to be set on a copy of a slice from a DataFrame.\n",
            "Try using .loc[row_indexer,col_indexer] = value instead\n",
            "\n",
            "See the caveats in the documentation: https://pandas.pydata.org/pandas-docs/stable/user_guide/indexing.html#returning-a-view-versus-a-copy\n",
            "\n",
            "/usr/local/lib/python3.7/dist-packages/ipykernel_launcher.py:3: SettingWithCopyWarning:\n",
            "\n",
            "\n",
            "A value is trying to be set on a copy of a slice from a DataFrame.\n",
            "Try using .loc[row_indexer,col_indexer] = value instead\n",
            "\n",
            "See the caveats in the documentation: https://pandas.pydata.org/pandas-docs/stable/user_guide/indexing.html#returning-a-view-versus-a-copy\n",
            "\n"
          ]
        },
        {
          "output_type": "display_data",
          "data": {
            "text/html": [
              "<html>\n",
              "<head><meta charset=\"utf-8\" /></head>\n",
              "<body>\n",
              "    <div>            <script src=\"https://cdnjs.cloudflare.com/ajax/libs/mathjax/2.7.5/MathJax.js?config=TeX-AMS-MML_SVG\"></script><script type=\"text/javascript\">if (window.MathJax) {MathJax.Hub.Config({SVG: {font: \"STIX-Web\"}});}</script>                <script type=\"text/javascript\">window.PlotlyConfig = {MathJaxConfig: 'local'};</script>\n",
              "        <script src=\"https://cdn.plot.ly/plotly-2.6.3.min.js\"></script>                <div id=\"1f0c21ab-3513-4d4c-96f0-f1d0ab6fa62d\" class=\"plotly-graph-div\" style=\"height:525px; width:100%;\"></div>            <script type=\"text/javascript\">                                    window.PLOTLYENV=window.PLOTLYENV || {};                                    if (document.getElementById(\"1f0c21ab-3513-4d4c-96f0-f1d0ab6fa62d\")) {                    Plotly.newPlot(                        \"1f0c21ab-3513-4d4c-96f0-f1d0ab6fa62d\",                        [{\"hovertemplate\":\"Political_leaning_class=Left<br>PCA_1=%{x}<br>PCA_2=%{y}<extra></extra>\",\"legendgroup\":\"Left\",\"marker\":{\"color\":\"#636efa\",\"symbol\":\"circle\",\"size\":10},\"mode\":\"markers\",\"name\":\"Left\",\"orientation\":\"v\",\"showlegend\":true,\"x\":[-0.018097607861733915,-0.30788743490868686,0.12656215023193806,-0.5305117545983838,-1.0406580067460618,0.298652526805666,0.21137179900390315,0.251498224455494,-0.7256146482576972,0.1410619553687103],\"xaxis\":\"x\",\"y\":[-0.32606794276563356,-0.16409173517696063,-0.24002368215809275,0.3797648555910477,-0.7813090719826414,-0.3354555796571517,-0.3025493407146098,-0.31431138802179576,0.3856333226910668,-0.3953839403535934],\"yaxis\":\"y\",\"type\":\"scatter\"},{\"hovertemplate\":\"Political_leaning_class=Right<br>PCA_1=%{x}<br>PCA_2=%{y}<extra></extra>\",\"legendgroup\":\"Right\",\"marker\":{\"color\":\"#EF553B\",\"symbol\":\"circle\",\"size\":10},\"mode\":\"markers\",\"name\":\"Right\",\"orientation\":\"v\",\"showlegend\":true,\"x\":[-0.4630412594005203,0.1889123055871234,0.30097180331984413,1.2814868411328646,-0.5429755938150282],\"xaxis\":\"x\",\"y\":[0.4739644196524559,-0.06406724268720669,-0.18831174364546674,0.5188030521524103,0.8588486368319438],\"yaxis\":\"y\",\"type\":\"scatter\"},{\"hovertemplate\":\"Political_leaning_class=Neutral<br>PCA_1=%{x}<br>PCA_2=%{y}<extra></extra>\",\"legendgroup\":\"Neutral\",\"marker\":{\"color\":\"#00cc96\",\"symbol\":\"circle\",\"size\":10},\"mode\":\"markers\",\"name\":\"Neutral\",\"orientation\":\"v\",\"showlegend\":true,\"x\":[-0.026037708523143663,1.4342004769082037,-0.5798940687024898],\"xaxis\":\"x\",\"y\":[-0.48651398796723444,0.2915041450016689,0.6895672232097932],\"yaxis\":\"y\",\"type\":\"scatter\"}],                        {\"template\":{\"data\":{\"bar\":[{\"error_x\":{\"color\":\"#2a3f5f\"},\"error_y\":{\"color\":\"#2a3f5f\"},\"marker\":{\"line\":{\"color\":\"#E5ECF6\",\"width\":0.5},\"pattern\":{\"fillmode\":\"overlay\",\"size\":10,\"solidity\":0.2}},\"type\":\"bar\"}],\"barpolar\":[{\"marker\":{\"line\":{\"color\":\"#E5ECF6\",\"width\":0.5},\"pattern\":{\"fillmode\":\"overlay\",\"size\":10,\"solidity\":0.2}},\"type\":\"barpolar\"}],\"carpet\":[{\"aaxis\":{\"endlinecolor\":\"#2a3f5f\",\"gridcolor\":\"white\",\"linecolor\":\"white\",\"minorgridcolor\":\"white\",\"startlinecolor\":\"#2a3f5f\"},\"baxis\":{\"endlinecolor\":\"#2a3f5f\",\"gridcolor\":\"white\",\"linecolor\":\"white\",\"minorgridcolor\":\"white\",\"startlinecolor\":\"#2a3f5f\"},\"type\":\"carpet\"}],\"choropleth\":[{\"colorbar\":{\"outlinewidth\":0,\"ticks\":\"\"},\"type\":\"choropleth\"}],\"contour\":[{\"colorbar\":{\"outlinewidth\":0,\"ticks\":\"\"},\"colorscale\":[[0.0,\"#0d0887\"],[0.1111111111111111,\"#46039f\"],[0.2222222222222222,\"#7201a8\"],[0.3333333333333333,\"#9c179e\"],[0.4444444444444444,\"#bd3786\"],[0.5555555555555556,\"#d8576b\"],[0.6666666666666666,\"#ed7953\"],[0.7777777777777778,\"#fb9f3a\"],[0.8888888888888888,\"#fdca26\"],[1.0,\"#f0f921\"]],\"type\":\"contour\"}],\"contourcarpet\":[{\"colorbar\":{\"outlinewidth\":0,\"ticks\":\"\"},\"type\":\"contourcarpet\"}],\"heatmap\":[{\"colorbar\":{\"outlinewidth\":0,\"ticks\":\"\"},\"colorscale\":[[0.0,\"#0d0887\"],[0.1111111111111111,\"#46039f\"],[0.2222222222222222,\"#7201a8\"],[0.3333333333333333,\"#9c179e\"],[0.4444444444444444,\"#bd3786\"],[0.5555555555555556,\"#d8576b\"],[0.6666666666666666,\"#ed7953\"],[0.7777777777777778,\"#fb9f3a\"],[0.8888888888888888,\"#fdca26\"],[1.0,\"#f0f921\"]],\"type\":\"heatmap\"}],\"heatmapgl\":[{\"colorbar\":{\"outlinewidth\":0,\"ticks\":\"\"},\"colorscale\":[[0.0,\"#0d0887\"],[0.1111111111111111,\"#46039f\"],[0.2222222222222222,\"#7201a8\"],[0.3333333333333333,\"#9c179e\"],[0.4444444444444444,\"#bd3786\"],[0.5555555555555556,\"#d8576b\"],[0.6666666666666666,\"#ed7953\"],[0.7777777777777778,\"#fb9f3a\"],[0.8888888888888888,\"#fdca26\"],[1.0,\"#f0f921\"]],\"type\":\"heatmapgl\"}],\"histogram\":[{\"marker\":{\"pattern\":{\"fillmode\":\"overlay\",\"size\":10,\"solidity\":0.2}},\"type\":\"histogram\"}],\"histogram2d\":[{\"colorbar\":{\"outlinewidth\":0,\"ticks\":\"\"},\"colorscale\":[[0.0,\"#0d0887\"],[0.1111111111111111,\"#46039f\"],[0.2222222222222222,\"#7201a8\"],[0.3333333333333333,\"#9c179e\"],[0.4444444444444444,\"#bd3786\"],[0.5555555555555556,\"#d8576b\"],[0.6666666666666666,\"#ed7953\"],[0.7777777777777778,\"#fb9f3a\"],[0.8888888888888888,\"#fdca26\"],[1.0,\"#f0f921\"]],\"type\":\"histogram2d\"}],\"histogram2dcontour\":[{\"colorbar\":{\"outlinewidth\":0,\"ticks\":\"\"},\"colorscale\":[[0.0,\"#0d0887\"],[0.1111111111111111,\"#46039f\"],[0.2222222222222222,\"#7201a8\"],[0.3333333333333333,\"#9c179e\"],[0.4444444444444444,\"#bd3786\"],[0.5555555555555556,\"#d8576b\"],[0.6666666666666666,\"#ed7953\"],[0.7777777777777778,\"#fb9f3a\"],[0.8888888888888888,\"#fdca26\"],[1.0,\"#f0f921\"]],\"type\":\"histogram2dcontour\"}],\"mesh3d\":[{\"colorbar\":{\"outlinewidth\":0,\"ticks\":\"\"},\"type\":\"mesh3d\"}],\"parcoords\":[{\"line\":{\"colorbar\":{\"outlinewidth\":0,\"ticks\":\"\"}},\"type\":\"parcoords\"}],\"pie\":[{\"automargin\":true,\"type\":\"pie\"}],\"scatter\":[{\"marker\":{\"colorbar\":{\"outlinewidth\":0,\"ticks\":\"\"}},\"type\":\"scatter\"}],\"scatter3d\":[{\"line\":{\"colorbar\":{\"outlinewidth\":0,\"ticks\":\"\"}},\"marker\":{\"colorbar\":{\"outlinewidth\":0,\"ticks\":\"\"}},\"type\":\"scatter3d\"}],\"scattercarpet\":[{\"marker\":{\"colorbar\":{\"outlinewidth\":0,\"ticks\":\"\"}},\"type\":\"scattercarpet\"}],\"scattergeo\":[{\"marker\":{\"colorbar\":{\"outlinewidth\":0,\"ticks\":\"\"}},\"type\":\"scattergeo\"}],\"scattergl\":[{\"marker\":{\"colorbar\":{\"outlinewidth\":0,\"ticks\":\"\"}},\"type\":\"scattergl\"}],\"scattermapbox\":[{\"marker\":{\"colorbar\":{\"outlinewidth\":0,\"ticks\":\"\"}},\"type\":\"scattermapbox\"}],\"scatterpolar\":[{\"marker\":{\"colorbar\":{\"outlinewidth\":0,\"ticks\":\"\"}},\"type\":\"scatterpolar\"}],\"scatterpolargl\":[{\"marker\":{\"colorbar\":{\"outlinewidth\":0,\"ticks\":\"\"}},\"type\":\"scatterpolargl\"}],\"scatterternary\":[{\"marker\":{\"colorbar\":{\"outlinewidth\":0,\"ticks\":\"\"}},\"type\":\"scatterternary\"}],\"surface\":[{\"colorbar\":{\"outlinewidth\":0,\"ticks\":\"\"},\"colorscale\":[[0.0,\"#0d0887\"],[0.1111111111111111,\"#46039f\"],[0.2222222222222222,\"#7201a8\"],[0.3333333333333333,\"#9c179e\"],[0.4444444444444444,\"#bd3786\"],[0.5555555555555556,\"#d8576b\"],[0.6666666666666666,\"#ed7953\"],[0.7777777777777778,\"#fb9f3a\"],[0.8888888888888888,\"#fdca26\"],[1.0,\"#f0f921\"]],\"type\":\"surface\"}],\"table\":[{\"cells\":{\"fill\":{\"color\":\"#EBF0F8\"},\"line\":{\"color\":\"white\"}},\"header\":{\"fill\":{\"color\":\"#C8D4E3\"},\"line\":{\"color\":\"white\"}},\"type\":\"table\"}]},\"layout\":{\"annotationdefaults\":{\"arrowcolor\":\"#2a3f5f\",\"arrowhead\":0,\"arrowwidth\":1},\"autotypenumbers\":\"strict\",\"coloraxis\":{\"colorbar\":{\"outlinewidth\":0,\"ticks\":\"\"}},\"colorscale\":{\"diverging\":[[0,\"#8e0152\"],[0.1,\"#c51b7d\"],[0.2,\"#de77ae\"],[0.3,\"#f1b6da\"],[0.4,\"#fde0ef\"],[0.5,\"#f7f7f7\"],[0.6,\"#e6f5d0\"],[0.7,\"#b8e186\"],[0.8,\"#7fbc41\"],[0.9,\"#4d9221\"],[1,\"#276419\"]],\"sequential\":[[0.0,\"#0d0887\"],[0.1111111111111111,\"#46039f\"],[0.2222222222222222,\"#7201a8\"],[0.3333333333333333,\"#9c179e\"],[0.4444444444444444,\"#bd3786\"],[0.5555555555555556,\"#d8576b\"],[0.6666666666666666,\"#ed7953\"],[0.7777777777777778,\"#fb9f3a\"],[0.8888888888888888,\"#fdca26\"],[1.0,\"#f0f921\"]],\"sequentialminus\":[[0.0,\"#0d0887\"],[0.1111111111111111,\"#46039f\"],[0.2222222222222222,\"#7201a8\"],[0.3333333333333333,\"#9c179e\"],[0.4444444444444444,\"#bd3786\"],[0.5555555555555556,\"#d8576b\"],[0.6666666666666666,\"#ed7953\"],[0.7777777777777778,\"#fb9f3a\"],[0.8888888888888888,\"#fdca26\"],[1.0,\"#f0f921\"]]},\"colorway\":[\"#636efa\",\"#EF553B\",\"#00cc96\",\"#ab63fa\",\"#FFA15A\",\"#19d3f3\",\"#FF6692\",\"#B6E880\",\"#FF97FF\",\"#FECB52\"],\"font\":{\"color\":\"#2a3f5f\"},\"geo\":{\"bgcolor\":\"white\",\"lakecolor\":\"white\",\"landcolor\":\"#E5ECF6\",\"showlakes\":true,\"showland\":true,\"subunitcolor\":\"white\"},\"hoverlabel\":{\"align\":\"left\"},\"hovermode\":\"closest\",\"mapbox\":{\"style\":\"light\"},\"paper_bgcolor\":\"white\",\"plot_bgcolor\":\"#E5ECF6\",\"polar\":{\"angularaxis\":{\"gridcolor\":\"white\",\"linecolor\":\"white\",\"ticks\":\"\"},\"bgcolor\":\"#E5ECF6\",\"radialaxis\":{\"gridcolor\":\"white\",\"linecolor\":\"white\",\"ticks\":\"\"}},\"scene\":{\"xaxis\":{\"backgroundcolor\":\"#E5ECF6\",\"gridcolor\":\"white\",\"gridwidth\":2,\"linecolor\":\"white\",\"showbackground\":true,\"ticks\":\"\",\"zerolinecolor\":\"white\"},\"yaxis\":{\"backgroundcolor\":\"#E5ECF6\",\"gridcolor\":\"white\",\"gridwidth\":2,\"linecolor\":\"white\",\"showbackground\":true,\"ticks\":\"\",\"zerolinecolor\":\"white\"},\"zaxis\":{\"backgroundcolor\":\"#E5ECF6\",\"gridcolor\":\"white\",\"gridwidth\":2,\"linecolor\":\"white\",\"showbackground\":true,\"ticks\":\"\",\"zerolinecolor\":\"white\"}},\"shapedefaults\":{\"line\":{\"color\":\"#2a3f5f\"}},\"ternary\":{\"aaxis\":{\"gridcolor\":\"white\",\"linecolor\":\"white\",\"ticks\":\"\"},\"baxis\":{\"gridcolor\":\"white\",\"linecolor\":\"white\",\"ticks\":\"\"},\"bgcolor\":\"#E5ECF6\",\"caxis\":{\"gridcolor\":\"white\",\"linecolor\":\"white\",\"ticks\":\"\"}},\"title\":{\"x\":0.05},\"xaxis\":{\"automargin\":true,\"gridcolor\":\"white\",\"linecolor\":\"white\",\"ticks\":\"\",\"title\":{\"standoff\":15},\"zerolinecolor\":\"white\",\"zerolinewidth\":2},\"yaxis\":{\"automargin\":true,\"gridcolor\":\"white\",\"linecolor\":\"white\",\"ticks\":\"\",\"title\":{\"standoff\":15},\"zerolinecolor\":\"white\",\"zerolinewidth\":2}}},\"xaxis\":{\"anchor\":\"y\",\"domain\":[0.0,1.0],\"title\":{\"text\":\"PCA_1\"}},\"yaxis\":{\"anchor\":\"x\",\"domain\":[0.0,1.0],\"title\":{\"text\":\"PCA_2\"}},\"legend\":{\"title\":{\"text\":\"Political_leaning_class\"},\"tracegroupgap\":0},\"margin\":{\"t\":60}},                        {\"responsive\": true}                    ).then(function(){\n",
              "                            \n",
              "var gd = document.getElementById('1f0c21ab-3513-4d4c-96f0-f1d0ab6fa62d');\n",
              "var x = new MutationObserver(function (mutations, observer) {{\n",
              "        var display = window.getComputedStyle(gd).display;\n",
              "        if (!display || display === 'none') {{\n",
              "            console.log([gd, 'removed!']);\n",
              "            Plotly.purge(gd);\n",
              "            observer.disconnect();\n",
              "        }}\n",
              "}});\n",
              "\n",
              "// Listen for the removal of the full notebook cells\n",
              "var notebookContainer = gd.closest('#notebook-container');\n",
              "if (notebookContainer) {{\n",
              "    x.observe(notebookContainer, {childList: true});\n",
              "}}\n",
              "\n",
              "// Listen for the clearing of the current output cell\n",
              "var outputEl = gd.closest('.output');\n",
              "if (outputEl) {{\n",
              "    x.observe(outputEl, {childList: true});\n",
              "}}\n",
              "\n",
              "                        })                };                            </script>        </div>\n",
              "</body>\n",
              "</html>"
            ]
          },
          "metadata": {}
        }
      ],
      "id": "BkV4Oe9Qhb7N"
    },
    {
      "cell_type": "code",
      "source": [
        "temp_PUO = political_US_outlets\n",
        "temp_PUO[\"PCA_1\"]=X_r[0:,0]\n",
        "temp_PUO[\"PCA_2\"]=X_r[0:,1]\n",
        "\n",
        "\n",
        "fig = px.scatter(data_frame=temp_PUO,\n",
        "             x='PCA_1',\n",
        "             y='PCA_2',\n",
        "             color=\"Factual_reporting_class\")\n",
        "fig.update_traces(marker_size=10)\n",
        "fig.show()"
      ],
      "metadata": {
        "colab": {
          "base_uri": "https://localhost:8080/",
          "height": 820
        },
        "id": "lu2yU9UCVf6P",
        "outputId": "9ccab0cd-38a1-4f79-e4aa-96040467a901"
      },
      "execution_count": null,
      "outputs": [
        {
          "output_type": "stream",
          "name": "stderr",
          "text": [
            "/usr/local/lib/python3.7/dist-packages/ipykernel_launcher.py:2: SettingWithCopyWarning:\n",
            "\n",
            "\n",
            "A value is trying to be set on a copy of a slice from a DataFrame.\n",
            "Try using .loc[row_indexer,col_indexer] = value instead\n",
            "\n",
            "See the caveats in the documentation: https://pandas.pydata.org/pandas-docs/stable/user_guide/indexing.html#returning-a-view-versus-a-copy\n",
            "\n",
            "/usr/local/lib/python3.7/dist-packages/ipykernel_launcher.py:3: SettingWithCopyWarning:\n",
            "\n",
            "\n",
            "A value is trying to be set on a copy of a slice from a DataFrame.\n",
            "Try using .loc[row_indexer,col_indexer] = value instead\n",
            "\n",
            "See the caveats in the documentation: https://pandas.pydata.org/pandas-docs/stable/user_guide/indexing.html#returning-a-view-versus-a-copy\n",
            "\n"
          ]
        },
        {
          "output_type": "display_data",
          "data": {
            "text/html": [
              "<html>\n",
              "<head><meta charset=\"utf-8\" /></head>\n",
              "<body>\n",
              "    <div>            <script src=\"https://cdnjs.cloudflare.com/ajax/libs/mathjax/2.7.5/MathJax.js?config=TeX-AMS-MML_SVG\"></script><script type=\"text/javascript\">if (window.MathJax) {MathJax.Hub.Config({SVG: {font: \"STIX-Web\"}});}</script>                <script type=\"text/javascript\">window.PlotlyConfig = {MathJaxConfig: 'local'};</script>\n",
              "        <script src=\"https://cdn.plot.ly/plotly-2.6.3.min.js\"></script>                <div id=\"cd0e077b-be0f-4a60-8869-c11e38d5d5aa\" class=\"plotly-graph-div\" style=\"height:525px; width:100%;\"></div>            <script type=\"text/javascript\">                                    window.PLOTLYENV=window.PLOTLYENV || {};                                    if (document.getElementById(\"cd0e077b-be0f-4a60-8869-c11e38d5d5aa\")) {                    Plotly.newPlot(                        \"cd0e077b-be0f-4a60-8869-c11e38d5d5aa\",                        [{\"hovertemplate\":\"Factual_reporting_class=High<br>PCA_1=%{x}<br>PCA_2=%{y}<extra></extra>\",\"legendgroup\":\"High\",\"marker\":{\"color\":\"#636efa\",\"symbol\":\"circle\",\"size\":10},\"mode\":\"markers\",\"name\":\"High\",\"orientation\":\"v\",\"showlegend\":true,\"x\":[-0.018097607861733915,-0.026037708523143663,0.1889123055871234,-0.30788743490868686,1.4342004769082037,0.12656215023193806,-1.0406580067460618,0.298652526805666,0.21137179900390315,0.251498224455494,1.2814868411328646,-0.7256146482576972,0.1410619553687103],\"xaxis\":\"x\",\"y\":[-0.32606794276563356,-0.48651398796723444,-0.06406724268720669,-0.16409173517696063,0.2915041450016689,-0.24002368215809275,-0.7813090719826414,-0.3354555796571517,-0.3025493407146098,-0.31431138802179576,0.5188030521524103,0.3856333226910668,-0.3953839403535934],\"yaxis\":\"y\",\"type\":\"scatter\"},{\"hovertemplate\":\"Factual_reporting_class=Mixed<br>PCA_1=%{x}<br>PCA_2=%{y}<extra></extra>\",\"legendgroup\":\"Mixed\",\"marker\":{\"color\":\"#EF553B\",\"symbol\":\"circle\",\"size\":10},\"mode\":\"markers\",\"name\":\"Mixed\",\"orientation\":\"v\",\"showlegend\":true,\"x\":[-0.4630412594005203,-0.5305117545983838,0.30097180331984413,-0.5429755938150282],\"xaxis\":\"x\",\"y\":[0.4739644196524559,0.3797648555910477,-0.18831174364546674,0.8588486368319438],\"yaxis\":\"y\",\"type\":\"scatter\"},{\"hovertemplate\":\"Factual_reporting_class=Mostly<br>PCA_1=%{x}<br>PCA_2=%{y}<extra></extra>\",\"legendgroup\":\"Mostly\",\"marker\":{\"color\":\"#00cc96\",\"symbol\":\"circle\",\"size\":10},\"mode\":\"markers\",\"name\":\"Mostly\",\"orientation\":\"v\",\"showlegend\":true,\"x\":[-0.5798940687024898],\"xaxis\":\"x\",\"y\":[0.6895672232097932],\"yaxis\":\"y\",\"type\":\"scatter\"}],                        {\"template\":{\"data\":{\"bar\":[{\"error_x\":{\"color\":\"#2a3f5f\"},\"error_y\":{\"color\":\"#2a3f5f\"},\"marker\":{\"line\":{\"color\":\"#E5ECF6\",\"width\":0.5},\"pattern\":{\"fillmode\":\"overlay\",\"size\":10,\"solidity\":0.2}},\"type\":\"bar\"}],\"barpolar\":[{\"marker\":{\"line\":{\"color\":\"#E5ECF6\",\"width\":0.5},\"pattern\":{\"fillmode\":\"overlay\",\"size\":10,\"solidity\":0.2}},\"type\":\"barpolar\"}],\"carpet\":[{\"aaxis\":{\"endlinecolor\":\"#2a3f5f\",\"gridcolor\":\"white\",\"linecolor\":\"white\",\"minorgridcolor\":\"white\",\"startlinecolor\":\"#2a3f5f\"},\"baxis\":{\"endlinecolor\":\"#2a3f5f\",\"gridcolor\":\"white\",\"linecolor\":\"white\",\"minorgridcolor\":\"white\",\"startlinecolor\":\"#2a3f5f\"},\"type\":\"carpet\"}],\"choropleth\":[{\"colorbar\":{\"outlinewidth\":0,\"ticks\":\"\"},\"type\":\"choropleth\"}],\"contour\":[{\"colorbar\":{\"outlinewidth\":0,\"ticks\":\"\"},\"colorscale\":[[0.0,\"#0d0887\"],[0.1111111111111111,\"#46039f\"],[0.2222222222222222,\"#7201a8\"],[0.3333333333333333,\"#9c179e\"],[0.4444444444444444,\"#bd3786\"],[0.5555555555555556,\"#d8576b\"],[0.6666666666666666,\"#ed7953\"],[0.7777777777777778,\"#fb9f3a\"],[0.8888888888888888,\"#fdca26\"],[1.0,\"#f0f921\"]],\"type\":\"contour\"}],\"contourcarpet\":[{\"colorbar\":{\"outlinewidth\":0,\"ticks\":\"\"},\"type\":\"contourcarpet\"}],\"heatmap\":[{\"colorbar\":{\"outlinewidth\":0,\"ticks\":\"\"},\"colorscale\":[[0.0,\"#0d0887\"],[0.1111111111111111,\"#46039f\"],[0.2222222222222222,\"#7201a8\"],[0.3333333333333333,\"#9c179e\"],[0.4444444444444444,\"#bd3786\"],[0.5555555555555556,\"#d8576b\"],[0.6666666666666666,\"#ed7953\"],[0.7777777777777778,\"#fb9f3a\"],[0.8888888888888888,\"#fdca26\"],[1.0,\"#f0f921\"]],\"type\":\"heatmap\"}],\"heatmapgl\":[{\"colorbar\":{\"outlinewidth\":0,\"ticks\":\"\"},\"colorscale\":[[0.0,\"#0d0887\"],[0.1111111111111111,\"#46039f\"],[0.2222222222222222,\"#7201a8\"],[0.3333333333333333,\"#9c179e\"],[0.4444444444444444,\"#bd3786\"],[0.5555555555555556,\"#d8576b\"],[0.6666666666666666,\"#ed7953\"],[0.7777777777777778,\"#fb9f3a\"],[0.8888888888888888,\"#fdca26\"],[1.0,\"#f0f921\"]],\"type\":\"heatmapgl\"}],\"histogram\":[{\"marker\":{\"pattern\":{\"fillmode\":\"overlay\",\"size\":10,\"solidity\":0.2}},\"type\":\"histogram\"}],\"histogram2d\":[{\"colorbar\":{\"outlinewidth\":0,\"ticks\":\"\"},\"colorscale\":[[0.0,\"#0d0887\"],[0.1111111111111111,\"#46039f\"],[0.2222222222222222,\"#7201a8\"],[0.3333333333333333,\"#9c179e\"],[0.4444444444444444,\"#bd3786\"],[0.5555555555555556,\"#d8576b\"],[0.6666666666666666,\"#ed7953\"],[0.7777777777777778,\"#fb9f3a\"],[0.8888888888888888,\"#fdca26\"],[1.0,\"#f0f921\"]],\"type\":\"histogram2d\"}],\"histogram2dcontour\":[{\"colorbar\":{\"outlinewidth\":0,\"ticks\":\"\"},\"colorscale\":[[0.0,\"#0d0887\"],[0.1111111111111111,\"#46039f\"],[0.2222222222222222,\"#7201a8\"],[0.3333333333333333,\"#9c179e\"],[0.4444444444444444,\"#bd3786\"],[0.5555555555555556,\"#d8576b\"],[0.6666666666666666,\"#ed7953\"],[0.7777777777777778,\"#fb9f3a\"],[0.8888888888888888,\"#fdca26\"],[1.0,\"#f0f921\"]],\"type\":\"histogram2dcontour\"}],\"mesh3d\":[{\"colorbar\":{\"outlinewidth\":0,\"ticks\":\"\"},\"type\":\"mesh3d\"}],\"parcoords\":[{\"line\":{\"colorbar\":{\"outlinewidth\":0,\"ticks\":\"\"}},\"type\":\"parcoords\"}],\"pie\":[{\"automargin\":true,\"type\":\"pie\"}],\"scatter\":[{\"marker\":{\"colorbar\":{\"outlinewidth\":0,\"ticks\":\"\"}},\"type\":\"scatter\"}],\"scatter3d\":[{\"line\":{\"colorbar\":{\"outlinewidth\":0,\"ticks\":\"\"}},\"marker\":{\"colorbar\":{\"outlinewidth\":0,\"ticks\":\"\"}},\"type\":\"scatter3d\"}],\"scattercarpet\":[{\"marker\":{\"colorbar\":{\"outlinewidth\":0,\"ticks\":\"\"}},\"type\":\"scattercarpet\"}],\"scattergeo\":[{\"marker\":{\"colorbar\":{\"outlinewidth\":0,\"ticks\":\"\"}},\"type\":\"scattergeo\"}],\"scattergl\":[{\"marker\":{\"colorbar\":{\"outlinewidth\":0,\"ticks\":\"\"}},\"type\":\"scattergl\"}],\"scattermapbox\":[{\"marker\":{\"colorbar\":{\"outlinewidth\":0,\"ticks\":\"\"}},\"type\":\"scattermapbox\"}],\"scatterpolar\":[{\"marker\":{\"colorbar\":{\"outlinewidth\":0,\"ticks\":\"\"}},\"type\":\"scatterpolar\"}],\"scatterpolargl\":[{\"marker\":{\"colorbar\":{\"outlinewidth\":0,\"ticks\":\"\"}},\"type\":\"scatterpolargl\"}],\"scatterternary\":[{\"marker\":{\"colorbar\":{\"outlinewidth\":0,\"ticks\":\"\"}},\"type\":\"scatterternary\"}],\"surface\":[{\"colorbar\":{\"outlinewidth\":0,\"ticks\":\"\"},\"colorscale\":[[0.0,\"#0d0887\"],[0.1111111111111111,\"#46039f\"],[0.2222222222222222,\"#7201a8\"],[0.3333333333333333,\"#9c179e\"],[0.4444444444444444,\"#bd3786\"],[0.5555555555555556,\"#d8576b\"],[0.6666666666666666,\"#ed7953\"],[0.7777777777777778,\"#fb9f3a\"],[0.8888888888888888,\"#fdca26\"],[1.0,\"#f0f921\"]],\"type\":\"surface\"}],\"table\":[{\"cells\":{\"fill\":{\"color\":\"#EBF0F8\"},\"line\":{\"color\":\"white\"}},\"header\":{\"fill\":{\"color\":\"#C8D4E3\"},\"line\":{\"color\":\"white\"}},\"type\":\"table\"}]},\"layout\":{\"annotationdefaults\":{\"arrowcolor\":\"#2a3f5f\",\"arrowhead\":0,\"arrowwidth\":1},\"autotypenumbers\":\"strict\",\"coloraxis\":{\"colorbar\":{\"outlinewidth\":0,\"ticks\":\"\"}},\"colorscale\":{\"diverging\":[[0,\"#8e0152\"],[0.1,\"#c51b7d\"],[0.2,\"#de77ae\"],[0.3,\"#f1b6da\"],[0.4,\"#fde0ef\"],[0.5,\"#f7f7f7\"],[0.6,\"#e6f5d0\"],[0.7,\"#b8e186\"],[0.8,\"#7fbc41\"],[0.9,\"#4d9221\"],[1,\"#276419\"]],\"sequential\":[[0.0,\"#0d0887\"],[0.1111111111111111,\"#46039f\"],[0.2222222222222222,\"#7201a8\"],[0.3333333333333333,\"#9c179e\"],[0.4444444444444444,\"#bd3786\"],[0.5555555555555556,\"#d8576b\"],[0.6666666666666666,\"#ed7953\"],[0.7777777777777778,\"#fb9f3a\"],[0.8888888888888888,\"#fdca26\"],[1.0,\"#f0f921\"]],\"sequentialminus\":[[0.0,\"#0d0887\"],[0.1111111111111111,\"#46039f\"],[0.2222222222222222,\"#7201a8\"],[0.3333333333333333,\"#9c179e\"],[0.4444444444444444,\"#bd3786\"],[0.5555555555555556,\"#d8576b\"],[0.6666666666666666,\"#ed7953\"],[0.7777777777777778,\"#fb9f3a\"],[0.8888888888888888,\"#fdca26\"],[1.0,\"#f0f921\"]]},\"colorway\":[\"#636efa\",\"#EF553B\",\"#00cc96\",\"#ab63fa\",\"#FFA15A\",\"#19d3f3\",\"#FF6692\",\"#B6E880\",\"#FF97FF\",\"#FECB52\"],\"font\":{\"color\":\"#2a3f5f\"},\"geo\":{\"bgcolor\":\"white\",\"lakecolor\":\"white\",\"landcolor\":\"#E5ECF6\",\"showlakes\":true,\"showland\":true,\"subunitcolor\":\"white\"},\"hoverlabel\":{\"align\":\"left\"},\"hovermode\":\"closest\",\"mapbox\":{\"style\":\"light\"},\"paper_bgcolor\":\"white\",\"plot_bgcolor\":\"#E5ECF6\",\"polar\":{\"angularaxis\":{\"gridcolor\":\"white\",\"linecolor\":\"white\",\"ticks\":\"\"},\"bgcolor\":\"#E5ECF6\",\"radialaxis\":{\"gridcolor\":\"white\",\"linecolor\":\"white\",\"ticks\":\"\"}},\"scene\":{\"xaxis\":{\"backgroundcolor\":\"#E5ECF6\",\"gridcolor\":\"white\",\"gridwidth\":2,\"linecolor\":\"white\",\"showbackground\":true,\"ticks\":\"\",\"zerolinecolor\":\"white\"},\"yaxis\":{\"backgroundcolor\":\"#E5ECF6\",\"gridcolor\":\"white\",\"gridwidth\":2,\"linecolor\":\"white\",\"showbackground\":true,\"ticks\":\"\",\"zerolinecolor\":\"white\"},\"zaxis\":{\"backgroundcolor\":\"#E5ECF6\",\"gridcolor\":\"white\",\"gridwidth\":2,\"linecolor\":\"white\",\"showbackground\":true,\"ticks\":\"\",\"zerolinecolor\":\"white\"}},\"shapedefaults\":{\"line\":{\"color\":\"#2a3f5f\"}},\"ternary\":{\"aaxis\":{\"gridcolor\":\"white\",\"linecolor\":\"white\",\"ticks\":\"\"},\"baxis\":{\"gridcolor\":\"white\",\"linecolor\":\"white\",\"ticks\":\"\"},\"bgcolor\":\"#E5ECF6\",\"caxis\":{\"gridcolor\":\"white\",\"linecolor\":\"white\",\"ticks\":\"\"}},\"title\":{\"x\":0.05},\"xaxis\":{\"automargin\":true,\"gridcolor\":\"white\",\"linecolor\":\"white\",\"ticks\":\"\",\"title\":{\"standoff\":15},\"zerolinecolor\":\"white\",\"zerolinewidth\":2},\"yaxis\":{\"automargin\":true,\"gridcolor\":\"white\",\"linecolor\":\"white\",\"ticks\":\"\",\"title\":{\"standoff\":15},\"zerolinecolor\":\"white\",\"zerolinewidth\":2}}},\"xaxis\":{\"anchor\":\"y\",\"domain\":[0.0,1.0],\"title\":{\"text\":\"PCA_1\"}},\"yaxis\":{\"anchor\":\"x\",\"domain\":[0.0,1.0],\"title\":{\"text\":\"PCA_2\"}},\"legend\":{\"title\":{\"text\":\"Factual_reporting_class\"},\"tracegroupgap\":0},\"margin\":{\"t\":60}},                        {\"responsive\": true}                    ).then(function(){\n",
              "                            \n",
              "var gd = document.getElementById('cd0e077b-be0f-4a60-8869-c11e38d5d5aa');\n",
              "var x = new MutationObserver(function (mutations, observer) {{\n",
              "        var display = window.getComputedStyle(gd).display;\n",
              "        if (!display || display === 'none') {{\n",
              "            console.log([gd, 'removed!']);\n",
              "            Plotly.purge(gd);\n",
              "            observer.disconnect();\n",
              "        }}\n",
              "}});\n",
              "\n",
              "// Listen for the removal of the full notebook cells\n",
              "var notebookContainer = gd.closest('#notebook-container');\n",
              "if (notebookContainer) {{\n",
              "    x.observe(notebookContainer, {childList: true});\n",
              "}}\n",
              "\n",
              "// Listen for the clearing of the current output cell\n",
              "var outputEl = gd.closest('.output');\n",
              "if (outputEl) {{\n",
              "    x.observe(outputEl, {childList: true});\n",
              "}}\n",
              "\n",
              "                        })                };                            </script>        </div>\n",
              "</body>\n",
              "</html>"
            ]
          },
          "metadata": {}
        }
      ],
      "id": "lu2yU9UCVf6P"
    },
    {
      "cell_type": "markdown",
      "source": [
        "Although there are not two distinct clusters of right and left-leaning news outlets, we can draw a line that separates them accurately. Therefore there seems to indeed be a difference in the quoting style of left and right leaning news outlets.\n",
        "\n"
      ],
      "metadata": {
        "id": "0BD43LoI47yU"
      },
      "id": "0BD43LoI47yU"
    },
    {
      "cell_type": "markdown",
      "source": [
        ""
      ],
      "metadata": {
        "id": "S44glR_R437m"
      },
      "id": "S44glR_R437m"
    },
    {
      "cell_type": "markdown",
      "source": [
        "**Conclusion part 4**\n",
        "Neither political leaning nor factual reporting rating completely account for the differences in factual reporting.\n"
      ],
      "metadata": {
        "id": "e2Oi7MzsRPw-"
      },
      "id": "e2Oi7MzsRPw-"
    },
    {
      "cell_type": "markdown",
      "source": [
        "### 5) Conclusion and outlook"
      ],
      "metadata": {
        "id": "RjPz8sTDltES"
      },
      "id": "RjPz8sTDltES"
    },
    {
      "cell_type": "markdown",
      "source": [
        "**Conclusion**\n",
        "\n",
        "Combiner les conclusions des 3 parties + dire que le political leaning ca permet de mieux grouper les quoting style que le factual reporting.\n",
        "\n",
        "**Autre chose?**"
      ],
      "metadata": {
        "id": "fe343nmWmCH4"
      },
      "id": "fe343nmWmCH4"
    },
    {
      "cell_type": "markdown",
      "source": [
        "**OUTLOOK**\n",
        "\n",
        "**A ajuster, j'ai écrit cette partie après avoir fait la partie 1 il y a genre 1 semaine, donc y'a sans doute des trucs qui ont changé**\n",
        "\n",
        "For analysis, we assesed the quoting style according to political leaning of speakers and news outlets between 2015 and 2020. However we believe that the elections (ie who is in power) will directly impact how major political players are quoted. We hypothesize the party in power will on average be quoted more, and in more negative terms because of the higher impact the party has on people's life.\n",
        "\n",
        "To confirm this hypothesis, it would be necessary to divide the analysis by presidential mendate periods (2012-2016, 2016-2020, 2020-present day) and assess whether there is an inversion in quote mean polarity score for Democratic and Republican speakers (and maybe length).\n",
        "\n",
        "****\n",
        "\n",
        "Another possible analysis would be to look at whether news outlets with a political orientation quote speakers with the same political orientation more positively in the months leading up to an election. Building on this idea, we could assess try to detect the bias of officially neutral news outlets by looking at the difference in the way they quote political candidates before an election (for example using US governors and senators)."
      ],
      "metadata": {
        "id": "PPzpW7Wul_RX"
      },
      "id": "PPzpW7Wul_RX"
    }
  ]
}